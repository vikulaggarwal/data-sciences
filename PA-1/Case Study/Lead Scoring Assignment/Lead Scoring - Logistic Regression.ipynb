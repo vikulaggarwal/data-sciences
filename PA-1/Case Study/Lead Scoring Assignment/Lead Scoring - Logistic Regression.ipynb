{
 "cells": [
  {
   "cell_type": "markdown",
   "metadata": {},
   "source": [
    "## Lead Scoring Case Study"
   ]
  },
  {
   "cell_type": "code",
   "execution_count": 1,
   "metadata": {
    "ExecuteTime": {
     "end_time": "2019-06-09T14:29:28.637895Z",
     "start_time": "2019-06-09T14:29:24.809685Z"
    }
   },
   "outputs": [],
   "source": [
    "# Supress Warnings\n",
    "import warnings\n",
    "warnings.filterwarnings('ignore')\n",
    "\n",
    "# Importing libraries for data manipulation\n",
    "import numpy as np\n",
    "import pandas as pd\n",
    "\n",
    "# Importing libraries for plotting\n",
    "import matplotlib.pyplot as plt\n",
    "import seaborn as sns\n",
    "from matplotlib.pyplot import xticks\n",
    "%matplotlib inline\n",
    "\n",
    "# Set pretty printing format for floats\n",
    "pd.set_option('float_format', '{:.2f}'.format)\n",
    "\n",
    "# To view all columns\n",
    "pd.set_option('display.max_columns', 999)\n",
    "\n",
    "# For train-test split\n",
    "from sklearn.model_selection import train_test_split\n",
    "\n",
    "# For scaling\n",
    "from sklearn.preprocessing import StandardScaler\n",
    "\n",
    "# For Stats Model\n",
    "import statsmodels.api as sm\n",
    "\n",
    "# For logistic Regression\n",
    "from sklearn.linear_model import LogisticRegression\n",
    "\n",
    "# For RFE\n",
    "from sklearn.feature_selection import RFE\n",
    "\n",
    "# Check for the VIF values of the feature variables. \n",
    "from statsmodels.stats.outliers_influence import variance_inflation_factor\n",
    "\n",
    "# For Confusion matrix\n",
    "from sklearn import metrics\n",
    "from sklearn.metrics import confusion_matrix\n",
    "\n",
    "# For precision score and recall score\n",
    "from sklearn.metrics import precision_score, recall_score\n",
    "\n",
    "# For Precision-Recall curve\n",
    "from sklearn.metrics import precision_recall_curve"
   ]
  },
  {
   "cell_type": "markdown",
   "metadata": {},
   "source": [
    "#### Reading the data into a dataframe"
   ]
  },
  {
   "cell_type": "code",
   "execution_count": 2,
   "metadata": {
    "ExecuteTime": {
     "end_time": "2019-06-09T14:29:43.331906Z",
     "start_time": "2019-06-09T14:29:43.238154Z"
    }
   },
   "outputs": [],
   "source": [
    "leads_df = pd.read_csv('Leads.csv')"
   ]
  },
  {
   "cell_type": "markdown",
   "metadata": {},
   "source": [
    "#### Inspecting the data"
   ]
  },
  {
   "cell_type": "code",
   "execution_count": 3,
   "metadata": {
    "ExecuteTime": {
     "end_time": "2019-06-09T14:29:45.208518Z",
     "start_time": "2019-06-09T14:29:45.135826Z"
    }
   },
   "outputs": [
    {
     "name": "stdout",
     "output_type": "stream",
     "text": [
      "<class 'pandas.core.frame.DataFrame'>\n",
      "RangeIndex: 9240 entries, 0 to 9239\n",
      "Data columns (total 37 columns):\n",
      "Prospect ID                                      9240 non-null object\n",
      "Lead Number                                      9240 non-null int64\n",
      "Lead Origin                                      9240 non-null object\n",
      "Lead Source                                      9204 non-null object\n",
      "Do Not Email                                     9240 non-null object\n",
      "Do Not Call                                      9240 non-null object\n",
      "Converted                                        9240 non-null int64\n",
      "TotalVisits                                      9103 non-null float64\n",
      "Total Time Spent on Website                      9240 non-null int64\n",
      "Page Views Per Visit                             9103 non-null float64\n",
      "Last Activity                                    9137 non-null object\n",
      "Country                                          6779 non-null object\n",
      "Specialization                                   7802 non-null object\n",
      "How did you hear about X Education               7033 non-null object\n",
      "What is your current occupation                  6550 non-null object\n",
      "What matters most to you in choosing a course    6531 non-null object\n",
      "Search                                           9240 non-null object\n",
      "Magazine                                         9240 non-null object\n",
      "Newspaper Article                                9240 non-null object\n",
      "X Education Forums                               9240 non-null object\n",
      "Newspaper                                        9240 non-null object\n",
      "Digital Advertisement                            9240 non-null object\n",
      "Through Recommendations                          9240 non-null object\n",
      "Receive More Updates About Our Courses           9240 non-null object\n",
      "Tags                                             5887 non-null object\n",
      "Lead Quality                                     4473 non-null object\n",
      "Update me on Supply Chain Content                9240 non-null object\n",
      "Get updates on DM Content                        9240 non-null object\n",
      "Lead Profile                                     6531 non-null object\n",
      "City                                             7820 non-null object\n",
      "Asymmetrique Activity Index                      5022 non-null object\n",
      "Asymmetrique Profile Index                       5022 non-null object\n",
      "Asymmetrique Activity Score                      5022 non-null float64\n",
      "Asymmetrique Profile Score                       5022 non-null float64\n",
      "I agree to pay the amount through cheque         9240 non-null object\n",
      "A free copy of Mastering The Interview           9240 non-null object\n",
      "Last Notable Activity                            9240 non-null object\n",
      "dtypes: float64(4), int64(3), object(30)\n",
      "memory usage: 2.6+ MB\n"
     ]
    }
   ],
   "source": [
    "# Checking the columns, column-types etc.\n",
    "leads_df.info()"
   ]
  },
  {
   "cell_type": "markdown",
   "metadata": {},
   "source": [
    "It can be seen that there are a lot of columns where the count of not null values is considerably fewer than the total counts."
   ]
  },
  {
   "cell_type": "code",
   "execution_count": 4,
   "metadata": {
    "ExecuteTime": {
     "end_time": "2019-06-09T14:29:49.414307Z",
     "start_time": "2019-06-09T14:29:49.384728Z"
    }
   },
   "outputs": [
    {
     "data": {
      "text/html": [
       "<div>\n",
       "<style scoped>\n",
       "    .dataframe tbody tr th:only-of-type {\n",
       "        vertical-align: middle;\n",
       "    }\n",
       "\n",
       "    .dataframe tbody tr th {\n",
       "        vertical-align: top;\n",
       "    }\n",
       "\n",
       "    .dataframe thead th {\n",
       "        text-align: right;\n",
       "    }\n",
       "</style>\n",
       "<table border=\"1\" class=\"dataframe\">\n",
       "  <thead>\n",
       "    <tr style=\"text-align: right;\">\n",
       "      <th></th>\n",
       "      <th>Prospect ID</th>\n",
       "      <th>Lead Number</th>\n",
       "      <th>Lead Origin</th>\n",
       "      <th>Lead Source</th>\n",
       "      <th>Do Not Email</th>\n",
       "      <th>Do Not Call</th>\n",
       "      <th>Converted</th>\n",
       "      <th>TotalVisits</th>\n",
       "      <th>Total Time Spent on Website</th>\n",
       "      <th>Page Views Per Visit</th>\n",
       "      <th>Last Activity</th>\n",
       "      <th>Country</th>\n",
       "      <th>Specialization</th>\n",
       "      <th>How did you hear about X Education</th>\n",
       "      <th>What is your current occupation</th>\n",
       "      <th>What matters most to you in choosing a course</th>\n",
       "      <th>Search</th>\n",
       "      <th>Magazine</th>\n",
       "      <th>Newspaper Article</th>\n",
       "      <th>X Education Forums</th>\n",
       "      <th>Newspaper</th>\n",
       "      <th>Digital Advertisement</th>\n",
       "      <th>Through Recommendations</th>\n",
       "      <th>Receive More Updates About Our Courses</th>\n",
       "      <th>Tags</th>\n",
       "      <th>Lead Quality</th>\n",
       "      <th>Update me on Supply Chain Content</th>\n",
       "      <th>Get updates on DM Content</th>\n",
       "      <th>Lead Profile</th>\n",
       "      <th>City</th>\n",
       "      <th>Asymmetrique Activity Index</th>\n",
       "      <th>Asymmetrique Profile Index</th>\n",
       "      <th>Asymmetrique Activity Score</th>\n",
       "      <th>Asymmetrique Profile Score</th>\n",
       "      <th>I agree to pay the amount through cheque</th>\n",
       "      <th>A free copy of Mastering The Interview</th>\n",
       "      <th>Last Notable Activity</th>\n",
       "    </tr>\n",
       "  </thead>\n",
       "  <tbody>\n",
       "  </tbody>\n",
       "</table>\n",
       "</div>"
      ],
      "text/plain": [
       "Empty DataFrame\n",
       "Columns: [Prospect ID, Lead Number, Lead Origin, Lead Source, Do Not Email, Do Not Call, Converted, TotalVisits, Total Time Spent on Website, Page Views Per Visit, Last Activity, Country, Specialization, How did you hear about X Education, What is your current occupation, What matters most to you in choosing a course, Search, Magazine, Newspaper Article, X Education Forums, Newspaper, Digital Advertisement, Through Recommendations, Receive More Updates About Our Courses, Tags, Lead Quality, Update me on Supply Chain Content, Get updates on DM Content, Lead Profile, City, Asymmetrique Activity Index, Asymmetrique Profile Index, Asymmetrique Activity Score, Asymmetrique Profile Score, I agree to pay the amount through cheque, A free copy of Mastering The Interview, Last Notable Activity]\n",
       "Index: []"
      ]
     },
     "execution_count": 4,
     "metadata": {},
     "output_type": "execute_result"
    }
   ],
   "source": [
    "# checking for duplicates\n",
    "leads_df[leads_df.duplicated(subset = 'Prospect ID')]"
   ]
  },
  {
   "cell_type": "markdown",
   "metadata": {},
   "source": [
    "There are no duplicates"
   ]
  },
  {
   "cell_type": "code",
   "execution_count": 5,
   "metadata": {
    "ExecuteTime": {
     "end_time": "2019-06-09T14:30:26.843995Z",
     "start_time": "2019-06-09T14:30:26.804892Z"
    }
   },
   "outputs": [
    {
     "data": {
      "text/plain": [
       "Specialization                        1942\n",
       "How did you hear about X Education    5043\n",
       "Lead Profile                          4146\n",
       "City                                  2249\n",
       "dtype: int64"
      ]
     },
     "execution_count": 5,
     "metadata": {},
     "output_type": "execute_result"
    }
   ],
   "source": [
    "# As mentioned in the problem statement, a lot of categorical columns have the value 'Select'. Checking for such counts\n",
    "select_values = leads_df.isin(['Select']).sum(axis=0)\n",
    "select_values[~select_values.isin([0])]"
   ]
  },
  {
   "cell_type": "code",
   "execution_count": 6,
   "metadata": {
    "ExecuteTime": {
     "end_time": "2019-06-09T14:30:28.892878Z",
     "start_time": "2019-06-09T14:30:28.841203Z"
    }
   },
   "outputs": [],
   "source": [
    "# Replacing the values 'Select' in categorical columns with nan\n",
    "leads_df = leads_df.replace('Select', np.nan)"
   ]
  },
  {
   "cell_type": "code",
   "execution_count": 7,
   "metadata": {
    "ExecuteTime": {
     "end_time": "2019-06-09T14:30:30.359264Z",
     "start_time": "2019-06-09T14:30:30.355755Z"
    }
   },
   "outputs": [],
   "source": [
    "# Columns to drop\n",
    "cols_to_drop = []"
   ]
  },
  {
   "cell_type": "code",
   "execution_count": 8,
   "metadata": {
    "ExecuteTime": {
     "end_time": "2019-06-09T14:30:33.514060Z",
     "start_time": "2019-06-09T14:30:33.467436Z"
    }
   },
   "outputs": [
    {
     "data": {
      "text/plain": [
       "Prospect ID                                      0.00\n",
       "Lead Number                                      0.00\n",
       "Lead Origin                                      0.00\n",
       "Lead Source                                      0.39\n",
       "Do Not Email                                     0.00\n",
       "Do Not Call                                      0.00\n",
       "Converted                                        0.00\n",
       "TotalVisits                                      1.48\n",
       "Total Time Spent on Website                      0.00\n",
       "Page Views Per Visit                             1.48\n",
       "Last Activity                                    1.11\n",
       "Country                                         26.63\n",
       "Specialization                                  36.58\n",
       "How did you hear about X Education              78.46\n",
       "What is your current occupation                 29.11\n",
       "What matters most to you in choosing a course   29.32\n",
       "Search                                           0.00\n",
       "Magazine                                         0.00\n",
       "Newspaper Article                                0.00\n",
       "X Education Forums                               0.00\n",
       "Newspaper                                        0.00\n",
       "Digital Advertisement                            0.00\n",
       "Through Recommendations                          0.00\n",
       "Receive More Updates About Our Courses           0.00\n",
       "Tags                                            36.29\n",
       "Lead Quality                                    51.59\n",
       "Update me on Supply Chain Content                0.00\n",
       "Get updates on DM Content                        0.00\n",
       "Lead Profile                                    74.19\n",
       "City                                            39.71\n",
       "Asymmetrique Activity Index                     45.65\n",
       "Asymmetrique Profile Index                      45.65\n",
       "Asymmetrique Activity Score                     45.65\n",
       "Asymmetrique Profile Score                      45.65\n",
       "I agree to pay the amount through cheque         0.00\n",
       "A free copy of Mastering The Interview           0.00\n",
       "Last Notable Activity                            0.00\n",
       "dtype: float64"
      ]
     },
     "execution_count": 8,
     "metadata": {},
     "output_type": "execute_result"
    }
   ],
   "source": [
    "# Checking null values %ages for all the columns\n",
    "round(100*(leads_df.isnull().sum()/len(leads_df.index)), 2)"
   ]
  },
  {
   "cell_type": "code",
   "execution_count": 9,
   "metadata": {
    "ExecuteTime": {
     "end_time": "2019-06-09T14:30:36.448686Z",
     "start_time": "2019-06-09T14:30:36.444173Z"
    }
   },
   "outputs": [],
   "source": [
    "# Columns with more than 70% of the values as null values can be dropped\n",
    "cols_to_drop.extend(['How did you hear about X Education','Lead Profile'])"
   ]
  },
  {
   "cell_type": "markdown",
   "metadata": {},
   "source": [
    "#### EDA"
   ]
  },
  {
   "cell_type": "markdown",
   "metadata": {},
   "source": [
    "We will now inspect the columns one by one"
   ]
  },
  {
   "cell_type": "code",
   "execution_count": 10,
   "metadata": {
    "ExecuteTime": {
     "end_time": "2019-06-09T14:30:38.626800Z",
     "start_time": "2019-06-09T14:30:38.600730Z"
    }
   },
   "outputs": [
    {
     "data": {
      "text/plain": [
       "Landing Page Submission    4886\n",
       "API                        3580\n",
       "Lead Add Form               718\n",
       "Lead Import                  55\n",
       "Quick Add Form                1\n",
       "Name: Lead Origin, dtype: int64"
      ]
     },
     "execution_count": 10,
     "metadata": {},
     "output_type": "execute_result"
    }
   ],
   "source": [
    "# Lead Origin\n",
    "leads_df['Lead Origin'].value_counts(dropna=False)"
   ]
  },
  {
   "cell_type": "markdown",
   "metadata": {},
   "source": [
    "Owing to the heterogeneousness of values and no null values, we'll keep this column as it is."
   ]
  },
  {
   "cell_type": "code",
   "execution_count": 11,
   "metadata": {
    "ExecuteTime": {
     "end_time": "2019-06-09T14:30:41.864564Z",
     "start_time": "2019-06-09T14:30:41.572284Z"
    }
   },
   "outputs": [
    {
     "data": {
      "image/png": "[encoded data removed]",
      "text/plain": [
       "<Figure size 864x360 with 1 Axes>"
      ]
     },
     "metadata": {
      "needs_background": "light"
     },
     "output_type": "display_data"
    }
   ],
   "source": [
    "# Plotting for conversion ratio according to 'Lead Origin'\n",
    "leads_lead_origin_group = leads_df.groupby(['Lead Origin','Converted'])\n",
    "lead_origin_df = pd.DataFrame(leads_lead_origin_group.Converted.count().unstack())\n",
    "lead_origin_plot = lead_origin_df.plot(kind='bar',title=\"Conversion by Lead Origin\",figsize=(12,5),rot=0)\n",
    "_ = lead_origin_plot.title.set_size(15)\n",
    "_ = lead_origin_plot.legend(['Not Converted','Converted'],bbox_to_anchor=(1.2, 1))\n",
    "_ = lead_origin_plot.set_xlabel(\"Lead Origin\",fontsize=12,fontweight='bold')\n",
    "_ = lead_origin_plot.set_ylabel(\"Total Number\",fontsize=12,fontweight='bold')"
   ]
  },
  {
   "cell_type": "markdown",
   "metadata": {},
   "source": [
    "API and Landing Page Submission have low conversion ratio, but high volume. Lead Add form has very high conversion ratio, but low volume."
   ]
  },
  {
   "cell_type": "code",
   "execution_count": 12,
   "metadata": {
    "ExecuteTime": {
     "end_time": "2019-06-09T14:30:44.803431Z",
     "start_time": "2019-06-09T14:30:44.794405Z"
    }
   },
   "outputs": [
    {
     "data": {
      "text/plain": [
       "Google               2868\n",
       "Direct Traffic       2543\n",
       "Olark Chat           1755\n",
       "Organic Search       1154\n",
       "Reference             534\n",
       "Welingak Website      142\n",
       "Referral Sites        125\n",
       "Facebook               55\n",
       "NaN                    36\n",
       "bing                    6\n",
       "google                  5\n",
       "Click2call              4\n",
       "Social Media            2\n",
       "Press_Release           2\n",
       "Live Chat               2\n",
       "testone                 1\n",
       "WeLearn                 1\n",
       "welearnblog_Home        1\n",
       "youtubechannel          1\n",
       "Pay per Click Ads       1\n",
       "NC_EDM                  1\n",
       "blog                    1\n",
       "Name: Lead Source, dtype: int64"
      ]
     },
     "execution_count": 12,
     "metadata": {},
     "output_type": "execute_result"
    }
   ],
   "source": [
    "# Lead Origin\n",
    "leads_df['Lead Source'].value_counts(dropna=False)"
   ]
  },
  {
   "cell_type": "code",
   "execution_count": 13,
   "metadata": {
    "ExecuteTime": {
     "end_time": "2019-06-09T14:30:47.456658Z",
     "start_time": "2019-06-09T14:30:47.450142Z"
    }
   },
   "outputs": [],
   "source": [
    "# Replacing the value 'google' with 'Google'\n",
    "leads_df['Lead Source'] = leads_df['Lead Source'].replace('google', 'Google')"
   ]
  },
  {
   "cell_type": "code",
   "execution_count": 14,
   "metadata": {
    "ExecuteTime": {
     "end_time": "2019-06-09T14:30:49.169933Z",
     "start_time": "2019-06-09T14:30:49.153890Z"
    }
   },
   "outputs": [
    {
     "data": {
      "text/plain": [
       "Lead Source        Converted\n",
       "Click2call         0            1\n",
       "                   1            3\n",
       "Live Chat          1            2\n",
       "NC_EDM             1            1\n",
       "Pay per Click Ads  0            1\n",
       "Press_Release      0            2\n",
       "Social Media       0            1\n",
       "                   1            1\n",
       "WeLearn            1            1\n",
       "bing               0            5\n",
       "                   1            1\n",
       "blog               0            1\n",
       "testone            0            1\n",
       "welearnblog_Home   0            1\n",
       "youtubechannel     0            1\n",
       "Name: Converted, dtype: int64"
      ]
     },
     "execution_count": 14,
     "metadata": {},
     "output_type": "execute_result"
    }
   ],
   "source": [
    "leads_df[leads_df['Lead Source'].isin(['bing','Click2call','Social Media','Live Chat','Press_Release','blog','WeLearn','testone','youtubechannel','welearnblog_Home','Pay per Click Ads','NC_EDM'])].groupby(['Lead Source','Converted']).Converted.count()"
   ]
  },
  {
   "cell_type": "markdown",
   "metadata": {},
   "source": [
    "It can be seen that only 9 leads were converted for these lead sources. We can drop these lead sources since the lead conversion is anyway very small."
   ]
  },
  {
   "cell_type": "code",
   "execution_count": 15,
   "metadata": {
    "ExecuteTime": {
     "end_time": "2019-06-09T14:30:53.296187Z",
     "start_time": "2019-06-09T14:30:53.285661Z"
    }
   },
   "outputs": [],
   "source": [
    "# Dropping rows with the above listed Lead Source values\n",
    "leads_df = leads_df[~leads_df['Lead Source'].isin(['bing','Click2call','Social Media','Live Chat','Press_Release','blog','WeLearn','testone','youtubechannel','welearnblog_Home','Pay per Click Ads','NC_EDM'])]"
   ]
  },
  {
   "cell_type": "code",
   "execution_count": 16,
   "metadata": {
    "ExecuteTime": {
     "end_time": "2019-06-09T14:30:55.880132Z",
     "start_time": "2019-06-09T14:30:55.525687Z"
    }
   },
   "outputs": [
    {
     "data": {
      "image/png": "[encoded data removed]",
      "text/plain": [
       "<Figure size 864x360 with 1 Axes>"
      ]
     },
     "metadata": {
      "needs_background": "light"
     },
     "output_type": "display_data"
    }
   ],
   "source": [
    "# Plotting for conversion ratio according to 'Lead Source'\n",
    "leads_lead_source_group = leads_df.groupby(['Lead Source','Converted'])\n",
    "lead_source_df = pd.DataFrame(leads_lead_source_group.Converted.count().unstack())\n",
    "lead_source_plot = lead_source_df.plot(kind='bar',title=\"Conversion by Lead Source\",figsize=(12,5),rot=0)\n",
    "_ = lead_source_plot.title.set_size(15)\n",
    "_ = lead_source_plot.legend(['Not Converted','Converted'],bbox_to_anchor=(1.2, 1))\n",
    "_ = lead_source_plot.set_xlabel(\"Lead Source\",fontsize=12,fontweight='bold')\n",
    "_ = lead_source_plot.set_ylabel(\"Total Number\",fontsize=12,fontweight='bold')"
   ]
  },
  {
   "cell_type": "markdown",
   "metadata": {},
   "source": [
    "Direct Traffic and Google have high volume of lead conversions. Conversion rates of leads through Reference and Welingak Website are high."
   ]
  },
  {
   "cell_type": "code",
   "execution_count": 17,
   "metadata": {
    "ExecuteTime": {
     "end_time": "2019-06-09T14:30:58.489436Z",
     "start_time": "2019-06-09T14:30:58.481414Z"
    }
   },
   "outputs": [
    {
     "data": {
      "text/plain": [
       "No     8486\n",
       "Yes     731\n",
       "Name: Do Not Email, dtype: int64"
      ]
     },
     "execution_count": 17,
     "metadata": {},
     "output_type": "execute_result"
    }
   ],
   "source": [
    "# Do Not Email\n",
    "leads_df['Do Not Email'].value_counts()"
   ]
  },
  {
   "cell_type": "code",
   "execution_count": 18,
   "metadata": {
    "ExecuteTime": {
     "end_time": "2019-06-09T14:31:00.393588Z",
     "start_time": "2019-06-09T14:31:00.179519Z"
    }
   },
   "outputs": [
    {
     "data": {
      "text/plain": [
       "Text(0, 0.5, 'Total Number')"
      ]
     },
     "execution_count": 18,
     "metadata": {},
     "output_type": "execute_result"
    },
    {
     "data": {
      "image/png": "[encoded data removed]",
      "text/plain": [
       "<Figure size 432x288 with 1 Axes>"
      ]
     },
     "metadata": {
      "needs_background": "light"
     },
     "output_type": "display_data"
    }
   ],
   "source": [
    "_ = sns.countplot(x = \"Do Not Email\", hue = \"Converted\", data = leads_df)\n",
    "_.set_title('Conversion by Do Not Email', fontsize=15)\n",
    "_.set_xlabel(\"Do Not Email\",fontsize=12,fontweight='bold')\n",
    "_.set_ylabel(\"Total Number\",fontsize=12,fontweight='bold')"
   ]
  },
  {
   "cell_type": "markdown",
   "metadata": {},
   "source": [
    "Leads who select 'Do Not Email' have a high volume of conversion."
   ]
  },
  {
   "cell_type": "markdown",
   "metadata": {},
   "source": [
    "'Do Not Email' column can be processed to have 1 for Yes and 0 for No"
   ]
  },
  {
   "cell_type": "code",
   "execution_count": 19,
   "metadata": {
    "ExecuteTime": {
     "end_time": "2019-06-09T14:31:24.816033Z",
     "start_time": "2019-06-09T14:31:24.753370Z"
    }
   },
   "outputs": [],
   "source": [
    "# Mapping Yes with 1 and No with 0 for 'Do Not Email'\n",
    "leads_df['Do Not Email'] = leads_df['Do Not Email'].map({\"Yes\": 1, \"No\": 0})"
   ]
  },
  {
   "cell_type": "code",
   "execution_count": 20,
   "metadata": {
    "ExecuteTime": {
     "end_time": "2019-06-09T14:31:29.527514Z",
     "start_time": "2019-06-09T14:31:29.519996Z"
    }
   },
   "outputs": [
    {
     "data": {
      "text/plain": [
       "No     9215\n",
       "Yes       2\n",
       "Name: Do Not Call, dtype: int64"
      ]
     },
     "execution_count": 20,
     "metadata": {},
     "output_type": "execute_result"
    }
   ],
   "source": [
    "# Do Not Call\n",
    "leads_df['Do Not Call'].value_counts()"
   ]
  },
  {
   "cell_type": "markdown",
   "metadata": {},
   "source": [
    "Only 2 values are 'Yes' and rest are 'No'. This column can be dropped."
   ]
  },
  {
   "cell_type": "code",
   "execution_count": 21,
   "metadata": {
    "ExecuteTime": {
     "end_time": "2019-06-09T14:31:32.120944Z",
     "start_time": "2019-06-09T14:31:32.117435Z"
    }
   },
   "outputs": [],
   "source": [
    "cols_to_drop.extend(['Do Not Call'])"
   ]
  },
  {
   "cell_type": "code",
   "execution_count": 22,
   "metadata": {
    "ExecuteTime": {
     "end_time": "2019-06-09T14:31:49.470555Z",
     "start_time": "2019-06-09T14:31:49.440475Z"
    }
   },
   "outputs": [
    {
     "data": {
      "text/plain": [
       "count   9080.00\n",
       "mean       3.45\n",
       "std        4.86\n",
       "min        0.00\n",
       "1%         0.00\n",
       "5%         0.00\n",
       "10%        0.00\n",
       "25%        1.00\n",
       "50%        3.00\n",
       "75%        5.00\n",
       "90%        7.00\n",
       "95%       10.00\n",
       "99%       17.00\n",
       "max      251.00\n",
       "Name: TotalVisits, dtype: float64"
      ]
     },
     "execution_count": 22,
     "metadata": {},
     "output_type": "execute_result"
    }
   ],
   "source": [
    "# TotalVisits\n",
    "# This is a numeric column, describing it\n",
    "leads_df.TotalVisits.describe(percentiles=[0.01,0.05,0.1,0.25,0.5,0.75,0.9,0.95,0.99])"
   ]
  },
  {
   "cell_type": "markdown",
   "metadata": {},
   "source": [
    "It can be observed that there are outliers in this data. Drawing a box plot can help visualize that."
   ]
  },
  {
   "cell_type": "code",
   "execution_count": 23,
   "metadata": {
    "ExecuteTime": {
     "end_time": "2019-06-09T14:31:55.069969Z",
     "start_time": "2019-06-09T14:31:54.848378Z"
    }
   },
   "outputs": [
    {
     "data": {
      "text/plain": [
       "<matplotlib.axes._subplots.AxesSubplot at 0x2192aa55940>"
      ]
     },
     "execution_count": 23,
     "metadata": {},
     "output_type": "execute_result"
    },
    {
     "data": {
      "image/png": "[encoded data removed]",
      "text/plain": [
       "<Figure size 288x432 with 1 Axes>"
      ]
     },
     "metadata": {
      "needs_background": "light"
     },
     "output_type": "display_data"
    }
   ],
   "source": [
    "plt.figure(figsize=(4, 6))\n",
    "sns.boxplot(y= 'TotalVisits', data=leads_df)"
   ]
  },
  {
   "cell_type": "markdown",
   "metadata": {},
   "source": [
    "This column needs outlier treatment."
   ]
  },
  {
   "cell_type": "code",
   "execution_count": 24,
   "metadata": {
    "ExecuteTime": {
     "end_time": "2019-06-09T14:31:58.383864Z",
     "start_time": "2019-06-09T14:31:58.379853Z"
    }
   },
   "outputs": [],
   "source": [
    "cols_with_outlier = []\n",
    "cols_with_outlier.extend(['TotalVisits'])"
   ]
  },
  {
   "cell_type": "code",
   "execution_count": 25,
   "metadata": {
    "ExecuteTime": {
     "end_time": "2019-06-09T14:32:01.601739Z",
     "start_time": "2019-06-09T14:32:01.586698Z"
    }
   },
   "outputs": [
    {
     "data": {
      "text/plain": [
       "count   9217.00\n",
       "mean     487.78\n",
       "std      548.33\n",
       "min        0.00\n",
       "1%         0.00\n",
       "5%         0.00\n",
       "10%        0.00\n",
       "25%       12.00\n",
       "50%      248.00\n",
       "75%      936.00\n",
       "90%     1380.00\n",
       "95%     1562.00\n",
       "99%     1840.84\n",
       "max     2272.00\n",
       "Name: Total Time Spent on Website, dtype: float64"
      ]
     },
     "execution_count": 25,
     "metadata": {},
     "output_type": "execute_result"
    }
   ],
   "source": [
    "# Total Time Spent on Website\n",
    "# This is a numeric column, describing it\n",
    "leads_df['Total Time Spent on Website'].describe(percentiles=[0.01,0.05,0.1,0.25,0.5,0.75,0.9,0.95,0.99])"
   ]
  },
  {
   "cell_type": "code",
   "execution_count": 26,
   "metadata": {
    "ExecuteTime": {
     "end_time": "2019-06-09T14:32:04.732066Z",
     "start_time": "2019-06-09T14:32:04.563148Z"
    }
   },
   "outputs": [
    {
     "data": {
      "text/plain": [
       "<matplotlib.axes._subplots.AxesSubplot at 0x2192ab26c50>"
      ]
     },
     "execution_count": 26,
     "metadata": {},
     "output_type": "execute_result"
    },
    {
     "data": {
      "image/png": "[encoded data removed]",
      "text/plain": [
       "<Figure size 288x432 with 1 Axes>"
      ]
     },
     "metadata": {
      "needs_background": "light"
     },
     "output_type": "display_data"
    }
   ],
   "source": [
    "plt.figure(figsize=(4, 6))\n",
    "sns.boxplot(y= 'Total Time Spent on Website', data=leads_df)"
   ]
  },
  {
   "cell_type": "markdown",
   "metadata": {},
   "source": [
    "There don't seem to be many outliers here. We can plot this variable with the break down for Converted for visualizing the conversion."
   ]
  },
  {
   "cell_type": "code",
   "execution_count": 27,
   "metadata": {
    "ExecuteTime": {
     "end_time": "2019-06-09T14:32:07.060377Z",
     "start_time": "2019-06-09T14:32:06.874381Z"
    }
   },
   "outputs": [
    {
     "data": {
      "image/png": "[encoded data removed]",
      "text/plain": [
       "<Figure size 576x360 with 1 Axes>"
      ]
     },
     "metadata": {
      "needs_background": "light"
     },
     "output_type": "display_data"
    }
   ],
   "source": [
    "# Plotting loan amount distribution for both types of loans across purposes\n",
    "plt.figure(figsize=(8, 5))\n",
    "g = sns.boxplot(y=\"Total Time Spent on Website\", x='Converted', data=leads_df)\n",
    "_ = g.set_xlabel(\"Converted\",fontsize=12,fontweight='bold')\n",
    "_ = g.set_ylabel(\"Total Time Spent on Website\",fontsize=12,fontweight='bold')\n",
    "plt.show()"
   ]
  },
  {
   "cell_type": "markdown",
   "metadata": {},
   "source": [
    "Leads spending more time on the website are more likely to convert."
   ]
  },
  {
   "cell_type": "code",
   "execution_count": 28,
   "metadata": {
    "ExecuteTime": {
     "end_time": "2019-06-09T14:32:09.880351Z",
     "start_time": "2019-06-09T14:32:09.865311Z"
    }
   },
   "outputs": [
    {
     "data": {
      "text/plain": [
       "count   9080.00\n",
       "mean       2.36\n",
       "std        2.16\n",
       "min        0.00\n",
       "1%         0.00\n",
       "5%         0.00\n",
       "10%        0.00\n",
       "25%        1.00\n",
       "50%        2.00\n",
       "75%        3.00\n",
       "90%        5.00\n",
       "95%        6.00\n",
       "99%        9.00\n",
       "max       55.00\n",
       "Name: Page Views Per Visit, dtype: float64"
      ]
     },
     "execution_count": 28,
     "metadata": {},
     "output_type": "execute_result"
    }
   ],
   "source": [
    "# Page Views Per Visit\n",
    "leads_df['Page Views Per Visit'].describe(percentiles=[0.01,0.05,0.1,0.25,0.5,0.75,0.9,0.95,0.99])"
   ]
  },
  {
   "cell_type": "markdown",
   "metadata": {},
   "source": [
    "This column also has outliers. Plotting a box-plot for visualisation."
   ]
  },
  {
   "cell_type": "code",
   "execution_count": 29,
   "metadata": {
    "ExecuteTime": {
     "end_time": "2019-06-09T14:32:12.791736Z",
     "start_time": "2019-06-09T14:32:12.622784Z"
    }
   },
   "outputs": [
    {
     "data": {
      "text/plain": [
       "<matplotlib.axes._subplots.AxesSubplot at 0x2192abbdcc0>"
      ]
     },
     "execution_count": 29,
     "metadata": {},
     "output_type": "execute_result"
    },
    {
     "data": {
      "image/png": "[encoded data removed]",
      "text/plain": [
       "<Figure size 288x432 with 1 Axes>"
      ]
     },
     "metadata": {
      "needs_background": "light"
     },
     "output_type": "display_data"
    }
   ],
   "source": [
    "plt.figure(figsize=(4, 6))\n",
    "sns.boxplot(y= 'Page Views Per Visit', data=leads_df)"
   ]
  },
  {
   "cell_type": "markdown",
   "metadata": {},
   "source": [
    "This column needs outlier treatment."
   ]
  },
  {
   "cell_type": "code",
   "execution_count": 30,
   "metadata": {
    "ExecuteTime": {
     "end_time": "2019-06-09T14:32:15.363273Z",
     "start_time": "2019-06-09T14:32:15.359764Z"
    }
   },
   "outputs": [],
   "source": [
    "cols_with_outlier.extend(['Page Views Per Visit'])"
   ]
  },
  {
   "cell_type": "code",
   "execution_count": 31,
   "metadata": {
    "ExecuteTime": {
     "end_time": "2019-06-09T14:32:17.183524Z",
     "start_time": "2019-06-09T14:32:16.741348Z"
    }
   },
   "outputs": [
    {
     "data": {
      "image/png": "[encoded data removed]",
      "text/plain": [
       "<Figure size 864x360 with 1 Axes>"
      ]
     },
     "metadata": {
      "needs_background": "light"
     },
     "output_type": "display_data"
    }
   ],
   "source": [
    "# Last Activity, Plotting to check conversion\n",
    "leads_last_activity_group = leads_df.groupby(['Last Activity','Converted'])\n",
    "lead_act_df = pd.DataFrame(leads_last_activity_group.Converted.count().unstack())\n",
    "lead_act_plot = lead_act_df.plot(kind='bar',title=\"Conversion by Last Activity\",figsize=(12,5),rot=90)\n",
    "_ = lead_act_plot.title.set_size(15)\n",
    "_ = lead_act_plot.legend(['Not Converted','Converted'],bbox_to_anchor=(1.2, 1))\n",
    "_ = lead_act_plot.set_xlabel(\"Last Activity\",fontsize=12,fontweight='bold')\n",
    "_ = lead_act_plot.set_ylabel(\"Total Number\",fontsize=12,fontweight='bold')"
   ]
  },
  {
   "cell_type": "markdown",
   "metadata": {},
   "source": [
    "Conversion rate for 'SMS Sent' is the highest. Email Opened last activity generate most number of leads."
   ]
  },
  {
   "cell_type": "code",
   "execution_count": 32,
   "metadata": {
    "ExecuteTime": {
     "end_time": "2019-06-09T14:32:32.372691Z",
     "start_time": "2019-06-09T14:32:32.361662Z"
    }
   },
   "outputs": [
    {
     "data": {
      "text/plain": [
       "India                   6475\n",
       "NaN                     2456\n",
       "United States             69\n",
       "United Arab Emirates      53\n",
       "Singapore                 24\n",
       "Saudi Arabia              21\n",
       "United Kingdom            15\n",
       "Australia                 13\n",
       "Qatar                     10\n",
       "Bahrain                    7\n",
       "Hong Kong                  7\n",
       "Oman                       6\n",
       "France                     6\n",
       "unknown                    5\n",
       "Germany                    4\n",
       "Kuwait                     4\n",
       "Nigeria                    4\n",
       "South Africa               4\n",
       "Canada                     3\n",
       "Sweden                     3\n",
       "China                      2\n",
       "Netherlands                2\n",
       "Bangladesh                 2\n",
       "Italy                      2\n",
       "Belgium                    2\n",
       "Philippines                2\n",
       "Ghana                      2\n",
       "Uganda                     2\n",
       "Asia/Pacific Region        2\n",
       "Kenya                      1\n",
       "Sri Lanka                  1\n",
       "Russia                     1\n",
       "Malaysia                   1\n",
       "Denmark                    1\n",
       "Indonesia                  1\n",
       "Vietnam                    1\n",
       "Switzerland                1\n",
       "Tanzania                   1\n",
       "Liberia                    1\n",
       "Name: Country, dtype: int64"
      ]
     },
     "execution_count": 32,
     "metadata": {},
     "output_type": "execute_result"
    }
   ],
   "source": [
    "# Country\n",
    "leads_df.Country.value_counts(dropna=False)"
   ]
  },
  {
   "cell_type": "markdown",
   "metadata": {},
   "source": [
    "Out of total 9240 records, only 6779 are not null. Out of 6779 not null values, 6475 are India.\n",
    "<br>This means only 3.3% of total and about 4.5% of not null records are countries other than India.\n",
    "<br>This column can be dropped since it's not adding much information."
   ]
  },
  {
   "cell_type": "code",
   "execution_count": 33,
   "metadata": {
    "ExecuteTime": {
     "end_time": "2019-06-09T14:32:35.401946Z",
     "start_time": "2019-06-09T14:32:35.396933Z"
    }
   },
   "outputs": [],
   "source": [
    "cols_to_drop.extend(['Country'])"
   ]
  },
  {
   "cell_type": "code",
   "execution_count": 34,
   "metadata": {
    "ExecuteTime": {
     "end_time": "2019-06-09T14:32:37.584258Z",
     "start_time": "2019-06-09T14:32:37.574733Z"
    }
   },
   "outputs": [
    {
     "data": {
      "text/plain": [
       "NaN                                  3374\n",
       "Finance Management                    975\n",
       "Human Resource Management             843\n",
       "Marketing Management                  836\n",
       "Operations Management                 501\n",
       "Business Administration               401\n",
       "IT Projects Management                366\n",
       "Supply Chain Management               347\n",
       "Banking, Investment And Insurance     338\n",
       "Media and Advertising                 202\n",
       "Travel and Tourism                    201\n",
       "International Business                178\n",
       "Healthcare Management                 159\n",
       "Hospitality Management                114\n",
       "E-COMMERCE                            112\n",
       "Retail Management                     100\n",
       "Rural and Agribusiness                 73\n",
       "E-Business                             57\n",
       "Services Excellence                    40\n",
       "Name: Specialization, dtype: int64"
      ]
     },
     "execution_count": 34,
     "metadata": {},
     "output_type": "execute_result"
    }
   ],
   "source": [
    "# Specialization\n",
    "leads_df.Specialization.value_counts(dropna=False)"
   ]
  },
  {
   "cell_type": "code",
   "execution_count": 35,
   "metadata": {
    "ExecuteTime": {
     "end_time": "2019-06-09T14:32:40.582964Z",
     "start_time": "2019-06-09T14:32:40.531825Z"
    }
   },
   "outputs": [],
   "source": [
    "# Replacing null values with 'Others'\n",
    "leads_df['Specialization'] = leads_df.Specialization.replace(np.nan, 'Others')"
   ]
  },
  {
   "cell_type": "code",
   "execution_count": 36,
   "metadata": {
    "ExecuteTime": {
     "end_time": "2019-06-09T14:32:43.698729Z",
     "start_time": "2019-06-09T14:32:43.213939Z"
    }
   },
   "outputs": [
    {
     "data": {
      "image/png": "[encoded data removed]",
      "text/plain": [
       "<Figure size 864x360 with 1 Axes>"
      ]
     },
     "metadata": {
      "needs_background": "light"
     },
     "output_type": "display_data"
    }
   ],
   "source": [
    "# Plotting for Conversion by Specialization\n",
    "leads_specialization_group = leads_df.groupby(['Specialization','Converted'])\n",
    "lead_spec_df = pd.DataFrame(leads_specialization_group.Converted.count().unstack())\n",
    "lead_spec_plot = lead_spec_df.plot(kind='bar',title=\"Conversion by Specialization\",figsize=(12,5),rot=90)\n",
    "_ = lead_spec_plot.title.set_size(15)\n",
    "_ = lead_spec_plot.legend(['Not Converted','Converted'],bbox_to_anchor=(1.2, 1))\n",
    "_ = lead_spec_plot.set_xlabel(\"Specialization\",fontsize=12,fontweight='bold')\n",
    "_ = lead_spec_plot.set_ylabel(\"Total Number\",fontsize=12,fontweight='bold')"
   ]
  },
  {
   "cell_type": "code",
   "execution_count": 37,
   "metadata": {
    "ExecuteTime": {
     "end_time": "2019-06-09T14:32:46.398228Z",
     "start_time": "2019-06-09T14:32:46.388201Z"
    }
   },
   "outputs": [
    {
     "data": {
      "text/plain": [
       "Unemployed              5585\n",
       "NaN                     2682\n",
       "Working Professional     706\n",
       "Student                  210\n",
       "Other                     16\n",
       "Housewife                 10\n",
       "Businessman                8\n",
       "Name: What is your current occupation, dtype: int64"
      ]
     },
     "execution_count": 37,
     "metadata": {},
     "output_type": "execute_result"
    }
   ],
   "source": [
    "# What is your current occupation\n",
    "leads_df['What is your current occupation'].value_counts(dropna=False)"
   ]
  },
  {
   "cell_type": "code",
   "execution_count": 38,
   "metadata": {
    "ExecuteTime": {
     "end_time": "2019-06-09T14:32:52.495285Z",
     "start_time": "2019-06-09T14:32:52.479741Z"
    }
   },
   "outputs": [
    {
     "data": {
      "text/plain": [
       "What is your current occupation  Converted\n",
       "Businessman                      0               3\n",
       "                                 1               5\n",
       "Housewife                        1              10\n",
       "Other                            0               6\n",
       "                                 1              10\n",
       "Student                          0             132\n",
       "                                 1              78\n",
       "Unemployed                       0            3152\n",
       "                                 1            2433\n",
       "Working Professional             0              59\n",
       "                                 1             647\n",
       "Name: Converted, dtype: int64"
      ]
     },
     "execution_count": 38,
     "metadata": {},
     "output_type": "execute_result"
    }
   ],
   "source": [
    "leads_df.groupby(['What is your current occupation','Converted']).Converted.count()"
   ]
  },
  {
   "cell_type": "markdown",
   "metadata": {},
   "source": [
    "Around 60% of total and 85% of not null values are 'Unemployed. Imputing the null values with a new category, \"Unspecified\"."
   ]
  },
  {
   "cell_type": "code",
   "execution_count": 39,
   "metadata": {
    "ExecuteTime": {
     "end_time": "2019-06-09T14:32:55.879209Z",
     "start_time": "2019-06-09T14:32:55.822059Z"
    }
   },
   "outputs": [],
   "source": [
    "leads_df['What is your current occupation'] = leads_df['What is your current occupation'].replace(np.nan, 'Unspecified')"
   ]
  },
  {
   "cell_type": "code",
   "execution_count": 40,
   "metadata": {
    "ExecuteTime": {
     "end_time": "2019-06-09T14:32:59.058100Z",
     "start_time": "2019-06-09T14:32:58.708668Z"
    }
   },
   "outputs": [
    {
     "data": {
      "image/png": "[encoded data removed]",
      "text/plain": [
       "<Figure size 432x288 with 1 Axes>"
      ]
     },
     "metadata": {
      "needs_background": "light"
     },
     "output_type": "display_data"
    }
   ],
   "source": [
    "# Plotting for conversion by 'What is your current occupation'\n",
    "_ = sns.countplot(x = \"What is your current occupation\", hue = \"Converted\", data = leads_df)\n",
    "_.set_title('Conversion by What is your current occupation', fontsize=15)\n",
    "_.set_xlabel(\"What is your current occupation\",fontsize=12,fontweight='bold')\n",
    "xticks(rotation = 90)\n",
    "__ = _.set_ylabel(\"Total Number\",fontsize=12,fontweight='bold')"
   ]
  },
  {
   "cell_type": "code",
   "execution_count": 41,
   "metadata": {
    "ExecuteTime": {
     "end_time": "2019-06-09T14:33:01.486943Z",
     "start_time": "2019-06-09T14:33:01.476916Z"
    }
   },
   "outputs": [
    {
     "data": {
      "text/plain": [
       "Better Career Prospects      6513\n",
       "NaN                          2701\n",
       "Flexibility & Convenience       2\n",
       "Other                           1\n",
       "Name: What matters most to you in choosing a course, dtype: int64"
      ]
     },
     "execution_count": 41,
     "metadata": {},
     "output_type": "execute_result"
    }
   ],
   "source": [
    "# What matters most to you in choosing a course\n",
    "leads_df['What matters most to you in choosing a course'].value_counts(dropna=False)"
   ]
  },
  {
   "cell_type": "markdown",
   "metadata": {},
   "source": [
    "~70% values are 'Better Career Prospects' and rest are null. This column can be dropped."
   ]
  },
  {
   "cell_type": "code",
   "execution_count": 42,
   "metadata": {
    "ExecuteTime": {
     "end_time": "2019-06-09T14:33:03.558881Z",
     "start_time": "2019-06-09T14:33:03.555374Z"
    }
   },
   "outputs": [],
   "source": [
    "cols_to_drop.extend(['What matters most to you in choosing a course'])"
   ]
  },
  {
   "cell_type": "code",
   "execution_count": 43,
   "metadata": {
    "ExecuteTime": {
     "end_time": "2019-06-09T14:33:06.037675Z",
     "start_time": "2019-06-09T14:33:06.028161Z"
    }
   },
   "outputs": [
    {
     "data": {
      "text/plain": [
       "No     9203\n",
       "Yes      14\n",
       "Name: Search, dtype: int64"
      ]
     },
     "execution_count": 43,
     "metadata": {},
     "output_type": "execute_result"
    }
   ],
   "source": [
    "# Search\n",
    "leads_df.Search.value_counts(dropna=False)"
   ]
  },
  {
   "cell_type": "markdown",
   "metadata": {
    "ExecuteTime": {
     "end_time": "2019-06-06T15:52:32.489668Z",
     "start_time": "2019-06-06T15:52:32.483653Z"
    }
   },
   "source": [
    "Almost ~100% values are 'No'. This column isn't adding much information and hence can be dropped."
   ]
  },
  {
   "cell_type": "code",
   "execution_count": 44,
   "metadata": {
    "ExecuteTime": {
     "end_time": "2019-06-09T14:33:08.883199Z",
     "start_time": "2019-06-09T14:33:08.878186Z"
    }
   },
   "outputs": [],
   "source": [
    "cols_to_drop.extend(['Search'])"
   ]
  },
  {
   "cell_type": "code",
   "execution_count": 45,
   "metadata": {
    "ExecuteTime": {
     "end_time": "2019-06-09T14:33:11.298795Z",
     "start_time": "2019-06-09T14:33:11.291275Z"
    }
   },
   "outputs": [
    {
     "data": {
      "text/plain": [
       "No    9217\n",
       "Name: Magazine, dtype: int64"
      ]
     },
     "execution_count": 45,
     "metadata": {},
     "output_type": "execute_result"
    }
   ],
   "source": [
    "# Magazine\n",
    "leads_df.Magazine.value_counts(dropna=False)"
   ]
  },
  {
   "cell_type": "markdown",
   "metadata": {},
   "source": [
    "All the values are No. This column isn't adding much information and hence can be dropped."
   ]
  },
  {
   "cell_type": "code",
   "execution_count": 46,
   "metadata": {
    "ExecuteTime": {
     "end_time": "2019-06-09T14:33:13.902382Z",
     "start_time": "2019-06-09T14:33:13.898370Z"
    }
   },
   "outputs": [],
   "source": [
    "cols_to_drop.extend(['Magazine'])"
   ]
  },
  {
   "cell_type": "code",
   "execution_count": 47,
   "metadata": {
    "ExecuteTime": {
     "end_time": "2019-06-09T14:33:15.439133Z",
     "start_time": "2019-06-09T14:33:15.428604Z"
    }
   },
   "outputs": [
    {
     "data": {
      "text/plain": [
       "No     9215\n",
       "Yes       2\n",
       "Name: Newspaper Article, dtype: int64"
      ]
     },
     "execution_count": 47,
     "metadata": {},
     "output_type": "execute_result"
    }
   ],
   "source": [
    "# Newspaper Article\n",
    "leads_df['Newspaper Article'].value_counts(dropna=False)"
   ]
  },
  {
   "cell_type": "markdown",
   "metadata": {},
   "source": [
    "All except 2 values are No. This column isn't adding much information and hence can be dropped."
   ]
  },
  {
   "cell_type": "code",
   "execution_count": 48,
   "metadata": {
    "ExecuteTime": {
     "end_time": "2019-06-09T14:33:22.712862Z",
     "start_time": "2019-06-09T14:33:22.708851Z"
    }
   },
   "outputs": [],
   "source": [
    "cols_to_drop.extend(['Newspaper Article'])"
   ]
  },
  {
   "cell_type": "code",
   "execution_count": 49,
   "metadata": {
    "ExecuteTime": {
     "end_time": "2019-06-09T14:33:27.292406Z",
     "start_time": "2019-06-09T14:33:27.280877Z"
    }
   },
   "outputs": [
    {
     "data": {
      "text/plain": [
       "No     9216\n",
       "Yes       1\n",
       "Name: X Education Forums, dtype: int64"
      ]
     },
     "execution_count": 49,
     "metadata": {},
     "output_type": "execute_result"
    }
   ],
   "source": [
    "# X Education Forums\n",
    "leads_df['X Education Forums'].value_counts(dropna=False)"
   ]
  },
  {
   "cell_type": "markdown",
   "metadata": {},
   "source": [
    "All except 1 values are No. This column isn't adding much information and hence can be dropped."
   ]
  },
  {
   "cell_type": "code",
   "execution_count": 50,
   "metadata": {
    "ExecuteTime": {
     "end_time": "2019-06-09T14:33:30.292828Z",
     "start_time": "2019-06-09T14:33:30.288818Z"
    }
   },
   "outputs": [],
   "source": [
    "cols_to_drop.extend(['X Education Forums'])"
   ]
  },
  {
   "cell_type": "code",
   "execution_count": 51,
   "metadata": {
    "ExecuteTime": {
     "end_time": "2019-06-09T14:33:31.863035Z",
     "start_time": "2019-06-09T14:33:31.848997Z"
    }
   },
   "outputs": [
    {
     "data": {
      "text/plain": [
       "No     9216\n",
       "Yes       1\n",
       "Name: Newspaper, dtype: int64"
      ]
     },
     "execution_count": 51,
     "metadata": {},
     "output_type": "execute_result"
    }
   ],
   "source": [
    "# Newspaper\n",
    "leads_df['Newspaper'].value_counts(dropna=False)"
   ]
  },
  {
   "cell_type": "markdown",
   "metadata": {},
   "source": [
    "All except 1 values are No. This column isn't adding much information and hence can be dropped."
   ]
  },
  {
   "cell_type": "code",
   "execution_count": 52,
   "metadata": {
    "ExecuteTime": {
     "end_time": "2019-06-09T14:33:34.837560Z",
     "start_time": "2019-06-09T14:33:34.834052Z"
    }
   },
   "outputs": [],
   "source": [
    "cols_to_drop.extend(['Newspaper'])"
   ]
  },
  {
   "cell_type": "code",
   "execution_count": 53,
   "metadata": {
    "ExecuteTime": {
     "end_time": "2019-06-09T14:33:36.318878Z",
     "start_time": "2019-06-09T14:33:36.310354Z"
    }
   },
   "outputs": [
    {
     "data": {
      "text/plain": [
       "No     9213\n",
       "Yes       4\n",
       "Name: Digital Advertisement, dtype: int64"
      ]
     },
     "execution_count": 53,
     "metadata": {},
     "output_type": "execute_result"
    }
   ],
   "source": [
    "# Digital Advertisement\n",
    "leads_df['Digital Advertisement'].value_counts(dropna=False)"
   ]
  },
  {
   "cell_type": "markdown",
   "metadata": {},
   "source": [
    "This column isn't adding much information and hence can be dropped."
   ]
  },
  {
   "cell_type": "code",
   "execution_count": 54,
   "metadata": {
    "ExecuteTime": {
     "end_time": "2019-06-09T14:33:39.235934Z",
     "start_time": "2019-06-09T14:33:39.229918Z"
    }
   },
   "outputs": [],
   "source": [
    "cols_to_drop.extend(['Digital Advertisement'])"
   ]
  },
  {
   "cell_type": "code",
   "execution_count": 55,
   "metadata": {
    "ExecuteTime": {
     "end_time": "2019-06-09T14:33:40.669783Z",
     "start_time": "2019-06-09T14:33:40.659758Z"
    }
   },
   "outputs": [
    {
     "data": {
      "text/plain": [
       "No     9210\n",
       "Yes       7\n",
       "Name: Through Recommendations, dtype: int64"
      ]
     },
     "execution_count": 55,
     "metadata": {},
     "output_type": "execute_result"
    }
   ],
   "source": [
    "# Through Recommendations\n",
    "leads_df['Through Recommendations'].value_counts(dropna=False)"
   ]
  },
  {
   "cell_type": "markdown",
   "metadata": {},
   "source": [
    "All except 7 values are No. This column isn't adding much information and hence can be dropped."
   ]
  },
  {
   "cell_type": "code",
   "execution_count": 56,
   "metadata": {
    "ExecuteTime": {
     "end_time": "2019-06-09T14:33:45.046250Z",
     "start_time": "2019-06-09T14:33:45.041741Z"
    }
   },
   "outputs": [],
   "source": [
    "cols_to_drop.extend(['Through Recommendations'])"
   ]
  },
  {
   "cell_type": "code",
   "execution_count": 57,
   "metadata": {
    "ExecuteTime": {
     "end_time": "2019-06-09T14:33:46.476986Z",
     "start_time": "2019-06-09T14:33:46.469466Z"
    }
   },
   "outputs": [
    {
     "data": {
      "text/plain": [
       "No    9217\n",
       "Name: Receive More Updates About Our Courses, dtype: int64"
      ]
     },
     "execution_count": 57,
     "metadata": {},
     "output_type": "execute_result"
    }
   ],
   "source": [
    "# Receive More Updates About Our Courses\n",
    "leads_df['Receive More Updates About Our Courses'].value_counts(dropna=False)"
   ]
  },
  {
   "cell_type": "markdown",
   "metadata": {},
   "source": [
    "All values are No. This column isn't adding much information and hence can be dropped."
   ]
  },
  {
   "cell_type": "code",
   "execution_count": 58,
   "metadata": {
    "ExecuteTime": {
     "end_time": "2019-06-09T14:33:49.243654Z",
     "start_time": "2019-06-09T14:33:49.239644Z"
    }
   },
   "outputs": [],
   "source": [
    "cols_to_drop.extend(['Receive More Updates About Our Courses'])"
   ]
  },
  {
   "cell_type": "code",
   "execution_count": 59,
   "metadata": {
    "ExecuteTime": {
     "end_time": "2019-06-09T14:33:51.406440Z",
     "start_time": "2019-06-09T14:33:51.395410Z"
    }
   },
   "outputs": [
    {
     "data": {
      "text/plain": [
       "NaN                                                  3343\n",
       "Will revert after reading the email                  2066\n",
       "Ringing                                              1202\n",
       "Interested in other courses                           512\n",
       "Already a student                                     462\n",
       "Closed by Horizzon                                    358\n",
       "switched off                                          240\n",
       "Busy                                                  186\n",
       "Lost to EINS                                          175\n",
       "Not doing further education                           144\n",
       "Interested  in full time MBA                          117\n",
       "Graduation in progress                                111\n",
       "invalid number                                         83\n",
       "Diploma holder (Not Eligible)                          63\n",
       "wrong number given                                     47\n",
       "opp hangup                                             33\n",
       "number not provided                                    27\n",
       "in touch with EINS                                     12\n",
       "Lost to Others                                          7\n",
       "Still Thinking                                          6\n",
       "Interested in Next batch                                5\n",
       "In confusion whether part time or DLP                   5\n",
       "Want to take admission but has financial problems       5\n",
       "Lateral student                                         3\n",
       "University not recognized                               2\n",
       "Shall take in the next coming month                     2\n",
       "Recognition issue (DEC approval)                        1\n",
       "Name: Tags, dtype: int64"
      ]
     },
     "execution_count": 59,
     "metadata": {},
     "output_type": "execute_result"
    }
   ],
   "source": [
    "# Tags\n",
    "leads_df['Tags'].value_counts(dropna=False)"
   ]
  },
  {
   "cell_type": "code",
   "execution_count": 60,
   "metadata": {
    "ExecuteTime": {
     "end_time": "2019-06-09T14:33:54.700943Z",
     "start_time": "2019-06-09T14:33:54.631757Z"
    }
   },
   "outputs": [],
   "source": [
    "# There are a lot of null values, imputing them with 'Unspecified'\n",
    "leads_df['Tags'] = leads_df['Tags'].replace(np.nan, 'Unspecified')"
   ]
  },
  {
   "cell_type": "code",
   "execution_count": 61,
   "metadata": {
    "ExecuteTime": {
     "end_time": "2019-06-09T14:33:56.842480Z",
     "start_time": "2019-06-09T14:33:56.220823Z"
    }
   },
   "outputs": [
    {
     "data": {
      "image/png": "[encoded data removed]",
      "text/plain": [
       "<Figure size 864x432 with 1 Axes>"
      ]
     },
     "metadata": {
      "needs_background": "light"
     },
     "output_type": "display_data"
    }
   ],
   "source": [
    "# Plotting for conversion by 'What is your current occupation'\n",
    "plt.figure(figsize=(12, 6))\n",
    "_ = sns.countplot(x = \"Tags\", hue = \"Converted\", data = leads_df)\n",
    "_.set_title('Conversion by Tags', fontsize=15)\n",
    "_.set_xlabel(\"Tags\",fontsize=12,fontweight='bold')\n",
    "xticks(rotation = 90)\n",
    "__ = _.set_ylabel(\"Total Number\",fontsize=12,fontweight='bold')"
   ]
  },
  {
   "cell_type": "markdown",
   "metadata": {},
   "source": [
    "There are some categories like University not recognized, Recognition issue (DEC approval), Lost to Others, wrong number given, number not provided, invalid number etc which almost never convert"
   ]
  },
  {
   "cell_type": "code",
   "execution_count": 62,
   "metadata": {
    "ExecuteTime": {
     "end_time": "2019-06-09T14:34:02.991884Z",
     "start_time": "2019-06-09T14:34:02.982862Z"
    }
   },
   "outputs": [
    {
     "data": {
      "text/plain": [
       "NaN                  4754\n",
       "Might be             1557\n",
       "Not Sure             1090\n",
       "High in Relevance     636\n",
       "Worst                 599\n",
       "Low in Relevance      581\n",
       "Name: Lead Quality, dtype: int64"
      ]
     },
     "execution_count": 62,
     "metadata": {},
     "output_type": "execute_result"
    }
   ],
   "source": [
    "# Lead Quality\n",
    "leads_df['Lead Quality'].value_counts(dropna=False)"
   ]
  },
  {
   "cell_type": "markdown",
   "metadata": {},
   "source": [
    "There are null values. Null can be replaced with 'Unspecified', which is equivalent to Not Sure.\n",
    "<br>Replacing null values with 'Not Sure'"
   ]
  },
  {
   "cell_type": "code",
   "execution_count": 63,
   "metadata": {
    "ExecuteTime": {
     "end_time": "2019-06-09T14:34:08.070877Z",
     "start_time": "2019-06-09T14:34:08.011186Z"
    }
   },
   "outputs": [],
   "source": [
    "leads_df['Lead Quality'] = leads_df['Lead Quality'].replace(np.nan, 'Not Sure')"
   ]
  },
  {
   "cell_type": "code",
   "execution_count": 64,
   "metadata": {
    "ExecuteTime": {
     "end_time": "2019-06-09T14:34:09.849217Z",
     "start_time": "2019-06-09T14:34:09.593033Z"
    }
   },
   "outputs": [
    {
     "data": {
      "image/png": "[encoded data removed]",
      "text/plain": [
       "<Figure size 432x288 with 1 Axes>"
      ]
     },
     "metadata": {
      "needs_background": "light"
     },
     "output_type": "display_data"
    }
   ],
   "source": [
    "# Plotting for conversion by Lead Quality\n",
    "_ = sns.countplot(x = \"Lead Quality\", hue = \"Converted\", data = leads_df)\n",
    "_.set_title('Conversion by Lead Quality', fontsize=15)\n",
    "_.set_xlabel(\"Lead Quality\",fontsize=12,fontweight='bold')\n",
    "__ = _.set_ylabel(\"Total Number\",fontsize=12,fontweight='bold')"
   ]
  },
  {
   "cell_type": "markdown",
   "metadata": {},
   "source": [
    "Might be has the highest Conversion ratio. Low in Relevance and High in Relevance have more Converted leads than not Converted. Rest types have low conversion ratio."
   ]
  },
  {
   "cell_type": "code",
   "execution_count": 65,
   "metadata": {
    "ExecuteTime": {
     "end_time": "2019-06-09T14:34:13.563602Z",
     "start_time": "2019-06-09T14:34:13.554075Z"
    }
   },
   "outputs": [
    {
     "data": {
      "text/plain": [
       "No    9217\n",
       "Name: Update me on Supply Chain Content, dtype: int64"
      ]
     },
     "execution_count": 65,
     "metadata": {},
     "output_type": "execute_result"
    }
   ],
   "source": [
    "# Update me on Supply Chain Content\n",
    "leads_df['Update me on Supply Chain Content'].value_counts()"
   ]
  },
  {
   "cell_type": "markdown",
   "metadata": {},
   "source": [
    "All values are No. This column isn't adding much information and hence can be dropped."
   ]
  },
  {
   "cell_type": "code",
   "execution_count": 66,
   "metadata": {
    "ExecuteTime": {
     "end_time": "2019-06-09T14:34:15.624517Z",
     "start_time": "2019-06-09T14:34:15.621007Z"
    }
   },
   "outputs": [],
   "source": [
    "cols_to_drop.extend(['Update me on Supply Chain Content'])"
   ]
  },
  {
   "cell_type": "code",
   "execution_count": 67,
   "metadata": {
    "ExecuteTime": {
     "end_time": "2019-06-09T14:34:18.586292Z",
     "start_time": "2019-06-09T14:34:18.576766Z"
    }
   },
   "outputs": [
    {
     "data": {
      "text/plain": [
       "No    9217\n",
       "Name: Get updates on DM Content, dtype: int64"
      ]
     },
     "execution_count": 67,
     "metadata": {},
     "output_type": "execute_result"
    }
   ],
   "source": [
    "# Get updates on DM Content\n",
    "leads_df['Get updates on DM Content'].value_counts()"
   ]
  },
  {
   "cell_type": "markdown",
   "metadata": {
    "ExecuteTime": {
     "end_time": "2019-06-06T16:08:54.245129Z",
     "start_time": "2019-06-06T16:08:54.239112Z"
    }
   },
   "source": [
    "All values are No. This column isn't adding much information and hence can be dropped."
   ]
  },
  {
   "cell_type": "code",
   "execution_count": 68,
   "metadata": {
    "ExecuteTime": {
     "end_time": "2019-06-09T14:34:20.256033Z",
     "start_time": "2019-06-09T14:34:20.252522Z"
    }
   },
   "outputs": [],
   "source": [
    "cols_to_drop.extend(['Get updates on DM Content'])"
   ]
  },
  {
   "cell_type": "code",
   "execution_count": 69,
   "metadata": {
    "ExecuteTime": {
     "end_time": "2019-06-09T14:34:23.312774Z",
     "start_time": "2019-06-09T14:34:23.300741Z"
    }
   },
   "outputs": [
    {
     "data": {
      "text/plain": [
       "NaN                            3660\n",
       "Mumbai                         3214\n",
       "Thane & Outskirts               748\n",
       "Other Cities                    685\n",
       "Other Cities of Maharashtra     456\n",
       "Other Metro Cities              380\n",
       "Tier II Cities                   74\n",
       "Name: City, dtype: int64"
      ]
     },
     "execution_count": 69,
     "metadata": {},
     "output_type": "execute_result"
    }
   ],
   "source": [
    "# City\n",
    "leads_df['City'].value_counts(dropna=False)"
   ]
  },
  {
   "cell_type": "code",
   "execution_count": 70,
   "metadata": {
    "ExecuteTime": {
     "end_time": "2019-06-09T14:34:26.656191Z",
     "start_time": "2019-06-09T14:34:26.588010Z"
    }
   },
   "outputs": [],
   "source": [
    "# There are a lot of null values, imputing them with 'Unspecified'\n",
    "leads_df['City'] = leads_df['City'].replace(np.nan, 'Unspecified')"
   ]
  },
  {
   "cell_type": "code",
   "execution_count": 71,
   "metadata": {
    "ExecuteTime": {
     "end_time": "2019-06-09T14:34:28.202882Z",
     "start_time": "2019-06-09T14:34:27.884534Z"
    }
   },
   "outputs": [
    {
     "data": {
      "image/png": "[encoded data removed]",
      "text/plain": [
       "<Figure size 864x432 with 1 Axes>"
      ]
     },
     "metadata": {
      "needs_background": "light"
     },
     "output_type": "display_data"
    }
   ],
   "source": [
    "# Plotting for conversion by 'What is your current occupation'\n",
    "plt.figure(figsize=(12, 6))\n",
    "_ = sns.countplot(x = \"City\", hue = \"Converted\", data = leads_df)\n",
    "_.set_title('Conversion by City', fontsize=15)\n",
    "_.set_xlabel(\"City\",fontsize=12,fontweight='bold')\n",
    "xticks(rotation = 60)\n",
    "__ = _.set_ylabel(\"Total Number\",fontsize=12,fontweight='bold')"
   ]
  },
  {
   "cell_type": "markdown",
   "metadata": {},
   "source": [
    "Following columns have 45.65% values as null values\n",
    "<br>Asymmetrique Activity Index\n",
    "<br>Asymmetrique Profile Index \n",
    "<br>Asymmetrique Activity Score\n",
    "<br>Asymmetrique Profile Score"
   ]
  },
  {
   "cell_type": "code",
   "execution_count": 72,
   "metadata": {
    "ExecuteTime": {
     "end_time": "2019-06-09T14:34:30.967630Z",
     "start_time": "2019-06-09T14:34:30.952089Z"
    }
   },
   "outputs": [
    {
     "data": {
      "text/plain": [
       "Asymmetrique Activity Index  Converted\n",
       "01.High                      0             574\n",
       "                             1             243\n",
       "02.Medium                    0            2204\n",
       "                             1            1626\n",
       "03.Low                       0             329\n",
       "                             1              33\n",
       "Name: Converted, dtype: int64"
      ]
     },
     "execution_count": 72,
     "metadata": {},
     "output_type": "execute_result"
    }
   ],
   "source": [
    "# Asymmetrique Activity Index\n",
    "leads_df.groupby(['Asymmetrique Activity Index','Converted']).Converted.count()"
   ]
  },
  {
   "cell_type": "code",
   "execution_count": 73,
   "metadata": {
    "ExecuteTime": {
     "end_time": "2019-06-09T14:34:32.899362Z",
     "start_time": "2019-06-09T14:34:32.883821Z"
    }
   },
   "outputs": [
    {
     "data": {
      "text/plain": [
       "Asymmetrique Profile Index  Converted\n",
       "01.High                     0            1155\n",
       "                            1            1042\n",
       "02.Medium                   0            1937\n",
       "                            1             845\n",
       "03.Low                      0              15\n",
       "                            1              15\n",
       "Name: Converted, dtype: int64"
      ]
     },
     "execution_count": 73,
     "metadata": {},
     "output_type": "execute_result"
    }
   ],
   "source": [
    "# Asymmetrique Profile Index\n",
    "leads_df.groupby(['Asymmetrique Profile Index','Converted']).Converted.count()"
   ]
  },
  {
   "cell_type": "code",
   "execution_count": 74,
   "metadata": {
    "ExecuteTime": {
     "end_time": "2019-06-09T14:34:35.232673Z",
     "start_time": "2019-06-09T14:34:35.219636Z"
    }
   },
   "outputs": [
    {
     "data": {
      "text/plain": [
       "Asymmetrique Activity Score  Converted\n",
       "7.00                         0               1\n",
       "8.00                         0               4\n",
       "9.00                         0               9\n",
       "10.00                        0              54\n",
       "                             1               3\n",
       "11.00                        0              88\n",
       "                             1               7\n",
       "12.00                        0             173\n",
       "                             1              23\n",
       "13.00                        0             677\n",
       "                             1              98\n",
       "14.00                        0            1058\n",
       "                             1             709\n",
       "15.00                        0             469\n",
       "                             1             819\n",
       "16.00                        0             239\n",
       "                             1             226\n",
       "17.00                        0             331\n",
       "                             1              17\n",
       "18.00                        0               4\n",
       "Name: Converted, dtype: int64"
      ]
     },
     "execution_count": 74,
     "metadata": {},
     "output_type": "execute_result"
    }
   ],
   "source": [
    "# Asymmetrique Activity Score\n",
    "leads_df.groupby(['Asymmetrique Activity Score','Converted']).Converted.count()"
   ]
  },
  {
   "cell_type": "code",
   "execution_count": 75,
   "metadata": {
    "ExecuteTime": {
     "end_time": "2019-06-09T14:34:38.827573Z",
     "start_time": "2019-06-09T14:34:38.813034Z"
    }
   },
   "outputs": [
    {
     "data": {
      "text/plain": [
       "Asymmetrique Profile Score  Converted\n",
       "11.00                       0               4\n",
       "                            1               5\n",
       "12.00                       0              11\n",
       "                            1              10\n",
       "13.00                       0             156\n",
       "                            1              48\n",
       "14.00                       0             169\n",
       "                            1              56\n",
       "15.00                       0            1258\n",
       "                            1             500\n",
       "16.00                       0             354\n",
       "                            1             241\n",
       "17.00                       0             316\n",
       "                            1             259\n",
       "18.00                       0             687\n",
       "                            1             383\n",
       "19.00                       0              62\n",
       "                            1             182\n",
       "20.00                       0              90\n",
       "                            1             218\n",
       "Name: Converted, dtype: int64"
      ]
     },
     "execution_count": 75,
     "metadata": {},
     "output_type": "execute_result"
    }
   ],
   "source": [
    "# Asymmetrique Activity Score\n",
    "leads_df.groupby(['Asymmetrique Profile Score','Converted']).Converted.count()"
   ]
  },
  {
   "cell_type": "markdown",
   "metadata": {},
   "source": [
    "These columns can be dropped."
   ]
  },
  {
   "cell_type": "code",
   "execution_count": 76,
   "metadata": {
    "ExecuteTime": {
     "end_time": "2019-06-09T14:34:41.391764Z",
     "start_time": "2019-06-09T14:34:41.387752Z"
    }
   },
   "outputs": [],
   "source": [
    "cols_to_drop.extend(['Asymmetrique Activity Index','Asymmetrique Profile Index','Asymmetrique Activity Score','Asymmetrique Profile Score'])"
   ]
  },
  {
   "cell_type": "code",
   "execution_count": 77,
   "metadata": {
    "ExecuteTime": {
     "end_time": "2019-06-09T14:34:43.421120Z",
     "start_time": "2019-06-09T14:34:43.411594Z"
    }
   },
   "outputs": [
    {
     "data": {
      "text/plain": [
       "No    9217\n",
       "Name: I agree to pay the amount through cheque, dtype: int64"
      ]
     },
     "execution_count": 77,
     "metadata": {},
     "output_type": "execute_result"
    }
   ],
   "source": [
    "# I agree to pay the amount through cheque\n",
    "leads_df['I agree to pay the amount through cheque'].value_counts()"
   ]
  },
  {
   "cell_type": "markdown",
   "metadata": {},
   "source": [
    "All values are No. This column isn't adding much information and hence can be dropped."
   ]
  },
  {
   "cell_type": "code",
   "execution_count": 78,
   "metadata": {
    "ExecuteTime": {
     "end_time": "2019-06-09T14:35:01.415486Z",
     "start_time": "2019-06-09T14:35:01.410975Z"
    }
   },
   "outputs": [],
   "source": [
    "cols_to_drop.extend(['I agree to pay the amount through cheque'])"
   ]
  },
  {
   "cell_type": "code",
   "execution_count": 79,
   "metadata": {
    "ExecuteTime": {
     "end_time": "2019-06-09T14:35:02.910832Z",
     "start_time": "2019-06-09T14:35:02.900304Z"
    }
   },
   "outputs": [
    {
     "data": {
      "text/plain": [
       "No     6333\n",
       "Yes    2884\n",
       "Name: A free copy of Mastering The Interview, dtype: int64"
      ]
     },
     "execution_count": 79,
     "metadata": {},
     "output_type": "execute_result"
    }
   ],
   "source": [
    "# A free copy of Mastering The Interview\n",
    "leads_df['A free copy of Mastering The Interview'].value_counts()"
   ]
  },
  {
   "cell_type": "markdown",
   "metadata": {
    "ExecuteTime": {
     "end_time": "2019-06-09T06:36:47.845920Z",
     "start_time": "2019-06-09T06:36:47.832886Z"
    }
   },
   "source": [
    "The categorical values can be mapped as 1 for Yes and 0 for No"
   ]
  },
  {
   "cell_type": "code",
   "execution_count": 80,
   "metadata": {
    "ExecuteTime": {
     "end_time": "2019-06-09T14:35:06.478823Z",
     "start_time": "2019-06-09T14:35:06.412144Z"
    }
   },
   "outputs": [],
   "source": [
    "leads_df['A free copy of Mastering The Interview'] = leads_df['A free copy of Mastering The Interview'].map({\"Yes\": 1, \"No\": 0})"
   ]
  },
  {
   "cell_type": "code",
   "execution_count": 81,
   "metadata": {
    "ExecuteTime": {
     "end_time": "2019-06-09T14:35:12.727325Z",
     "start_time": "2019-06-09T14:35:12.717298Z"
    }
   },
   "outputs": [
    {
     "data": {
      "text/plain": [
       "Modified                        3399\n",
       "Email Opened                    2818\n",
       "SMS Sent                        2169\n",
       "Page Visited on Website          316\n",
       "Olark Chat Conversation          183\n",
       "Email Link Clicked               173\n",
       "Email Bounced                     60\n",
       "Unsubscribed                      46\n",
       "Unreachable                       32\n",
       "Had a Phone Conversation          14\n",
       "Email Marked Spam                  2\n",
       "Email Received                     1\n",
       "View in browser link Clicked       1\n",
       "Form Submitted on Website          1\n",
       "Approached upfront                 1\n",
       "Resubscribed to emails             1\n",
       "Name: Last Notable Activity, dtype: int64"
      ]
     },
     "execution_count": 81,
     "metadata": {},
     "output_type": "execute_result"
    }
   ],
   "source": [
    "# Last Notable Activity\n",
    "leads_df['Last Notable Activity'].value_counts()"
   ]
  },
  {
   "cell_type": "code",
   "execution_count": 82,
   "metadata": {
    "ExecuteTime": {
     "end_time": "2019-06-09T14:35:15.435184Z",
     "start_time": "2019-06-09T14:35:15.421146Z"
    }
   },
   "outputs": [
    {
     "data": {
      "text/plain": [
       "Last Notable Activity         Converted\n",
       "Approached upfront            1               1\n",
       "Email Bounced                 0              51\n",
       "                              1               9\n",
       "Email Link Clicked            0             128\n",
       "                              1              45\n",
       "Email Marked Spam             1               2\n",
       "Email Opened                  0            1778\n",
       "                              1            1040\n",
       "Email Received                1               1\n",
       "Form Submitted on Website     0               1\n",
       "Had a Phone Conversation      0               1\n",
       "                              1              13\n",
       "Modified                      0            2617\n",
       "                              1             782\n",
       "Olark Chat Conversation       0             158\n",
       "                              1              25\n",
       "Page Visited on Website       0             224\n",
       "                              1              92\n",
       "Resubscribed to emails        1               1\n",
       "SMS Sent                      0             664\n",
       "                              1            1505\n",
       "Unreachable                   0              10\n",
       "                              1              22\n",
       "Unsubscribed                  0              32\n",
       "                              1              14\n",
       "View in browser link Clicked  0               1\n",
       "Name: Converted, dtype: int64"
      ]
     },
     "execution_count": 82,
     "metadata": {},
     "output_type": "execute_result"
    }
   ],
   "source": [
    "leads_df.groupby(['Last Notable Activity','Converted']).Converted.count()"
   ]
  },
  {
   "cell_type": "code",
   "execution_count": 83,
   "metadata": {
    "ExecuteTime": {
     "end_time": "2019-06-09T14:35:18.925940Z",
     "start_time": "2019-06-09T14:35:18.477745Z"
    }
   },
   "outputs": [
    {
     "data": {
      "image/png": "[encoded data removed]",
      "text/plain": [
       "<Figure size 864x360 with 1 Axes>"
      ]
     },
     "metadata": {
      "needs_background": "light"
     },
     "output_type": "display_data"
    }
   ],
   "source": [
    "# Plotting for conversion by Last Notable Activity\n",
    "leads_lna_group = leads_df.groupby(['Last Notable Activity','Converted'])\n",
    "lead_lna_df = pd.DataFrame(leads_lna_group.Converted.count().unstack())\n",
    "lead_lna_plot = lead_lna_df.plot(kind='bar',title=\"Conversion by Last Notable Activity\",figsize=(12,5),rot=90)\n",
    "_ = lead_lna_plot.title.set_size(15)\n",
    "_ = lead_lna_plot.legend(['Not Converted','Converted'],bbox_to_anchor=(1.2, 1))\n",
    "_ = lead_lna_plot.set_xlabel(\"Last Notable Activity\",fontsize=12,fontweight='bold')\n",
    "_ = lead_lna_plot.set_ylabel(\"Total Number\",fontsize=12,fontweight='bold')"
   ]
  },
  {
   "cell_type": "markdown",
   "metadata": {
    "ExecuteTime": {
     "end_time": "2019-06-08T07:08:26.782567Z",
     "start_time": "2019-06-08T07:08:26.776550Z"
    }
   },
   "source": [
    "After the above analysis, dropping the columns which aren't adding much information."
   ]
  },
  {
   "cell_type": "code",
   "execution_count": 84,
   "metadata": {
    "ExecuteTime": {
     "end_time": "2019-06-09T14:36:17.189619Z",
     "start_time": "2019-06-09T14:36:17.120936Z"
    }
   },
   "outputs": [],
   "source": [
    "leads_df.drop(columns=cols_to_drop, axis=1, inplace=True)"
   ]
  },
  {
   "cell_type": "markdown",
   "metadata": {
    "ExecuteTime": {
     "end_time": "2019-06-08T07:11:35.581012Z",
     "start_time": "2019-06-08T07:11:35.508821Z"
    }
   },
   "source": [
    "Performing outlier treatment for columns with outliers. Using 5th percentile for lower bound and 95th percentile for upper bound."
   ]
  },
  {
   "cell_type": "code",
   "execution_count": 85,
   "metadata": {
    "ExecuteTime": {
     "end_time": "2019-06-09T14:36:19.808092Z",
     "start_time": "2019-06-09T14:36:19.163375Z"
    }
   },
   "outputs": [],
   "source": [
    "for col in cols_with_outlier:\n",
    "    quantile_5th = leads_df[col].quantile(0.05)\n",
    "    quantile_95th = leads_df[col].quantile(0.95)\n",
    "    leads_df[col][leads_df[col] <= quantile_5th] = quantile_5th\n",
    "    leads_df[col][leads_df[col] >= quantile_95th] = quantile_95th"
   ]
  },
  {
   "cell_type": "code",
   "execution_count": 86,
   "metadata": {
    "ExecuteTime": {
     "end_time": "2019-06-09T14:36:22.249121Z",
     "start_time": "2019-06-09T14:36:22.232074Z"
    }
   },
   "outputs": [
    {
     "data": {
      "text/plain": [
       "Prospect ID                              0.00\n",
       "Lead Number                              0.00\n",
       "Lead Origin                              0.00\n",
       "Lead Source                              0.39\n",
       "Do Not Email                             0.00\n",
       "Converted                                0.00\n",
       "TotalVisits                              1.49\n",
       "Total Time Spent on Website              0.00\n",
       "Page Views Per Visit                     1.49\n",
       "Last Activity                            1.12\n",
       "Specialization                           0.00\n",
       "What is your current occupation          0.00\n",
       "Tags                                     0.00\n",
       "Lead Quality                             0.00\n",
       "City                                     0.00\n",
       "A free copy of Mastering The Interview   0.00\n",
       "Last Notable Activity                    0.00\n",
       "dtype: float64"
      ]
     },
     "execution_count": 86,
     "metadata": {},
     "output_type": "execute_result"
    }
   ],
   "source": [
    "# Checking again for the null value percentages\n",
    "round(100*(leads_df.isnull().sum()/len(leads_df.index)), 2)"
   ]
  },
  {
   "cell_type": "code",
   "execution_count": 87,
   "metadata": {
    "ExecuteTime": {
     "end_time": "2019-06-09T14:36:25.188186Z",
     "start_time": "2019-06-09T14:36:25.113483Z"
    }
   },
   "outputs": [],
   "source": [
    "# Null values now are very few in number. These can be dropped.\n",
    "leads_df.dropna(inplace = True)"
   ]
  },
  {
   "cell_type": "markdown",
   "metadata": {},
   "source": [
    "Overall Conversion rate"
   ]
  },
  {
   "cell_type": "code",
   "execution_count": 88,
   "metadata": {
    "ExecuteTime": {
     "end_time": "2019-06-09T14:36:29.024997Z",
     "start_time": "2019-06-09T14:36:29.016476Z"
    }
   },
   "outputs": [
    {
     "data": {
      "text/plain": [
       "37.85217103082532"
      ]
     },
     "execution_count": 88,
     "metadata": {},
     "output_type": "execute_result"
    }
   ],
   "source": [
    "conversion = (sum(leads_df['Converted'])/len(leads_df['Converted'].index))*100\n",
    "conversion"
   ]
  },
  {
   "cell_type": "markdown",
   "metadata": {},
   "source": [
    "The overall conversion is around 38%"
   ]
  },
  {
   "cell_type": "markdown",
   "metadata": {},
   "source": [
    "#### Creating Dummy Variables"
   ]
  },
  {
   "cell_type": "code",
   "execution_count": 89,
   "metadata": {
    "ExecuteTime": {
     "end_time": "2019-06-09T14:36:34.875329Z",
     "start_time": "2019-06-09T14:36:34.747488Z"
    }
   },
   "outputs": [
    {
     "data": {
      "text/html": [
       "<div>\n",
       "<style scoped>\n",
       "    .dataframe tbody tr th:only-of-type {\n",
       "        vertical-align: middle;\n",
       "    }\n",
       "\n",
       "    .dataframe tbody tr th {\n",
       "        vertical-align: top;\n",
       "    }\n",
       "\n",
       "    .dataframe thead th {\n",
       "        text-align: right;\n",
       "    }\n",
       "</style>\n",
       "<table border=\"1\" class=\"dataframe\">\n",
       "  <thead>\n",
       "    <tr style=\"text-align: right;\">\n",
       "      <th></th>\n",
       "      <th>Prospect ID</th>\n",
       "      <th>Lead Number</th>\n",
       "      <th>Do Not Email</th>\n",
       "      <th>Converted</th>\n",
       "      <th>TotalVisits</th>\n",
       "      <th>Total Time Spent on Website</th>\n",
       "      <th>Page Views Per Visit</th>\n",
       "      <th>A free copy of Mastering The Interview</th>\n",
       "      <th>Lead Origin_Landing Page Submission</th>\n",
       "      <th>Lead Origin_Lead Add Form</th>\n",
       "      <th>Lead Origin_Lead Import</th>\n",
       "      <th>Lead Source_Facebook</th>\n",
       "      <th>Lead Source_Google</th>\n",
       "      <th>Lead Source_Olark Chat</th>\n",
       "      <th>Lead Source_Organic Search</th>\n",
       "      <th>Lead Source_Reference</th>\n",
       "      <th>Lead Source_Referral Sites</th>\n",
       "      <th>Lead Source_Welingak Website</th>\n",
       "      <th>Last Activity_Converted to Lead</th>\n",
       "      <th>Last Activity_Email Bounced</th>\n",
       "      <th>Last Activity_Email Link Clicked</th>\n",
       "      <th>Last Activity_Email Marked Spam</th>\n",
       "      <th>Last Activity_Email Opened</th>\n",
       "      <th>Last Activity_Email Received</th>\n",
       "      <th>Last Activity_Form Submitted on Website</th>\n",
       "      <th>Last Activity_Had a Phone Conversation</th>\n",
       "      <th>Last Activity_Olark Chat Conversation</th>\n",
       "      <th>Last Activity_Page Visited on Website</th>\n",
       "      <th>Last Activity_Resubscribed to emails</th>\n",
       "      <th>Last Activity_SMS Sent</th>\n",
       "      <th>Last Activity_Unreachable</th>\n",
       "      <th>Last Activity_Unsubscribed</th>\n",
       "      <th>Last Activity_View in browser link Clicked</th>\n",
       "      <th>Last Activity_Visited Booth in Tradeshow</th>\n",
       "      <th>Specialization_Business Administration</th>\n",
       "      <th>Specialization_E-Business</th>\n",
       "      <th>Specialization_E-COMMERCE</th>\n",
       "      <th>Specialization_Finance Management</th>\n",
       "      <th>Specialization_Healthcare Management</th>\n",
       "      <th>Specialization_Hospitality Management</th>\n",
       "      <th>Specialization_Human Resource Management</th>\n",
       "      <th>Specialization_IT Projects Management</th>\n",
       "      <th>Specialization_International Business</th>\n",
       "      <th>Specialization_Marketing Management</th>\n",
       "      <th>Specialization_Media and Advertising</th>\n",
       "      <th>Specialization_Operations Management</th>\n",
       "      <th>Specialization_Others</th>\n",
       "      <th>Specialization_Retail Management</th>\n",
       "      <th>Specialization_Rural and Agribusiness</th>\n",
       "      <th>Specialization_Services Excellence</th>\n",
       "      <th>Specialization_Supply Chain Management</th>\n",
       "      <th>Specialization_Travel and Tourism</th>\n",
       "      <th>What is your current occupation_Housewife</th>\n",
       "      <th>What is your current occupation_Other</th>\n",
       "      <th>What is your current occupation_Student</th>\n",
       "      <th>What is your current occupation_Unemployed</th>\n",
       "      <th>What is your current occupation_Unspecified</th>\n",
       "      <th>What is your current occupation_Working Professional</th>\n",
       "      <th>Tags_Busy</th>\n",
       "      <th>Tags_Closed by Horizzon</th>\n",
       "      <th>Tags_Diploma holder (Not Eligible)</th>\n",
       "      <th>Tags_Graduation in progress</th>\n",
       "      <th>Tags_In confusion whether part time or DLP</th>\n",
       "      <th>Tags_Interested  in full time MBA</th>\n",
       "      <th>Tags_Interested in Next batch</th>\n",
       "      <th>Tags_Interested in other courses</th>\n",
       "      <th>Tags_Lateral student</th>\n",
       "      <th>Tags_Lost to EINS</th>\n",
       "      <th>Tags_Lost to Others</th>\n",
       "      <th>Tags_Not doing further education</th>\n",
       "      <th>Tags_Recognition issue (DEC approval)</th>\n",
       "      <th>Tags_Ringing</th>\n",
       "      <th>Tags_Shall take in the next coming month</th>\n",
       "      <th>Tags_Still Thinking</th>\n",
       "      <th>Tags_University not recognized</th>\n",
       "      <th>Tags_Unspecified</th>\n",
       "      <th>Tags_Want to take admission but has financial problems</th>\n",
       "      <th>Tags_Will revert after reading the email</th>\n",
       "      <th>Tags_in touch with EINS</th>\n",
       "      <th>Tags_invalid number</th>\n",
       "      <th>Tags_number not provided</th>\n",
       "      <th>Tags_opp hangup</th>\n",
       "      <th>Tags_switched off</th>\n",
       "      <th>Tags_wrong number given</th>\n",
       "      <th>Lead Quality_Low in Relevance</th>\n",
       "      <th>Lead Quality_Might be</th>\n",
       "      <th>Lead Quality_Not Sure</th>\n",
       "      <th>Lead Quality_Worst</th>\n",
       "      <th>City_Other Cities</th>\n",
       "      <th>City_Other Cities of Maharashtra</th>\n",
       "      <th>City_Other Metro Cities</th>\n",
       "      <th>City_Thane &amp; Outskirts</th>\n",
       "      <th>City_Tier II Cities</th>\n",
       "      <th>City_Unspecified</th>\n",
       "      <th>Last Notable Activity_Email Bounced</th>\n",
       "      <th>Last Notable Activity_Email Link Clicked</th>\n",
       "      <th>Last Notable Activity_Email Marked Spam</th>\n",
       "      <th>Last Notable Activity_Email Opened</th>\n",
       "      <th>Last Notable Activity_Email Received</th>\n",
       "      <th>Last Notable Activity_Form Submitted on Website</th>\n",
       "      <th>Last Notable Activity_Had a Phone Conversation</th>\n",
       "      <th>Last Notable Activity_Modified</th>\n",
       "      <th>Last Notable Activity_Olark Chat Conversation</th>\n",
       "      <th>Last Notable Activity_Page Visited on Website</th>\n",
       "      <th>Last Notable Activity_Resubscribed to emails</th>\n",
       "      <th>Last Notable Activity_SMS Sent</th>\n",
       "      <th>Last Notable Activity_Unreachable</th>\n",
       "      <th>Last Notable Activity_Unsubscribed</th>\n",
       "      <th>Last Notable Activity_View in browser link Clicked</th>\n",
       "    </tr>\n",
       "  </thead>\n",
       "  <tbody>\n",
       "    <tr>\n",
       "      <th>0</th>\n",
       "      <td>7927b2df-8bba-4d29-b9a2-b6e0beafe620</td>\n",
       "      <td>660737</td>\n",
       "      <td>0</td>\n",
       "      <td>0</td>\n",
       "      <td>0.00</td>\n",
       "      <td>0</td>\n",
       "      <td>0.00</td>\n",
       "      <td>0</td>\n",
       "      <td>0</td>\n",
       "      <td>0</td>\n",
       "      <td>0</td>\n",
       "      <td>0</td>\n",
       "      <td>0</td>\n",
       "      <td>1</td>\n",
       "      <td>0</td>\n",
       "      <td>0</td>\n",
       "      <td>0</td>\n",
       "      <td>0</td>\n",
       "      <td>0</td>\n",
       "      <td>0</td>\n",
       "      <td>0</td>\n",
       "      <td>0</td>\n",
       "      <td>0</td>\n",
       "      <td>0</td>\n",
       "      <td>0</td>\n",
       "      <td>0</td>\n",
       "      <td>0</td>\n",
       "      <td>1</td>\n",
       "      <td>0</td>\n",
       "      <td>0</td>\n",
       "      <td>0</td>\n",
       "      <td>0</td>\n",
       "      <td>0</td>\n",
       "      <td>0</td>\n",
       "      <td>0</td>\n",
       "      <td>0</td>\n",
       "      <td>0</td>\n",
       "      <td>0</td>\n",
       "      <td>0</td>\n",
       "      <td>0</td>\n",
       "      <td>0</td>\n",
       "      <td>0</td>\n",
       "      <td>0</td>\n",
       "      <td>0</td>\n",
       "      <td>0</td>\n",
       "      <td>0</td>\n",
       "      <td>1</td>\n",
       "      <td>0</td>\n",
       "      <td>0</td>\n",
       "      <td>0</td>\n",
       "      <td>0</td>\n",
       "      <td>0</td>\n",
       "      <td>0</td>\n",
       "      <td>0</td>\n",
       "      <td>0</td>\n",
       "      <td>1</td>\n",
       "      <td>0</td>\n",
       "      <td>0</td>\n",
       "      <td>0</td>\n",
       "      <td>0</td>\n",
       "      <td>0</td>\n",
       "      <td>0</td>\n",
       "      <td>0</td>\n",
       "      <td>0</td>\n",
       "      <td>0</td>\n",
       "      <td>1</td>\n",
       "      <td>0</td>\n",
       "      <td>0</td>\n",
       "      <td>0</td>\n",
       "      <td>0</td>\n",
       "      <td>0</td>\n",
       "      <td>0</td>\n",
       "      <td>0</td>\n",
       "      <td>0</td>\n",
       "      <td>0</td>\n",
       "      <td>0</td>\n",
       "      <td>0</td>\n",
       "      <td>0</td>\n",
       "      <td>0</td>\n",
       "      <td>0</td>\n",
       "      <td>0</td>\n",
       "      <td>0</td>\n",
       "      <td>0</td>\n",
       "      <td>0</td>\n",
       "      <td>1</td>\n",
       "      <td>0</td>\n",
       "      <td>0</td>\n",
       "      <td>0</td>\n",
       "      <td>0</td>\n",
       "      <td>0</td>\n",
       "      <td>0</td>\n",
       "      <td>0</td>\n",
       "      <td>0</td>\n",
       "      <td>1</td>\n",
       "      <td>0</td>\n",
       "      <td>0</td>\n",
       "      <td>0</td>\n",
       "      <td>0</td>\n",
       "      <td>0</td>\n",
       "      <td>0</td>\n",
       "      <td>0</td>\n",
       "      <td>1</td>\n",
       "      <td>0</td>\n",
       "      <td>0</td>\n",
       "      <td>0</td>\n",
       "      <td>0</td>\n",
       "      <td>0</td>\n",
       "      <td>0</td>\n",
       "      <td>0</td>\n",
       "    </tr>\n",
       "    <tr>\n",
       "      <th>1</th>\n",
       "      <td>2a272436-5132-4136-86fa-dcc88c88f482</td>\n",
       "      <td>660728</td>\n",
       "      <td>0</td>\n",
       "      <td>0</td>\n",
       "      <td>5.00</td>\n",
       "      <td>674</td>\n",
       "      <td>2.50</td>\n",
       "      <td>0</td>\n",
       "      <td>0</td>\n",
       "      <td>0</td>\n",
       "      <td>0</td>\n",
       "      <td>0</td>\n",
       "      <td>0</td>\n",
       "      <td>0</td>\n",
       "      <td>1</td>\n",
       "      <td>0</td>\n",
       "      <td>0</td>\n",
       "      <td>0</td>\n",
       "      <td>0</td>\n",
       "      <td>0</td>\n",
       "      <td>0</td>\n",
       "      <td>0</td>\n",
       "      <td>1</td>\n",
       "      <td>0</td>\n",
       "      <td>0</td>\n",
       "      <td>0</td>\n",
       "      <td>0</td>\n",
       "      <td>0</td>\n",
       "      <td>0</td>\n",
       "      <td>0</td>\n",
       "      <td>0</td>\n",
       "      <td>0</td>\n",
       "      <td>0</td>\n",
       "      <td>0</td>\n",
       "      <td>0</td>\n",
       "      <td>0</td>\n",
       "      <td>0</td>\n",
       "      <td>0</td>\n",
       "      <td>0</td>\n",
       "      <td>0</td>\n",
       "      <td>0</td>\n",
       "      <td>0</td>\n",
       "      <td>0</td>\n",
       "      <td>0</td>\n",
       "      <td>0</td>\n",
       "      <td>0</td>\n",
       "      <td>1</td>\n",
       "      <td>0</td>\n",
       "      <td>0</td>\n",
       "      <td>0</td>\n",
       "      <td>0</td>\n",
       "      <td>0</td>\n",
       "      <td>0</td>\n",
       "      <td>0</td>\n",
       "      <td>0</td>\n",
       "      <td>1</td>\n",
       "      <td>0</td>\n",
       "      <td>0</td>\n",
       "      <td>0</td>\n",
       "      <td>0</td>\n",
       "      <td>0</td>\n",
       "      <td>0</td>\n",
       "      <td>0</td>\n",
       "      <td>0</td>\n",
       "      <td>0</td>\n",
       "      <td>0</td>\n",
       "      <td>0</td>\n",
       "      <td>0</td>\n",
       "      <td>0</td>\n",
       "      <td>0</td>\n",
       "      <td>0</td>\n",
       "      <td>1</td>\n",
       "      <td>0</td>\n",
       "      <td>0</td>\n",
       "      <td>0</td>\n",
       "      <td>0</td>\n",
       "      <td>0</td>\n",
       "      <td>0</td>\n",
       "      <td>0</td>\n",
       "      <td>0</td>\n",
       "      <td>0</td>\n",
       "      <td>0</td>\n",
       "      <td>0</td>\n",
       "      <td>0</td>\n",
       "      <td>0</td>\n",
       "      <td>0</td>\n",
       "      <td>1</td>\n",
       "      <td>0</td>\n",
       "      <td>0</td>\n",
       "      <td>0</td>\n",
       "      <td>0</td>\n",
       "      <td>0</td>\n",
       "      <td>0</td>\n",
       "      <td>1</td>\n",
       "      <td>0</td>\n",
       "      <td>0</td>\n",
       "      <td>0</td>\n",
       "      <td>1</td>\n",
       "      <td>0</td>\n",
       "      <td>0</td>\n",
       "      <td>0</td>\n",
       "      <td>0</td>\n",
       "      <td>0</td>\n",
       "      <td>0</td>\n",
       "      <td>0</td>\n",
       "      <td>0</td>\n",
       "      <td>0</td>\n",
       "      <td>0</td>\n",
       "      <td>0</td>\n",
       "    </tr>\n",
       "    <tr>\n",
       "      <th>2</th>\n",
       "      <td>8cc8c611-a219-4f35-ad23-fdfd2656bd8a</td>\n",
       "      <td>660727</td>\n",
       "      <td>0</td>\n",
       "      <td>1</td>\n",
       "      <td>2.00</td>\n",
       "      <td>1532</td>\n",
       "      <td>2.00</td>\n",
       "      <td>1</td>\n",
       "      <td>1</td>\n",
       "      <td>0</td>\n",
       "      <td>0</td>\n",
       "      <td>0</td>\n",
       "      <td>0</td>\n",
       "      <td>0</td>\n",
       "      <td>0</td>\n",
       "      <td>0</td>\n",
       "      <td>0</td>\n",
       "      <td>0</td>\n",
       "      <td>0</td>\n",
       "      <td>0</td>\n",
       "      <td>0</td>\n",
       "      <td>0</td>\n",
       "      <td>1</td>\n",
       "      <td>0</td>\n",
       "      <td>0</td>\n",
       "      <td>0</td>\n",
       "      <td>0</td>\n",
       "      <td>0</td>\n",
       "      <td>0</td>\n",
       "      <td>0</td>\n",
       "      <td>0</td>\n",
       "      <td>0</td>\n",
       "      <td>0</td>\n",
       "      <td>0</td>\n",
       "      <td>1</td>\n",
       "      <td>0</td>\n",
       "      <td>0</td>\n",
       "      <td>0</td>\n",
       "      <td>0</td>\n",
       "      <td>0</td>\n",
       "      <td>0</td>\n",
       "      <td>0</td>\n",
       "      <td>0</td>\n",
       "      <td>0</td>\n",
       "      <td>0</td>\n",
       "      <td>0</td>\n",
       "      <td>0</td>\n",
       "      <td>0</td>\n",
       "      <td>0</td>\n",
       "      <td>0</td>\n",
       "      <td>0</td>\n",
       "      <td>0</td>\n",
       "      <td>0</td>\n",
       "      <td>0</td>\n",
       "      <td>1</td>\n",
       "      <td>0</td>\n",
       "      <td>0</td>\n",
       "      <td>0</td>\n",
       "      <td>0</td>\n",
       "      <td>0</td>\n",
       "      <td>0</td>\n",
       "      <td>0</td>\n",
       "      <td>0</td>\n",
       "      <td>0</td>\n",
       "      <td>0</td>\n",
       "      <td>0</td>\n",
       "      <td>0</td>\n",
       "      <td>0</td>\n",
       "      <td>0</td>\n",
       "      <td>0</td>\n",
       "      <td>0</td>\n",
       "      <td>0</td>\n",
       "      <td>0</td>\n",
       "      <td>0</td>\n",
       "      <td>0</td>\n",
       "      <td>0</td>\n",
       "      <td>0</td>\n",
       "      <td>1</td>\n",
       "      <td>0</td>\n",
       "      <td>0</td>\n",
       "      <td>0</td>\n",
       "      <td>0</td>\n",
       "      <td>0</td>\n",
       "      <td>0</td>\n",
       "      <td>0</td>\n",
       "      <td>1</td>\n",
       "      <td>0</td>\n",
       "      <td>0</td>\n",
       "      <td>0</td>\n",
       "      <td>0</td>\n",
       "      <td>0</td>\n",
       "      <td>0</td>\n",
       "      <td>0</td>\n",
       "      <td>0</td>\n",
       "      <td>0</td>\n",
       "      <td>0</td>\n",
       "      <td>0</td>\n",
       "      <td>1</td>\n",
       "      <td>0</td>\n",
       "      <td>0</td>\n",
       "      <td>0</td>\n",
       "      <td>0</td>\n",
       "      <td>0</td>\n",
       "      <td>0</td>\n",
       "      <td>0</td>\n",
       "      <td>0</td>\n",
       "      <td>0</td>\n",
       "      <td>0</td>\n",
       "      <td>0</td>\n",
       "    </tr>\n",
       "    <tr>\n",
       "      <th>3</th>\n",
       "      <td>0cc2df48-7cf4-4e39-9de9-19797f9b38cc</td>\n",
       "      <td>660719</td>\n",
       "      <td>0</td>\n",
       "      <td>0</td>\n",
       "      <td>1.00</td>\n",
       "      <td>305</td>\n",
       "      <td>1.00</td>\n",
       "      <td>0</td>\n",
       "      <td>1</td>\n",
       "      <td>0</td>\n",
       "      <td>0</td>\n",
       "      <td>0</td>\n",
       "      <td>0</td>\n",
       "      <td>0</td>\n",
       "      <td>0</td>\n",
       "      <td>0</td>\n",
       "      <td>0</td>\n",
       "      <td>0</td>\n",
       "      <td>0</td>\n",
       "      <td>0</td>\n",
       "      <td>0</td>\n",
       "      <td>0</td>\n",
       "      <td>0</td>\n",
       "      <td>0</td>\n",
       "      <td>0</td>\n",
       "      <td>0</td>\n",
       "      <td>0</td>\n",
       "      <td>0</td>\n",
       "      <td>0</td>\n",
       "      <td>0</td>\n",
       "      <td>1</td>\n",
       "      <td>0</td>\n",
       "      <td>0</td>\n",
       "      <td>0</td>\n",
       "      <td>0</td>\n",
       "      <td>0</td>\n",
       "      <td>0</td>\n",
       "      <td>0</td>\n",
       "      <td>0</td>\n",
       "      <td>0</td>\n",
       "      <td>0</td>\n",
       "      <td>0</td>\n",
       "      <td>0</td>\n",
       "      <td>0</td>\n",
       "      <td>1</td>\n",
       "      <td>0</td>\n",
       "      <td>0</td>\n",
       "      <td>0</td>\n",
       "      <td>0</td>\n",
       "      <td>0</td>\n",
       "      <td>0</td>\n",
       "      <td>0</td>\n",
       "      <td>0</td>\n",
       "      <td>0</td>\n",
       "      <td>0</td>\n",
       "      <td>1</td>\n",
       "      <td>0</td>\n",
       "      <td>0</td>\n",
       "      <td>0</td>\n",
       "      <td>0</td>\n",
       "      <td>0</td>\n",
       "      <td>0</td>\n",
       "      <td>0</td>\n",
       "      <td>0</td>\n",
       "      <td>0</td>\n",
       "      <td>0</td>\n",
       "      <td>0</td>\n",
       "      <td>0</td>\n",
       "      <td>0</td>\n",
       "      <td>0</td>\n",
       "      <td>0</td>\n",
       "      <td>1</td>\n",
       "      <td>0</td>\n",
       "      <td>0</td>\n",
       "      <td>0</td>\n",
       "      <td>0</td>\n",
       "      <td>0</td>\n",
       "      <td>0</td>\n",
       "      <td>0</td>\n",
       "      <td>0</td>\n",
       "      <td>0</td>\n",
       "      <td>0</td>\n",
       "      <td>0</td>\n",
       "      <td>0</td>\n",
       "      <td>0</td>\n",
       "      <td>0</td>\n",
       "      <td>1</td>\n",
       "      <td>0</td>\n",
       "      <td>0</td>\n",
       "      <td>0</td>\n",
       "      <td>0</td>\n",
       "      <td>0</td>\n",
       "      <td>0</td>\n",
       "      <td>0</td>\n",
       "      <td>0</td>\n",
       "      <td>0</td>\n",
       "      <td>0</td>\n",
       "      <td>0</td>\n",
       "      <td>0</td>\n",
       "      <td>0</td>\n",
       "      <td>0</td>\n",
       "      <td>1</td>\n",
       "      <td>0</td>\n",
       "      <td>0</td>\n",
       "      <td>0</td>\n",
       "      <td>0</td>\n",
       "      <td>0</td>\n",
       "      <td>0</td>\n",
       "      <td>0</td>\n",
       "    </tr>\n",
       "    <tr>\n",
       "      <th>4</th>\n",
       "      <td>3256f628-e534-4826-9d63-4a8b88782852</td>\n",
       "      <td>660681</td>\n",
       "      <td>0</td>\n",
       "      <td>1</td>\n",
       "      <td>2.00</td>\n",
       "      <td>1428</td>\n",
       "      <td>1.00</td>\n",
       "      <td>0</td>\n",
       "      <td>1</td>\n",
       "      <td>0</td>\n",
       "      <td>0</td>\n",
       "      <td>0</td>\n",
       "      <td>1</td>\n",
       "      <td>0</td>\n",
       "      <td>0</td>\n",
       "      <td>0</td>\n",
       "      <td>0</td>\n",
       "      <td>0</td>\n",
       "      <td>1</td>\n",
       "      <td>0</td>\n",
       "      <td>0</td>\n",
       "      <td>0</td>\n",
       "      <td>0</td>\n",
       "      <td>0</td>\n",
       "      <td>0</td>\n",
       "      <td>0</td>\n",
       "      <td>0</td>\n",
       "      <td>0</td>\n",
       "      <td>0</td>\n",
       "      <td>0</td>\n",
       "      <td>0</td>\n",
       "      <td>0</td>\n",
       "      <td>0</td>\n",
       "      <td>0</td>\n",
       "      <td>0</td>\n",
       "      <td>0</td>\n",
       "      <td>0</td>\n",
       "      <td>0</td>\n",
       "      <td>0</td>\n",
       "      <td>0</td>\n",
       "      <td>0</td>\n",
       "      <td>0</td>\n",
       "      <td>0</td>\n",
       "      <td>0</td>\n",
       "      <td>0</td>\n",
       "      <td>0</td>\n",
       "      <td>1</td>\n",
       "      <td>0</td>\n",
       "      <td>0</td>\n",
       "      <td>0</td>\n",
       "      <td>0</td>\n",
       "      <td>0</td>\n",
       "      <td>0</td>\n",
       "      <td>0</td>\n",
       "      <td>0</td>\n",
       "      <td>1</td>\n",
       "      <td>0</td>\n",
       "      <td>0</td>\n",
       "      <td>0</td>\n",
       "      <td>0</td>\n",
       "      <td>0</td>\n",
       "      <td>0</td>\n",
       "      <td>0</td>\n",
       "      <td>0</td>\n",
       "      <td>0</td>\n",
       "      <td>0</td>\n",
       "      <td>0</td>\n",
       "      <td>0</td>\n",
       "      <td>0</td>\n",
       "      <td>0</td>\n",
       "      <td>0</td>\n",
       "      <td>0</td>\n",
       "      <td>0</td>\n",
       "      <td>0</td>\n",
       "      <td>0</td>\n",
       "      <td>0</td>\n",
       "      <td>0</td>\n",
       "      <td>1</td>\n",
       "      <td>0</td>\n",
       "      <td>0</td>\n",
       "      <td>0</td>\n",
       "      <td>0</td>\n",
       "      <td>0</td>\n",
       "      <td>0</td>\n",
       "      <td>0</td>\n",
       "      <td>1</td>\n",
       "      <td>0</td>\n",
       "      <td>0</td>\n",
       "      <td>0</td>\n",
       "      <td>0</td>\n",
       "      <td>0</td>\n",
       "      <td>0</td>\n",
       "      <td>0</td>\n",
       "      <td>0</td>\n",
       "      <td>0</td>\n",
       "      <td>0</td>\n",
       "      <td>0</td>\n",
       "      <td>0</td>\n",
       "      <td>0</td>\n",
       "      <td>0</td>\n",
       "      <td>0</td>\n",
       "      <td>1</td>\n",
       "      <td>0</td>\n",
       "      <td>0</td>\n",
       "      <td>0</td>\n",
       "      <td>0</td>\n",
       "      <td>0</td>\n",
       "      <td>0</td>\n",
       "      <td>0</td>\n",
       "    </tr>\n",
       "  </tbody>\n",
       "</table>\n",
       "</div>"
      ],
      "text/plain": [
       "                            Prospect ID  Lead Number  Do Not Email  Converted  \\\n",
       "0  7927b2df-8bba-4d29-b9a2-b6e0beafe620       660737             0          0   \n",
       "1  2a272436-5132-4136-86fa-dcc88c88f482       660728             0          0   \n",
       "2  8cc8c611-a219-4f35-ad23-fdfd2656bd8a       660727             0          1   \n",
       "3  0cc2df48-7cf4-4e39-9de9-19797f9b38cc       660719             0          0   \n",
       "4  3256f628-e534-4826-9d63-4a8b88782852       660681             0          1   \n",
       "\n",
       "   TotalVisits  Total Time Spent on Website  Page Views Per Visit  \\\n",
       "0         0.00                            0                  0.00   \n",
       "1         5.00                          674                  2.50   \n",
       "2         2.00                         1532                  2.00   \n",
       "3         1.00                          305                  1.00   \n",
       "4         2.00                         1428                  1.00   \n",
       "\n",
       "   A free copy of Mastering The Interview  \\\n",
       "0                                       0   \n",
       "1                                       0   \n",
       "2                                       1   \n",
       "3                                       0   \n",
       "4                                       0   \n",
       "\n",
       "   Lead Origin_Landing Page Submission  Lead Origin_Lead Add Form  \\\n",
       "0                                    0                          0   \n",
       "1                                    0                          0   \n",
       "2                                    1                          0   \n",
       "3                                    1                          0   \n",
       "4                                    1                          0   \n",
       "\n",
       "   Lead Origin_Lead Import  Lead Source_Facebook  Lead Source_Google  \\\n",
       "0                        0                     0                   0   \n",
       "1                        0                     0                   0   \n",
       "2                        0                     0                   0   \n",
       "3                        0                     0                   0   \n",
       "4                        0                     0                   1   \n",
       "\n",
       "   Lead Source_Olark Chat  Lead Source_Organic Search  Lead Source_Reference  \\\n",
       "0                       1                           0                      0   \n",
       "1                       0                           1                      0   \n",
       "2                       0                           0                      0   \n",
       "3                       0                           0                      0   \n",
       "4                       0                           0                      0   \n",
       "\n",
       "   Lead Source_Referral Sites  Lead Source_Welingak Website  \\\n",
       "0                           0                             0   \n",
       "1                           0                             0   \n",
       "2                           0                             0   \n",
       "3                           0                             0   \n",
       "4                           0                             0   \n",
       "\n",
       "   Last Activity_Converted to Lead  Last Activity_Email Bounced  \\\n",
       "0                                0                            0   \n",
       "1                                0                            0   \n",
       "2                                0                            0   \n",
       "3                                0                            0   \n",
       "4                                1                            0   \n",
       "\n",
       "   Last Activity_Email Link Clicked  Last Activity_Email Marked Spam  \\\n",
       "0                                 0                                0   \n",
       "1                                 0                                0   \n",
       "2                                 0                                0   \n",
       "3                                 0                                0   \n",
       "4                                 0                                0   \n",
       "\n",
       "   Last Activity_Email Opened  Last Activity_Email Received  \\\n",
       "0                           0                             0   \n",
       "1                           1                             0   \n",
       "2                           1                             0   \n",
       "3                           0                             0   \n",
       "4                           0                             0   \n",
       "\n",
       "   Last Activity_Form Submitted on Website  \\\n",
       "0                                        0   \n",
       "1                                        0   \n",
       "2                                        0   \n",
       "3                                        0   \n",
       "4                                        0   \n",
       "\n",
       "   Last Activity_Had a Phone Conversation  \\\n",
       "0                                       0   \n",
       "1                                       0   \n",
       "2                                       0   \n",
       "3                                       0   \n",
       "4                                       0   \n",
       "\n",
       "   Last Activity_Olark Chat Conversation  \\\n",
       "0                                      0   \n",
       "1                                      0   \n",
       "2                                      0   \n",
       "3                                      0   \n",
       "4                                      0   \n",
       "\n",
       "   Last Activity_Page Visited on Website  \\\n",
       "0                                      1   \n",
       "1                                      0   \n",
       "2                                      0   \n",
       "3                                      0   \n",
       "4                                      0   \n",
       "\n",
       "   Last Activity_Resubscribed to emails  Last Activity_SMS Sent  \\\n",
       "0                                     0                       0   \n",
       "1                                     0                       0   \n",
       "2                                     0                       0   \n",
       "3                                     0                       0   \n",
       "4                                     0                       0   \n",
       "\n",
       "   Last Activity_Unreachable  Last Activity_Unsubscribed  \\\n",
       "0                          0                           0   \n",
       "1                          0                           0   \n",
       "2                          0                           0   \n",
       "3                          1                           0   \n",
       "4                          0                           0   \n",
       "\n",
       "   Last Activity_View in browser link Clicked  \\\n",
       "0                                           0   \n",
       "1                                           0   \n",
       "2                                           0   \n",
       "3                                           0   \n",
       "4                                           0   \n",
       "\n",
       "   Last Activity_Visited Booth in Tradeshow  \\\n",
       "0                                         0   \n",
       "1                                         0   \n",
       "2                                         0   \n",
       "3                                         0   \n",
       "4                                         0   \n",
       "\n",
       "   Specialization_Business Administration  Specialization_E-Business  \\\n",
       "0                                       0                          0   \n",
       "1                                       0                          0   \n",
       "2                                       1                          0   \n",
       "3                                       0                          0   \n",
       "4                                       0                          0   \n",
       "\n",
       "   Specialization_E-COMMERCE  Specialization_Finance Management  \\\n",
       "0                          0                                  0   \n",
       "1                          0                                  0   \n",
       "2                          0                                  0   \n",
       "3                          0                                  0   \n",
       "4                          0                                  0   \n",
       "\n",
       "   Specialization_Healthcare Management  \\\n",
       "0                                     0   \n",
       "1                                     0   \n",
       "2                                     0   \n",
       "3                                     0   \n",
       "4                                     0   \n",
       "\n",
       "   Specialization_Hospitality Management  \\\n",
       "0                                      0   \n",
       "1                                      0   \n",
       "2                                      0   \n",
       "3                                      0   \n",
       "4                                      0   \n",
       "\n",
       "   Specialization_Human Resource Management  \\\n",
       "0                                         0   \n",
       "1                                         0   \n",
       "2                                         0   \n",
       "3                                         0   \n",
       "4                                         0   \n",
       "\n",
       "   Specialization_IT Projects Management  \\\n",
       "0                                      0   \n",
       "1                                      0   \n",
       "2                                      0   \n",
       "3                                      0   \n",
       "4                                      0   \n",
       "\n",
       "   Specialization_International Business  Specialization_Marketing Management  \\\n",
       "0                                      0                                    0   \n",
       "1                                      0                                    0   \n",
       "2                                      0                                    0   \n",
       "3                                      0                                    0   \n",
       "4                                      0                                    0   \n",
       "\n",
       "   Specialization_Media and Advertising  Specialization_Operations Management  \\\n",
       "0                                     0                                     0   \n",
       "1                                     0                                     0   \n",
       "2                                     0                                     0   \n",
       "3                                     1                                     0   \n",
       "4                                     0                                     0   \n",
       "\n",
       "   Specialization_Others  Specialization_Retail Management  \\\n",
       "0                      1                                 0   \n",
       "1                      1                                 0   \n",
       "2                      0                                 0   \n",
       "3                      0                                 0   \n",
       "4                      1                                 0   \n",
       "\n",
       "   Specialization_Rural and Agribusiness  Specialization_Services Excellence  \\\n",
       "0                                      0                                   0   \n",
       "1                                      0                                   0   \n",
       "2                                      0                                   0   \n",
       "3                                      0                                   0   \n",
       "4                                      0                                   0   \n",
       "\n",
       "   Specialization_Supply Chain Management  Specialization_Travel and Tourism  \\\n",
       "0                                       0                                  0   \n",
       "1                                       0                                  0   \n",
       "2                                       0                                  0   \n",
       "3                                       0                                  0   \n",
       "4                                       0                                  0   \n",
       "\n",
       "   What is your current occupation_Housewife  \\\n",
       "0                                          0   \n",
       "1                                          0   \n",
       "2                                          0   \n",
       "3                                          0   \n",
       "4                                          0   \n",
       "\n",
       "   What is your current occupation_Other  \\\n",
       "0                                      0   \n",
       "1                                      0   \n",
       "2                                      0   \n",
       "3                                      0   \n",
       "4                                      0   \n",
       "\n",
       "   What is your current occupation_Student  \\\n",
       "0                                        0   \n",
       "1                                        0   \n",
       "2                                        1   \n",
       "3                                        0   \n",
       "4                                        0   \n",
       "\n",
       "   What is your current occupation_Unemployed  \\\n",
       "0                                           1   \n",
       "1                                           1   \n",
       "2                                           0   \n",
       "3                                           1   \n",
       "4                                           1   \n",
       "\n",
       "   What is your current occupation_Unspecified  \\\n",
       "0                                            0   \n",
       "1                                            0   \n",
       "2                                            0   \n",
       "3                                            0   \n",
       "4                                            0   \n",
       "\n",
       "   What is your current occupation_Working Professional  Tags_Busy  \\\n",
       "0                                                  0             0   \n",
       "1                                                  0             0   \n",
       "2                                                  0             0   \n",
       "3                                                  0             0   \n",
       "4                                                  0             0   \n",
       "\n",
       "   Tags_Closed by Horizzon  Tags_Diploma holder (Not Eligible)  \\\n",
       "0                        0                                   0   \n",
       "1                        0                                   0   \n",
       "2                        0                                   0   \n",
       "3                        0                                   0   \n",
       "4                        0                                   0   \n",
       "\n",
       "   Tags_Graduation in progress  Tags_In confusion whether part time or DLP  \\\n",
       "0                            0                                           0   \n",
       "1                            0                                           0   \n",
       "2                            0                                           0   \n",
       "3                            0                                           0   \n",
       "4                            0                                           0   \n",
       "\n",
       "   Tags_Interested  in full time MBA  Tags_Interested in Next batch  \\\n",
       "0                                  0                              0   \n",
       "1                                  0                              0   \n",
       "2                                  0                              0   \n",
       "3                                  0                              0   \n",
       "4                                  0                              0   \n",
       "\n",
       "   Tags_Interested in other courses  Tags_Lateral student  Tags_Lost to EINS  \\\n",
       "0                                 1                     0                  0   \n",
       "1                                 0                     0                  0   \n",
       "2                                 0                     0                  0   \n",
       "3                                 0                     0                  0   \n",
       "4                                 0                     0                  0   \n",
       "\n",
       "   Tags_Lost to Others  Tags_Not doing further education  \\\n",
       "0                    0                                 0   \n",
       "1                    0                                 0   \n",
       "2                    0                                 0   \n",
       "3                    0                                 0   \n",
       "4                    0                                 0   \n",
       "\n",
       "   Tags_Recognition issue (DEC approval)  Tags_Ringing  \\\n",
       "0                                      0             0   \n",
       "1                                      0             1   \n",
       "2                                      0             0   \n",
       "3                                      0             1   \n",
       "4                                      0             0   \n",
       "\n",
       "   Tags_Shall take in the next coming month  Tags_Still Thinking  \\\n",
       "0                                         0                    0   \n",
       "1                                         0                    0   \n",
       "2                                         0                    0   \n",
       "3                                         0                    0   \n",
       "4                                         0                    0   \n",
       "\n",
       "   Tags_University not recognized  Tags_Unspecified  \\\n",
       "0                               0                 0   \n",
       "1                               0                 0   \n",
       "2                               0                 0   \n",
       "3                               0                 0   \n",
       "4                               0                 0   \n",
       "\n",
       "   Tags_Want to take admission but has financial problems  \\\n",
       "0                                                  0        \n",
       "1                                                  0        \n",
       "2                                                  0        \n",
       "3                                                  0        \n",
       "4                                                  0        \n",
       "\n",
       "   Tags_Will revert after reading the email  Tags_in touch with EINS  \\\n",
       "0                                         0                        0   \n",
       "1                                         0                        0   \n",
       "2                                         1                        0   \n",
       "3                                         0                        0   \n",
       "4                                         1                        0   \n",
       "\n",
       "   Tags_invalid number  Tags_number not provided  Tags_opp hangup  \\\n",
       "0                    0                         0                0   \n",
       "1                    0                         0                0   \n",
       "2                    0                         0                0   \n",
       "3                    0                         0                0   \n",
       "4                    0                         0                0   \n",
       "\n",
       "   Tags_switched off  Tags_wrong number given  Lead Quality_Low in Relevance  \\\n",
       "0                  0                        0                              1   \n",
       "1                  0                        0                              0   \n",
       "2                  0                        0                              0   \n",
       "3                  0                        0                              0   \n",
       "4                  0                        0                              0   \n",
       "\n",
       "   Lead Quality_Might be  Lead Quality_Not Sure  Lead Quality_Worst  \\\n",
       "0                      0                      0                   0   \n",
       "1                      0                      1                   0   \n",
       "2                      1                      0                   0   \n",
       "3                      0                      1                   0   \n",
       "4                      1                      0                   0   \n",
       "\n",
       "   City_Other Cities  City_Other Cities of Maharashtra  \\\n",
       "0                  0                                 0   \n",
       "1                  0                                 0   \n",
       "2                  0                                 0   \n",
       "3                  0                                 0   \n",
       "4                  0                                 0   \n",
       "\n",
       "   City_Other Metro Cities  City_Thane & Outskirts  City_Tier II Cities  \\\n",
       "0                        0                       0                    0   \n",
       "1                        0                       0                    0   \n",
       "2                        0                       0                    0   \n",
       "3                        0                       0                    0   \n",
       "4                        0                       0                    0   \n",
       "\n",
       "   City_Unspecified  Last Notable Activity_Email Bounced  \\\n",
       "0                 1                                    0   \n",
       "1                 1                                    0   \n",
       "2                 0                                    0   \n",
       "3                 0                                    0   \n",
       "4                 0                                    0   \n",
       "\n",
       "   Last Notable Activity_Email Link Clicked  \\\n",
       "0                                         0   \n",
       "1                                         0   \n",
       "2                                         0   \n",
       "3                                         0   \n",
       "4                                         0   \n",
       "\n",
       "   Last Notable Activity_Email Marked Spam  \\\n",
       "0                                        0   \n",
       "1                                        0   \n",
       "2                                        0   \n",
       "3                                        0   \n",
       "4                                        0   \n",
       "\n",
       "   Last Notable Activity_Email Opened  Last Notable Activity_Email Received  \\\n",
       "0                                   0                                     0   \n",
       "1                                   1                                     0   \n",
       "2                                   1                                     0   \n",
       "3                                   0                                     0   \n",
       "4                                   0                                     0   \n",
       "\n",
       "   Last Notable Activity_Form Submitted on Website  \\\n",
       "0                                                0   \n",
       "1                                                0   \n",
       "2                                                0   \n",
       "3                                                0   \n",
       "4                                                0   \n",
       "\n",
       "   Last Notable Activity_Had a Phone Conversation  \\\n",
       "0                                               0   \n",
       "1                                               0   \n",
       "2                                               0   \n",
       "3                                               0   \n",
       "4                                               0   \n",
       "\n",
       "   Last Notable Activity_Modified  \\\n",
       "0                               1   \n",
       "1                               0   \n",
       "2                               0   \n",
       "3                               1   \n",
       "4                               1   \n",
       "\n",
       "   Last Notable Activity_Olark Chat Conversation  \\\n",
       "0                                              0   \n",
       "1                                              0   \n",
       "2                                              0   \n",
       "3                                              0   \n",
       "4                                              0   \n",
       "\n",
       "   Last Notable Activity_Page Visited on Website  \\\n",
       "0                                              0   \n",
       "1                                              0   \n",
       "2                                              0   \n",
       "3                                              0   \n",
       "4                                              0   \n",
       "\n",
       "   Last Notable Activity_Resubscribed to emails  \\\n",
       "0                                             0   \n",
       "1                                             0   \n",
       "2                                             0   \n",
       "3                                             0   \n",
       "4                                             0   \n",
       "\n",
       "   Last Notable Activity_SMS Sent  Last Notable Activity_Unreachable  \\\n",
       "0                               0                                  0   \n",
       "1                               0                                  0   \n",
       "2                               0                                  0   \n",
       "3                               0                                  0   \n",
       "4                               0                                  0   \n",
       "\n",
       "   Last Notable Activity_Unsubscribed  \\\n",
       "0                                   0   \n",
       "1                                   0   \n",
       "2                                   0   \n",
       "3                                   0   \n",
       "4                                   0   \n",
       "\n",
       "   Last Notable Activity_View in browser link Clicked  \n",
       "0                                                  0   \n",
       "1                                                  0   \n",
       "2                                                  0   \n",
       "3                                                  0   \n",
       "4                                                  0   "
      ]
     },
     "execution_count": 89,
     "metadata": {},
     "output_type": "execute_result"
    }
   ],
   "source": [
    "# Dummy variables can be created for all the categorical columns\n",
    "cols_dummies = ['Lead Origin','Lead Source','Last Activity','Specialization','What is your current occupation','Tags','Lead Quality','City','Last Notable Activity']\n",
    "leads_dummies = pd.get_dummies(leads_df[cols_dummies],drop_first=True)\n",
    "leads_df = pd.concat([leads_df, leads_dummies], axis=1)\n",
    "leads_df.drop(cols_dummies,axis=1,inplace=True)\n",
    "leads_df.head()"
   ]
  },
  {
   "cell_type": "markdown",
   "metadata": {},
   "source": [
    "#### Splitting the data into train set and test set"
   ]
  },
  {
   "cell_type": "code",
   "execution_count": 90,
   "metadata": {
    "ExecuteTime": {
     "end_time": "2019-06-09T14:36:37.940978Z",
     "start_time": "2019-06-09T14:36:37.924936Z"
    }
   },
   "outputs": [],
   "source": [
    "# Putting feature variable to X\n",
    "x = leads_df.drop(['Prospect ID', 'Lead Number','Converted'], axis=1)\n",
    "y = leads_df['Converted']\n",
    "\n",
    "# Splitting the data into train and test\n",
    "x_train, x_test, y_train, y_test = train_test_split(x, y, train_size=0.7, test_size=0.3, random_state=100)"
   ]
  },
  {
   "cell_type": "markdown",
   "metadata": {},
   "source": [
    "#### Feature scaling"
   ]
  },
  {
   "cell_type": "code",
   "execution_count": 91,
   "metadata": {
    "ExecuteTime": {
     "end_time": "2019-06-09T14:36:40.666336Z",
     "start_time": "2019-06-09T14:36:40.387593Z"
    }
   },
   "outputs": [
    {
     "name": "stderr",
     "output_type": "stream",
     "text": [
      "C:\\Users\\H253015\\AppData\\Local\\Continuum\\anaconda3\\lib\\site-packages\\sklearn\\preprocessing\\data.py:645: DataConversionWarning: Data with input dtype int64, float64 were all converted to float64 by StandardScaler.\n",
      "  return self.partial_fit(X, y)\n",
      "C:\\Users\\H253015\\AppData\\Local\\Continuum\\anaconda3\\lib\\site-packages\\sklearn\\base.py:464: DataConversionWarning: Data with input dtype int64, float64 were all converted to float64 by StandardScaler.\n",
      "  return self.fit(X, **fit_params).transform(X)\n"
     ]
    },
    {
     "data": {
      "text/html": [
       "<div>\n",
       "<style scoped>\n",
       "    .dataframe tbody tr th:only-of-type {\n",
       "        vertical-align: middle;\n",
       "    }\n",
       "\n",
       "    .dataframe tbody tr th {\n",
       "        vertical-align: top;\n",
       "    }\n",
       "\n",
       "    .dataframe thead th {\n",
       "        text-align: right;\n",
       "    }\n",
       "</style>\n",
       "<table border=\"1\" class=\"dataframe\">\n",
       "  <thead>\n",
       "    <tr style=\"text-align: right;\">\n",
       "      <th></th>\n",
       "      <th>Do Not Email</th>\n",
       "      <th>TotalVisits</th>\n",
       "      <th>Total Time Spent on Website</th>\n",
       "      <th>Page Views Per Visit</th>\n",
       "      <th>A free copy of Mastering The Interview</th>\n",
       "      <th>Lead Origin_Landing Page Submission</th>\n",
       "      <th>Lead Origin_Lead Add Form</th>\n",
       "      <th>Lead Origin_Lead Import</th>\n",
       "      <th>Lead Source_Facebook</th>\n",
       "      <th>Lead Source_Google</th>\n",
       "      <th>Lead Source_Olark Chat</th>\n",
       "      <th>Lead Source_Organic Search</th>\n",
       "      <th>Lead Source_Reference</th>\n",
       "      <th>Lead Source_Referral Sites</th>\n",
       "      <th>Lead Source_Welingak Website</th>\n",
       "      <th>Last Activity_Converted to Lead</th>\n",
       "      <th>Last Activity_Email Bounced</th>\n",
       "      <th>Last Activity_Email Link Clicked</th>\n",
       "      <th>Last Activity_Email Marked Spam</th>\n",
       "      <th>Last Activity_Email Opened</th>\n",
       "      <th>Last Activity_Email Received</th>\n",
       "      <th>Last Activity_Form Submitted on Website</th>\n",
       "      <th>Last Activity_Had a Phone Conversation</th>\n",
       "      <th>Last Activity_Olark Chat Conversation</th>\n",
       "      <th>Last Activity_Page Visited on Website</th>\n",
       "      <th>Last Activity_Resubscribed to emails</th>\n",
       "      <th>Last Activity_SMS Sent</th>\n",
       "      <th>Last Activity_Unreachable</th>\n",
       "      <th>Last Activity_Unsubscribed</th>\n",
       "      <th>Last Activity_View in browser link Clicked</th>\n",
       "      <th>Last Activity_Visited Booth in Tradeshow</th>\n",
       "      <th>Specialization_Business Administration</th>\n",
       "      <th>Specialization_E-Business</th>\n",
       "      <th>Specialization_E-COMMERCE</th>\n",
       "      <th>Specialization_Finance Management</th>\n",
       "      <th>Specialization_Healthcare Management</th>\n",
       "      <th>Specialization_Hospitality Management</th>\n",
       "      <th>Specialization_Human Resource Management</th>\n",
       "      <th>Specialization_IT Projects Management</th>\n",
       "      <th>Specialization_International Business</th>\n",
       "      <th>Specialization_Marketing Management</th>\n",
       "      <th>Specialization_Media and Advertising</th>\n",
       "      <th>Specialization_Operations Management</th>\n",
       "      <th>Specialization_Others</th>\n",
       "      <th>Specialization_Retail Management</th>\n",
       "      <th>Specialization_Rural and Agribusiness</th>\n",
       "      <th>Specialization_Services Excellence</th>\n",
       "      <th>Specialization_Supply Chain Management</th>\n",
       "      <th>Specialization_Travel and Tourism</th>\n",
       "      <th>What is your current occupation_Housewife</th>\n",
       "      <th>What is your current occupation_Other</th>\n",
       "      <th>What is your current occupation_Student</th>\n",
       "      <th>What is your current occupation_Unemployed</th>\n",
       "      <th>What is your current occupation_Unspecified</th>\n",
       "      <th>What is your current occupation_Working Professional</th>\n",
       "      <th>Tags_Busy</th>\n",
       "      <th>Tags_Closed by Horizzon</th>\n",
       "      <th>Tags_Diploma holder (Not Eligible)</th>\n",
       "      <th>Tags_Graduation in progress</th>\n",
       "      <th>Tags_In confusion whether part time or DLP</th>\n",
       "      <th>Tags_Interested  in full time MBA</th>\n",
       "      <th>Tags_Interested in Next batch</th>\n",
       "      <th>Tags_Interested in other courses</th>\n",
       "      <th>Tags_Lateral student</th>\n",
       "      <th>Tags_Lost to EINS</th>\n",
       "      <th>Tags_Lost to Others</th>\n",
       "      <th>Tags_Not doing further education</th>\n",
       "      <th>Tags_Recognition issue (DEC approval)</th>\n",
       "      <th>Tags_Ringing</th>\n",
       "      <th>Tags_Shall take in the next coming month</th>\n",
       "      <th>Tags_Still Thinking</th>\n",
       "      <th>Tags_University not recognized</th>\n",
       "      <th>Tags_Unspecified</th>\n",
       "      <th>Tags_Want to take admission but has financial problems</th>\n",
       "      <th>Tags_Will revert after reading the email</th>\n",
       "      <th>Tags_in touch with EINS</th>\n",
       "      <th>Tags_invalid number</th>\n",
       "      <th>Tags_number not provided</th>\n",
       "      <th>Tags_opp hangup</th>\n",
       "      <th>Tags_switched off</th>\n",
       "      <th>Tags_wrong number given</th>\n",
       "      <th>Lead Quality_Low in Relevance</th>\n",
       "      <th>Lead Quality_Might be</th>\n",
       "      <th>Lead Quality_Not Sure</th>\n",
       "      <th>Lead Quality_Worst</th>\n",
       "      <th>City_Other Cities</th>\n",
       "      <th>City_Other Cities of Maharashtra</th>\n",
       "      <th>City_Other Metro Cities</th>\n",
       "      <th>City_Thane &amp; Outskirts</th>\n",
       "      <th>City_Tier II Cities</th>\n",
       "      <th>City_Unspecified</th>\n",
       "      <th>Last Notable Activity_Email Bounced</th>\n",
       "      <th>Last Notable Activity_Email Link Clicked</th>\n",
       "      <th>Last Notable Activity_Email Marked Spam</th>\n",
       "      <th>Last Notable Activity_Email Opened</th>\n",
       "      <th>Last Notable Activity_Email Received</th>\n",
       "      <th>Last Notable Activity_Form Submitted on Website</th>\n",
       "      <th>Last Notable Activity_Had a Phone Conversation</th>\n",
       "      <th>Last Notable Activity_Modified</th>\n",
       "      <th>Last Notable Activity_Olark Chat Conversation</th>\n",
       "      <th>Last Notable Activity_Page Visited on Website</th>\n",
       "      <th>Last Notable Activity_Resubscribed to emails</th>\n",
       "      <th>Last Notable Activity_SMS Sent</th>\n",
       "      <th>Last Notable Activity_Unreachable</th>\n",
       "      <th>Last Notable Activity_Unsubscribed</th>\n",
       "      <th>Last Notable Activity_View in browser link Clicked</th>\n",
       "    </tr>\n",
       "  </thead>\n",
       "  <tbody>\n",
       "    <tr>\n",
       "      <th>4045</th>\n",
       "      <td>0</td>\n",
       "      <td>-0.43</td>\n",
       "      <td>-0.40</td>\n",
       "      <td>-0.15</td>\n",
       "      <td>0</td>\n",
       "      <td>0</td>\n",
       "      <td>0</td>\n",
       "      <td>0</td>\n",
       "      <td>0</td>\n",
       "      <td>1</td>\n",
       "      <td>0</td>\n",
       "      <td>0</td>\n",
       "      <td>0</td>\n",
       "      <td>0</td>\n",
       "      <td>0</td>\n",
       "      <td>0</td>\n",
       "      <td>0</td>\n",
       "      <td>0</td>\n",
       "      <td>0</td>\n",
       "      <td>0</td>\n",
       "      <td>0</td>\n",
       "      <td>0</td>\n",
       "      <td>0</td>\n",
       "      <td>0</td>\n",
       "      <td>0</td>\n",
       "      <td>0</td>\n",
       "      <td>1</td>\n",
       "      <td>0</td>\n",
       "      <td>0</td>\n",
       "      <td>0</td>\n",
       "      <td>0</td>\n",
       "      <td>0</td>\n",
       "      <td>0</td>\n",
       "      <td>0</td>\n",
       "      <td>0</td>\n",
       "      <td>0</td>\n",
       "      <td>0</td>\n",
       "      <td>0</td>\n",
       "      <td>0</td>\n",
       "      <td>0</td>\n",
       "      <td>0</td>\n",
       "      <td>0</td>\n",
       "      <td>0</td>\n",
       "      <td>1</td>\n",
       "      <td>0</td>\n",
       "      <td>0</td>\n",
       "      <td>0</td>\n",
       "      <td>0</td>\n",
       "      <td>0</td>\n",
       "      <td>0</td>\n",
       "      <td>0</td>\n",
       "      <td>0</td>\n",
       "      <td>1</td>\n",
       "      <td>0</td>\n",
       "      <td>0</td>\n",
       "      <td>0</td>\n",
       "      <td>0</td>\n",
       "      <td>0</td>\n",
       "      <td>0</td>\n",
       "      <td>0</td>\n",
       "      <td>0</td>\n",
       "      <td>0</td>\n",
       "      <td>0</td>\n",
       "      <td>0</td>\n",
       "      <td>0</td>\n",
       "      <td>0</td>\n",
       "      <td>0</td>\n",
       "      <td>0</td>\n",
       "      <td>1</td>\n",
       "      <td>0</td>\n",
       "      <td>0</td>\n",
       "      <td>0</td>\n",
       "      <td>0</td>\n",
       "      <td>0</td>\n",
       "      <td>0</td>\n",
       "      <td>0</td>\n",
       "      <td>0</td>\n",
       "      <td>0</td>\n",
       "      <td>0</td>\n",
       "      <td>0</td>\n",
       "      <td>0</td>\n",
       "      <td>0</td>\n",
       "      <td>1</td>\n",
       "      <td>0</td>\n",
       "      <td>0</td>\n",
       "      <td>0</td>\n",
       "      <td>0</td>\n",
       "      <td>0</td>\n",
       "      <td>0</td>\n",
       "      <td>0</td>\n",
       "      <td>1</td>\n",
       "      <td>0</td>\n",
       "      <td>0</td>\n",
       "      <td>0</td>\n",
       "      <td>0</td>\n",
       "      <td>0</td>\n",
       "      <td>0</td>\n",
       "      <td>0</td>\n",
       "      <td>0</td>\n",
       "      <td>0</td>\n",
       "      <td>0</td>\n",
       "      <td>0</td>\n",
       "      <td>1</td>\n",
       "      <td>0</td>\n",
       "      <td>0</td>\n",
       "      <td>0</td>\n",
       "    </tr>\n",
       "    <tr>\n",
       "      <th>1615</th>\n",
       "      <td>0</td>\n",
       "      <td>-1.15</td>\n",
       "      <td>-0.89</td>\n",
       "      <td>-1.27</td>\n",
       "      <td>0</td>\n",
       "      <td>0</td>\n",
       "      <td>0</td>\n",
       "      <td>0</td>\n",
       "      <td>0</td>\n",
       "      <td>0</td>\n",
       "      <td>1</td>\n",
       "      <td>0</td>\n",
       "      <td>0</td>\n",
       "      <td>0</td>\n",
       "      <td>0</td>\n",
       "      <td>0</td>\n",
       "      <td>0</td>\n",
       "      <td>0</td>\n",
       "      <td>0</td>\n",
       "      <td>0</td>\n",
       "      <td>0</td>\n",
       "      <td>0</td>\n",
       "      <td>0</td>\n",
       "      <td>0</td>\n",
       "      <td>0</td>\n",
       "      <td>0</td>\n",
       "      <td>1</td>\n",
       "      <td>0</td>\n",
       "      <td>0</td>\n",
       "      <td>0</td>\n",
       "      <td>0</td>\n",
       "      <td>0</td>\n",
       "      <td>0</td>\n",
       "      <td>0</td>\n",
       "      <td>0</td>\n",
       "      <td>0</td>\n",
       "      <td>0</td>\n",
       "      <td>0</td>\n",
       "      <td>0</td>\n",
       "      <td>0</td>\n",
       "      <td>0</td>\n",
       "      <td>0</td>\n",
       "      <td>0</td>\n",
       "      <td>1</td>\n",
       "      <td>0</td>\n",
       "      <td>0</td>\n",
       "      <td>0</td>\n",
       "      <td>0</td>\n",
       "      <td>0</td>\n",
       "      <td>0</td>\n",
       "      <td>0</td>\n",
       "      <td>0</td>\n",
       "      <td>1</td>\n",
       "      <td>0</td>\n",
       "      <td>0</td>\n",
       "      <td>0</td>\n",
       "      <td>0</td>\n",
       "      <td>0</td>\n",
       "      <td>0</td>\n",
       "      <td>0</td>\n",
       "      <td>0</td>\n",
       "      <td>0</td>\n",
       "      <td>0</td>\n",
       "      <td>0</td>\n",
       "      <td>0</td>\n",
       "      <td>0</td>\n",
       "      <td>0</td>\n",
       "      <td>0</td>\n",
       "      <td>0</td>\n",
       "      <td>0</td>\n",
       "      <td>0</td>\n",
       "      <td>0</td>\n",
       "      <td>1</td>\n",
       "      <td>0</td>\n",
       "      <td>0</td>\n",
       "      <td>0</td>\n",
       "      <td>0</td>\n",
       "      <td>0</td>\n",
       "      <td>0</td>\n",
       "      <td>0</td>\n",
       "      <td>0</td>\n",
       "      <td>0</td>\n",
       "      <td>0</td>\n",
       "      <td>1</td>\n",
       "      <td>0</td>\n",
       "      <td>0</td>\n",
       "      <td>0</td>\n",
       "      <td>0</td>\n",
       "      <td>0</td>\n",
       "      <td>0</td>\n",
       "      <td>1</td>\n",
       "      <td>0</td>\n",
       "      <td>0</td>\n",
       "      <td>0</td>\n",
       "      <td>0</td>\n",
       "      <td>0</td>\n",
       "      <td>0</td>\n",
       "      <td>0</td>\n",
       "      <td>0</td>\n",
       "      <td>0</td>\n",
       "      <td>0</td>\n",
       "      <td>0</td>\n",
       "      <td>1</td>\n",
       "      <td>0</td>\n",
       "      <td>0</td>\n",
       "      <td>0</td>\n",
       "    </tr>\n",
       "    <tr>\n",
       "      <th>2928</th>\n",
       "      <td>0</td>\n",
       "      <td>-0.43</td>\n",
       "      <td>-0.08</td>\n",
       "      <td>-0.15</td>\n",
       "      <td>0</td>\n",
       "      <td>1</td>\n",
       "      <td>0</td>\n",
       "      <td>0</td>\n",
       "      <td>0</td>\n",
       "      <td>0</td>\n",
       "      <td>0</td>\n",
       "      <td>0</td>\n",
       "      <td>0</td>\n",
       "      <td>0</td>\n",
       "      <td>0</td>\n",
       "      <td>0</td>\n",
       "      <td>0</td>\n",
       "      <td>0</td>\n",
       "      <td>0</td>\n",
       "      <td>0</td>\n",
       "      <td>0</td>\n",
       "      <td>0</td>\n",
       "      <td>0</td>\n",
       "      <td>1</td>\n",
       "      <td>0</td>\n",
       "      <td>0</td>\n",
       "      <td>0</td>\n",
       "      <td>0</td>\n",
       "      <td>0</td>\n",
       "      <td>0</td>\n",
       "      <td>0</td>\n",
       "      <td>0</td>\n",
       "      <td>0</td>\n",
       "      <td>0</td>\n",
       "      <td>0</td>\n",
       "      <td>0</td>\n",
       "      <td>0</td>\n",
       "      <td>0</td>\n",
       "      <td>0</td>\n",
       "      <td>0</td>\n",
       "      <td>1</td>\n",
       "      <td>0</td>\n",
       "      <td>0</td>\n",
       "      <td>0</td>\n",
       "      <td>0</td>\n",
       "      <td>0</td>\n",
       "      <td>0</td>\n",
       "      <td>0</td>\n",
       "      <td>0</td>\n",
       "      <td>0</td>\n",
       "      <td>0</td>\n",
       "      <td>0</td>\n",
       "      <td>0</td>\n",
       "      <td>1</td>\n",
       "      <td>0</td>\n",
       "      <td>0</td>\n",
       "      <td>0</td>\n",
       "      <td>0</td>\n",
       "      <td>0</td>\n",
       "      <td>0</td>\n",
       "      <td>0</td>\n",
       "      <td>0</td>\n",
       "      <td>0</td>\n",
       "      <td>0</td>\n",
       "      <td>0</td>\n",
       "      <td>0</td>\n",
       "      <td>0</td>\n",
       "      <td>0</td>\n",
       "      <td>0</td>\n",
       "      <td>0</td>\n",
       "      <td>0</td>\n",
       "      <td>0</td>\n",
       "      <td>1</td>\n",
       "      <td>0</td>\n",
       "      <td>0</td>\n",
       "      <td>0</td>\n",
       "      <td>0</td>\n",
       "      <td>0</td>\n",
       "      <td>0</td>\n",
       "      <td>0</td>\n",
       "      <td>0</td>\n",
       "      <td>0</td>\n",
       "      <td>0</td>\n",
       "      <td>1</td>\n",
       "      <td>0</td>\n",
       "      <td>0</td>\n",
       "      <td>0</td>\n",
       "      <td>0</td>\n",
       "      <td>0</td>\n",
       "      <td>0</td>\n",
       "      <td>0</td>\n",
       "      <td>0</td>\n",
       "      <td>0</td>\n",
       "      <td>0</td>\n",
       "      <td>0</td>\n",
       "      <td>0</td>\n",
       "      <td>0</td>\n",
       "      <td>0</td>\n",
       "      <td>0</td>\n",
       "      <td>1</td>\n",
       "      <td>0</td>\n",
       "      <td>0</td>\n",
       "      <td>0</td>\n",
       "      <td>0</td>\n",
       "      <td>0</td>\n",
       "      <td>0</td>\n",
       "    </tr>\n",
       "    <tr>\n",
       "      <th>1238</th>\n",
       "      <td>0</td>\n",
       "      <td>-1.15</td>\n",
       "      <td>-0.89</td>\n",
       "      <td>-1.27</td>\n",
       "      <td>0</td>\n",
       "      <td>0</td>\n",
       "      <td>0</td>\n",
       "      <td>0</td>\n",
       "      <td>0</td>\n",
       "      <td>0</td>\n",
       "      <td>1</td>\n",
       "      <td>0</td>\n",
       "      <td>0</td>\n",
       "      <td>0</td>\n",
       "      <td>0</td>\n",
       "      <td>0</td>\n",
       "      <td>0</td>\n",
       "      <td>0</td>\n",
       "      <td>0</td>\n",
       "      <td>0</td>\n",
       "      <td>0</td>\n",
       "      <td>0</td>\n",
       "      <td>0</td>\n",
       "      <td>1</td>\n",
       "      <td>0</td>\n",
       "      <td>0</td>\n",
       "      <td>0</td>\n",
       "      <td>0</td>\n",
       "      <td>0</td>\n",
       "      <td>0</td>\n",
       "      <td>0</td>\n",
       "      <td>0</td>\n",
       "      <td>0</td>\n",
       "      <td>0</td>\n",
       "      <td>0</td>\n",
       "      <td>0</td>\n",
       "      <td>0</td>\n",
       "      <td>0</td>\n",
       "      <td>0</td>\n",
       "      <td>0</td>\n",
       "      <td>0</td>\n",
       "      <td>0</td>\n",
       "      <td>0</td>\n",
       "      <td>1</td>\n",
       "      <td>0</td>\n",
       "      <td>0</td>\n",
       "      <td>0</td>\n",
       "      <td>0</td>\n",
       "      <td>0</td>\n",
       "      <td>0</td>\n",
       "      <td>0</td>\n",
       "      <td>0</td>\n",
       "      <td>0</td>\n",
       "      <td>1</td>\n",
       "      <td>0</td>\n",
       "      <td>0</td>\n",
       "      <td>0</td>\n",
       "      <td>0</td>\n",
       "      <td>0</td>\n",
       "      <td>0</td>\n",
       "      <td>0</td>\n",
       "      <td>0</td>\n",
       "      <td>0</td>\n",
       "      <td>0</td>\n",
       "      <td>0</td>\n",
       "      <td>0</td>\n",
       "      <td>0</td>\n",
       "      <td>0</td>\n",
       "      <td>0</td>\n",
       "      <td>0</td>\n",
       "      <td>0</td>\n",
       "      <td>0</td>\n",
       "      <td>1</td>\n",
       "      <td>0</td>\n",
       "      <td>0</td>\n",
       "      <td>0</td>\n",
       "      <td>0</td>\n",
       "      <td>0</td>\n",
       "      <td>0</td>\n",
       "      <td>0</td>\n",
       "      <td>0</td>\n",
       "      <td>0</td>\n",
       "      <td>0</td>\n",
       "      <td>1</td>\n",
       "      <td>0</td>\n",
       "      <td>0</td>\n",
       "      <td>0</td>\n",
       "      <td>0</td>\n",
       "      <td>0</td>\n",
       "      <td>0</td>\n",
       "      <td>1</td>\n",
       "      <td>0</td>\n",
       "      <td>0</td>\n",
       "      <td>0</td>\n",
       "      <td>0</td>\n",
       "      <td>0</td>\n",
       "      <td>0</td>\n",
       "      <td>0</td>\n",
       "      <td>1</td>\n",
       "      <td>0</td>\n",
       "      <td>0</td>\n",
       "      <td>0</td>\n",
       "      <td>0</td>\n",
       "      <td>0</td>\n",
       "      <td>0</td>\n",
       "      <td>0</td>\n",
       "    </tr>\n",
       "    <tr>\n",
       "      <th>6985</th>\n",
       "      <td>0</td>\n",
       "      <td>-1.15</td>\n",
       "      <td>-0.89</td>\n",
       "      <td>-1.27</td>\n",
       "      <td>0</td>\n",
       "      <td>0</td>\n",
       "      <td>0</td>\n",
       "      <td>0</td>\n",
       "      <td>0</td>\n",
       "      <td>0</td>\n",
       "      <td>1</td>\n",
       "      <td>0</td>\n",
       "      <td>0</td>\n",
       "      <td>0</td>\n",
       "      <td>0</td>\n",
       "      <td>0</td>\n",
       "      <td>0</td>\n",
       "      <td>0</td>\n",
       "      <td>0</td>\n",
       "      <td>1</td>\n",
       "      <td>0</td>\n",
       "      <td>0</td>\n",
       "      <td>0</td>\n",
       "      <td>0</td>\n",
       "      <td>0</td>\n",
       "      <td>0</td>\n",
       "      <td>0</td>\n",
       "      <td>0</td>\n",
       "      <td>0</td>\n",
       "      <td>0</td>\n",
       "      <td>0</td>\n",
       "      <td>0</td>\n",
       "      <td>0</td>\n",
       "      <td>0</td>\n",
       "      <td>0</td>\n",
       "      <td>0</td>\n",
       "      <td>0</td>\n",
       "      <td>0</td>\n",
       "      <td>0</td>\n",
       "      <td>0</td>\n",
       "      <td>0</td>\n",
       "      <td>0</td>\n",
       "      <td>0</td>\n",
       "      <td>1</td>\n",
       "      <td>0</td>\n",
       "      <td>0</td>\n",
       "      <td>0</td>\n",
       "      <td>0</td>\n",
       "      <td>0</td>\n",
       "      <td>0</td>\n",
       "      <td>0</td>\n",
       "      <td>0</td>\n",
       "      <td>0</td>\n",
       "      <td>1</td>\n",
       "      <td>0</td>\n",
       "      <td>0</td>\n",
       "      <td>0</td>\n",
       "      <td>0</td>\n",
       "      <td>0</td>\n",
       "      <td>0</td>\n",
       "      <td>0</td>\n",
       "      <td>0</td>\n",
       "      <td>0</td>\n",
       "      <td>0</td>\n",
       "      <td>0</td>\n",
       "      <td>0</td>\n",
       "      <td>0</td>\n",
       "      <td>0</td>\n",
       "      <td>0</td>\n",
       "      <td>0</td>\n",
       "      <td>0</td>\n",
       "      <td>0</td>\n",
       "      <td>1</td>\n",
       "      <td>0</td>\n",
       "      <td>0</td>\n",
       "      <td>0</td>\n",
       "      <td>0</td>\n",
       "      <td>0</td>\n",
       "      <td>0</td>\n",
       "      <td>0</td>\n",
       "      <td>0</td>\n",
       "      <td>0</td>\n",
       "      <td>0</td>\n",
       "      <td>1</td>\n",
       "      <td>0</td>\n",
       "      <td>0</td>\n",
       "      <td>0</td>\n",
       "      <td>0</td>\n",
       "      <td>0</td>\n",
       "      <td>0</td>\n",
       "      <td>1</td>\n",
       "      <td>0</td>\n",
       "      <td>0</td>\n",
       "      <td>0</td>\n",
       "      <td>1</td>\n",
       "      <td>0</td>\n",
       "      <td>0</td>\n",
       "      <td>0</td>\n",
       "      <td>0</td>\n",
       "      <td>0</td>\n",
       "      <td>0</td>\n",
       "      <td>0</td>\n",
       "      <td>0</td>\n",
       "      <td>0</td>\n",
       "      <td>0</td>\n",
       "      <td>0</td>\n",
       "    </tr>\n",
       "  </tbody>\n",
       "</table>\n",
       "</div>"
      ],
      "text/plain": [
       "      Do Not Email  TotalVisits  Total Time Spent on Website  \\\n",
       "4045             0        -0.43                        -0.40   \n",
       "1615             0        -1.15                        -0.89   \n",
       "2928             0        -0.43                        -0.08   \n",
       "1238             0        -1.15                        -0.89   \n",
       "6985             0        -1.15                        -0.89   \n",
       "\n",
       "      Page Views Per Visit  A free copy of Mastering The Interview  \\\n",
       "4045                 -0.15                                       0   \n",
       "1615                 -1.27                                       0   \n",
       "2928                 -0.15                                       0   \n",
       "1238                 -1.27                                       0   \n",
       "6985                 -1.27                                       0   \n",
       "\n",
       "      Lead Origin_Landing Page Submission  Lead Origin_Lead Add Form  \\\n",
       "4045                                    0                          0   \n",
       "1615                                    0                          0   \n",
       "2928                                    1                          0   \n",
       "1238                                    0                          0   \n",
       "6985                                    0                          0   \n",
       "\n",
       "      Lead Origin_Lead Import  Lead Source_Facebook  Lead Source_Google  \\\n",
       "4045                        0                     0                   1   \n",
       "1615                        0                     0                   0   \n",
       "2928                        0                     0                   0   \n",
       "1238                        0                     0                   0   \n",
       "6985                        0                     0                   0   \n",
       "\n",
       "      Lead Source_Olark Chat  Lead Source_Organic Search  \\\n",
       "4045                       0                           0   \n",
       "1615                       1                           0   \n",
       "2928                       0                           0   \n",
       "1238                       1                           0   \n",
       "6985                       1                           0   \n",
       "\n",
       "      Lead Source_Reference  Lead Source_Referral Sites  \\\n",
       "4045                      0                           0   \n",
       "1615                      0                           0   \n",
       "2928                      0                           0   \n",
       "1238                      0                           0   \n",
       "6985                      0                           0   \n",
       "\n",
       "      Lead Source_Welingak Website  Last Activity_Converted to Lead  \\\n",
       "4045                             0                                0   \n",
       "1615                             0                                0   \n",
       "2928                             0                                0   \n",
       "1238                             0                                0   \n",
       "6985                             0                                0   \n",
       "\n",
       "      Last Activity_Email Bounced  Last Activity_Email Link Clicked  \\\n",
       "4045                            0                                 0   \n",
       "1615                            0                                 0   \n",
       "2928                            0                                 0   \n",
       "1238                            0                                 0   \n",
       "6985                            0                                 0   \n",
       "\n",
       "      Last Activity_Email Marked Spam  Last Activity_Email Opened  \\\n",
       "4045                                0                           0   \n",
       "1615                                0                           0   \n",
       "2928                                0                           0   \n",
       "1238                                0                           0   \n",
       "6985                                0                           1   \n",
       "\n",
       "      Last Activity_Email Received  Last Activity_Form Submitted on Website  \\\n",
       "4045                             0                                        0   \n",
       "1615                             0                                        0   \n",
       "2928                             0                                        0   \n",
       "1238                             0                                        0   \n",
       "6985                             0                                        0   \n",
       "\n",
       "      Last Activity_Had a Phone Conversation  \\\n",
       "4045                                       0   \n",
       "1615                                       0   \n",
       "2928                                       0   \n",
       "1238                                       0   \n",
       "6985                                       0   \n",
       "\n",
       "      Last Activity_Olark Chat Conversation  \\\n",
       "4045                                      0   \n",
       "1615                                      0   \n",
       "2928                                      1   \n",
       "1238                                      1   \n",
       "6985                                      0   \n",
       "\n",
       "      Last Activity_Page Visited on Website  \\\n",
       "4045                                      0   \n",
       "1615                                      0   \n",
       "2928                                      0   \n",
       "1238                                      0   \n",
       "6985                                      0   \n",
       "\n",
       "      Last Activity_Resubscribed to emails  Last Activity_SMS Sent  \\\n",
       "4045                                     0                       1   \n",
       "1615                                     0                       1   \n",
       "2928                                     0                       0   \n",
       "1238                                     0                       0   \n",
       "6985                                     0                       0   \n",
       "\n",
       "      Last Activity_Unreachable  Last Activity_Unsubscribed  \\\n",
       "4045                          0                           0   \n",
       "1615                          0                           0   \n",
       "2928                          0                           0   \n",
       "1238                          0                           0   \n",
       "6985                          0                           0   \n",
       "\n",
       "      Last Activity_View in browser link Clicked  \\\n",
       "4045                                           0   \n",
       "1615                                           0   \n",
       "2928                                           0   \n",
       "1238                                           0   \n",
       "6985                                           0   \n",
       "\n",
       "      Last Activity_Visited Booth in Tradeshow  \\\n",
       "4045                                         0   \n",
       "1615                                         0   \n",
       "2928                                         0   \n",
       "1238                                         0   \n",
       "6985                                         0   \n",
       "\n",
       "      Specialization_Business Administration  Specialization_E-Business  \\\n",
       "4045                                       0                          0   \n",
       "1615                                       0                          0   \n",
       "2928                                       0                          0   \n",
       "1238                                       0                          0   \n",
       "6985                                       0                          0   \n",
       "\n",
       "      Specialization_E-COMMERCE  Specialization_Finance Management  \\\n",
       "4045                          0                                  0   \n",
       "1615                          0                                  0   \n",
       "2928                          0                                  0   \n",
       "1238                          0                                  0   \n",
       "6985                          0                                  0   \n",
       "\n",
       "      Specialization_Healthcare Management  \\\n",
       "4045                                     0   \n",
       "1615                                     0   \n",
       "2928                                     0   \n",
       "1238                                     0   \n",
       "6985                                     0   \n",
       "\n",
       "      Specialization_Hospitality Management  \\\n",
       "4045                                      0   \n",
       "1615                                      0   \n",
       "2928                                      0   \n",
       "1238                                      0   \n",
       "6985                                      0   \n",
       "\n",
       "      Specialization_Human Resource Management  \\\n",
       "4045                                         0   \n",
       "1615                                         0   \n",
       "2928                                         0   \n",
       "1238                                         0   \n",
       "6985                                         0   \n",
       "\n",
       "      Specialization_IT Projects Management  \\\n",
       "4045                                      0   \n",
       "1615                                      0   \n",
       "2928                                      0   \n",
       "1238                                      0   \n",
       "6985                                      0   \n",
       "\n",
       "      Specialization_International Business  \\\n",
       "4045                                      0   \n",
       "1615                                      0   \n",
       "2928                                      0   \n",
       "1238                                      0   \n",
       "6985                                      0   \n",
       "\n",
       "      Specialization_Marketing Management  \\\n",
       "4045                                    0   \n",
       "1615                                    0   \n",
       "2928                                    1   \n",
       "1238                                    0   \n",
       "6985                                    0   \n",
       "\n",
       "      Specialization_Media and Advertising  \\\n",
       "4045                                     0   \n",
       "1615                                     0   \n",
       "2928                                     0   \n",
       "1238                                     0   \n",
       "6985                                     0   \n",
       "\n",
       "      Specialization_Operations Management  Specialization_Others  \\\n",
       "4045                                     0                      1   \n",
       "1615                                     0                      1   \n",
       "2928                                     0                      0   \n",
       "1238                                     0                      1   \n",
       "6985                                     0                      1   \n",
       "\n",
       "      Specialization_Retail Management  Specialization_Rural and Agribusiness  \\\n",
       "4045                                 0                                      0   \n",
       "1615                                 0                                      0   \n",
       "2928                                 0                                      0   \n",
       "1238                                 0                                      0   \n",
       "6985                                 0                                      0   \n",
       "\n",
       "      Specialization_Services Excellence  \\\n",
       "4045                                   0   \n",
       "1615                                   0   \n",
       "2928                                   0   \n",
       "1238                                   0   \n",
       "6985                                   0   \n",
       "\n",
       "      Specialization_Supply Chain Management  \\\n",
       "4045                                       0   \n",
       "1615                                       0   \n",
       "2928                                       0   \n",
       "1238                                       0   \n",
       "6985                                       0   \n",
       "\n",
       "      Specialization_Travel and Tourism  \\\n",
       "4045                                  0   \n",
       "1615                                  0   \n",
       "2928                                  0   \n",
       "1238                                  0   \n",
       "6985                                  0   \n",
       "\n",
       "      What is your current occupation_Housewife  \\\n",
       "4045                                          0   \n",
       "1615                                          0   \n",
       "2928                                          0   \n",
       "1238                                          0   \n",
       "6985                                          0   \n",
       "\n",
       "      What is your current occupation_Other  \\\n",
       "4045                                      0   \n",
       "1615                                      0   \n",
       "2928                                      0   \n",
       "1238                                      0   \n",
       "6985                                      0   \n",
       "\n",
       "      What is your current occupation_Student  \\\n",
       "4045                                        0   \n",
       "1615                                        0   \n",
       "2928                                        0   \n",
       "1238                                        0   \n",
       "6985                                        0   \n",
       "\n",
       "      What is your current occupation_Unemployed  \\\n",
       "4045                                           1   \n",
       "1615                                           1   \n",
       "2928                                           0   \n",
       "1238                                           0   \n",
       "6985                                           0   \n",
       "\n",
       "      What is your current occupation_Unspecified  \\\n",
       "4045                                            0   \n",
       "1615                                            0   \n",
       "2928                                            1   \n",
       "1238                                            1   \n",
       "6985                                            1   \n",
       "\n",
       "      What is your current occupation_Working Professional  Tags_Busy  \\\n",
       "4045                                                  0             0   \n",
       "1615                                                  0             0   \n",
       "2928                                                  0             0   \n",
       "1238                                                  0             0   \n",
       "6985                                                  0             0   \n",
       "\n",
       "      Tags_Closed by Horizzon  Tags_Diploma holder (Not Eligible)  \\\n",
       "4045                        0                                   0   \n",
       "1615                        0                                   0   \n",
       "2928                        0                                   0   \n",
       "1238                        0                                   0   \n",
       "6985                        0                                   0   \n",
       "\n",
       "      Tags_Graduation in progress  Tags_In confusion whether part time or DLP  \\\n",
       "4045                            0                                           0   \n",
       "1615                            0                                           0   \n",
       "2928                            0                                           0   \n",
       "1238                            0                                           0   \n",
       "6985                            0                                           0   \n",
       "\n",
       "      Tags_Interested  in full time MBA  Tags_Interested in Next batch  \\\n",
       "4045                                  0                              0   \n",
       "1615                                  0                              0   \n",
       "2928                                  0                              0   \n",
       "1238                                  0                              0   \n",
       "6985                                  0                              0   \n",
       "\n",
       "      Tags_Interested in other courses  Tags_Lateral student  \\\n",
       "4045                                 0                     0   \n",
       "1615                                 0                     0   \n",
       "2928                                 0                     0   \n",
       "1238                                 0                     0   \n",
       "6985                                 0                     0   \n",
       "\n",
       "      Tags_Lost to EINS  Tags_Lost to Others  \\\n",
       "4045                  0                    0   \n",
       "1615                  0                    0   \n",
       "2928                  0                    0   \n",
       "1238                  0                    0   \n",
       "6985                  0                    0   \n",
       "\n",
       "      Tags_Not doing further education  Tags_Recognition issue (DEC approval)  \\\n",
       "4045                                 0                                      0   \n",
       "1615                                 0                                      0   \n",
       "2928                                 0                                      0   \n",
       "1238                                 0                                      0   \n",
       "6985                                 0                                      0   \n",
       "\n",
       "      Tags_Ringing  Tags_Shall take in the next coming month  \\\n",
       "4045             1                                         0   \n",
       "1615             0                                         0   \n",
       "2928             0                                         0   \n",
       "1238             0                                         0   \n",
       "6985             0                                         0   \n",
       "\n",
       "      Tags_Still Thinking  Tags_University not recognized  Tags_Unspecified  \\\n",
       "4045                    0                               0                 0   \n",
       "1615                    0                               0                 1   \n",
       "2928                    0                               0                 1   \n",
       "1238                    0                               0                 1   \n",
       "6985                    0                               0                 1   \n",
       "\n",
       "      Tags_Want to take admission but has financial problems  \\\n",
       "4045                                                  0        \n",
       "1615                                                  0        \n",
       "2928                                                  0        \n",
       "1238                                                  0        \n",
       "6985                                                  0        \n",
       "\n",
       "      Tags_Will revert after reading the email  Tags_in touch with EINS  \\\n",
       "4045                                         0                        0   \n",
       "1615                                         0                        0   \n",
       "2928                                         0                        0   \n",
       "1238                                         0                        0   \n",
       "6985                                         0                        0   \n",
       "\n",
       "      Tags_invalid number  Tags_number not provided  Tags_opp hangup  \\\n",
       "4045                    0                         0                0   \n",
       "1615                    0                         0                0   \n",
       "2928                    0                         0                0   \n",
       "1238                    0                         0                0   \n",
       "6985                    0                         0                0   \n",
       "\n",
       "      Tags_switched off  Tags_wrong number given  \\\n",
       "4045                  0                        0   \n",
       "1615                  0                        0   \n",
       "2928                  0                        0   \n",
       "1238                  0                        0   \n",
       "6985                  0                        0   \n",
       "\n",
       "      Lead Quality_Low in Relevance  Lead Quality_Might be  \\\n",
       "4045                              0                      1   \n",
       "1615                              0                      0   \n",
       "2928                              0                      0   \n",
       "1238                              0                      0   \n",
       "6985                              0                      0   \n",
       "\n",
       "      Lead Quality_Not Sure  Lead Quality_Worst  City_Other Cities  \\\n",
       "4045                      0                   0                  0   \n",
       "1615                      1                   0                  0   \n",
       "2928                      1                   0                  0   \n",
       "1238                      1                   0                  0   \n",
       "6985                      1                   0                  0   \n",
       "\n",
       "      City_Other Cities of Maharashtra  City_Other Metro Cities  \\\n",
       "4045                                 0                        0   \n",
       "1615                                 0                        0   \n",
       "2928                                 0                        0   \n",
       "1238                                 0                        0   \n",
       "6985                                 0                        0   \n",
       "\n",
       "      City_Thane & Outskirts  City_Tier II Cities  City_Unspecified  \\\n",
       "4045                       0                    0                 1   \n",
       "1615                       0                    0                 1   \n",
       "2928                       0                    0                 0   \n",
       "1238                       0                    0                 1   \n",
       "6985                       0                    0                 1   \n",
       "\n",
       "      Last Notable Activity_Email Bounced  \\\n",
       "4045                                    0   \n",
       "1615                                    0   \n",
       "2928                                    0   \n",
       "1238                                    0   \n",
       "6985                                    0   \n",
       "\n",
       "      Last Notable Activity_Email Link Clicked  \\\n",
       "4045                                         0   \n",
       "1615                                         0   \n",
       "2928                                         0   \n",
       "1238                                         0   \n",
       "6985                                         0   \n",
       "\n",
       "      Last Notable Activity_Email Marked Spam  \\\n",
       "4045                                        0   \n",
       "1615                                        0   \n",
       "2928                                        0   \n",
       "1238                                        0   \n",
       "6985                                        0   \n",
       "\n",
       "      Last Notable Activity_Email Opened  \\\n",
       "4045                                   0   \n",
       "1615                                   0   \n",
       "2928                                   0   \n",
       "1238                                   0   \n",
       "6985                                   1   \n",
       "\n",
       "      Last Notable Activity_Email Received  \\\n",
       "4045                                     0   \n",
       "1615                                     0   \n",
       "2928                                     0   \n",
       "1238                                     0   \n",
       "6985                                     0   \n",
       "\n",
       "      Last Notable Activity_Form Submitted on Website  \\\n",
       "4045                                                0   \n",
       "1615                                                0   \n",
       "2928                                                0   \n",
       "1238                                                0   \n",
       "6985                                                0   \n",
       "\n",
       "      Last Notable Activity_Had a Phone Conversation  \\\n",
       "4045                                               0   \n",
       "1615                                               0   \n",
       "2928                                               0   \n",
       "1238                                               0   \n",
       "6985                                               0   \n",
       "\n",
       "      Last Notable Activity_Modified  \\\n",
       "4045                               0   \n",
       "1615                               0   \n",
       "2928                               0   \n",
       "1238                               1   \n",
       "6985                               0   \n",
       "\n",
       "      Last Notable Activity_Olark Chat Conversation  \\\n",
       "4045                                              0   \n",
       "1615                                              0   \n",
       "2928                                              1   \n",
       "1238                                              0   \n",
       "6985                                              0   \n",
       "\n",
       "      Last Notable Activity_Page Visited on Website  \\\n",
       "4045                                              0   \n",
       "1615                                              0   \n",
       "2928                                              0   \n",
       "1238                                              0   \n",
       "6985                                              0   \n",
       "\n",
       "      Last Notable Activity_Resubscribed to emails  \\\n",
       "4045                                             0   \n",
       "1615                                             0   \n",
       "2928                                             0   \n",
       "1238                                             0   \n",
       "6985                                             0   \n",
       "\n",
       "      Last Notable Activity_SMS Sent  Last Notable Activity_Unreachable  \\\n",
       "4045                               1                                  0   \n",
       "1615                               1                                  0   \n",
       "2928                               0                                  0   \n",
       "1238                               0                                  0   \n",
       "6985                               0                                  0   \n",
       "\n",
       "      Last Notable Activity_Unsubscribed  \\\n",
       "4045                                   0   \n",
       "1615                                   0   \n",
       "2928                                   0   \n",
       "1238                                   0   \n",
       "6985                                   0   \n",
       "\n",
       "      Last Notable Activity_View in browser link Clicked  \n",
       "4045                                                  0   \n",
       "1615                                                  0   \n",
       "2928                                                  0   \n",
       "1238                                                  0   \n",
       "6985                                                  0   "
      ]
     },
     "execution_count": 91,
     "metadata": {},
     "output_type": "execute_result"
    }
   ],
   "source": [
    "# 'TotalVisits','Total Time Spent on Website', are 'Page Views Per Visit' continous variables. They have to be scaled.\n",
    "\n",
    "scaler = StandardScaler()\n",
    "x_train[['TotalVisits','Total Time Spent on Website','Page Views Per Visit']] = scaler.fit_transform(x_train[['TotalVisits','Total Time Spent on Website','Page Views Per Visit']])\n",
    "x_train.head()"
   ]
  },
  {
   "cell_type": "markdown",
   "metadata": {},
   "source": [
    "#### Model Building"
   ]
  },
  {
   "cell_type": "markdown",
   "metadata": {},
   "source": [
    "#### Feature selection using RFE"
   ]
  },
  {
   "cell_type": "code",
   "execution_count": 92,
   "metadata": {
    "ExecuteTime": {
     "end_time": "2019-06-09T14:37:00.915017Z",
     "start_time": "2019-06-09T14:36:56.765441Z"
    }
   },
   "outputs": [],
   "source": [
    "lr = LogisticRegression()\n",
    "# running RFE with 15 variables\n",
    "rfe = RFE(lr, 15)\n",
    "rfe = rfe.fit(x_train, y_train)"
   ]
  },
  {
   "cell_type": "code",
   "execution_count": 93,
   "metadata": {
    "ExecuteTime": {
     "end_time": "2019-06-09T14:37:12.257118Z",
     "start_time": "2019-06-09T14:37:12.241074Z"
    }
   },
   "outputs": [
    {
     "data": {
      "text/plain": [
       "[('Do Not Email', False, 8),\n",
       " ('TotalVisits', False, 40),\n",
       " ('Total Time Spent on Website', False, 5),\n",
       " ('Page Views Per Visit', False, 41),\n",
       " ('A free copy of Mastering The Interview', False, 47),\n",
       " ('Lead Origin_Landing Page Submission', False, 32),\n",
       " ('Lead Origin_Lead Add Form', False, 4),\n",
       " ('Lead Origin_Lead Import', False, 62),\n",
       " ('Lead Source_Facebook', False, 43),\n",
       " ('Lead Source_Google', False, 88),\n",
       " ('Lead Source_Olark Chat', False, 6),\n",
       " ('Lead Source_Organic Search', False, 69),\n",
       " ('Lead Source_Reference', False, 66),\n",
       " ('Lead Source_Referral Sites', False, 42),\n",
       " ('Lead Source_Welingak Website', True, 1),\n",
       " ('Last Activity_Converted to Lead', False, 26),\n",
       " ('Last Activity_Email Bounced', False, 24),\n",
       " ('Last Activity_Email Link Clicked', False, 81),\n",
       " ('Last Activity_Email Marked Spam', False, 80),\n",
       " ('Last Activity_Email Opened', False, 60),\n",
       " ('Last Activity_Email Received', False, 90),\n",
       " ('Last Activity_Form Submitted on Website', False, 72),\n",
       " ('Last Activity_Had a Phone Conversation', False, 61),\n",
       " ('Last Activity_Olark Chat Conversation', False, 25),\n",
       " ('Last Activity_Page Visited on Website', False, 36),\n",
       " ('Last Activity_Resubscribed to emails', False, 55),\n",
       " ('Last Activity_SMS Sent', True, 1),\n",
       " ('Last Activity_Unreachable', False, 68),\n",
       " ('Last Activity_Unsubscribed', False, 83),\n",
       " ('Last Activity_View in browser link Clicked', False, 46),\n",
       " ('Last Activity_Visited Booth in Tradeshow', False, 92),\n",
       " ('Specialization_Business Administration', False, 56),\n",
       " ('Specialization_E-Business', False, 38),\n",
       " ('Specialization_E-COMMERCE', False, 54),\n",
       " ('Specialization_Finance Management', False, 67),\n",
       " ('Specialization_Healthcare Management', False, 79),\n",
       " ('Specialization_Hospitality Management', False, 17),\n",
       " ('Specialization_Human Resource Management', False, 50),\n",
       " ('Specialization_IT Projects Management', False, 86),\n",
       " ('Specialization_International Business', False, 28),\n",
       " ('Specialization_Marketing Management', False, 87),\n",
       " ('Specialization_Media and Advertising', False, 75),\n",
       " ('Specialization_Operations Management', False, 45),\n",
       " ('Specialization_Others', False, 33),\n",
       " ('Specialization_Retail Management', False, 64),\n",
       " ('Specialization_Rural and Agribusiness', False, 30),\n",
       " ('Specialization_Services Excellence', False, 85),\n",
       " ('Specialization_Supply Chain Management', False, 27),\n",
       " ('Specialization_Travel and Tourism', False, 18),\n",
       " ('What is your current occupation_Housewife', False, 51),\n",
       " ('What is your current occupation_Other', False, 52),\n",
       " ('What is your current occupation_Student', False, 71),\n",
       " ('What is your current occupation_Unemployed', False, 29),\n",
       " ('What is your current occupation_Unspecified', True, 1),\n",
       " ('What is your current occupation_Working Professional', False, 22),\n",
       " ('Tags_Busy', True, 1),\n",
       " ('Tags_Closed by Horizzon', True, 1),\n",
       " ('Tags_Diploma holder (Not Eligible)', False, 13),\n",
       " ('Tags_Graduation in progress', False, 31),\n",
       " ('Tags_In confusion whether part time or DLP', False, 59),\n",
       " ('Tags_Interested  in full time MBA', False, 12),\n",
       " ('Tags_Interested in Next batch', False, 21),\n",
       " ('Tags_Interested in other courses', False, 14),\n",
       " ('Tags_Lateral student', False, 2),\n",
       " ('Tags_Lost to EINS', True, 1),\n",
       " ('Tags_Lost to Others', False, 58),\n",
       " ('Tags_Not doing further education', False, 15),\n",
       " ('Tags_Recognition issue (DEC approval)', False, 48),\n",
       " ('Tags_Ringing', True, 1),\n",
       " ('Tags_Shall take in the next coming month', False, 49),\n",
       " ('Tags_Still Thinking', False, 35),\n",
       " ('Tags_University not recognized', False, 65),\n",
       " ('Tags_Unspecified', True, 1),\n",
       " ('Tags_Want to take admission but has financial problems', False, 77),\n",
       " ('Tags_Will revert after reading the email', True, 1),\n",
       " ('Tags_in touch with EINS', False, 16),\n",
       " ('Tags_invalid number', True, 1),\n",
       " ('Tags_number not provided', True, 1),\n",
       " ('Tags_opp hangup', False, 19),\n",
       " ('Tags_switched off', True, 1),\n",
       " ('Tags_wrong number given', True, 1),\n",
       " ('Lead Quality_Low in Relevance', False, 63),\n",
       " ('Lead Quality_Might be', False, 10),\n",
       " ('Lead Quality_Not Sure', False, 9),\n",
       " ('Lead Quality_Worst', True, 1),\n",
       " ('City_Other Cities', False, 78),\n",
       " ('City_Other Cities of Maharashtra', False, 44),\n",
       " ('City_Other Metro Cities', False, 73),\n",
       " ('City_Thane & Outskirts', False, 84),\n",
       " ('City_Tier II Cities', False, 53),\n",
       " ('City_Unspecified', False, 34),\n",
       " ('Last Notable Activity_Email Bounced', False, 89),\n",
       " ('Last Notable Activity_Email Link Clicked', False, 23),\n",
       " ('Last Notable Activity_Email Marked Spam', False, 82),\n",
       " ('Last Notable Activity_Email Opened', False, 37),\n",
       " ('Last Notable Activity_Email Received', False, 91),\n",
       " ('Last Notable Activity_Form Submitted on Website', False, 74),\n",
       " ('Last Notable Activity_Had a Phone Conversation', False, 7),\n",
       " ('Last Notable Activity_Modified', True, 1),\n",
       " ('Last Notable Activity_Olark Chat Conversation', False, 3),\n",
       " ('Last Notable Activity_Page Visited on Website', False, 39),\n",
       " ('Last Notable Activity_Resubscribed to emails', False, 57),\n",
       " ('Last Notable Activity_SMS Sent', False, 11),\n",
       " ('Last Notable Activity_Unreachable', False, 20),\n",
       " ('Last Notable Activity_Unsubscribed', False, 76),\n",
       " ('Last Notable Activity_View in browser link Clicked', False, 70)]"
      ]
     },
     "execution_count": 93,
     "metadata": {},
     "output_type": "execute_result"
    }
   ],
   "source": [
    "list(zip(x_train.columns, rfe.support_, rfe.ranking_))"
   ]
  },
  {
   "cell_type": "code",
   "execution_count": 94,
   "metadata": {
    "ExecuteTime": {
     "end_time": "2019-06-09T14:37:27.562367Z",
     "start_time": "2019-06-09T14:37:27.556851Z"
    }
   },
   "outputs": [
    {
     "data": {
      "text/plain": [
       "Index(['Lead Source_Welingak Website', 'Last Activity_SMS Sent',\n",
       "       'What is your current occupation_Unspecified', 'Tags_Busy',\n",
       "       'Tags_Closed by Horizzon', 'Tags_Lost to EINS', 'Tags_Ringing',\n",
       "       'Tags_Unspecified', 'Tags_Will revert after reading the email',\n",
       "       'Tags_invalid number', 'Tags_number not provided', 'Tags_switched off',\n",
       "       'Tags_wrong number given', 'Lead Quality_Worst',\n",
       "       'Last Notable Activity_Modified'],\n",
       "      dtype='object')"
      ]
     },
     "execution_count": 94,
     "metadata": {},
     "output_type": "execute_result"
    }
   ],
   "source": [
    "rfe_cols = x_train.columns[rfe.support_]\n",
    "rfe_cols"
   ]
  },
  {
   "cell_type": "code",
   "execution_count": 95,
   "metadata": {
    "ExecuteTime": {
     "end_time": "2019-06-09T14:37:29.330620Z",
     "start_time": "2019-06-09T14:37:29.324602Z"
    }
   },
   "outputs": [],
   "source": [
    "# dropping the columns not selected by RFE\n",
    "col = x_train.columns[~rfe.support_]\n",
    "x_train = x_train.drop(col,1)"
   ]
  },
  {
   "cell_type": "markdown",
   "metadata": {},
   "source": [
    "Creating Model using statsmodel for columns selected by RFE"
   ]
  },
  {
   "cell_type": "code",
   "execution_count": 96,
   "metadata": {
    "ExecuteTime": {
     "end_time": "2019-06-09T14:37:32.356151Z",
     "start_time": "2019-06-09T14:37:32.209008Z"
    }
   },
   "outputs": [
    {
     "data": {
      "text/html": [
       "<table class=\"simpletable\">\n",
       "<caption>Generalized Linear Model Regression Results</caption>\n",
       "<tr>\n",
       "  <th>Dep. Variable:</th>      <td>Converted</td>    <th>  No. Observations:  </th>  <td>  6335</td>  \n",
       "</tr>\n",
       "<tr>\n",
       "  <th>Model:</th>                 <td>GLM</td>       <th>  Df Residuals:      </th>  <td>  6319</td>  \n",
       "</tr>\n",
       "<tr>\n",
       "  <th>Model Family:</th>       <td>Binomial</td>     <th>  Df Model:          </th>  <td>    15</td>  \n",
       "</tr>\n",
       "<tr>\n",
       "  <th>Link Function:</th>        <td>logit</td>      <th>  Scale:             </th> <td>  1.0000</td> \n",
       "</tr>\n",
       "<tr>\n",
       "  <th>Method:</th>               <td>IRLS</td>       <th>  Log-Likelihood:    </th> <td> -1247.8</td> \n",
       "</tr>\n",
       "<tr>\n",
       "  <th>Date:</th>           <td>Sun, 09 Jun 2019</td> <th>  Deviance:          </th> <td>  2495.7</td> \n",
       "</tr>\n",
       "<tr>\n",
       "  <th>Time:</th>               <td>20:07:32</td>     <th>  Pearson chi2:      </th> <td>1.17e+04</td> \n",
       "</tr>\n",
       "<tr>\n",
       "  <th>No. Iterations:</th>        <td>23</td>        <th>  Covariance Type:   </th> <td>nonrobust</td>\n",
       "</tr>\n",
       "</table>\n",
       "<table class=\"simpletable\">\n",
       "<tr>\n",
       "                       <td></td>                          <th>coef</th>     <th>std err</th>      <th>z</th>      <th>P>|z|</th>  <th>[0.025</th>    <th>0.975]</th>  \n",
       "</tr>\n",
       "<tr>\n",
       "  <th>const</th>                                       <td>   -2.8112</td> <td>    0.207</td> <td>  -13.570</td> <td> 0.000</td> <td>   -3.217</td> <td>   -2.405</td>\n",
       "</tr>\n",
       "<tr>\n",
       "  <th>Lead Source_Welingak Website</th>                <td>    3.1796</td> <td>    1.024</td> <td>    3.104</td> <td> 0.002</td> <td>    1.172</td> <td>    5.188</td>\n",
       "</tr>\n",
       "<tr>\n",
       "  <th>Last Activity_SMS Sent</th>                      <td>    2.2232</td> <td>    0.120</td> <td>   18.534</td> <td> 0.000</td> <td>    1.988</td> <td>    2.458</td>\n",
       "</tr>\n",
       "<tr>\n",
       "  <th>What is your current occupation_Unspecified</th> <td>   -2.4944</td> <td>    0.142</td> <td>  -17.527</td> <td> 0.000</td> <td>   -2.773</td> <td>   -2.215</td>\n",
       "</tr>\n",
       "<tr>\n",
       "  <th>Tags_Busy</th>                                   <td>    2.0741</td> <td>    0.295</td> <td>    7.031</td> <td> 0.000</td> <td>    1.496</td> <td>    2.652</td>\n",
       "</tr>\n",
       "<tr>\n",
       "  <th>Tags_Closed by Horizzon</th>                     <td>    8.4027</td> <td>    0.744</td> <td>   11.296</td> <td> 0.000</td> <td>    6.945</td> <td>    9.861</td>\n",
       "</tr>\n",
       "<tr>\n",
       "  <th>Tags_Lost to EINS</th>                           <td>    8.8588</td> <td>    0.651</td> <td>   13.607</td> <td> 0.000</td> <td>    7.583</td> <td>   10.135</td>\n",
       "</tr>\n",
       "<tr>\n",
       "  <th>Tags_Ringing</th>                                <td>   -1.9773</td> <td>    0.303</td> <td>   -6.525</td> <td> 0.000</td> <td>   -2.571</td> <td>   -1.383</td>\n",
       "</tr>\n",
       "<tr>\n",
       "  <th>Tags_Unspecified</th>                            <td>    3.1704</td> <td>    0.231</td> <td>   13.714</td> <td> 0.000</td> <td>    2.717</td> <td>    3.623</td>\n",
       "</tr>\n",
       "<tr>\n",
       "  <th>Tags_Will revert after reading the email</th>    <td>    6.2634</td> <td>    0.264</td> <td>   23.720</td> <td> 0.000</td> <td>    5.746</td> <td>    6.781</td>\n",
       "</tr>\n",
       "<tr>\n",
       "  <th>Tags_invalid number</th>                         <td>   -1.8883</td> <td>    1.050</td> <td>   -1.798</td> <td> 0.072</td> <td>   -3.947</td> <td>    0.170</td>\n",
       "</tr>\n",
       "<tr>\n",
       "  <th>Tags_number not provided</th>                    <td>  -22.7732</td> <td> 2.74e+04</td> <td>   -0.001</td> <td> 0.999</td> <td>-5.37e+04</td> <td> 5.37e+04</td>\n",
       "</tr>\n",
       "<tr>\n",
       "  <th>Tags_switched off</th>                           <td>   -2.5223</td> <td>    0.627</td> <td>   -4.024</td> <td> 0.000</td> <td>   -3.751</td> <td>   -1.294</td>\n",
       "</tr>\n",
       "<tr>\n",
       "  <th>Tags_wrong number given</th>                     <td>  -22.6549</td> <td> 1.89e+04</td> <td>   -0.001</td> <td> 0.999</td> <td>-3.71e+04</td> <td> 3.71e+04</td>\n",
       "</tr>\n",
       "<tr>\n",
       "  <th>Lead Quality_Worst</th>                          <td>   -2.1823</td> <td>    0.721</td> <td>   -3.028</td> <td> 0.002</td> <td>   -3.595</td> <td>   -0.770</td>\n",
       "</tr>\n",
       "<tr>\n",
       "  <th>Last Notable Activity_Modified</th>              <td>   -1.5735</td> <td>    0.126</td> <td>  -12.442</td> <td> 0.000</td> <td>   -1.821</td> <td>   -1.326</td>\n",
       "</tr>\n",
       "</table>"
      ],
      "text/plain": [
       "<class 'statsmodels.iolib.summary.Summary'>\n",
       "\"\"\"\n",
       "                 Generalized Linear Model Regression Results                  \n",
       "==============================================================================\n",
       "Dep. Variable:              Converted   No. Observations:                 6335\n",
       "Model:                            GLM   Df Residuals:                     6319\n",
       "Model Family:                Binomial   Df Model:                           15\n",
       "Link Function:                  logit   Scale:                          1.0000\n",
       "Method:                          IRLS   Log-Likelihood:                -1247.8\n",
       "Date:                Sun, 09 Jun 2019   Deviance:                       2495.7\n",
       "Time:                        20:07:32   Pearson chi2:                 1.17e+04\n",
       "No. Iterations:                    23   Covariance Type:             nonrobust\n",
       "===============================================================================================================\n",
       "                                                  coef    std err          z      P>|z|      [0.025      0.975]\n",
       "---------------------------------------------------------------------------------------------------------------\n",
       "const                                          -2.8112      0.207    -13.570      0.000      -3.217      -2.405\n",
       "Lead Source_Welingak Website                    3.1796      1.024      3.104      0.002       1.172       5.188\n",
       "Last Activity_SMS Sent                          2.2232      0.120     18.534      0.000       1.988       2.458\n",
       "What is your current occupation_Unspecified    -2.4944      0.142    -17.527      0.000      -2.773      -2.215\n",
       "Tags_Busy                                       2.0741      0.295      7.031      0.000       1.496       2.652\n",
       "Tags_Closed by Horizzon                         8.4027      0.744     11.296      0.000       6.945       9.861\n",
       "Tags_Lost to EINS                               8.8588      0.651     13.607      0.000       7.583      10.135\n",
       "Tags_Ringing                                   -1.9773      0.303     -6.525      0.000      -2.571      -1.383\n",
       "Tags_Unspecified                                3.1704      0.231     13.714      0.000       2.717       3.623\n",
       "Tags_Will revert after reading the email        6.2634      0.264     23.720      0.000       5.746       6.781\n",
       "Tags_invalid number                            -1.8883      1.050     -1.798      0.072      -3.947       0.170\n",
       "Tags_number not provided                      -22.7732   2.74e+04     -0.001      0.999   -5.37e+04    5.37e+04\n",
       "Tags_switched off                              -2.5223      0.627     -4.024      0.000      -3.751      -1.294\n",
       "Tags_wrong number given                       -22.6549   1.89e+04     -0.001      0.999   -3.71e+04    3.71e+04\n",
       "Lead Quality_Worst                             -2.1823      0.721     -3.028      0.002      -3.595      -0.770\n",
       "Last Notable Activity_Modified                 -1.5735      0.126    -12.442      0.000      -1.821      -1.326\n",
       "===============================================================================================================\n",
       "\"\"\""
      ]
     },
     "execution_count": 96,
     "metadata": {},
     "output_type": "execute_result"
    }
   ],
   "source": [
    "x_train_sm = sm.add_constant(x_train)\n",
    "lr2 = sm.GLM(y_train,x_train_sm, family = sm.families.Binomial())\n",
    "res = lr2.fit()\n",
    "res.summary()"
   ]
  },
  {
   "cell_type": "code",
   "execution_count": 97,
   "metadata": {
    "ExecuteTime": {
     "end_time": "2019-06-09T14:37:39.620508Z",
     "start_time": "2019-06-09T14:37:39.455568Z"
    }
   },
   "outputs": [
    {
     "data": {
      "text/html": [
       "<div>\n",
       "<style scoped>\n",
       "    .dataframe tbody tr th:only-of-type {\n",
       "        vertical-align: middle;\n",
       "    }\n",
       "\n",
       "    .dataframe tbody tr th {\n",
       "        vertical-align: top;\n",
       "    }\n",
       "\n",
       "    .dataframe thead th {\n",
       "        text-align: right;\n",
       "    }\n",
       "</style>\n",
       "<table border=\"1\" class=\"dataframe\">\n",
       "  <thead>\n",
       "    <tr style=\"text-align: right;\">\n",
       "      <th></th>\n",
       "      <th>Features</th>\n",
       "      <th>VIF</th>\n",
       "    </tr>\n",
       "  </thead>\n",
       "  <tbody>\n",
       "    <tr>\n",
       "      <th>0</th>\n",
       "      <td>Lead Source_Welingak Website</td>\n",
       "      <td>1.12</td>\n",
       "    </tr>\n",
       "    <tr>\n",
       "      <th>5</th>\n",
       "      <td>Tags_Lost to EINS</td>\n",
       "      <td>1.06</td>\n",
       "    </tr>\n",
       "    <tr>\n",
       "      <th>4</th>\n",
       "      <td>Tags_Closed by Horizzon</td>\n",
       "      <td>1.05</td>\n",
       "    </tr>\n",
       "    <tr>\n",
       "      <th>3</th>\n",
       "      <td>Tags_Busy</td>\n",
       "      <td>1.04</td>\n",
       "    </tr>\n",
       "    <tr>\n",
       "      <th>11</th>\n",
       "      <td>Tags_switched off</td>\n",
       "      <td>1.04</td>\n",
       "    </tr>\n",
       "    <tr>\n",
       "      <th>9</th>\n",
       "      <td>Tags_invalid number</td>\n",
       "      <td>1.01</td>\n",
       "    </tr>\n",
       "    <tr>\n",
       "      <th>12</th>\n",
       "      <td>Tags_wrong number given</td>\n",
       "      <td>1.01</td>\n",
       "    </tr>\n",
       "    <tr>\n",
       "      <th>10</th>\n",
       "      <td>Tags_number not provided</td>\n",
       "      <td>1.00</td>\n",
       "    </tr>\n",
       "    <tr>\n",
       "      <th>13</th>\n",
       "      <td>Lead Quality_Worst</td>\n",
       "      <td>0.42</td>\n",
       "    </tr>\n",
       "    <tr>\n",
       "      <th>2</th>\n",
       "      <td>What is your current occupation_Unspecified</td>\n",
       "      <td>0.21</td>\n",
       "    </tr>\n",
       "    <tr>\n",
       "      <th>14</th>\n",
       "      <td>Last Notable Activity_Modified</td>\n",
       "      <td>0.15</td>\n",
       "    </tr>\n",
       "    <tr>\n",
       "      <th>1</th>\n",
       "      <td>Last Activity_SMS Sent</td>\n",
       "      <td>0.12</td>\n",
       "    </tr>\n",
       "    <tr>\n",
       "      <th>8</th>\n",
       "      <td>Tags_Will revert after reading the email</td>\n",
       "      <td>0.11</td>\n",
       "    </tr>\n",
       "    <tr>\n",
       "      <th>7</th>\n",
       "      <td>Tags_Unspecified</td>\n",
       "      <td>0.10</td>\n",
       "    </tr>\n",
       "    <tr>\n",
       "      <th>6</th>\n",
       "      <td>Tags_Ringing</td>\n",
       "      <td>0.07</td>\n",
       "    </tr>\n",
       "  </tbody>\n",
       "</table>\n",
       "</div>"
      ],
      "text/plain": [
       "                                       Features  VIF\n",
       "0                  Lead Source_Welingak Website 1.12\n",
       "5                             Tags_Lost to EINS 1.06\n",
       "4                       Tags_Closed by Horizzon 1.05\n",
       "3                                     Tags_Busy 1.04\n",
       "11                            Tags_switched off 1.04\n",
       "9                           Tags_invalid number 1.01\n",
       "12                      Tags_wrong number given 1.01\n",
       "10                     Tags_number not provided 1.00\n",
       "13                           Lead Quality_Worst 0.42\n",
       "2   What is your current occupation_Unspecified 0.21\n",
       "14               Last Notable Activity_Modified 0.15\n",
       "1                        Last Activity_SMS Sent 0.12\n",
       "8      Tags_Will revert after reading the email 0.11\n",
       "7                              Tags_Unspecified 0.10\n",
       "6                                  Tags_Ringing 0.07"
      ]
     },
     "execution_count": 97,
     "metadata": {},
     "output_type": "execute_result"
    }
   ],
   "source": [
    "# Checking the VIF values\n",
    "vif = pd.DataFrame()\n",
    "vif['Features'] = x_train.columns\n",
    "vif['VIF'] = [variance_inflation_factor(x_train.values, i) for i in range(x_train.shape[1])]\n",
    "vif['VIF'] = round(vif['VIF'], 2)\n",
    "vif = vif.sort_values(by = \"VIF\", ascending=False)\n",
    "vif"
   ]
  },
  {
   "cell_type": "markdown",
   "metadata": {},
   "source": [
    "'Tags_wrong number given' has a very high P-Value. Dropping this column and building model again."
   ]
  },
  {
   "cell_type": "code",
   "execution_count": 98,
   "metadata": {
    "ExecuteTime": {
     "end_time": "2019-06-09T14:37:44.776939Z",
     "start_time": "2019-06-09T14:37:44.648597Z"
    }
   },
   "outputs": [
    {
     "data": {
      "text/html": [
       "<table class=\"simpletable\">\n",
       "<caption>Generalized Linear Model Regression Results</caption>\n",
       "<tr>\n",
       "  <th>Dep. Variable:</th>      <td>Converted</td>    <th>  No. Observations:  </th>  <td>  6335</td>  \n",
       "</tr>\n",
       "<tr>\n",
       "  <th>Model:</th>                 <td>GLM</td>       <th>  Df Residuals:      </th>  <td>  6320</td>  \n",
       "</tr>\n",
       "<tr>\n",
       "  <th>Model Family:</th>       <td>Binomial</td>     <th>  Df Model:          </th>  <td>    14</td>  \n",
       "</tr>\n",
       "<tr>\n",
       "  <th>Link Function:</th>        <td>logit</td>      <th>  Scale:             </th> <td>  1.0000</td> \n",
       "</tr>\n",
       "<tr>\n",
       "  <th>Method:</th>               <td>IRLS</td>       <th>  Log-Likelihood:    </th> <td> -1253.2</td> \n",
       "</tr>\n",
       "<tr>\n",
       "  <th>Date:</th>           <td>Sun, 09 Jun 2019</td> <th>  Deviance:          </th> <td>  2506.3</td> \n",
       "</tr>\n",
       "<tr>\n",
       "  <th>Time:</th>               <td>20:07:44</td>     <th>  Pearson chi2:      </th> <td>1.15e+04</td> \n",
       "</tr>\n",
       "<tr>\n",
       "  <th>No. Iterations:</th>        <td>22</td>        <th>  Covariance Type:   </th> <td>nonrobust</td>\n",
       "</tr>\n",
       "</table>\n",
       "<table class=\"simpletable\">\n",
       "<tr>\n",
       "                       <td></td>                          <th>coef</th>     <th>std err</th>      <th>z</th>      <th>P>|z|</th>  <th>[0.025</th>    <th>0.975]</th>  \n",
       "</tr>\n",
       "<tr>\n",
       "  <th>const</th>                                       <td>   -2.9819</td> <td>    0.209</td> <td>  -14.290</td> <td> 0.000</td> <td>   -3.391</td> <td>   -2.573</td>\n",
       "</tr>\n",
       "<tr>\n",
       "  <th>Lead Source_Welingak Website</th>                <td>    3.1812</td> <td>    1.024</td> <td>    3.106</td> <td> 0.002</td> <td>    1.174</td> <td>    5.188</td>\n",
       "</tr>\n",
       "<tr>\n",
       "  <th>Last Activity_SMS Sent</th>                      <td>    2.1885</td> <td>    0.119</td> <td>   18.419</td> <td> 0.000</td> <td>    1.956</td> <td>    2.421</td>\n",
       "</tr>\n",
       "<tr>\n",
       "  <th>What is your current occupation_Unspecified</th> <td>   -2.4844</td> <td>    0.142</td> <td>  -17.540</td> <td> 0.000</td> <td>   -2.762</td> <td>   -2.207</td>\n",
       "</tr>\n",
       "<tr>\n",
       "  <th>Tags_Busy</th>                                   <td>    2.2611</td> <td>    0.294</td> <td>    7.700</td> <td> 0.000</td> <td>    1.686</td> <td>    2.837</td>\n",
       "</tr>\n",
       "<tr>\n",
       "  <th>Tags_Closed by Horizzon</th>                     <td>    8.5573</td> <td>    0.745</td> <td>   11.489</td> <td> 0.000</td> <td>    7.098</td> <td>   10.017</td>\n",
       "</tr>\n",
       "<tr>\n",
       "  <th>Tags_Lost to EINS</th>                           <td>    9.0039</td> <td>    0.652</td> <td>   13.808</td> <td> 0.000</td> <td>    7.726</td> <td>   10.282</td>\n",
       "</tr>\n",
       "<tr>\n",
       "  <th>Tags_Ringing</th>                                <td>   -1.7781</td> <td>    0.301</td> <td>   -5.911</td> <td> 0.000</td> <td>   -2.368</td> <td>   -1.188</td>\n",
       "</tr>\n",
       "<tr>\n",
       "  <th>Tags_Unspecified</th>                            <td>    3.3427</td> <td>    0.232</td> <td>   14.404</td> <td> 0.000</td> <td>    2.888</td> <td>    3.798</td>\n",
       "</tr>\n",
       "<tr>\n",
       "  <th>Tags_Will revert after reading the email</th>    <td>    6.4276</td> <td>    0.266</td> <td>   24.199</td> <td> 0.000</td> <td>    5.907</td> <td>    6.948</td>\n",
       "</tr>\n",
       "<tr>\n",
       "  <th>Tags_invalid number</th>                         <td>   -1.6969</td> <td>    1.049</td> <td>   -1.618</td> <td> 0.106</td> <td>   -3.753</td> <td>    0.359</td>\n",
       "</tr>\n",
       "<tr>\n",
       "  <th>Tags_number not provided</th>                    <td>  -21.5780</td> <td> 1.67e+04</td> <td>   -0.001</td> <td> 0.999</td> <td>-3.27e+04</td> <td> 3.26e+04</td>\n",
       "</tr>\n",
       "<tr>\n",
       "  <th>Tags_switched off</th>                           <td>   -2.3213</td> <td>    0.626</td> <td>   -3.711</td> <td> 0.000</td> <td>   -3.547</td> <td>   -1.095</td>\n",
       "</tr>\n",
       "<tr>\n",
       "  <th>Lead Quality_Worst</th>                          <td>   -2.1130</td> <td>    0.726</td> <td>   -2.910</td> <td> 0.004</td> <td>   -3.536</td> <td>   -0.690</td>\n",
       "</tr>\n",
       "<tr>\n",
       "  <th>Last Notable Activity_Modified</th>              <td>   -1.5540</td> <td>    0.126</td> <td>  -12.313</td> <td> 0.000</td> <td>   -1.801</td> <td>   -1.307</td>\n",
       "</tr>\n",
       "</table>"
      ],
      "text/plain": [
       "<class 'statsmodels.iolib.summary.Summary'>\n",
       "\"\"\"\n",
       "                 Generalized Linear Model Regression Results                  \n",
       "==============================================================================\n",
       "Dep. Variable:              Converted   No. Observations:                 6335\n",
       "Model:                            GLM   Df Residuals:                     6320\n",
       "Model Family:                Binomial   Df Model:                           14\n",
       "Link Function:                  logit   Scale:                          1.0000\n",
       "Method:                          IRLS   Log-Likelihood:                -1253.2\n",
       "Date:                Sun, 09 Jun 2019   Deviance:                       2506.3\n",
       "Time:                        20:07:44   Pearson chi2:                 1.15e+04\n",
       "No. Iterations:                    22   Covariance Type:             nonrobust\n",
       "===============================================================================================================\n",
       "                                                  coef    std err          z      P>|z|      [0.025      0.975]\n",
       "---------------------------------------------------------------------------------------------------------------\n",
       "const                                          -2.9819      0.209    -14.290      0.000      -3.391      -2.573\n",
       "Lead Source_Welingak Website                    3.1812      1.024      3.106      0.002       1.174       5.188\n",
       "Last Activity_SMS Sent                          2.1885      0.119     18.419      0.000       1.956       2.421\n",
       "What is your current occupation_Unspecified    -2.4844      0.142    -17.540      0.000      -2.762      -2.207\n",
       "Tags_Busy                                       2.2611      0.294      7.700      0.000       1.686       2.837\n",
       "Tags_Closed by Horizzon                         8.5573      0.745     11.489      0.000       7.098      10.017\n",
       "Tags_Lost to EINS                               9.0039      0.652     13.808      0.000       7.726      10.282\n",
       "Tags_Ringing                                   -1.7781      0.301     -5.911      0.000      -2.368      -1.188\n",
       "Tags_Unspecified                                3.3427      0.232     14.404      0.000       2.888       3.798\n",
       "Tags_Will revert after reading the email        6.4276      0.266     24.199      0.000       5.907       6.948\n",
       "Tags_invalid number                            -1.6969      1.049     -1.618      0.106      -3.753       0.359\n",
       "Tags_number not provided                      -21.5780   1.67e+04     -0.001      0.999   -3.27e+04    3.26e+04\n",
       "Tags_switched off                              -2.3213      0.626     -3.711      0.000      -3.547      -1.095\n",
       "Lead Quality_Worst                             -2.1130      0.726     -2.910      0.004      -3.536      -0.690\n",
       "Last Notable Activity_Modified                 -1.5540      0.126    -12.313      0.000      -1.801      -1.307\n",
       "===============================================================================================================\n",
       "\"\"\""
      ]
     },
     "execution_count": 98,
     "metadata": {},
     "output_type": "execute_result"
    }
   ],
   "source": [
    "x_train_sm.drop('Tags_wrong number given', axis=1, inplace=True)\n",
    "lr2 = sm.GLM(y_train,x_train_sm, family = sm.families.Binomial())\n",
    "res = lr2.fit()\n",
    "res.summary()"
   ]
  },
  {
   "cell_type": "code",
   "execution_count": 99,
   "metadata": {
    "ExecuteTime": {
     "end_time": "2019-06-09T14:37:46.871171Z",
     "start_time": "2019-06-09T14:37:46.723778Z"
    }
   },
   "outputs": [
    {
     "data": {
      "text/html": [
       "<div>\n",
       "<style scoped>\n",
       "    .dataframe tbody tr th:only-of-type {\n",
       "        vertical-align: middle;\n",
       "    }\n",
       "\n",
       "    .dataframe tbody tr th {\n",
       "        vertical-align: top;\n",
       "    }\n",
       "\n",
       "    .dataframe thead th {\n",
       "        text-align: right;\n",
       "    }\n",
       "</style>\n",
       "<table border=\"1\" class=\"dataframe\">\n",
       "  <thead>\n",
       "    <tr style=\"text-align: right;\">\n",
       "      <th></th>\n",
       "      <th>Features</th>\n",
       "      <th>VIF</th>\n",
       "    </tr>\n",
       "  </thead>\n",
       "  <tbody>\n",
       "    <tr>\n",
       "      <th>0</th>\n",
       "      <td>Lead Source_Welingak Website</td>\n",
       "      <td>1.12</td>\n",
       "    </tr>\n",
       "    <tr>\n",
       "      <th>5</th>\n",
       "      <td>Tags_Lost to EINS</td>\n",
       "      <td>1.06</td>\n",
       "    </tr>\n",
       "    <tr>\n",
       "      <th>4</th>\n",
       "      <td>Tags_Closed by Horizzon</td>\n",
       "      <td>1.05</td>\n",
       "    </tr>\n",
       "    <tr>\n",
       "      <th>3</th>\n",
       "      <td>Tags_Busy</td>\n",
       "      <td>1.04</td>\n",
       "    </tr>\n",
       "    <tr>\n",
       "      <th>11</th>\n",
       "      <td>Tags_switched off</td>\n",
       "      <td>1.03</td>\n",
       "    </tr>\n",
       "    <tr>\n",
       "      <th>9</th>\n",
       "      <td>Tags_invalid number</td>\n",
       "      <td>1.01</td>\n",
       "    </tr>\n",
       "    <tr>\n",
       "      <th>10</th>\n",
       "      <td>Tags_number not provided</td>\n",
       "      <td>1.00</td>\n",
       "    </tr>\n",
       "    <tr>\n",
       "      <th>12</th>\n",
       "      <td>Lead Quality_Worst</td>\n",
       "      <td>0.42</td>\n",
       "    </tr>\n",
       "    <tr>\n",
       "      <th>2</th>\n",
       "      <td>What is your current occupation_Unspecified</td>\n",
       "      <td>0.21</td>\n",
       "    </tr>\n",
       "    <tr>\n",
       "      <th>13</th>\n",
       "      <td>Last Notable Activity_Modified</td>\n",
       "      <td>0.15</td>\n",
       "    </tr>\n",
       "    <tr>\n",
       "      <th>1</th>\n",
       "      <td>Last Activity_SMS Sent</td>\n",
       "      <td>0.12</td>\n",
       "    </tr>\n",
       "    <tr>\n",
       "      <th>8</th>\n",
       "      <td>Tags_Will revert after reading the email</td>\n",
       "      <td>0.11</td>\n",
       "    </tr>\n",
       "    <tr>\n",
       "      <th>7</th>\n",
       "      <td>Tags_Unspecified</td>\n",
       "      <td>0.10</td>\n",
       "    </tr>\n",
       "    <tr>\n",
       "      <th>6</th>\n",
       "      <td>Tags_Ringing</td>\n",
       "      <td>0.07</td>\n",
       "    </tr>\n",
       "  </tbody>\n",
       "</table>\n",
       "</div>"
      ],
      "text/plain": [
       "                                       Features  VIF\n",
       "0                  Lead Source_Welingak Website 1.12\n",
       "5                             Tags_Lost to EINS 1.06\n",
       "4                       Tags_Closed by Horizzon 1.05\n",
       "3                                     Tags_Busy 1.04\n",
       "11                            Tags_switched off 1.03\n",
       "9                           Tags_invalid number 1.01\n",
       "10                     Tags_number not provided 1.00\n",
       "12                           Lead Quality_Worst 0.42\n",
       "2   What is your current occupation_Unspecified 0.21\n",
       "13               Last Notable Activity_Modified 0.15\n",
       "1                        Last Activity_SMS Sent 0.12\n",
       "8      Tags_Will revert after reading the email 0.11\n",
       "7                              Tags_Unspecified 0.10\n",
       "6                                  Tags_Ringing 0.07"
      ]
     },
     "execution_count": 99,
     "metadata": {},
     "output_type": "execute_result"
    }
   ],
   "source": [
    "# Checking the VIF values again\n",
    "x_train.drop('Tags_wrong number given', axis=1, inplace=True)\n",
    "vif = pd.DataFrame()\n",
    "vif['Features'] = x_train.columns\n",
    "vif['VIF'] = [variance_inflation_factor(x_train.values, i) for i in range(x_train.shape[1])]\n",
    "vif['VIF'] = round(vif['VIF'], 2)\n",
    "vif = vif.sort_values(by = \"VIF\", ascending=False)\n",
    "vif"
   ]
  },
  {
   "cell_type": "code",
   "execution_count": 100,
   "metadata": {
    "ExecuteTime": {
     "end_time": "2019-06-09T14:37:48.947775Z",
     "start_time": "2019-06-09T14:37:48.872572Z"
    }
   },
   "outputs": [
    {
     "data": {
      "text/html": [
       "<table class=\"simpletable\">\n",
       "<caption>Generalized Linear Model Regression Results</caption>\n",
       "<tr>\n",
       "  <th>Dep. Variable:</th>      <td>Converted</td>    <th>  No. Observations:  </th>  <td>  6335</td>  \n",
       "</tr>\n",
       "<tr>\n",
       "  <th>Model:</th>                 <td>GLM</td>       <th>  Df Residuals:      </th>  <td>  6321</td>  \n",
       "</tr>\n",
       "<tr>\n",
       "  <th>Model Family:</th>       <td>Binomial</td>     <th>  Df Model:          </th>  <td>    13</td>  \n",
       "</tr>\n",
       "<tr>\n",
       "  <th>Link Function:</th>        <td>logit</td>      <th>  Scale:             </th> <td>  1.0000</td> \n",
       "</tr>\n",
       "<tr>\n",
       "  <th>Method:</th>               <td>IRLS</td>       <th>  Log-Likelihood:    </th> <td> -1255.7</td> \n",
       "</tr>\n",
       "<tr>\n",
       "  <th>Date:</th>           <td>Sun, 09 Jun 2019</td> <th>  Deviance:          </th> <td>  2511.4</td> \n",
       "</tr>\n",
       "<tr>\n",
       "  <th>Time:</th>               <td>20:07:48</td>     <th>  Pearson chi2:      </th> <td>1.14e+04</td> \n",
       "</tr>\n",
       "<tr>\n",
       "  <th>No. Iterations:</th>         <td>8</td>        <th>  Covariance Type:   </th> <td>nonrobust</td>\n",
       "</tr>\n",
       "</table>\n",
       "<table class=\"simpletable\">\n",
       "<tr>\n",
       "                       <td></td>                          <th>coef</th>     <th>std err</th>      <th>z</th>      <th>P>|z|</th>  <th>[0.025</th>    <th>0.975]</th>  \n",
       "</tr>\n",
       "<tr>\n",
       "  <th>const</th>                                       <td>   -3.0648</td> <td>    0.209</td> <td>  -14.656</td> <td> 0.000</td> <td>   -3.475</td> <td>   -2.655</td>\n",
       "</tr>\n",
       "<tr>\n",
       "  <th>Lead Source_Welingak Website</th>                <td>    3.1820</td> <td>    1.024</td> <td>    3.108</td> <td> 0.002</td> <td>    1.175</td> <td>    5.189</td>\n",
       "</tr>\n",
       "<tr>\n",
       "  <th>Last Activity_SMS Sent</th>                      <td>    2.1745</td> <td>    0.118</td> <td>   18.364</td> <td> 0.000</td> <td>    1.942</td> <td>    2.407</td>\n",
       "</tr>\n",
       "<tr>\n",
       "  <th>What is your current occupation_Unspecified</th> <td>   -2.4804</td> <td>    0.141</td> <td>  -17.546</td> <td> 0.000</td> <td>   -2.758</td> <td>   -2.203</td>\n",
       "</tr>\n",
       "<tr>\n",
       "  <th>Tags_Busy</th>                                   <td>    2.3503</td> <td>    0.293</td> <td>    8.022</td> <td> 0.000</td> <td>    1.776</td> <td>    2.924</td>\n",
       "</tr>\n",
       "<tr>\n",
       "  <th>Tags_Closed by Horizzon</th>                     <td>    8.6319</td> <td>    0.745</td> <td>   11.583</td> <td> 0.000</td> <td>    7.171</td> <td>   10.092</td>\n",
       "</tr>\n",
       "<tr>\n",
       "  <th>Tags_Lost to EINS</th>                           <td>    9.0745</td> <td>    0.653</td> <td>   13.906</td> <td> 0.000</td> <td>    7.795</td> <td>   10.354</td>\n",
       "</tr>\n",
       "<tr>\n",
       "  <th>Tags_Ringing</th>                                <td>   -1.6837</td> <td>    0.300</td> <td>   -5.617</td> <td> 0.000</td> <td>   -2.271</td> <td>   -1.096</td>\n",
       "</tr>\n",
       "<tr>\n",
       "  <th>Tags_Unspecified</th>                            <td>    3.4258</td> <td>    0.232</td> <td>   14.745</td> <td> 0.000</td> <td>    2.970</td> <td>    3.881</td>\n",
       "</tr>\n",
       "<tr>\n",
       "  <th>Tags_Will revert after reading the email</th>    <td>    6.5069</td> <td>    0.266</td> <td>   24.441</td> <td> 0.000</td> <td>    5.985</td> <td>    7.029</td>\n",
       "</tr>\n",
       "<tr>\n",
       "  <th>Tags_invalid number</th>                         <td>   -1.6068</td> <td>    1.049</td> <td>   -1.532</td> <td> 0.125</td> <td>   -3.662</td> <td>    0.448</td>\n",
       "</tr>\n",
       "<tr>\n",
       "  <th>Tags_switched off</th>                           <td>   -2.2263</td> <td>    0.625</td> <td>   -3.562</td> <td> 0.000</td> <td>   -3.451</td> <td>   -1.001</td>\n",
       "</tr>\n",
       "<tr>\n",
       "  <th>Lead Quality_Worst</th>                          <td>   -2.0740</td> <td>    0.729</td> <td>   -2.845</td> <td> 0.004</td> <td>   -3.503</td> <td>   -0.645</td>\n",
       "</tr>\n",
       "<tr>\n",
       "  <th>Last Notable Activity_Modified</th>              <td>   -1.5441</td> <td>    0.126</td> <td>  -12.242</td> <td> 0.000</td> <td>   -1.791</td> <td>   -1.297</td>\n",
       "</tr>\n",
       "</table>"
      ],
      "text/plain": [
       "<class 'statsmodels.iolib.summary.Summary'>\n",
       "\"\"\"\n",
       "                 Generalized Linear Model Regression Results                  \n",
       "==============================================================================\n",
       "Dep. Variable:              Converted   No. Observations:                 6335\n",
       "Model:                            GLM   Df Residuals:                     6321\n",
       "Model Family:                Binomial   Df Model:                           13\n",
       "Link Function:                  logit   Scale:                          1.0000\n",
       "Method:                          IRLS   Log-Likelihood:                -1255.7\n",
       "Date:                Sun, 09 Jun 2019   Deviance:                       2511.4\n",
       "Time:                        20:07:48   Pearson chi2:                 1.14e+04\n",
       "No. Iterations:                     8   Covariance Type:             nonrobust\n",
       "===============================================================================================================\n",
       "                                                  coef    std err          z      P>|z|      [0.025      0.975]\n",
       "---------------------------------------------------------------------------------------------------------------\n",
       "const                                          -3.0648      0.209    -14.656      0.000      -3.475      -2.655\n",
       "Lead Source_Welingak Website                    3.1820      1.024      3.108      0.002       1.175       5.189\n",
       "Last Activity_SMS Sent                          2.1745      0.118     18.364      0.000       1.942       2.407\n",
       "What is your current occupation_Unspecified    -2.4804      0.141    -17.546      0.000      -2.758      -2.203\n",
       "Tags_Busy                                       2.3503      0.293      8.022      0.000       1.776       2.924\n",
       "Tags_Closed by Horizzon                         8.6319      0.745     11.583      0.000       7.171      10.092\n",
       "Tags_Lost to EINS                               9.0745      0.653     13.906      0.000       7.795      10.354\n",
       "Tags_Ringing                                   -1.6837      0.300     -5.617      0.000      -2.271      -1.096\n",
       "Tags_Unspecified                                3.4258      0.232     14.745      0.000       2.970       3.881\n",
       "Tags_Will revert after reading the email        6.5069      0.266     24.441      0.000       5.985       7.029\n",
       "Tags_invalid number                            -1.6068      1.049     -1.532      0.125      -3.662       0.448\n",
       "Tags_switched off                              -2.2263      0.625     -3.562      0.000      -3.451      -1.001\n",
       "Lead Quality_Worst                             -2.0740      0.729     -2.845      0.004      -3.503      -0.645\n",
       "Last Notable Activity_Modified                 -1.5441      0.126    -12.242      0.000      -1.791      -1.297\n",
       "===============================================================================================================\n",
       "\"\"\""
      ]
     },
     "execution_count": 100,
     "metadata": {},
     "output_type": "execute_result"
    }
   ],
   "source": [
    "# Iteratively dropping columns with high p-value and checking VIFs\n",
    "x_train_sm.drop('Tags_number not provided', axis=1, inplace=True)\n",
    "lr2 = sm.GLM(y_train,x_train_sm, family = sm.families.Binomial())\n",
    "res = lr2.fit()\n",
    "res.summary()"
   ]
  },
  {
   "cell_type": "code",
   "execution_count": 101,
   "metadata": {
    "ExecuteTime": {
     "end_time": "2019-06-09T14:37:51.386606Z",
     "start_time": "2019-06-09T14:37:51.224173Z"
    }
   },
   "outputs": [
    {
     "data": {
      "text/html": [
       "<div>\n",
       "<style scoped>\n",
       "    .dataframe tbody tr th:only-of-type {\n",
       "        vertical-align: middle;\n",
       "    }\n",
       "\n",
       "    .dataframe tbody tr th {\n",
       "        vertical-align: top;\n",
       "    }\n",
       "\n",
       "    .dataframe thead th {\n",
       "        text-align: right;\n",
       "    }\n",
       "</style>\n",
       "<table border=\"1\" class=\"dataframe\">\n",
       "  <thead>\n",
       "    <tr style=\"text-align: right;\">\n",
       "      <th></th>\n",
       "      <th>Features</th>\n",
       "      <th>VIF</th>\n",
       "    </tr>\n",
       "  </thead>\n",
       "  <tbody>\n",
       "    <tr>\n",
       "      <th>0</th>\n",
       "      <td>Lead Source_Welingak Website</td>\n",
       "      <td>1.12</td>\n",
       "    </tr>\n",
       "    <tr>\n",
       "      <th>5</th>\n",
       "      <td>Tags_Lost to EINS</td>\n",
       "      <td>1.06</td>\n",
       "    </tr>\n",
       "    <tr>\n",
       "      <th>4</th>\n",
       "      <td>Tags_Closed by Horizzon</td>\n",
       "      <td>1.05</td>\n",
       "    </tr>\n",
       "    <tr>\n",
       "      <th>3</th>\n",
       "      <td>Tags_Busy</td>\n",
       "      <td>1.04</td>\n",
       "    </tr>\n",
       "    <tr>\n",
       "      <th>10</th>\n",
       "      <td>Tags_switched off</td>\n",
       "      <td>1.03</td>\n",
       "    </tr>\n",
       "    <tr>\n",
       "      <th>9</th>\n",
       "      <td>Tags_invalid number</td>\n",
       "      <td>1.01</td>\n",
       "    </tr>\n",
       "    <tr>\n",
       "      <th>11</th>\n",
       "      <td>Lead Quality_Worst</td>\n",
       "      <td>0.42</td>\n",
       "    </tr>\n",
       "    <tr>\n",
       "      <th>2</th>\n",
       "      <td>What is your current occupation_Unspecified</td>\n",
       "      <td>0.21</td>\n",
       "    </tr>\n",
       "    <tr>\n",
       "      <th>12</th>\n",
       "      <td>Last Notable Activity_Modified</td>\n",
       "      <td>0.15</td>\n",
       "    </tr>\n",
       "    <tr>\n",
       "      <th>1</th>\n",
       "      <td>Last Activity_SMS Sent</td>\n",
       "      <td>0.12</td>\n",
       "    </tr>\n",
       "    <tr>\n",
       "      <th>8</th>\n",
       "      <td>Tags_Will revert after reading the email</td>\n",
       "      <td>0.11</td>\n",
       "    </tr>\n",
       "    <tr>\n",
       "      <th>7</th>\n",
       "      <td>Tags_Unspecified</td>\n",
       "      <td>0.10</td>\n",
       "    </tr>\n",
       "    <tr>\n",
       "      <th>6</th>\n",
       "      <td>Tags_Ringing</td>\n",
       "      <td>0.07</td>\n",
       "    </tr>\n",
       "  </tbody>\n",
       "</table>\n",
       "</div>"
      ],
      "text/plain": [
       "                                       Features  VIF\n",
       "0                  Lead Source_Welingak Website 1.12\n",
       "5                             Tags_Lost to EINS 1.06\n",
       "4                       Tags_Closed by Horizzon 1.05\n",
       "3                                     Tags_Busy 1.04\n",
       "10                            Tags_switched off 1.03\n",
       "9                           Tags_invalid number 1.01\n",
       "11                           Lead Quality_Worst 0.42\n",
       "2   What is your current occupation_Unspecified 0.21\n",
       "12               Last Notable Activity_Modified 0.15\n",
       "1                        Last Activity_SMS Sent 0.12\n",
       "8      Tags_Will revert after reading the email 0.11\n",
       "7                              Tags_Unspecified 0.10\n",
       "6                                  Tags_Ringing 0.07"
      ]
     },
     "execution_count": 101,
     "metadata": {},
     "output_type": "execute_result"
    }
   ],
   "source": [
    "# Checking the VIF values again\n",
    "x_train.drop('Tags_number not provided', axis=1, inplace=True)\n",
    "vif = pd.DataFrame()\n",
    "vif['Features'] = x_train.columns\n",
    "vif['VIF'] = [variance_inflation_factor(x_train.values, i) for i in range(x_train.shape[1])]\n",
    "vif['VIF'] = round(vif['VIF'], 2)\n",
    "vif = vif.sort_values(by = \"VIF\", ascending=False)\n",
    "vif"
   ]
  },
  {
   "cell_type": "code",
   "execution_count": 102,
   "metadata": {
    "ExecuteTime": {
     "end_time": "2019-06-09T14:37:53.584787Z",
     "start_time": "2019-06-09T14:37:53.519113Z"
    }
   },
   "outputs": [
    {
     "data": {
      "text/html": [
       "<table class=\"simpletable\">\n",
       "<caption>Generalized Linear Model Regression Results</caption>\n",
       "<tr>\n",
       "  <th>Dep. Variable:</th>      <td>Converted</td>    <th>  No. Observations:  </th>  <td>  6335</td>  \n",
       "</tr>\n",
       "<tr>\n",
       "  <th>Model:</th>                 <td>GLM</td>       <th>  Df Residuals:      </th>  <td>  6322</td>  \n",
       "</tr>\n",
       "<tr>\n",
       "  <th>Model Family:</th>       <td>Binomial</td>     <th>  Df Model:          </th>  <td>    12</td>  \n",
       "</tr>\n",
       "<tr>\n",
       "  <th>Link Function:</th>        <td>logit</td>      <th>  Scale:             </th> <td>  1.0000</td> \n",
       "</tr>\n",
       "<tr>\n",
       "  <th>Method:</th>               <td>IRLS</td>       <th>  Log-Likelihood:    </th> <td> -1257.5</td> \n",
       "</tr>\n",
       "<tr>\n",
       "  <th>Date:</th>           <td>Sun, 09 Jun 2019</td> <th>  Deviance:          </th> <td>  2515.1</td> \n",
       "</tr>\n",
       "<tr>\n",
       "  <th>Time:</th>               <td>20:07:53</td>     <th>  Pearson chi2:      </th> <td>1.12e+04</td> \n",
       "</tr>\n",
       "<tr>\n",
       "  <th>No. Iterations:</th>         <td>8</td>        <th>  Covariance Type:   </th> <td>nonrobust</td>\n",
       "</tr>\n",
       "</table>\n",
       "<table class=\"simpletable\">\n",
       "<tr>\n",
       "                       <td></td>                          <th>coef</th>     <th>std err</th>      <th>z</th>      <th>P>|z|</th>  <th>[0.025</th>    <th>0.975]</th>  \n",
       "</tr>\n",
       "<tr>\n",
       "  <th>const</th>                                       <td>   -3.1694</td> <td>    0.207</td> <td>  -15.331</td> <td> 0.000</td> <td>   -3.575</td> <td>   -2.764</td>\n",
       "</tr>\n",
       "<tr>\n",
       "  <th>Lead Source_Welingak Website</th>                <td>    3.1827</td> <td>    1.024</td> <td>    3.109</td> <td> 0.002</td> <td>    1.176</td> <td>    5.189</td>\n",
       "</tr>\n",
       "<tr>\n",
       "  <th>Last Activity_SMS Sent</th>                      <td>    2.1615</td> <td>    0.118</td> <td>   18.323</td> <td> 0.000</td> <td>    1.930</td> <td>    2.393</td>\n",
       "</tr>\n",
       "<tr>\n",
       "  <th>What is your current occupation_Unspecified</th> <td>   -2.4769</td> <td>    0.141</td> <td>  -17.554</td> <td> 0.000</td> <td>   -2.753</td> <td>   -2.200</td>\n",
       "</tr>\n",
       "<tr>\n",
       "  <th>Tags_Busy</th>                                   <td>    2.4606</td> <td>    0.290</td> <td>    8.479</td> <td> 0.000</td> <td>    1.892</td> <td>    3.029</td>\n",
       "</tr>\n",
       "<tr>\n",
       "  <th>Tags_Closed by Horizzon</th>                     <td>    8.7293</td> <td>    0.745</td> <td>   11.719</td> <td> 0.000</td> <td>    7.269</td> <td>   10.189</td>\n",
       "</tr>\n",
       "<tr>\n",
       "  <th>Tags_Lost to EINS</th>                           <td>    9.1703</td> <td>    0.652</td> <td>   14.062</td> <td> 0.000</td> <td>    7.892</td> <td>   10.448</td>\n",
       "</tr>\n",
       "<tr>\n",
       "  <th>Tags_Ringing</th>                                <td>   -1.5686</td> <td>    0.297</td> <td>   -5.290</td> <td> 0.000</td> <td>   -2.150</td> <td>   -0.987</td>\n",
       "</tr>\n",
       "<tr>\n",
       "  <th>Tags_Unspecified</th>                            <td>    3.5306</td> <td>    0.230</td> <td>   15.347</td> <td> 0.000</td> <td>    3.080</td> <td>    3.982</td>\n",
       "</tr>\n",
       "<tr>\n",
       "  <th>Tags_Will revert after reading the email</th>    <td>    6.6086</td> <td>    0.265</td> <td>   24.964</td> <td> 0.000</td> <td>    6.090</td> <td>    7.127</td>\n",
       "</tr>\n",
       "<tr>\n",
       "  <th>Tags_switched off</th>                           <td>   -2.1103</td> <td>    0.623</td> <td>   -3.385</td> <td> 0.001</td> <td>   -3.332</td> <td>   -0.888</td>\n",
       "</tr>\n",
       "<tr>\n",
       "  <th>Lead Quality_Worst</th>                          <td>   -2.1231</td> <td>    0.727</td> <td>   -2.922</td> <td> 0.003</td> <td>   -3.547</td> <td>   -0.699</td>\n",
       "</tr>\n",
       "<tr>\n",
       "  <th>Last Notable Activity_Modified</th>              <td>   -1.5345</td> <td>    0.126</td> <td>  -12.174</td> <td> 0.000</td> <td>   -1.782</td> <td>   -1.287</td>\n",
       "</tr>\n",
       "</table>"
      ],
      "text/plain": [
       "<class 'statsmodels.iolib.summary.Summary'>\n",
       "\"\"\"\n",
       "                 Generalized Linear Model Regression Results                  \n",
       "==============================================================================\n",
       "Dep. Variable:              Converted   No. Observations:                 6335\n",
       "Model:                            GLM   Df Residuals:                     6322\n",
       "Model Family:                Binomial   Df Model:                           12\n",
       "Link Function:                  logit   Scale:                          1.0000\n",
       "Method:                          IRLS   Log-Likelihood:                -1257.5\n",
       "Date:                Sun, 09 Jun 2019   Deviance:                       2515.1\n",
       "Time:                        20:07:53   Pearson chi2:                 1.12e+04\n",
       "No. Iterations:                     8   Covariance Type:             nonrobust\n",
       "===============================================================================================================\n",
       "                                                  coef    std err          z      P>|z|      [0.025      0.975]\n",
       "---------------------------------------------------------------------------------------------------------------\n",
       "const                                          -3.1694      0.207    -15.331      0.000      -3.575      -2.764\n",
       "Lead Source_Welingak Website                    3.1827      1.024      3.109      0.002       1.176       5.189\n",
       "Last Activity_SMS Sent                          2.1615      0.118     18.323      0.000       1.930       2.393\n",
       "What is your current occupation_Unspecified    -2.4769      0.141    -17.554      0.000      -2.753      -2.200\n",
       "Tags_Busy                                       2.4606      0.290      8.479      0.000       1.892       3.029\n",
       "Tags_Closed by Horizzon                         8.7293      0.745     11.719      0.000       7.269      10.189\n",
       "Tags_Lost to EINS                               9.1703      0.652     14.062      0.000       7.892      10.448\n",
       "Tags_Ringing                                   -1.5686      0.297     -5.290      0.000      -2.150      -0.987\n",
       "Tags_Unspecified                                3.5306      0.230     15.347      0.000       3.080       3.982\n",
       "Tags_Will revert after reading the email        6.6086      0.265     24.964      0.000       6.090       7.127\n",
       "Tags_switched off                              -2.1103      0.623     -3.385      0.001      -3.332      -0.888\n",
       "Lead Quality_Worst                             -2.1231      0.727     -2.922      0.003      -3.547      -0.699\n",
       "Last Notable Activity_Modified                 -1.5345      0.126    -12.174      0.000      -1.782      -1.287\n",
       "===============================================================================================================\n",
       "\"\"\""
      ]
     },
     "execution_count": 102,
     "metadata": {},
     "output_type": "execute_result"
    }
   ],
   "source": [
    "x_train_sm.drop('Tags_invalid number', axis=1, inplace=True)\n",
    "lr2 = sm.GLM(y_train,x_train_sm, family = sm.families.Binomial())\n",
    "res = lr2.fit()\n",
    "res.summary()"
   ]
  },
  {
   "cell_type": "code",
   "execution_count": 103,
   "metadata": {
    "ExecuteTime": {
     "end_time": "2019-06-09T14:38:10.487903Z",
     "start_time": "2019-06-09T14:38:10.373596Z"
    }
   },
   "outputs": [
    {
     "data": {
      "text/html": [
       "<div>\n",
       "<style scoped>\n",
       "    .dataframe tbody tr th:only-of-type {\n",
       "        vertical-align: middle;\n",
       "    }\n",
       "\n",
       "    .dataframe tbody tr th {\n",
       "        vertical-align: top;\n",
       "    }\n",
       "\n",
       "    .dataframe thead th {\n",
       "        text-align: right;\n",
       "    }\n",
       "</style>\n",
       "<table border=\"1\" class=\"dataframe\">\n",
       "  <thead>\n",
       "    <tr style=\"text-align: right;\">\n",
       "      <th></th>\n",
       "      <th>Features</th>\n",
       "      <th>VIF</th>\n",
       "    </tr>\n",
       "  </thead>\n",
       "  <tbody>\n",
       "    <tr>\n",
       "      <th>0</th>\n",
       "      <td>Lead Source_Welingak Website</td>\n",
       "      <td>1.12</td>\n",
       "    </tr>\n",
       "    <tr>\n",
       "      <th>5</th>\n",
       "      <td>Tags_Lost to EINS</td>\n",
       "      <td>1.06</td>\n",
       "    </tr>\n",
       "    <tr>\n",
       "      <th>4</th>\n",
       "      <td>Tags_Closed by Horizzon</td>\n",
       "      <td>1.05</td>\n",
       "    </tr>\n",
       "    <tr>\n",
       "      <th>3</th>\n",
       "      <td>Tags_Busy</td>\n",
       "      <td>1.04</td>\n",
       "    </tr>\n",
       "    <tr>\n",
       "      <th>9</th>\n",
       "      <td>Tags_switched off</td>\n",
       "      <td>1.03</td>\n",
       "    </tr>\n",
       "    <tr>\n",
       "      <th>10</th>\n",
       "      <td>Lead Quality_Worst</td>\n",
       "      <td>0.42</td>\n",
       "    </tr>\n",
       "    <tr>\n",
       "      <th>2</th>\n",
       "      <td>What is your current occupation_Unspecified</td>\n",
       "      <td>0.21</td>\n",
       "    </tr>\n",
       "    <tr>\n",
       "      <th>11</th>\n",
       "      <td>Last Notable Activity_Modified</td>\n",
       "      <td>0.15</td>\n",
       "    </tr>\n",
       "    <tr>\n",
       "      <th>1</th>\n",
       "      <td>Last Activity_SMS Sent</td>\n",
       "      <td>0.12</td>\n",
       "    </tr>\n",
       "    <tr>\n",
       "      <th>8</th>\n",
       "      <td>Tags_Will revert after reading the email</td>\n",
       "      <td>0.11</td>\n",
       "    </tr>\n",
       "    <tr>\n",
       "      <th>7</th>\n",
       "      <td>Tags_Unspecified</td>\n",
       "      <td>0.10</td>\n",
       "    </tr>\n",
       "    <tr>\n",
       "      <th>6</th>\n",
       "      <td>Tags_Ringing</td>\n",
       "      <td>0.07</td>\n",
       "    </tr>\n",
       "  </tbody>\n",
       "</table>\n",
       "</div>"
      ],
      "text/plain": [
       "                                       Features  VIF\n",
       "0                  Lead Source_Welingak Website 1.12\n",
       "5                             Tags_Lost to EINS 1.06\n",
       "4                       Tags_Closed by Horizzon 1.05\n",
       "3                                     Tags_Busy 1.04\n",
       "9                             Tags_switched off 1.03\n",
       "10                           Lead Quality_Worst 0.42\n",
       "2   What is your current occupation_Unspecified 0.21\n",
       "11               Last Notable Activity_Modified 0.15\n",
       "1                        Last Activity_SMS Sent 0.12\n",
       "8      Tags_Will revert after reading the email 0.11\n",
       "7                              Tags_Unspecified 0.10\n",
       "6                                  Tags_Ringing 0.07"
      ]
     },
     "execution_count": 103,
     "metadata": {},
     "output_type": "execute_result"
    }
   ],
   "source": [
    "# Checking the VIF values again\n",
    "x_train.drop('Tags_invalid number', axis=1, inplace=True)\n",
    "vif = pd.DataFrame()\n",
    "vif['Features'] = x_train.columns\n",
    "vif['VIF'] = [variance_inflation_factor(x_train.values, i) for i in range(x_train.shape[1])]\n",
    "vif['VIF'] = round(vif['VIF'], 2)\n",
    "vif = vif.sort_values(by = \"VIF\", ascending=False)\n",
    "vif"
   ]
  },
  {
   "cell_type": "markdown",
   "metadata": {},
   "source": [
    "#### All the VIF values are below 5 and P-values are also ~0. This model can be used for prediction."
   ]
  },
  {
   "cell_type": "code",
   "execution_count": 104,
   "metadata": {
    "ExecuteTime": {
     "end_time": "2019-06-09T14:38:29.417094Z",
     "start_time": "2019-06-09T14:38:29.404059Z"
    }
   },
   "outputs": [],
   "source": [
    "# Function to Print prediction related metrics\n",
    "def model_performance(x,y):\n",
    "    print('Overall Accuracy: '+ str(metrics.accuracy_score(x, y)))\n",
    "\n",
    "    # Confusion matrix \n",
    "    confusion = metrics.confusion_matrix(x, y)\n",
    "    print('Confusion Matrix: ')\n",
    "    print(confusion)\n",
    "\n",
    "    TP = confusion[1,1] # true positive \n",
    "    TN = confusion[0,0] # true negatives\n",
    "    FP = confusion[0,1] # false positives\n",
    "    FN = confusion[1,0] # false negatives\n",
    "\n",
    "    # Sensitivity\n",
    "    print('Sensitivity: '+str(TP / float(TP+FN)))\n",
    "\n",
    "    # Specificity\n",
    "    print('Specificity: '+str(TN / float(TN+FP)))\n",
    "\n",
    "    # Calculate False Postive Rate\n",
    "    print('False Positive Rate: '+str(FP/ float(TN+FP)))\n",
    "\n",
    "    # Positive Predictive Value \n",
    "    print('Positive Predictive Value: '+str(TP / float(TP+FP)))\n",
    "\n",
    "    # Negative predictive value\n",
    "    print('Negative Predictive Value: '+str(TN / float(TN+ FN)))\n",
    "\n",
    "    #### Precision and Recall\n",
    "\n",
    "    # Precision\n",
    "    print('Precision: '+str(TP /(TP + FP)))\n",
    "\n",
    "    # Recall\n",
    "    print('Recall: '+str(TP / (TP + FN)))"
   ]
  },
  {
   "cell_type": "markdown",
   "metadata": {},
   "source": [
    "#### Making Predictions on the train set"
   ]
  },
  {
   "cell_type": "code",
   "execution_count": 105,
   "metadata": {
    "ExecuteTime": {
     "end_time": "2019-06-09T14:38:33.051647Z",
     "start_time": "2019-06-09T14:38:33.047134Z"
    }
   },
   "outputs": [],
   "source": [
    "# Getting the predicted values on the train set\n",
    "y_train_pred = res.predict(x_train_sm)"
   ]
  },
  {
   "cell_type": "code",
   "execution_count": 106,
   "metadata": {
    "ExecuteTime": {
     "end_time": "2019-06-09T14:38:35.700127Z",
     "start_time": "2019-06-09T14:38:35.672552Z"
    }
   },
   "outputs": [
    {
     "data": {
      "text/html": [
       "<div>\n",
       "<style scoped>\n",
       "    .dataframe tbody tr th:only-of-type {\n",
       "        vertical-align: middle;\n",
       "    }\n",
       "\n",
       "    .dataframe tbody tr th {\n",
       "        vertical-align: top;\n",
       "    }\n",
       "\n",
       "    .dataframe thead th {\n",
       "        text-align: right;\n",
       "    }\n",
       "</style>\n",
       "<table border=\"1\" class=\"dataframe\">\n",
       "  <thead>\n",
       "    <tr style=\"text-align: right;\">\n",
       "      <th></th>\n",
       "      <th>Merge ID</th>\n",
       "      <th>Converted</th>\n",
       "      <th>Converted_prob</th>\n",
       "      <th>Converted_pred</th>\n",
       "    </tr>\n",
       "  </thead>\n",
       "  <tbody>\n",
       "    <tr>\n",
       "      <th>0</th>\n",
       "      <td>4045</td>\n",
       "      <td>0</td>\n",
       "      <td>0.07</td>\n",
       "      <td>0</td>\n",
       "    </tr>\n",
       "    <tr>\n",
       "      <th>1</th>\n",
       "      <td>1615</td>\n",
       "      <td>1</td>\n",
       "      <td>0.93</td>\n",
       "      <td>1</td>\n",
       "    </tr>\n",
       "    <tr>\n",
       "      <th>2</th>\n",
       "      <td>2928</td>\n",
       "      <td>0</td>\n",
       "      <td>0.11</td>\n",
       "      <td>0</td>\n",
       "    </tr>\n",
       "    <tr>\n",
       "      <th>3</th>\n",
       "      <td>1238</td>\n",
       "      <td>0</td>\n",
       "      <td>0.03</td>\n",
       "      <td>0</td>\n",
       "    </tr>\n",
       "    <tr>\n",
       "      <th>4</th>\n",
       "      <td>6985</td>\n",
       "      <td>0</td>\n",
       "      <td>0.11</td>\n",
       "      <td>0</td>\n",
       "    </tr>\n",
       "  </tbody>\n",
       "</table>\n",
       "</div>"
      ],
      "text/plain": [
       "   Merge ID  Converted  Converted_prob  Converted_pred\n",
       "0      4045          0            0.07               0\n",
       "1      1615          1            0.93               1\n",
       "2      2928          0            0.11               0\n",
       "3      1238          0            0.03               0\n",
       "4      6985          0            0.11               0"
      ]
     },
     "execution_count": 106,
     "metadata": {},
     "output_type": "execute_result"
    }
   ],
   "source": [
    "y_train_pred_final = pd.DataFrame({'Converted':y_train.values, 'Converted_prob':y_train_pred.values.reshape(-1)})\n",
    "\n",
    "# This will be used later to merge the lease score back to the original dataset\n",
    "y_train_pred_final['Merge ID'] = y_train.index\n",
    "# Taking cut-off probability as 0.5\n",
    "y_train_pred_final['Converted_pred'] = y_train_pred_final.Converted_prob.map(lambda x: 1 if x > 0.5 else 0)\n",
    "y_train_pred_final = y_train_pred_final.reindex_axis(['Merge ID','Converted','Converted_prob','Converted_pred'], axis=1)\n",
    "y_train_pred_final.head()"
   ]
  },
  {
   "cell_type": "code",
   "execution_count": 107,
   "metadata": {
    "ExecuteTime": {
     "end_time": "2019-06-09T14:38:41.716793Z",
     "start_time": "2019-06-09T14:38:41.696740Z"
    }
   },
   "outputs": [
    {
     "name": "stdout",
     "output_type": "stream",
     "text": [
      "Overall Accuracy: 0.9294396211523284\n",
      "Confusion Matrix: \n",
      "[[3681  242]\n",
      " [ 205 2207]]\n",
      "Sensitivity: 0.9150082918739635\n",
      "Specificity: 0.938312515931685\n",
      "False Positive Rate: 0.06168748406831506\n",
      "Positive Predictive Value: 0.9011841567986933\n",
      "Negative Predictive Value: 0.947246525990736\n",
      "Precision: 0.9011841567986933\n",
      "Recall: 0.9150082918739635\n"
     ]
    }
   ],
   "source": [
    "# Checking prediction related metrics for cut-off probability 0.5\n",
    "model_performance(y_train_pred_final.Converted,y_train_pred_final.Converted_pred)"
   ]
  },
  {
   "cell_type": "markdown",
   "metadata": {},
   "source": [
    "#### Plotting the ROC Curve"
   ]
  },
  {
   "cell_type": "code",
   "execution_count": 108,
   "metadata": {
    "ExecuteTime": {
     "end_time": "2019-06-09T14:38:51.299734Z",
     "start_time": "2019-06-09T14:38:51.066114Z"
    }
   },
   "outputs": [
    {
     "data": {
      "image/png": "[encoded data removed]",
      "text/plain": [
       "<Figure size 360x360 with 1 Axes>"
      ]
     },
     "metadata": {
      "needs_background": "light"
     },
     "output_type": "display_data"
    }
   ],
   "source": [
    "def draw_roc( actual, probs ):\n",
    "    fpr, tpr, thresholds = metrics.roc_curve( actual, probs,\n",
    "                                              drop_intermediate = False )\n",
    "    auc_score = metrics.roc_auc_score( actual, probs )\n",
    "    plt.figure(figsize=(5, 5))\n",
    "    plt.plot( fpr, tpr, label='ROC curve (area = %0.2f)' % auc_score )\n",
    "    plt.plot([0, 1], [0, 1], 'k--')\n",
    "    plt.xlim([0.0, 1.0])\n",
    "    plt.ylim([0.0, 1.05])\n",
    "    plt.xlabel('False Positive Rate or [1 - True Negative Rate]')\n",
    "    plt.ylabel('True Positive Rate')\n",
    "    plt.title('Receiver operating characteristic example')\n",
    "    plt.legend(loc=\"lower right\")\n",
    "    plt.show()\n",
    "\n",
    "    return None\n",
    "\n",
    "fpr, tpr, thresholds = metrics.roc_curve( y_train_pred_final.Converted, y_train_pred_final.Converted_prob, drop_intermediate = False )\n",
    "\n",
    "draw_roc(y_train_pred_final.Converted, y_train_pred_final.Converted_prob)"
   ]
  },
  {
   "cell_type": "markdown",
   "metadata": {},
   "source": [
    "#### Finding Optimal Cutoff Point"
   ]
  },
  {
   "cell_type": "code",
   "execution_count": 109,
   "metadata": {
    "ExecuteTime": {
     "end_time": "2019-06-09T14:39:03.030694Z",
     "start_time": "2019-06-09T14:39:02.636646Z"
    }
   },
   "outputs": [
    {
     "name": "stdout",
     "output_type": "stream",
     "text": [
      "      prob  accuracy  sensi  speci\n",
      "0.00  0.00      0.38   1.00   0.00\n",
      "0.10  0.10      0.80   0.97   0.70\n",
      "0.20  0.20      0.92   0.94   0.91\n",
      "0.30  0.30      0.93   0.93   0.93\n",
      "0.40  0.40      0.93   0.92   0.94\n",
      "0.50  0.50      0.93   0.92   0.94\n",
      "0.60  0.60      0.91   0.81   0.98\n",
      "0.70  0.70      0.91   0.81   0.98\n",
      "0.80  0.80      0.91   0.80   0.98\n",
      "0.90  0.90      0.89   0.73   0.99\n"
     ]
    },
    {
     "data": {
      "image/png": "[encoded data removed]",
      "text/plain": [
       "<Figure size 432x288 with 1 Axes>"
      ]
     },
     "metadata": {
      "needs_background": "light"
     },
     "output_type": "display_data"
    }
   ],
   "source": [
    "# Creating columns with different probability cutoffs \n",
    "numbers = [float(x)/10 for x in range(10)]\n",
    "for i in numbers:\n",
    "    y_train_pred_final[i]= y_train_pred_final.Converted_prob.map(lambda x: 1 if x > i else 0)\n",
    "y_train_pred_final.head()\n",
    "\n",
    "# Calculating accuracy, sensitivity and specificity for various probability cutoffs.\n",
    "cutoff_df = pd.DataFrame( columns = ['prob','accuracy','sensi','speci'])\n",
    "\n",
    "num = [0.0,0.1,0.2,0.3,0.4,0.5,0.6,0.7,0.8,0.9]\n",
    "for i in num:\n",
    "    cm1 = metrics.confusion_matrix(y_train_pred_final.Converted, y_train_pred_final[i] )\n",
    "    total1=sum(sum(cm1))\n",
    "    accuracy = (cm1[0,0]+cm1[1,1])/total1\n",
    "    \n",
    "    speci = cm1[0,0]/(cm1[0,0]+cm1[0,1])\n",
    "    sensi = cm1[1,1]/(cm1[1,0]+cm1[1,1])\n",
    "    cutoff_df.loc[i] =[ i ,accuracy,sensi,speci]\n",
    "print(cutoff_df)\n",
    "\n",
    "# Plotting accuracy, sensitivity and specificity for various probabilities.\n",
    "cutoff_df.plot.line(x='prob', y=['accuracy','sensi','speci'])\n",
    "plt.show()"
   ]
  },
  {
   "cell_type": "markdown",
   "metadata": {},
   "source": [
    "#### From the curve above, 0.3 is the optimum point to take it as a cutoff probability."
   ]
  },
  {
   "cell_type": "code",
   "execution_count": 110,
   "metadata": {
    "ExecuteTime": {
     "end_time": "2019-06-09T14:39:53.300851Z",
     "start_time": "2019-06-09T14:39:53.278792Z"
    }
   },
   "outputs": [
    {
     "data": {
      "text/html": [
       "<div>\n",
       "<style scoped>\n",
       "    .dataframe tbody tr th:only-of-type {\n",
       "        vertical-align: middle;\n",
       "    }\n",
       "\n",
       "    .dataframe tbody tr th {\n",
       "        vertical-align: top;\n",
       "    }\n",
       "\n",
       "    .dataframe thead th {\n",
       "        text-align: right;\n",
       "    }\n",
       "</style>\n",
       "<table border=\"1\" class=\"dataframe\">\n",
       "  <thead>\n",
       "    <tr style=\"text-align: right;\">\n",
       "      <th></th>\n",
       "      <th>Merge ID</th>\n",
       "      <th>Converted</th>\n",
       "      <th>Converted_prob</th>\n",
       "      <th>Converted_pred</th>\n",
       "      <th>Converted_pred_0.3</th>\n",
       "    </tr>\n",
       "  </thead>\n",
       "  <tbody>\n",
       "    <tr>\n",
       "      <th>0</th>\n",
       "      <td>4045</td>\n",
       "      <td>0</td>\n",
       "      <td>0.07</td>\n",
       "      <td>0</td>\n",
       "      <td>0</td>\n",
       "    </tr>\n",
       "    <tr>\n",
       "      <th>1</th>\n",
       "      <td>1615</td>\n",
       "      <td>1</td>\n",
       "      <td>0.93</td>\n",
       "      <td>1</td>\n",
       "      <td>1</td>\n",
       "    </tr>\n",
       "    <tr>\n",
       "      <th>2</th>\n",
       "      <td>2928</td>\n",
       "      <td>0</td>\n",
       "      <td>0.11</td>\n",
       "      <td>0</td>\n",
       "      <td>0</td>\n",
       "    </tr>\n",
       "    <tr>\n",
       "      <th>3</th>\n",
       "      <td>1238</td>\n",
       "      <td>0</td>\n",
       "      <td>0.03</td>\n",
       "      <td>0</td>\n",
       "      <td>0</td>\n",
       "    </tr>\n",
       "    <tr>\n",
       "      <th>4</th>\n",
       "      <td>6985</td>\n",
       "      <td>0</td>\n",
       "      <td>0.11</td>\n",
       "      <td>0</td>\n",
       "      <td>0</td>\n",
       "    </tr>\n",
       "  </tbody>\n",
       "</table>\n",
       "</div>"
      ],
      "text/plain": [
       "   Merge ID  Converted  Converted_prob  Converted_pred  Converted_pred_0.3\n",
       "0      4045          0            0.07               0                   0\n",
       "1      1615          1            0.93               1                   1\n",
       "2      2928          0            0.11               0                   0\n",
       "3      1238          0            0.03               0                   0\n",
       "4      6985          0            0.11               0                   0"
      ]
     },
     "execution_count": 110,
     "metadata": {},
     "output_type": "execute_result"
    }
   ],
   "source": [
    "y_train_pred_final['Converted_pred_0.3'] = y_train_pred_final.Converted_prob.map( lambda x: 1 if x > 0.3 else 0)\n",
    "y_train_pred_final.drop([0.0,0.1,0.2,0.3,0.4,0.5,0.6,0.7,0.8,0.9],axis=1,inplace=True)\n",
    "y_train_pred_final.head()"
   ]
  },
  {
   "cell_type": "code",
   "execution_count": 111,
   "metadata": {
    "ExecuteTime": {
     "end_time": "2019-06-09T14:39:56.162744Z",
     "start_time": "2019-06-09T14:39:56.140685Z"
    }
   },
   "outputs": [
    {
     "name": "stdout",
     "output_type": "stream",
     "text": [
      "Overall Accuracy: 0.9294396211523284\n",
      "Confusion Matrix: \n",
      "[[3656  267]\n",
      " [ 180 2232]]\n",
      "Sensitivity: 0.9253731343283582\n",
      "Specificity: 0.9319398419576854\n",
      "False Positive Rate: 0.06806015804231455\n",
      "Positive Predictive Value: 0.8931572629051621\n",
      "Negative Predictive Value: 0.9530761209593326\n",
      "Precision: 0.8931572629051621\n",
      "Recall: 0.9253731343283582\n"
     ]
    }
   ],
   "source": [
    "# Checkint the prediction related metrics when cut-off probability is taken as 0.3\n",
    "model_performance(y_train_pred_final.Converted, y_train_pred_final['Converted_pred_0.3'])"
   ]
  },
  {
   "cell_type": "markdown",
   "metadata": {},
   "source": [
    "#### Precision and recall tradeoff"
   ]
  },
  {
   "cell_type": "code",
   "execution_count": 112,
   "metadata": {
    "ExecuteTime": {
     "end_time": "2019-06-09T14:39:59.046462Z",
     "start_time": "2019-06-09T14:39:58.841917Z"
    }
   },
   "outputs": [
    {
     "data": {
      "image/png": "[encoded data removed]",
      "text/plain": [
       "<Figure size 432x288 with 1 Axes>"
      ]
     },
     "metadata": {
      "needs_background": "light"
     },
     "output_type": "display_data"
    }
   ],
   "source": [
    "p, r, thresholds = precision_recall_curve(y_train_pred_final.Converted, y_train_pred_final.Converted_prob)\n",
    "plt.plot(thresholds, p[:-1], \"g-\")\n",
    "plt.plot(thresholds, r[:-1], \"r-\")\n",
    "plt.show()"
   ]
  },
  {
   "cell_type": "markdown",
   "metadata": {
    "ExecuteTime": {
     "end_time": "2019-06-08T12:12:10.847615Z",
     "start_time": "2019-06-08T12:12:10.826559Z"
    }
   },
   "source": [
    "Precision-Recall Curve gives an optimal probability of ~0.55"
   ]
  },
  {
   "cell_type": "code",
   "execution_count": 113,
   "metadata": {
    "ExecuteTime": {
     "end_time": "2019-06-09T14:40:02.939369Z",
     "start_time": "2019-06-09T14:40:02.909790Z"
    }
   },
   "outputs": [
    {
     "name": "stdout",
     "output_type": "stream",
     "text": [
      "Overall Accuracy: 0.9199684293606946\n",
      "Confusion Matrix: \n",
      "[[3760  163]\n",
      " [ 344 2068]]\n",
      "Sensitivity: 0.857379767827529\n",
      "Specificity: 0.9584501656895233\n",
      "False Positive Rate: 0.04154983431047667\n",
      "Positive Predictive Value: 0.9269385925593904\n",
      "Negative Predictive Value: 0.9161793372319688\n",
      "Precision: 0.9269385925593904\n",
      "Recall: 0.857379767827529\n"
     ]
    }
   ],
   "source": [
    "# Printing prediction related metrics using probability 0.55\n",
    "y_train_pred_final['Converted_pred_0.55'] = y_train_pred_final.Converted_prob.map( lambda x: 1 if x > 0.55 else 0)\n",
    "\n",
    "model_performance(y_train_pred_final.Converted, y_train_pred_final['Converted_pred_0.55'])"
   ]
  },
  {
   "cell_type": "markdown",
   "metadata": {},
   "source": [
    "#### Above are the metrics for the train data."
   ]
  },
  {
   "cell_type": "markdown",
   "metadata": {},
   "source": [
    "#### Making predictions on the test set"
   ]
  },
  {
   "cell_type": "code",
   "execution_count": 114,
   "metadata": {
    "ExecuteTime": {
     "end_time": "2019-06-09T14:40:07.623804Z",
     "start_time": "2019-06-09T14:40:07.395696Z"
    }
   },
   "outputs": [
    {
     "name": "stderr",
     "output_type": "stream",
     "text": [
      "C:\\Users\\H253015\\AppData\\Local\\Continuum\\anaconda3\\lib\\site-packages\\ipykernel_launcher.py:2: DataConversionWarning: Data with input dtype int64, float64 were all converted to float64 by StandardScaler.\n",
      "  \n"
     ]
    }
   ],
   "source": [
    "# Applying scaling on the continous variables in test data\n",
    "x_test[['TotalVisits','Total Time Spent on Website','Page Views Per Visit']] = scaler.transform(x_test[['TotalVisits','Total Time Spent on Website','Page Views Per Visit']])"
   ]
  },
  {
   "cell_type": "code",
   "execution_count": 115,
   "metadata": {
    "ExecuteTime": {
     "end_time": "2019-06-09T14:40:10.029559Z",
     "start_time": "2019-06-09T14:40:10.014014Z"
    }
   },
   "outputs": [
    {
     "data": {
      "text/html": [
       "<div>\n",
       "<style scoped>\n",
       "    .dataframe tbody tr th:only-of-type {\n",
       "        vertical-align: middle;\n",
       "    }\n",
       "\n",
       "    .dataframe tbody tr th {\n",
       "        vertical-align: top;\n",
       "    }\n",
       "\n",
       "    .dataframe thead th {\n",
       "        text-align: right;\n",
       "    }\n",
       "</style>\n",
       "<table border=\"1\" class=\"dataframe\">\n",
       "  <thead>\n",
       "    <tr style=\"text-align: right;\">\n",
       "      <th></th>\n",
       "      <th>Lead Source_Welingak Website</th>\n",
       "      <th>Last Activity_SMS Sent</th>\n",
       "      <th>What is your current occupation_Unspecified</th>\n",
       "      <th>Tags_Busy</th>\n",
       "      <th>Tags_Closed by Horizzon</th>\n",
       "      <th>Tags_Lost to EINS</th>\n",
       "      <th>Tags_Ringing</th>\n",
       "      <th>Tags_Unspecified</th>\n",
       "      <th>Tags_Will revert after reading the email</th>\n",
       "      <th>Tags_switched off</th>\n",
       "      <th>Lead Quality_Worst</th>\n",
       "      <th>Last Notable Activity_Modified</th>\n",
       "    </tr>\n",
       "  </thead>\n",
       "  <tbody>\n",
       "    <tr>\n",
       "      <th>4741</th>\n",
       "      <td>0</td>\n",
       "      <td>0</td>\n",
       "      <td>1</td>\n",
       "      <td>0</td>\n",
       "      <td>0</td>\n",
       "      <td>0</td>\n",
       "      <td>0</td>\n",
       "      <td>1</td>\n",
       "      <td>0</td>\n",
       "      <td>0</td>\n",
       "      <td>0</td>\n",
       "      <td>1</td>\n",
       "    </tr>\n",
       "    <tr>\n",
       "      <th>3786</th>\n",
       "      <td>0</td>\n",
       "      <td>0</td>\n",
       "      <td>0</td>\n",
       "      <td>0</td>\n",
       "      <td>0</td>\n",
       "      <td>0</td>\n",
       "      <td>0</td>\n",
       "      <td>0</td>\n",
       "      <td>1</td>\n",
       "      <td>0</td>\n",
       "      <td>0</td>\n",
       "      <td>0</td>\n",
       "    </tr>\n",
       "    <tr>\n",
       "      <th>7432</th>\n",
       "      <td>0</td>\n",
       "      <td>1</td>\n",
       "      <td>0</td>\n",
       "      <td>0</td>\n",
       "      <td>0</td>\n",
       "      <td>0</td>\n",
       "      <td>0</td>\n",
       "      <td>0</td>\n",
       "      <td>1</td>\n",
       "      <td>0</td>\n",
       "      <td>0</td>\n",
       "      <td>0</td>\n",
       "    </tr>\n",
       "    <tr>\n",
       "      <th>8416</th>\n",
       "      <td>0</td>\n",
       "      <td>0</td>\n",
       "      <td>0</td>\n",
       "      <td>0</td>\n",
       "      <td>0</td>\n",
       "      <td>0</td>\n",
       "      <td>1</td>\n",
       "      <td>0</td>\n",
       "      <td>0</td>\n",
       "      <td>0</td>\n",
       "      <td>0</td>\n",
       "      <td>0</td>\n",
       "    </tr>\n",
       "    <tr>\n",
       "      <th>998</th>\n",
       "      <td>0</td>\n",
       "      <td>0</td>\n",
       "      <td>0</td>\n",
       "      <td>0</td>\n",
       "      <td>0</td>\n",
       "      <td>0</td>\n",
       "      <td>1</td>\n",
       "      <td>0</td>\n",
       "      <td>0</td>\n",
       "      <td>0</td>\n",
       "      <td>0</td>\n",
       "      <td>0</td>\n",
       "    </tr>\n",
       "  </tbody>\n",
       "</table>\n",
       "</div>"
      ],
      "text/plain": [
       "      Lead Source_Welingak Website  Last Activity_SMS Sent  \\\n",
       "4741                             0                       0   \n",
       "3786                             0                       0   \n",
       "7432                             0                       1   \n",
       "8416                             0                       0   \n",
       "998                              0                       0   \n",
       "\n",
       "      What is your current occupation_Unspecified  Tags_Busy  \\\n",
       "4741                                            1          0   \n",
       "3786                                            0          0   \n",
       "7432                                            0          0   \n",
       "8416                                            0          0   \n",
       "998                                             0          0   \n",
       "\n",
       "      Tags_Closed by Horizzon  Tags_Lost to EINS  Tags_Ringing  \\\n",
       "4741                        0                  0             0   \n",
       "3786                        0                  0             0   \n",
       "7432                        0                  0             0   \n",
       "8416                        0                  0             1   \n",
       "998                         0                  0             1   \n",
       "\n",
       "      Tags_Unspecified  Tags_Will revert after reading the email  \\\n",
       "4741                 1                                         0   \n",
       "3786                 0                                         1   \n",
       "7432                 0                                         1   \n",
       "8416                 0                                         0   \n",
       "998                  0                                         0   \n",
       "\n",
       "      Tags_switched off  Lead Quality_Worst  Last Notable Activity_Modified  \n",
       "4741                  0                   0                               1  \n",
       "3786                  0                   0                               0  \n",
       "7432                  0                   0                               0  \n",
       "8416                  0                   0                               0  \n",
       "998                   0                   0                               0  "
      ]
     },
     "execution_count": 115,
     "metadata": {},
     "output_type": "execute_result"
    }
   ],
   "source": [
    "x_test = x_test[x_train.columns]\n",
    "x_test.head()"
   ]
  },
  {
   "cell_type": "code",
   "execution_count": 116,
   "metadata": {
    "ExecuteTime": {
     "end_time": "2019-06-09T14:40:12.873148Z",
     "start_time": "2019-06-09T14:40:12.860076Z"
    }
   },
   "outputs": [],
   "source": [
    "x_test_sm = sm.add_constant(x_test)"
   ]
  },
  {
   "cell_type": "code",
   "execution_count": 117,
   "metadata": {
    "ExecuteTime": {
     "end_time": "2019-06-09T14:40:16.409744Z",
     "start_time": "2019-06-09T14:40:16.398217Z"
    }
   },
   "outputs": [
    {
     "data": {
      "text/plain": [
       "4741   0.03\n",
       "3786   0.97\n",
       "7432   1.00\n",
       "8416   0.01\n",
       "998    0.01\n",
       "2315   1.00\n",
       "7078   0.11\n",
       "8759   0.93\n",
       "7701   0.11\n",
       "6375   0.98\n",
       "dtype: float64"
      ]
     },
     "execution_count": 117,
     "metadata": {},
     "output_type": "execute_result"
    }
   ],
   "source": [
    "y_test_pred = res.predict(x_test_sm)\n",
    "y_test_pred[:10]"
   ]
  },
  {
   "cell_type": "code",
   "execution_count": 118,
   "metadata": {
    "ExecuteTime": {
     "end_time": "2019-06-09T14:40:19.809755Z",
     "start_time": "2019-06-09T14:40:19.783184Z"
    }
   },
   "outputs": [
    {
     "data": {
      "text/html": [
       "<div>\n",
       "<style scoped>\n",
       "    .dataframe tbody tr th:only-of-type {\n",
       "        vertical-align: middle;\n",
       "    }\n",
       "\n",
       "    .dataframe tbody tr th {\n",
       "        vertical-align: top;\n",
       "    }\n",
       "\n",
       "    .dataframe thead th {\n",
       "        text-align: right;\n",
       "    }\n",
       "</style>\n",
       "<table border=\"1\" class=\"dataframe\">\n",
       "  <thead>\n",
       "    <tr style=\"text-align: right;\">\n",
       "      <th></th>\n",
       "      <th>Merge ID</th>\n",
       "      <th>Converted</th>\n",
       "      <th>Converted_prob</th>\n",
       "      <th>Converted_pred_0.55</th>\n",
       "    </tr>\n",
       "  </thead>\n",
       "  <tbody>\n",
       "    <tr>\n",
       "      <th>0</th>\n",
       "      <td>4741</td>\n",
       "      <td>0</td>\n",
       "      <td>0.03</td>\n",
       "      <td>0</td>\n",
       "    </tr>\n",
       "    <tr>\n",
       "      <th>1</th>\n",
       "      <td>3786</td>\n",
       "      <td>1</td>\n",
       "      <td>0.97</td>\n",
       "      <td>1</td>\n",
       "    </tr>\n",
       "    <tr>\n",
       "      <th>2</th>\n",
       "      <td>7432</td>\n",
       "      <td>1</td>\n",
       "      <td>1.00</td>\n",
       "      <td>1</td>\n",
       "    </tr>\n",
       "    <tr>\n",
       "      <th>3</th>\n",
       "      <td>8416</td>\n",
       "      <td>0</td>\n",
       "      <td>0.01</td>\n",
       "      <td>0</td>\n",
       "    </tr>\n",
       "    <tr>\n",
       "      <th>4</th>\n",
       "      <td>998</td>\n",
       "      <td>0</td>\n",
       "      <td>0.01</td>\n",
       "      <td>0</td>\n",
       "    </tr>\n",
       "  </tbody>\n",
       "</table>\n",
       "</div>"
      ],
      "text/plain": [
       "   Merge ID  Converted  Converted_prob  Converted_pred_0.55\n",
       "0      4741          0            0.03                    0\n",
       "1      3786          1            0.97                    1\n",
       "2      7432          1            1.00                    1\n",
       "3      8416          0            0.01                    0\n",
       "4       998          0            0.01                    0"
      ]
     },
     "execution_count": 118,
     "metadata": {},
     "output_type": "execute_result"
    }
   ],
   "source": [
    "# Converting y_pred to a dataframe which is an array\n",
    "y_test_pred = pd.DataFrame(y_test_pred)\n",
    "\n",
    "# # Converting y_test to dataframe\n",
    "y_test_df = pd.DataFrame(y_test)\n",
    "\n",
    "# # This will be used later to merge the lease score back to the original dataset\n",
    "y_test_df['Merge ID'] = y_test_df.index\n",
    "\n",
    "# Removing index for both dataframes to append them side by side \n",
    "y_test_pred.reset_index(drop=True, inplace=True)\n",
    "y_test_df.reset_index(drop=True, inplace=True)\n",
    "\n",
    "# # Concatenating y_test_df and y_pred_1\n",
    "y_pred_test = pd.concat([y_test_df, y_test_pred],axis=1)\n",
    "\n",
    "y_pred_test= y_pred_test.rename(columns={ 0 : 'Converted_prob'})\n",
    "\n",
    "# Using 0.55 as cut-off probability (as given by precision-recall trade-off) since it gives a better precision\n",
    "y_pred_test['Converted_pred_0.55'] = y_pred_test.Converted_prob.map(lambda x: 1 if x > 0.55 else 0)\n",
    "\n",
    "y_pred_test = y_pred_test.reindex_axis(['Merge ID','Converted','Converted_prob','Converted_pred_0.55'], axis=1)\n",
    "\n",
    "y_pred_test.head()"
   ]
  },
  {
   "cell_type": "code",
   "execution_count": 119,
   "metadata": {
    "ExecuteTime": {
     "end_time": "2019-06-09T14:40:22.809853Z",
     "start_time": "2019-06-09T14:40:22.798324Z"
    }
   },
   "outputs": [
    {
     "name": "stdout",
     "output_type": "stream",
     "text": [
      "Overall Accuracy: 0.927098674521355\n",
      "Confusion Matrix: \n",
      "[[1636   66]\n",
      " [ 132  882]]\n",
      "Sensitivity: 0.8698224852071006\n",
      "Specificity: 0.9612220916568742\n",
      "False Positive Rate: 0.038777908343125736\n",
      "Positive Predictive Value: 0.930379746835443\n",
      "Negative Predictive Value: 0.9253393665158371\n",
      "Precision: 0.930379746835443\n",
      "Recall: 0.8698224852071006\n"
     ]
    }
   ],
   "source": [
    "# Printing prediction related metrics\n",
    "model_performance(y_pred_test.Converted, y_pred_test['Converted_pred_0.55'])"
   ]
  },
  {
   "cell_type": "markdown",
   "metadata": {},
   "source": [
    "#### Above are the metrics on the test data."
   ]
  },
  {
   "cell_type": "markdown",
   "metadata": {},
   "source": [
    "#### Assigning Lead Score"
   ]
  },
  {
   "cell_type": "code",
   "execution_count": 120,
   "metadata": {
    "ExecuteTime": {
     "end_time": "2019-06-09T14:40:27.247467Z",
     "start_time": "2019-06-09T14:40:27.230952Z"
    }
   },
   "outputs": [],
   "source": [
    "y_train_pred_final['Lead_Score'] = y_train_pred_final.Converted_prob.map( lambda x: round(x*100))\n",
    "y_pred_test['Lead_Score'] = y_pred_test.Converted_prob.map( lambda x: round(x*100))"
   ]
  },
  {
   "cell_type": "code",
   "execution_count": 121,
   "metadata": {
    "ExecuteTime": {
     "end_time": "2019-06-09T14:40:29.345506Z",
     "start_time": "2019-06-09T14:40:29.330966Z"
    }
   },
   "outputs": [
    {
     "data": {
      "text/html": [
       "<div>\n",
       "<style scoped>\n",
       "    .dataframe tbody tr th:only-of-type {\n",
       "        vertical-align: middle;\n",
       "    }\n",
       "\n",
       "    .dataframe tbody tr th {\n",
       "        vertical-align: top;\n",
       "    }\n",
       "\n",
       "    .dataframe thead th {\n",
       "        text-align: right;\n",
       "    }\n",
       "</style>\n",
       "<table border=\"1\" class=\"dataframe\">\n",
       "  <thead>\n",
       "    <tr style=\"text-align: right;\">\n",
       "      <th></th>\n",
       "      <th>Merge ID</th>\n",
       "      <th>Converted</th>\n",
       "      <th>Converted_prob</th>\n",
       "      <th>Converted_pred</th>\n",
       "      <th>Converted_pred_0.3</th>\n",
       "      <th>Converted_pred_0.55</th>\n",
       "      <th>Lead_Score</th>\n",
       "    </tr>\n",
       "  </thead>\n",
       "  <tbody>\n",
       "    <tr>\n",
       "      <th>0</th>\n",
       "      <td>4045</td>\n",
       "      <td>0</td>\n",
       "      <td>0.07</td>\n",
       "      <td>0</td>\n",
       "      <td>0</td>\n",
       "      <td>0</td>\n",
       "      <td>7</td>\n",
       "    </tr>\n",
       "    <tr>\n",
       "      <th>1</th>\n",
       "      <td>1615</td>\n",
       "      <td>1</td>\n",
       "      <td>0.93</td>\n",
       "      <td>1</td>\n",
       "      <td>1</td>\n",
       "      <td>1</td>\n",
       "      <td>93</td>\n",
       "    </tr>\n",
       "    <tr>\n",
       "      <th>2</th>\n",
       "      <td>2928</td>\n",
       "      <td>0</td>\n",
       "      <td>0.11</td>\n",
       "      <td>0</td>\n",
       "      <td>0</td>\n",
       "      <td>0</td>\n",
       "      <td>11</td>\n",
       "    </tr>\n",
       "    <tr>\n",
       "      <th>3</th>\n",
       "      <td>1238</td>\n",
       "      <td>0</td>\n",
       "      <td>0.03</td>\n",
       "      <td>0</td>\n",
       "      <td>0</td>\n",
       "      <td>0</td>\n",
       "      <td>3</td>\n",
       "    </tr>\n",
       "    <tr>\n",
       "      <th>4</th>\n",
       "      <td>6985</td>\n",
       "      <td>0</td>\n",
       "      <td>0.11</td>\n",
       "      <td>0</td>\n",
       "      <td>0</td>\n",
       "      <td>0</td>\n",
       "      <td>11</td>\n",
       "    </tr>\n",
       "  </tbody>\n",
       "</table>\n",
       "</div>"
      ],
      "text/plain": [
       "   Merge ID  Converted  Converted_prob  Converted_pred  Converted_pred_0.3  \\\n",
       "0      4045          0            0.07               0                   0   \n",
       "1      1615          1            0.93               1                   1   \n",
       "2      2928          0            0.11               0                   0   \n",
       "3      1238          0            0.03               0                   0   \n",
       "4      6985          0            0.11               0                   0   \n",
       "\n",
       "   Converted_pred_0.55  Lead_Score  \n",
       "0                    0           7  \n",
       "1                    1          93  \n",
       "2                    0          11  \n",
       "3                    0           3  \n",
       "4                    0          11  "
      ]
     },
     "execution_count": 121,
     "metadata": {},
     "output_type": "execute_result"
    }
   ],
   "source": [
    "y_train_pred_final.head()"
   ]
  },
  {
   "cell_type": "code",
   "execution_count": 122,
   "metadata": {
    "ExecuteTime": {
     "end_time": "2019-06-09T14:40:33.871791Z",
     "start_time": "2019-06-09T14:40:33.860261Z"
    }
   },
   "outputs": [
    {
     "data": {
      "text/html": [
       "<div>\n",
       "<style scoped>\n",
       "    .dataframe tbody tr th:only-of-type {\n",
       "        vertical-align: middle;\n",
       "    }\n",
       "\n",
       "    .dataframe tbody tr th {\n",
       "        vertical-align: top;\n",
       "    }\n",
       "\n",
       "    .dataframe thead th {\n",
       "        text-align: right;\n",
       "    }\n",
       "</style>\n",
       "<table border=\"1\" class=\"dataframe\">\n",
       "  <thead>\n",
       "    <tr style=\"text-align: right;\">\n",
       "      <th></th>\n",
       "      <th>Merge ID</th>\n",
       "      <th>Converted</th>\n",
       "      <th>Converted_prob</th>\n",
       "      <th>Converted_pred_0.55</th>\n",
       "      <th>Lead_Score</th>\n",
       "    </tr>\n",
       "  </thead>\n",
       "  <tbody>\n",
       "    <tr>\n",
       "      <th>0</th>\n",
       "      <td>4741</td>\n",
       "      <td>0</td>\n",
       "      <td>0.03</td>\n",
       "      <td>0</td>\n",
       "      <td>3</td>\n",
       "    </tr>\n",
       "    <tr>\n",
       "      <th>1</th>\n",
       "      <td>3786</td>\n",
       "      <td>1</td>\n",
       "      <td>0.97</td>\n",
       "      <td>1</td>\n",
       "      <td>97</td>\n",
       "    </tr>\n",
       "    <tr>\n",
       "      <th>2</th>\n",
       "      <td>7432</td>\n",
       "      <td>1</td>\n",
       "      <td>1.00</td>\n",
       "      <td>1</td>\n",
       "      <td>100</td>\n",
       "    </tr>\n",
       "    <tr>\n",
       "      <th>3</th>\n",
       "      <td>8416</td>\n",
       "      <td>0</td>\n",
       "      <td>0.01</td>\n",
       "      <td>0</td>\n",
       "      <td>1</td>\n",
       "    </tr>\n",
       "    <tr>\n",
       "      <th>4</th>\n",
       "      <td>998</td>\n",
       "      <td>0</td>\n",
       "      <td>0.01</td>\n",
       "      <td>0</td>\n",
       "      <td>1</td>\n",
       "    </tr>\n",
       "  </tbody>\n",
       "</table>\n",
       "</div>"
      ],
      "text/plain": [
       "   Merge ID  Converted  Converted_prob  Converted_pred_0.55  Lead_Score\n",
       "0      4741          0            0.03                    0           3\n",
       "1      3786          1            0.97                    1          97\n",
       "2      7432          1            1.00                    1         100\n",
       "3      8416          0            0.01                    0           1\n",
       "4       998          0            0.01                    0           1"
      ]
     },
     "execution_count": 122,
     "metadata": {},
     "output_type": "execute_result"
    }
   ],
   "source": [
    "y_pred_test.head()"
   ]
  },
  {
   "cell_type": "code",
   "execution_count": 123,
   "metadata": {
    "ExecuteTime": {
     "end_time": "2019-06-09T14:40:47.009557Z",
     "start_time": "2019-06-09T14:40:46.984992Z"
    }
   },
   "outputs": [
    {
     "data": {
      "text/html": [
       "<div>\n",
       "<style scoped>\n",
       "    .dataframe tbody tr th:only-of-type {\n",
       "        vertical-align: middle;\n",
       "    }\n",
       "\n",
       "    .dataframe tbody tr th {\n",
       "        vertical-align: top;\n",
       "    }\n",
       "\n",
       "    .dataframe thead th {\n",
       "        text-align: right;\n",
       "    }\n",
       "</style>\n",
       "<table border=\"1\" class=\"dataframe\">\n",
       "  <thead>\n",
       "    <tr style=\"text-align: right;\">\n",
       "      <th></th>\n",
       "      <th>Merge ID</th>\n",
       "      <th>Converted_prob</th>\n",
       "      <th>Converted_predicted</th>\n",
       "      <th>Lead_Score</th>\n",
       "    </tr>\n",
       "  </thead>\n",
       "  <tbody>\n",
       "    <tr>\n",
       "      <th>0</th>\n",
       "      <td>4045</td>\n",
       "      <td>0.07</td>\n",
       "      <td>0</td>\n",
       "      <td>7</td>\n",
       "    </tr>\n",
       "    <tr>\n",
       "      <th>1</th>\n",
       "      <td>1615</td>\n",
       "      <td>0.93</td>\n",
       "      <td>1</td>\n",
       "      <td>93</td>\n",
       "    </tr>\n",
       "    <tr>\n",
       "      <th>2</th>\n",
       "      <td>2928</td>\n",
       "      <td>0.11</td>\n",
       "      <td>0</td>\n",
       "      <td>11</td>\n",
       "    </tr>\n",
       "    <tr>\n",
       "      <th>3</th>\n",
       "      <td>1238</td>\n",
       "      <td>0.03</td>\n",
       "      <td>0</td>\n",
       "      <td>3</td>\n",
       "    </tr>\n",
       "    <tr>\n",
       "      <th>4</th>\n",
       "      <td>6985</td>\n",
       "      <td>0.11</td>\n",
       "      <td>0</td>\n",
       "      <td>11</td>\n",
       "    </tr>\n",
       "  </tbody>\n",
       "</table>\n",
       "</div>"
      ],
      "text/plain": [
       "   Merge ID  Converted_prob  Converted_predicted  Lead_Score\n",
       "0      4045            0.07                    0           7\n",
       "1      1615            0.93                    1          93\n",
       "2      2928            0.11                    0          11\n",
       "3      1238            0.03                    0           3\n",
       "4      6985            0.11                    0          11"
      ]
     },
     "execution_count": 123,
     "metadata": {},
     "output_type": "execute_result"
    }
   ],
   "source": [
    "y_merged = y_train_pred_final[['Merge ID','Converted_prob','Converted_pred_0.55','Lead_Score']].append(y_pred_test[['Merge ID','Converted_prob','Converted_pred_0.55','Lead_Score']])\n",
    "y_merged = y_merged.rename(columns={ 'Converted_pred_0.55' : 'Converted_predicted'})\n",
    "y_merged.head()"
   ]
  },
  {
   "cell_type": "markdown",
   "metadata": {},
   "source": [
    "Merging the output with main dataset, leads_df"
   ]
  },
  {
   "cell_type": "code",
   "execution_count": 126,
   "metadata": {
    "ExecuteTime": {
     "end_time": "2019-06-09T14:41:28.103397Z",
     "start_time": "2019-06-09T14:41:28.099385Z"
    }
   },
   "outputs": [],
   "source": [
    "leads_df['Merge ID'] = leads_df.index"
   ]
  },
  {
   "cell_type": "code",
   "execution_count": 127,
   "metadata": {
    "ExecuteTime": {
     "end_time": "2019-06-09T14:41:32.970717Z",
     "start_time": "2019-06-09T14:41:32.950124Z"
    }
   },
   "outputs": [],
   "source": [
    "leads_df = pd.merge(leads_df,y_merged,how='inner',on='Merge ID')"
   ]
  },
  {
   "cell_type": "code",
   "execution_count": 128,
   "metadata": {
    "ExecuteTime": {
     "end_time": "2019-06-09T14:41:36.545576Z",
     "start_time": "2019-06-09T14:41:36.526024Z"
    }
   },
   "outputs": [
    {
     "data": {
      "text/html": [
       "<div>\n",
       "<style scoped>\n",
       "    .dataframe tbody tr th:only-of-type {\n",
       "        vertical-align: middle;\n",
       "    }\n",
       "\n",
       "    .dataframe tbody tr th {\n",
       "        vertical-align: top;\n",
       "    }\n",
       "\n",
       "    .dataframe thead th {\n",
       "        text-align: right;\n",
       "    }\n",
       "</style>\n",
       "<table border=\"1\" class=\"dataframe\">\n",
       "  <thead>\n",
       "    <tr style=\"text-align: right;\">\n",
       "      <th></th>\n",
       "      <th>Prospect ID</th>\n",
       "      <th>Lead Number</th>\n",
       "      <th>Converted</th>\n",
       "      <th>Lead_Score</th>\n",
       "      <th>Converted_predicted</th>\n",
       "    </tr>\n",
       "  </thead>\n",
       "  <tbody>\n",
       "    <tr>\n",
       "      <th>0</th>\n",
       "      <td>7927b2df-8bba-4d29-b9a2-b6e0beafe620</td>\n",
       "      <td>660737</td>\n",
       "      <td>0</td>\n",
       "      <td>1</td>\n",
       "      <td>0</td>\n",
       "    </tr>\n",
       "    <tr>\n",
       "      <th>1</th>\n",
       "      <td>2a272436-5132-4136-86fa-dcc88c88f482</td>\n",
       "      <td>660728</td>\n",
       "      <td>0</td>\n",
       "      <td>1</td>\n",
       "      <td>0</td>\n",
       "    </tr>\n",
       "    <tr>\n",
       "      <th>2</th>\n",
       "      <td>8cc8c611-a219-4f35-ad23-fdfd2656bd8a</td>\n",
       "      <td>660727</td>\n",
       "      <td>1</td>\n",
       "      <td>97</td>\n",
       "      <td>1</td>\n",
       "    </tr>\n",
       "    <tr>\n",
       "      <th>3</th>\n",
       "      <td>0cc2df48-7cf4-4e39-9de9-19797f9b38cc</td>\n",
       "      <td>660719</td>\n",
       "      <td>0</td>\n",
       "      <td>0</td>\n",
       "      <td>0</td>\n",
       "    </tr>\n",
       "    <tr>\n",
       "      <th>4</th>\n",
       "      <td>3256f628-e534-4826-9d63-4a8b88782852</td>\n",
       "      <td>660681</td>\n",
       "      <td>1</td>\n",
       "      <td>87</td>\n",
       "      <td>1</td>\n",
       "    </tr>\n",
       "  </tbody>\n",
       "</table>\n",
       "</div>"
      ],
      "text/plain": [
       "                            Prospect ID  Lead Number  Converted  Lead_Score  \\\n",
       "0  7927b2df-8bba-4d29-b9a2-b6e0beafe620       660737          0           1   \n",
       "1  2a272436-5132-4136-86fa-dcc88c88f482       660728          0           1   \n",
       "2  8cc8c611-a219-4f35-ad23-fdfd2656bd8a       660727          1          97   \n",
       "3  0cc2df48-7cf4-4e39-9de9-19797f9b38cc       660719          0           0   \n",
       "4  3256f628-e534-4826-9d63-4a8b88782852       660681          1          87   \n",
       "\n",
       "   Converted_predicted  \n",
       "0                    0  \n",
       "1                    0  \n",
       "2                    1  \n",
       "3                    0  \n",
       "4                    1  "
      ]
     },
     "execution_count": 128,
     "metadata": {},
     "output_type": "execute_result"
    }
   ],
   "source": [
    "leads_df[['Prospect ID', 'Lead Number', 'Converted', 'Lead_Score','Converted_predicted']].head()"
   ]
  },
  {
   "cell_type": "code",
   "execution_count": 132,
   "metadata": {
    "ExecuteTime": {
     "end_time": "2019-06-09T14:44:17.693697Z",
     "start_time": "2019-06-09T14:44:17.684672Z"
    }
   },
   "outputs": [
    {
     "data": {
      "text/plain": [
       "0.07789194564136559"
      ]
     },
     "execution_count": 132,
     "metadata": {},
     "output_type": "execute_result"
    }
   ],
   "source": [
    "# Checking the percentage of incorrect predictions\n",
    "len(leads_df[leads_df.Converted != leads_df.Converted_predicted])/len(leads_df)"
   ]
  }
 ],
 "metadata": {
  "kernelspec": {
   "display_name": "Python 3",
   "language": "python",
   "name": "python3"
  },
  "language_info": {
   "codemirror_mode": {
    "name": "ipython",
    "version": 3
   },
   "file_extension": ".py",
   "mimetype": "text/x-python",
   "name": "python",
   "nbconvert_exporter": "python",
   "pygments_lexer": "ipython3",
   "version": "3.7.1"
  }
 },
 "nbformat": 4,
 "nbformat_minor": 2
}
