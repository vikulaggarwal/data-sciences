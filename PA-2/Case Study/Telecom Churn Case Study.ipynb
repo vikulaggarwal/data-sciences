{
 "cells": [
  {
   "cell_type": "code",
   "execution_count": 1,
   "metadata": {
    "ExecuteTime": {
     "end_time": "2019-08-25T12:53:23.549143Z",
     "start_time": "2019-08-25T12:53:21.512594Z"
    }
   },
   "outputs": [],
   "source": [
    "import numpy as np\n",
    "import pandas as pd\n",
    "\n",
    "import matplotlib.pyplot as plt\n",
    "import seaborn as sns\n",
    "%matplotlib inline\n",
    "\n",
    "import os\n",
    "\n",
    "# hide warnings\n",
    "import warnings\n",
    "warnings.filterwarnings('ignore')\n",
    "\n",
    "# Data display customization\n",
    "pd.set_option('display.max_rows', 199)\n",
    "pd.set_option('display.max_columns', 999)\n",
    "\n",
    "# Set pretty printing format for floats\n",
    "pd.set_option('float_format', '{:.3f}'.format)"
   ]
  },
  {
   "cell_type": "code",
   "execution_count": 2,
   "metadata": {
    "ExecuteTime": {
     "end_time": "2019-08-25T12:53:26.541718Z",
     "start_time": "2019-08-25T12:53:23.552115Z"
    }
   },
   "outputs": [
    {
     "data": {
      "text/html": [
       "<div>\n",
       "<style scoped>\n",
       "    .dataframe tbody tr th:only-of-type {\n",
       "        vertical-align: middle;\n",
       "    }\n",
       "\n",
       "    .dataframe tbody tr th {\n",
       "        vertical-align: top;\n",
       "    }\n",
       "\n",
       "    .dataframe thead th {\n",
       "        text-align: right;\n",
       "    }\n",
       "</style>\n",
       "<table border=\"1\" class=\"dataframe\">\n",
       "  <thead>\n",
       "    <tr style=\"text-align: right;\">\n",
       "      <th></th>\n",
       "      <th>mobile_number</th>\n",
       "      <th>circle_id</th>\n",
       "      <th>loc_og_t2o_mou</th>\n",
       "      <th>std_og_t2o_mou</th>\n",
       "      <th>loc_ic_t2o_mou</th>\n",
       "      <th>last_date_of_month_6</th>\n",
       "      <th>last_date_of_month_7</th>\n",
       "      <th>last_date_of_month_8</th>\n",
       "      <th>last_date_of_month_9</th>\n",
       "      <th>arpu_6</th>\n",
       "      <th>arpu_7</th>\n",
       "      <th>arpu_8</th>\n",
       "      <th>arpu_9</th>\n",
       "      <th>onnet_mou_6</th>\n",
       "      <th>onnet_mou_7</th>\n",
       "      <th>onnet_mou_8</th>\n",
       "      <th>onnet_mou_9</th>\n",
       "      <th>offnet_mou_6</th>\n",
       "      <th>offnet_mou_7</th>\n",
       "      <th>offnet_mou_8</th>\n",
       "      <th>offnet_mou_9</th>\n",
       "      <th>roam_ic_mou_6</th>\n",
       "      <th>roam_ic_mou_7</th>\n",
       "      <th>roam_ic_mou_8</th>\n",
       "      <th>roam_ic_mou_9</th>\n",
       "      <th>roam_og_mou_6</th>\n",
       "      <th>roam_og_mou_7</th>\n",
       "      <th>roam_og_mou_8</th>\n",
       "      <th>roam_og_mou_9</th>\n",
       "      <th>loc_og_t2t_mou_6</th>\n",
       "      <th>loc_og_t2t_mou_7</th>\n",
       "      <th>loc_og_t2t_mou_8</th>\n",
       "      <th>loc_og_t2t_mou_9</th>\n",
       "      <th>loc_og_t2m_mou_6</th>\n",
       "      <th>loc_og_t2m_mou_7</th>\n",
       "      <th>loc_og_t2m_mou_8</th>\n",
       "      <th>loc_og_t2m_mou_9</th>\n",
       "      <th>loc_og_t2f_mou_6</th>\n",
       "      <th>loc_og_t2f_mou_7</th>\n",
       "      <th>loc_og_t2f_mou_8</th>\n",
       "      <th>loc_og_t2f_mou_9</th>\n",
       "      <th>loc_og_t2c_mou_6</th>\n",
       "      <th>loc_og_t2c_mou_7</th>\n",
       "      <th>loc_og_t2c_mou_8</th>\n",
       "      <th>loc_og_t2c_mou_9</th>\n",
       "      <th>loc_og_mou_6</th>\n",
       "      <th>loc_og_mou_7</th>\n",
       "      <th>loc_og_mou_8</th>\n",
       "      <th>loc_og_mou_9</th>\n",
       "      <th>std_og_t2t_mou_6</th>\n",
       "      <th>std_og_t2t_mou_7</th>\n",
       "      <th>std_og_t2t_mou_8</th>\n",
       "      <th>std_og_t2t_mou_9</th>\n",
       "      <th>std_og_t2m_mou_6</th>\n",
       "      <th>std_og_t2m_mou_7</th>\n",
       "      <th>std_og_t2m_mou_8</th>\n",
       "      <th>std_og_t2m_mou_9</th>\n",
       "      <th>std_og_t2f_mou_6</th>\n",
       "      <th>std_og_t2f_mou_7</th>\n",
       "      <th>std_og_t2f_mou_8</th>\n",
       "      <th>std_og_t2f_mou_9</th>\n",
       "      <th>std_og_t2c_mou_6</th>\n",
       "      <th>std_og_t2c_mou_7</th>\n",
       "      <th>std_og_t2c_mou_8</th>\n",
       "      <th>std_og_t2c_mou_9</th>\n",
       "      <th>std_og_mou_6</th>\n",
       "      <th>std_og_mou_7</th>\n",
       "      <th>std_og_mou_8</th>\n",
       "      <th>std_og_mou_9</th>\n",
       "      <th>isd_og_mou_6</th>\n",
       "      <th>isd_og_mou_7</th>\n",
       "      <th>isd_og_mou_8</th>\n",
       "      <th>isd_og_mou_9</th>\n",
       "      <th>spl_og_mou_6</th>\n",
       "      <th>spl_og_mou_7</th>\n",
       "      <th>spl_og_mou_8</th>\n",
       "      <th>spl_og_mou_9</th>\n",
       "      <th>og_others_6</th>\n",
       "      <th>og_others_7</th>\n",
       "      <th>og_others_8</th>\n",
       "      <th>og_others_9</th>\n",
       "      <th>total_og_mou_6</th>\n",
       "      <th>total_og_mou_7</th>\n",
       "      <th>total_og_mou_8</th>\n",
       "      <th>total_og_mou_9</th>\n",
       "      <th>loc_ic_t2t_mou_6</th>\n",
       "      <th>loc_ic_t2t_mou_7</th>\n",
       "      <th>loc_ic_t2t_mou_8</th>\n",
       "      <th>loc_ic_t2t_mou_9</th>\n",
       "      <th>loc_ic_t2m_mou_6</th>\n",
       "      <th>loc_ic_t2m_mou_7</th>\n",
       "      <th>loc_ic_t2m_mou_8</th>\n",
       "      <th>loc_ic_t2m_mou_9</th>\n",
       "      <th>loc_ic_t2f_mou_6</th>\n",
       "      <th>loc_ic_t2f_mou_7</th>\n",
       "      <th>loc_ic_t2f_mou_8</th>\n",
       "      <th>loc_ic_t2f_mou_9</th>\n",
       "      <th>loc_ic_mou_6</th>\n",
       "      <th>loc_ic_mou_7</th>\n",
       "      <th>loc_ic_mou_8</th>\n",
       "      <th>loc_ic_mou_9</th>\n",
       "      <th>std_ic_t2t_mou_6</th>\n",
       "      <th>std_ic_t2t_mou_7</th>\n",
       "      <th>std_ic_t2t_mou_8</th>\n",
       "      <th>std_ic_t2t_mou_9</th>\n",
       "      <th>std_ic_t2m_mou_6</th>\n",
       "      <th>std_ic_t2m_mou_7</th>\n",
       "      <th>std_ic_t2m_mou_8</th>\n",
       "      <th>std_ic_t2m_mou_9</th>\n",
       "      <th>std_ic_t2f_mou_6</th>\n",
       "      <th>std_ic_t2f_mou_7</th>\n",
       "      <th>std_ic_t2f_mou_8</th>\n",
       "      <th>std_ic_t2f_mou_9</th>\n",
       "      <th>std_ic_t2o_mou_6</th>\n",
       "      <th>std_ic_t2o_mou_7</th>\n",
       "      <th>std_ic_t2o_mou_8</th>\n",
       "      <th>std_ic_t2o_mou_9</th>\n",
       "      <th>std_ic_mou_6</th>\n",
       "      <th>std_ic_mou_7</th>\n",
       "      <th>std_ic_mou_8</th>\n",
       "      <th>std_ic_mou_9</th>\n",
       "      <th>total_ic_mou_6</th>\n",
       "      <th>total_ic_mou_7</th>\n",
       "      <th>total_ic_mou_8</th>\n",
       "      <th>total_ic_mou_9</th>\n",
       "      <th>spl_ic_mou_6</th>\n",
       "      <th>spl_ic_mou_7</th>\n",
       "      <th>spl_ic_mou_8</th>\n",
       "      <th>spl_ic_mou_9</th>\n",
       "      <th>isd_ic_mou_6</th>\n",
       "      <th>isd_ic_mou_7</th>\n",
       "      <th>isd_ic_mou_8</th>\n",
       "      <th>isd_ic_mou_9</th>\n",
       "      <th>ic_others_6</th>\n",
       "      <th>ic_others_7</th>\n",
       "      <th>ic_others_8</th>\n",
       "      <th>ic_others_9</th>\n",
       "      <th>total_rech_num_6</th>\n",
       "      <th>total_rech_num_7</th>\n",
       "      <th>total_rech_num_8</th>\n",
       "      <th>total_rech_num_9</th>\n",
       "      <th>total_rech_amt_6</th>\n",
       "      <th>total_rech_amt_7</th>\n",
       "      <th>total_rech_amt_8</th>\n",
       "      <th>total_rech_amt_9</th>\n",
       "      <th>max_rech_amt_6</th>\n",
       "      <th>max_rech_amt_7</th>\n",
       "      <th>max_rech_amt_8</th>\n",
       "      <th>max_rech_amt_9</th>\n",
       "      <th>date_of_last_rech_6</th>\n",
       "      <th>date_of_last_rech_7</th>\n",
       "      <th>date_of_last_rech_8</th>\n",
       "      <th>date_of_last_rech_9</th>\n",
       "      <th>last_day_rch_amt_6</th>\n",
       "      <th>last_day_rch_amt_7</th>\n",
       "      <th>last_day_rch_amt_8</th>\n",
       "      <th>last_day_rch_amt_9</th>\n",
       "      <th>date_of_last_rech_data_6</th>\n",
       "      <th>date_of_last_rech_data_7</th>\n",
       "      <th>date_of_last_rech_data_8</th>\n",
       "      <th>date_of_last_rech_data_9</th>\n",
       "      <th>total_rech_data_6</th>\n",
       "      <th>total_rech_data_7</th>\n",
       "      <th>total_rech_data_8</th>\n",
       "      <th>total_rech_data_9</th>\n",
       "      <th>max_rech_data_6</th>\n",
       "      <th>max_rech_data_7</th>\n",
       "      <th>max_rech_data_8</th>\n",
       "      <th>max_rech_data_9</th>\n",
       "      <th>count_rech_2g_6</th>\n",
       "      <th>count_rech_2g_7</th>\n",
       "      <th>count_rech_2g_8</th>\n",
       "      <th>count_rech_2g_9</th>\n",
       "      <th>count_rech_3g_6</th>\n",
       "      <th>count_rech_3g_7</th>\n",
       "      <th>count_rech_3g_8</th>\n",
       "      <th>count_rech_3g_9</th>\n",
       "      <th>av_rech_amt_data_6</th>\n",
       "      <th>av_rech_amt_data_7</th>\n",
       "      <th>av_rech_amt_data_8</th>\n",
       "      <th>av_rech_amt_data_9</th>\n",
       "      <th>vol_2g_mb_6</th>\n",
       "      <th>vol_2g_mb_7</th>\n",
       "      <th>vol_2g_mb_8</th>\n",
       "      <th>vol_2g_mb_9</th>\n",
       "      <th>vol_3g_mb_6</th>\n",
       "      <th>vol_3g_mb_7</th>\n",
       "      <th>vol_3g_mb_8</th>\n",
       "      <th>vol_3g_mb_9</th>\n",
       "      <th>arpu_3g_6</th>\n",
       "      <th>arpu_3g_7</th>\n",
       "      <th>arpu_3g_8</th>\n",
       "      <th>arpu_3g_9</th>\n",
       "      <th>arpu_2g_6</th>\n",
       "      <th>arpu_2g_7</th>\n",
       "      <th>arpu_2g_8</th>\n",
       "      <th>arpu_2g_9</th>\n",
       "      <th>night_pck_user_6</th>\n",
       "      <th>night_pck_user_7</th>\n",
       "      <th>night_pck_user_8</th>\n",
       "      <th>night_pck_user_9</th>\n",
       "      <th>monthly_2g_6</th>\n",
       "      <th>monthly_2g_7</th>\n",
       "      <th>monthly_2g_8</th>\n",
       "      <th>monthly_2g_9</th>\n",
       "      <th>sachet_2g_6</th>\n",
       "      <th>sachet_2g_7</th>\n",
       "      <th>sachet_2g_8</th>\n",
       "      <th>sachet_2g_9</th>\n",
       "      <th>monthly_3g_6</th>\n",
       "      <th>monthly_3g_7</th>\n",
       "      <th>monthly_3g_8</th>\n",
       "      <th>monthly_3g_9</th>\n",
       "      <th>sachet_3g_6</th>\n",
       "      <th>sachet_3g_7</th>\n",
       "      <th>sachet_3g_8</th>\n",
       "      <th>sachet_3g_9</th>\n",
       "      <th>fb_user_6</th>\n",
       "      <th>fb_user_7</th>\n",
       "      <th>fb_user_8</th>\n",
       "      <th>fb_user_9</th>\n",
       "      <th>aon</th>\n",
       "      <th>aug_vbc_3g</th>\n",
       "      <th>jul_vbc_3g</th>\n",
       "      <th>jun_vbc_3g</th>\n",
       "      <th>sep_vbc_3g</th>\n",
       "    </tr>\n",
       "  </thead>\n",
       "  <tbody>\n",
       "    <tr>\n",
       "      <th>0</th>\n",
       "      <td>7000842753</td>\n",
       "      <td>109</td>\n",
       "      <td>0.000</td>\n",
       "      <td>0.000</td>\n",
       "      <td>0.000</td>\n",
       "      <td>6/30/2014</td>\n",
       "      <td>7/31/2014</td>\n",
       "      <td>8/31/2014</td>\n",
       "      <td>9/30/2014</td>\n",
       "      <td>197.385</td>\n",
       "      <td>214.816</td>\n",
       "      <td>213.803</td>\n",
       "      <td>21.100</td>\n",
       "      <td>nan</td>\n",
       "      <td>nan</td>\n",
       "      <td>0.000</td>\n",
       "      <td>nan</td>\n",
       "      <td>nan</td>\n",
       "      <td>nan</td>\n",
       "      <td>0.000</td>\n",
       "      <td>nan</td>\n",
       "      <td>nan</td>\n",
       "      <td>nan</td>\n",
       "      <td>0.000</td>\n",
       "      <td>nan</td>\n",
       "      <td>nan</td>\n",
       "      <td>nan</td>\n",
       "      <td>0.000</td>\n",
       "      <td>nan</td>\n",
       "      <td>nan</td>\n",
       "      <td>nan</td>\n",
       "      <td>0.000</td>\n",
       "      <td>nan</td>\n",
       "      <td>nan</td>\n",
       "      <td>nan</td>\n",
       "      <td>0.000</td>\n",
       "      <td>nan</td>\n",
       "      <td>nan</td>\n",
       "      <td>nan</td>\n",
       "      <td>0.000</td>\n",
       "      <td>nan</td>\n",
       "      <td>nan</td>\n",
       "      <td>nan</td>\n",
       "      <td>0.000</td>\n",
       "      <td>nan</td>\n",
       "      <td>nan</td>\n",
       "      <td>nan</td>\n",
       "      <td>0.000</td>\n",
       "      <td>nan</td>\n",
       "      <td>nan</td>\n",
       "      <td>nan</td>\n",
       "      <td>0.000</td>\n",
       "      <td>nan</td>\n",
       "      <td>nan</td>\n",
       "      <td>nan</td>\n",
       "      <td>0.000</td>\n",
       "      <td>nan</td>\n",
       "      <td>nan</td>\n",
       "      <td>nan</td>\n",
       "      <td>0.000</td>\n",
       "      <td>nan</td>\n",
       "      <td>nan</td>\n",
       "      <td>nan</td>\n",
       "      <td>0.000</td>\n",
       "      <td>nan</td>\n",
       "      <td>nan</td>\n",
       "      <td>nan</td>\n",
       "      <td>0.000</td>\n",
       "      <td>nan</td>\n",
       "      <td>nan</td>\n",
       "      <td>nan</td>\n",
       "      <td>0.000</td>\n",
       "      <td>nan</td>\n",
       "      <td>nan</td>\n",
       "      <td>nan</td>\n",
       "      <td>0.000</td>\n",
       "      <td>nan</td>\n",
       "      <td>nan</td>\n",
       "      <td>nan</td>\n",
       "      <td>0.000</td>\n",
       "      <td>nan</td>\n",
       "      <td>0.000</td>\n",
       "      <td>0.000</td>\n",
       "      <td>0.000</td>\n",
       "      <td>0.000</td>\n",
       "      <td>nan</td>\n",
       "      <td>nan</td>\n",
       "      <td>0.160</td>\n",
       "      <td>nan</td>\n",
       "      <td>nan</td>\n",
       "      <td>nan</td>\n",
       "      <td>4.130</td>\n",
       "      <td>nan</td>\n",
       "      <td>nan</td>\n",
       "      <td>nan</td>\n",
       "      <td>1.150</td>\n",
       "      <td>nan</td>\n",
       "      <td>nan</td>\n",
       "      <td>nan</td>\n",
       "      <td>5.440</td>\n",
       "      <td>nan</td>\n",
       "      <td>nan</td>\n",
       "      <td>nan</td>\n",
       "      <td>0.000</td>\n",
       "      <td>nan</td>\n",
       "      <td>nan</td>\n",
       "      <td>nan</td>\n",
       "      <td>0.000</td>\n",
       "      <td>nan</td>\n",
       "      <td>nan</td>\n",
       "      <td>nan</td>\n",
       "      <td>0.000</td>\n",
       "      <td>nan</td>\n",
       "      <td>nan</td>\n",
       "      <td>nan</td>\n",
       "      <td>0.000</td>\n",
       "      <td>nan</td>\n",
       "      <td>nan</td>\n",
       "      <td>nan</td>\n",
       "      <td>0.000</td>\n",
       "      <td>nan</td>\n",
       "      <td>0.000</td>\n",
       "      <td>0.000</td>\n",
       "      <td>5.440</td>\n",
       "      <td>0.000</td>\n",
       "      <td>nan</td>\n",
       "      <td>nan</td>\n",
       "      <td>0.000</td>\n",
       "      <td>nan</td>\n",
       "      <td>nan</td>\n",
       "      <td>nan</td>\n",
       "      <td>0.000</td>\n",
       "      <td>nan</td>\n",
       "      <td>nan</td>\n",
       "      <td>nan</td>\n",
       "      <td>0.000</td>\n",
       "      <td>nan</td>\n",
       "      <td>4</td>\n",
       "      <td>3</td>\n",
       "      <td>2</td>\n",
       "      <td>6</td>\n",
       "      <td>362</td>\n",
       "      <td>252</td>\n",
       "      <td>252</td>\n",
       "      <td>0</td>\n",
       "      <td>252</td>\n",
       "      <td>252</td>\n",
       "      <td>252</td>\n",
       "      <td>0</td>\n",
       "      <td>6/21/2014</td>\n",
       "      <td>7/16/2014</td>\n",
       "      <td>8/8/2014</td>\n",
       "      <td>9/28/2014</td>\n",
       "      <td>252</td>\n",
       "      <td>252</td>\n",
       "      <td>252</td>\n",
       "      <td>0</td>\n",
       "      <td>6/21/2014</td>\n",
       "      <td>7/16/2014</td>\n",
       "      <td>8/8/2014</td>\n",
       "      <td>NaN</td>\n",
       "      <td>1.000</td>\n",
       "      <td>1.000</td>\n",
       "      <td>1.000</td>\n",
       "      <td>nan</td>\n",
       "      <td>252.000</td>\n",
       "      <td>252.000</td>\n",
       "      <td>252.000</td>\n",
       "      <td>nan</td>\n",
       "      <td>0.000</td>\n",
       "      <td>0.000</td>\n",
       "      <td>0.000</td>\n",
       "      <td>nan</td>\n",
       "      <td>1.000</td>\n",
       "      <td>1.000</td>\n",
       "      <td>1.000</td>\n",
       "      <td>nan</td>\n",
       "      <td>252.000</td>\n",
       "      <td>252.000</td>\n",
       "      <td>252.000</td>\n",
       "      <td>nan</td>\n",
       "      <td>30.130</td>\n",
       "      <td>1.320</td>\n",
       "      <td>5.750</td>\n",
       "      <td>0.000</td>\n",
       "      <td>83.570</td>\n",
       "      <td>150.760</td>\n",
       "      <td>109.610</td>\n",
       "      <td>0.000</td>\n",
       "      <td>212.170</td>\n",
       "      <td>212.170</td>\n",
       "      <td>212.170</td>\n",
       "      <td>nan</td>\n",
       "      <td>212.170</td>\n",
       "      <td>212.170</td>\n",
       "      <td>212.170</td>\n",
       "      <td>nan</td>\n",
       "      <td>0.000</td>\n",
       "      <td>0.000</td>\n",
       "      <td>0.000</td>\n",
       "      <td>nan</td>\n",
       "      <td>0</td>\n",
       "      <td>0</td>\n",
       "      <td>0</td>\n",
       "      <td>0</td>\n",
       "      <td>0</td>\n",
       "      <td>0</td>\n",
       "      <td>0</td>\n",
       "      <td>0</td>\n",
       "      <td>1</td>\n",
       "      <td>1</td>\n",
       "      <td>1</td>\n",
       "      <td>0</td>\n",
       "      <td>0</td>\n",
       "      <td>0</td>\n",
       "      <td>0</td>\n",
       "      <td>0</td>\n",
       "      <td>1.000</td>\n",
       "      <td>1.000</td>\n",
       "      <td>1.000</td>\n",
       "      <td>nan</td>\n",
       "      <td>968</td>\n",
       "      <td>30.400</td>\n",
       "      <td>0.000</td>\n",
       "      <td>101.200</td>\n",
       "      <td>3.580</td>\n",
       "    </tr>\n",
       "    <tr>\n",
       "      <th>1</th>\n",
       "      <td>7001865778</td>\n",
       "      <td>109</td>\n",
       "      <td>0.000</td>\n",
       "      <td>0.000</td>\n",
       "      <td>0.000</td>\n",
       "      <td>6/30/2014</td>\n",
       "      <td>7/31/2014</td>\n",
       "      <td>8/31/2014</td>\n",
       "      <td>9/30/2014</td>\n",
       "      <td>34.047</td>\n",
       "      <td>355.074</td>\n",
       "      <td>268.321</td>\n",
       "      <td>86.285</td>\n",
       "      <td>24.110</td>\n",
       "      <td>78.680</td>\n",
       "      <td>7.680</td>\n",
       "      <td>18.340</td>\n",
       "      <td>15.740</td>\n",
       "      <td>99.840</td>\n",
       "      <td>304.760</td>\n",
       "      <td>53.760</td>\n",
       "      <td>0.000</td>\n",
       "      <td>0.000</td>\n",
       "      <td>0.000</td>\n",
       "      <td>0.000</td>\n",
       "      <td>0.000</td>\n",
       "      <td>0.000</td>\n",
       "      <td>0.000</td>\n",
       "      <td>0.000</td>\n",
       "      <td>23.880</td>\n",
       "      <td>74.560</td>\n",
       "      <td>7.680</td>\n",
       "      <td>18.340</td>\n",
       "      <td>11.510</td>\n",
       "      <td>75.940</td>\n",
       "      <td>291.860</td>\n",
       "      <td>53.760</td>\n",
       "      <td>0.000</td>\n",
       "      <td>0.000</td>\n",
       "      <td>0.000</td>\n",
       "      <td>0.000</td>\n",
       "      <td>0.000</td>\n",
       "      <td>2.910</td>\n",
       "      <td>0.000</td>\n",
       "      <td>0.000</td>\n",
       "      <td>35.390</td>\n",
       "      <td>150.510</td>\n",
       "      <td>299.540</td>\n",
       "      <td>72.110</td>\n",
       "      <td>0.230</td>\n",
       "      <td>4.110</td>\n",
       "      <td>0.000</td>\n",
       "      <td>0.000</td>\n",
       "      <td>0.000</td>\n",
       "      <td>0.460</td>\n",
       "      <td>0.130</td>\n",
       "      <td>0.000</td>\n",
       "      <td>0.000</td>\n",
       "      <td>0.000</td>\n",
       "      <td>0.000</td>\n",
       "      <td>0.000</td>\n",
       "      <td>0.000</td>\n",
       "      <td>0.000</td>\n",
       "      <td>0.000</td>\n",
       "      <td>0.000</td>\n",
       "      <td>0.230</td>\n",
       "      <td>4.580</td>\n",
       "      <td>0.130</td>\n",
       "      <td>0.000</td>\n",
       "      <td>0.000</td>\n",
       "      <td>0.000</td>\n",
       "      <td>0.000</td>\n",
       "      <td>0.000</td>\n",
       "      <td>4.680</td>\n",
       "      <td>23.430</td>\n",
       "      <td>12.760</td>\n",
       "      <td>0.000</td>\n",
       "      <td>0.000</td>\n",
       "      <td>0.000</td>\n",
       "      <td>0.000</td>\n",
       "      <td>0.000</td>\n",
       "      <td>40.310</td>\n",
       "      <td>178.530</td>\n",
       "      <td>312.440</td>\n",
       "      <td>72.110</td>\n",
       "      <td>1.610</td>\n",
       "      <td>29.910</td>\n",
       "      <td>29.230</td>\n",
       "      <td>116.090</td>\n",
       "      <td>17.480</td>\n",
       "      <td>65.380</td>\n",
       "      <td>375.580</td>\n",
       "      <td>56.930</td>\n",
       "      <td>0.000</td>\n",
       "      <td>8.930</td>\n",
       "      <td>3.610</td>\n",
       "      <td>0.000</td>\n",
       "      <td>19.090</td>\n",
       "      <td>104.230</td>\n",
       "      <td>408.430</td>\n",
       "      <td>173.030</td>\n",
       "      <td>0.000</td>\n",
       "      <td>0.000</td>\n",
       "      <td>2.350</td>\n",
       "      <td>0.000</td>\n",
       "      <td>5.900</td>\n",
       "      <td>0.000</td>\n",
       "      <td>12.490</td>\n",
       "      <td>15.010</td>\n",
       "      <td>0.000</td>\n",
       "      <td>0.000</td>\n",
       "      <td>0.000</td>\n",
       "      <td>0.000</td>\n",
       "      <td>0.000</td>\n",
       "      <td>0.000</td>\n",
       "      <td>0.000</td>\n",
       "      <td>0.000</td>\n",
       "      <td>5.900</td>\n",
       "      <td>0.000</td>\n",
       "      <td>14.840</td>\n",
       "      <td>15.010</td>\n",
       "      <td>26.830</td>\n",
       "      <td>104.230</td>\n",
       "      <td>423.280</td>\n",
       "      <td>188.040</td>\n",
       "      <td>0.000</td>\n",
       "      <td>0.000</td>\n",
       "      <td>0.000</td>\n",
       "      <td>0.000</td>\n",
       "      <td>1.830</td>\n",
       "      <td>0.000</td>\n",
       "      <td>0.000</td>\n",
       "      <td>0.000</td>\n",
       "      <td>0.000</td>\n",
       "      <td>0.000</td>\n",
       "      <td>0.000</td>\n",
       "      <td>0.000</td>\n",
       "      <td>4</td>\n",
       "      <td>9</td>\n",
       "      <td>11</td>\n",
       "      <td>5</td>\n",
       "      <td>74</td>\n",
       "      <td>384</td>\n",
       "      <td>283</td>\n",
       "      <td>121</td>\n",
       "      <td>44</td>\n",
       "      <td>154</td>\n",
       "      <td>65</td>\n",
       "      <td>50</td>\n",
       "      <td>6/29/2014</td>\n",
       "      <td>7/31/2014</td>\n",
       "      <td>8/28/2014</td>\n",
       "      <td>9/30/2014</td>\n",
       "      <td>44</td>\n",
       "      <td>23</td>\n",
       "      <td>30</td>\n",
       "      <td>0</td>\n",
       "      <td>NaN</td>\n",
       "      <td>7/25/2014</td>\n",
       "      <td>8/10/2014</td>\n",
       "      <td>NaN</td>\n",
       "      <td>nan</td>\n",
       "      <td>1.000</td>\n",
       "      <td>2.000</td>\n",
       "      <td>nan</td>\n",
       "      <td>nan</td>\n",
       "      <td>154.000</td>\n",
       "      <td>25.000</td>\n",
       "      <td>nan</td>\n",
       "      <td>nan</td>\n",
       "      <td>1.000</td>\n",
       "      <td>2.000</td>\n",
       "      <td>nan</td>\n",
       "      <td>nan</td>\n",
       "      <td>0.000</td>\n",
       "      <td>0.000</td>\n",
       "      <td>nan</td>\n",
       "      <td>nan</td>\n",
       "      <td>154.000</td>\n",
       "      <td>50.000</td>\n",
       "      <td>nan</td>\n",
       "      <td>0.000</td>\n",
       "      <td>108.070</td>\n",
       "      <td>365.470</td>\n",
       "      <td>0.000</td>\n",
       "      <td>0.000</td>\n",
       "      <td>0.000</td>\n",
       "      <td>0.000</td>\n",
       "      <td>0.000</td>\n",
       "      <td>nan</td>\n",
       "      <td>0.000</td>\n",
       "      <td>0.000</td>\n",
       "      <td>nan</td>\n",
       "      <td>nan</td>\n",
       "      <td>28.610</td>\n",
       "      <td>7.600</td>\n",
       "      <td>nan</td>\n",
       "      <td>nan</td>\n",
       "      <td>0.000</td>\n",
       "      <td>0.000</td>\n",
       "      <td>nan</td>\n",
       "      <td>0</td>\n",
       "      <td>1</td>\n",
       "      <td>0</td>\n",
       "      <td>0</td>\n",
       "      <td>0</td>\n",
       "      <td>0</td>\n",
       "      <td>2</td>\n",
       "      <td>0</td>\n",
       "      <td>0</td>\n",
       "      <td>0</td>\n",
       "      <td>0</td>\n",
       "      <td>0</td>\n",
       "      <td>0</td>\n",
       "      <td>0</td>\n",
       "      <td>0</td>\n",
       "      <td>0</td>\n",
       "      <td>nan</td>\n",
       "      <td>1.000</td>\n",
       "      <td>1.000</td>\n",
       "      <td>nan</td>\n",
       "      <td>1006</td>\n",
       "      <td>0.000</td>\n",
       "      <td>0.000</td>\n",
       "      <td>0.000</td>\n",
       "      <td>0.000</td>\n",
       "    </tr>\n",
       "    <tr>\n",
       "      <th>2</th>\n",
       "      <td>7001625959</td>\n",
       "      <td>109</td>\n",
       "      <td>0.000</td>\n",
       "      <td>0.000</td>\n",
       "      <td>0.000</td>\n",
       "      <td>6/30/2014</td>\n",
       "      <td>7/31/2014</td>\n",
       "      <td>8/31/2014</td>\n",
       "      <td>9/30/2014</td>\n",
       "      <td>167.690</td>\n",
       "      <td>189.058</td>\n",
       "      <td>210.226</td>\n",
       "      <td>290.714</td>\n",
       "      <td>11.540</td>\n",
       "      <td>55.240</td>\n",
       "      <td>37.260</td>\n",
       "      <td>74.810</td>\n",
       "      <td>143.330</td>\n",
       "      <td>220.590</td>\n",
       "      <td>208.360</td>\n",
       "      <td>118.910</td>\n",
       "      <td>0.000</td>\n",
       "      <td>0.000</td>\n",
       "      <td>0.000</td>\n",
       "      <td>38.490</td>\n",
       "      <td>0.000</td>\n",
       "      <td>0.000</td>\n",
       "      <td>0.000</td>\n",
       "      <td>70.940</td>\n",
       "      <td>7.190</td>\n",
       "      <td>28.740</td>\n",
       "      <td>13.580</td>\n",
       "      <td>14.390</td>\n",
       "      <td>29.340</td>\n",
       "      <td>16.860</td>\n",
       "      <td>38.460</td>\n",
       "      <td>28.160</td>\n",
       "      <td>24.110</td>\n",
       "      <td>21.790</td>\n",
       "      <td>15.610</td>\n",
       "      <td>22.240</td>\n",
       "      <td>0.000</td>\n",
       "      <td>135.540</td>\n",
       "      <td>45.760</td>\n",
       "      <td>0.480</td>\n",
       "      <td>60.660</td>\n",
       "      <td>67.410</td>\n",
       "      <td>67.660</td>\n",
       "      <td>64.810</td>\n",
       "      <td>4.340</td>\n",
       "      <td>26.490</td>\n",
       "      <td>22.580</td>\n",
       "      <td>8.760</td>\n",
       "      <td>41.810</td>\n",
       "      <td>67.410</td>\n",
       "      <td>75.530</td>\n",
       "      <td>9.280</td>\n",
       "      <td>1.480</td>\n",
       "      <td>14.760</td>\n",
       "      <td>22.830</td>\n",
       "      <td>0.000</td>\n",
       "      <td>0.000</td>\n",
       "      <td>0.000</td>\n",
       "      <td>0.000</td>\n",
       "      <td>0.000</td>\n",
       "      <td>47.640</td>\n",
       "      <td>108.680</td>\n",
       "      <td>120.940</td>\n",
       "      <td>18.040</td>\n",
       "      <td>0.000</td>\n",
       "      <td>0.000</td>\n",
       "      <td>0.000</td>\n",
       "      <td>0.000</td>\n",
       "      <td>46.560</td>\n",
       "      <td>236.840</td>\n",
       "      <td>96.840</td>\n",
       "      <td>42.080</td>\n",
       "      <td>0.450</td>\n",
       "      <td>0.000</td>\n",
       "      <td>0.000</td>\n",
       "      <td>0.000</td>\n",
       "      <td>155.330</td>\n",
       "      <td>412.940</td>\n",
       "      <td>285.460</td>\n",
       "      <td>124.940</td>\n",
       "      <td>115.690</td>\n",
       "      <td>71.110</td>\n",
       "      <td>67.460</td>\n",
       "      <td>148.230</td>\n",
       "      <td>14.380</td>\n",
       "      <td>15.440</td>\n",
       "      <td>38.890</td>\n",
       "      <td>38.980</td>\n",
       "      <td>99.480</td>\n",
       "      <td>122.290</td>\n",
       "      <td>49.630</td>\n",
       "      <td>158.190</td>\n",
       "      <td>229.560</td>\n",
       "      <td>208.860</td>\n",
       "      <td>155.990</td>\n",
       "      <td>345.410</td>\n",
       "      <td>72.410</td>\n",
       "      <td>71.290</td>\n",
       "      <td>28.690</td>\n",
       "      <td>49.440</td>\n",
       "      <td>45.180</td>\n",
       "      <td>177.010</td>\n",
       "      <td>167.090</td>\n",
       "      <td>118.180</td>\n",
       "      <td>21.730</td>\n",
       "      <td>58.340</td>\n",
       "      <td>43.230</td>\n",
       "      <td>3.860</td>\n",
       "      <td>0.000</td>\n",
       "      <td>0.000</td>\n",
       "      <td>0.000</td>\n",
       "      <td>0.000</td>\n",
       "      <td>139.330</td>\n",
       "      <td>306.660</td>\n",
       "      <td>239.030</td>\n",
       "      <td>171.490</td>\n",
       "      <td>370.040</td>\n",
       "      <td>519.530</td>\n",
       "      <td>395.030</td>\n",
       "      <td>517.740</td>\n",
       "      <td>0.210</td>\n",
       "      <td>0.000</td>\n",
       "      <td>0.000</td>\n",
       "      <td>0.450</td>\n",
       "      <td>0.000</td>\n",
       "      <td>0.850</td>\n",
       "      <td>0.000</td>\n",
       "      <td>0.010</td>\n",
       "      <td>0.930</td>\n",
       "      <td>3.140</td>\n",
       "      <td>0.000</td>\n",
       "      <td>0.360</td>\n",
       "      <td>5</td>\n",
       "      <td>4</td>\n",
       "      <td>2</td>\n",
       "      <td>7</td>\n",
       "      <td>168</td>\n",
       "      <td>315</td>\n",
       "      <td>116</td>\n",
       "      <td>358</td>\n",
       "      <td>86</td>\n",
       "      <td>200</td>\n",
       "      <td>86</td>\n",
       "      <td>100</td>\n",
       "      <td>6/17/2014</td>\n",
       "      <td>7/24/2014</td>\n",
       "      <td>8/14/2014</td>\n",
       "      <td>9/29/2014</td>\n",
       "      <td>0</td>\n",
       "      <td>200</td>\n",
       "      <td>86</td>\n",
       "      <td>0</td>\n",
       "      <td>NaN</td>\n",
       "      <td>NaN</td>\n",
       "      <td>NaN</td>\n",
       "      <td>9/17/2014</td>\n",
       "      <td>nan</td>\n",
       "      <td>nan</td>\n",
       "      <td>nan</td>\n",
       "      <td>1.000</td>\n",
       "      <td>nan</td>\n",
       "      <td>nan</td>\n",
       "      <td>nan</td>\n",
       "      <td>46.000</td>\n",
       "      <td>nan</td>\n",
       "      <td>nan</td>\n",
       "      <td>nan</td>\n",
       "      <td>1.000</td>\n",
       "      <td>nan</td>\n",
       "      <td>nan</td>\n",
       "      <td>nan</td>\n",
       "      <td>0.000</td>\n",
       "      <td>nan</td>\n",
       "      <td>nan</td>\n",
       "      <td>nan</td>\n",
       "      <td>46.000</td>\n",
       "      <td>0.000</td>\n",
       "      <td>0.000</td>\n",
       "      <td>0.000</td>\n",
       "      <td>0.000</td>\n",
       "      <td>0.000</td>\n",
       "      <td>0.000</td>\n",
       "      <td>0.000</td>\n",
       "      <td>8.420</td>\n",
       "      <td>nan</td>\n",
       "      <td>nan</td>\n",
       "      <td>nan</td>\n",
       "      <td>2.840</td>\n",
       "      <td>nan</td>\n",
       "      <td>nan</td>\n",
       "      <td>nan</td>\n",
       "      <td>0.000</td>\n",
       "      <td>nan</td>\n",
       "      <td>nan</td>\n",
       "      <td>nan</td>\n",
       "      <td>0.000</td>\n",
       "      <td>0</td>\n",
       "      <td>0</td>\n",
       "      <td>0</td>\n",
       "      <td>0</td>\n",
       "      <td>0</td>\n",
       "      <td>0</td>\n",
       "      <td>0</td>\n",
       "      <td>1</td>\n",
       "      <td>0</td>\n",
       "      <td>0</td>\n",
       "      <td>0</td>\n",
       "      <td>0</td>\n",
       "      <td>0</td>\n",
       "      <td>0</td>\n",
       "      <td>0</td>\n",
       "      <td>0</td>\n",
       "      <td>nan</td>\n",
       "      <td>nan</td>\n",
       "      <td>nan</td>\n",
       "      <td>1.000</td>\n",
       "      <td>1103</td>\n",
       "      <td>0.000</td>\n",
       "      <td>0.000</td>\n",
       "      <td>4.170</td>\n",
       "      <td>0.000</td>\n",
       "    </tr>\n",
       "    <tr>\n",
       "      <th>3</th>\n",
       "      <td>7001204172</td>\n",
       "      <td>109</td>\n",
       "      <td>0.000</td>\n",
       "      <td>0.000</td>\n",
       "      <td>0.000</td>\n",
       "      <td>6/30/2014</td>\n",
       "      <td>7/31/2014</td>\n",
       "      <td>8/31/2014</td>\n",
       "      <td>9/30/2014</td>\n",
       "      <td>221.338</td>\n",
       "      <td>251.102</td>\n",
       "      <td>508.054</td>\n",
       "      <td>389.500</td>\n",
       "      <td>99.910</td>\n",
       "      <td>54.390</td>\n",
       "      <td>310.980</td>\n",
       "      <td>241.710</td>\n",
       "      <td>123.310</td>\n",
       "      <td>109.010</td>\n",
       "      <td>71.680</td>\n",
       "      <td>113.540</td>\n",
       "      <td>0.000</td>\n",
       "      <td>54.860</td>\n",
       "      <td>44.380</td>\n",
       "      <td>0.000</td>\n",
       "      <td>0.000</td>\n",
       "      <td>28.090</td>\n",
       "      <td>39.040</td>\n",
       "      <td>0.000</td>\n",
       "      <td>73.680</td>\n",
       "      <td>34.810</td>\n",
       "      <td>10.610</td>\n",
       "      <td>15.490</td>\n",
       "      <td>107.430</td>\n",
       "      <td>83.210</td>\n",
       "      <td>22.460</td>\n",
       "      <td>65.460</td>\n",
       "      <td>1.910</td>\n",
       "      <td>0.650</td>\n",
       "      <td>4.910</td>\n",
       "      <td>2.060</td>\n",
       "      <td>0.000</td>\n",
       "      <td>0.000</td>\n",
       "      <td>0.000</td>\n",
       "      <td>0.000</td>\n",
       "      <td>183.030</td>\n",
       "      <td>118.680</td>\n",
       "      <td>37.990</td>\n",
       "      <td>83.030</td>\n",
       "      <td>26.230</td>\n",
       "      <td>14.890</td>\n",
       "      <td>289.580</td>\n",
       "      <td>226.210</td>\n",
       "      <td>2.990</td>\n",
       "      <td>1.730</td>\n",
       "      <td>6.530</td>\n",
       "      <td>9.990</td>\n",
       "      <td>0.000</td>\n",
       "      <td>0.000</td>\n",
       "      <td>0.000</td>\n",
       "      <td>0.000</td>\n",
       "      <td>0.000</td>\n",
       "      <td>0.000</td>\n",
       "      <td>0.000</td>\n",
       "      <td>0.000</td>\n",
       "      <td>29.230</td>\n",
       "      <td>16.630</td>\n",
       "      <td>296.110</td>\n",
       "      <td>236.210</td>\n",
       "      <td>0.000</td>\n",
       "      <td>0.000</td>\n",
       "      <td>0.000</td>\n",
       "      <td>0.000</td>\n",
       "      <td>10.960</td>\n",
       "      <td>0.000</td>\n",
       "      <td>18.090</td>\n",
       "      <td>43.290</td>\n",
       "      <td>0.000</td>\n",
       "      <td>0.000</td>\n",
       "      <td>0.000</td>\n",
       "      <td>0.000</td>\n",
       "      <td>223.230</td>\n",
       "      <td>135.310</td>\n",
       "      <td>352.210</td>\n",
       "      <td>362.540</td>\n",
       "      <td>62.080</td>\n",
       "      <td>19.980</td>\n",
       "      <td>8.040</td>\n",
       "      <td>41.730</td>\n",
       "      <td>113.960</td>\n",
       "      <td>64.510</td>\n",
       "      <td>20.280</td>\n",
       "      <td>52.860</td>\n",
       "      <td>57.430</td>\n",
       "      <td>27.090</td>\n",
       "      <td>19.840</td>\n",
       "      <td>65.590</td>\n",
       "      <td>233.480</td>\n",
       "      <td>111.590</td>\n",
       "      <td>48.180</td>\n",
       "      <td>160.190</td>\n",
       "      <td>43.480</td>\n",
       "      <td>66.440</td>\n",
       "      <td>0.000</td>\n",
       "      <td>129.840</td>\n",
       "      <td>1.330</td>\n",
       "      <td>38.560</td>\n",
       "      <td>4.940</td>\n",
       "      <td>13.980</td>\n",
       "      <td>1.180</td>\n",
       "      <td>0.000</td>\n",
       "      <td>0.000</td>\n",
       "      <td>0.000</td>\n",
       "      <td>0.000</td>\n",
       "      <td>0.000</td>\n",
       "      <td>0.000</td>\n",
       "      <td>0.000</td>\n",
       "      <td>45.990</td>\n",
       "      <td>105.010</td>\n",
       "      <td>4.940</td>\n",
       "      <td>143.830</td>\n",
       "      <td>280.080</td>\n",
       "      <td>216.610</td>\n",
       "      <td>53.130</td>\n",
       "      <td>305.380</td>\n",
       "      <td>0.590</td>\n",
       "      <td>0.000</td>\n",
       "      <td>0.000</td>\n",
       "      <td>0.550</td>\n",
       "      <td>0.000</td>\n",
       "      <td>0.000</td>\n",
       "      <td>0.000</td>\n",
       "      <td>0.000</td>\n",
       "      <td>0.000</td>\n",
       "      <td>0.000</td>\n",
       "      <td>0.000</td>\n",
       "      <td>0.800</td>\n",
       "      <td>10</td>\n",
       "      <td>11</td>\n",
       "      <td>18</td>\n",
       "      <td>14</td>\n",
       "      <td>230</td>\n",
       "      <td>310</td>\n",
       "      <td>601</td>\n",
       "      <td>410</td>\n",
       "      <td>60</td>\n",
       "      <td>50</td>\n",
       "      <td>50</td>\n",
       "      <td>50</td>\n",
       "      <td>6/28/2014</td>\n",
       "      <td>7/31/2014</td>\n",
       "      <td>8/31/2014</td>\n",
       "      <td>9/30/2014</td>\n",
       "      <td>30</td>\n",
       "      <td>50</td>\n",
       "      <td>50</td>\n",
       "      <td>30</td>\n",
       "      <td>NaN</td>\n",
       "      <td>NaN</td>\n",
       "      <td>NaN</td>\n",
       "      <td>NaN</td>\n",
       "      <td>nan</td>\n",
       "      <td>nan</td>\n",
       "      <td>nan</td>\n",
       "      <td>nan</td>\n",
       "      <td>nan</td>\n",
       "      <td>nan</td>\n",
       "      <td>nan</td>\n",
       "      <td>nan</td>\n",
       "      <td>nan</td>\n",
       "      <td>nan</td>\n",
       "      <td>nan</td>\n",
       "      <td>nan</td>\n",
       "      <td>nan</td>\n",
       "      <td>nan</td>\n",
       "      <td>nan</td>\n",
       "      <td>nan</td>\n",
       "      <td>nan</td>\n",
       "      <td>nan</td>\n",
       "      <td>nan</td>\n",
       "      <td>nan</td>\n",
       "      <td>0.000</td>\n",
       "      <td>0.000</td>\n",
       "      <td>0.000</td>\n",
       "      <td>0.000</td>\n",
       "      <td>0.000</td>\n",
       "      <td>0.000</td>\n",
       "      <td>0.000</td>\n",
       "      <td>0.000</td>\n",
       "      <td>nan</td>\n",
       "      <td>nan</td>\n",
       "      <td>nan</td>\n",
       "      <td>nan</td>\n",
       "      <td>nan</td>\n",
       "      <td>nan</td>\n",
       "      <td>nan</td>\n",
       "      <td>nan</td>\n",
       "      <td>nan</td>\n",
       "      <td>nan</td>\n",
       "      <td>nan</td>\n",
       "      <td>nan</td>\n",
       "      <td>0</td>\n",
       "      <td>0</td>\n",
       "      <td>0</td>\n",
       "      <td>0</td>\n",
       "      <td>0</td>\n",
       "      <td>0</td>\n",
       "      <td>0</td>\n",
       "      <td>0</td>\n",
       "      <td>0</td>\n",
       "      <td>0</td>\n",
       "      <td>0</td>\n",
       "      <td>0</td>\n",
       "      <td>0</td>\n",
       "      <td>0</td>\n",
       "      <td>0</td>\n",
       "      <td>0</td>\n",
       "      <td>nan</td>\n",
       "      <td>nan</td>\n",
       "      <td>nan</td>\n",
       "      <td>nan</td>\n",
       "      <td>2491</td>\n",
       "      <td>0.000</td>\n",
       "      <td>0.000</td>\n",
       "      <td>0.000</td>\n",
       "      <td>0.000</td>\n",
       "    </tr>\n",
       "    <tr>\n",
       "      <th>4</th>\n",
       "      <td>7000142493</td>\n",
       "      <td>109</td>\n",
       "      <td>0.000</td>\n",
       "      <td>0.000</td>\n",
       "      <td>0.000</td>\n",
       "      <td>6/30/2014</td>\n",
       "      <td>7/31/2014</td>\n",
       "      <td>8/31/2014</td>\n",
       "      <td>9/30/2014</td>\n",
       "      <td>261.636</td>\n",
       "      <td>309.876</td>\n",
       "      <td>238.174</td>\n",
       "      <td>163.426</td>\n",
       "      <td>50.310</td>\n",
       "      <td>149.440</td>\n",
       "      <td>83.890</td>\n",
       "      <td>58.780</td>\n",
       "      <td>76.960</td>\n",
       "      <td>91.880</td>\n",
       "      <td>124.260</td>\n",
       "      <td>45.810</td>\n",
       "      <td>0.000</td>\n",
       "      <td>0.000</td>\n",
       "      <td>0.000</td>\n",
       "      <td>0.000</td>\n",
       "      <td>0.000</td>\n",
       "      <td>0.000</td>\n",
       "      <td>0.000</td>\n",
       "      <td>0.000</td>\n",
       "      <td>50.310</td>\n",
       "      <td>149.440</td>\n",
       "      <td>83.890</td>\n",
       "      <td>58.780</td>\n",
       "      <td>67.640</td>\n",
       "      <td>91.880</td>\n",
       "      <td>124.260</td>\n",
       "      <td>37.890</td>\n",
       "      <td>0.000</td>\n",
       "      <td>0.000</td>\n",
       "      <td>0.000</td>\n",
       "      <td>1.930</td>\n",
       "      <td>0.000</td>\n",
       "      <td>0.000</td>\n",
       "      <td>0.000</td>\n",
       "      <td>0.000</td>\n",
       "      <td>117.960</td>\n",
       "      <td>241.330</td>\n",
       "      <td>208.160</td>\n",
       "      <td>98.610</td>\n",
       "      <td>0.000</td>\n",
       "      <td>0.000</td>\n",
       "      <td>0.000</td>\n",
       "      <td>0.000</td>\n",
       "      <td>9.310</td>\n",
       "      <td>0.000</td>\n",
       "      <td>0.000</td>\n",
       "      <td>0.000</td>\n",
       "      <td>0.000</td>\n",
       "      <td>0.000</td>\n",
       "      <td>0.000</td>\n",
       "      <td>0.000</td>\n",
       "      <td>0.000</td>\n",
       "      <td>0.000</td>\n",
       "      <td>0.000</td>\n",
       "      <td>0.000</td>\n",
       "      <td>9.310</td>\n",
       "      <td>0.000</td>\n",
       "      <td>0.000</td>\n",
       "      <td>0.000</td>\n",
       "      <td>0.000</td>\n",
       "      <td>0.000</td>\n",
       "      <td>0.000</td>\n",
       "      <td>0.000</td>\n",
       "      <td>0.000</td>\n",
       "      <td>0.000</td>\n",
       "      <td>0.000</td>\n",
       "      <td>5.980</td>\n",
       "      <td>0.000</td>\n",
       "      <td>0.000</td>\n",
       "      <td>0.000</td>\n",
       "      <td>0.000</td>\n",
       "      <td>127.280</td>\n",
       "      <td>241.330</td>\n",
       "      <td>208.160</td>\n",
       "      <td>104.590</td>\n",
       "      <td>105.680</td>\n",
       "      <td>88.490</td>\n",
       "      <td>233.810</td>\n",
       "      <td>154.560</td>\n",
       "      <td>106.840</td>\n",
       "      <td>109.540</td>\n",
       "      <td>104.130</td>\n",
       "      <td>48.240</td>\n",
       "      <td>1.500</td>\n",
       "      <td>0.000</td>\n",
       "      <td>0.000</td>\n",
       "      <td>0.000</td>\n",
       "      <td>214.030</td>\n",
       "      <td>198.040</td>\n",
       "      <td>337.940</td>\n",
       "      <td>202.810</td>\n",
       "      <td>0.000</td>\n",
       "      <td>0.000</td>\n",
       "      <td>0.860</td>\n",
       "      <td>2.310</td>\n",
       "      <td>1.930</td>\n",
       "      <td>0.250</td>\n",
       "      <td>0.000</td>\n",
       "      <td>0.000</td>\n",
       "      <td>0.000</td>\n",
       "      <td>0.000</td>\n",
       "      <td>0.000</td>\n",
       "      <td>0.000</td>\n",
       "      <td>0.000</td>\n",
       "      <td>0.000</td>\n",
       "      <td>0.000</td>\n",
       "      <td>0.000</td>\n",
       "      <td>1.930</td>\n",
       "      <td>0.250</td>\n",
       "      <td>0.860</td>\n",
       "      <td>2.310</td>\n",
       "      <td>216.440</td>\n",
       "      <td>198.290</td>\n",
       "      <td>338.810</td>\n",
       "      <td>205.310</td>\n",
       "      <td>0.000</td>\n",
       "      <td>0.000</td>\n",
       "      <td>0.000</td>\n",
       "      <td>0.180</td>\n",
       "      <td>0.000</td>\n",
       "      <td>0.000</td>\n",
       "      <td>0.000</td>\n",
       "      <td>0.000</td>\n",
       "      <td>0.480</td>\n",
       "      <td>0.000</td>\n",
       "      <td>0.000</td>\n",
       "      <td>0.000</td>\n",
       "      <td>5</td>\n",
       "      <td>6</td>\n",
       "      <td>3</td>\n",
       "      <td>4</td>\n",
       "      <td>196</td>\n",
       "      <td>350</td>\n",
       "      <td>287</td>\n",
       "      <td>200</td>\n",
       "      <td>56</td>\n",
       "      <td>110</td>\n",
       "      <td>110</td>\n",
       "      <td>50</td>\n",
       "      <td>6/26/2014</td>\n",
       "      <td>7/28/2014</td>\n",
       "      <td>8/9/2014</td>\n",
       "      <td>9/28/2014</td>\n",
       "      <td>50</td>\n",
       "      <td>110</td>\n",
       "      <td>110</td>\n",
       "      <td>50</td>\n",
       "      <td>6/4/2014</td>\n",
       "      <td>NaN</td>\n",
       "      <td>NaN</td>\n",
       "      <td>NaN</td>\n",
       "      <td>1.000</td>\n",
       "      <td>nan</td>\n",
       "      <td>nan</td>\n",
       "      <td>nan</td>\n",
       "      <td>56.000</td>\n",
       "      <td>nan</td>\n",
       "      <td>nan</td>\n",
       "      <td>nan</td>\n",
       "      <td>1.000</td>\n",
       "      <td>nan</td>\n",
       "      <td>nan</td>\n",
       "      <td>nan</td>\n",
       "      <td>0.000</td>\n",
       "      <td>nan</td>\n",
       "      <td>nan</td>\n",
       "      <td>nan</td>\n",
       "      <td>56.000</td>\n",
       "      <td>nan</td>\n",
       "      <td>nan</td>\n",
       "      <td>nan</td>\n",
       "      <td>0.000</td>\n",
       "      <td>0.000</td>\n",
       "      <td>0.000</td>\n",
       "      <td>0.000</td>\n",
       "      <td>0.000</td>\n",
       "      <td>0.000</td>\n",
       "      <td>0.000</td>\n",
       "      <td>0.000</td>\n",
       "      <td>0.000</td>\n",
       "      <td>nan</td>\n",
       "      <td>nan</td>\n",
       "      <td>nan</td>\n",
       "      <td>0.000</td>\n",
       "      <td>nan</td>\n",
       "      <td>nan</td>\n",
       "      <td>nan</td>\n",
       "      <td>0.000</td>\n",
       "      <td>nan</td>\n",
       "      <td>nan</td>\n",
       "      <td>nan</td>\n",
       "      <td>0</td>\n",
       "      <td>0</td>\n",
       "      <td>0</td>\n",
       "      <td>0</td>\n",
       "      <td>1</td>\n",
       "      <td>0</td>\n",
       "      <td>0</td>\n",
       "      <td>0</td>\n",
       "      <td>0</td>\n",
       "      <td>0</td>\n",
       "      <td>0</td>\n",
       "      <td>0</td>\n",
       "      <td>0</td>\n",
       "      <td>0</td>\n",
       "      <td>0</td>\n",
       "      <td>0</td>\n",
       "      <td>0.000</td>\n",
       "      <td>nan</td>\n",
       "      <td>nan</td>\n",
       "      <td>nan</td>\n",
       "      <td>1526</td>\n",
       "      <td>0.000</td>\n",
       "      <td>0.000</td>\n",
       "      <td>0.000</td>\n",
       "      <td>0.000</td>\n",
       "    </tr>\n",
       "  </tbody>\n",
       "</table>\n",
       "</div>"
      ],
      "text/plain": [
       "   mobile_number  circle_id  loc_og_t2o_mou  std_og_t2o_mou  loc_ic_t2o_mou  \\\n",
       "0     7000842753        109           0.000           0.000           0.000   \n",
       "1     7001865778        109           0.000           0.000           0.000   \n",
       "2     7001625959        109           0.000           0.000           0.000   \n",
       "3     7001204172        109           0.000           0.000           0.000   \n",
       "4     7000142493        109           0.000           0.000           0.000   \n",
       "\n",
       "  last_date_of_month_6 last_date_of_month_7 last_date_of_month_8  \\\n",
       "0            6/30/2014            7/31/2014            8/31/2014   \n",
       "1            6/30/2014            7/31/2014            8/31/2014   \n",
       "2            6/30/2014            7/31/2014            8/31/2014   \n",
       "3            6/30/2014            7/31/2014            8/31/2014   \n",
       "4            6/30/2014            7/31/2014            8/31/2014   \n",
       "\n",
       "  last_date_of_month_9  arpu_6  arpu_7  arpu_8  arpu_9  onnet_mou_6  \\\n",
       "0            9/30/2014 197.385 214.816 213.803  21.100          nan   \n",
       "1            9/30/2014  34.047 355.074 268.321  86.285       24.110   \n",
       "2            9/30/2014 167.690 189.058 210.226 290.714       11.540   \n",
       "3            9/30/2014 221.338 251.102 508.054 389.500       99.910   \n",
       "4            9/30/2014 261.636 309.876 238.174 163.426       50.310   \n",
       "\n",
       "   onnet_mou_7  onnet_mou_8  onnet_mou_9  offnet_mou_6  offnet_mou_7  \\\n",
       "0          nan        0.000          nan           nan           nan   \n",
       "1       78.680        7.680       18.340        15.740        99.840   \n",
       "2       55.240       37.260       74.810       143.330       220.590   \n",
       "3       54.390      310.980      241.710       123.310       109.010   \n",
       "4      149.440       83.890       58.780        76.960        91.880   \n",
       "\n",
       "   offnet_mou_8  offnet_mou_9  roam_ic_mou_6  roam_ic_mou_7  roam_ic_mou_8  \\\n",
       "0         0.000           nan            nan            nan          0.000   \n",
       "1       304.760        53.760          0.000          0.000          0.000   \n",
       "2       208.360       118.910          0.000          0.000          0.000   \n",
       "3        71.680       113.540          0.000         54.860         44.380   \n",
       "4       124.260        45.810          0.000          0.000          0.000   \n",
       "\n",
       "   roam_ic_mou_9  roam_og_mou_6  roam_og_mou_7  roam_og_mou_8  roam_og_mou_9  \\\n",
       "0            nan            nan            nan          0.000            nan   \n",
       "1          0.000          0.000          0.000          0.000          0.000   \n",
       "2         38.490          0.000          0.000          0.000         70.940   \n",
       "3          0.000          0.000         28.090         39.040          0.000   \n",
       "4          0.000          0.000          0.000          0.000          0.000   \n",
       "\n",
       "   loc_og_t2t_mou_6  loc_og_t2t_mou_7  loc_og_t2t_mou_8  loc_og_t2t_mou_9  \\\n",
       "0               nan               nan             0.000               nan   \n",
       "1            23.880            74.560             7.680            18.340   \n",
       "2             7.190            28.740            13.580            14.390   \n",
       "3            73.680            34.810            10.610            15.490   \n",
       "4            50.310           149.440            83.890            58.780   \n",
       "\n",
       "   loc_og_t2m_mou_6  loc_og_t2m_mou_7  loc_og_t2m_mou_8  loc_og_t2m_mou_9  \\\n",
       "0               nan               nan             0.000               nan   \n",
       "1            11.510            75.940           291.860            53.760   \n",
       "2            29.340            16.860            38.460            28.160   \n",
       "3           107.430            83.210            22.460            65.460   \n",
       "4            67.640            91.880           124.260            37.890   \n",
       "\n",
       "   loc_og_t2f_mou_6  loc_og_t2f_mou_7  loc_og_t2f_mou_8  loc_og_t2f_mou_9  \\\n",
       "0               nan               nan             0.000               nan   \n",
       "1             0.000             0.000             0.000             0.000   \n",
       "2            24.110            21.790            15.610            22.240   \n",
       "3             1.910             0.650             4.910             2.060   \n",
       "4             0.000             0.000             0.000             1.930   \n",
       "\n",
       "   loc_og_t2c_mou_6  loc_og_t2c_mou_7  loc_og_t2c_mou_8  loc_og_t2c_mou_9  \\\n",
       "0               nan               nan             0.000               nan   \n",
       "1             0.000             2.910             0.000             0.000   \n",
       "2             0.000           135.540            45.760             0.480   \n",
       "3             0.000             0.000             0.000             0.000   \n",
       "4             0.000             0.000             0.000             0.000   \n",
       "\n",
       "   loc_og_mou_6  loc_og_mou_7  loc_og_mou_8  loc_og_mou_9  std_og_t2t_mou_6  \\\n",
       "0           nan           nan         0.000           nan               nan   \n",
       "1        35.390       150.510       299.540        72.110             0.230   \n",
       "2        60.660        67.410        67.660        64.810             4.340   \n",
       "3       183.030       118.680        37.990        83.030            26.230   \n",
       "4       117.960       241.330       208.160        98.610             0.000   \n",
       "\n",
       "   std_og_t2t_mou_7  std_og_t2t_mou_8  std_og_t2t_mou_9  std_og_t2m_mou_6  \\\n",
       "0               nan             0.000               nan               nan   \n",
       "1             4.110             0.000             0.000             0.000   \n",
       "2            26.490            22.580             8.760            41.810   \n",
       "3            14.890           289.580           226.210             2.990   \n",
       "4             0.000             0.000             0.000             9.310   \n",
       "\n",
       "   std_og_t2m_mou_7  std_og_t2m_mou_8  std_og_t2m_mou_9  std_og_t2f_mou_6  \\\n",
       "0               nan             0.000               nan               nan   \n",
       "1             0.460             0.130             0.000             0.000   \n",
       "2            67.410            75.530             9.280             1.480   \n",
       "3             1.730             6.530             9.990             0.000   \n",
       "4             0.000             0.000             0.000             0.000   \n",
       "\n",
       "   std_og_t2f_mou_7  std_og_t2f_mou_8  std_og_t2f_mou_9  std_og_t2c_mou_6  \\\n",
       "0               nan             0.000               nan               nan   \n",
       "1             0.000             0.000             0.000             0.000   \n",
       "2            14.760            22.830             0.000             0.000   \n",
       "3             0.000             0.000             0.000             0.000   \n",
       "4             0.000             0.000             0.000             0.000   \n",
       "\n",
       "   std_og_t2c_mou_7  std_og_t2c_mou_8  std_og_t2c_mou_9  std_og_mou_6  \\\n",
       "0               nan             0.000               nan           nan   \n",
       "1             0.000             0.000             0.000         0.230   \n",
       "2             0.000             0.000             0.000        47.640   \n",
       "3             0.000             0.000             0.000        29.230   \n",
       "4             0.000             0.000             0.000         9.310   \n",
       "\n",
       "   std_og_mou_7  std_og_mou_8  std_og_mou_9  isd_og_mou_6  isd_og_mou_7  \\\n",
       "0           nan         0.000           nan           nan           nan   \n",
       "1         4.580         0.130         0.000         0.000         0.000   \n",
       "2       108.680       120.940        18.040         0.000         0.000   \n",
       "3        16.630       296.110       236.210         0.000         0.000   \n",
       "4         0.000         0.000         0.000         0.000         0.000   \n",
       "\n",
       "   isd_og_mou_8  isd_og_mou_9  spl_og_mou_6  spl_og_mou_7  spl_og_mou_8  \\\n",
       "0         0.000           nan           nan           nan         0.000   \n",
       "1         0.000         0.000         4.680        23.430        12.760   \n",
       "2         0.000         0.000        46.560       236.840        96.840   \n",
       "3         0.000         0.000        10.960         0.000        18.090   \n",
       "4         0.000         0.000         0.000         0.000         0.000   \n",
       "\n",
       "   spl_og_mou_9  og_others_6  og_others_7  og_others_8  og_others_9  \\\n",
       "0           nan          nan          nan        0.000          nan   \n",
       "1         0.000        0.000        0.000        0.000        0.000   \n",
       "2        42.080        0.450        0.000        0.000        0.000   \n",
       "3        43.290        0.000        0.000        0.000        0.000   \n",
       "4         5.980        0.000        0.000        0.000        0.000   \n",
       "\n",
       "   total_og_mou_6  total_og_mou_7  total_og_mou_8  total_og_mou_9  \\\n",
       "0           0.000           0.000           0.000           0.000   \n",
       "1          40.310         178.530         312.440          72.110   \n",
       "2         155.330         412.940         285.460         124.940   \n",
       "3         223.230         135.310         352.210         362.540   \n",
       "4         127.280         241.330         208.160         104.590   \n",
       "\n",
       "   loc_ic_t2t_mou_6  loc_ic_t2t_mou_7  loc_ic_t2t_mou_8  loc_ic_t2t_mou_9  \\\n",
       "0               nan               nan             0.160               nan   \n",
       "1             1.610            29.910            29.230           116.090   \n",
       "2           115.690            71.110            67.460           148.230   \n",
       "3            62.080            19.980             8.040            41.730   \n",
       "4           105.680            88.490           233.810           154.560   \n",
       "\n",
       "   loc_ic_t2m_mou_6  loc_ic_t2m_mou_7  loc_ic_t2m_mou_8  loc_ic_t2m_mou_9  \\\n",
       "0               nan               nan             4.130               nan   \n",
       "1            17.480            65.380           375.580            56.930   \n",
       "2            14.380            15.440            38.890            38.980   \n",
       "3           113.960            64.510            20.280            52.860   \n",
       "4           106.840           109.540           104.130            48.240   \n",
       "\n",
       "   loc_ic_t2f_mou_6  loc_ic_t2f_mou_7  loc_ic_t2f_mou_8  loc_ic_t2f_mou_9  \\\n",
       "0               nan               nan             1.150               nan   \n",
       "1             0.000             8.930             3.610             0.000   \n",
       "2            99.480           122.290            49.630           158.190   \n",
       "3            57.430            27.090            19.840            65.590   \n",
       "4             1.500             0.000             0.000             0.000   \n",
       "\n",
       "   loc_ic_mou_6  loc_ic_mou_7  loc_ic_mou_8  loc_ic_mou_9  std_ic_t2t_mou_6  \\\n",
       "0           nan           nan         5.440           nan               nan   \n",
       "1        19.090       104.230       408.430       173.030             0.000   \n",
       "2       229.560       208.860       155.990       345.410            72.410   \n",
       "3       233.480       111.590        48.180       160.190            43.480   \n",
       "4       214.030       198.040       337.940       202.810             0.000   \n",
       "\n",
       "   std_ic_t2t_mou_7  std_ic_t2t_mou_8  std_ic_t2t_mou_9  std_ic_t2m_mou_6  \\\n",
       "0               nan             0.000               nan               nan   \n",
       "1             0.000             2.350             0.000             5.900   \n",
       "2            71.290            28.690            49.440            45.180   \n",
       "3            66.440             0.000           129.840             1.330   \n",
       "4             0.000             0.860             2.310             1.930   \n",
       "\n",
       "   std_ic_t2m_mou_7  std_ic_t2m_mou_8  std_ic_t2m_mou_9  std_ic_t2f_mou_6  \\\n",
       "0               nan             0.000               nan               nan   \n",
       "1             0.000            12.490            15.010             0.000   \n",
       "2           177.010           167.090           118.180            21.730   \n",
       "3            38.560             4.940            13.980             1.180   \n",
       "4             0.250             0.000             0.000             0.000   \n",
       "\n",
       "   std_ic_t2f_mou_7  std_ic_t2f_mou_8  std_ic_t2f_mou_9  std_ic_t2o_mou_6  \\\n",
       "0               nan             0.000               nan               nan   \n",
       "1             0.000             0.000             0.000             0.000   \n",
       "2            58.340            43.230             3.860             0.000   \n",
       "3             0.000             0.000             0.000             0.000   \n",
       "4             0.000             0.000             0.000             0.000   \n",
       "\n",
       "   std_ic_t2o_mou_7  std_ic_t2o_mou_8  std_ic_t2o_mou_9  std_ic_mou_6  \\\n",
       "0               nan             0.000               nan           nan   \n",
       "1             0.000             0.000             0.000         5.900   \n",
       "2             0.000             0.000             0.000       139.330   \n",
       "3             0.000             0.000             0.000        45.990   \n",
       "4             0.000             0.000             0.000         1.930   \n",
       "\n",
       "   std_ic_mou_7  std_ic_mou_8  std_ic_mou_9  total_ic_mou_6  total_ic_mou_7  \\\n",
       "0           nan         0.000           nan           0.000           0.000   \n",
       "1         0.000        14.840        15.010          26.830         104.230   \n",
       "2       306.660       239.030       171.490         370.040         519.530   \n",
       "3       105.010         4.940       143.830         280.080         216.610   \n",
       "4         0.250         0.860         2.310         216.440         198.290   \n",
       "\n",
       "   total_ic_mou_8  total_ic_mou_9  spl_ic_mou_6  spl_ic_mou_7  spl_ic_mou_8  \\\n",
       "0           5.440           0.000           nan           nan         0.000   \n",
       "1         423.280         188.040         0.000         0.000         0.000   \n",
       "2         395.030         517.740         0.210         0.000         0.000   \n",
       "3          53.130         305.380         0.590         0.000         0.000   \n",
       "4         338.810         205.310         0.000         0.000         0.000   \n",
       "\n",
       "   spl_ic_mou_9  isd_ic_mou_6  isd_ic_mou_7  isd_ic_mou_8  isd_ic_mou_9  \\\n",
       "0           nan           nan           nan         0.000           nan   \n",
       "1         0.000         1.830         0.000         0.000         0.000   \n",
       "2         0.450         0.000         0.850         0.000         0.010   \n",
       "3         0.550         0.000         0.000         0.000         0.000   \n",
       "4         0.180         0.000         0.000         0.000         0.000   \n",
       "\n",
       "   ic_others_6  ic_others_7  ic_others_8  ic_others_9  total_rech_num_6  \\\n",
       "0          nan          nan        0.000          nan                 4   \n",
       "1        0.000        0.000        0.000        0.000                 4   \n",
       "2        0.930        3.140        0.000        0.360                 5   \n",
       "3        0.000        0.000        0.000        0.800                10   \n",
       "4        0.480        0.000        0.000        0.000                 5   \n",
       "\n",
       "   total_rech_num_7  total_rech_num_8  total_rech_num_9  total_rech_amt_6  \\\n",
       "0                 3                 2                 6               362   \n",
       "1                 9                11                 5                74   \n",
       "2                 4                 2                 7               168   \n",
       "3                11                18                14               230   \n",
       "4                 6                 3                 4               196   \n",
       "\n",
       "   total_rech_amt_7  total_rech_amt_8  total_rech_amt_9  max_rech_amt_6  \\\n",
       "0               252               252                 0             252   \n",
       "1               384               283               121              44   \n",
       "2               315               116               358              86   \n",
       "3               310               601               410              60   \n",
       "4               350               287               200              56   \n",
       "\n",
       "   max_rech_amt_7  max_rech_amt_8  max_rech_amt_9 date_of_last_rech_6  \\\n",
       "0             252             252               0           6/21/2014   \n",
       "1             154              65              50           6/29/2014   \n",
       "2             200              86             100           6/17/2014   \n",
       "3              50              50              50           6/28/2014   \n",
       "4             110             110              50           6/26/2014   \n",
       "\n",
       "  date_of_last_rech_7 date_of_last_rech_8 date_of_last_rech_9  \\\n",
       "0           7/16/2014            8/8/2014           9/28/2014   \n",
       "1           7/31/2014           8/28/2014           9/30/2014   \n",
       "2           7/24/2014           8/14/2014           9/29/2014   \n",
       "3           7/31/2014           8/31/2014           9/30/2014   \n",
       "4           7/28/2014            8/9/2014           9/28/2014   \n",
       "\n",
       "   last_day_rch_amt_6  last_day_rch_amt_7  last_day_rch_amt_8  \\\n",
       "0                 252                 252                 252   \n",
       "1                  44                  23                  30   \n",
       "2                   0                 200                  86   \n",
       "3                  30                  50                  50   \n",
       "4                  50                 110                 110   \n",
       "\n",
       "   last_day_rch_amt_9 date_of_last_rech_data_6 date_of_last_rech_data_7  \\\n",
       "0                   0                6/21/2014                7/16/2014   \n",
       "1                   0                      NaN                7/25/2014   \n",
       "2                   0                      NaN                      NaN   \n",
       "3                  30                      NaN                      NaN   \n",
       "4                  50                 6/4/2014                      NaN   \n",
       "\n",
       "  date_of_last_rech_data_8 date_of_last_rech_data_9  total_rech_data_6  \\\n",
       "0                 8/8/2014                      NaN              1.000   \n",
       "1                8/10/2014                      NaN                nan   \n",
       "2                      NaN                9/17/2014                nan   \n",
       "3                      NaN                      NaN                nan   \n",
       "4                      NaN                      NaN              1.000   \n",
       "\n",
       "   total_rech_data_7  total_rech_data_8  total_rech_data_9  max_rech_data_6  \\\n",
       "0              1.000              1.000                nan          252.000   \n",
       "1              1.000              2.000                nan              nan   \n",
       "2                nan                nan              1.000              nan   \n",
       "3                nan                nan                nan              nan   \n",
       "4                nan                nan                nan           56.000   \n",
       "\n",
       "   max_rech_data_7  max_rech_data_8  max_rech_data_9  count_rech_2g_6  \\\n",
       "0          252.000          252.000              nan            0.000   \n",
       "1          154.000           25.000              nan              nan   \n",
       "2              nan              nan           46.000              nan   \n",
       "3              nan              nan              nan              nan   \n",
       "4              nan              nan              nan            1.000   \n",
       "\n",
       "   count_rech_2g_7  count_rech_2g_8  count_rech_2g_9  count_rech_3g_6  \\\n",
       "0            0.000            0.000              nan            1.000   \n",
       "1            1.000            2.000              nan              nan   \n",
       "2              nan              nan            1.000              nan   \n",
       "3              nan              nan              nan              nan   \n",
       "4              nan              nan              nan            0.000   \n",
       "\n",
       "   count_rech_3g_7  count_rech_3g_8  count_rech_3g_9  av_rech_amt_data_6  \\\n",
       "0            1.000            1.000              nan             252.000   \n",
       "1            0.000            0.000              nan                 nan   \n",
       "2              nan              nan            0.000                 nan   \n",
       "3              nan              nan              nan                 nan   \n",
       "4              nan              nan              nan              56.000   \n",
       "\n",
       "   av_rech_amt_data_7  av_rech_amt_data_8  av_rech_amt_data_9  vol_2g_mb_6  \\\n",
       "0             252.000             252.000                 nan       30.130   \n",
       "1             154.000              50.000                 nan        0.000   \n",
       "2                 nan                 nan              46.000        0.000   \n",
       "3                 nan                 nan                 nan        0.000   \n",
       "4                 nan                 nan                 nan        0.000   \n",
       "\n",
       "   vol_2g_mb_7  vol_2g_mb_8  vol_2g_mb_9  vol_3g_mb_6  vol_3g_mb_7  \\\n",
       "0        1.320        5.750        0.000       83.570      150.760   \n",
       "1      108.070      365.470        0.000        0.000        0.000   \n",
       "2        0.000        0.000        0.000        0.000        0.000   \n",
       "3        0.000        0.000        0.000        0.000        0.000   \n",
       "4        0.000        0.000        0.000        0.000        0.000   \n",
       "\n",
       "   vol_3g_mb_8  vol_3g_mb_9  arpu_3g_6  arpu_3g_7  arpu_3g_8  arpu_3g_9  \\\n",
       "0      109.610        0.000    212.170    212.170    212.170        nan   \n",
       "1        0.000        0.000        nan      0.000      0.000        nan   \n",
       "2        0.000        8.420        nan        nan        nan      2.840   \n",
       "3        0.000        0.000        nan        nan        nan        nan   \n",
       "4        0.000        0.000      0.000        nan        nan        nan   \n",
       "\n",
       "   arpu_2g_6  arpu_2g_7  arpu_2g_8  arpu_2g_9  night_pck_user_6  \\\n",
       "0    212.170    212.170    212.170        nan             0.000   \n",
       "1        nan     28.610      7.600        nan               nan   \n",
       "2        nan        nan        nan      0.000               nan   \n",
       "3        nan        nan        nan        nan               nan   \n",
       "4      0.000        nan        nan        nan             0.000   \n",
       "\n",
       "   night_pck_user_7  night_pck_user_8  night_pck_user_9  monthly_2g_6  \\\n",
       "0             0.000             0.000               nan             0   \n",
       "1             0.000             0.000               nan             0   \n",
       "2               nan               nan             0.000             0   \n",
       "3               nan               nan               nan             0   \n",
       "4               nan               nan               nan             0   \n",
       "\n",
       "   monthly_2g_7  monthly_2g_8  monthly_2g_9  sachet_2g_6  sachet_2g_7  \\\n",
       "0             0             0             0            0            0   \n",
       "1             1             0             0            0            0   \n",
       "2             0             0             0            0            0   \n",
       "3             0             0             0            0            0   \n",
       "4             0             0             0            1            0   \n",
       "\n",
       "   sachet_2g_8  sachet_2g_9  monthly_3g_6  monthly_3g_7  monthly_3g_8  \\\n",
       "0            0            0             1             1             1   \n",
       "1            2            0             0             0             0   \n",
       "2            0            1             0             0             0   \n",
       "3            0            0             0             0             0   \n",
       "4            0            0             0             0             0   \n",
       "\n",
       "   monthly_3g_9  sachet_3g_6  sachet_3g_7  sachet_3g_8  sachet_3g_9  \\\n",
       "0             0            0            0            0            0   \n",
       "1             0            0            0            0            0   \n",
       "2             0            0            0            0            0   \n",
       "3             0            0            0            0            0   \n",
       "4             0            0            0            0            0   \n",
       "\n",
       "   fb_user_6  fb_user_7  fb_user_8  fb_user_9   aon  aug_vbc_3g  jul_vbc_3g  \\\n",
       "0      1.000      1.000      1.000        nan   968      30.400       0.000   \n",
       "1        nan      1.000      1.000        nan  1006       0.000       0.000   \n",
       "2        nan        nan        nan      1.000  1103       0.000       0.000   \n",
       "3        nan        nan        nan        nan  2491       0.000       0.000   \n",
       "4      0.000        nan        nan        nan  1526       0.000       0.000   \n",
       "\n",
       "   jun_vbc_3g  sep_vbc_3g  \n",
       "0     101.200       3.580  \n",
       "1       0.000       0.000  \n",
       "2       4.170       0.000  \n",
       "3       0.000       0.000  \n",
       "4       0.000       0.000  "
      ]
     },
     "execution_count": 2,
     "metadata": {},
     "output_type": "execute_result"
    }
   ],
   "source": [
    "telecom_churn_data = pd.read_csv('telecom_churn_data.csv')\n",
    "telecom_churn_data.head()"
   ]
  },
  {
   "cell_type": "markdown",
   "metadata": {},
   "source": [
    "### Inspecting the data"
   ]
  },
  {
   "cell_type": "markdown",
   "metadata": {},
   "source": [
    "#### Checking the data info"
   ]
  },
  {
   "cell_type": "code",
   "execution_count": 3,
   "metadata": {
    "ExecuteTime": {
     "end_time": "2019-08-25T12:53:26.582610Z",
     "start_time": "2019-08-25T12:53:26.544710Z"
    },
    "scrolled": false
   },
   "outputs": [
    {
     "name": "stdout",
     "output_type": "stream",
     "text": [
      "<class 'pandas.core.frame.DataFrame'>\n",
      "RangeIndex: 99999 entries, 0 to 99998\n",
      "Columns: 226 entries, mobile_number to sep_vbc_3g\n",
      "dtypes: float64(179), int64(35), object(12)\n",
      "memory usage: 172.4+ MB\n"
     ]
    }
   ],
   "source": [
    "telecom_churn_data.info()"
   ]
  },
  {
   "cell_type": "markdown",
   "metadata": {},
   "source": [
    "#### Checking for duplicate data"
   ]
  },
  {
   "cell_type": "code",
   "execution_count": 4,
   "metadata": {
    "ExecuteTime": {
     "end_time": "2019-08-25T12:53:26.782084Z",
     "start_time": "2019-08-25T12:53:26.585602Z"
    }
   },
   "outputs": [
    {
     "data": {
      "text/html": [
       "<div>\n",
       "<style scoped>\n",
       "    .dataframe tbody tr th:only-of-type {\n",
       "        vertical-align: middle;\n",
       "    }\n",
       "\n",
       "    .dataframe tbody tr th {\n",
       "        vertical-align: top;\n",
       "    }\n",
       "\n",
       "    .dataframe thead th {\n",
       "        text-align: right;\n",
       "    }\n",
       "</style>\n",
       "<table border=\"1\" class=\"dataframe\">\n",
       "  <thead>\n",
       "    <tr style=\"text-align: right;\">\n",
       "      <th></th>\n",
       "      <th>mobile_number</th>\n",
       "      <th>circle_id</th>\n",
       "      <th>loc_og_t2o_mou</th>\n",
       "      <th>std_og_t2o_mou</th>\n",
       "      <th>loc_ic_t2o_mou</th>\n",
       "      <th>last_date_of_month_6</th>\n",
       "      <th>last_date_of_month_7</th>\n",
       "      <th>last_date_of_month_8</th>\n",
       "      <th>last_date_of_month_9</th>\n",
       "      <th>arpu_6</th>\n",
       "      <th>arpu_7</th>\n",
       "      <th>arpu_8</th>\n",
       "      <th>arpu_9</th>\n",
       "      <th>onnet_mou_6</th>\n",
       "      <th>onnet_mou_7</th>\n",
       "      <th>onnet_mou_8</th>\n",
       "      <th>onnet_mou_9</th>\n",
       "      <th>offnet_mou_6</th>\n",
       "      <th>offnet_mou_7</th>\n",
       "      <th>offnet_mou_8</th>\n",
       "      <th>offnet_mou_9</th>\n",
       "      <th>roam_ic_mou_6</th>\n",
       "      <th>roam_ic_mou_7</th>\n",
       "      <th>roam_ic_mou_8</th>\n",
       "      <th>roam_ic_mou_9</th>\n",
       "      <th>roam_og_mou_6</th>\n",
       "      <th>roam_og_mou_7</th>\n",
       "      <th>roam_og_mou_8</th>\n",
       "      <th>roam_og_mou_9</th>\n",
       "      <th>loc_og_t2t_mou_6</th>\n",
       "      <th>loc_og_t2t_mou_7</th>\n",
       "      <th>loc_og_t2t_mou_8</th>\n",
       "      <th>loc_og_t2t_mou_9</th>\n",
       "      <th>loc_og_t2m_mou_6</th>\n",
       "      <th>loc_og_t2m_mou_7</th>\n",
       "      <th>loc_og_t2m_mou_8</th>\n",
       "      <th>loc_og_t2m_mou_9</th>\n",
       "      <th>loc_og_t2f_mou_6</th>\n",
       "      <th>loc_og_t2f_mou_7</th>\n",
       "      <th>loc_og_t2f_mou_8</th>\n",
       "      <th>loc_og_t2f_mou_9</th>\n",
       "      <th>loc_og_t2c_mou_6</th>\n",
       "      <th>loc_og_t2c_mou_7</th>\n",
       "      <th>loc_og_t2c_mou_8</th>\n",
       "      <th>loc_og_t2c_mou_9</th>\n",
       "      <th>loc_og_mou_6</th>\n",
       "      <th>loc_og_mou_7</th>\n",
       "      <th>loc_og_mou_8</th>\n",
       "      <th>loc_og_mou_9</th>\n",
       "      <th>std_og_t2t_mou_6</th>\n",
       "      <th>std_og_t2t_mou_7</th>\n",
       "      <th>std_og_t2t_mou_8</th>\n",
       "      <th>std_og_t2t_mou_9</th>\n",
       "      <th>std_og_t2m_mou_6</th>\n",
       "      <th>std_og_t2m_mou_7</th>\n",
       "      <th>std_og_t2m_mou_8</th>\n",
       "      <th>std_og_t2m_mou_9</th>\n",
       "      <th>std_og_t2f_mou_6</th>\n",
       "      <th>std_og_t2f_mou_7</th>\n",
       "      <th>std_og_t2f_mou_8</th>\n",
       "      <th>std_og_t2f_mou_9</th>\n",
       "      <th>std_og_t2c_mou_6</th>\n",
       "      <th>std_og_t2c_mou_7</th>\n",
       "      <th>std_og_t2c_mou_8</th>\n",
       "      <th>std_og_t2c_mou_9</th>\n",
       "      <th>std_og_mou_6</th>\n",
       "      <th>std_og_mou_7</th>\n",
       "      <th>std_og_mou_8</th>\n",
       "      <th>std_og_mou_9</th>\n",
       "      <th>isd_og_mou_6</th>\n",
       "      <th>isd_og_mou_7</th>\n",
       "      <th>isd_og_mou_8</th>\n",
       "      <th>isd_og_mou_9</th>\n",
       "      <th>spl_og_mou_6</th>\n",
       "      <th>spl_og_mou_7</th>\n",
       "      <th>spl_og_mou_8</th>\n",
       "      <th>spl_og_mou_9</th>\n",
       "      <th>og_others_6</th>\n",
       "      <th>og_others_7</th>\n",
       "      <th>og_others_8</th>\n",
       "      <th>og_others_9</th>\n",
       "      <th>total_og_mou_6</th>\n",
       "      <th>total_og_mou_7</th>\n",
       "      <th>total_og_mou_8</th>\n",
       "      <th>total_og_mou_9</th>\n",
       "      <th>loc_ic_t2t_mou_6</th>\n",
       "      <th>loc_ic_t2t_mou_7</th>\n",
       "      <th>loc_ic_t2t_mou_8</th>\n",
       "      <th>loc_ic_t2t_mou_9</th>\n",
       "      <th>loc_ic_t2m_mou_6</th>\n",
       "      <th>loc_ic_t2m_mou_7</th>\n",
       "      <th>loc_ic_t2m_mou_8</th>\n",
       "      <th>loc_ic_t2m_mou_9</th>\n",
       "      <th>loc_ic_t2f_mou_6</th>\n",
       "      <th>loc_ic_t2f_mou_7</th>\n",
       "      <th>loc_ic_t2f_mou_8</th>\n",
       "      <th>loc_ic_t2f_mou_9</th>\n",
       "      <th>loc_ic_mou_6</th>\n",
       "      <th>loc_ic_mou_7</th>\n",
       "      <th>loc_ic_mou_8</th>\n",
       "      <th>loc_ic_mou_9</th>\n",
       "      <th>std_ic_t2t_mou_6</th>\n",
       "      <th>std_ic_t2t_mou_7</th>\n",
       "      <th>std_ic_t2t_mou_8</th>\n",
       "      <th>std_ic_t2t_mou_9</th>\n",
       "      <th>std_ic_t2m_mou_6</th>\n",
       "      <th>std_ic_t2m_mou_7</th>\n",
       "      <th>std_ic_t2m_mou_8</th>\n",
       "      <th>std_ic_t2m_mou_9</th>\n",
       "      <th>std_ic_t2f_mou_6</th>\n",
       "      <th>std_ic_t2f_mou_7</th>\n",
       "      <th>std_ic_t2f_mou_8</th>\n",
       "      <th>std_ic_t2f_mou_9</th>\n",
       "      <th>std_ic_t2o_mou_6</th>\n",
       "      <th>std_ic_t2o_mou_7</th>\n",
       "      <th>std_ic_t2o_mou_8</th>\n",
       "      <th>std_ic_t2o_mou_9</th>\n",
       "      <th>std_ic_mou_6</th>\n",
       "      <th>std_ic_mou_7</th>\n",
       "      <th>std_ic_mou_8</th>\n",
       "      <th>std_ic_mou_9</th>\n",
       "      <th>total_ic_mou_6</th>\n",
       "      <th>total_ic_mou_7</th>\n",
       "      <th>total_ic_mou_8</th>\n",
       "      <th>total_ic_mou_9</th>\n",
       "      <th>spl_ic_mou_6</th>\n",
       "      <th>spl_ic_mou_7</th>\n",
       "      <th>spl_ic_mou_8</th>\n",
       "      <th>spl_ic_mou_9</th>\n",
       "      <th>isd_ic_mou_6</th>\n",
       "      <th>isd_ic_mou_7</th>\n",
       "      <th>isd_ic_mou_8</th>\n",
       "      <th>isd_ic_mou_9</th>\n",
       "      <th>ic_others_6</th>\n",
       "      <th>ic_others_7</th>\n",
       "      <th>ic_others_8</th>\n",
       "      <th>ic_others_9</th>\n",
       "      <th>total_rech_num_6</th>\n",
       "      <th>total_rech_num_7</th>\n",
       "      <th>total_rech_num_8</th>\n",
       "      <th>total_rech_num_9</th>\n",
       "      <th>total_rech_amt_6</th>\n",
       "      <th>total_rech_amt_7</th>\n",
       "      <th>total_rech_amt_8</th>\n",
       "      <th>total_rech_amt_9</th>\n",
       "      <th>max_rech_amt_6</th>\n",
       "      <th>max_rech_amt_7</th>\n",
       "      <th>max_rech_amt_8</th>\n",
       "      <th>max_rech_amt_9</th>\n",
       "      <th>date_of_last_rech_6</th>\n",
       "      <th>date_of_last_rech_7</th>\n",
       "      <th>date_of_last_rech_8</th>\n",
       "      <th>date_of_last_rech_9</th>\n",
       "      <th>last_day_rch_amt_6</th>\n",
       "      <th>last_day_rch_amt_7</th>\n",
       "      <th>last_day_rch_amt_8</th>\n",
       "      <th>last_day_rch_amt_9</th>\n",
       "      <th>date_of_last_rech_data_6</th>\n",
       "      <th>date_of_last_rech_data_7</th>\n",
       "      <th>date_of_last_rech_data_8</th>\n",
       "      <th>date_of_last_rech_data_9</th>\n",
       "      <th>total_rech_data_6</th>\n",
       "      <th>total_rech_data_7</th>\n",
       "      <th>total_rech_data_8</th>\n",
       "      <th>total_rech_data_9</th>\n",
       "      <th>max_rech_data_6</th>\n",
       "      <th>max_rech_data_7</th>\n",
       "      <th>max_rech_data_8</th>\n",
       "      <th>max_rech_data_9</th>\n",
       "      <th>count_rech_2g_6</th>\n",
       "      <th>count_rech_2g_7</th>\n",
       "      <th>count_rech_2g_8</th>\n",
       "      <th>count_rech_2g_9</th>\n",
       "      <th>count_rech_3g_6</th>\n",
       "      <th>count_rech_3g_7</th>\n",
       "      <th>count_rech_3g_8</th>\n",
       "      <th>count_rech_3g_9</th>\n",
       "      <th>av_rech_amt_data_6</th>\n",
       "      <th>av_rech_amt_data_7</th>\n",
       "      <th>av_rech_amt_data_8</th>\n",
       "      <th>av_rech_amt_data_9</th>\n",
       "      <th>vol_2g_mb_6</th>\n",
       "      <th>vol_2g_mb_7</th>\n",
       "      <th>vol_2g_mb_8</th>\n",
       "      <th>vol_2g_mb_9</th>\n",
       "      <th>vol_3g_mb_6</th>\n",
       "      <th>vol_3g_mb_7</th>\n",
       "      <th>vol_3g_mb_8</th>\n",
       "      <th>vol_3g_mb_9</th>\n",
       "      <th>arpu_3g_6</th>\n",
       "      <th>arpu_3g_7</th>\n",
       "      <th>arpu_3g_8</th>\n",
       "      <th>arpu_3g_9</th>\n",
       "      <th>arpu_2g_6</th>\n",
       "      <th>arpu_2g_7</th>\n",
       "      <th>arpu_2g_8</th>\n",
       "      <th>arpu_2g_9</th>\n",
       "      <th>night_pck_user_6</th>\n",
       "      <th>night_pck_user_7</th>\n",
       "      <th>night_pck_user_8</th>\n",
       "      <th>night_pck_user_9</th>\n",
       "      <th>monthly_2g_6</th>\n",
       "      <th>monthly_2g_7</th>\n",
       "      <th>monthly_2g_8</th>\n",
       "      <th>monthly_2g_9</th>\n",
       "      <th>sachet_2g_6</th>\n",
       "      <th>sachet_2g_7</th>\n",
       "      <th>sachet_2g_8</th>\n",
       "      <th>sachet_2g_9</th>\n",
       "      <th>monthly_3g_6</th>\n",
       "      <th>monthly_3g_7</th>\n",
       "      <th>monthly_3g_8</th>\n",
       "      <th>monthly_3g_9</th>\n",
       "      <th>sachet_3g_6</th>\n",
       "      <th>sachet_3g_7</th>\n",
       "      <th>sachet_3g_8</th>\n",
       "      <th>sachet_3g_9</th>\n",
       "      <th>fb_user_6</th>\n",
       "      <th>fb_user_7</th>\n",
       "      <th>fb_user_8</th>\n",
       "      <th>fb_user_9</th>\n",
       "      <th>aon</th>\n",
       "      <th>aug_vbc_3g</th>\n",
       "      <th>jul_vbc_3g</th>\n",
       "      <th>jun_vbc_3g</th>\n",
       "      <th>sep_vbc_3g</th>\n",
       "    </tr>\n",
       "  </thead>\n",
       "  <tbody>\n",
       "  </tbody>\n",
       "</table>\n",
       "</div>"
      ],
      "text/plain": [
       "Empty DataFrame\n",
       "Columns: [mobile_number, circle_id, loc_og_t2o_mou, std_og_t2o_mou, loc_ic_t2o_mou, last_date_of_month_6, last_date_of_month_7, last_date_of_month_8, last_date_of_month_9, arpu_6, arpu_7, arpu_8, arpu_9, onnet_mou_6, onnet_mou_7, onnet_mou_8, onnet_mou_9, offnet_mou_6, offnet_mou_7, offnet_mou_8, offnet_mou_9, roam_ic_mou_6, roam_ic_mou_7, roam_ic_mou_8, roam_ic_mou_9, roam_og_mou_6, roam_og_mou_7, roam_og_mou_8, roam_og_mou_9, loc_og_t2t_mou_6, loc_og_t2t_mou_7, loc_og_t2t_mou_8, loc_og_t2t_mou_9, loc_og_t2m_mou_6, loc_og_t2m_mou_7, loc_og_t2m_mou_8, loc_og_t2m_mou_9, loc_og_t2f_mou_6, loc_og_t2f_mou_7, loc_og_t2f_mou_8, loc_og_t2f_mou_9, loc_og_t2c_mou_6, loc_og_t2c_mou_7, loc_og_t2c_mou_8, loc_og_t2c_mou_9, loc_og_mou_6, loc_og_mou_7, loc_og_mou_8, loc_og_mou_9, std_og_t2t_mou_6, std_og_t2t_mou_7, std_og_t2t_mou_8, std_og_t2t_mou_9, std_og_t2m_mou_6, std_og_t2m_mou_7, std_og_t2m_mou_8, std_og_t2m_mou_9, std_og_t2f_mou_6, std_og_t2f_mou_7, std_og_t2f_mou_8, std_og_t2f_mou_9, std_og_t2c_mou_6, std_og_t2c_mou_7, std_og_t2c_mou_8, std_og_t2c_mou_9, std_og_mou_6, std_og_mou_7, std_og_mou_8, std_og_mou_9, isd_og_mou_6, isd_og_mou_7, isd_og_mou_8, isd_og_mou_9, spl_og_mou_6, spl_og_mou_7, spl_og_mou_8, spl_og_mou_9, og_others_6, og_others_7, og_others_8, og_others_9, total_og_mou_6, total_og_mou_7, total_og_mou_8, total_og_mou_9, loc_ic_t2t_mou_6, loc_ic_t2t_mou_7, loc_ic_t2t_mou_8, loc_ic_t2t_mou_9, loc_ic_t2m_mou_6, loc_ic_t2m_mou_7, loc_ic_t2m_mou_8, loc_ic_t2m_mou_9, loc_ic_t2f_mou_6, loc_ic_t2f_mou_7, loc_ic_t2f_mou_8, loc_ic_t2f_mou_9, loc_ic_mou_6, loc_ic_mou_7, loc_ic_mou_8, ...]\n",
       "Index: []"
      ]
     },
     "execution_count": 4,
     "metadata": {},
     "output_type": "execute_result"
    }
   ],
   "source": [
    "telecom_churn_data[telecom_churn_data.duplicated(subset = 'mobile_number')]"
   ]
  },
  {
   "cell_type": "markdown",
   "metadata": {},
   "source": [
    "There are no duplicate rows"
   ]
  },
  {
   "cell_type": "markdown",
   "metadata": {},
   "source": [
    "#### Checking for null values"
   ]
  },
  {
   "cell_type": "code",
   "execution_count": 5,
   "metadata": {
    "ExecuteTime": {
     "end_time": "2019-08-25T12:53:26.847901Z",
     "start_time": "2019-08-25T12:53:26.785068Z"
    }
   },
   "outputs": [],
   "source": [
    "# defining a function for column-wise null value check\n",
    "def col_wise_null(df):\n",
    "    percent_missing = df.isnull().sum() * 100 / len(df)\n",
    "    missing_value_df = pd.DataFrame({'column_name': df.columns, 'percent_missing': percent_missing})\n",
    "    missing_value_df.reset_index(drop=True, inplace=True)\n",
    "    return missing_value_df"
   ]
  },
  {
   "cell_type": "code",
   "execution_count": 6,
   "metadata": {
    "ExecuteTime": {
     "end_time": "2019-08-25T12:53:26.958605Z",
     "start_time": "2019-08-25T12:53:26.849897Z"
    }
   },
   "outputs": [],
   "source": [
    "# defining a function for row-wise null value check\n",
    "def row_wise_null(df):\n",
    "    rows_missing_data = df.isnull().sum(axis=1)\n",
    "    return rows_missing_data"
   ]
  },
  {
   "cell_type": "code",
   "execution_count": 7,
   "metadata": {
    "ExecuteTime": {
     "end_time": "2019-08-25T12:53:27.223866Z",
     "start_time": "2019-08-25T12:53:26.961608Z"
    }
   },
   "outputs": [],
   "source": [
    "# Checking column-wise null values\n",
    "missing_value_df = col_wise_null(telecom_churn_data)"
   ]
  },
  {
   "cell_type": "code",
   "execution_count": 8,
   "metadata": {
    "ExecuteTime": {
     "end_time": "2019-08-25T12:53:27.235831Z",
     "start_time": "2019-08-25T12:53:27.227850Z"
    }
   },
   "outputs": [
    {
     "data": {
      "text/plain": [
       "166"
      ]
     },
     "execution_count": 8,
     "metadata": {},
     "output_type": "execute_result"
    }
   ],
   "source": [
    "# Checking the number of columns with non-zero number of rows with null values\n",
    "len(missing_value_df[missing_value_df.percent_missing != 0].index)"
   ]
  },
  {
   "cell_type": "markdown",
   "metadata": {},
   "source": [
    "There are a lot of columns (166) with non-zero number of rows with null values. Checking for columns with more than 70% of values as missing values."
   ]
  },
  {
   "cell_type": "code",
   "execution_count": 9,
   "metadata": {
    "ExecuteTime": {
     "end_time": "2019-08-25T12:53:27.396830Z",
     "start_time": "2019-08-25T12:53:27.239820Z"
    },
    "scrolled": false
   },
   "outputs": [
    {
     "data": {
      "text/html": [
       "<div>\n",
       "<style scoped>\n",
       "    .dataframe tbody tr th:only-of-type {\n",
       "        vertical-align: middle;\n",
       "    }\n",
       "\n",
       "    .dataframe tbody tr th {\n",
       "        vertical-align: top;\n",
       "    }\n",
       "\n",
       "    .dataframe thead th {\n",
       "        text-align: right;\n",
       "    }\n",
       "</style>\n",
       "<table border=\"1\" class=\"dataframe\">\n",
       "  <thead>\n",
       "    <tr style=\"text-align: right;\">\n",
       "      <th></th>\n",
       "      <th>column_name</th>\n",
       "      <th>percent_missing</th>\n",
       "    </tr>\n",
       "  </thead>\n",
       "  <tbody>\n",
       "    <tr>\n",
       "      <th>157</th>\n",
       "      <td>date_of_last_rech_data_6</td>\n",
       "      <td>74.847</td>\n",
       "    </tr>\n",
       "    <tr>\n",
       "      <th>158</th>\n",
       "      <td>date_of_last_rech_data_7</td>\n",
       "      <td>74.429</td>\n",
       "    </tr>\n",
       "    <tr>\n",
       "      <th>159</th>\n",
       "      <td>date_of_last_rech_data_8</td>\n",
       "      <td>73.661</td>\n",
       "    </tr>\n",
       "    <tr>\n",
       "      <th>160</th>\n",
       "      <td>date_of_last_rech_data_9</td>\n",
       "      <td>74.078</td>\n",
       "    </tr>\n",
       "    <tr>\n",
       "      <th>161</th>\n",
       "      <td>total_rech_data_6</td>\n",
       "      <td>74.847</td>\n",
       "    </tr>\n",
       "    <tr>\n",
       "      <th>162</th>\n",
       "      <td>total_rech_data_7</td>\n",
       "      <td>74.429</td>\n",
       "    </tr>\n",
       "    <tr>\n",
       "      <th>163</th>\n",
       "      <td>total_rech_data_8</td>\n",
       "      <td>73.661</td>\n",
       "    </tr>\n",
       "    <tr>\n",
       "      <th>164</th>\n",
       "      <td>total_rech_data_9</td>\n",
       "      <td>74.078</td>\n",
       "    </tr>\n",
       "    <tr>\n",
       "      <th>165</th>\n",
       "      <td>max_rech_data_6</td>\n",
       "      <td>74.847</td>\n",
       "    </tr>\n",
       "    <tr>\n",
       "      <th>166</th>\n",
       "      <td>max_rech_data_7</td>\n",
       "      <td>74.429</td>\n",
       "    </tr>\n",
       "    <tr>\n",
       "      <th>167</th>\n",
       "      <td>max_rech_data_8</td>\n",
       "      <td>73.661</td>\n",
       "    </tr>\n",
       "    <tr>\n",
       "      <th>168</th>\n",
       "      <td>max_rech_data_9</td>\n",
       "      <td>74.078</td>\n",
       "    </tr>\n",
       "    <tr>\n",
       "      <th>169</th>\n",
       "      <td>count_rech_2g_6</td>\n",
       "      <td>74.847</td>\n",
       "    </tr>\n",
       "    <tr>\n",
       "      <th>170</th>\n",
       "      <td>count_rech_2g_7</td>\n",
       "      <td>74.429</td>\n",
       "    </tr>\n",
       "    <tr>\n",
       "      <th>171</th>\n",
       "      <td>count_rech_2g_8</td>\n",
       "      <td>73.661</td>\n",
       "    </tr>\n",
       "    <tr>\n",
       "      <th>172</th>\n",
       "      <td>count_rech_2g_9</td>\n",
       "      <td>74.078</td>\n",
       "    </tr>\n",
       "    <tr>\n",
       "      <th>173</th>\n",
       "      <td>count_rech_3g_6</td>\n",
       "      <td>74.847</td>\n",
       "    </tr>\n",
       "    <tr>\n",
       "      <th>174</th>\n",
       "      <td>count_rech_3g_7</td>\n",
       "      <td>74.429</td>\n",
       "    </tr>\n",
       "    <tr>\n",
       "      <th>175</th>\n",
       "      <td>count_rech_3g_8</td>\n",
       "      <td>73.661</td>\n",
       "    </tr>\n",
       "    <tr>\n",
       "      <th>176</th>\n",
       "      <td>count_rech_3g_9</td>\n",
       "      <td>74.078</td>\n",
       "    </tr>\n",
       "    <tr>\n",
       "      <th>177</th>\n",
       "      <td>av_rech_amt_data_6</td>\n",
       "      <td>74.847</td>\n",
       "    </tr>\n",
       "    <tr>\n",
       "      <th>178</th>\n",
       "      <td>av_rech_amt_data_7</td>\n",
       "      <td>74.429</td>\n",
       "    </tr>\n",
       "    <tr>\n",
       "      <th>179</th>\n",
       "      <td>av_rech_amt_data_8</td>\n",
       "      <td>73.661</td>\n",
       "    </tr>\n",
       "    <tr>\n",
       "      <th>180</th>\n",
       "      <td>av_rech_amt_data_9</td>\n",
       "      <td>74.078</td>\n",
       "    </tr>\n",
       "    <tr>\n",
       "      <th>189</th>\n",
       "      <td>arpu_3g_6</td>\n",
       "      <td>74.847</td>\n",
       "    </tr>\n",
       "    <tr>\n",
       "      <th>190</th>\n",
       "      <td>arpu_3g_7</td>\n",
       "      <td>74.429</td>\n",
       "    </tr>\n",
       "    <tr>\n",
       "      <th>191</th>\n",
       "      <td>arpu_3g_8</td>\n",
       "      <td>73.661</td>\n",
       "    </tr>\n",
       "    <tr>\n",
       "      <th>192</th>\n",
       "      <td>arpu_3g_9</td>\n",
       "      <td>74.078</td>\n",
       "    </tr>\n",
       "    <tr>\n",
       "      <th>193</th>\n",
       "      <td>arpu_2g_6</td>\n",
       "      <td>74.847</td>\n",
       "    </tr>\n",
       "    <tr>\n",
       "      <th>194</th>\n",
       "      <td>arpu_2g_7</td>\n",
       "      <td>74.429</td>\n",
       "    </tr>\n",
       "    <tr>\n",
       "      <th>195</th>\n",
       "      <td>arpu_2g_8</td>\n",
       "      <td>73.661</td>\n",
       "    </tr>\n",
       "    <tr>\n",
       "      <th>196</th>\n",
       "      <td>arpu_2g_9</td>\n",
       "      <td>74.078</td>\n",
       "    </tr>\n",
       "    <tr>\n",
       "      <th>197</th>\n",
       "      <td>night_pck_user_6</td>\n",
       "      <td>74.847</td>\n",
       "    </tr>\n",
       "    <tr>\n",
       "      <th>198</th>\n",
       "      <td>night_pck_user_7</td>\n",
       "      <td>74.429</td>\n",
       "    </tr>\n",
       "    <tr>\n",
       "      <th>199</th>\n",
       "      <td>night_pck_user_8</td>\n",
       "      <td>73.661</td>\n",
       "    </tr>\n",
       "    <tr>\n",
       "      <th>200</th>\n",
       "      <td>night_pck_user_9</td>\n",
       "      <td>74.078</td>\n",
       "    </tr>\n",
       "    <tr>\n",
       "      <th>217</th>\n",
       "      <td>fb_user_6</td>\n",
       "      <td>74.847</td>\n",
       "    </tr>\n",
       "    <tr>\n",
       "      <th>218</th>\n",
       "      <td>fb_user_7</td>\n",
       "      <td>74.429</td>\n",
       "    </tr>\n",
       "    <tr>\n",
       "      <th>219</th>\n",
       "      <td>fb_user_8</td>\n",
       "      <td>73.661</td>\n",
       "    </tr>\n",
       "    <tr>\n",
       "      <th>220</th>\n",
       "      <td>fb_user_9</td>\n",
       "      <td>74.078</td>\n",
       "    </tr>\n",
       "  </tbody>\n",
       "</table>\n",
       "</div>"
      ],
      "text/plain": [
       "                  column_name  percent_missing\n",
       "157  date_of_last_rech_data_6           74.847\n",
       "158  date_of_last_rech_data_7           74.429\n",
       "159  date_of_last_rech_data_8           73.661\n",
       "160  date_of_last_rech_data_9           74.078\n",
       "161         total_rech_data_6           74.847\n",
       "162         total_rech_data_7           74.429\n",
       "163         total_rech_data_8           73.661\n",
       "164         total_rech_data_9           74.078\n",
       "165           max_rech_data_6           74.847\n",
       "166           max_rech_data_7           74.429\n",
       "167           max_rech_data_8           73.661\n",
       "168           max_rech_data_9           74.078\n",
       "169           count_rech_2g_6           74.847\n",
       "170           count_rech_2g_7           74.429\n",
       "171           count_rech_2g_8           73.661\n",
       "172           count_rech_2g_9           74.078\n",
       "173           count_rech_3g_6           74.847\n",
       "174           count_rech_3g_7           74.429\n",
       "175           count_rech_3g_8           73.661\n",
       "176           count_rech_3g_9           74.078\n",
       "177        av_rech_amt_data_6           74.847\n",
       "178        av_rech_amt_data_7           74.429\n",
       "179        av_rech_amt_data_8           73.661\n",
       "180        av_rech_amt_data_9           74.078\n",
       "189                 arpu_3g_6           74.847\n",
       "190                 arpu_3g_7           74.429\n",
       "191                 arpu_3g_8           73.661\n",
       "192                 arpu_3g_9           74.078\n",
       "193                 arpu_2g_6           74.847\n",
       "194                 arpu_2g_7           74.429\n",
       "195                 arpu_2g_8           73.661\n",
       "196                 arpu_2g_9           74.078\n",
       "197          night_pck_user_6           74.847\n",
       "198          night_pck_user_7           74.429\n",
       "199          night_pck_user_8           73.661\n",
       "200          night_pck_user_9           74.078\n",
       "217                 fb_user_6           74.847\n",
       "218                 fb_user_7           74.429\n",
       "219                 fb_user_8           73.661\n",
       "220                 fb_user_9           74.078"
      ]
     },
     "execution_count": 9,
     "metadata": {},
     "output_type": "execute_result"
    }
   ],
   "source": [
    "missing_value_df[missing_value_df.percent_missing > 70]"
   ]
  },
  {
   "cell_type": "markdown",
   "metadata": {},
   "source": [
    "First filtering the high-value customers and tagging the churners. Rest of the null value treatment will be done during exploratory data analysis."
   ]
  },
  {
   "cell_type": "markdown",
   "metadata": {},
   "source": [
    "#### Filtering High Value Customers"
   ]
  },
  {
   "cell_type": "code",
   "execution_count": 10,
   "metadata": {
    "ExecuteTime": {
     "end_time": "2019-08-25T12:53:27.618351Z",
     "start_time": "2019-08-25T12:53:27.399814Z"
    }
   },
   "outputs": [
    {
     "data": {
      "text/html": [
       "<div>\n",
       "<style scoped>\n",
       "    .dataframe tbody tr th:only-of-type {\n",
       "        vertical-align: middle;\n",
       "    }\n",
       "\n",
       "    .dataframe tbody tr th {\n",
       "        vertical-align: top;\n",
       "    }\n",
       "\n",
       "    .dataframe thead th {\n",
       "        text-align: right;\n",
       "    }\n",
       "</style>\n",
       "<table border=\"1\" class=\"dataframe\">\n",
       "  <thead>\n",
       "    <tr style=\"text-align: right;\">\n",
       "      <th></th>\n",
       "      <th>column_name</th>\n",
       "      <th>percent_missing</th>\n",
       "    </tr>\n",
       "  </thead>\n",
       "  <tbody>\n",
       "    <tr>\n",
       "      <th>0</th>\n",
       "      <td>total_rech_amt_6</td>\n",
       "      <td>0.000</td>\n",
       "    </tr>\n",
       "    <tr>\n",
       "      <th>1</th>\n",
       "      <td>total_rech_amt_7</td>\n",
       "      <td>0.000</td>\n",
       "    </tr>\n",
       "    <tr>\n",
       "      <th>2</th>\n",
       "      <td>total_rech_amt_8</td>\n",
       "      <td>0.000</td>\n",
       "    </tr>\n",
       "    <tr>\n",
       "      <th>3</th>\n",
       "      <td>total_rech_amt_9</td>\n",
       "      <td>0.000</td>\n",
       "    </tr>\n",
       "    <tr>\n",
       "      <th>4</th>\n",
       "      <td>total_rech_data_6</td>\n",
       "      <td>74.847</td>\n",
       "    </tr>\n",
       "    <tr>\n",
       "      <th>5</th>\n",
       "      <td>total_rech_data_7</td>\n",
       "      <td>74.429</td>\n",
       "    </tr>\n",
       "    <tr>\n",
       "      <th>6</th>\n",
       "      <td>total_rech_data_8</td>\n",
       "      <td>73.661</td>\n",
       "    </tr>\n",
       "    <tr>\n",
       "      <th>7</th>\n",
       "      <td>total_rech_data_9</td>\n",
       "      <td>74.078</td>\n",
       "    </tr>\n",
       "    <tr>\n",
       "      <th>8</th>\n",
       "      <td>av_rech_amt_data_6</td>\n",
       "      <td>74.847</td>\n",
       "    </tr>\n",
       "    <tr>\n",
       "      <th>9</th>\n",
       "      <td>av_rech_amt_data_7</td>\n",
       "      <td>74.429</td>\n",
       "    </tr>\n",
       "    <tr>\n",
       "      <th>10</th>\n",
       "      <td>av_rech_amt_data_8</td>\n",
       "      <td>73.661</td>\n",
       "    </tr>\n",
       "    <tr>\n",
       "      <th>11</th>\n",
       "      <td>av_rech_amt_data_9</td>\n",
       "      <td>74.078</td>\n",
       "    </tr>\n",
       "  </tbody>\n",
       "</table>\n",
       "</div>"
      ],
      "text/plain": [
       "           column_name  percent_missing\n",
       "0     total_rech_amt_6            0.000\n",
       "1     total_rech_amt_7            0.000\n",
       "2     total_rech_amt_8            0.000\n",
       "3     total_rech_amt_9            0.000\n",
       "4    total_rech_data_6           74.847\n",
       "5    total_rech_data_7           74.429\n",
       "6    total_rech_data_8           73.661\n",
       "7    total_rech_data_9           74.078\n",
       "8   av_rech_amt_data_6           74.847\n",
       "9   av_rech_amt_data_7           74.429\n",
       "10  av_rech_amt_data_8           73.661\n",
       "11  av_rech_amt_data_9           74.078"
      ]
     },
     "execution_count": 10,
     "metadata": {},
     "output_type": "execute_result"
    }
   ],
   "source": [
    "# Checking the null value %ages for recharge related columns required for filtering\n",
    "rech_cols = telecom_churn_data.columns[telecom_churn_data.columns.str.contains('total_rech_amt|total_rech_data|rech_amt_data')]\n",
    "missing_value_rech_cols = col_wise_null(telecom_churn_data[rech_cols])\n",
    "missing_value_rech_cols"
   ]
  },
  {
   "cell_type": "markdown",
   "metadata": {},
   "source": [
    "There are no null values for total recharge amount columns, but there are considerable null values for data related recharge columns. However, it can be noted that the total_rech_data null value %age for a month is equal to the av_rech_amt_data null value %age. Checking if the corresponding date records are also null."
   ]
  },
  {
   "cell_type": "code",
   "execution_count": 11,
   "metadata": {
    "ExecuteTime": {
     "end_time": "2019-08-25T12:53:27.798599Z",
     "start_time": "2019-08-25T12:53:27.620346Z"
    }
   },
   "outputs": [
    {
     "name": "stdout",
     "output_type": "stream",
     "text": [
      "0\n",
      "0\n",
      "0\n",
      "0\n"
     ]
    }
   ],
   "source": [
    "# Checking for month of June\n",
    "print(len(telecom_churn_data[telecom_churn_data.date_of_last_rech_data_6.isna() & ~(telecom_churn_data.total_rech_data_6.isna() | telecom_churn_data.av_rech_amt_data_6.isna())]))\n",
    "# Checking for month of July\n",
    "print(len(telecom_churn_data[telecom_churn_data.date_of_last_rech_data_7.isna() & ~(telecom_churn_data.total_rech_data_7.isna() | telecom_churn_data.av_rech_amt_data_7.isna())]))\n",
    "# Checking for month of August\n",
    "print(len(telecom_churn_data[telecom_churn_data.date_of_last_rech_data_8.isna() & ~(telecom_churn_data.total_rech_data_8.isna() | telecom_churn_data.av_rech_amt_data_8.isna())]))\n",
    "# Checking for month of September\n",
    "print(len(telecom_churn_data[telecom_churn_data.date_of_last_rech_data_9.isna() & ~(telecom_churn_data.total_rech_data_9.isna() | telecom_churn_data.av_rech_amt_data_9.isna())]))"
   ]
  },
  {
   "cell_type": "markdown",
   "metadata": {},
   "source": [
    "It can be seen that the date of last recharge for data is null wherever the total_rech_data or av_rech_amt_data is null. It means that no recharge was done in such cases. These columns can be imputed with a value of 0."
   ]
  },
  {
   "cell_type": "code",
   "execution_count": 12,
   "metadata": {
    "ExecuteTime": {
     "end_time": "2019-08-25T12:53:27.914501Z",
     "start_time": "2019-08-25T12:53:27.800590Z"
    }
   },
   "outputs": [],
   "source": [
    "telecom_churn_data.total_rech_data_6.fillna(value=0, inplace=True)\n",
    "telecom_churn_data.total_rech_data_7.fillna(value=0, inplace=True)\n",
    "telecom_churn_data.total_rech_data_8.fillna(value=0, inplace=True)\n",
    "telecom_churn_data.total_rech_data_9.fillna(value=0, inplace=True)\n",
    "\n",
    "telecom_churn_data.av_rech_amt_data_6.fillna(value=0, inplace=True)\n",
    "telecom_churn_data.av_rech_amt_data_7.fillna(value=0, inplace=True)\n",
    "telecom_churn_data.av_rech_amt_data_8.fillna(value=0, inplace=True)\n",
    "telecom_churn_data.av_rech_amt_data_9.fillna(value=0, inplace=True)"
   ]
  },
  {
   "cell_type": "code",
   "execution_count": 13,
   "metadata": {
    "ExecuteTime": {
     "end_time": "2019-08-25T12:53:28.444075Z",
     "start_time": "2019-08-25T12:53:27.917494Z"
    }
   },
   "outputs": [],
   "source": [
    "# Creating derived variables for total amount of recharge done for data\n",
    "telecom_churn_data[\"total_rech_data_amt_6\"] = telecom_churn_data[\"total_rech_data_6\"]*telecom_churn_data['av_rech_amt_data_6']\n",
    "telecom_churn_data[\"total_rech_data_amt_7\"] = telecom_churn_data[\"total_rech_data_7\"]*telecom_churn_data['av_rech_amt_data_7']\n",
    "telecom_churn_data[\"total_rech_data_amt_8\"] = telecom_churn_data[\"total_rech_data_8\"]*telecom_churn_data['av_rech_amt_data_8']\n",
    "telecom_churn_data[\"total_rech_data_amt_9\"] = telecom_churn_data[\"total_rech_data_9\"]*telecom_churn_data['av_rech_amt_data_9']\n",
    "\n",
    "# Dropping total_rech_data_* and av_rech_amt_data_*\n",
    "cols_to_drop = [\"total_rech_data_6\", \"total_rech_data_7\", \"total_rech_data_8\", \"total_rech_data_9\", \n",
    "                'av_rech_amt_data_6', 'av_rech_amt_data_7', 'av_rech_amt_data_8', 'av_rech_amt_data_9']\n",
    "\n",
    "telecom_churn_data.drop(cols_to_drop, axis=1, inplace=True)"
   ]
  },
  {
   "cell_type": "code",
   "execution_count": 14,
   "metadata": {
    "ExecuteTime": {
     "end_time": "2019-08-25T12:53:28.542812Z",
     "start_time": "2019-08-25T12:53:28.447069Z"
    }
   },
   "outputs": [],
   "source": [
    "# Filter high-value customers\n",
    "avg_rech_6_7 = (telecom_churn_data[\"total_rech_amt_6\"] + telecom_churn_data[\"total_rech_data_amt_6\"] + \n",
    "                      telecom_churn_data[\"total_rech_amt_7\"] + telecom_churn_data[\"total_rech_data_amt_7\"]) / 2.0\n",
    "\n",
    "amt_70th = np.percentile(avg_rech_6_7, 70)\n",
    "\n",
    "telecom_churn_data = telecom_churn_data[avg_rech_6_7 >= amt_70th]"
   ]
  },
  {
   "cell_type": "code",
   "execution_count": 15,
   "metadata": {
    "ExecuteTime": {
     "end_time": "2019-08-25T12:53:28.619995Z",
     "start_time": "2019-08-25T12:53:28.544808Z"
    }
   },
   "outputs": [
    {
     "name": "stdout",
     "output_type": "stream",
     "text": [
      "Number of high value customers are 30001\n"
     ]
    }
   ],
   "source": [
    "# Checking the number of rows left\n",
    "print('Number of high value customers are {}'.format(len(telecom_churn_data)))"
   ]
  },
  {
   "cell_type": "markdown",
   "metadata": {},
   "source": [
    "#### Identifying Churners"
   ]
  },
  {
   "cell_type": "code",
   "execution_count": 16,
   "metadata": {
    "ExecuteTime": {
     "end_time": "2019-08-25T12:53:28.745018Z",
     "start_time": "2019-08-25T12:53:28.621989Z"
    }
   },
   "outputs": [
    {
     "data": {
      "text/html": [
       "<div>\n",
       "<style scoped>\n",
       "    .dataframe tbody tr th:only-of-type {\n",
       "        vertical-align: middle;\n",
       "    }\n",
       "\n",
       "    .dataframe tbody tr th {\n",
       "        vertical-align: top;\n",
       "    }\n",
       "\n",
       "    .dataframe thead th {\n",
       "        text-align: right;\n",
       "    }\n",
       "</style>\n",
       "<table border=\"1\" class=\"dataframe\">\n",
       "  <thead>\n",
       "    <tr style=\"text-align: right;\">\n",
       "      <th></th>\n",
       "      <th>column_name</th>\n",
       "      <th>percent_missing</th>\n",
       "    </tr>\n",
       "  </thead>\n",
       "  <tbody>\n",
       "    <tr>\n",
       "      <th>84</th>\n",
       "      <td>total_og_mou_9</td>\n",
       "      <td>0.000</td>\n",
       "    </tr>\n",
       "    <tr>\n",
       "      <th>124</th>\n",
       "      <td>total_ic_mou_9</td>\n",
       "      <td>0.000</td>\n",
       "    </tr>\n",
       "    <tr>\n",
       "      <th>184</th>\n",
       "      <td>vol_2g_mb_9</td>\n",
       "      <td>0.000</td>\n",
       "    </tr>\n",
       "    <tr>\n",
       "      <th>188</th>\n",
       "      <td>vol_3g_mb_9</td>\n",
       "      <td>0.000</td>\n",
       "    </tr>\n",
       "  </tbody>\n",
       "</table>\n",
       "</div>"
      ],
      "text/plain": [
       "        column_name  percent_missing\n",
       "84   total_og_mou_9            0.000\n",
       "124  total_ic_mou_9            0.000\n",
       "184     vol_2g_mb_9            0.000\n",
       "188     vol_3g_mb_9            0.000"
      ]
     },
     "execution_count": 16,
     "metadata": {},
     "output_type": "execute_result"
    }
   ],
   "source": [
    "# Missing value check for columns which will be used to tag churners\n",
    "missing_value_df[missing_value_df.column_name.isin(['total_ic_mou_9','total_og_mou_9','vol_2g_mb_9','vol_3g_mb_9'])]"
   ]
  },
  {
   "cell_type": "code",
   "execution_count": 17,
   "metadata": {
    "ExecuteTime": {
     "end_time": "2019-08-25T12:53:28.876965Z",
     "start_time": "2019-08-25T12:53:28.747979Z"
    }
   },
   "outputs": [],
   "source": [
    "# There are no missing values. Proceeding with tagging churners.\n",
    "# Tagging churners\n",
    "usage_9 = telecom_churn_data['total_ic_mou_9'] + telecom_churn_data['total_og_mou_9'] + telecom_churn_data['vol_2g_mb_9'] + telecom_churn_data['vol_3g_mb_9']\n",
    "telecom_churn_data['churn'] = np.where(usage_9, 0, 1)"
   ]
  },
  {
   "cell_type": "code",
   "execution_count": 18,
   "metadata": {
    "ExecuteTime": {
     "end_time": "2019-08-25T12:53:29.093384Z",
     "start_time": "2019-08-25T12:53:28.879932Z"
    }
   },
   "outputs": [],
   "source": [
    "# Now that churners have been identified, we can drop the columns for 4th month\n",
    "# There are few columns with month name in prefix, these can be renamed for consistency\n",
    "telecom_churn_data.rename(columns={'jun_vbc_3g':'vbc_3g_6','jul_vbc_3g':'vbc_3g_7','aug_vbc_3g':'vbc_3g_8'\n",
    "                         ,'sep_vbc_3g':'vbc_3g_9'}, inplace=True)\n",
    "\n",
    "# drop 9th month column as it is not needed\n",
    "cols_9 = telecom_churn_data.columns[telecom_churn_data.columns.str.contains('_9')]\n",
    "\n",
    "telecom_churn_data.drop(cols_9,axis=1,inplace=True)"
   ]
  },
  {
   "cell_type": "markdown",
   "metadata": {},
   "source": [
    "There are a few columns with no variance at all. These columns can be dropped."
   ]
  },
  {
   "cell_type": "code",
   "execution_count": 19,
   "metadata": {
    "ExecuteTime": {
     "end_time": "2019-08-25T12:53:30.554483Z",
     "start_time": "2019-08-25T12:53:29.098372Z"
    }
   },
   "outputs": [
    {
     "data": {
      "text/plain": [
       "std_og_t2c_mou_6        1\n",
       "circle_id               1\n",
       "loc_og_t2o_mou          1\n",
       "std_og_t2o_mou          1\n",
       "loc_ic_t2o_mou          1\n",
       "last_date_of_month_6    1\n",
       "last_date_of_month_7    1\n",
       "last_date_of_month_8    1\n",
       "std_ic_t2o_mou_6        1\n",
       "std_ic_t2o_mou_7        1\n",
       "std_og_t2c_mou_7        1\n",
       "std_og_t2c_mou_8        1\n",
       "std_ic_t2o_mou_8        1\n",
       "dtype: int64"
      ]
     },
     "execution_count": 19,
     "metadata": {},
     "output_type": "execute_result"
    }
   ],
   "source": [
    "# Checking the columns with no variance.\n",
    "unique_val_count = telecom_churn_data.nunique().sort_values()\n",
    "unique_val_count[unique_val_count == 1]"
   ]
  },
  {
   "cell_type": "code",
   "execution_count": 20,
   "metadata": {
    "ExecuteTime": {
     "end_time": "2019-08-25T12:53:30.598364Z",
     "start_time": "2019-08-25T12:53:30.557473Z"
    }
   },
   "outputs": [],
   "source": [
    "# Dropping columns with only 1 unique value. Also, mobile_number can be dropped since it won't be used for analysis. \n",
    "cols_to_drop = ['circle_id','loc_og_t2o_mou','std_og_t2o_mou','loc_ic_t2o_mou','std_ic_t2o_mou_6','std_ic_t2o_mou_7','std_ic_t2o_mou_8','std_og_t2c_mou_6','std_og_t2c_mou_7','std_og_t2c_mou_8','last_date_of_month_6','last_date_of_month_7','last_date_of_month_8','mobile_number']\n",
    "telecom_churn_data.drop(cols_to_drop,axis=1,inplace=True)"
   ]
  },
  {
   "cell_type": "code",
   "execution_count": 21,
   "metadata": {
    "ExecuteTime": {
     "end_time": "2019-08-25T12:53:30.697221Z",
     "start_time": "2019-08-25T12:53:30.600359Z"
    }
   },
   "outputs": [
    {
     "name": "stdout",
     "output_type": "stream",
     "text": [
      "The shape of the data set at this point is (30001, 155)\n"
     ]
    }
   ],
   "source": [
    "# Checking the shape of the left data-set\n",
    "print(\"The shape of the data set at this point is {}\".format(telecom_churn_data.shape))"
   ]
  },
  {
   "cell_type": "markdown",
   "metadata": {},
   "source": [
    "Proceeding with EDA and performing null value treatment"
   ]
  },
  {
   "cell_type": "markdown",
   "metadata": {},
   "source": [
    "### Exploratory Data Analysis (with null value treatment)"
   ]
  },
  {
   "cell_type": "code",
   "execution_count": 22,
   "metadata": {
    "ExecuteTime": {
     "end_time": "2019-08-25T12:53:30.840721Z",
     "start_time": "2019-08-25T12:53:30.700212Z"
    }
   },
   "outputs": [],
   "source": [
    "# Defining a function for box plots\n",
    "def box_plot(feature,feature_name):\n",
    "    plt.rcParams[\"figure.figsize\"] = [16, 7]\n",
    "    fig = plt.figure()\n",
    "    f,axes = plt.subplots(nrows=1, ncols=3)\n",
    "    g = sns.boxplot(data=telecom_churn_data, y=feature+\"_6\", x=\"churn\",\n",
    "                hue=\"churn\", linewidth=2.5, showfliers=False, ax=axes[0])\n",
    "    _ = g.set_xlabel(\"Churn\",fontsize=10,fontweight='bold')\n",
    "    _ = g.set_ylabel(\"{} - Good Phase 1st month\".format(feature_name),fontsize=10,fontweight='bold')\n",
    "    g.legend_.remove()\n",
    "    g = sns.boxplot(data=telecom_churn_data, y=feature+\"_7\",  x=\"churn\",\n",
    "                hue=\"churn\", linewidth=2.5, showfliers=False, ax=axes[1])\n",
    "    _ = g.set_xlabel(\"Churn\",fontsize=10,fontweight='bold')\n",
    "    _ = g.set_ylabel(\"{} - Good Phase 2nd month\".format(feature_name),fontsize=10,fontweight='bold')\n",
    "    g.legend_.remove()\n",
    "    g = sns.boxplot(data=telecom_churn_data, y=feature+\"_8\",  x=\"churn\",\n",
    "                hue=\"churn\", linewidth=2.5, showfliers=False, ax=axes[2])\n",
    "    _ = g.set_xlabel(\"Churn\",fontsize=10,fontweight='bold')\n",
    "    _ = g.set_ylabel(\"{} - Action Phase\".format(feature_name),fontsize=10,fontweight='bold')\n",
    "    labels = ['Not Churn','Churn']\n",
    "    h, l = g.get_legend_handles_labels()\n",
    "    _ = g.legend(h, labels, title=\"Churn Status\", bbox_to_anchor=(1.4, 1))"
   ]
  },
  {
   "cell_type": "markdown",
   "metadata": {},
   "source": [
    "#### Churn %age"
   ]
  },
  {
   "cell_type": "code",
   "execution_count": 23,
   "metadata": {
    "ExecuteTime": {
     "end_time": "2019-08-25T12:53:30.988779Z",
     "start_time": "2019-08-25T12:53:30.846700Z"
    }
   },
   "outputs": [
    {
     "name": "stdout",
     "output_type": "stream",
     "text": [
      "Around 8.14% customers churned\n"
     ]
    }
   ],
   "source": [
    "# Checking the %age of high value customers that churned\n",
    "print('Around {}% customers churned'.format(round(100*telecom_churn_data.churn.sum()/len(telecom_churn_data),2)))"
   ]
  },
  {
   "cell_type": "markdown",
   "metadata": {},
   "source": [
    "#### Recharge Amount Columns"
   ]
  },
  {
   "cell_type": "code",
   "execution_count": 24,
   "metadata": {
    "ExecuteTime": {
     "end_time": "2019-08-25T12:53:31.192978Z",
     "start_time": "2019-08-25T12:53:30.992737Z"
    }
   },
   "outputs": [
    {
     "data": {
      "text/html": [
       "<div>\n",
       "<style scoped>\n",
       "    .dataframe tbody tr th:only-of-type {\n",
       "        vertical-align: middle;\n",
       "    }\n",
       "\n",
       "    .dataframe tbody tr th {\n",
       "        vertical-align: top;\n",
       "    }\n",
       "\n",
       "    .dataframe thead th {\n",
       "        text-align: right;\n",
       "    }\n",
       "</style>\n",
       "<table border=\"1\" class=\"dataframe\">\n",
       "  <thead>\n",
       "    <tr style=\"text-align: right;\">\n",
       "      <th></th>\n",
       "      <th>churn</th>\n",
       "      <th>total_rech_amt_6</th>\n",
       "      <th>total_rech_amt_7</th>\n",
       "      <th>total_rech_amt_8</th>\n",
       "    </tr>\n",
       "  </thead>\n",
       "  <tbody>\n",
       "    <tr>\n",
       "      <th>0</th>\n",
       "      <td>0</td>\n",
       "      <td>649.575</td>\n",
       "      <td>663.528</td>\n",
       "      <td>613.701</td>\n",
       "    </tr>\n",
       "    <tr>\n",
       "      <th>1</th>\n",
       "      <td>1</td>\n",
       "      <td>786.707</td>\n",
       "      <td>626.290</td>\n",
       "      <td>253.153</td>\n",
       "    </tr>\n",
       "  </tbody>\n",
       "</table>\n",
       "</div>"
      ],
      "text/plain": [
       "   churn  total_rech_amt_6  total_rech_amt_7  total_rech_amt_8\n",
       "0      0           649.575           663.528           613.701\n",
       "1      1           786.707           626.290           253.153"
      ]
     },
     "execution_count": 24,
     "metadata": {},
     "output_type": "execute_result"
    }
   ],
   "source": [
    "rech_amt_by_churn = pd.DataFrame(telecom_churn_data.groupby('churn',as_index=False)['total_rech_amt_6','total_rech_amt_7','total_rech_amt_8'].mean())\n",
    "rech_amt_by_churn"
   ]
  },
  {
   "cell_type": "code",
   "execution_count": 25,
   "metadata": {
    "ExecuteTime": {
     "end_time": "2019-08-25T12:53:31.939153Z",
     "start_time": "2019-08-25T12:53:31.195941Z"
    }
   },
   "outputs": [
    {
     "data": {
      "text/plain": [
       "<Figure size 1152x504 with 0 Axes>"
      ]
     },
     "metadata": {},
     "output_type": "display_data"
    },
    {
     "data": {
      "image/png": "[encoded data removed]",
      "text/plain": [
       "<Figure size 1152x504 with 3 Axes>"
      ]
     },
     "metadata": {
      "needs_background": "light"
     },
     "output_type": "display_data"
    }
   ],
   "source": [
    "box_plot('total_rech_amt','Total Recharge Amount')"
   ]
  },
  {
   "cell_type": "markdown",
   "metadata": {},
   "source": [
    "It can be seen that the total recharge amount decreases at first and then decreased drastically in the action phase (8th month) for the customers who churned."
   ]
  },
  {
   "cell_type": "markdown",
   "metadata": {},
   "source": [
    "#### Recharge Amount - Data related columns"
   ]
  },
  {
   "cell_type": "code",
   "execution_count": 26,
   "metadata": {
    "ExecuteTime": {
     "end_time": "2019-08-25T12:53:31.977052Z",
     "start_time": "2019-08-25T12:53:31.942146Z"
    }
   },
   "outputs": [
    {
     "data": {
      "text/html": [
       "<div>\n",
       "<style scoped>\n",
       "    .dataframe tbody tr th:only-of-type {\n",
       "        vertical-align: middle;\n",
       "    }\n",
       "\n",
       "    .dataframe tbody tr th {\n",
       "        vertical-align: top;\n",
       "    }\n",
       "\n",
       "    .dataframe thead th {\n",
       "        text-align: right;\n",
       "    }\n",
       "</style>\n",
       "<table border=\"1\" class=\"dataframe\">\n",
       "  <thead>\n",
       "    <tr style=\"text-align: right;\">\n",
       "      <th></th>\n",
       "      <th>total_rech_data_amt_6</th>\n",
       "      <th>total_rech_data_amt_7</th>\n",
       "      <th>total_rech_data_amt_8</th>\n",
       "    </tr>\n",
       "  </thead>\n",
       "  <tbody>\n",
       "    <tr>\n",
       "      <th>count</th>\n",
       "      <td>30001.000</td>\n",
       "      <td>30001.000</td>\n",
       "      <td>30001.000</td>\n",
       "    </tr>\n",
       "    <tr>\n",
       "      <th>mean</th>\n",
       "      <td>455.777</td>\n",
       "      <td>528.234</td>\n",
       "      <td>463.253</td>\n",
       "    </tr>\n",
       "    <tr>\n",
       "      <th>std</th>\n",
       "      <td>1418.671</td>\n",
       "      <td>1476.037</td>\n",
       "      <td>1622.766</td>\n",
       "    </tr>\n",
       "    <tr>\n",
       "      <th>min</th>\n",
       "      <td>0.000</td>\n",
       "      <td>0.000</td>\n",
       "      <td>0.000</td>\n",
       "    </tr>\n",
       "    <tr>\n",
       "      <th>10%</th>\n",
       "      <td>0.000</td>\n",
       "      <td>0.000</td>\n",
       "      <td>0.000</td>\n",
       "    </tr>\n",
       "    <tr>\n",
       "      <th>25%</th>\n",
       "      <td>0.000</td>\n",
       "      <td>0.000</td>\n",
       "      <td>0.000</td>\n",
       "    </tr>\n",
       "    <tr>\n",
       "      <th>50%</th>\n",
       "      <td>92.000</td>\n",
       "      <td>100.000</td>\n",
       "      <td>25.000</td>\n",
       "    </tr>\n",
       "    <tr>\n",
       "      <th>75%</th>\n",
       "      <td>400.000</td>\n",
       "      <td>575.000</td>\n",
       "      <td>304.000</td>\n",
       "    </tr>\n",
       "    <tr>\n",
       "      <th>90%</th>\n",
       "      <td>1120.000</td>\n",
       "      <td>1374.000</td>\n",
       "      <td>1088.000</td>\n",
       "    </tr>\n",
       "    <tr>\n",
       "      <th>max</th>\n",
       "      <td>105644.000</td>\n",
       "      <td>55080.000</td>\n",
       "      <td>89106.500</td>\n",
       "    </tr>\n",
       "  </tbody>\n",
       "</table>\n",
       "</div>"
      ],
      "text/plain": [
       "       total_rech_data_amt_6  total_rech_data_amt_7  total_rech_data_amt_8\n",
       "count              30001.000              30001.000              30001.000\n",
       "mean                 455.777                528.234                463.253\n",
       "std                 1418.671               1476.037               1622.766\n",
       "min                    0.000                  0.000                  0.000\n",
       "10%                    0.000                  0.000                  0.000\n",
       "25%                    0.000                  0.000                  0.000\n",
       "50%                   92.000                100.000                 25.000\n",
       "75%                  400.000                575.000                304.000\n",
       "90%                 1120.000               1374.000               1088.000\n",
       "max               105644.000              55080.000              89106.500"
      ]
     },
     "execution_count": 26,
     "metadata": {},
     "output_type": "execute_result"
    }
   ],
   "source": [
    "# First describing the values\n",
    "telecom_churn_data[['total_rech_data_amt_6','total_rech_data_amt_7','total_rech_data_amt_8']].describe(percentiles=[0.1,.25,.5,.75,.9])"
   ]
  },
  {
   "cell_type": "markdown",
   "metadata": {},
   "source": [
    "It can be seen that the lower order values are mostly 0, and the higher order values are very large as compared to others. We can check the mean value for a monthly trend comparision."
   ]
  },
  {
   "cell_type": "code",
   "execution_count": 27,
   "metadata": {
    "ExecuteTime": {
     "end_time": "2019-08-25T12:53:32.084270Z",
     "start_time": "2019-08-25T12:53:31.979048Z"
    }
   },
   "outputs": [
    {
     "data": {
      "text/html": [
       "<div>\n",
       "<style scoped>\n",
       "    .dataframe tbody tr th:only-of-type {\n",
       "        vertical-align: middle;\n",
       "    }\n",
       "\n",
       "    .dataframe tbody tr th {\n",
       "        vertical-align: top;\n",
       "    }\n",
       "\n",
       "    .dataframe thead th {\n",
       "        text-align: right;\n",
       "    }\n",
       "</style>\n",
       "<table border=\"1\" class=\"dataframe\">\n",
       "  <thead>\n",
       "    <tr style=\"text-align: right;\">\n",
       "      <th></th>\n",
       "      <th>churn</th>\n",
       "      <th>total_rech_data_amt_6</th>\n",
       "      <th>total_rech_data_amt_7</th>\n",
       "      <th>total_rech_data_amt_8</th>\n",
       "    </tr>\n",
       "  </thead>\n",
       "  <tbody>\n",
       "    <tr>\n",
       "      <th>0</th>\n",
       "      <td>0</td>\n",
       "      <td>460.077</td>\n",
       "      <td>545.057</td>\n",
       "      <td>496.886</td>\n",
       "    </tr>\n",
       "    <tr>\n",
       "      <th>1</th>\n",
       "      <td>1</td>\n",
       "      <td>407.229</td>\n",
       "      <td>338.294</td>\n",
       "      <td>83.523</td>\n",
       "    </tr>\n",
       "  </tbody>\n",
       "</table>\n",
       "</div>"
      ],
      "text/plain": [
       "   churn  total_rech_data_amt_6  total_rech_data_amt_7  total_rech_data_amt_8\n",
       "0      0                460.077                545.057                496.886\n",
       "1      1                407.229                338.294                 83.523"
      ]
     },
     "execution_count": 27,
     "metadata": {},
     "output_type": "execute_result"
    }
   ],
   "source": [
    "rech_amt_data_by_churn = pd.DataFrame(telecom_churn_data.groupby('churn',as_index=False)['total_rech_data_amt_6','total_rech_data_amt_7','total_rech_data_amt_8'].mean())\n",
    "rech_amt_data_by_churn"
   ]
  },
  {
   "cell_type": "markdown",
   "metadata": {},
   "source": [
    "It can be seen that there is a drastic drop in the mean data recharge amount from the 7th month to 8th month. We can plot the spread of data recharge amount categorized by the churn flag."
   ]
  },
  {
   "cell_type": "code",
   "execution_count": 28,
   "metadata": {
    "ExecuteTime": {
     "end_time": "2019-08-25T12:53:32.749453Z",
     "start_time": "2019-08-25T12:53:32.087225Z"
    }
   },
   "outputs": [
    {
     "data": {
      "text/plain": [
       "<Figure size 1152x504 with 0 Axes>"
      ]
     },
     "metadata": {},
     "output_type": "display_data"
    },
    {
     "data": {
      "image/png": "[encoded data removed]",
      "text/plain": [
       "<Figure size 1152x504 with 3 Axes>"
      ]
     },
     "metadata": {
      "needs_background": "light"
     },
     "output_type": "display_data"
    }
   ],
   "source": [
    "box_plot('total_rech_data_amt','Total Data Recharge Amount')"
   ]
  },
  {
   "cell_type": "markdown",
   "metadata": {},
   "source": [
    "It can be seen that the value of the recharge done for data decreased from good month to action month."
   ]
  },
  {
   "cell_type": "markdown",
   "metadata": {},
   "source": [
    "#### Max Recharge Amount"
   ]
  },
  {
   "cell_type": "code",
   "execution_count": 29,
   "metadata": {
    "ExecuteTime": {
     "end_time": "2019-08-25T12:53:32.769438Z",
     "start_time": "2019-08-25T12:53:32.752447Z"
    }
   },
   "outputs": [
    {
     "data": {
      "text/html": [
       "<div>\n",
       "<style scoped>\n",
       "    .dataframe tbody tr th:only-of-type {\n",
       "        vertical-align: middle;\n",
       "    }\n",
       "\n",
       "    .dataframe tbody tr th {\n",
       "        vertical-align: top;\n",
       "    }\n",
       "\n",
       "    .dataframe thead th {\n",
       "        text-align: right;\n",
       "    }\n",
       "</style>\n",
       "<table border=\"1\" class=\"dataframe\">\n",
       "  <thead>\n",
       "    <tr style=\"text-align: right;\">\n",
       "      <th></th>\n",
       "      <th>churn</th>\n",
       "      <th>max_rech_amt_6</th>\n",
       "      <th>max_rech_amt_7</th>\n",
       "      <th>max_rech_amt_8</th>\n",
       "    </tr>\n",
       "  </thead>\n",
       "  <tbody>\n",
       "    <tr>\n",
       "      <th>0</th>\n",
       "      <td>0</td>\n",
       "      <td>169.049</td>\n",
       "      <td>173.337</td>\n",
       "      <td>166.767</td>\n",
       "    </tr>\n",
       "    <tr>\n",
       "      <th>1</th>\n",
       "      <td>1</td>\n",
       "      <td>171.942</td>\n",
       "      <td>159.389</td>\n",
       "      <td>85.371</td>\n",
       "    </tr>\n",
       "  </tbody>\n",
       "</table>\n",
       "</div>"
      ],
      "text/plain": [
       "   churn  max_rech_amt_6  max_rech_amt_7  max_rech_amt_8\n",
       "0      0         169.049         173.337         166.767\n",
       "1      1         171.942         159.389          85.371"
      ]
     },
     "execution_count": 29,
     "metadata": {},
     "output_type": "execute_result"
    }
   ],
   "source": [
    "max_rech_amt_by_churn = pd.DataFrame(telecom_churn_data.groupby('churn',as_index=False)['max_rech_amt_6','max_rech_amt_7','max_rech_amt_8'].mean())\n",
    "max_rech_amt_by_churn"
   ]
  },
  {
   "cell_type": "markdown",
   "metadata": {},
   "source": [
    "We can observe that the mean max recharge amount decreases significantly for customers who churned."
   ]
  },
  {
   "cell_type": "code",
   "execution_count": 30,
   "metadata": {
    "ExecuteTime": {
     "end_time": "2019-08-25T12:53:33.482528Z",
     "start_time": "2019-08-25T12:53:32.772391Z"
    }
   },
   "outputs": [
    {
     "data": {
      "text/plain": [
       "<Figure size 1152x504 with 0 Axes>"
      ]
     },
     "metadata": {},
     "output_type": "display_data"
    },
    {
     "data": {
      "image/png": "[encoded data removed]",
      "text/plain": [
       "<Figure size 1152x504 with 3 Axes>"
      ]
     },
     "metadata": {
      "needs_background": "light"
     },
     "output_type": "display_data"
    }
   ],
   "source": [
    "box_plot('max_rech_amt','Max Recharge Amount')"
   ]
  },
  {
   "cell_type": "markdown",
   "metadata": {},
   "source": [
    "We observe drop in maximum recharge amount as well."
   ]
  },
  {
   "cell_type": "code",
   "execution_count": 31,
   "metadata": {
    "ExecuteTime": {
     "end_time": "2019-08-25T12:53:33.588212Z",
     "start_time": "2019-08-25T12:53:33.485488Z"
    }
   },
   "outputs": [],
   "source": [
    "\"\"\" Now that we have done EDA on these three columns (total recharge, total recharge for data and maximum recharge),\n",
    "we can derive new features from them. \n",
    "These will be the good phase features which can be the average value of the 6th month and the 7th month\"\"\"\n",
    "\n",
    "\n",
    "telecom_churn_data['rech_amt_good_phase'] = (telecom_churn_data.total_rech_amt_6 + telecom_churn_data.total_rech_amt_7)/2\n",
    "telecom_churn_data['rech_amt_data_good_phase'] = (telecom_churn_data.total_rech_data_amt_6 + telecom_churn_data.total_rech_data_amt_7)/2\n",
    "telecom_churn_data['max_rech_amt_good_phase'] = (telecom_churn_data.max_rech_amt_6 + telecom_churn_data.max_rech_amt_7)/2\n",
    "\n",
    "# dropping the original columns\n",
    "telecom_churn_data.drop(['total_rech_amt_6','total_rech_amt_7'\n",
    "              ,'max_rech_amt_6','max_rech_amt_7','total_rech_data_amt_6','total_rech_data_amt_7'],axis=1,inplace=True)"
   ]
  },
  {
   "cell_type": "markdown",
   "metadata": {},
   "source": [
    "#### Last Day Recharge Amount"
   ]
  },
  {
   "cell_type": "code",
   "execution_count": 32,
   "metadata": {
    "ExecuteTime": {
     "end_time": "2019-08-25T12:53:33.639191Z",
     "start_time": "2019-08-25T12:53:33.590208Z"
    }
   },
   "outputs": [
    {
     "data": {
      "text/html": [
       "<div>\n",
       "<style scoped>\n",
       "    .dataframe tbody tr th:only-of-type {\n",
       "        vertical-align: middle;\n",
       "    }\n",
       "\n",
       "    .dataframe tbody tr th {\n",
       "        vertical-align: top;\n",
       "    }\n",
       "\n",
       "    .dataframe thead th {\n",
       "        text-align: right;\n",
       "    }\n",
       "</style>\n",
       "<table border=\"1\" class=\"dataframe\">\n",
       "  <thead>\n",
       "    <tr style=\"text-align: right;\">\n",
       "      <th></th>\n",
       "      <th>churn</th>\n",
       "      <th>last_day_rch_amt_6</th>\n",
       "      <th>last_day_rch_amt_7</th>\n",
       "      <th>last_day_rch_amt_8</th>\n",
       "    </tr>\n",
       "  </thead>\n",
       "  <tbody>\n",
       "    <tr>\n",
       "      <th>0</th>\n",
       "      <td>0</td>\n",
       "      <td>100.587</td>\n",
       "      <td>102.276</td>\n",
       "      <td>97.417</td>\n",
       "    </tr>\n",
       "    <tr>\n",
       "      <th>1</th>\n",
       "      <td>1</td>\n",
       "      <td>104.356</td>\n",
       "      <td>78.684</td>\n",
       "      <td>35.680</td>\n",
       "    </tr>\n",
       "  </tbody>\n",
       "</table>\n",
       "</div>"
      ],
      "text/plain": [
       "   churn  last_day_rch_amt_6  last_day_rch_amt_7  last_day_rch_amt_8\n",
       "0      0             100.587             102.276              97.417\n",
       "1      1             104.356              78.684              35.680"
      ]
     },
     "execution_count": 32,
     "metadata": {},
     "output_type": "execute_result"
    }
   ],
   "source": [
    "last_day_rech_amt_by_churn = pd.DataFrame(telecom_churn_data.groupby('churn',as_index=False)['last_day_rch_amt_6','last_day_rch_amt_7','last_day_rch_amt_8'].mean())\n",
    "last_day_rech_amt_by_churn"
   ]
  },
  {
   "cell_type": "code",
   "execution_count": 33,
   "metadata": {
    "ExecuteTime": {
     "end_time": "2019-08-25T12:53:34.383606Z",
     "start_time": "2019-08-25T12:53:33.642183Z"
    }
   },
   "outputs": [
    {
     "data": {
      "text/plain": [
       "<Figure size 1152x504 with 0 Axes>"
      ]
     },
     "metadata": {},
     "output_type": "display_data"
    },
    {
     "data": {
      "image/png": "[encoded data removed]",
      "text/plain": [
       "<Figure size 1152x504 with 3 Axes>"
      ]
     },
     "metadata": {
      "needs_background": "light"
     },
     "output_type": "display_data"
    }
   ],
   "source": [
    "box_plot('last_day_rch_amt','Last Day Recharge Amount')"
   ]
  },
  {
   "cell_type": "markdown",
   "metadata": {},
   "source": [
    "As per the trend that we have observed so far, the last day recharge amount drops for the action phase as well."
   ]
  },
  {
   "cell_type": "code",
   "execution_count": 34,
   "metadata": {
    "ExecuteTime": {
     "end_time": "2019-08-25T12:53:34.473365Z",
     "start_time": "2019-08-25T12:53:34.386598Z"
    }
   },
   "outputs": [],
   "source": [
    "# Deriving good phase features for the last day recharge amount\n",
    "telecom_churn_data['last_day_rch_amt_good_phase'] = (telecom_churn_data.last_day_rch_amt_6 + telecom_churn_data.last_day_rch_amt_6)/2\n",
    "\n",
    "# dropping the original variables\n",
    "telecom_churn_data.drop(['last_day_rch_amt_6','last_day_rch_amt_7'],axis=1,inplace=True)"
   ]
  },
  {
   "cell_type": "markdown",
   "metadata": {},
   "source": [
    "#### Other recharge related columns - Total Recharge Num and Max Recharge done for Data"
   ]
  },
  {
   "cell_type": "code",
   "execution_count": 35,
   "metadata": {
    "ExecuteTime": {
     "end_time": "2019-08-25T12:53:34.592049Z",
     "start_time": "2019-08-25T12:53:34.475361Z"
    }
   },
   "outputs": [],
   "source": [
    "# Similarly deriving good phase feature for total recharge number\n",
    "telecom_churn_data['rech_num_good_phase'] = (telecom_churn_data.total_rech_num_6 + telecom_churn_data.total_rech_num_7)/2\n",
    "\n",
    "# dropping the original variables\n",
    "telecom_churn_data.drop(['total_rech_num_6','total_rech_num_7'],axis=1,inplace=True)"
   ]
  },
  {
   "cell_type": "code",
   "execution_count": 36,
   "metadata": {
    "ExecuteTime": {
     "end_time": "2019-08-25T12:53:34.687882Z",
     "start_time": "2019-08-25T12:53:34.595041Z"
    }
   },
   "outputs": [
    {
     "data": {
      "text/html": [
       "<div>\n",
       "<style scoped>\n",
       "    .dataframe tbody tr th:only-of-type {\n",
       "        vertical-align: middle;\n",
       "    }\n",
       "\n",
       "    .dataframe tbody tr th {\n",
       "        vertical-align: top;\n",
       "    }\n",
       "\n",
       "    .dataframe thead th {\n",
       "        text-align: right;\n",
       "    }\n",
       "</style>\n",
       "<table border=\"1\" class=\"dataframe\">\n",
       "  <thead>\n",
       "    <tr style=\"text-align: right;\">\n",
       "      <th></th>\n",
       "      <th>column_name</th>\n",
       "      <th>percent_missing</th>\n",
       "    </tr>\n",
       "  </thead>\n",
       "  <tbody>\n",
       "    <tr>\n",
       "      <th>0</th>\n",
       "      <td>max_rech_data_6</td>\n",
       "      <td>44.149</td>\n",
       "    </tr>\n",
       "    <tr>\n",
       "      <th>1</th>\n",
       "      <td>max_rech_data_7</td>\n",
       "      <td>43.145</td>\n",
       "    </tr>\n",
       "    <tr>\n",
       "      <th>2</th>\n",
       "      <td>max_rech_data_8</td>\n",
       "      <td>46.825</td>\n",
       "    </tr>\n",
       "  </tbody>\n",
       "</table>\n",
       "</div>"
      ],
      "text/plain": [
       "       column_name  percent_missing\n",
       "0  max_rech_data_6           44.149\n",
       "1  max_rech_data_7           43.145\n",
       "2  max_rech_data_8           46.825"
      ]
     },
     "execution_count": 36,
     "metadata": {},
     "output_type": "execute_result"
    }
   ],
   "source": [
    "# Max recharge for data columns have null values, treating null values first\n",
    "# checking null values %age\n",
    "max_rech_null = col_wise_null(telecom_churn_data[['max_rech_data_6','max_rech_data_7','max_rech_data_8']])\n",
    "max_rech_null"
   ]
  },
  {
   "cell_type": "code",
   "execution_count": 37,
   "metadata": {
    "ExecuteTime": {
     "end_time": "2019-08-25T12:53:34.886303Z",
     "start_time": "2019-08-25T12:53:34.689875Z"
    }
   },
   "outputs": [
    {
     "data": {
      "text/html": [
       "<div>\n",
       "<style scoped>\n",
       "    .dataframe tbody tr th:only-of-type {\n",
       "        vertical-align: middle;\n",
       "    }\n",
       "\n",
       "    .dataframe tbody tr th {\n",
       "        vertical-align: top;\n",
       "    }\n",
       "\n",
       "    .dataframe thead th {\n",
       "        text-align: right;\n",
       "    }\n",
       "</style>\n",
       "<table border=\"1\" class=\"dataframe\">\n",
       "  <thead>\n",
       "    <tr style=\"text-align: right;\">\n",
       "      <th></th>\n",
       "      <th>max_rech_data_6</th>\n",
       "      <th>max_rech_data_7</th>\n",
       "      <th>max_rech_data_8</th>\n",
       "    </tr>\n",
       "  </thead>\n",
       "  <tbody>\n",
       "    <tr>\n",
       "      <th>count</th>\n",
       "      <td>16756.000</td>\n",
       "      <td>17057.000</td>\n",
       "      <td>15953.000</td>\n",
       "    </tr>\n",
       "    <tr>\n",
       "      <th>mean</th>\n",
       "      <td>139.799</td>\n",
       "      <td>140.431</td>\n",
       "      <td>136.329</td>\n",
       "    </tr>\n",
       "    <tr>\n",
       "      <th>std</th>\n",
       "      <td>118.852</td>\n",
       "      <td>120.247</td>\n",
       "      <td>119.532</td>\n",
       "    </tr>\n",
       "    <tr>\n",
       "      <th>min</th>\n",
       "      <td>1.000</td>\n",
       "      <td>1.000</td>\n",
       "      <td>1.000</td>\n",
       "    </tr>\n",
       "    <tr>\n",
       "      <th>25%</th>\n",
       "      <td>25.000</td>\n",
       "      <td>25.000</td>\n",
       "      <td>25.000</td>\n",
       "    </tr>\n",
       "    <tr>\n",
       "      <th>50%</th>\n",
       "      <td>152.000</td>\n",
       "      <td>152.000</td>\n",
       "      <td>152.000</td>\n",
       "    </tr>\n",
       "    <tr>\n",
       "      <th>75%</th>\n",
       "      <td>198.000</td>\n",
       "      <td>198.000</td>\n",
       "      <td>198.000</td>\n",
       "    </tr>\n",
       "    <tr>\n",
       "      <th>max</th>\n",
       "      <td>1555.000</td>\n",
       "      <td>1555.000</td>\n",
       "      <td>1555.000</td>\n",
       "    </tr>\n",
       "  </tbody>\n",
       "</table>\n",
       "</div>"
      ],
      "text/plain": [
       "       max_rech_data_6  max_rech_data_7  max_rech_data_8\n",
       "count        16756.000        17057.000        15953.000\n",
       "mean           139.799          140.431          136.329\n",
       "std            118.852          120.247          119.532\n",
       "min              1.000            1.000            1.000\n",
       "25%             25.000           25.000           25.000\n",
       "50%            152.000          152.000          152.000\n",
       "75%            198.000          198.000          198.000\n",
       "max           1555.000         1555.000         1555.000"
      ]
     },
     "execution_count": 37,
     "metadata": {},
     "output_type": "execute_result"
    }
   ],
   "source": [
    "# describing the columns\n",
    "telecom_churn_data[['max_rech_data_6','max_rech_data_7','max_rech_data_8']].describe()"
   ]
  },
  {
   "cell_type": "markdown",
   "metadata": {},
   "source": [
    "It can be seen that the minimum value is 1. This implies that the missing values are cases where no recharge was done. We can impute null values by 0 here."
   ]
  },
  {
   "cell_type": "code",
   "execution_count": 38,
   "metadata": {
    "ExecuteTime": {
     "end_time": "2019-08-25T12:53:34.986080Z",
     "start_time": "2019-08-25T12:53:34.889260Z"
    }
   },
   "outputs": [],
   "source": [
    "telecom_churn_data[['max_rech_data_6','max_rech_data_7','max_rech_data_8']] = telecom_churn_data[['max_rech_data_6','max_rech_data_7','max_rech_data_8']].fillna(0)"
   ]
  },
  {
   "cell_type": "code",
   "execution_count": 39,
   "metadata": {
    "ExecuteTime": {
     "end_time": "2019-08-25T12:53:35.230992Z",
     "start_time": "2019-08-25T12:53:34.988100Z"
    }
   },
   "outputs": [],
   "source": [
    "# deriving good phase feature for max recharge amount for data\n",
    "telecom_churn_data['max_rech_data_good_phase'] = (telecom_churn_data.max_rech_data_6 + telecom_churn_data.max_rech_data_7)/2\n",
    "\n",
    "# dropping the original variables\n",
    "telecom_churn_data.drop(['max_rech_data_6','max_rech_data_7'],axis=1,inplace=True)"
   ]
  },
  {
   "cell_type": "markdown",
   "metadata": {},
   "source": [
    "#### Internet usage related columns"
   ]
  },
  {
   "cell_type": "code",
   "execution_count": 40,
   "metadata": {
    "ExecuteTime": {
     "end_time": "2019-08-25T12:53:35.354654Z",
     "start_time": "2019-08-25T12:53:35.234975Z"
    }
   },
   "outputs": [
    {
     "data": {
      "text/html": [
       "<div>\n",
       "<style scoped>\n",
       "    .dataframe tbody tr th:only-of-type {\n",
       "        vertical-align: middle;\n",
       "    }\n",
       "\n",
       "    .dataframe tbody tr th {\n",
       "        vertical-align: top;\n",
       "    }\n",
       "\n",
       "    .dataframe thead th {\n",
       "        text-align: right;\n",
       "    }\n",
       "</style>\n",
       "<table border=\"1\" class=\"dataframe\">\n",
       "  <thead>\n",
       "    <tr style=\"text-align: right;\">\n",
       "      <th></th>\n",
       "      <th>column_name</th>\n",
       "      <th>percent_missing</th>\n",
       "    </tr>\n",
       "  </thead>\n",
       "  <tbody>\n",
       "    <tr>\n",
       "      <th>0</th>\n",
       "      <td>count_rech_2g_6</td>\n",
       "      <td>44.149</td>\n",
       "    </tr>\n",
       "    <tr>\n",
       "      <th>1</th>\n",
       "      <td>count_rech_2g_7</td>\n",
       "      <td>43.145</td>\n",
       "    </tr>\n",
       "    <tr>\n",
       "      <th>2</th>\n",
       "      <td>count_rech_2g_8</td>\n",
       "      <td>46.825</td>\n",
       "    </tr>\n",
       "    <tr>\n",
       "      <th>3</th>\n",
       "      <td>count_rech_3g_6</td>\n",
       "      <td>44.149</td>\n",
       "    </tr>\n",
       "    <tr>\n",
       "      <th>4</th>\n",
       "      <td>count_rech_3g_7</td>\n",
       "      <td>43.145</td>\n",
       "    </tr>\n",
       "    <tr>\n",
       "      <th>5</th>\n",
       "      <td>count_rech_3g_8</td>\n",
       "      <td>46.825</td>\n",
       "    </tr>\n",
       "    <tr>\n",
       "      <th>6</th>\n",
       "      <td>vol_2g_mb_6</td>\n",
       "      <td>0.000</td>\n",
       "    </tr>\n",
       "    <tr>\n",
       "      <th>7</th>\n",
       "      <td>vol_2g_mb_7</td>\n",
       "      <td>0.000</td>\n",
       "    </tr>\n",
       "    <tr>\n",
       "      <th>8</th>\n",
       "      <td>vol_2g_mb_8</td>\n",
       "      <td>0.000</td>\n",
       "    </tr>\n",
       "    <tr>\n",
       "      <th>9</th>\n",
       "      <td>vol_3g_mb_6</td>\n",
       "      <td>0.000</td>\n",
       "    </tr>\n",
       "    <tr>\n",
       "      <th>10</th>\n",
       "      <td>vol_3g_mb_7</td>\n",
       "      <td>0.000</td>\n",
       "    </tr>\n",
       "    <tr>\n",
       "      <th>11</th>\n",
       "      <td>vol_3g_mb_8</td>\n",
       "      <td>0.000</td>\n",
       "    </tr>\n",
       "    <tr>\n",
       "      <th>12</th>\n",
       "      <td>arpu_3g_6</td>\n",
       "      <td>44.149</td>\n",
       "    </tr>\n",
       "    <tr>\n",
       "      <th>13</th>\n",
       "      <td>arpu_3g_7</td>\n",
       "      <td>43.145</td>\n",
       "    </tr>\n",
       "    <tr>\n",
       "      <th>14</th>\n",
       "      <td>arpu_3g_8</td>\n",
       "      <td>46.825</td>\n",
       "    </tr>\n",
       "    <tr>\n",
       "      <th>15</th>\n",
       "      <td>arpu_2g_6</td>\n",
       "      <td>44.149</td>\n",
       "    </tr>\n",
       "    <tr>\n",
       "      <th>16</th>\n",
       "      <td>arpu_2g_7</td>\n",
       "      <td>43.145</td>\n",
       "    </tr>\n",
       "    <tr>\n",
       "      <th>17</th>\n",
       "      <td>arpu_2g_8</td>\n",
       "      <td>46.825</td>\n",
       "    </tr>\n",
       "    <tr>\n",
       "      <th>18</th>\n",
       "      <td>monthly_2g_6</td>\n",
       "      <td>0.000</td>\n",
       "    </tr>\n",
       "    <tr>\n",
       "      <th>19</th>\n",
       "      <td>monthly_2g_7</td>\n",
       "      <td>0.000</td>\n",
       "    </tr>\n",
       "    <tr>\n",
       "      <th>20</th>\n",
       "      <td>monthly_2g_8</td>\n",
       "      <td>0.000</td>\n",
       "    </tr>\n",
       "    <tr>\n",
       "      <th>21</th>\n",
       "      <td>sachet_2g_6</td>\n",
       "      <td>0.000</td>\n",
       "    </tr>\n",
       "    <tr>\n",
       "      <th>22</th>\n",
       "      <td>sachet_2g_7</td>\n",
       "      <td>0.000</td>\n",
       "    </tr>\n",
       "    <tr>\n",
       "      <th>23</th>\n",
       "      <td>sachet_2g_8</td>\n",
       "      <td>0.000</td>\n",
       "    </tr>\n",
       "    <tr>\n",
       "      <th>24</th>\n",
       "      <td>monthly_3g_6</td>\n",
       "      <td>0.000</td>\n",
       "    </tr>\n",
       "    <tr>\n",
       "      <th>25</th>\n",
       "      <td>monthly_3g_7</td>\n",
       "      <td>0.000</td>\n",
       "    </tr>\n",
       "    <tr>\n",
       "      <th>26</th>\n",
       "      <td>monthly_3g_8</td>\n",
       "      <td>0.000</td>\n",
       "    </tr>\n",
       "    <tr>\n",
       "      <th>27</th>\n",
       "      <td>sachet_3g_6</td>\n",
       "      <td>0.000</td>\n",
       "    </tr>\n",
       "    <tr>\n",
       "      <th>28</th>\n",
       "      <td>sachet_3g_7</td>\n",
       "      <td>0.000</td>\n",
       "    </tr>\n",
       "    <tr>\n",
       "      <th>29</th>\n",
       "      <td>sachet_3g_8</td>\n",
       "      <td>0.000</td>\n",
       "    </tr>\n",
       "    <tr>\n",
       "      <th>30</th>\n",
       "      <td>vbc_3g_8</td>\n",
       "      <td>0.000</td>\n",
       "    </tr>\n",
       "    <tr>\n",
       "      <th>31</th>\n",
       "      <td>vbc_3g_7</td>\n",
       "      <td>0.000</td>\n",
       "    </tr>\n",
       "    <tr>\n",
       "      <th>32</th>\n",
       "      <td>vbc_3g_6</td>\n",
       "      <td>0.000</td>\n",
       "    </tr>\n",
       "  </tbody>\n",
       "</table>\n",
       "</div>"
      ],
      "text/plain": [
       "        column_name  percent_missing\n",
       "0   count_rech_2g_6           44.149\n",
       "1   count_rech_2g_7           43.145\n",
       "2   count_rech_2g_8           46.825\n",
       "3   count_rech_3g_6           44.149\n",
       "4   count_rech_3g_7           43.145\n",
       "5   count_rech_3g_8           46.825\n",
       "6       vol_2g_mb_6            0.000\n",
       "7       vol_2g_mb_7            0.000\n",
       "8       vol_2g_mb_8            0.000\n",
       "9       vol_3g_mb_6            0.000\n",
       "10      vol_3g_mb_7            0.000\n",
       "11      vol_3g_mb_8            0.000\n",
       "12        arpu_3g_6           44.149\n",
       "13        arpu_3g_7           43.145\n",
       "14        arpu_3g_8           46.825\n",
       "15        arpu_2g_6           44.149\n",
       "16        arpu_2g_7           43.145\n",
       "17        arpu_2g_8           46.825\n",
       "18     monthly_2g_6            0.000\n",
       "19     monthly_2g_7            0.000\n",
       "20     monthly_2g_8            0.000\n",
       "21      sachet_2g_6            0.000\n",
       "22      sachet_2g_7            0.000\n",
       "23      sachet_2g_8            0.000\n",
       "24     monthly_3g_6            0.000\n",
       "25     monthly_3g_7            0.000\n",
       "26     monthly_3g_8            0.000\n",
       "27      sachet_3g_6            0.000\n",
       "28      sachet_3g_7            0.000\n",
       "29      sachet_3g_8            0.000\n",
       "30         vbc_3g_8            0.000\n",
       "31         vbc_3g_7            0.000\n",
       "32         vbc_3g_6            0.000"
      ]
     },
     "execution_count": 40,
     "metadata": {},
     "output_type": "execute_result"
    }
   ],
   "source": [
    "internet_cols = telecom_churn_data.columns[telecom_churn_data.columns.str.contains('2g|3g',regex=True)]\n",
    "\n",
    "# checking the null value percentages for internet related columns\n",
    "\n",
    "internet_col_nulls = col_wise_null(telecom_churn_data[internet_cols])\n",
    "internet_col_nulls"
   ]
  },
  {
   "cell_type": "markdown",
   "metadata": {},
   "source": [
    "More than 40% of values are null for arpu_2g/3g columns and count_rech_2g/3g columns. These can be dropped since we have volume based usage for 2g and 3g both."
   ]
  },
  {
   "cell_type": "code",
   "execution_count": 41,
   "metadata": {
    "ExecuteTime": {
     "end_time": "2019-08-25T12:53:35.422472Z",
     "start_time": "2019-08-25T12:53:35.357646Z"
    }
   },
   "outputs": [],
   "source": [
    "telecom_churn_data.drop(['count_rech_2g_6','count_rech_2g_7',\n",
    "              'count_rech_2g_8','count_rech_3g_6','count_rech_3g_7','count_rech_3g_8'\n",
    "               ,'arpu_3g_6','arpu_3g_7','arpu_3g_8','arpu_2g_6','arpu_2g_7','arpu_2g_8'],axis=1,inplace=True)"
   ]
  },
  {
   "cell_type": "markdown",
   "metadata": {},
   "source": [
    "#### Volume based usage columns"
   ]
  },
  {
   "cell_type": "code",
   "execution_count": 42,
   "metadata": {
    "ExecuteTime": {
     "end_time": "2019-08-25T12:53:35.597890Z",
     "start_time": "2019-08-25T12:53:35.424467Z"
    }
   },
   "outputs": [
    {
     "data": {
      "text/html": [
       "<div>\n",
       "<style scoped>\n",
       "    .dataframe tbody tr th:only-of-type {\n",
       "        vertical-align: middle;\n",
       "    }\n",
       "\n",
       "    .dataframe tbody tr th {\n",
       "        vertical-align: top;\n",
       "    }\n",
       "\n",
       "    .dataframe thead th {\n",
       "        text-align: right;\n",
       "    }\n",
       "</style>\n",
       "<table border=\"1\" class=\"dataframe\">\n",
       "  <thead>\n",
       "    <tr style=\"text-align: right;\">\n",
       "      <th></th>\n",
       "      <th>churn</th>\n",
       "      <th>vol_2g_mb_6</th>\n",
       "      <th>vol_2g_mb_7</th>\n",
       "      <th>vol_2g_mb_8</th>\n",
       "      <th>vol_3g_mb_6</th>\n",
       "      <th>vol_3g_mb_7</th>\n",
       "      <th>vol_3g_mb_8</th>\n",
       "    </tr>\n",
       "  </thead>\n",
       "  <tbody>\n",
       "    <tr>\n",
       "      <th>0</th>\n",
       "      <td>0</td>\n",
       "      <td>127.831</td>\n",
       "      <td>128.229</td>\n",
       "      <td>113.243</td>\n",
       "      <td>349.825</td>\n",
       "      <td>383.548</td>\n",
       "      <td>374.885</td>\n",
       "    </tr>\n",
       "    <tr>\n",
       "      <th>1</th>\n",
       "      <td>1</td>\n",
       "      <td>111.749</td>\n",
       "      <td>89.736</td>\n",
       "      <td>23.153</td>\n",
       "      <td>281.408</td>\n",
       "      <td>219.451</td>\n",
       "      <td>87.400</td>\n",
       "    </tr>\n",
       "  </tbody>\n",
       "</table>\n",
       "</div>"
      ],
      "text/plain": [
       "   churn  vol_2g_mb_6  vol_2g_mb_7  vol_2g_mb_8  vol_3g_mb_6  vol_3g_mb_7  \\\n",
       "0      0      127.831      128.229      113.243      349.825      383.548   \n",
       "1      1      111.749       89.736       23.153      281.408      219.451   \n",
       "\n",
       "   vol_3g_mb_8  \n",
       "0      374.885  \n",
       "1       87.400  "
      ]
     },
     "execution_count": 42,
     "metadata": {},
     "output_type": "execute_result"
    }
   ],
   "source": [
    "vol_cols = telecom_churn_data.columns[telecom_churn_data.columns.str.contains('vol')]\n",
    "\n",
    "vol_by_churn = pd.DataFrame(telecom_churn_data.groupby('churn',as_index=False)[vol_cols].mean())\n",
    "vol_by_churn"
   ]
  },
  {
   "cell_type": "markdown",
   "metadata": {},
   "source": [
    "It can be seen that the volume based usage decreases from the good phase to action phase for both, 2G and 3G usage. Plotting this to see the trend."
   ]
  },
  {
   "cell_type": "code",
   "execution_count": 43,
   "metadata": {
    "ExecuteTime": {
     "end_time": "2019-08-25T12:53:36.907711Z",
     "start_time": "2019-08-25T12:53:35.599883Z"
    }
   },
   "outputs": [
    {
     "data": {
      "text/plain": [
       "<Figure size 1152x504 with 0 Axes>"
      ]
     },
     "metadata": {},
     "output_type": "display_data"
    },
    {
     "data": {
      "image/png": "[encoded data removed]",
      "text/plain": [
       "<Figure size 1152x504 with 3 Axes>"
      ]
     },
     "metadata": {
      "needs_background": "light"
     },
     "output_type": "display_data"
    },
    {
     "data": {
      "text/plain": [
       "<Figure size 1152x504 with 0 Axes>"
      ]
     },
     "metadata": {},
     "output_type": "display_data"
    },
    {
     "data": {
      "image/png": "[encoded data removed]",
      "text/plain": [
       "<Figure size 1152x504 with 3 Axes>"
      ]
     },
     "metadata": {
      "needs_background": "light"
     },
     "output_type": "display_data"
    }
   ],
   "source": [
    "box_plot('vol_2g_mb', 'Volume Based Usage - 2G')\n",
    "box_plot('vol_3g_mb', 'Volume Based Usage - 3G')"
   ]
  },
  {
   "cell_type": "code",
   "execution_count": 44,
   "metadata": {
    "ExecuteTime": {
     "end_time": "2019-08-25T12:53:36.996474Z",
     "start_time": "2019-08-25T12:53:36.909705Z"
    }
   },
   "outputs": [],
   "source": [
    "# Since the trend is similar for 2G and 3G, We can combine these columns and derive a cumutative volume based usage (2g and 3g both)\n",
    "# Also, the features from 6th month and 7th month can be combined to derive good phase features\n",
    "telecom_churn_data['vol_mb_8'] = telecom_churn_data['vol_2g_mb_8']+telecom_churn_data['vol_3g_mb_8']\n",
    "\n",
    "telecom_churn_data['vol_mb_good_phase'] = (telecom_churn_data['vol_2g_mb_6']+telecom_churn_data['vol_3g_mb_6']+telecom_churn_data['vol_2g_mb_7']+telecom_churn_data['vol_3g_mb_7'])/2\n",
    "\n",
    "# dropping the original columns\n",
    "telecom_churn_data.drop(vol_cols,axis=1,inplace=True)"
   ]
  },
  {
   "cell_type": "markdown",
   "metadata": {},
   "source": [
    "#### Volume based cost"
   ]
  },
  {
   "cell_type": "code",
   "execution_count": 45,
   "metadata": {
    "ExecuteTime": {
     "end_time": "2019-08-25T12:53:37.119198Z",
     "start_time": "2019-08-25T12:53:36.999464Z"
    }
   },
   "outputs": [
    {
     "data": {
      "text/html": [
       "<div>\n",
       "<style scoped>\n",
       "    .dataframe tbody tr th:only-of-type {\n",
       "        vertical-align: middle;\n",
       "    }\n",
       "\n",
       "    .dataframe tbody tr th {\n",
       "        vertical-align: top;\n",
       "    }\n",
       "\n",
       "    .dataframe thead th {\n",
       "        text-align: right;\n",
       "    }\n",
       "</style>\n",
       "<table border=\"1\" class=\"dataframe\">\n",
       "  <thead>\n",
       "    <tr style=\"text-align: right;\">\n",
       "      <th></th>\n",
       "      <th>churn</th>\n",
       "      <th>vbc_3g_6</th>\n",
       "      <th>vbc_3g_7</th>\n",
       "      <th>vbc_3g_8</th>\n",
       "    </tr>\n",
       "  </thead>\n",
       "  <tbody>\n",
       "    <tr>\n",
       "      <th>0</th>\n",
       "      <td>0</td>\n",
       "      <td>162.370</td>\n",
       "      <td>186.206</td>\n",
       "      <td>180.501</td>\n",
       "    </tr>\n",
       "    <tr>\n",
       "      <th>1</th>\n",
       "      <td>1</td>\n",
       "      <td>115.097</td>\n",
       "      <td>96.076</td>\n",
       "      <td>40.852</td>\n",
       "    </tr>\n",
       "  </tbody>\n",
       "</table>\n",
       "</div>"
      ],
      "text/plain": [
       "   churn  vbc_3g_6  vbc_3g_7  vbc_3g_8\n",
       "0      0   162.370   186.206   180.501\n",
       "1      1   115.097    96.076    40.852"
      ]
     },
     "execution_count": 45,
     "metadata": {},
     "output_type": "execute_result"
    }
   ],
   "source": [
    "vbc_cols = telecom_churn_data.columns[telecom_churn_data.columns.str.contains('vbc')]\n",
    "vbc_by_churn = pd.DataFrame(telecom_churn_data.groupby('churn',as_index=False)[vbc_cols].mean()).reindex(columns=['churn','vbc_3g_6','vbc_3g_7','vbc_3g_8'])\n",
    "vbc_by_churn"
   ]
  },
  {
   "cell_type": "markdown",
   "metadata": {},
   "source": [
    "The trend is similar to other usage related features. The usage decreased in the action phase."
   ]
  },
  {
   "cell_type": "code",
   "execution_count": 46,
   "metadata": {
    "ExecuteTime": {
     "end_time": "2019-08-25T12:53:37.356557Z",
     "start_time": "2019-08-25T12:53:37.122185Z"
    }
   },
   "outputs": [],
   "source": [
    "# deriving good phase feature for vbc columns\n",
    "telecom_churn_data['vbc_3g_good_phase'] = (telecom_churn_data['vbc_3g_6']+telecom_churn_data['vbc_3g_7'])/2\n",
    "\n",
    "# dropping original columns\n",
    "telecom_churn_data.drop(['vbc_3g_6','vbc_3g_7'],axis=1,inplace=True)"
   ]
  },
  {
   "cell_type": "markdown",
   "metadata": {},
   "source": [
    "#### Monthly internet usages"
   ]
  },
  {
   "cell_type": "code",
   "execution_count": 47,
   "metadata": {
    "ExecuteTime": {
     "end_time": "2019-08-25T12:53:37.415413Z",
     "start_time": "2019-08-25T12:53:37.358553Z"
    }
   },
   "outputs": [
    {
     "data": {
      "text/html": [
       "<div>\n",
       "<style scoped>\n",
       "    .dataframe tbody tr th:only-of-type {\n",
       "        vertical-align: middle;\n",
       "    }\n",
       "\n",
       "    .dataframe tbody tr th {\n",
       "        vertical-align: top;\n",
       "    }\n",
       "\n",
       "    .dataframe thead th {\n",
       "        text-align: right;\n",
       "    }\n",
       "</style>\n",
       "<table border=\"1\" class=\"dataframe\">\n",
       "  <thead>\n",
       "    <tr style=\"text-align: right;\">\n",
       "      <th></th>\n",
       "      <th>churn</th>\n",
       "      <th>monthly_2g_6</th>\n",
       "      <th>monthly_2g_7</th>\n",
       "      <th>monthly_2g_8</th>\n",
       "      <th>monthly_3g_6</th>\n",
       "      <th>monthly_3g_7</th>\n",
       "      <th>monthly_3g_8</th>\n",
       "    </tr>\n",
       "  </thead>\n",
       "  <tbody>\n",
       "    <tr>\n",
       "      <th>0</th>\n",
       "      <td>0</td>\n",
       "      <td>0.182</td>\n",
       "      <td>0.193</td>\n",
       "      <td>0.165</td>\n",
       "      <td>0.220</td>\n",
       "      <td>0.237</td>\n",
       "      <td>0.225</td>\n",
       "    </tr>\n",
       "    <tr>\n",
       "      <th>1</th>\n",
       "      <td>1</td>\n",
       "      <td>0.093</td>\n",
       "      <td>0.071</td>\n",
       "      <td>0.023</td>\n",
       "      <td>0.197</td>\n",
       "      <td>0.144</td>\n",
       "      <td>0.057</td>\n",
       "    </tr>\n",
       "  </tbody>\n",
       "</table>\n",
       "</div>"
      ],
      "text/plain": [
       "   churn  monthly_2g_6  monthly_2g_7  monthly_2g_8  monthly_3g_6  \\\n",
       "0      0         0.182         0.193         0.165         0.220   \n",
       "1      1         0.093         0.071         0.023         0.197   \n",
       "\n",
       "   monthly_3g_7  monthly_3g_8  \n",
       "0         0.237         0.225  \n",
       "1         0.144         0.057  "
      ]
     },
     "execution_count": 47,
     "metadata": {},
     "output_type": "execute_result"
    }
   ],
   "source": [
    "monthly_cols = telecom_churn_data.columns[telecom_churn_data.columns.str.contains('monthly')]\n",
    "monthly_usage_by_churn = pd.DataFrame(telecom_churn_data.groupby('churn',as_index=False)[monthly_cols].mean())\n",
    "monthly_usage_by_churn"
   ]
  },
  {
   "cell_type": "markdown",
   "metadata": {},
   "source": [
    "The average monthly usage decreased for the action phase for both, 2G and 3G services."
   ]
  },
  {
   "cell_type": "code",
   "execution_count": 48,
   "metadata": {
    "ExecuteTime": {
     "end_time": "2019-08-25T12:53:37.608885Z",
     "start_time": "2019-08-25T12:53:37.420388Z"
    }
   },
   "outputs": [],
   "source": [
    "# deriving new combined feature for monthly services\n",
    "telecom_churn_data['monthly_2g3g_8'] = telecom_churn_data['monthly_2g_8']+telecom_churn_data['monthly_3g_8']\n",
    "\n",
    "telecom_churn_data['monthly_2g3g_good_phase'] = (telecom_churn_data['monthly_2g_6']+telecom_churn_data['monthly_2g_7']+telecom_churn_data['monthly_3g_6']+telecom_churn_data['monthly_3g_7'])/2\n",
    "\n",
    "# dropping the original columns\n",
    "telecom_churn_data.drop(monthly_cols,axis=1,inplace=True)"
   ]
  },
  {
   "cell_type": "markdown",
   "metadata": {},
   "source": [
    "#### Sachet recharges"
   ]
  },
  {
   "cell_type": "code",
   "execution_count": 49,
   "metadata": {
    "ExecuteTime": {
     "end_time": "2019-08-25T12:53:37.695912Z",
     "start_time": "2019-08-25T12:53:37.610880Z"
    }
   },
   "outputs": [
    {
     "data": {
      "text/html": [
       "<div>\n",
       "<style scoped>\n",
       "    .dataframe tbody tr th:only-of-type {\n",
       "        vertical-align: middle;\n",
       "    }\n",
       "\n",
       "    .dataframe tbody tr th {\n",
       "        vertical-align: top;\n",
       "    }\n",
       "\n",
       "    .dataframe thead th {\n",
       "        text-align: right;\n",
       "    }\n",
       "</style>\n",
       "<table border=\"1\" class=\"dataframe\">\n",
       "  <thead>\n",
       "    <tr style=\"text-align: right;\">\n",
       "      <th></th>\n",
       "      <th>churn</th>\n",
       "      <th>sachet_2g_6</th>\n",
       "      <th>sachet_2g_7</th>\n",
       "      <th>sachet_2g_8</th>\n",
       "      <th>sachet_3g_6</th>\n",
       "      <th>sachet_3g_7</th>\n",
       "      <th>sachet_3g_8</th>\n",
       "    </tr>\n",
       "  </thead>\n",
       "  <tbody>\n",
       "    <tr>\n",
       "      <th>0</th>\n",
       "      <td>0</td>\n",
       "      <td>1.069</td>\n",
       "      <td>1.244</td>\n",
       "      <td>1.124</td>\n",
       "      <td>0.206</td>\n",
       "      <td>0.228</td>\n",
       "      <td>0.215</td>\n",
       "    </tr>\n",
       "    <tr>\n",
       "      <th>1</th>\n",
       "      <td>1</td>\n",
       "      <td>1.029</td>\n",
       "      <td>0.878</td>\n",
       "      <td>0.270</td>\n",
       "      <td>0.244</td>\n",
       "      <td>0.221</td>\n",
       "      <td>0.065</td>\n",
       "    </tr>\n",
       "  </tbody>\n",
       "</table>\n",
       "</div>"
      ],
      "text/plain": [
       "   churn  sachet_2g_6  sachet_2g_7  sachet_2g_8  sachet_3g_6  sachet_3g_7  \\\n",
       "0      0        1.069        1.244        1.124        0.206        0.228   \n",
       "1      1        1.029        0.878        0.270        0.244        0.221   \n",
       "\n",
       "   sachet_3g_8  \n",
       "0        0.215  \n",
       "1        0.065  "
      ]
     },
     "execution_count": 49,
     "metadata": {},
     "output_type": "execute_result"
    }
   ],
   "source": [
    "sachet_cols = telecom_churn_data.columns[telecom_churn_data.columns.str.contains('sachet')]\n",
    "sachet_by_churn = pd.DataFrame(telecom_churn_data.groupby('churn',as_index=False)[sachet_cols].mean())\n",
    "sachet_by_churn"
   ]
  },
  {
   "cell_type": "code",
   "execution_count": 50,
   "metadata": {
    "ExecuteTime": {
     "end_time": "2019-08-25T12:53:37.903717Z",
     "start_time": "2019-08-25T12:53:37.697904Z"
    }
   },
   "outputs": [],
   "source": [
    "# we can derive good phase features and combine 2g/3g since both of them follow a decreasing trend\n",
    "telecom_churn_data['sachet_2g3g_8'] = telecom_churn_data['sachet_2g_8']+telecom_churn_data['sachet_3g_8']\n",
    "\n",
    "telecom_churn_data['sachet_2g3g_good_phase'] = (telecom_churn_data['sachet_2g_6']+telecom_churn_data['sachet_2g_7']+telecom_churn_data['sachet_3g_6']+telecom_churn_data['sachet_3g_7'])/2\n",
    "\n",
    "# dropping the original columns\n",
    "telecom_churn_data.drop(sachet_cols,axis=1,inplace=True)"
   ]
  },
  {
   "cell_type": "markdown",
   "metadata": {},
   "source": [
    "#### AON (Age on network)"
   ]
  },
  {
   "cell_type": "code",
   "execution_count": 51,
   "metadata": {
    "ExecuteTime": {
     "end_time": "2019-08-25T12:53:37.997858Z",
     "start_time": "2019-08-25T12:53:37.906712Z"
    }
   },
   "outputs": [
    {
     "data": {
      "text/plain": [
       "count   30001.000\n",
       "mean       40.312\n",
       "std        31.923\n",
       "min         6.000\n",
       "25%        15.333\n",
       "50%        28.200\n",
       "75%        58.533\n",
       "max       144.033\n",
       "Name: aon, dtype: float64"
      ]
     },
     "execution_count": 51,
     "metadata": {},
     "output_type": "execute_result"
    }
   ],
   "source": [
    "# Converting the age on network to months\n",
    "telecom_churn_data['aon'] = telecom_churn_data['aon']/30\n",
    "# Describing the column\n",
    "telecom_churn_data.aon.describe()"
   ]
  },
  {
   "cell_type": "markdown",
   "metadata": {},
   "source": [
    "- **Minimun** is 6 months."
   ]
  },
  {
   "cell_type": "code",
   "execution_count": 52,
   "metadata": {
    "ExecuteTime": {
     "end_time": "2019-08-25T12:53:38.465608Z",
     "start_time": "2019-08-25T12:53:38.000854Z"
    }
   },
   "outputs": [
    {
     "data": {
      "image/png": "[encoded data removed]",
      "text/plain": [
       "<Figure size 864x360 with 1 Axes>"
      ]
     },
     "metadata": {
      "needs_background": "light"
     },
     "output_type": "display_data"
    }
   ],
   "source": [
    "# Plotting the age on network by churn\n",
    "aon_bins = [0, 6, 12, 24, 60, 61]\n",
    "aon_labels = [ '0-6 Months', '6-12 Months', '1-2 Yrs', '2-5 Yrs', '5 Yrs and above']\n",
    "telecom_churn_data['aon_bin'] = pd.cut(telecom_churn_data['aon'], aon_bins, labels=aon_labels)\n",
    "\n",
    "aon_group = telecom_churn_data.groupby(['aon_bin','churn'])\n",
    "aon_df = pd.DataFrame(aon_group.aon.count()).unstack()\n",
    "\n",
    "aon_plot = aon_df.plot(kind='bar',title=\"Age on network by churn\",figsize=(12,5),rot=0)\n",
    "aon_plot.title.set_size(15)\n",
    "aon_plot.legend(['Not Churn','Churn'],bbox_to_anchor=(1.15, 1))\n",
    "aon_plot.set_xlabel(\"Age on Network\",fontsize=12,fontweight='bold')\n",
    "aon_plot.set_ylabel(\"No of Customers\",fontsize=12,fontweight='bold')\n",
    "telecom_churn_data.drop('aon_bin',axis=1,inplace=True)"
   ]
  },
  {
   "cell_type": "markdown",
   "metadata": {},
   "source": [
    "- %age of customers who churn is highest for those who have been with the network for 6-12 months\n",
    "- The number of customers who churn is the highest for customers who have been with the network for 1-2 yrs"
   ]
  },
  {
   "cell_type": "markdown",
   "metadata": {},
   "source": [
    "#### ARPU - Average revenue per user"
   ]
  },
  {
   "cell_type": "code",
   "execution_count": 53,
   "metadata": {
    "ExecuteTime": {
     "end_time": "2019-08-25T12:53:38.489544Z",
     "start_time": "2019-08-25T12:53:38.469598Z"
    }
   },
   "outputs": [
    {
     "data": {
      "text/html": [
       "<div>\n",
       "<style scoped>\n",
       "    .dataframe tbody tr th:only-of-type {\n",
       "        vertical-align: middle;\n",
       "    }\n",
       "\n",
       "    .dataframe tbody tr th {\n",
       "        vertical-align: top;\n",
       "    }\n",
       "\n",
       "    .dataframe thead th {\n",
       "        text-align: right;\n",
       "    }\n",
       "</style>\n",
       "<table border=\"1\" class=\"dataframe\">\n",
       "  <thead>\n",
       "    <tr style=\"text-align: right;\">\n",
       "      <th></th>\n",
       "      <th>churn</th>\n",
       "      <th>arpu_6</th>\n",
       "      <th>arpu_7</th>\n",
       "      <th>arpu_8</th>\n",
       "    </tr>\n",
       "  </thead>\n",
       "  <tbody>\n",
       "    <tr>\n",
       "      <th>0</th>\n",
       "      <td>0</td>\n",
       "      <td>549.220</td>\n",
       "      <td>562.608</td>\n",
       "      <td>532.636</td>\n",
       "    </tr>\n",
       "    <tr>\n",
       "      <th>1</th>\n",
       "      <td>1</td>\n",
       "      <td>663.158</td>\n",
       "      <td>540.166</td>\n",
       "      <td>237.201</td>\n",
       "    </tr>\n",
       "  </tbody>\n",
       "</table>\n",
       "</div>"
      ],
      "text/plain": [
       "   churn  arpu_6  arpu_7  arpu_8\n",
       "0      0 549.220 562.608 532.636\n",
       "1      1 663.158 540.166 237.201"
      ]
     },
     "execution_count": 53,
     "metadata": {},
     "output_type": "execute_result"
    }
   ],
   "source": [
    "arpu_cols = telecom_churn_data.columns[telecom_churn_data.columns.str.contains('arpu')]\n",
    "arpu_by_churn = pd.DataFrame(telecom_churn_data.groupby('churn',as_index=False)[arpu_cols].mean())\n",
    "arpu_by_churn"
   ]
  },
  {
   "cell_type": "markdown",
   "metadata": {},
   "source": [
    "The average revenue per user for the customers who churned drops drastically for the action month"
   ]
  },
  {
   "cell_type": "code",
   "execution_count": 54,
   "metadata": {
    "ExecuteTime": {
     "end_time": "2019-08-25T12:53:39.336283Z",
     "start_time": "2019-08-25T12:53:38.492537Z"
    }
   },
   "outputs": [
    {
     "data": {
      "text/plain": [
       "<Figure size 1152x504 with 0 Axes>"
      ]
     },
     "metadata": {},
     "output_type": "display_data"
    },
    {
     "data": {
      "image/png": "[encoded data removed]",
      "text/plain": [
       "<Figure size 1152x504 with 3 Axes>"
      ]
     },
     "metadata": {
      "needs_background": "light"
     },
     "output_type": "display_data"
    }
   ],
   "source": [
    "box_plot('arpu', 'Avg. Revenue Per User')"
   ]
  },
  {
   "cell_type": "code",
   "execution_count": 55,
   "metadata": {
    "ExecuteTime": {
     "end_time": "2019-08-25T12:53:39.430034Z",
     "start_time": "2019-08-25T12:53:39.341270Z"
    }
   },
   "outputs": [],
   "source": [
    "# deriving good phase features for arpu\n",
    "telecom_churn_data['arpu_good_phase'] = (telecom_churn_data['arpu_6']+telecom_churn_data['arpu_7'])/2\n",
    "\n",
    "# dropping original columns\n",
    "telecom_churn_data.drop(['arpu_6','arpu_7'],axis=1,inplace=True)"
   ]
  },
  {
   "cell_type": "markdown",
   "metadata": {},
   "source": [
    "#### Minutes of Usage related columns"
   ]
  },
  {
   "cell_type": "code",
   "execution_count": 56,
   "metadata": {
    "ExecuteTime": {
     "end_time": "2019-08-25T12:53:39.517891Z",
     "start_time": "2019-08-25T12:53:39.434022Z"
    }
   },
   "outputs": [
    {
     "data": {
      "text/plain": [
       "Index(['onnet_mou_6', 'onnet_mou_7', 'onnet_mou_8', 'offnet_mou_6',\n",
       "       'offnet_mou_7', 'offnet_mou_8', 'roam_ic_mou_6', 'roam_ic_mou_7',\n",
       "       'roam_ic_mou_8', 'roam_og_mou_6', 'roam_og_mou_7', 'roam_og_mou_8',\n",
       "       'loc_og_t2t_mou_6', 'loc_og_t2t_mou_7', 'loc_og_t2t_mou_8',\n",
       "       'loc_og_t2m_mou_6', 'loc_og_t2m_mou_7', 'loc_og_t2m_mou_8',\n",
       "       'loc_og_t2f_mou_6', 'loc_og_t2f_mou_7', 'loc_og_t2f_mou_8',\n",
       "       'loc_og_t2c_mou_6', 'loc_og_t2c_mou_7', 'loc_og_t2c_mou_8',\n",
       "       'loc_og_mou_6', 'loc_og_mou_7', 'loc_og_mou_8', 'std_og_t2t_mou_6',\n",
       "       'std_og_t2t_mou_7', 'std_og_t2t_mou_8', 'std_og_t2m_mou_6',\n",
       "       'std_og_t2m_mou_7', 'std_og_t2m_mou_8', 'std_og_t2f_mou_6',\n",
       "       'std_og_t2f_mou_7', 'std_og_t2f_mou_8', 'std_og_mou_6', 'std_og_mou_7',\n",
       "       'std_og_mou_8', 'isd_og_mou_6', 'isd_og_mou_7', 'isd_og_mou_8',\n",
       "       'spl_og_mou_6', 'spl_og_mou_7', 'spl_og_mou_8', 'total_og_mou_6',\n",
       "       'total_og_mou_7', 'total_og_mou_8', 'loc_ic_t2t_mou_6',\n",
       "       'loc_ic_t2t_mou_7', 'loc_ic_t2t_mou_8', 'loc_ic_t2m_mou_6',\n",
       "       'loc_ic_t2m_mou_7', 'loc_ic_t2m_mou_8', 'loc_ic_t2f_mou_6',\n",
       "       'loc_ic_t2f_mou_7', 'loc_ic_t2f_mou_8', 'loc_ic_mou_6', 'loc_ic_mou_7',\n",
       "       'loc_ic_mou_8', 'std_ic_t2t_mou_6', 'std_ic_t2t_mou_7',\n",
       "       'std_ic_t2t_mou_8', 'std_ic_t2m_mou_6', 'std_ic_t2m_mou_7',\n",
       "       'std_ic_t2m_mou_8', 'std_ic_t2f_mou_6', 'std_ic_t2f_mou_7',\n",
       "       'std_ic_t2f_mou_8', 'std_ic_mou_6', 'std_ic_mou_7', 'std_ic_mou_8',\n",
       "       'total_ic_mou_6', 'total_ic_mou_7', 'total_ic_mou_8', 'spl_ic_mou_6',\n",
       "       'spl_ic_mou_7', 'spl_ic_mou_8', 'isd_ic_mou_6', 'isd_ic_mou_7',\n",
       "       'isd_ic_mou_8'],\n",
       "      dtype='object')"
      ]
     },
     "execution_count": 56,
     "metadata": {},
     "output_type": "execute_result"
    }
   ],
   "source": [
    "mou_cols = telecom_churn_data.columns[telecom_churn_data.columns.str.contains('mou')]\n",
    "mou_cols"
   ]
  },
  {
   "cell_type": "code",
   "execution_count": 57,
   "metadata": {
    "ExecuteTime": {
     "end_time": "2019-08-25T12:53:39.756441Z",
     "start_time": "2019-08-25T12:53:39.519883Z"
    },
    "scrolled": false
   },
   "outputs": [
    {
     "data": {
      "text/html": [
       "<div>\n",
       "<style scoped>\n",
       "    .dataframe tbody tr th:only-of-type {\n",
       "        vertical-align: middle;\n",
       "    }\n",
       "\n",
       "    .dataframe tbody tr th {\n",
       "        vertical-align: top;\n",
       "    }\n",
       "\n",
       "    .dataframe thead th {\n",
       "        text-align: right;\n",
       "    }\n",
       "</style>\n",
       "<table border=\"1\" class=\"dataframe\">\n",
       "  <thead>\n",
       "    <tr style=\"text-align: right;\">\n",
       "      <th></th>\n",
       "      <th>column_name</th>\n",
       "      <th>percent_missing</th>\n",
       "    </tr>\n",
       "  </thead>\n",
       "  <tbody>\n",
       "    <tr>\n",
       "      <th>80</th>\n",
       "      <td>isd_ic_mou_8</td>\n",
       "      <td>3.913</td>\n",
       "    </tr>\n",
       "    <tr>\n",
       "      <th>50</th>\n",
       "      <td>loc_ic_t2t_mou_8</td>\n",
       "      <td>3.913</td>\n",
       "    </tr>\n",
       "    <tr>\n",
       "      <th>53</th>\n",
       "      <td>loc_ic_t2m_mou_8</td>\n",
       "      <td>3.913</td>\n",
       "    </tr>\n",
       "    <tr>\n",
       "      <th>29</th>\n",
       "      <td>std_og_t2t_mou_8</td>\n",
       "      <td>3.913</td>\n",
       "    </tr>\n",
       "    <tr>\n",
       "      <th>23</th>\n",
       "      <td>loc_og_t2c_mou_8</td>\n",
       "      <td>3.913</td>\n",
       "    </tr>\n",
       "    <tr>\n",
       "      <th>56</th>\n",
       "      <td>loc_ic_t2f_mou_8</td>\n",
       "      <td>3.913</td>\n",
       "    </tr>\n",
       "    <tr>\n",
       "      <th>20</th>\n",
       "      <td>loc_og_t2f_mou_8</td>\n",
       "      <td>3.913</td>\n",
       "    </tr>\n",
       "    <tr>\n",
       "      <th>59</th>\n",
       "      <td>loc_ic_mou_8</td>\n",
       "      <td>3.913</td>\n",
       "    </tr>\n",
       "    <tr>\n",
       "      <th>38</th>\n",
       "      <td>std_og_mou_8</td>\n",
       "      <td>3.913</td>\n",
       "    </tr>\n",
       "    <tr>\n",
       "      <th>17</th>\n",
       "      <td>loc_og_t2m_mou_8</td>\n",
       "      <td>3.913</td>\n",
       "    </tr>\n",
       "    <tr>\n",
       "      <th>62</th>\n",
       "      <td>std_ic_t2t_mou_8</td>\n",
       "      <td>3.913</td>\n",
       "    </tr>\n",
       "    <tr>\n",
       "      <th>44</th>\n",
       "      <td>spl_og_mou_8</td>\n",
       "      <td>3.913</td>\n",
       "    </tr>\n",
       "    <tr>\n",
       "      <th>14</th>\n",
       "      <td>loc_og_t2t_mou_8</td>\n",
       "      <td>3.913</td>\n",
       "    </tr>\n",
       "    <tr>\n",
       "      <th>65</th>\n",
       "      <td>std_ic_t2m_mou_8</td>\n",
       "      <td>3.913</td>\n",
       "    </tr>\n",
       "    <tr>\n",
       "      <th>32</th>\n",
       "      <td>std_og_t2m_mou_8</td>\n",
       "      <td>3.913</td>\n",
       "    </tr>\n",
       "    <tr>\n",
       "      <th>11</th>\n",
       "      <td>roam_og_mou_8</td>\n",
       "      <td>3.913</td>\n",
       "    </tr>\n",
       "    <tr>\n",
       "      <th>68</th>\n",
       "      <td>std_ic_t2f_mou_8</td>\n",
       "      <td>3.913</td>\n",
       "    </tr>\n",
       "    <tr>\n",
       "      <th>8</th>\n",
       "      <td>roam_ic_mou_8</td>\n",
       "      <td>3.913</td>\n",
       "    </tr>\n",
       "    <tr>\n",
       "      <th>71</th>\n",
       "      <td>std_ic_mou_8</td>\n",
       "      <td>3.913</td>\n",
       "    </tr>\n",
       "    <tr>\n",
       "      <th>41</th>\n",
       "      <td>isd_og_mou_8</td>\n",
       "      <td>3.913</td>\n",
       "    </tr>\n",
       "    <tr>\n",
       "      <th>5</th>\n",
       "      <td>offnet_mou_8</td>\n",
       "      <td>3.913</td>\n",
       "    </tr>\n",
       "    <tr>\n",
       "      <th>77</th>\n",
       "      <td>spl_ic_mou_8</td>\n",
       "      <td>3.913</td>\n",
       "    </tr>\n",
       "    <tr>\n",
       "      <th>35</th>\n",
       "      <td>std_og_t2f_mou_8</td>\n",
       "      <td>3.913</td>\n",
       "    </tr>\n",
       "    <tr>\n",
       "      <th>2</th>\n",
       "      <td>onnet_mou_8</td>\n",
       "      <td>3.913</td>\n",
       "    </tr>\n",
       "    <tr>\n",
       "      <th>26</th>\n",
       "      <td>loc_og_mou_8</td>\n",
       "      <td>3.913</td>\n",
       "    </tr>\n",
       "    <tr>\n",
       "      <th>42</th>\n",
       "      <td>spl_og_mou_6</td>\n",
       "      <td>1.817</td>\n",
       "    </tr>\n",
       "    <tr>\n",
       "      <th>48</th>\n",
       "      <td>loc_ic_t2t_mou_6</td>\n",
       "      <td>1.817</td>\n",
       "    </tr>\n",
       "    <tr>\n",
       "      <th>60</th>\n",
       "      <td>std_ic_t2t_mou_6</td>\n",
       "      <td>1.817</td>\n",
       "    </tr>\n",
       "    <tr>\n",
       "      <th>51</th>\n",
       "      <td>loc_ic_t2m_mou_6</td>\n",
       "      <td>1.817</td>\n",
       "    </tr>\n",
       "    <tr>\n",
       "      <th>54</th>\n",
       "      <td>loc_ic_t2f_mou_6</td>\n",
       "      <td>1.817</td>\n",
       "    </tr>\n",
       "    <tr>\n",
       "      <th>57</th>\n",
       "      <td>loc_ic_mou_6</td>\n",
       "      <td>1.817</td>\n",
       "    </tr>\n",
       "    <tr>\n",
       "      <th>63</th>\n",
       "      <td>std_ic_t2m_mou_6</td>\n",
       "      <td>1.817</td>\n",
       "    </tr>\n",
       "    <tr>\n",
       "      <th>66</th>\n",
       "      <td>std_ic_t2f_mou_6</td>\n",
       "      <td>1.817</td>\n",
       "    </tr>\n",
       "    <tr>\n",
       "      <th>69</th>\n",
       "      <td>std_ic_mou_6</td>\n",
       "      <td>1.817</td>\n",
       "    </tr>\n",
       "    <tr>\n",
       "      <th>75</th>\n",
       "      <td>spl_ic_mou_6</td>\n",
       "      <td>1.817</td>\n",
       "    </tr>\n",
       "    <tr>\n",
       "      <th>78</th>\n",
       "      <td>isd_ic_mou_6</td>\n",
       "      <td>1.817</td>\n",
       "    </tr>\n",
       "    <tr>\n",
       "      <th>39</th>\n",
       "      <td>isd_og_mou_6</td>\n",
       "      <td>1.817</td>\n",
       "    </tr>\n",
       "    <tr>\n",
       "      <th>0</th>\n",
       "      <td>onnet_mou_6</td>\n",
       "      <td>1.817</td>\n",
       "    </tr>\n",
       "    <tr>\n",
       "      <th>9</th>\n",
       "      <td>roam_og_mou_6</td>\n",
       "      <td>1.817</td>\n",
       "    </tr>\n",
       "    <tr>\n",
       "      <th>30</th>\n",
       "      <td>std_og_t2m_mou_6</td>\n",
       "      <td>1.817</td>\n",
       "    </tr>\n",
       "    <tr>\n",
       "      <th>36</th>\n",
       "      <td>std_og_mou_6</td>\n",
       "      <td>1.817</td>\n",
       "    </tr>\n",
       "    <tr>\n",
       "      <th>15</th>\n",
       "      <td>loc_og_t2m_mou_6</td>\n",
       "      <td>1.817</td>\n",
       "    </tr>\n",
       "    <tr>\n",
       "      <th>21</th>\n",
       "      <td>loc_og_t2c_mou_6</td>\n",
       "      <td>1.817</td>\n",
       "    </tr>\n",
       "    <tr>\n",
       "      <th>24</th>\n",
       "      <td>loc_og_mou_6</td>\n",
       "      <td>1.817</td>\n",
       "    </tr>\n",
       "    <tr>\n",
       "      <th>12</th>\n",
       "      <td>loc_og_t2t_mou_6</td>\n",
       "      <td>1.817</td>\n",
       "    </tr>\n",
       "    <tr>\n",
       "      <th>27</th>\n",
       "      <td>std_og_t2t_mou_6</td>\n",
       "      <td>1.817</td>\n",
       "    </tr>\n",
       "    <tr>\n",
       "      <th>18</th>\n",
       "      <td>loc_og_t2f_mou_6</td>\n",
       "      <td>1.817</td>\n",
       "    </tr>\n",
       "    <tr>\n",
       "      <th>6</th>\n",
       "      <td>roam_ic_mou_6</td>\n",
       "      <td>1.817</td>\n",
       "    </tr>\n",
       "    <tr>\n",
       "      <th>33</th>\n",
       "      <td>std_og_t2f_mou_6</td>\n",
       "      <td>1.817</td>\n",
       "    </tr>\n",
       "    <tr>\n",
       "      <th>3</th>\n",
       "      <td>offnet_mou_6</td>\n",
       "      <td>1.817</td>\n",
       "    </tr>\n",
       "    <tr>\n",
       "      <th>70</th>\n",
       "      <td>std_ic_mou_7</td>\n",
       "      <td>1.790</td>\n",
       "    </tr>\n",
       "    <tr>\n",
       "      <th>7</th>\n",
       "      <td>roam_ic_mou_7</td>\n",
       "      <td>1.790</td>\n",
       "    </tr>\n",
       "    <tr>\n",
       "      <th>16</th>\n",
       "      <td>loc_og_t2m_mou_7</td>\n",
       "      <td>1.790</td>\n",
       "    </tr>\n",
       "    <tr>\n",
       "      <th>10</th>\n",
       "      <td>roam_og_mou_7</td>\n",
       "      <td>1.790</td>\n",
       "    </tr>\n",
       "    <tr>\n",
       "      <th>67</th>\n",
       "      <td>std_ic_t2f_mou_7</td>\n",
       "      <td>1.790</td>\n",
       "    </tr>\n",
       "    <tr>\n",
       "      <th>76</th>\n",
       "      <td>spl_ic_mou_7</td>\n",
       "      <td>1.790</td>\n",
       "    </tr>\n",
       "    <tr>\n",
       "      <th>4</th>\n",
       "      <td>offnet_mou_7</td>\n",
       "      <td>1.790</td>\n",
       "    </tr>\n",
       "    <tr>\n",
       "      <th>13</th>\n",
       "      <td>loc_og_t2t_mou_7</td>\n",
       "      <td>1.790</td>\n",
       "    </tr>\n",
       "    <tr>\n",
       "      <th>64</th>\n",
       "      <td>std_ic_t2m_mou_7</td>\n",
       "      <td>1.790</td>\n",
       "    </tr>\n",
       "    <tr>\n",
       "      <th>79</th>\n",
       "      <td>isd_ic_mou_7</td>\n",
       "      <td>1.790</td>\n",
       "    </tr>\n",
       "    <tr>\n",
       "      <th>37</th>\n",
       "      <td>std_og_mou_7</td>\n",
       "      <td>1.790</td>\n",
       "    </tr>\n",
       "    <tr>\n",
       "      <th>19</th>\n",
       "      <td>loc_og_t2f_mou_7</td>\n",
       "      <td>1.790</td>\n",
       "    </tr>\n",
       "    <tr>\n",
       "      <th>61</th>\n",
       "      <td>std_ic_t2t_mou_7</td>\n",
       "      <td>1.790</td>\n",
       "    </tr>\n",
       "    <tr>\n",
       "      <th>49</th>\n",
       "      <td>loc_ic_t2t_mou_7</td>\n",
       "      <td>1.790</td>\n",
       "    </tr>\n",
       "    <tr>\n",
       "      <th>1</th>\n",
       "      <td>onnet_mou_7</td>\n",
       "      <td>1.790</td>\n",
       "    </tr>\n",
       "    <tr>\n",
       "      <th>34</th>\n",
       "      <td>std_og_t2f_mou_7</td>\n",
       "      <td>1.790</td>\n",
       "    </tr>\n",
       "    <tr>\n",
       "      <th>43</th>\n",
       "      <td>spl_og_mou_7</td>\n",
       "      <td>1.790</td>\n",
       "    </tr>\n",
       "    <tr>\n",
       "      <th>31</th>\n",
       "      <td>std_og_t2m_mou_7</td>\n",
       "      <td>1.790</td>\n",
       "    </tr>\n",
       "    <tr>\n",
       "      <th>58</th>\n",
       "      <td>loc_ic_mou_7</td>\n",
       "      <td>1.790</td>\n",
       "    </tr>\n",
       "    <tr>\n",
       "      <th>40</th>\n",
       "      <td>isd_og_mou_7</td>\n",
       "      <td>1.790</td>\n",
       "    </tr>\n",
       "    <tr>\n",
       "      <th>28</th>\n",
       "      <td>std_og_t2t_mou_7</td>\n",
       "      <td>1.790</td>\n",
       "    </tr>\n",
       "    <tr>\n",
       "      <th>52</th>\n",
       "      <td>loc_ic_t2m_mou_7</td>\n",
       "      <td>1.790</td>\n",
       "    </tr>\n",
       "    <tr>\n",
       "      <th>25</th>\n",
       "      <td>loc_og_mou_7</td>\n",
       "      <td>1.790</td>\n",
       "    </tr>\n",
       "    <tr>\n",
       "      <th>55</th>\n",
       "      <td>loc_ic_t2f_mou_7</td>\n",
       "      <td>1.790</td>\n",
       "    </tr>\n",
       "    <tr>\n",
       "      <th>22</th>\n",
       "      <td>loc_og_t2c_mou_7</td>\n",
       "      <td>1.790</td>\n",
       "    </tr>\n",
       "    <tr>\n",
       "      <th>47</th>\n",
       "      <td>total_og_mou_8</td>\n",
       "      <td>0.000</td>\n",
       "    </tr>\n",
       "    <tr>\n",
       "      <th>72</th>\n",
       "      <td>total_ic_mou_6</td>\n",
       "      <td>0.000</td>\n",
       "    </tr>\n",
       "    <tr>\n",
       "      <th>73</th>\n",
       "      <td>total_ic_mou_7</td>\n",
       "      <td>0.000</td>\n",
       "    </tr>\n",
       "    <tr>\n",
       "      <th>74</th>\n",
       "      <td>total_ic_mou_8</td>\n",
       "      <td>0.000</td>\n",
       "    </tr>\n",
       "    <tr>\n",
       "      <th>45</th>\n",
       "      <td>total_og_mou_6</td>\n",
       "      <td>0.000</td>\n",
       "    </tr>\n",
       "    <tr>\n",
       "      <th>46</th>\n",
       "      <td>total_og_mou_7</td>\n",
       "      <td>0.000</td>\n",
       "    </tr>\n",
       "  </tbody>\n",
       "</table>\n",
       "</div>"
      ],
      "text/plain": [
       "         column_name  percent_missing\n",
       "80      isd_ic_mou_8            3.913\n",
       "50  loc_ic_t2t_mou_8            3.913\n",
       "53  loc_ic_t2m_mou_8            3.913\n",
       "29  std_og_t2t_mou_8            3.913\n",
       "23  loc_og_t2c_mou_8            3.913\n",
       "56  loc_ic_t2f_mou_8            3.913\n",
       "20  loc_og_t2f_mou_8            3.913\n",
       "59      loc_ic_mou_8            3.913\n",
       "38      std_og_mou_8            3.913\n",
       "17  loc_og_t2m_mou_8            3.913\n",
       "62  std_ic_t2t_mou_8            3.913\n",
       "44      spl_og_mou_8            3.913\n",
       "14  loc_og_t2t_mou_8            3.913\n",
       "65  std_ic_t2m_mou_8            3.913\n",
       "32  std_og_t2m_mou_8            3.913\n",
       "11     roam_og_mou_8            3.913\n",
       "68  std_ic_t2f_mou_8            3.913\n",
       "8      roam_ic_mou_8            3.913\n",
       "71      std_ic_mou_8            3.913\n",
       "41      isd_og_mou_8            3.913\n",
       "5       offnet_mou_8            3.913\n",
       "77      spl_ic_mou_8            3.913\n",
       "35  std_og_t2f_mou_8            3.913\n",
       "2        onnet_mou_8            3.913\n",
       "26      loc_og_mou_8            3.913\n",
       "42      spl_og_mou_6            1.817\n",
       "48  loc_ic_t2t_mou_6            1.817\n",
       "60  std_ic_t2t_mou_6            1.817\n",
       "51  loc_ic_t2m_mou_6            1.817\n",
       "54  loc_ic_t2f_mou_6            1.817\n",
       "57      loc_ic_mou_6            1.817\n",
       "63  std_ic_t2m_mou_6            1.817\n",
       "66  std_ic_t2f_mou_6            1.817\n",
       "69      std_ic_mou_6            1.817\n",
       "75      spl_ic_mou_6            1.817\n",
       "78      isd_ic_mou_6            1.817\n",
       "39      isd_og_mou_6            1.817\n",
       "0        onnet_mou_6            1.817\n",
       "9      roam_og_mou_6            1.817\n",
       "30  std_og_t2m_mou_6            1.817\n",
       "36      std_og_mou_6            1.817\n",
       "15  loc_og_t2m_mou_6            1.817\n",
       "21  loc_og_t2c_mou_6            1.817\n",
       "24      loc_og_mou_6            1.817\n",
       "12  loc_og_t2t_mou_6            1.817\n",
       "27  std_og_t2t_mou_6            1.817\n",
       "18  loc_og_t2f_mou_6            1.817\n",
       "6      roam_ic_mou_6            1.817\n",
       "33  std_og_t2f_mou_6            1.817\n",
       "3       offnet_mou_6            1.817\n",
       "70      std_ic_mou_7            1.790\n",
       "7      roam_ic_mou_7            1.790\n",
       "16  loc_og_t2m_mou_7            1.790\n",
       "10     roam_og_mou_7            1.790\n",
       "67  std_ic_t2f_mou_7            1.790\n",
       "76      spl_ic_mou_7            1.790\n",
       "4       offnet_mou_7            1.790\n",
       "13  loc_og_t2t_mou_7            1.790\n",
       "64  std_ic_t2m_mou_7            1.790\n",
       "79      isd_ic_mou_7            1.790\n",
       "37      std_og_mou_7            1.790\n",
       "19  loc_og_t2f_mou_7            1.790\n",
       "61  std_ic_t2t_mou_7            1.790\n",
       "49  loc_ic_t2t_mou_7            1.790\n",
       "1        onnet_mou_7            1.790\n",
       "34  std_og_t2f_mou_7            1.790\n",
       "43      spl_og_mou_7            1.790\n",
       "31  std_og_t2m_mou_7            1.790\n",
       "58      loc_ic_mou_7            1.790\n",
       "40      isd_og_mou_7            1.790\n",
       "28  std_og_t2t_mou_7            1.790\n",
       "52  loc_ic_t2m_mou_7            1.790\n",
       "25      loc_og_mou_7            1.790\n",
       "55  loc_ic_t2f_mou_7            1.790\n",
       "22  loc_og_t2c_mou_7            1.790\n",
       "47    total_og_mou_8            0.000\n",
       "72    total_ic_mou_6            0.000\n",
       "73    total_ic_mou_7            0.000\n",
       "74    total_ic_mou_8            0.000\n",
       "45    total_og_mou_6            0.000\n",
       "46    total_og_mou_7            0.000"
      ]
     },
     "execution_count": 57,
     "metadata": {},
     "output_type": "execute_result"
    }
   ],
   "source": [
    "# checking the null value %ages for these columns\n",
    "mou_nulls = col_wise_null(telecom_churn_data[mou_cols])\n",
    "mou_nulls.sort_values(by='percent_missing',ascending=False)"
   ]
  },
  {
   "cell_type": "markdown",
   "metadata": {},
   "source": [
    "The null value %age for these colums ranges from 1.79 to 3.9%. Also, the columns with total values of incoming and outgoing calls do not have any null values. It implies that for the mou columns, a null value means that the corresponding service was not used at all by the customer. It can be imputed with 0."
   ]
  },
  {
   "cell_type": "code",
   "execution_count": 58,
   "metadata": {
    "ExecuteTime": {
     "end_time": "2019-08-25T12:53:39.912180Z",
     "start_time": "2019-08-25T12:53:39.759401Z"
    }
   },
   "outputs": [],
   "source": [
    "telecom_churn_data[mou_cols] = telecom_churn_data[mou_cols].fillna(0)"
   ]
  },
  {
   "cell_type": "markdown",
   "metadata": {},
   "source": [
    "It can be seen that the following relationship holds for the outgoing and incoming usage related columns\n",
    "\n",
    "* total_og_mou = loc_og_mou + std_og_mou + spl_og_mou + isd_og_mou + roam_og_mou + og_others\n",
    "* std_og_mou = std_og_t2m_mou + std_og_t2t_mou + std_og_t2f_mou + std_og_2tc_mou\n",
    "* loc_og_mou = loc_og_t2m_mou + loc_og_t2t_mou + loc_og_t2f_mou + loc_og_2tc_mou\n",
    "* total_ic_mou = loc_ic_mou + std_ic_mou + roam_ic_mou + isd_ic_mou + spl_ic_mou + ic_others\n",
    "* loc_ic_mou = loc_ic_t2t_mou + loc_ic_t2m_mou+loc_ic_t2f_mou+loc_ic_t2c_mou\n",
    "* std_ic_mou = std_ic_t2t_mou + std_ic_t2m_mou + std_ic_t2f_mou+std_ic_t2c_mou\n",
    "\n",
    "We can drop the composite columns. But first we'll validate it for just one month to make sure."
   ]
  },
  {
   "cell_type": "code",
   "execution_count": 59,
   "metadata": {
    "ExecuteTime": {
     "end_time": "2019-08-25T12:53:40.003363Z",
     "start_time": "2019-08-25T12:53:39.915175Z"
    }
   },
   "outputs": [],
   "source": [
    "ic_og_composite_cols = telecom_churn_data.columns[telecom_churn_data.columns.str.contains('total_og_mou|total_ic_mou|std_og_mou|std_ic_mou|loc_og_mou|loc_ic_mou')]\n",
    "telecom_churn_data.drop(ic_og_composite_cols,axis=1,inplace=True)"
   ]
  },
  {
   "cell_type": "code",
   "execution_count": 60,
   "metadata": {
    "ExecuteTime": {
     "end_time": "2019-08-25T12:53:40.349204Z",
     "start_time": "2019-08-25T12:53:40.005357Z"
    }
   },
   "outputs": [],
   "source": [
    "# Deriving good phase features for mou columns\n",
    "\n",
    "# outgoing minutes of usage\n",
    "telecom_churn_data['spl_og_mou_good_phase'] = (telecom_churn_data.spl_og_mou_6 + telecom_churn_data.spl_og_mou_7)/2\n",
    "telecom_churn_data['isd_og_mou_good_phase'] = (telecom_churn_data.isd_og_mou_6 + telecom_churn_data.isd_og_mou_7)/2\n",
    "telecom_churn_data['roam_og_mou_good_phase'] = (telecom_churn_data.roam_og_mou_6 + telecom_churn_data.roam_og_mou_7)/2\n",
    "\n",
    "telecom_churn_data['std_og_t2m_mou_good_phase'] = (telecom_churn_data.std_og_t2m_mou_6 + telecom_churn_data.std_og_t2m_mou_7)/2\n",
    "telecom_churn_data['std_og_t2t_mou_good_phase'] = (telecom_churn_data.std_og_t2t_mou_6 + telecom_churn_data.std_og_t2t_mou_7)/2\n",
    "telecom_churn_data['std_og_t2f_mou_good_phase'] = (telecom_churn_data.std_og_t2f_mou_6 + telecom_churn_data.std_og_t2f_mou_7)/2\n",
    "\n",
    "telecom_churn_data['loc_og_t2m_mou_good_phase'] = (telecom_churn_data.loc_og_t2m_mou_6 + telecom_churn_data.loc_og_t2m_mou_7)/2\n",
    "telecom_churn_data['loc_og_t2t_mou_good_phase'] = (telecom_churn_data.loc_og_t2t_mou_6 + telecom_churn_data.loc_og_t2t_mou_7)/2\n",
    "telecom_churn_data['loc_og_t2f_mou_good_phase'] = (telecom_churn_data.loc_og_t2f_mou_6 + telecom_churn_data.loc_og_t2f_mou_7)/2\n",
    "telecom_churn_data['loc_og_t2c_mou_good_phase'] = (telecom_churn_data.loc_og_t2c_mou_6 + telecom_churn_data.loc_og_t2c_mou_7)/2\n",
    "\n",
    "telecom_churn_data['spl_ic_mou_good_phase'] = (telecom_churn_data.spl_ic_mou_6 + telecom_churn_data.spl_ic_mou_7)/2\n",
    "telecom_churn_data['isd_ic_mou_good_phase'] = (telecom_churn_data.isd_ic_mou_6 + telecom_churn_data.isd_ic_mou_7)/2\n",
    "telecom_churn_data['roam_ic_mou_good_phase'] = (telecom_churn_data.roam_ic_mou_6 + telecom_churn_data.roam_ic_mou_7)/2\n",
    "\n",
    "telecom_churn_data['std_ic_t2m_mou_good_phase'] = (telecom_churn_data.std_ic_t2m_mou_6 + telecom_churn_data.std_ic_t2m_mou_7)/2\n",
    "telecom_churn_data['std_ic_t2t_mou_good_phase'] = (telecom_churn_data.std_ic_t2t_mou_6 + telecom_churn_data.std_ic_t2t_mou_7)/2\n",
    "telecom_churn_data['std_ic_t2f_mou_good_phase'] = (telecom_churn_data.std_ic_t2f_mou_6 + telecom_churn_data.std_ic_t2f_mou_7)/2\n",
    "\n",
    "telecom_churn_data['loc_ic_t2m_mou_good_phase'] = (telecom_churn_data.loc_ic_t2m_mou_6 + telecom_churn_data.loc_ic_t2m_mou_7)/2\n",
    "telecom_churn_data['loc_ic_t2t_mou_good_phase'] = (telecom_churn_data.loc_ic_t2t_mou_6 + telecom_churn_data.loc_ic_t2t_mou_7)/2\n",
    "telecom_churn_data['loc_ic_t2f_mou_good_phase'] = (telecom_churn_data.loc_ic_t2f_mou_6 + telecom_churn_data.loc_ic_t2f_mou_7)/2\n",
    "\n",
    "# dropping incoming and outgoing mou columns for 6th and 7th month\n",
    "mou6_7_cols = telecom_churn_data.columns[telecom_churn_data.columns.str.contains('.*_ic_.*mou_6|.*_ic_.*mou_7|.*_og_.*mou_6|.*_og_.*mou_7',regex=True)]\n",
    "telecom_churn_data.drop(mou6_7_cols,axis=1,inplace=True)"
   ]
  },
  {
   "cell_type": "markdown",
   "metadata": {},
   "source": [
    "#### On-net and Off-net usage"
   ]
  },
  {
   "cell_type": "code",
   "execution_count": 61,
   "metadata": {
    "ExecuteTime": {
     "end_time": "2019-08-25T12:53:40.544213Z",
     "start_time": "2019-08-25T12:53:40.352162Z"
    }
   },
   "outputs": [
    {
     "data": {
      "text/plain": [
       "Index(['onnet_mou_6', 'onnet_mou_7', 'onnet_mou_8', 'offnet_mou_6',\n",
       "       'offnet_mou_7', 'offnet_mou_8'],\n",
       "      dtype='object')"
      ]
     },
     "execution_count": 61,
     "metadata": {},
     "output_type": "execute_result"
    }
   ],
   "source": [
    "on_off_net_cols = telecom_churn_data.columns[telecom_churn_data.columns.str.contains('onnet|offnet')]\n",
    "on_off_net_cols"
   ]
  },
  {
   "cell_type": "code",
   "execution_count": 62,
   "metadata": {
    "ExecuteTime": {
     "end_time": "2019-08-25T12:53:40.778652Z",
     "start_time": "2019-08-25T12:53:40.548168Z"
    }
   },
   "outputs": [
    {
     "data": {
      "text/html": [
       "<div>\n",
       "<style scoped>\n",
       "    .dataframe tbody tr th:only-of-type {\n",
       "        vertical-align: middle;\n",
       "    }\n",
       "\n",
       "    .dataframe tbody tr th {\n",
       "        vertical-align: top;\n",
       "    }\n",
       "\n",
       "    .dataframe thead th {\n",
       "        text-align: right;\n",
       "    }\n",
       "</style>\n",
       "<table border=\"1\" class=\"dataframe\">\n",
       "  <thead>\n",
       "    <tr style=\"text-align: right;\">\n",
       "      <th></th>\n",
       "      <th>churn</th>\n",
       "      <th>onnet_mou_6</th>\n",
       "      <th>onnet_mou_7</th>\n",
       "      <th>onnet_mou_8</th>\n",
       "      <th>offnet_mou_6</th>\n",
       "      <th>offnet_mou_7</th>\n",
       "      <th>offnet_mou_8</th>\n",
       "    </tr>\n",
       "  </thead>\n",
       "  <tbody>\n",
       "    <tr>\n",
       "      <th>0</th>\n",
       "      <td>0</td>\n",
       "      <td>251.204</td>\n",
       "      <td>265.641</td>\n",
       "      <td>244.819</td>\n",
       "      <td>365.046</td>\n",
       "      <td>377.810</td>\n",
       "      <td>352.510</td>\n",
       "    </tr>\n",
       "    <tr>\n",
       "      <th>1</th>\n",
       "      <td>1</td>\n",
       "      <td>369.058</td>\n",
       "      <td>292.408</td>\n",
       "      <td>113.227</td>\n",
       "      <td>471.331</td>\n",
       "      <td>381.416</td>\n",
       "      <td>138.249</td>\n",
       "    </tr>\n",
       "  </tbody>\n",
       "</table>\n",
       "</div>"
      ],
      "text/plain": [
       "   churn  onnet_mou_6  onnet_mou_7  onnet_mou_8  offnet_mou_6  offnet_mou_7  \\\n",
       "0      0      251.204      265.641      244.819       365.046       377.810   \n",
       "1      1      369.058      292.408      113.227       471.331       381.416   \n",
       "\n",
       "   offnet_mou_8  \n",
       "0       352.510  \n",
       "1       138.249  "
      ]
     },
     "execution_count": 62,
     "metadata": {},
     "output_type": "execute_result"
    }
   ],
   "source": [
    "on_off_mou_by_churn = pd.DataFrame(telecom_churn_data.groupby('churn',as_index=False)[on_off_net_cols].mean())\n",
    "on_off_mou_by_churn"
   ]
  },
  {
   "cell_type": "markdown",
   "metadata": {},
   "source": [
    "It can be observed that onnet and offnet, both the usages drop significantly for the action month. Plotting the spread of these features."
   ]
  },
  {
   "cell_type": "code",
   "execution_count": 63,
   "metadata": {
    "ExecuteTime": {
     "end_time": "2019-08-25T12:53:41.952552Z",
     "start_time": "2019-08-25T12:53:40.780645Z"
    }
   },
   "outputs": [
    {
     "data": {
      "text/plain": [
       "<Figure size 1152x504 with 0 Axes>"
      ]
     },
     "metadata": {},
     "output_type": "display_data"
    },
    {
     "data": {
      "image/png": "[encoded data removed]",
      "text/plain": [
       "<Figure size 1152x504 with 3 Axes>"
      ]
     },
     "metadata": {
      "needs_background": "light"
     },
     "output_type": "display_data"
    },
    {
     "data": {
      "text/plain": [
       "<Figure size 1152x504 with 0 Axes>"
      ]
     },
     "metadata": {},
     "output_type": "display_data"
    },
    {
     "data": {
      "image/png": "[encoded data removed]",
      "text/plain": [
       "<Figure size 1152x504 with 3 Axes>"
      ]
     },
     "metadata": {
      "needs_background": "light"
     },
     "output_type": "display_data"
    }
   ],
   "source": [
    "box_plot('onnet_mou','OnNet MOU')\n",
    "box_plot('offnet_mou','OffNet MOU')"
   ]
  },
  {
   "cell_type": "code",
   "execution_count": 64,
   "metadata": {
    "ExecuteTime": {
     "end_time": "2019-08-25T12:53:42.013425Z",
     "start_time": "2019-08-25T12:53:41.955544Z"
    }
   },
   "outputs": [],
   "source": [
    "# Deriving good phase features for onnet_mou and offnet_mou\n",
    "telecom_churn_data['onnet_mou_good_phase'] = (telecom_churn_data.onnet_mou_6+telecom_churn_data.onnet_mou_7)/2\n",
    "telecom_churn_data['offnet_mou_good_phase'] = (telecom_churn_data.offnet_mou_6+telecom_churn_data.offnet_mou_7)/2\n",
    "\n",
    "#dropping the original columns\n",
    "telecom_churn_data.drop(['onnet_mou_6', 'onnet_mou_7', 'offnet_mou_6', 'offnet_mou_7'],axis=1,inplace=True)"
   ]
  },
  {
   "cell_type": "markdown",
   "metadata": {},
   "source": [
    "#### Outgoing and Incoming others columns"
   ]
  },
  {
   "cell_type": "code",
   "execution_count": 65,
   "metadata": {
    "ExecuteTime": {
     "end_time": "2019-08-25T12:53:42.101203Z",
     "start_time": "2019-08-25T12:53:42.017383Z"
    }
   },
   "outputs": [
    {
     "data": {
      "text/html": [
       "<div>\n",
       "<style scoped>\n",
       "    .dataframe tbody tr th:only-of-type {\n",
       "        vertical-align: middle;\n",
       "    }\n",
       "\n",
       "    .dataframe tbody tr th {\n",
       "        vertical-align: top;\n",
       "    }\n",
       "\n",
       "    .dataframe thead th {\n",
       "        text-align: right;\n",
       "    }\n",
       "</style>\n",
       "<table border=\"1\" class=\"dataframe\">\n",
       "  <thead>\n",
       "    <tr style=\"text-align: right;\">\n",
       "      <th></th>\n",
       "      <th>og_others_6</th>\n",
       "      <th>og_others_7</th>\n",
       "      <th>og_others_8</th>\n",
       "      <th>ic_others_6</th>\n",
       "      <th>ic_others_7</th>\n",
       "      <th>ic_others_8</th>\n",
       "    </tr>\n",
       "  </thead>\n",
       "  <tbody>\n",
       "    <tr>\n",
       "      <th>count</th>\n",
       "      <td>29456.000</td>\n",
       "      <td>29464.000</td>\n",
       "      <td>28827.000</td>\n",
       "      <td>29456.000</td>\n",
       "      <td>29464.000</td>\n",
       "      <td>28827.000</td>\n",
       "    </tr>\n",
       "    <tr>\n",
       "      <th>mean</th>\n",
       "      <td>0.673</td>\n",
       "      <td>0.044</td>\n",
       "      <td>0.060</td>\n",
       "      <td>1.175</td>\n",
       "      <td>1.528</td>\n",
       "      <td>1.274</td>\n",
       "    </tr>\n",
       "    <tr>\n",
       "      <th>std</th>\n",
       "      <td>4.145</td>\n",
       "      <td>2.701</td>\n",
       "      <td>3.382</td>\n",
       "      <td>14.114</td>\n",
       "      <td>16.141</td>\n",
       "      <td>13.039</td>\n",
       "    </tr>\n",
       "    <tr>\n",
       "      <th>min</th>\n",
       "      <td>0.000</td>\n",
       "      <td>0.000</td>\n",
       "      <td>0.000</td>\n",
       "      <td>0.000</td>\n",
       "      <td>0.000</td>\n",
       "      <td>0.000</td>\n",
       "    </tr>\n",
       "    <tr>\n",
       "      <th>25%</th>\n",
       "      <td>0.000</td>\n",
       "      <td>0.000</td>\n",
       "      <td>0.000</td>\n",
       "      <td>0.000</td>\n",
       "      <td>0.000</td>\n",
       "      <td>0.000</td>\n",
       "    </tr>\n",
       "    <tr>\n",
       "      <th>50%</th>\n",
       "      <td>0.000</td>\n",
       "      <td>0.000</td>\n",
       "      <td>0.000</td>\n",
       "      <td>0.000</td>\n",
       "      <td>0.000</td>\n",
       "      <td>0.000</td>\n",
       "    </tr>\n",
       "    <tr>\n",
       "      <th>75%</th>\n",
       "      <td>0.000</td>\n",
       "      <td>0.000</td>\n",
       "      <td>0.000</td>\n",
       "      <td>0.060</td>\n",
       "      <td>0.000</td>\n",
       "      <td>0.060</td>\n",
       "    </tr>\n",
       "    <tr>\n",
       "      <th>90%</th>\n",
       "      <td>2.100</td>\n",
       "      <td>0.000</td>\n",
       "      <td>0.000</td>\n",
       "      <td>1.110</td>\n",
       "      <td>1.530</td>\n",
       "      <td>1.240</td>\n",
       "    </tr>\n",
       "    <tr>\n",
       "      <th>max</th>\n",
       "      <td>609.810</td>\n",
       "      <td>370.130</td>\n",
       "      <td>394.930</td>\n",
       "      <td>1344.140</td>\n",
       "      <td>1495.940</td>\n",
       "      <td>1209.860</td>\n",
       "    </tr>\n",
       "  </tbody>\n",
       "</table>\n",
       "</div>"
      ],
      "text/plain": [
       "       og_others_6  og_others_7  og_others_8  ic_others_6  ic_others_7  \\\n",
       "count    29456.000    29464.000    28827.000    29456.000    29464.000   \n",
       "mean         0.673        0.044        0.060        1.175        1.528   \n",
       "std          4.145        2.701        3.382       14.114       16.141   \n",
       "min          0.000        0.000        0.000        0.000        0.000   \n",
       "25%          0.000        0.000        0.000        0.000        0.000   \n",
       "50%          0.000        0.000        0.000        0.000        0.000   \n",
       "75%          0.000        0.000        0.000        0.060        0.000   \n",
       "90%          2.100        0.000        0.000        1.110        1.530   \n",
       "max        609.810      370.130      394.930     1344.140     1495.940   \n",
       "\n",
       "       ic_others_8  \n",
       "count    28827.000  \n",
       "mean         1.274  \n",
       "std         13.039  \n",
       "min          0.000  \n",
       "25%          0.000  \n",
       "50%          0.000  \n",
       "75%          0.060  \n",
       "90%          1.240  \n",
       "max       1209.860  "
      ]
     },
     "execution_count": 65,
     "metadata": {},
     "output_type": "execute_result"
    }
   ],
   "source": [
    "og_ic_others = telecom_churn_data.columns[telecom_churn_data.columns.str.contains('others')]\n",
    "\n",
    "# Describing these columns\n",
    "telecom_churn_data[og_ic_others].describe(percentiles=[.25,.5,.75,.9])"
   ]
  },
  {
   "cell_type": "markdown",
   "metadata": {},
   "source": [
    "Most of the values for these columns are 0 (or outliers). Dropping these columns"
   ]
  },
  {
   "cell_type": "code",
   "execution_count": 66,
   "metadata": {
    "ExecuteTime": {
     "end_time": "2019-08-25T12:53:42.217890Z",
     "start_time": "2019-08-25T12:53:42.104192Z"
    }
   },
   "outputs": [],
   "source": [
    "telecom_churn_data.drop(og_ic_others,axis=1,inplace=True)"
   ]
  },
  {
   "cell_type": "markdown",
   "metadata": {},
   "source": [
    "#### Date Related columns"
   ]
  },
  {
   "cell_type": "code",
   "execution_count": 67,
   "metadata": {
    "ExecuteTime": {
     "end_time": "2019-08-25T12:53:42.391426Z",
     "start_time": "2019-08-25T12:53:42.221877Z"
    }
   },
   "outputs": [
    {
     "data": {
      "text/plain": [
       "Index(['date_of_last_rech_6', 'date_of_last_rech_7', 'date_of_last_rech_8',\n",
       "       'date_of_last_rech_data_6', 'date_of_last_rech_data_7',\n",
       "       'date_of_last_rech_data_8'],\n",
       "      dtype='object')"
      ]
     },
     "execution_count": 67,
     "metadata": {},
     "output_type": "execute_result"
    }
   ],
   "source": [
    "# First converting the date columns to proper format\n",
    "\n",
    "date_columns = telecom_churn_data.columns[telecom_churn_data.columns.str.contains('date')]\n",
    "\n",
    "for date_col in list(date_columns):\n",
    "    telecom_churn_data[date_col]= pd.to_datetime(telecom_churn_data[date_col])\n",
    "date_columns"
   ]
  },
  {
   "cell_type": "code",
   "execution_count": 68,
   "metadata": {
    "ExecuteTime": {
     "end_time": "2019-08-25T12:53:42.500656Z",
     "start_time": "2019-08-25T12:53:42.400400Z"
    }
   },
   "outputs": [
    {
     "data": {
      "text/html": [
       "<div>\n",
       "<style scoped>\n",
       "    .dataframe tbody tr th:only-of-type {\n",
       "        vertical-align: middle;\n",
       "    }\n",
       "\n",
       "    .dataframe tbody tr th {\n",
       "        vertical-align: top;\n",
       "    }\n",
       "\n",
       "    .dataframe thead th {\n",
       "        text-align: right;\n",
       "    }\n",
       "</style>\n",
       "<table border=\"1\" class=\"dataframe\">\n",
       "  <thead>\n",
       "    <tr style=\"text-align: right;\">\n",
       "      <th></th>\n",
       "      <th>column_name</th>\n",
       "      <th>percent_missing</th>\n",
       "    </tr>\n",
       "  </thead>\n",
       "  <tbody>\n",
       "    <tr>\n",
       "      <th>0</th>\n",
       "      <td>date_of_last_rech_6</td>\n",
       "      <td>0.243</td>\n",
       "    </tr>\n",
       "    <tr>\n",
       "      <th>1</th>\n",
       "      <td>date_of_last_rech_7</td>\n",
       "      <td>0.327</td>\n",
       "    </tr>\n",
       "    <tr>\n",
       "      <th>2</th>\n",
       "      <td>date_of_last_rech_8</td>\n",
       "      <td>1.943</td>\n",
       "    </tr>\n",
       "    <tr>\n",
       "      <th>3</th>\n",
       "      <td>date_of_last_rech_data_6</td>\n",
       "      <td>44.149</td>\n",
       "    </tr>\n",
       "    <tr>\n",
       "      <th>4</th>\n",
       "      <td>date_of_last_rech_data_7</td>\n",
       "      <td>43.145</td>\n",
       "    </tr>\n",
       "    <tr>\n",
       "      <th>5</th>\n",
       "      <td>date_of_last_rech_data_8</td>\n",
       "      <td>46.825</td>\n",
       "    </tr>\n",
       "  </tbody>\n",
       "</table>\n",
       "</div>"
      ],
      "text/plain": [
       "                column_name  percent_missing\n",
       "0       date_of_last_rech_6            0.243\n",
       "1       date_of_last_rech_7            0.327\n",
       "2       date_of_last_rech_8            1.943\n",
       "3  date_of_last_rech_data_6           44.149\n",
       "4  date_of_last_rech_data_7           43.145\n",
       "5  date_of_last_rech_data_8           46.825"
      ]
     },
     "execution_count": 68,
     "metadata": {},
     "output_type": "execute_result"
    }
   ],
   "source": [
    "# checking the null value %ages for date columns\n",
    "missing_dates = col_wise_null(telecom_churn_data[date_columns])\n",
    "missing_dates"
   ]
  },
  {
   "cell_type": "markdown",
   "metadata": {},
   "source": [
    "We can drop the date_of_last_rech_data colums since ~45% are null values for all the months"
   ]
  },
  {
   "cell_type": "code",
   "execution_count": 69,
   "metadata": {
    "ExecuteTime": {
     "end_time": "2019-08-25T12:53:42.730926Z",
     "start_time": "2019-08-25T12:53:42.506640Z"
    }
   },
   "outputs": [],
   "source": [
    "telecom_churn_data.drop(['date_of_last_rech_data_6', 'date_of_last_rech_data_7', 'date_of_last_rech_data_8'],axis=1,inplace=True)"
   ]
  },
  {
   "cell_type": "code",
   "execution_count": 70,
   "metadata": {
    "ExecuteTime": {
     "end_time": "2019-08-25T12:53:43.024091Z",
     "start_time": "2019-08-25T12:53:42.732891Z"
    }
   },
   "outputs": [],
   "source": [
    "# The date of last recharge columns can be used to derive the number of days left till the end of the month.\n",
    "\n",
    "import datetime\n",
    "last_date_of_month_6 = datetime.datetime.strptime(\"30-06-2014\", \"%d-%m-%Y\")\n",
    "last_date_of_month_7 = datetime.datetime.strptime(\"31-07-2014\", \"%d-%m-%Y\")\n",
    "last_date_of_month_8 = datetime.datetime.strptime(\"31-08-2014\", \"%d-%m-%Y\")\n",
    "\n",
    "telecom_churn_data[\"rech_days_left_6\"]      = (last_date_of_month_6 - telecom_churn_data.date_of_last_rech_6).astype('timedelta64[D]')\n",
    "telecom_churn_data[\"rech_days_left_7\"]      = (last_date_of_month_7 - telecom_churn_data.date_of_last_rech_7).astype('timedelta64[D]')\n",
    "telecom_churn_data[\"rech_days_left_8\"]      = (last_date_of_month_8 - telecom_churn_data.date_of_last_rech_8).astype('timedelta64[D]')\n",
    "\n",
    "telecom_churn_data.drop([\"date_of_last_rech_6\",  \"date_of_last_rech_7\", \"date_of_last_rech_8\"], axis=1, inplace=True)"
   ]
  },
  {
   "cell_type": "code",
   "execution_count": 71,
   "metadata": {
    "ExecuteTime": {
     "end_time": "2019-08-25T12:53:43.098928Z",
     "start_time": "2019-08-25T12:53:43.026075Z"
    }
   },
   "outputs": [
    {
     "data": {
      "text/html": [
       "<div>\n",
       "<style scoped>\n",
       "    .dataframe tbody tr th:only-of-type {\n",
       "        vertical-align: middle;\n",
       "    }\n",
       "\n",
       "    .dataframe tbody tr th {\n",
       "        vertical-align: top;\n",
       "    }\n",
       "\n",
       "    .dataframe thead th {\n",
       "        text-align: right;\n",
       "    }\n",
       "</style>\n",
       "<table border=\"1\" class=\"dataframe\">\n",
       "  <thead>\n",
       "    <tr style=\"text-align: right;\">\n",
       "      <th></th>\n",
       "      <th>column_name</th>\n",
       "      <th>percent_missing</th>\n",
       "    </tr>\n",
       "  </thead>\n",
       "  <tbody>\n",
       "    <tr>\n",
       "      <th>0</th>\n",
       "      <td>rech_days_left_6</td>\n",
       "      <td>0.243</td>\n",
       "    </tr>\n",
       "    <tr>\n",
       "      <th>1</th>\n",
       "      <td>rech_days_left_7</td>\n",
       "      <td>0.327</td>\n",
       "    </tr>\n",
       "    <tr>\n",
       "      <th>2</th>\n",
       "      <td>rech_days_left_8</td>\n",
       "      <td>1.943</td>\n",
       "    </tr>\n",
       "  </tbody>\n",
       "</table>\n",
       "</div>"
      ],
      "text/plain": [
       "        column_name  percent_missing\n",
       "0  rech_days_left_6            0.243\n",
       "1  rech_days_left_7            0.327\n",
       "2  rech_days_left_8            1.943"
      ]
     },
     "execution_count": 71,
     "metadata": {},
     "output_type": "execute_result"
    }
   ],
   "source": [
    "# checking the null values for these columns\n",
    "rech_day_left_nulls = col_wise_null(telecom_churn_data[['rech_days_left_6','rech_days_left_7','rech_days_left_8']])\n",
    "rech_day_left_nulls"
   ]
  },
  {
   "cell_type": "code",
   "execution_count": 72,
   "metadata": {
    "ExecuteTime": {
     "end_time": "2019-08-25T12:53:43.301259Z",
     "start_time": "2019-08-25T12:53:43.100922Z"
    }
   },
   "outputs": [
    {
     "data": {
      "text/html": [
       "<div>\n",
       "<style scoped>\n",
       "    .dataframe tbody tr th:only-of-type {\n",
       "        vertical-align: middle;\n",
       "    }\n",
       "\n",
       "    .dataframe tbody tr th {\n",
       "        vertical-align: top;\n",
       "    }\n",
       "\n",
       "    .dataframe thead th {\n",
       "        text-align: right;\n",
       "    }\n",
       "</style>\n",
       "<table border=\"1\" class=\"dataframe\">\n",
       "  <thead>\n",
       "    <tr style=\"text-align: right;\">\n",
       "      <th></th>\n",
       "      <th>rech_days_left_6</th>\n",
       "      <th>rech_days_left_7</th>\n",
       "      <th>rech_days_left_8</th>\n",
       "    </tr>\n",
       "  </thead>\n",
       "  <tbody>\n",
       "    <tr>\n",
       "      <th>count</th>\n",
       "      <td>29928.000</td>\n",
       "      <td>29903.000</td>\n",
       "      <td>29418.000</td>\n",
       "    </tr>\n",
       "    <tr>\n",
       "      <th>mean</th>\n",
       "      <td>3.537</td>\n",
       "      <td>3.730</td>\n",
       "      <td>4.312</td>\n",
       "    </tr>\n",
       "    <tr>\n",
       "      <th>std</th>\n",
       "      <td>4.673</td>\n",
       "      <td>4.588</td>\n",
       "      <td>5.271</td>\n",
       "    </tr>\n",
       "    <tr>\n",
       "      <th>min</th>\n",
       "      <td>0.000</td>\n",
       "      <td>0.000</td>\n",
       "      <td>0.000</td>\n",
       "    </tr>\n",
       "    <tr>\n",
       "      <th>25%</th>\n",
       "      <td>0.000</td>\n",
       "      <td>0.000</td>\n",
       "      <td>1.000</td>\n",
       "    </tr>\n",
       "    <tr>\n",
       "      <th>50%</th>\n",
       "      <td>2.000</td>\n",
       "      <td>2.000</td>\n",
       "      <td>3.000</td>\n",
       "    </tr>\n",
       "    <tr>\n",
       "      <th>75%</th>\n",
       "      <td>5.000</td>\n",
       "      <td>5.000</td>\n",
       "      <td>6.000</td>\n",
       "    </tr>\n",
       "    <tr>\n",
       "      <th>max</th>\n",
       "      <td>29.000</td>\n",
       "      <td>30.000</td>\n",
       "      <td>30.000</td>\n",
       "    </tr>\n",
       "  </tbody>\n",
       "</table>\n",
       "</div>"
      ],
      "text/plain": [
       "       rech_days_left_6  rech_days_left_7  rech_days_left_8\n",
       "count         29928.000         29903.000         29418.000\n",
       "mean              3.537             3.730             4.312\n",
       "std               4.673             4.588             5.271\n",
       "min               0.000             0.000             0.000\n",
       "25%               0.000             0.000             1.000\n",
       "50%               2.000             2.000             3.000\n",
       "75%               5.000             5.000             6.000\n",
       "max              29.000            30.000            30.000"
      ]
     },
     "execution_count": 72,
     "metadata": {},
     "output_type": "execute_result"
    }
   ],
   "source": [
    "# describing the derived rech_days_left features\n",
    "telecom_churn_data[['rech_days_left_6','rech_days_left_7','rech_days_left_8']].describe()"
   ]
  },
  {
   "cell_type": "code",
   "execution_count": 73,
   "metadata": {
    "ExecuteTime": {
     "end_time": "2019-08-25T12:53:43.402905Z",
     "start_time": "2019-08-25T12:53:43.303239Z"
    }
   },
   "outputs": [],
   "source": [
    "# Imputing with 0 won't be appropriate here, imputing with the meadian value\n",
    "telecom_churn_data['rech_days_left_6'][np.isnan(telecom_churn_data['rech_days_left_6'])]  = telecom_churn_data['rech_days_left_6'].median()\n",
    "telecom_churn_data['rech_days_left_7'][np.isnan(telecom_churn_data['rech_days_left_7'])]  = telecom_churn_data['rech_days_left_7'].median()\n",
    "telecom_churn_data['rech_days_left_8'][np.isnan(telecom_churn_data['rech_days_left_8'])] = telecom_churn_data['rech_days_left_8'].median()"
   ]
  },
  {
   "cell_type": "code",
   "execution_count": 74,
   "metadata": {
    "ExecuteTime": {
     "end_time": "2019-08-25T12:53:43.572643Z",
     "start_time": "2019-08-25T12:53:43.405661Z"
    }
   },
   "outputs": [],
   "source": [
    "# deriving good phase features for rech_days_lest\n",
    "telecom_churn_data['rech_days_left_good_phase'] = (telecom_churn_data.rech_days_left_6 + telecom_churn_data.rech_days_left_7)/2\n",
    "# dropping the original features\n",
    "telecom_churn_data.drop(['rech_days_left_6','rech_days_left_7'],axis=1,inplace=True)"
   ]
  },
  {
   "cell_type": "markdown",
   "metadata": {},
   "source": [
    "#### Categorical columns"
   ]
  },
  {
   "cell_type": "code",
   "execution_count": 75,
   "metadata": {
    "ExecuteTime": {
     "end_time": "2019-08-25T12:53:43.690370Z",
     "start_time": "2019-08-25T12:53:43.575637Z"
    }
   },
   "outputs": [
    {
     "name": "stdout",
     "output_type": "stream",
     "text": [
      "night_pck_user_6\n",
      "[ 0. nan  1.]\n",
      "-------------------- \n",
      "\n",
      "night_pck_user_7\n",
      "[ 0. nan  1.]\n",
      "-------------------- \n",
      "\n",
      "night_pck_user_8\n",
      "[ 0. nan  1.]\n",
      "-------------------- \n",
      "\n",
      "fb_user_6\n",
      "[ 1. nan  0.]\n",
      "-------------------- \n",
      "\n",
      "fb_user_7\n",
      "[ 1. nan  0.]\n",
      "-------------------- \n",
      "\n",
      "fb_user_8\n",
      "[ 1. nan  0.]\n",
      "-------------------- \n",
      "\n"
     ]
    }
   ],
   "source": [
    "# There are two categorical columns\n",
    "cat_cols = telecom_churn_data.columns[telecom_churn_data.columns.str.contains('night_pck_user|fb_user')]\n",
    "for col in cat_cols:\n",
    "    print(col)\n",
    "    print(telecom_churn_data[col].unique())\n",
    "    print('-'*20, '\\n')"
   ]
  },
  {
   "cell_type": "markdown",
   "metadata": {},
   "source": [
    "It can be seen that there are only two unique values, 1 and 0.<br/>\n",
    "Also, the null value %age of arpu_3g/2g data is equal to the corresponding month's night_pck_user and fb_user null value %ages. It implies that these customers are not using internet at all and hence are neither a night pack user nor a fb user. Null values can be imputed with 0 here."
   ]
  },
  {
   "cell_type": "code",
   "execution_count": 76,
   "metadata": {
    "ExecuteTime": {
     "end_time": "2019-08-25T12:53:43.958652Z",
     "start_time": "2019-08-25T12:53:43.692325Z"
    }
   },
   "outputs": [],
   "source": [
    "telecom_churn_data[cat_cols] = telecom_churn_data[cat_cols].fillna(value=0)"
   ]
  },
  {
   "cell_type": "markdown",
   "metadata": {},
   "source": [
    "#### Night Pack users"
   ]
  },
  {
   "cell_type": "code",
   "execution_count": 77,
   "metadata": {
    "ExecuteTime": {
     "end_time": "2019-08-25T12:53:44.136140Z",
     "start_time": "2019-08-25T12:53:43.960607Z"
    }
   },
   "outputs": [
    {
     "data": {
      "text/html": [
       "<div>\n",
       "<style scoped>\n",
       "    .dataframe tbody tr th:only-of-type {\n",
       "        vertical-align: middle;\n",
       "    }\n",
       "\n",
       "    .dataframe tbody tr th {\n",
       "        vertical-align: top;\n",
       "    }\n",
       "\n",
       "    .dataframe thead th {\n",
       "        text-align: right;\n",
       "    }\n",
       "</style>\n",
       "<table border=\"1\" class=\"dataframe\">\n",
       "  <thead>\n",
       "    <tr style=\"text-align: right;\">\n",
       "      <th></th>\n",
       "      <th>churn</th>\n",
       "      <th>night_pck_user_6</th>\n",
       "      <th>night_pck_user_7</th>\n",
       "      <th>night_pck_user_8</th>\n",
       "    </tr>\n",
       "  </thead>\n",
       "  <tbody>\n",
       "    <tr>\n",
       "      <th>0</th>\n",
       "      <td>0</td>\n",
       "      <td>369.000</td>\n",
       "      <td>352.000</td>\n",
       "      <td>332.000</td>\n",
       "    </tr>\n",
       "    <tr>\n",
       "      <th>1</th>\n",
       "      <td>1</td>\n",
       "      <td>38.000</td>\n",
       "      <td>23.000</td>\n",
       "      <td>9.000</td>\n",
       "    </tr>\n",
       "  </tbody>\n",
       "</table>\n",
       "</div>"
      ],
      "text/plain": [
       "   churn  night_pck_user_6  night_pck_user_7  night_pck_user_8\n",
       "0      0           369.000           352.000           332.000\n",
       "1      1            38.000            23.000             9.000"
      ]
     },
     "execution_count": 77,
     "metadata": {},
     "output_type": "execute_result"
    }
   ],
   "source": [
    "night_pck_usr_by_churn = pd.DataFrame(telecom_churn_data.groupby('churn',as_index=False)['night_pck_user_6','night_pck_user_7','night_pck_user_8'].sum())\n",
    "night_pck_usr_by_churn"
   ]
  },
  {
   "cell_type": "markdown",
   "metadata": {},
   "source": [
    "We see a drop in the night pack users from good phase to action phase."
   ]
  },
  {
   "cell_type": "code",
   "execution_count": 78,
   "metadata": {
    "ExecuteTime": {
     "end_time": "2019-08-25T12:53:44.621842Z",
     "start_time": "2019-08-25T12:53:44.139131Z"
    }
   },
   "outputs": [
    {
     "data": {
      "image/png": "[encoded data removed]",
      "text/plain": [
       "<Figure size 864x360 with 1 Axes>"
      ]
     },
     "metadata": {
      "needs_background": "light"
     },
     "output_type": "display_data"
    }
   ],
   "source": [
    "night_pck_usr_plot = night_pck_usr_by_churn[['night_pck_user_6','night_pck_user_7','night_pck_user_8']].T.reset_index(drop=True).plot(kind='bar',title=\"Night Pack Users per month by churn\",figsize=(12,5),rot=0)\n",
    "_ = night_pck_usr_plot.title.set_size(15)\n",
    "_ = night_pck_usr_plot.legend(['Not Churned','Churned'],bbox_to_anchor=(1.15, 1))\n",
    "_ = night_pck_usr_plot.set_xticklabels(['June','July','August'])\n",
    "_ = night_pck_usr_plot.set_xlabel(\"Month\",fontsize=12,fontweight='bold')\n",
    "_ = night_pck_usr_plot.set_ylabel(\"No. of Night Pack Users\",fontsize=12,fontweight='bold')"
   ]
  },
  {
   "cell_type": "markdown",
   "metadata": {},
   "source": [
    "Although we see a decreasing trend in night pack users for the customers who churned, this number is a very small %age of the whole data. Of the total 2441 customers that churned, an insignifant number of users are night pack users. The columns overall don't have much variance. We can drop these columns."
   ]
  },
  {
   "cell_type": "code",
   "execution_count": 79,
   "metadata": {
    "ExecuteTime": {
     "end_time": "2019-08-25T12:53:44.649767Z",
     "start_time": "2019-08-25T12:53:44.624835Z"
    }
   },
   "outputs": [],
   "source": [
    "telecom_churn_data.drop(['night_pck_user_6','night_pck_user_7','night_pck_user_8'], axis=1, inplace=True)"
   ]
  },
  {
   "cell_type": "markdown",
   "metadata": {},
   "source": [
    "#### FB Users"
   ]
  },
  {
   "cell_type": "code",
   "execution_count": 80,
   "metadata": {
    "ExecuteTime": {
     "end_time": "2019-08-25T12:53:44.884143Z",
     "start_time": "2019-08-25T12:53:44.653757Z"
    }
   },
   "outputs": [
    {
     "data": {
      "text/html": [
       "<div>\n",
       "<style scoped>\n",
       "    .dataframe tbody tr th:only-of-type {\n",
       "        vertical-align: middle;\n",
       "    }\n",
       "\n",
       "    .dataframe tbody tr th {\n",
       "        vertical-align: top;\n",
       "    }\n",
       "\n",
       "    .dataframe thead th {\n",
       "        text-align: right;\n",
       "    }\n",
       "</style>\n",
       "<table border=\"1\" class=\"dataframe\">\n",
       "  <thead>\n",
       "    <tr style=\"text-align: right;\">\n",
       "      <th></th>\n",
       "      <th>churn</th>\n",
       "      <th>fb_user_6</th>\n",
       "      <th>fb_user_7</th>\n",
       "      <th>fb_user_8</th>\n",
       "    </tr>\n",
       "  </thead>\n",
       "  <tbody>\n",
       "    <tr>\n",
       "      <th>0</th>\n",
       "      <td>0</td>\n",
       "      <td>14487.000</td>\n",
       "      <td>14855.000</td>\n",
       "      <td>13965.000</td>\n",
       "    </tr>\n",
       "    <tr>\n",
       "      <th>1</th>\n",
       "      <td>1</td>\n",
       "      <td>1038.000</td>\n",
       "      <td>867.000</td>\n",
       "      <td>348.000</td>\n",
       "    </tr>\n",
       "  </tbody>\n",
       "</table>\n",
       "</div>"
      ],
      "text/plain": [
       "   churn  fb_user_6  fb_user_7  fb_user_8\n",
       "0      0  14487.000  14855.000  13965.000\n",
       "1      1   1038.000    867.000    348.000"
      ]
     },
     "execution_count": 80,
     "metadata": {},
     "output_type": "execute_result"
    }
   ],
   "source": [
    "# A similar analysis can be done for FB User\n",
    "fb_usr_by_churn = pd.DataFrame(telecom_churn_data.groupby('churn',as_index=False)['fb_user_6','fb_user_7','fb_user_8'].sum())\n",
    "fb_usr_by_churn"
   ]
  },
  {
   "cell_type": "markdown",
   "metadata": {},
   "source": [
    "It can be seen that the number of fb users also drop drastically from good phase to action phase."
   ]
  },
  {
   "cell_type": "code",
   "execution_count": 81,
   "metadata": {
    "ExecuteTime": {
     "end_time": "2019-08-25T12:53:45.322260Z",
     "start_time": "2019-08-25T12:53:44.887133Z"
    }
   },
   "outputs": [
    {
     "data": {
      "image/png": "[encoded data removed]",
      "text/plain": [
       "<Figure size 864x360 with 1 Axes>"
      ]
     },
     "metadata": {
      "needs_background": "light"
     },
     "output_type": "display_data"
    }
   ],
   "source": [
    "fb_usr_plot = fb_usr_by_churn[['fb_user_6','fb_user_7','fb_user_8']].T.reset_index(drop=True).plot(kind='bar',title=\"FB Users per month by churn\",figsize=(12,5),rot=0)\n",
    "_ = fb_usr_plot.title.set_size(15)\n",
    "_ = fb_usr_plot.legend(['Not Churned','Churned'],bbox_to_anchor=(1.15, 1))\n",
    "_ = fb_usr_plot.set_xticklabels(['June','July','August'])\n",
    "_ = fb_usr_plot.set_xlabel(\"Month\",fontsize=12,fontweight='bold')\n",
    "_ = fb_usr_plot.set_ylabel(\"No. of FB Users\",fontsize=12,fontweight='bold')"
   ]
  },
  {
   "cell_type": "markdown",
   "metadata": {},
   "source": [
    "There is a clear decreasing trend in the number of FB users for the customers who churned. It dropped to 14.25% in the action phase from 42.52% in the action phase first month."
   ]
  },
  {
   "cell_type": "code",
   "execution_count": 82,
   "metadata": {
    "ExecuteTime": {
     "end_time": "2019-08-25T12:53:45.361163Z",
     "start_time": "2019-08-25T12:53:45.324222Z"
    }
   },
   "outputs": [],
   "source": [
    "# Deriving good phase feature for fb_users. We'll 'OR' the value of the 6th month and the 7th month to do that.\n",
    "def fb_user(x,y):\n",
    "    if x+y > 0:\n",
    "        return 1\n",
    "    else:\n",
    "        return 0\n",
    "    \n",
    "telecom_churn_data['fb_user_good_phase'] = telecom_churn_data.fb_user_6+telecom_churn_data.fb_user_7\n",
    "telecom_churn_data['fb_user_good_phase'] = telecom_churn_data['fb_user_good_phase'].apply(lambda x : 1 if x > 0 else 0)\n",
    "# dropping the original columns\n",
    "telecom_churn_data.drop(['fb_user_6','fb_user_7'],axis=1,inplace=True)"
   ]
  },
  {
   "cell_type": "code",
   "execution_count": 83,
   "metadata": {
    "ExecuteTime": {
     "end_time": "2019-08-25T12:53:45.464959Z",
     "start_time": "2019-08-25T12:53:45.363119Z"
    }
   },
   "outputs": [
    {
     "data": {
      "text/html": [
       "<div>\n",
       "<style scoped>\n",
       "    .dataframe tbody tr th:only-of-type {\n",
       "        vertical-align: middle;\n",
       "    }\n",
       "\n",
       "    .dataframe tbody tr th {\n",
       "        vertical-align: top;\n",
       "    }\n",
       "\n",
       "    .dataframe thead th {\n",
       "        text-align: right;\n",
       "    }\n",
       "</style>\n",
       "<table border=\"1\" class=\"dataframe\">\n",
       "  <thead>\n",
       "    <tr style=\"text-align: right;\">\n",
       "      <th></th>\n",
       "      <th>column_name</th>\n",
       "      <th>percent_missing</th>\n",
       "    </tr>\n",
       "  </thead>\n",
       "  <tbody>\n",
       "  </tbody>\n",
       "</table>\n",
       "</div>"
      ],
      "text/plain": [
       "Empty DataFrame\n",
       "Columns: [column_name, percent_missing]\n",
       "Index: []"
      ]
     },
     "execution_count": 83,
     "metadata": {},
     "output_type": "execute_result"
    }
   ],
   "source": [
    "# checking the null values for the whole data set now.\n",
    "missing_value_df = col_wise_null(telecom_churn_data)\n",
    "missing_value_df[missing_value_df.percent_missing > 0]"
   ]
  },
  {
   "cell_type": "markdown",
   "metadata": {},
   "source": [
    "There are no missing values now."
   ]
  },
  {
   "cell_type": "code",
   "execution_count": 84,
   "metadata": {
    "ExecuteTime": {
     "end_time": "2019-08-25T12:53:45.635006Z",
     "start_time": "2019-08-25T12:53:45.466943Z"
    }
   },
   "outputs": [],
   "source": [
    "# renaming some columns for consistency\n",
    "telecom_churn_data.rename(columns={'total_rech_amt_8':'rech_amt_8','total_rech_data_amt_8':'rech_amt_data_8','total_rech_num_8':'rech_num_8'}, inplace=True)"
   ]
  },
  {
   "cell_type": "code",
   "execution_count": 85,
   "metadata": {
    "ExecuteTime": {
     "end_time": "2019-08-25T12:53:45.880278Z",
     "start_time": "2019-08-25T12:53:45.637998Z"
    }
   },
   "outputs": [],
   "source": [
    "# reindexing columns for better comprehension\n",
    "telecom_churn_data = telecom_churn_data.reindex(columns=['aon','arpu_good_phase','arpu_8','rech_amt_good_phase','rech_amt_8','rech_amt_data_good_phase','rech_amt_data_8','rech_num_good_phase','rech_num_8','last_day_rch_amt_good_phase','last_day_rch_amt_8','max_rech_amt_good_phase','max_rech_amt_8','max_rech_data_good_phase','max_rech_data_8','rech_days_left_good_phase','rech_days_left_8','isd_ic_mou_good_phase','isd_ic_mou_8','isd_og_mou_good_phase','isd_og_mou_8','loc_ic_t2f_mou_good_phase','loc_ic_t2f_mou_8','loc_ic_t2m_mou_good_phase','loc_ic_t2m_mou_8','loc_ic_t2t_mou_good_phase','loc_ic_t2t_mou_8','loc_og_t2c_mou_good_phase','loc_og_t2c_mou_8','loc_og_t2f_mou_good_phase','loc_og_t2f_mou_8','loc_og_t2m_mou_good_phase','loc_og_t2m_mou_8','loc_og_t2t_mou_good_phase','loc_og_t2t_mou_8','spl_ic_mou_good_phase','spl_ic_mou_8','spl_og_mou_good_phase','spl_og_mou_8','std_ic_t2f_mou_good_phase','std_ic_t2f_mou_8','std_ic_t2m_mou_good_phase','std_ic_t2m_mou_8','std_ic_t2t_mou_good_phase','std_ic_t2t_mou_8','std_og_t2f_mou_good_phase','std_og_t2f_mou_8','std_og_t2m_mou_good_phase','std_og_t2m_mou_8','std_og_t2t_mou_good_phase','std_og_t2t_mou_8','roam_ic_mou_good_phase','roam_ic_mou_8','roam_og_mou_good_phase','roam_og_mou_8','offnet_mou_good_phase','offnet_mou_8','onnet_mou_good_phase','onnet_mou_8','monthly_2g3g_good_phase','monthly_2g3g_8','sachet_2g3g_good_phase','sachet_2g3g_8','vbc_3g_good_phase','vbc_3g_8','vol_mb_good_phase','vol_mb_8','fb_user_good_phase','fb_user_8','churn'])"
   ]
  },
  {
   "cell_type": "code",
   "execution_count": 86,
   "metadata": {
    "ExecuteTime": {
     "end_time": "2019-08-25T12:53:46.009371Z",
     "start_time": "2019-08-25T12:53:45.883280Z"
    }
   },
   "outputs": [
    {
     "name": "stdout",
     "output_type": "stream",
     "text": [
      "The shape of the dataset now is (30001, 70)\n"
     ]
    }
   ],
   "source": [
    "print(\"The shape of the dataset now is {}\".format(telecom_churn_data.shape))"
   ]
  },
  {
   "cell_type": "code",
   "execution_count": 87,
   "metadata": {
    "ExecuteTime": {
     "end_time": "2019-08-25T12:53:46.131926Z",
     "start_time": "2019-08-25T12:53:46.013364Z"
    }
   },
   "outputs": [],
   "source": [
    "# Creating a savepoint here\n",
    "telecom_churn_data_bkp1 = telecom_churn_data.copy()"
   ]
  },
  {
   "cell_type": "markdown",
   "metadata": {},
   "source": [
    "### Shift Analysis"
   ]
  },
  {
   "cell_type": "markdown",
   "metadata": {},
   "source": [
    "Now that we have feature values for the good phase and the action phase, we can calculate how the usage values shift."
   ]
  },
  {
   "cell_type": "code",
   "execution_count": 88,
   "metadata": {
    "ExecuteTime": {
     "end_time": "2019-08-25T12:53:46.225943Z",
     "start_time": "2019-08-25T12:53:46.135736Z"
    }
   },
   "outputs": [],
   "source": [
    "shift_cols = ['arpu','rech_amt','rech_amt_data','rech_num','last_day_rch_amt','max_rech_amt','max_rech_data','rech_days_left','isd_ic_mou','isd_og_mou','loc_ic_t2f_mou','loc_ic_t2m_mou','loc_ic_t2t_mou','loc_og_t2c_mou','loc_og_t2f_mou','loc_og_t2m_mou','loc_og_t2t_mou','spl_ic_mou','spl_og_mou','std_ic_t2f_mou','std_ic_t2m_mou','std_ic_t2t_mou','std_og_t2f_mou','std_og_t2m_mou','std_og_t2t_mou','roam_ic_mou','roam_og_mou','offnet_mou','onnet_mou','monthly_2g3g','sachet_2g3g','vbc_3g','vol_mb']"
   ]
  },
  {
   "cell_type": "code",
   "execution_count": 89,
   "metadata": {
    "ExecuteTime": {
     "end_time": "2019-08-25T12:53:46.416308Z",
     "start_time": "2019-08-25T12:53:46.228905Z"
    }
   },
   "outputs": [],
   "source": [
    "shift_df = pd.DataFrame()\n",
    "for col in shift_cols:\n",
    "    col_g_p = col+\"_good_phase\"\n",
    "    col_8 = col+\"_8\"\n",
    "    col_shift = col+\"_shift\"\n",
    "    shift_df[col_shift] = telecom_churn_data[col_8]-telecom_churn_data[col_g_p]\n",
    "shift_df['churn']=telecom_churn_data['churn']"
   ]
  },
  {
   "cell_type": "code",
   "execution_count": 90,
   "metadata": {
    "ExecuteTime": {
     "end_time": "2019-08-25T12:53:46.512035Z",
     "start_time": "2019-08-25T12:53:46.419261Z"
    }
   },
   "outputs": [
    {
     "data": {
      "text/html": [
       "<div>\n",
       "<style scoped>\n",
       "    .dataframe tbody tr th:only-of-type {\n",
       "        vertical-align: middle;\n",
       "    }\n",
       "\n",
       "    .dataframe tbody tr th {\n",
       "        vertical-align: top;\n",
       "    }\n",
       "\n",
       "    .dataframe thead th {\n",
       "        text-align: right;\n",
       "    }\n",
       "</style>\n",
       "<table border=\"1\" class=\"dataframe\">\n",
       "  <thead>\n",
       "    <tr style=\"text-align: right;\">\n",
       "      <th></th>\n",
       "      <th>arpu_shift</th>\n",
       "      <th>rech_amt_shift</th>\n",
       "      <th>rech_amt_data_shift</th>\n",
       "      <th>rech_num_shift</th>\n",
       "      <th>last_day_rch_amt_shift</th>\n",
       "      <th>max_rech_amt_shift</th>\n",
       "      <th>max_rech_data_shift</th>\n",
       "      <th>rech_days_left_shift</th>\n",
       "      <th>isd_ic_mou_shift</th>\n",
       "      <th>isd_og_mou_shift</th>\n",
       "      <th>loc_ic_t2f_mou_shift</th>\n",
       "      <th>loc_ic_t2m_mou_shift</th>\n",
       "      <th>loc_ic_t2t_mou_shift</th>\n",
       "      <th>loc_og_t2c_mou_shift</th>\n",
       "      <th>loc_og_t2f_mou_shift</th>\n",
       "      <th>loc_og_t2m_mou_shift</th>\n",
       "      <th>loc_og_t2t_mou_shift</th>\n",
       "      <th>spl_ic_mou_shift</th>\n",
       "      <th>spl_og_mou_shift</th>\n",
       "      <th>std_ic_t2f_mou_shift</th>\n",
       "      <th>std_ic_t2m_mou_shift</th>\n",
       "      <th>std_ic_t2t_mou_shift</th>\n",
       "      <th>std_og_t2f_mou_shift</th>\n",
       "      <th>std_og_t2m_mou_shift</th>\n",
       "      <th>std_og_t2t_mou_shift</th>\n",
       "      <th>roam_ic_mou_shift</th>\n",
       "      <th>roam_og_mou_shift</th>\n",
       "      <th>offnet_mou_shift</th>\n",
       "      <th>onnet_mou_shift</th>\n",
       "      <th>monthly_2g3g_shift</th>\n",
       "      <th>sachet_2g3g_shift</th>\n",
       "      <th>vbc_3g_shift</th>\n",
       "      <th>vol_mb_shift</th>\n",
       "    </tr>\n",
       "    <tr>\n",
       "      <th>churn</th>\n",
       "      <th></th>\n",
       "      <th></th>\n",
       "      <th></th>\n",
       "      <th></th>\n",
       "      <th></th>\n",
       "      <th></th>\n",
       "      <th></th>\n",
       "      <th></th>\n",
       "      <th></th>\n",
       "      <th></th>\n",
       "      <th></th>\n",
       "      <th></th>\n",
       "      <th></th>\n",
       "      <th></th>\n",
       "      <th></th>\n",
       "      <th></th>\n",
       "      <th></th>\n",
       "      <th></th>\n",
       "      <th></th>\n",
       "      <th></th>\n",
       "      <th></th>\n",
       "      <th></th>\n",
       "      <th></th>\n",
       "      <th></th>\n",
       "      <th></th>\n",
       "      <th></th>\n",
       "      <th></th>\n",
       "      <th></th>\n",
       "      <th></th>\n",
       "      <th></th>\n",
       "      <th></th>\n",
       "      <th></th>\n",
       "      <th></th>\n",
       "    </tr>\n",
       "  </thead>\n",
       "  <tbody>\n",
       "    <tr>\n",
       "      <th>0</th>\n",
       "      <td>-23.279</td>\n",
       "      <td>-42.850</td>\n",
       "      <td>-5.681</td>\n",
       "      <td>-1.316</td>\n",
       "      <td>-3.170</td>\n",
       "      <td>-4.426</td>\n",
       "      <td>-3.744</td>\n",
       "      <td>0.490</td>\n",
       "      <td>0.269</td>\n",
       "      <td>0.014</td>\n",
       "      <td>-0.906</td>\n",
       "      <td>0.749</td>\n",
       "      <td>-1.144</td>\n",
       "      <td>0.051</td>\n",
       "      <td>-0.364</td>\n",
       "      <td>-6.299</td>\n",
       "      <td>-4.421</td>\n",
       "      <td>-0.012</td>\n",
       "      <td>0.505</td>\n",
       "      <td>-0.100</td>\n",
       "      <td>-0.550</td>\n",
       "      <td>-0.126</td>\n",
       "      <td>-0.178</td>\n",
       "      <td>-10.360</td>\n",
       "      <td>-7.711</td>\n",
       "      <td>-1.845</td>\n",
       "      <td>-3.157</td>\n",
       "      <td>-18.918</td>\n",
       "      <td>-13.603</td>\n",
       "      <td>-0.026</td>\n",
       "      <td>-0.035</td>\n",
       "      <td>6.213</td>\n",
       "      <td>-6.589</td>\n",
       "    </tr>\n",
       "    <tr>\n",
       "      <th>1</th>\n",
       "      <td>-364.461</td>\n",
       "      <td>-453.346</td>\n",
       "      <td>-289.238</td>\n",
       "      <td>-7.407</td>\n",
       "      <td>-68.676</td>\n",
       "      <td>-80.295</td>\n",
       "      <td>-37.219</td>\n",
       "      <td>2.551</td>\n",
       "      <td>-7.119</td>\n",
       "      <td>-2.494</td>\n",
       "      <td>-5.178</td>\n",
       "      <td>-67.285</td>\n",
       "      <td>-29.184</td>\n",
       "      <td>-0.884</td>\n",
       "      <td>-2.001</td>\n",
       "      <td>-68.618</td>\n",
       "      <td>-36.148</td>\n",
       "      <td>-0.033</td>\n",
       "      <td>-4.552</td>\n",
       "      <td>-1.145</td>\n",
       "      <td>-19.435</td>\n",
       "      <td>-13.874</td>\n",
       "      <td>-0.822</td>\n",
       "      <td>-206.604</td>\n",
       "      <td>-178.640</td>\n",
       "      <td>-2.227</td>\n",
       "      <td>-7.328</td>\n",
       "      <td>-288.125</td>\n",
       "      <td>-217.506</td>\n",
       "      <td>-0.173</td>\n",
       "      <td>-0.851</td>\n",
       "      <td>-64.734</td>\n",
       "      <td>-240.619</td>\n",
       "    </tr>\n",
       "  </tbody>\n",
       "</table>\n",
       "</div>"
      ],
      "text/plain": [
       "       arpu_shift  rech_amt_shift  rech_amt_data_shift  rech_num_shift  \\\n",
       "churn                                                                    \n",
       "0         -23.279         -42.850               -5.681          -1.316   \n",
       "1        -364.461        -453.346             -289.238          -7.407   \n",
       "\n",
       "       last_day_rch_amt_shift  max_rech_amt_shift  max_rech_data_shift  \\\n",
       "churn                                                                    \n",
       "0                      -3.170              -4.426               -3.744   \n",
       "1                     -68.676             -80.295              -37.219   \n",
       "\n",
       "       rech_days_left_shift  isd_ic_mou_shift  isd_og_mou_shift  \\\n",
       "churn                                                             \n",
       "0                     0.490             0.269             0.014   \n",
       "1                     2.551            -7.119            -2.494   \n",
       "\n",
       "       loc_ic_t2f_mou_shift  loc_ic_t2m_mou_shift  loc_ic_t2t_mou_shift  \\\n",
       "churn                                                                     \n",
       "0                    -0.906                 0.749                -1.144   \n",
       "1                    -5.178               -67.285               -29.184   \n",
       "\n",
       "       loc_og_t2c_mou_shift  loc_og_t2f_mou_shift  loc_og_t2m_mou_shift  \\\n",
       "churn                                                                     \n",
       "0                     0.051                -0.364                -6.299   \n",
       "1                    -0.884                -2.001               -68.618   \n",
       "\n",
       "       loc_og_t2t_mou_shift  spl_ic_mou_shift  spl_og_mou_shift  \\\n",
       "churn                                                             \n",
       "0                    -4.421            -0.012             0.505   \n",
       "1                   -36.148            -0.033            -4.552   \n",
       "\n",
       "       std_ic_t2f_mou_shift  std_ic_t2m_mou_shift  std_ic_t2t_mou_shift  \\\n",
       "churn                                                                     \n",
       "0                    -0.100                -0.550                -0.126   \n",
       "1                    -1.145               -19.435               -13.874   \n",
       "\n",
       "       std_og_t2f_mou_shift  std_og_t2m_mou_shift  std_og_t2t_mou_shift  \\\n",
       "churn                                                                     \n",
       "0                    -0.178               -10.360                -7.711   \n",
       "1                    -0.822              -206.604              -178.640   \n",
       "\n",
       "       roam_ic_mou_shift  roam_og_mou_shift  offnet_mou_shift  \\\n",
       "churn                                                           \n",
       "0                 -1.845             -3.157           -18.918   \n",
       "1                 -2.227             -7.328          -288.125   \n",
       "\n",
       "       onnet_mou_shift  monthly_2g3g_shift  sachet_2g3g_shift  vbc_3g_shift  \\\n",
       "churn                                                                         \n",
       "0              -13.603              -0.026             -0.035         6.213   \n",
       "1             -217.506              -0.173             -0.851       -64.734   \n",
       "\n",
       "       vol_mb_shift  \n",
       "churn                \n",
       "0            -6.589  \n",
       "1          -240.619  "
      ]
     },
     "execution_count": 90,
     "metadata": {},
     "output_type": "execute_result"
    }
   ],
   "source": [
    "shift_df.groupby('churn').mean()"
   ]
  },
  {
   "cell_type": "markdown",
   "metadata": {},
   "source": [
    "It can be seen that the average shift in usage values has a decreasing trend stronger for the customers who churned."
   ]
  },
  {
   "cell_type": "markdown",
   "metadata": {},
   "source": [
    "### Outlier treatment"
   ]
  },
  {
   "cell_type": "code",
   "execution_count": 91,
   "metadata": {
    "ExecuteTime": {
     "end_time": "2019-08-25T12:53:46.887788Z",
     "start_time": "2019-08-25T12:53:46.515027Z"
    }
   },
   "outputs": [],
   "source": [
    "# capping the outliers of the numerical columns with k-sigma technique using k=3\n",
    "\n",
    "numeric_cols = telecom_churn_data.columns.drop(['churn','fb_user_good_phase','fb_user_8'])\n",
    "\n",
    "for column in numeric_cols:\n",
    "    mu = np.average(telecom_churn_data[column])\n",
    "    sigma = np.std(telecom_churn_data[column])\n",
    "    low = mu - 3*sigma\n",
    "    high = mu + 3*sigma\n",
    "    telecom_churn_data[column].clip(low, high, inplace=True)"
   ]
  },
  {
   "cell_type": "code",
   "execution_count": 92,
   "metadata": {
    "ExecuteTime": {
     "end_time": "2019-08-25T12:53:46.925462Z",
     "start_time": "2019-08-25T12:53:46.890557Z"
    }
   },
   "outputs": [
    {
     "data": {
      "text/html": [
       "<div>\n",
       "<style scoped>\n",
       "    .dataframe tbody tr th:only-of-type {\n",
       "        vertical-align: middle;\n",
       "    }\n",
       "\n",
       "    .dataframe tbody tr th {\n",
       "        vertical-align: top;\n",
       "    }\n",
       "\n",
       "    .dataframe thead th {\n",
       "        text-align: right;\n",
       "    }\n",
       "</style>\n",
       "<table border=\"1\" class=\"dataframe\">\n",
       "  <thead>\n",
       "    <tr style=\"text-align: right;\">\n",
       "      <th></th>\n",
       "      <th>aon</th>\n",
       "      <th>arpu_good_phase</th>\n",
       "      <th>arpu_8</th>\n",
       "      <th>rech_amt_good_phase</th>\n",
       "      <th>rech_amt_8</th>\n",
       "      <th>rech_amt_data_good_phase</th>\n",
       "      <th>rech_amt_data_8</th>\n",
       "      <th>rech_num_good_phase</th>\n",
       "      <th>rech_num_8</th>\n",
       "      <th>last_day_rch_amt_good_phase</th>\n",
       "      <th>last_day_rch_amt_8</th>\n",
       "      <th>max_rech_amt_good_phase</th>\n",
       "      <th>max_rech_amt_8</th>\n",
       "      <th>max_rech_data_good_phase</th>\n",
       "      <th>max_rech_data_8</th>\n",
       "      <th>rech_days_left_good_phase</th>\n",
       "      <th>rech_days_left_8</th>\n",
       "      <th>isd_ic_mou_good_phase</th>\n",
       "      <th>isd_ic_mou_8</th>\n",
       "      <th>isd_og_mou_good_phase</th>\n",
       "      <th>isd_og_mou_8</th>\n",
       "      <th>loc_ic_t2f_mou_good_phase</th>\n",
       "      <th>loc_ic_t2f_mou_8</th>\n",
       "      <th>loc_ic_t2m_mou_good_phase</th>\n",
       "      <th>loc_ic_t2m_mou_8</th>\n",
       "      <th>loc_ic_t2t_mou_good_phase</th>\n",
       "      <th>loc_ic_t2t_mou_8</th>\n",
       "      <th>loc_og_t2c_mou_good_phase</th>\n",
       "      <th>loc_og_t2c_mou_8</th>\n",
       "      <th>loc_og_t2f_mou_good_phase</th>\n",
       "      <th>loc_og_t2f_mou_8</th>\n",
       "      <th>loc_og_t2m_mou_good_phase</th>\n",
       "      <th>loc_og_t2m_mou_8</th>\n",
       "      <th>loc_og_t2t_mou_good_phase</th>\n",
       "      <th>loc_og_t2t_mou_8</th>\n",
       "      <th>spl_ic_mou_good_phase</th>\n",
       "      <th>spl_ic_mou_8</th>\n",
       "      <th>spl_og_mou_good_phase</th>\n",
       "      <th>spl_og_mou_8</th>\n",
       "      <th>std_ic_t2f_mou_good_phase</th>\n",
       "      <th>std_ic_t2f_mou_8</th>\n",
       "      <th>std_ic_t2m_mou_good_phase</th>\n",
       "      <th>std_ic_t2m_mou_8</th>\n",
       "      <th>std_ic_t2t_mou_good_phase</th>\n",
       "      <th>std_ic_t2t_mou_8</th>\n",
       "      <th>std_og_t2f_mou_good_phase</th>\n",
       "      <th>std_og_t2f_mou_8</th>\n",
       "      <th>std_og_t2m_mou_good_phase</th>\n",
       "      <th>std_og_t2m_mou_8</th>\n",
       "      <th>std_og_t2t_mou_good_phase</th>\n",
       "      <th>std_og_t2t_mou_8</th>\n",
       "      <th>roam_ic_mou_good_phase</th>\n",
       "      <th>roam_ic_mou_8</th>\n",
       "      <th>roam_og_mou_good_phase</th>\n",
       "      <th>roam_og_mou_8</th>\n",
       "      <th>offnet_mou_good_phase</th>\n",
       "      <th>offnet_mou_8</th>\n",
       "      <th>onnet_mou_good_phase</th>\n",
       "      <th>onnet_mou_8</th>\n",
       "      <th>monthly_2g3g_good_phase</th>\n",
       "      <th>monthly_2g3g_8</th>\n",
       "      <th>sachet_2g3g_good_phase</th>\n",
       "      <th>sachet_2g3g_8</th>\n",
       "      <th>vbc_3g_good_phase</th>\n",
       "      <th>vbc_3g_8</th>\n",
       "      <th>vol_mb_good_phase</th>\n",
       "      <th>vol_mb_8</th>\n",
       "      <th>fb_user_good_phase</th>\n",
       "      <th>fb_user_8</th>\n",
       "      <th>churn</th>\n",
       "    </tr>\n",
       "  </thead>\n",
       "  <tbody>\n",
       "    <tr>\n",
       "      <th>0</th>\n",
       "      <td>32.267</td>\n",
       "      <td>206.100</td>\n",
       "      <td>213.803</td>\n",
       "      <td>307.000</td>\n",
       "      <td>252.000</td>\n",
       "      <td>252.000</td>\n",
       "      <td>252.000</td>\n",
       "      <td>3.500</td>\n",
       "      <td>2.000</td>\n",
       "      <td>252.000</td>\n",
       "      <td>252.000</td>\n",
       "      <td>252.000</td>\n",
       "      <td>252.000</td>\n",
       "      <td>252.000</td>\n",
       "      <td>252.000</td>\n",
       "      <td>12.000</td>\n",
       "      <td>19.954</td>\n",
       "      <td>0.000</td>\n",
       "      <td>0.000</td>\n",
       "      <td>0.000</td>\n",
       "      <td>0.000</td>\n",
       "      <td>0.000</td>\n",
       "      <td>1.150</td>\n",
       "      <td>0.000</td>\n",
       "      <td>4.130</td>\n",
       "      <td>0.000</td>\n",
       "      <td>0.160</td>\n",
       "      <td>0.000</td>\n",
       "      <td>0.000</td>\n",
       "      <td>0.000</td>\n",
       "      <td>0.000</td>\n",
       "      <td>0.000</td>\n",
       "      <td>0.000</td>\n",
       "      <td>0.000</td>\n",
       "      <td>0.000</td>\n",
       "      <td>0.000</td>\n",
       "      <td>0.000</td>\n",
       "      <td>0.000</td>\n",
       "      <td>0.000</td>\n",
       "      <td>0.000</td>\n",
       "      <td>0.000</td>\n",
       "      <td>0.000</td>\n",
       "      <td>0.000</td>\n",
       "      <td>0.000</td>\n",
       "      <td>0.000</td>\n",
       "      <td>0.000</td>\n",
       "      <td>0.000</td>\n",
       "      <td>0.000</td>\n",
       "      <td>0.000</td>\n",
       "      <td>0.000</td>\n",
       "      <td>0.000</td>\n",
       "      <td>0.000</td>\n",
       "      <td>0.000</td>\n",
       "      <td>0.000</td>\n",
       "      <td>0.000</td>\n",
       "      <td>0.000</td>\n",
       "      <td>0.000</td>\n",
       "      <td>0.000</td>\n",
       "      <td>0.000</td>\n",
       "      <td>1.000</td>\n",
       "      <td>1.000</td>\n",
       "      <td>0.000</td>\n",
       "      <td>0.000</td>\n",
       "      <td>50.600</td>\n",
       "      <td>30.400</td>\n",
       "      <td>132.890</td>\n",
       "      <td>115.360</td>\n",
       "      <td>1</td>\n",
       "      <td>1.000</td>\n",
       "      <td>1</td>\n",
       "    </tr>\n",
       "    <tr>\n",
       "      <th>7</th>\n",
       "      <td>26.733</td>\n",
       "      <td>1209.515</td>\n",
       "      <td>2014.459</td>\n",
       "      <td>1185.000</td>\n",
       "      <td>2418.073</td>\n",
       "      <td>0.000</td>\n",
       "      <td>0.000</td>\n",
       "      <td>5.000</td>\n",
       "      <td>7.000</td>\n",
       "      <td>0.000</td>\n",
       "      <td>527.933</td>\n",
       "      <td>633.315</td>\n",
       "      <td>679.759</td>\n",
       "      <td>0.000</td>\n",
       "      <td>0.000</td>\n",
       "      <td>4.500</td>\n",
       "      <td>5.000</td>\n",
       "      <td>8.295</td>\n",
       "      <td>31.590</td>\n",
       "      <td>0.090</td>\n",
       "      <td>10.010</td>\n",
       "      <td>126.810</td>\n",
       "      <td>39.530</td>\n",
       "      <td>219.525</td>\n",
       "      <td>121.190</td>\n",
       "      <td>45.200</td>\n",
       "      <td>27.310</td>\n",
       "      <td>0.000</td>\n",
       "      <td>0.000</td>\n",
       "      <td>58.635</td>\n",
       "      <td>53.230</td>\n",
       "      <td>378.005</td>\n",
       "      <td>162.280</td>\n",
       "      <td>41.385</td>\n",
       "      <td>40.280</td>\n",
       "      <td>0.105</td>\n",
       "      <td>0.000</td>\n",
       "      <td>2.250</td>\n",
       "      <td>6.500</td>\n",
       "      <td>43.215</td>\n",
       "      <td>22.210</td>\n",
       "      <td>109.215</td>\n",
       "      <td>141.330</td>\n",
       "      <td>24.360</td>\n",
       "      <td>30.390</td>\n",
       "      <td>13.370</td>\n",
       "      <td>16.680</td>\n",
       "      <td>40.825</td>\n",
       "      <td>49.140</td>\n",
       "      <td>13.795</td>\n",
       "      <td>12.010</td>\n",
       "      <td>24.860</td>\n",
       "      <td>31.640</td>\n",
       "      <td>18.165</td>\n",
       "      <td>38.060</td>\n",
       "      <td>510.295</td>\n",
       "      <td>325.910</td>\n",
       "      <td>56.260</td>\n",
       "      <td>52.290</td>\n",
       "      <td>0.000</td>\n",
       "      <td>0.000</td>\n",
       "      <td>0.000</td>\n",
       "      <td>0.000</td>\n",
       "      <td>19.060</td>\n",
       "      <td>57.740</td>\n",
       "      <td>0.000</td>\n",
       "      <td>0.000</td>\n",
       "      <td>0</td>\n",
       "      <td>0.000</td>\n",
       "      <td>1</td>\n",
       "    </tr>\n",
       "    <tr>\n",
       "      <th>8</th>\n",
       "      <td>10.500</td>\n",
       "      <td>435.472</td>\n",
       "      <td>137.362</td>\n",
       "      <td>519.000</td>\n",
       "      <td>120.000</td>\n",
       "      <td>177.000</td>\n",
       "      <td>207.000</td>\n",
       "      <td>20.000</td>\n",
       "      <td>14.000</td>\n",
       "      <td>50.000</td>\n",
       "      <td>10.000</td>\n",
       "      <td>122.000</td>\n",
       "      <td>30.000</td>\n",
       "      <td>77.000</td>\n",
       "      <td>23.000</td>\n",
       "      <td>2.500</td>\n",
       "      <td>1.000</td>\n",
       "      <td>0.000</td>\n",
       "      <td>0.000</td>\n",
       "      <td>0.000</td>\n",
       "      <td>0.000</td>\n",
       "      <td>0.000</td>\n",
       "      <td>0.000</td>\n",
       "      <td>35.780</td>\n",
       "      <td>15.480</td>\n",
       "      <td>16.840</td>\n",
       "      <td>0.310</td>\n",
       "      <td>0.000</td>\n",
       "      <td>7.150</td>\n",
       "      <td>0.000</td>\n",
       "      <td>0.000</td>\n",
       "      <td>75.770</td>\n",
       "      <td>50.540</td>\n",
       "      <td>257.360</td>\n",
       "      <td>12.490</td>\n",
       "      <td>0.000</td>\n",
       "      <td>0.000</td>\n",
       "      <td>0.000</td>\n",
       "      <td>10.230</td>\n",
       "      <td>0.000</td>\n",
       "      <td>0.000</td>\n",
       "      <td>13.255</td>\n",
       "      <td>0.650</td>\n",
       "      <td>0.290</td>\n",
       "      <td>0.100</td>\n",
       "      <td>0.000</td>\n",
       "      <td>0.000</td>\n",
       "      <td>11.865</td>\n",
       "      <td>75.690</td>\n",
       "      <td>124.995</td>\n",
       "      <td>22.580</td>\n",
       "      <td>0.000</td>\n",
       "      <td>0.000</td>\n",
       "      <td>0.000</td>\n",
       "      <td>0.000</td>\n",
       "      <td>87.645</td>\n",
       "      <td>136.480</td>\n",
       "      <td>382.360</td>\n",
       "      <td>35.080</td>\n",
       "      <td>0.500</td>\n",
       "      <td>0.000</td>\n",
       "      <td>0.500</td>\n",
       "      <td>3.000</td>\n",
       "      <td>516.405</td>\n",
       "      <td>21.030</td>\n",
       "      <td>553.475</td>\n",
       "      <td>11.970</td>\n",
       "      <td>1</td>\n",
       "      <td>1.000</td>\n",
       "      <td>0</td>\n",
       "    </tr>\n",
       "    <tr>\n",
       "      <th>21</th>\n",
       "      <td>24.000</td>\n",
       "      <td>556.103</td>\n",
       "      <td>637.760</td>\n",
       "      <td>640.000</td>\n",
       "      <td>718.000</td>\n",
       "      <td>0.000</td>\n",
       "      <td>0.000</td>\n",
       "      <td>24.000</td>\n",
       "      <td>27.000</td>\n",
       "      <td>30.000</td>\n",
       "      <td>50.000</td>\n",
       "      <td>50.000</td>\n",
       "      <td>50.000</td>\n",
       "      <td>0.000</td>\n",
       "      <td>0.000</td>\n",
       "      <td>0.000</td>\n",
       "      <td>0.000</td>\n",
       "      <td>0.000</td>\n",
       "      <td>0.000</td>\n",
       "      <td>0.000</td>\n",
       "      <td>0.000</td>\n",
       "      <td>3.725</td>\n",
       "      <td>10.390</td>\n",
       "      <td>96.430</td>\n",
       "      <td>129.160</td>\n",
       "      <td>6.335</td>\n",
       "      <td>19.540</td>\n",
       "      <td>0.000</td>\n",
       "      <td>0.000</td>\n",
       "      <td>0.375</td>\n",
       "      <td>1.580</td>\n",
       "      <td>89.870</td>\n",
       "      <td>104.810</td>\n",
       "      <td>5.320</td>\n",
       "      <td>23.340</td>\n",
       "      <td>0.000</td>\n",
       "      <td>0.000</td>\n",
       "      <td>0.000</td>\n",
       "      <td>0.000</td>\n",
       "      <td>0.000</td>\n",
       "      <td>0.000</td>\n",
       "      <td>52.960</td>\n",
       "      <td>101.740</td>\n",
       "      <td>10.020</td>\n",
       "      <td>0.180</td>\n",
       "      <td>0.000</td>\n",
       "      <td>0.000</td>\n",
       "      <td>737.050</td>\n",
       "      <td>876.990</td>\n",
       "      <td>111.935</td>\n",
       "      <td>61.790</td>\n",
       "      <td>0.000</td>\n",
       "      <td>0.000</td>\n",
       "      <td>0.000</td>\n",
       "      <td>0.000</td>\n",
       "      <td>827.305</td>\n",
       "      <td>983.390</td>\n",
       "      <td>117.260</td>\n",
       "      <td>85.140</td>\n",
       "      <td>0.000</td>\n",
       "      <td>0.000</td>\n",
       "      <td>0.000</td>\n",
       "      <td>0.000</td>\n",
       "      <td>0.000</td>\n",
       "      <td>0.000</td>\n",
       "      <td>0.000</td>\n",
       "      <td>0.000</td>\n",
       "      <td>0</td>\n",
       "      <td>0.000</td>\n",
       "      <td>0</td>\n",
       "    </tr>\n",
       "    <tr>\n",
       "      <th>23</th>\n",
       "      <td>20.133</td>\n",
       "      <td>134.124</td>\n",
       "      <td>366.966</td>\n",
       "      <td>227.000</td>\n",
       "      <td>439.000</td>\n",
       "      <td>356.000</td>\n",
       "      <td>540.000</td>\n",
       "      <td>4.000</td>\n",
       "      <td>4.000</td>\n",
       "      <td>0.000</td>\n",
       "      <td>0.000</td>\n",
       "      <td>89.500</td>\n",
       "      <td>179.000</td>\n",
       "      <td>89.500</td>\n",
       "      <td>179.000</td>\n",
       "      <td>14.662</td>\n",
       "      <td>7.000</td>\n",
       "      <td>14.115</td>\n",
       "      <td>3.740</td>\n",
       "      <td>0.005</td>\n",
       "      <td>0.000</td>\n",
       "      <td>0.000</td>\n",
       "      <td>0.710</td>\n",
       "      <td>104.635</td>\n",
       "      <td>146.840</td>\n",
       "      <td>40.875</td>\n",
       "      <td>76.640</td>\n",
       "      <td>0.000</td>\n",
       "      <td>17.710</td>\n",
       "      <td>0.000</td>\n",
       "      <td>0.000</td>\n",
       "      <td>82.975</td>\n",
       "      <td>148.560</td>\n",
       "      <td>49.810</td>\n",
       "      <td>33.580</td>\n",
       "      <td>0.000</td>\n",
       "      <td>0.000</td>\n",
       "      <td>0.050</td>\n",
       "      <td>17.710</td>\n",
       "      <td>0.000</td>\n",
       "      <td>0.000</td>\n",
       "      <td>8.660</td>\n",
       "      <td>43.910</td>\n",
       "      <td>0.255</td>\n",
       "      <td>13.380</td>\n",
       "      <td>0.000</td>\n",
       "      <td>0.000</td>\n",
       "      <td>4.355</td>\n",
       "      <td>39.610</td>\n",
       "      <td>0.000</td>\n",
       "      <td>0.000</td>\n",
       "      <td>0.000</td>\n",
       "      <td>0.000</td>\n",
       "      <td>0.000</td>\n",
       "      <td>0.000</td>\n",
       "      <td>87.385</td>\n",
       "      <td>205.890</td>\n",
       "      <td>49.810</td>\n",
       "      <td>33.580</td>\n",
       "      <td>1.000</td>\n",
       "      <td>1.000</td>\n",
       "      <td>0.000</td>\n",
       "      <td>1.000</td>\n",
       "      <td>25.930</td>\n",
       "      <td>40.450</td>\n",
       "      <td>299.785</td>\n",
       "      <td>1009.930</td>\n",
       "      <td>1</td>\n",
       "      <td>1.000</td>\n",
       "      <td>0</td>\n",
       "    </tr>\n",
       "  </tbody>\n",
       "</table>\n",
       "</div>"
      ],
      "text/plain": [
       "      aon  arpu_good_phase   arpu_8  rech_amt_good_phase  rech_amt_8  \\\n",
       "0  32.267          206.100  213.803              307.000     252.000   \n",
       "7  26.733         1209.515 2014.459             1185.000    2418.073   \n",
       "8  10.500          435.472  137.362              519.000     120.000   \n",
       "21 24.000          556.103  637.760              640.000     718.000   \n",
       "23 20.133          134.124  366.966              227.000     439.000   \n",
       "\n",
       "    rech_amt_data_good_phase  rech_amt_data_8  rech_num_good_phase  \\\n",
       "0                    252.000          252.000                3.500   \n",
       "7                      0.000            0.000                5.000   \n",
       "8                    177.000          207.000               20.000   \n",
       "21                     0.000            0.000               24.000   \n",
       "23                   356.000          540.000                4.000   \n",
       "\n",
       "    rech_num_8  last_day_rch_amt_good_phase  last_day_rch_amt_8  \\\n",
       "0        2.000                      252.000             252.000   \n",
       "7        7.000                        0.000             527.933   \n",
       "8       14.000                       50.000              10.000   \n",
       "21      27.000                       30.000              50.000   \n",
       "23       4.000                        0.000               0.000   \n",
       "\n",
       "    max_rech_amt_good_phase  max_rech_amt_8  max_rech_data_good_phase  \\\n",
       "0                   252.000         252.000                   252.000   \n",
       "7                   633.315         679.759                     0.000   \n",
       "8                   122.000          30.000                    77.000   \n",
       "21                   50.000          50.000                     0.000   \n",
       "23                   89.500         179.000                    89.500   \n",
       "\n",
       "    max_rech_data_8  rech_days_left_good_phase  rech_days_left_8  \\\n",
       "0           252.000                     12.000            19.954   \n",
       "7             0.000                      4.500             5.000   \n",
       "8            23.000                      2.500             1.000   \n",
       "21            0.000                      0.000             0.000   \n",
       "23          179.000                     14.662             7.000   \n",
       "\n",
       "    isd_ic_mou_good_phase  isd_ic_mou_8  isd_og_mou_good_phase  isd_og_mou_8  \\\n",
       "0                   0.000         0.000                  0.000         0.000   \n",
       "7                   8.295        31.590                  0.090        10.010   \n",
       "8                   0.000         0.000                  0.000         0.000   \n",
       "21                  0.000         0.000                  0.000         0.000   \n",
       "23                 14.115         3.740                  0.005         0.000   \n",
       "\n",
       "    loc_ic_t2f_mou_good_phase  loc_ic_t2f_mou_8  loc_ic_t2m_mou_good_phase  \\\n",
       "0                       0.000             1.150                      0.000   \n",
       "7                     126.810            39.530                    219.525   \n",
       "8                       0.000             0.000                     35.780   \n",
       "21                      3.725            10.390                     96.430   \n",
       "23                      0.000             0.710                    104.635   \n",
       "\n",
       "    loc_ic_t2m_mou_8  loc_ic_t2t_mou_good_phase  loc_ic_t2t_mou_8  \\\n",
       "0              4.130                      0.000             0.160   \n",
       "7            121.190                     45.200            27.310   \n",
       "8             15.480                     16.840             0.310   \n",
       "21           129.160                      6.335            19.540   \n",
       "23           146.840                     40.875            76.640   \n",
       "\n",
       "    loc_og_t2c_mou_good_phase  loc_og_t2c_mou_8  loc_og_t2f_mou_good_phase  \\\n",
       "0                       0.000             0.000                      0.000   \n",
       "7                       0.000             0.000                     58.635   \n",
       "8                       0.000             7.150                      0.000   \n",
       "21                      0.000             0.000                      0.375   \n",
       "23                      0.000            17.710                      0.000   \n",
       "\n",
       "    loc_og_t2f_mou_8  loc_og_t2m_mou_good_phase  loc_og_t2m_mou_8  \\\n",
       "0              0.000                      0.000             0.000   \n",
       "7             53.230                    378.005           162.280   \n",
       "8              0.000                     75.770            50.540   \n",
       "21             1.580                     89.870           104.810   \n",
       "23             0.000                     82.975           148.560   \n",
       "\n",
       "    loc_og_t2t_mou_good_phase  loc_og_t2t_mou_8  spl_ic_mou_good_phase  \\\n",
       "0                       0.000             0.000                  0.000   \n",
       "7                      41.385            40.280                  0.105   \n",
       "8                     257.360            12.490                  0.000   \n",
       "21                      5.320            23.340                  0.000   \n",
       "23                     49.810            33.580                  0.000   \n",
       "\n",
       "    spl_ic_mou_8  spl_og_mou_good_phase  spl_og_mou_8  \\\n",
       "0          0.000                  0.000         0.000   \n",
       "7          0.000                  2.250         6.500   \n",
       "8          0.000                  0.000        10.230   \n",
       "21         0.000                  0.000         0.000   \n",
       "23         0.000                  0.050        17.710   \n",
       "\n",
       "    std_ic_t2f_mou_good_phase  std_ic_t2f_mou_8  std_ic_t2m_mou_good_phase  \\\n",
       "0                       0.000             0.000                      0.000   \n",
       "7                      43.215            22.210                    109.215   \n",
       "8                       0.000             0.000                     13.255   \n",
       "21                      0.000             0.000                     52.960   \n",
       "23                      0.000             0.000                      8.660   \n",
       "\n",
       "    std_ic_t2m_mou_8  std_ic_t2t_mou_good_phase  std_ic_t2t_mou_8  \\\n",
       "0              0.000                      0.000             0.000   \n",
       "7            141.330                     24.360            30.390   \n",
       "8              0.650                      0.290             0.100   \n",
       "21           101.740                     10.020             0.180   \n",
       "23            43.910                      0.255            13.380   \n",
       "\n",
       "    std_og_t2f_mou_good_phase  std_og_t2f_mou_8  std_og_t2m_mou_good_phase  \\\n",
       "0                       0.000             0.000                      0.000   \n",
       "7                      13.370            16.680                     40.825   \n",
       "8                       0.000             0.000                     11.865   \n",
       "21                      0.000             0.000                    737.050   \n",
       "23                      0.000             0.000                      4.355   \n",
       "\n",
       "    std_og_t2m_mou_8  std_og_t2t_mou_good_phase  std_og_t2t_mou_8  \\\n",
       "0              0.000                      0.000             0.000   \n",
       "7             49.140                     13.795            12.010   \n",
       "8             75.690                    124.995            22.580   \n",
       "21           876.990                    111.935            61.790   \n",
       "23            39.610                      0.000             0.000   \n",
       "\n",
       "    roam_ic_mou_good_phase  roam_ic_mou_8  roam_og_mou_good_phase  \\\n",
       "0                    0.000          0.000                   0.000   \n",
       "7                   24.860         31.640                  18.165   \n",
       "8                    0.000          0.000                   0.000   \n",
       "21                   0.000          0.000                   0.000   \n",
       "23                   0.000          0.000                   0.000   \n",
       "\n",
       "    roam_og_mou_8  offnet_mou_good_phase  offnet_mou_8  onnet_mou_good_phase  \\\n",
       "0           0.000                  0.000         0.000                 0.000   \n",
       "7          38.060                510.295       325.910                56.260   \n",
       "8           0.000                 87.645       136.480               382.360   \n",
       "21          0.000                827.305       983.390               117.260   \n",
       "23          0.000                 87.385       205.890                49.810   \n",
       "\n",
       "    onnet_mou_8  monthly_2g3g_good_phase  monthly_2g3g_8  \\\n",
       "0         0.000                    1.000           1.000   \n",
       "7        52.290                    0.000           0.000   \n",
       "8        35.080                    0.500           0.000   \n",
       "21       85.140                    0.000           0.000   \n",
       "23       33.580                    1.000           1.000   \n",
       "\n",
       "    sachet_2g3g_good_phase  sachet_2g3g_8  vbc_3g_good_phase  vbc_3g_8  \\\n",
       "0                    0.000          0.000             50.600    30.400   \n",
       "7                    0.000          0.000             19.060    57.740   \n",
       "8                    0.500          3.000            516.405    21.030   \n",
       "21                   0.000          0.000              0.000     0.000   \n",
       "23                   0.000          1.000             25.930    40.450   \n",
       "\n",
       "    vol_mb_good_phase  vol_mb_8  fb_user_good_phase  fb_user_8  churn  \n",
       "0             132.890   115.360                   1      1.000      1  \n",
       "7               0.000     0.000                   0      0.000      1  \n",
       "8             553.475    11.970                   1      1.000      0  \n",
       "21              0.000     0.000                   0      0.000      0  \n",
       "23            299.785  1009.930                   1      1.000      0  "
      ]
     },
     "execution_count": 92,
     "metadata": {},
     "output_type": "execute_result"
    }
   ],
   "source": [
    "telecom_churn_data.head()"
   ]
  },
  {
   "cell_type": "code",
   "execution_count": 93,
   "metadata": {
    "ExecuteTime": {
     "end_time": "2019-08-25T12:53:47.126214Z",
     "start_time": "2019-08-25T12:53:46.928454Z"
    }
   },
   "outputs": [],
   "source": [
    "# Creating a savepoint here\n",
    "telecom_churn_data_bkp2 = telecom_churn_data.copy()"
   ]
  },
  {
   "cell_type": "markdown",
   "metadata": {},
   "source": [
    "### Model building"
   ]
  },
  {
   "cell_type": "code",
   "execution_count": 94,
   "metadata": {
    "ExecuteTime": {
     "end_time": "2019-08-25T12:53:47.400466Z",
     "start_time": "2019-08-25T12:53:47.128173Z"
    }
   },
   "outputs": [],
   "source": [
    "from sklearn.metrics import confusion_matrix,roc_auc_score,f1_score,accuracy_score,classification_report,precision_score, recall_score\n",
    "\n",
    "# define function to calculate and print model metrics.\n",
    "def metricsReport(x,y,prob):\n",
    "    \n",
    "    print('Overall Accuracy: '+ str(metrics.accuracy_score(x, y)))\n",
    "    \n",
    "    # Confusion matrix \n",
    "    confusion = metrics.confusion_matrix(x, y)\n",
    "    print('Confusion Matrix: ')\n",
    "    print(confusion)\n",
    "\n",
    "    TP = confusion[1,1] # true positive \n",
    "    TN = confusion[0,0] # true negatives\n",
    "    FP = confusion[0,1] # false positives\n",
    "    FN = confusion[1,0] # false negatives\n",
    "\n",
    "    # Sensitivity\n",
    "    print('Sensitivity: '+str(TP / float(TP+FN)))\n",
    "\n",
    "    # Specificity\n",
    "    print('Specificity: '+str(TN / float(TN+FP)))\n",
    "\n",
    "    # Calculate False Postive Rate\n",
    "    print('False Positive Rate: '+str(FP/ float(TN+FP)))\n",
    "\n",
    "    # Positive Predictive Value \n",
    "    print('Positive Predictive Value: '+str(TP / float(TP+FP)))\n",
    "\n",
    "    # Negative predictive value\n",
    "    print('Negative Predictive Value: '+str(TN / float(TN+ FN)))\n",
    "\n",
    "    #### Precision and Recall\n",
    "\n",
    "    # Precision\n",
    "    print('Precision: '+str(TP /(TP + FP)))\n",
    "\n",
    "    # Recall\n",
    "    print('Recall: '+str(TP / (TP + FN)))\n",
    "    \n",
    "    # AUC Score\n",
    "    print('AUC Score: '+str(metrics.roc_auc_score( x, prob )))\n",
    "    \n",
    "# function for drawing ROC curve\n",
    "def draw_roc( actual, probs ):\n",
    "    fpr, tpr, thresholds = metrics.roc_curve( actual, probs,\n",
    "                                              drop_intermediate = False )\n",
    "    auc_score = metrics.roc_auc_score( actual, probs )\n",
    "    plt.figure(figsize=(5, 5))\n",
    "    plt.plot( fpr, tpr, label='ROC curve (area = %0.2f)' % auc_score )\n",
    "    plt.plot([0, 1], [0, 1], 'k--')\n",
    "    plt.xlim([0.0, 1.0])\n",
    "    plt.ylim([0.0, 1.05])\n",
    "    plt.xlabel('False Positive Rate or [1 - True Negative Rate]')\n",
    "    plt.ylabel('True Positive Rate')\n",
    "    plt.title('Receiver operating characteristic example')\n",
    "    plt.legend(loc=\"lower right\")\n",
    "    plt.show()"
   ]
  },
  {
   "cell_type": "code",
   "execution_count": 95,
   "metadata": {
    "ExecuteTime": {
     "end_time": "2019-08-25T12:53:47.419433Z",
     "start_time": "2019-08-25T12:53:47.402448Z"
    }
   },
   "outputs": [],
   "source": [
    "X = telecom_churn_data.drop(['churn'],axis=1)\n",
    "y = telecom_churn_data['churn']\n",
    "X_cols = X.columns"
   ]
  },
  {
   "cell_type": "code",
   "execution_count": 96,
   "metadata": {
    "ExecuteTime": {
     "end_time": "2019-08-25T12:53:47.573185Z",
     "start_time": "2019-08-25T12:53:47.421395Z"
    }
   },
   "outputs": [],
   "source": [
    "# Train-Test split\n",
    "from sklearn.model_selection import train_test_split\n",
    "X_train, X_test, y_train, y_test = train_test_split(X,y, train_size=0.7,test_size=0.3,random_state=100)"
   ]
  },
  {
   "cell_type": "code",
   "execution_count": 97,
   "metadata": {
    "ExecuteTime": {
     "end_time": "2019-08-25T12:53:47.748933Z",
     "start_time": "2019-08-25T12:53:47.575985Z"
    }
   },
   "outputs": [],
   "source": [
    "# scaling the features\n",
    "from sklearn import preprocessing\n",
    "from sklearn.preprocessing import StandardScaler\n",
    "\n",
    "scaler = StandardScaler()\n",
    "\n",
    "X_train = scaler.fit_transform(X_train)\n",
    "X_test = scaler.transform(X_test)"
   ]
  },
  {
   "cell_type": "markdown",
   "metadata": {},
   "source": [
    "As seen earlier, only ~8% of customers churned. These is a class imbalance in the dataset. This will have to be treated."
   ]
  },
  {
   "cell_type": "code",
   "execution_count": 98,
   "metadata": {
    "ExecuteTime": {
     "end_time": "2019-08-25T12:53:47.772333Z",
     "start_time": "2019-08-25T12:53:47.750811Z"
    }
   },
   "outputs": [
    {
     "name": "stdout",
     "output_type": "stream",
     "text": [
      "X_train Shape (21000, 69)\n",
      "Imbalance in Train Dataset: 0.088\n"
     ]
    }
   ],
   "source": [
    "print(\"X_train Shape {}\".format(X_train.shape))\n",
    "\n",
    "y_train_imb = (y_train != 0).sum()/(y_train == 0).sum()\n",
    "print(\"Imbalance in Train Dataset: {}\".format(round(y_train_imb,3)))"
   ]
  },
  {
   "cell_type": "code",
   "execution_count": 99,
   "metadata": {
    "ExecuteTime": {
     "end_time": "2019-08-25T12:53:52.158415Z",
     "start_time": "2019-08-25T12:53:47.774297Z"
    }
   },
   "outputs": [
    {
     "name": "stderr",
     "output_type": "stream",
     "text": [
      "Using TensorFlow backend.\n"
     ]
    }
   ],
   "source": [
    "from imblearn.over_sampling import SMOTE\n",
    "sm = SMOTE(random_state=12, ratio = 1)\n",
    "X_train, y_train = sm.fit_sample(X_train, y_train)"
   ]
  },
  {
   "cell_type": "code",
   "execution_count": 100,
   "metadata": {
    "ExecuteTime": {
     "end_time": "2019-08-25T12:53:52.170386Z",
     "start_time": "2019-08-25T12:53:52.160412Z"
    }
   },
   "outputs": [
    {
     "name": "stdout",
     "output_type": "stream",
     "text": [
      "X_train Shape after SMOTE (38618, 69)\n",
      "Imbalance in Train Dataset: 1.0\n"
     ]
    }
   ],
   "source": [
    "print(\"X_train Shape after SMOTE {}\".format(X_train.shape))\n",
    "\n",
    "y_train_imb = (y_train != 0).sum()/(y_train == 0).sum()\n",
    "print(\"Imbalance in Train Dataset: {}\".format(round(y_train_imb,3)))"
   ]
  },
  {
   "cell_type": "markdown",
   "metadata": {},
   "source": [
    "Both the classes are equally represented in the dataset now."
   ]
  },
  {
   "cell_type": "markdown",
   "metadata": {},
   "source": [
    "#### PCA with Logistic Regression"
   ]
  },
  {
   "cell_type": "code",
   "execution_count": 101,
   "metadata": {
    "ExecuteTime": {
     "end_time": "2019-08-25T12:53:52.259464Z",
     "start_time": "2019-08-25T12:53:52.173376Z"
    }
   },
   "outputs": [],
   "source": [
    "from sklearn.decomposition import PCA\n",
    "pca = PCA(svd_solver='randomized', random_state=42)"
   ]
  },
  {
   "cell_type": "code",
   "execution_count": 102,
   "metadata": {
    "ExecuteTime": {
     "end_time": "2019-08-25T12:53:53.441650Z",
     "start_time": "2019-08-25T12:53:52.264435Z"
    }
   },
   "outputs": [
    {
     "name": "stdout",
     "output_type": "stream",
     "text": [
      "(38618, 69)\n",
      "(9001, 69)\n"
     ]
    }
   ],
   "source": [
    "X_train_pca = pca.fit_transform(X_train)\n",
    "print(X_train_pca.shape)\n",
    "\n",
    "X_test_pca = pca.transform(X_test)\n",
    "print(X_test_pca.shape)"
   ]
  },
  {
   "cell_type": "markdown",
   "metadata": {},
   "source": [
    "We will now perform logistic regression on the PCA modified train data."
   ]
  },
  {
   "cell_type": "code",
   "execution_count": 103,
   "metadata": {
    "ExecuteTime": {
     "end_time": "2019-08-25T12:53:54.683331Z",
     "start_time": "2019-08-25T12:53:53.443642Z"
    }
   },
   "outputs": [],
   "source": [
    "from sklearn.linear_model import LogisticRegression\n",
    "from sklearn import metrics\n",
    "log_reg_pca = LogisticRegression(C=1e9)\n",
    "log_reg_pca.fit(X_train_pca, y_train)\n",
    "\n",
    "# Prediction on test data\n",
    "y_pred = log_reg_pca.predict(X_test_pca)\n",
    "\n",
    "# predicted probabilities\n",
    "y_pred_prob = log_reg_pca.predict_proba(X_test_pca)[:,1]"
   ]
  },
  {
   "cell_type": "code",
   "execution_count": 104,
   "metadata": {
    "ExecuteTime": {
     "end_time": "2019-08-25T12:53:54.725220Z",
     "start_time": "2019-08-25T12:53:54.686323Z"
    }
   },
   "outputs": [
    {
     "name": "stdout",
     "output_type": "stream",
     "text": [
      "Overall Accuracy: 0.8519053438506833\n",
      "Confusion Matrix: \n",
      "[[7036 1215]\n",
      " [ 118  632]]\n",
      "Sensitivity: 0.8426666666666667\n",
      "Specificity: 0.8527451218034178\n",
      "False Positive Rate: 0.14725487819658223\n",
      "Positive Predictive Value: 0.3421765024363833\n",
      "Negative Predictive Value: 0.9835057310595471\n",
      "Precision: 0.3421765024363833\n",
      "Recall: 0.8426666666666667\n",
      "AUC Score: 0.9081544863248898\n"
     ]
    }
   ],
   "source": [
    "# Checking the performance of the logistic regression model with default pca.\n",
    "metricsReport(y_test,y_pred,y_pred_prob)"
   ]
  },
  {
   "cell_type": "code",
   "execution_count": 105,
   "metadata": {
    "ExecuteTime": {
     "end_time": "2019-08-25T12:53:54.838915Z",
     "start_time": "2019-08-25T12:53:54.729209Z"
    }
   },
   "outputs": [
    {
     "data": {
      "text/html": [
       "<div>\n",
       "<style scoped>\n",
       "    .dataframe tbody tr th:only-of-type {\n",
       "        vertical-align: middle;\n",
       "    }\n",
       "\n",
       "    .dataframe tbody tr th {\n",
       "        vertical-align: top;\n",
       "    }\n",
       "\n",
       "    .dataframe thead th {\n",
       "        text-align: right;\n",
       "    }\n",
       "</style>\n",
       "<table border=\"1\" class=\"dataframe\">\n",
       "  <thead>\n",
       "    <tr style=\"text-align: right;\">\n",
       "      <th></th>\n",
       "      <th>PC1</th>\n",
       "      <th>PC2</th>\n",
       "      <th>PC3</th>\n",
       "      <th>Feature</th>\n",
       "    </tr>\n",
       "  </thead>\n",
       "  <tbody>\n",
       "    <tr>\n",
       "      <th>0</th>\n",
       "      <td>0.069</td>\n",
       "      <td>0.076</td>\n",
       "      <td>0.028</td>\n",
       "      <td>aon</td>\n",
       "    </tr>\n",
       "    <tr>\n",
       "      <th>1</th>\n",
       "      <td>0.272</td>\n",
       "      <td>-0.031</td>\n",
       "      <td>0.043</td>\n",
       "      <td>arpu_good_phase</td>\n",
       "    </tr>\n",
       "    <tr>\n",
       "      <th>2</th>\n",
       "      <td>0.298</td>\n",
       "      <td>0.099</td>\n",
       "      <td>-0.026</td>\n",
       "      <td>arpu_8</td>\n",
       "    </tr>\n",
       "    <tr>\n",
       "      <th>3</th>\n",
       "      <td>0.275</td>\n",
       "      <td>-0.035</td>\n",
       "      <td>0.054</td>\n",
       "      <td>rech_amt_good_phase</td>\n",
       "    </tr>\n",
       "    <tr>\n",
       "      <th>4</th>\n",
       "      <td>0.289</td>\n",
       "      <td>0.101</td>\n",
       "      <td>-0.029</td>\n",
       "      <td>rech_amt_8</td>\n",
       "    </tr>\n",
       "    <tr>\n",
       "      <th>5</th>\n",
       "      <td>-0.085</td>\n",
       "      <td>0.156</td>\n",
       "      <td>-0.071</td>\n",
       "      <td>rech_amt_data_good_phase</td>\n",
       "    </tr>\n",
       "    <tr>\n",
       "      <th>6</th>\n",
       "      <td>-0.005</td>\n",
       "      <td>0.138</td>\n",
       "      <td>-0.067</td>\n",
       "      <td>rech_amt_data_8</td>\n",
       "    </tr>\n",
       "    <tr>\n",
       "      <th>7</th>\n",
       "      <td>0.084</td>\n",
       "      <td>-0.137</td>\n",
       "      <td>-0.189</td>\n",
       "      <td>rech_num_good_phase</td>\n",
       "    </tr>\n",
       "    <tr>\n",
       "      <th>8</th>\n",
       "      <td>0.145</td>\n",
       "      <td>-0.019</td>\n",
       "      <td>-0.182</td>\n",
       "      <td>rech_num_8</td>\n",
       "    </tr>\n",
       "    <tr>\n",
       "      <th>9</th>\n",
       "      <td>0.085</td>\n",
       "      <td>0.094</td>\n",
       "      <td>0.160</td>\n",
       "      <td>last_day_rch_amt_good_phase</td>\n",
       "    </tr>\n",
       "  </tbody>\n",
       "</table>\n",
       "</div>"
      ],
      "text/plain": [
       "     PC1    PC2    PC3                      Feature\n",
       "0  0.069  0.076  0.028                          aon\n",
       "1  0.272 -0.031  0.043              arpu_good_phase\n",
       "2  0.298  0.099 -0.026                       arpu_8\n",
       "3  0.275 -0.035  0.054          rech_amt_good_phase\n",
       "4  0.289  0.101 -0.029                   rech_amt_8\n",
       "5 -0.085  0.156 -0.071     rech_amt_data_good_phase\n",
       "6 -0.005  0.138 -0.067              rech_amt_data_8\n",
       "7  0.084 -0.137 -0.189          rech_num_good_phase\n",
       "8  0.145 -0.019 -0.182                   rech_num_8\n",
       "9  0.085  0.094  0.160  last_day_rch_amt_good_phase"
      ]
     },
     "execution_count": 105,
     "metadata": {},
     "output_type": "execute_result"
    }
   ],
   "source": [
    "# Checking the principal components weights for the first few PC's\n",
    "col = list(X_cols)\n",
    "df_pca = pd.DataFrame({'PC1':pca.components_[0],'PC2':pca.components_[1], 'PC3':pca.components_[2],'Feature':col})\n",
    "df_pca.head(10)"
   ]
  },
  {
   "cell_type": "code",
   "execution_count": 106,
   "metadata": {
    "ExecuteTime": {
     "end_time": "2019-08-25T12:53:55.649753Z",
     "start_time": "2019-08-25T12:53:54.842905Z"
    }
   },
   "outputs": [
    {
     "data": {
      "image/png": "[encoded data removed]",
      "text/plain": [
       "<Figure size 864x576 with 1 Axes>"
      ]
     },
     "metadata": {
      "needs_background": "light"
     },
     "output_type": "display_data"
    }
   ],
   "source": [
    "# Checking the cumulative variance explained by the principal components using a scree plot\n",
    "#Making the screeplot - plotting the cumulative variance against the number of components\n",
    "%matplotlib inline\n",
    "fig = plt.figure(figsize = (12,8))\n",
    "ax = fig.add_subplot(1, 1, 1)\n",
    "plt.plot(np.cumsum(pca.explained_variance_ratio_))\n",
    "plt.xlabel('number of components')\n",
    "plt.ylabel('cumulative explained variance')\n",
    "# Major ticks every 20, minor ticks every 5\n",
    "major_ticks = np.arange(0, 101, 20)\n",
    "minor_ticks = np.arange(0, 101, 5)\n",
    "minor_y_ticks = np.arange(0, 1, 0.1)\n",
    "ax.set_xlim(-5, 100)\n",
    "ax.set_ylim(0.1, 1.1)\n",
    "ax.set_xticks(major_ticks)\n",
    "ax.set_xticks(minor_ticks, minor=True)\n",
    "ax.set_yticks(minor_y_ticks, minor=True)\n",
    "# Or if you want different settings for the grids:\n",
    "ax.grid(which='minor', alpha=0.2)\n",
    "ax.grid(which='major', alpha=0.5)\n",
    "plt.show()"
   ]
  },
  {
   "cell_type": "code",
   "execution_count": 107,
   "metadata": {
    "ExecuteTime": {
     "end_time": "2019-08-25T12:53:56.733854Z",
     "start_time": "2019-08-25T12:53:55.652742Z"
    }
   },
   "outputs": [],
   "source": [
    "# From the above plot, it can be seen that ~40 PC's are enough to explain ~95% variance. Also, using incremental pca here.\n",
    "from sklearn.decomposition import IncrementalPCA\n",
    "pca_40 = PCA(n_components=40,svd_solver='randomized', random_state=42)\n",
    "\n",
    "X_train_pca_40 = pca_40.fit_transform(X_train)\n",
    "\n",
    "X_test_pca_40 = pca_40.transform(X_test)"
   ]
  },
  {
   "cell_type": "code",
   "execution_count": 108,
   "metadata": {
    "ExecuteTime": {
     "end_time": "2019-08-25T12:53:57.292363Z",
     "start_time": "2019-08-25T12:53:56.736847Z"
    }
   },
   "outputs": [],
   "source": [
    "log_reg_pca_40 = LogisticRegression(C=1e9)\n",
    "log_reg_pca_40.fit(X_train_pca_40, y_train)\n",
    "\n",
    "# Prediction on test data\n",
    "y_pred_40 = log_reg_pca_40.predict(X_test_pca_40)\n",
    "\n",
    "# predicted probabilities\n",
    "y_pred_prob = log_reg_pca_40.predict_proba(X_test_pca_40)[:,1]"
   ]
  },
  {
   "cell_type": "code",
   "execution_count": 109,
   "metadata": {
    "ExecuteTime": {
     "end_time": "2019-08-25T12:53:57.337244Z",
     "start_time": "2019-08-25T12:53:57.296353Z"
    }
   },
   "outputs": [
    {
     "name": "stdout",
     "output_type": "stream",
     "text": [
      "Overall Accuracy: 0.8460171092100878\n",
      "Confusion Matrix: \n",
      "[[6991 1260]\n",
      " [ 126  624]]\n",
      "Sensitivity: 0.832\n",
      "Specificity: 0.8472912374257666\n",
      "False Positive Rate: 0.15270876257423344\n",
      "Positive Predictive Value: 0.33121019108280253\n",
      "Negative Predictive Value: 0.9822959111985388\n",
      "Precision: 0.33121019108280253\n",
      "Recall: 0.832\n",
      "AUC Score: 0.902599119298671\n"
     ]
    }
   ],
   "source": [
    "# Checking the performance of the logistic regression model with default pca.\n",
    "metricsReport(y_test,y_pred_40,y_pred_prob)"
   ]
  },
  {
   "cell_type": "markdown",
   "metadata": {},
   "source": [
    "We will now use gridsearchCV to tune the hyper-parameters for logistic regression"
   ]
  },
  {
   "cell_type": "code",
   "execution_count": 110,
   "metadata": {
    "ExecuteTime": {
     "end_time": "2019-08-25T12:54:08.820574Z",
     "start_time": "2019-08-25T12:53:57.340235Z"
    }
   },
   "outputs": [
    {
     "data": {
      "text/plain": [
       "GridSearchCV(cv=5, error_score='raise-deprecating',\n",
       "             estimator=LogisticRegression(C=1.0, class_weight=None, dual=False,\n",
       "                                          fit_intercept=True,\n",
       "                                          intercept_scaling=1, l1_ratio=None,\n",
       "                                          max_iter=100, multi_class='warn',\n",
       "                                          n_jobs=None, penalty='l2',\n",
       "                                          random_state=None, solver='warn',\n",
       "                                          tol=0.0001, verbose=0,\n",
       "                                          warm_start=False),\n",
       "             iid='warn', n_jobs=-1,\n",
       "             param_grid={'C': [0.1, 0.5, 1, 2, 5], 'penalty': ['l1', 'l2']},\n",
       "             pre_dispatch='2*n_jobs', refit=True, return_train_score=True,\n",
       "             scoring='accuracy', verbose=0)"
      ]
     },
     "execution_count": 110,
     "metadata": {},
     "output_type": "execute_result"
    }
   ],
   "source": [
    "from sklearn.model_selection import KFold\n",
    "from sklearn.model_selection import cross_val_score\n",
    "from sklearn.model_selection import GridSearchCV\n",
    "\n",
    "# creating a KFold object with 5 splits \n",
    "folds = KFold(n_splits = 5, random_state = 42, shuffle = True)\n",
    "\n",
    "# l1 lasso l2 ridge\n",
    "grid = {'C': [0.1, 0.5, 1, 2, 5], \"penalty\":[\"l1\",\"l2\"]}\n",
    "\n",
    "model= LogisticRegression()\n",
    "\n",
    "# set up GridSearchCV()\n",
    "model_cv = GridSearchCV(model, grid ,cv=5, scoring='accuracy', return_train_score= True, n_jobs=-1)      \n",
    "\n",
    "# fit the model\n",
    "model_cv.fit(X_train_pca_40, y_train)"
   ]
  },
  {
   "cell_type": "code",
   "execution_count": 111,
   "metadata": {
    "ExecuteTime": {
     "end_time": "2019-08-25T12:54:08.832540Z",
     "start_time": "2019-08-25T12:54:08.823564Z"
    }
   },
   "outputs": [
    {
     "name": "stdout",
     "output_type": "stream",
     "text": [
      "Best parameters  {'C': 2, 'penalty': 'l2'}\n",
      "Accuracy : 0.8477393961365166\n"
     ]
    }
   ],
   "source": [
    "print(\"Best parameters \", model_cv.best_params_)\n",
    "print(\"Accuracy :\", model_cv.best_score_)"
   ]
  },
  {
   "cell_type": "code",
   "execution_count": 112,
   "metadata": {
    "ExecuteTime": {
     "end_time": "2019-08-25T12:54:09.012060Z",
     "start_time": "2019-08-25T12:54:08.835532Z"
    }
   },
   "outputs": [
    {
     "name": "stdout",
     "output_type": "stream",
     "text": [
      "Overall Accuracy: 0.8460171092100878\n",
      "Confusion Matrix: \n",
      "[[6991 1260]\n",
      " [ 126  624]]\n",
      "Sensitivity: 0.832\n",
      "Specificity: 0.8472912374257666\n",
      "False Positive Rate: 0.15270876257423344\n",
      "Positive Predictive Value: 0.33121019108280253\n",
      "Negative Predictive Value: 0.9822959111985388\n",
      "Precision: 0.33121019108280253\n",
      "Recall: 0.832\n",
      "AUC Score: 0.902599119298671\n"
     ]
    }
   ],
   "source": [
    "# Prediction on gridSearchCV tuned model\n",
    "\n",
    "y_pred_tuned_40 = model_cv.predict(X_test_pca_40)\n",
    "\n",
    "# predicted probabilities\n",
    "y_pred_tuned_40_prob = log_reg_pca_40.predict_proba(X_test_pca_40)[:,1]\n",
    "\n",
    "# prediction metrics\n",
    "metricsReport(y_test,y_pred_tuned_40,y_pred_tuned_40_prob)"
   ]
  },
  {
   "cell_type": "markdown",
   "metadata": {},
   "source": [
    "#### Random Forest Model"
   ]
  },
  {
   "cell_type": "code",
   "execution_count": 113,
   "metadata": {
    "ExecuteTime": {
     "end_time": "2019-08-25T13:14:33.761211Z",
     "start_time": "2019-08-25T12:54:09.016051Z"
    }
   },
   "outputs": [
    {
     "name": "stdout",
     "output_type": "stream",
     "text": [
      "Fitting 3 folds for each of 72 candidates, totalling 216 fits\n"
     ]
    },
    {
     "name": "stderr",
     "output_type": "stream",
     "text": [
      "[Parallel(n_jobs=-1)]: Using backend LokyBackend with 4 concurrent workers.\n",
      "[Parallel(n_jobs=-1)]: Done  42 tasks      | elapsed:  2.3min\n",
      "[Parallel(n_jobs=-1)]: Done 192 tasks      | elapsed: 16.5min\n",
      "[Parallel(n_jobs=-1)]: Done 216 out of 216 | elapsed: 19.7min finished\n"
     ]
    },
    {
     "data": {
      "text/plain": [
       "GridSearchCV(cv=3, error_score='raise-deprecating',\n",
       "             estimator=RandomForestClassifier(bootstrap=True, class_weight=None,\n",
       "                                              criterion='gini', max_depth=None,\n",
       "                                              max_features='auto',\n",
       "                                              max_leaf_nodes=None,\n",
       "                                              min_impurity_decrease=0.0,\n",
       "                                              min_impurity_split=None,\n",
       "                                              min_samples_leaf=1,\n",
       "                                              min_samples_split=2,\n",
       "                                              min_weight_fraction_leaf=0.0,\n",
       "                                              n_estimators='warn', n_jobs=None,\n",
       "                                              oob_score=False,\n",
       "                                              random_state=None, verbose=0,\n",
       "                                              warm_start=False),\n",
       "             iid='warn', n_jobs=-1,\n",
       "             param_grid={'max_depth': [4, 8, 10], 'max_features': [5, 10],\n",
       "                         'min_samples_leaf': range(100, 400, 200),\n",
       "                         'min_samples_split': range(200, 500, 200),\n",
       "                         'n_estimators': [100, 200, 300]},\n",
       "             pre_dispatch='2*n_jobs', refit=True, return_train_score=False,\n",
       "             scoring=None, verbose=1)"
      ]
     },
     "execution_count": 113,
     "metadata": {},
     "output_type": "execute_result"
    }
   ],
   "source": [
    "# Building a hyper-parameter tuned random forest model\n",
    "from sklearn.ensemble import RandomForestClassifier\n",
    "\n",
    "params = {\n",
    "    'max_depth': [4,8,10],\n",
    "    'min_samples_leaf': range(100, 400, 200),\n",
    "    'min_samples_split': range(200, 500, 200),\n",
    "    'n_estimators': [100,200, 300], \n",
    "    'max_features': [5, 10]\n",
    "}\n",
    "# Create a based model\n",
    "rf = RandomForestClassifier()\n",
    "# Instantiate the grid search model\n",
    "model_rf = GridSearchCV(estimator = rf, param_grid = params, cv = 3, n_jobs = -1,verbose = 1)\n",
    "\n",
    "model_rf.fit(X_train, y_train)"
   ]
  },
  {
   "cell_type": "code",
   "execution_count": 114,
   "metadata": {
    "ExecuteTime": {
     "end_time": "2019-08-25T13:14:33.770157Z",
     "start_time": "2019-08-25T13:14:33.763171Z"
    }
   },
   "outputs": [
    {
     "name": "stdout",
     "output_type": "stream",
     "text": [
      "Best accuracy of  0.9025324977989538  is achieved using  {'max_depth': 10, 'max_features': 10, 'min_samples_leaf': 100, 'min_samples_split': 200, 'n_estimators': 300}\n"
     ]
    }
   ],
   "source": [
    "# printing the optimal accuracy score and hyperparameters\n",
    "print('Best accuracy of ',model_rf.best_score_,' is achieved using ',model_rf.best_params_)"
   ]
  },
  {
   "cell_type": "code",
   "execution_count": 115,
   "metadata": {
    "ExecuteTime": {
     "end_time": "2019-08-25T13:14:34.607908Z",
     "start_time": "2019-08-25T13:14:33.773145Z"
    }
   },
   "outputs": [],
   "source": [
    "# Making predictions on the Random Forest Model\n",
    "\n",
    "y_pred_rf = model_rf.predict(X_test)"
   ]
  },
  {
   "cell_type": "code",
   "execution_count": 116,
   "metadata": {
    "ExecuteTime": {
     "end_time": "2019-08-25T13:14:35.001883Z",
     "start_time": "2019-08-25T13:14:34.609891Z"
    }
   },
   "outputs": [],
   "source": [
    "y_pred_prob_rf = model_rf.predict_proba(X_test)[:,1]"
   ]
  },
  {
   "cell_type": "code",
   "execution_count": 117,
   "metadata": {
    "ExecuteTime": {
     "end_time": "2019-08-25T13:14:35.025814Z",
     "start_time": "2019-08-25T13:14:35.003839Z"
    }
   },
   "outputs": [
    {
     "name": "stdout",
     "output_type": "stream",
     "text": [
      "Overall Accuracy: 0.9092323075213865\n",
      "Confusion Matrix: \n",
      "[[7613  638]\n",
      " [ 179  571]]\n",
      "Sensitivity: 0.7613333333333333\n",
      "Specificity: 0.9226760392679675\n",
      "False Positive Rate: 0.07732396073203249\n",
      "Positive Predictive Value: 0.47229114971050457\n",
      "Negative Predictive Value: 0.9770277207392197\n",
      "Precision: 0.47229114971050457\n",
      "Recall: 0.7613333333333333\n",
      "AUC Score: 0.934239243728033\n"
     ]
    }
   ],
   "source": [
    "metricsReport(y_test,y_pred_rf,y_pred_prob_rf)"
   ]
  },
  {
   "cell_type": "markdown",
   "metadata": {},
   "source": [
    "It can be seen from the above report that the Random forest model has a better accuracy then a logistic regression model with PCA."
   ]
  },
  {
   "cell_type": "code",
   "execution_count": 118,
   "metadata": {
    "ExecuteTime": {
     "end_time": "2019-08-25T13:15:19.969824Z",
     "start_time": "2019-08-25T13:14:35.027775Z"
    }
   },
   "outputs": [
    {
     "data": {
      "text/plain": [
       "RandomForestClassifier(bootstrap=True, class_weight=None, criterion='gini',\n",
       "                       max_depth=10, max_features=10, max_leaf_nodes=None,\n",
       "                       min_impurity_decrease=0.0, min_impurity_split=None,\n",
       "                       min_samples_leaf=100, min_samples_split=200,\n",
       "                       min_weight_fraction_leaf=0.0, n_estimators=300,\n",
       "                       n_jobs=None, oob_score=False, random_state=42, verbose=0,\n",
       "                       warm_start=False)"
      ]
     },
     "execution_count": 118,
     "metadata": {},
     "output_type": "execute_result"
    }
   ],
   "source": [
    "# Building the model with tuned parameters\n",
    "random_forest_model = RandomForestClassifier(max_depth=10,\n",
    "                            max_features=10,\n",
    "                            min_samples_leaf=100,\n",
    "                            min_samples_split=200,\n",
    "                            n_estimators=300,\n",
    "                            random_state=42)\n",
    "\n",
    "random_forest_model.fit(X_train,y_train)"
   ]
  },
  {
   "cell_type": "code",
   "execution_count": 119,
   "metadata": {
    "ExecuteTime": {
     "end_time": "2019-08-25T13:15:21.747086Z",
     "start_time": "2019-08-25T13:15:19.971819Z"
    },
    "scrolled": false
   },
   "outputs": [
    {
     "data": {
      "text/plain": [
       "<matplotlib.axes._subplots.AxesSubplot at 0x136670c7160>"
      ]
     },
     "execution_count": 119,
     "metadata": {},
     "output_type": "execute_result"
    },
    {
     "data": {
      "image/png": "[encoded data removed]",
      "text/plain": [
       "<Figure size 1080x2880 with 1 Axes>"
      ]
     },
     "metadata": {
      "needs_background": "light"
     },
     "output_type": "display_data"
    }
   ],
   "source": [
    "# Checking the feature importance from the random forest model\n",
    "plt.figure(figsize=(15,40))\n",
    "features = pd.Series(random_forest_model.feature_importances_, index=X.columns)\n",
    "features.nlargest(len(X.columns)).sort_values().plot(kind='barh', align='center')"
   ]
  },
  {
   "cell_type": "markdown",
   "metadata": {},
   "source": [
    "The above plot shows us the significant features for churn prediction."
   ]
  },
  {
   "cell_type": "markdown",
   "metadata": {},
   "source": [
    "### Recommendations:\n",
    "\n",
    "* loc_ic_t2t_mou_8: **local incoming calls within same telecom network**: A drop in the local incoming calls for t2t indicates a high chances of churn. Such customers can be monitored and presented with special tariffs.\n",
    "\n",
    "* loc_og_t2m_mou_8: **local outgoing calls from telecom operator to other network mobile**: A drop here again indicates a high chances of customer churn. It might be happening due to a customer's requirement of high outgoing calls to other networks.\n",
    "\n",
    "* roam_og_mou_8: **roaming outgoing calls**: A spike in outgoing roaming calls can cause a customer to churn. High roaming charges might be a reason here. Such customers can be presented with roaming special packs or given an option to switch to a local number with the same operator.\n",
    "\n",
    "* rech_days_left: **number of days left till the end of the month before the customer recharges**: If a customer waits more and more till the end of the month to recharge, it might be an indication that he's thinking about churning. Such customers can be tracked and given an opportunity to tell their requirements and the problems they might be facing.\n",
    "\n",
    "Following recommendations can be made based on EDA\n",
    "\n",
    "* **Loyalty offers**: Loyalty benefits for customers who stay for a longer preiod of time. Customers with high aon value have a lesser chance of churning.\n",
    "* **Custom Tariffs**: Customers can be given usage specific tariffs for local calls, std calls, roaming calls etc.\n",
    "* **Better and wider 3G network**: some customers might be churning for better 3G coverage. 3G availability should be increased wherever not available.\n",
    "* **Lower tariffs on data usage**"
   ]
  }
 ],
 "metadata": {
  "kernelspec": {
   "display_name": "Python 3",
   "language": "python",
   "name": "python3"
  },
  "language_info": {
   "codemirror_mode": {
    "name": "ipython",
    "version": 3
   },
   "file_extension": ".py",
   "mimetype": "text/x-python",
   "name": "python",
   "nbconvert_exporter": "python",
   "pygments_lexer": "ipython3",
   "version": "3.7.3"
  }
 },
 "nbformat": 4,
 "nbformat_minor": 2
}
