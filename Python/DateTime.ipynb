{
 "cells": [
  {
   "cell_type": "code",
   "execution_count": 1,
   "metadata": {},
   "outputs": [],
   "source": [
    "import datetime"
   ]
  },
  {
   "cell_type": "code",
   "execution_count": 2,
   "metadata": {},
   "outputs": [
    {
     "name": "stdout",
     "output_type": "stream",
     "text": [
      "2016-07-24\n"
     ]
    }
   ],
   "source": [
    "d = datetime.date(2016,7,24)\n",
    "print(d)"
   ]
  },
  {
   "cell_type": "code",
   "execution_count": 3,
   "metadata": {},
   "outputs": [
    {
     "name": "stdout",
     "output_type": "stream",
     "text": [
      "2019-04-14\n"
     ]
    }
   ],
   "source": [
    "tday = datetime.date.today()\n",
    "print(tday)"
   ]
  },
  {
   "cell_type": "code",
   "execution_count": 4,
   "metadata": {},
   "outputs": [
    {
     "name": "stdout",
     "output_type": "stream",
     "text": [
      "2019\n",
      "4\n",
      "14\n",
      "6\n",
      "7\n"
     ]
    }
   ],
   "source": [
    "print(tday.year)\n",
    "print(tday.month)\n",
    "print(tday.day)\n",
    "print(tday.weekday()) #Monday is 0\n",
    "print(tday.isoweekday()) #Monday is 1"
   ]
  },
  {
   "cell_type": "code",
   "execution_count": 5,
   "metadata": {},
   "outputs": [
    {
     "name": "stdout",
     "output_type": "stream",
     "text": [
      "2019-04-21\n",
      "2019-04-07\n"
     ]
    }
   ],
   "source": [
    "tdelta = datetime.timedelta(days=7)\n",
    "print(tday+tdelta)\n",
    "print(tday-tdelta)"
   ]
  },
  {
   "cell_type": "code",
   "execution_count": 6,
   "metadata": {},
   "outputs": [
    {
     "name": "stdout",
     "output_type": "stream",
     "text": [
      "268 days, 0:00:00\n",
      "23155200.0\n"
     ]
    }
   ],
   "source": [
    "bday = datetime.date(2020,1,7)\n",
    "till_bday = bday - tday\n",
    "print(till_bday)\n",
    "print(till_bday.total_seconds())"
   ]
  },
  {
   "cell_type": "code",
   "execution_count": 7,
   "metadata": {},
   "outputs": [
    {
     "name": "stdout",
     "output_type": "stream",
     "text": [
      "09:30:45.100000\n",
      "9\n"
     ]
    }
   ],
   "source": [
    "t = datetime.time(9,30,45,100000)\n",
    "print(t)\n",
    "print(t.hour)"
   ]
  },
  {
   "cell_type": "code",
   "execution_count": 8,
   "metadata": {},
   "outputs": [
    {
     "name": "stdout",
     "output_type": "stream",
     "text": [
      "2019-02-21 12:30:45.100000\n",
      "2019-02-21\n",
      "12:30:45.100000\n",
      "2019\n"
     ]
    }
   ],
   "source": [
    "dt = datetime.datetime(2019,2,21,12,30,45,100000)\n",
    "print(dt)\n",
    "print(dt.date())\n",
    "print(dt.time())\n",
    "print(dt.year)"
   ]
  },
  {
   "cell_type": "code",
   "execution_count": 9,
   "metadata": {},
   "outputs": [
    {
     "name": "stdout",
     "output_type": "stream",
     "text": [
      "2019-04-14 08:53:10.106117\n",
      "2019-04-14 08:53:10.106116\n",
      "2019-04-14 03:23:10.106116\n"
     ]
    }
   ],
   "source": [
    "dt = datetime.datetime.today()\n",
    "dt_now = datetime.datetime.now()\n",
    "dt_utcnow = datetime.datetime.utcnow()\n",
    "print(dt) #Current local time\n",
    "print(dt_now) #local time with timezone info\n",
    "print(dt_utcnow) #UTC local time"
   ]
  },
  {
   "cell_type": "code",
   "execution_count": 10,
   "metadata": {},
   "outputs": [],
   "source": [
    "import pytz"
   ]
  },
  {
   "cell_type": "code",
   "execution_count": 12,
   "metadata": {},
   "outputs": [
    {
     "name": "stdout",
     "output_type": "stream",
     "text": [
      "2019-02-22 12:30:45+00:00\n",
      "2019-04-14 03:23:57.474822+00:00\n",
      "2019-04-14 03:23:57.474822+00:00\n",
      "2019-04-14 08:53:57.474822+05:30\n"
     ]
    }
   ],
   "source": [
    "dt = datetime.datetime(2019,2,22,12,30,45,tzinfo=pytz.UTC)\n",
    "print(dt)\n",
    "dt_now = datetime.datetime.now(tz=pytz.UTC)\n",
    "print(dt_now)\n",
    "dt_utcnow = datetime.datetime.utcnow().replace(tzinfo=pytz.UTC)\n",
    "print(dt_utcnow)\n",
    "dt_now_ist = dt_now.astimezone(pytz.timezone('Asia/Calcutta'))\n",
    "print(dt_now_ist)"
   ]
  },
  {
   "cell_type": "code",
   "execution_count": 13,
   "metadata": {},
   "outputs": [
    {
     "name": "stdout",
     "output_type": "stream",
     "text": [
      "2019-04-14 08:54:01.493476\n",
      "2019-04-14 08:54:01.493476+05:30\n",
      "2019-04-14T08:54:01.493476+05:30\n",
      "April 14, 2019\n",
      "2019-02-22 00:00:00\n"
     ]
    }
   ],
   "source": [
    "dt_now = datetime.datetime.now()\n",
    "print(dt_now)\n",
    "dt_ist = dt_now.astimezone(pytz.timezone('Asia/Calcutta'))\n",
    "print(dt_ist)\n",
    "print(dt_ist.isoformat())\n",
    "print(dt_ist.strftime('%B %d, %Y')) # datetime to string\n",
    "dt_str = 'February 22, 2019'\n",
    "dt = datetime.datetime.strptime(dt_str, '%B %d, %Y') #string to datetime\n",
    "print(dt)"
   ]
  }
 ],
 "metadata": {
  "kernelspec": {
   "display_name": "Python 3",
   "language": "python",
   "name": "python3"
  },
  "language_info": {
   "codemirror_mode": {
    "name": "ipython",
    "version": 3
   },
   "file_extension": ".py",
   "mimetype": "text/x-python",
   "name": "python",
   "nbconvert_exporter": "python",
   "pygments_lexer": "ipython3",
   "version": "3.7.1"
  }
 },
 "nbformat": 4,
 "nbformat_minor": 2
}
