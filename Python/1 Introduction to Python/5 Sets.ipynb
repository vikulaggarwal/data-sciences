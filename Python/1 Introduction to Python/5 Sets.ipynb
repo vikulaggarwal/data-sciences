{
 "cells": [
  {
   "cell_type": "code",
   "execution_count": 2,
   "metadata": {},
   "outputs": [],
   "source": [
    "students_list = ['A','A','B','C','C','E','N']"
   ]
  },
  {
   "cell_type": "code",
   "execution_count": 4,
   "metadata": {},
   "outputs": [
    {
     "name": "stdout",
     "output_type": "stream",
     "text": [
      "{'B', 'E', 'C', 'N', 'A'}\n",
      "<class 'set'>\n"
     ]
    }
   ],
   "source": [
    "students_set = set(students_list)\n",
    "print(students_set)\n",
    "print(type(students_set))"
   ]
  },
  {
   "cell_type": "code",
   "execution_count": 5,
   "metadata": {},
   "outputs": [
    {
     "name": "stdout",
     "output_type": "stream",
     "text": [
      "{'B', 'E', 'C', 'N', 'A'}\n",
      "<class 'set'>\n"
     ]
    }
   ],
   "source": [
    "set_1 = {'A','A','B','C','C','E','N'}\n",
    "print(set_1)\n",
    "print(type(set_1))"
   ]
  },
  {
   "cell_type": "code",
   "execution_count": 2,
   "metadata": {
    "ExecuteTime": {
     "end_time": "2019-04-15T13:44:06.053565Z",
     "start_time": "2019-04-15T13:44:06.038524Z"
    }
   },
   "outputs": [
    {
     "name": "stdout",
     "output_type": "stream",
     "text": [
      "['A', 'F', 'G', 'N']\n"
     ]
    }
   ],
   "source": [
    "students_list_2 = ['A','N','F','N','G','A']\n",
    "students_set_2 = set(students_list_2)\n",
    "print(sorted(students_set_2))"
   ]
  },
  {
   "cell_type": "code",
   "execution_count": 7,
   "metadata": {},
   "outputs": [
    {
     "name": "stdout",
     "output_type": "stream",
     "text": [
      "{'N', 'A'}\n"
     ]
    }
   ],
   "source": [
    "print(students_set.intersection(students_set_2))"
   ]
  },
  {
   "cell_type": "code",
   "execution_count": 8,
   "metadata": {},
   "outputs": [
    {
     "name": "stdout",
     "output_type": "stream",
     "text": [
      "{'B', 'E', 'G', 'C', 'F', 'N', 'A'}\n"
     ]
    }
   ],
   "source": [
    "print(students_set.union(students_set_2))"
   ]
  },
  {
   "cell_type": "code",
   "execution_count": 9,
   "metadata": {},
   "outputs": [
    {
     "name": "stdout",
     "output_type": "stream",
     "text": [
      "{'B', 'C', 'E'}\n",
      "{'B', 'E', 'G', 'C', 'F'}\n"
     ]
    }
   ],
   "source": [
    "print(students_set.difference(students_set_2))\n",
    "print(students_set.symmetric_difference(students_set_2))"
   ]
  }
 ],
 "metadata": {
  "anaconda-cloud": {},
  "kernelspec": {
   "display_name": "Python 3",
   "language": "python",
   "name": "python3"
  },
  "language_info": {
   "codemirror_mode": {
    "name": "ipython",
    "version": 3
   },
   "file_extension": ".py",
   "mimetype": "text/x-python",
   "name": "python",
   "nbconvert_exporter": "python",
   "pygments_lexer": "ipython3",
   "version": "3.7.1"
  }
 },
 "nbformat": 4,
 "nbformat_minor": 1
}
