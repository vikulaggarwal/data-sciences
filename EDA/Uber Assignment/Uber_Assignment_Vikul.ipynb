{
 "cells": [
  {
   "cell_type": "markdown",
   "metadata": {},
   "source": [
    "# Uber Supply-Demand Gap"
   ]
  },
  {
   "cell_type": "code",
   "execution_count": 1,
   "metadata": {},
   "outputs": [],
   "source": [
    "# importing essential python modules\n",
    "import numpy as np\n",
    "import pandas as pd\n",
    "import datetime\n",
    "import calendar\n",
    "import matplotlib.pyplot as plt\n",
    "import seaborn as sns"
   ]
  },
  {
   "cell_type": "code",
   "execution_count": 2,
   "metadata": {},
   "outputs": [
    {
     "data": {
      "text/html": [
       "<div>\n",
       "<style scoped>\n",
       "    .dataframe tbody tr th:only-of-type {\n",
       "        vertical-align: middle;\n",
       "    }\n",
       "\n",
       "    .dataframe tbody tr th {\n",
       "        vertical-align: top;\n",
       "    }\n",
       "\n",
       "    .dataframe thead th {\n",
       "        text-align: right;\n",
       "    }\n",
       "</style>\n",
       "<table border=\"1\" class=\"dataframe\">\n",
       "  <thead>\n",
       "    <tr style=\"text-align: right;\">\n",
       "      <th></th>\n",
       "      <th>Request id</th>\n",
       "      <th>Pickup point</th>\n",
       "      <th>Driver id</th>\n",
       "      <th>Status</th>\n",
       "      <th>Request timestamp</th>\n",
       "      <th>Drop timestamp</th>\n",
       "    </tr>\n",
       "  </thead>\n",
       "  <tbody>\n",
       "    <tr>\n",
       "      <th>0</th>\n",
       "      <td>619</td>\n",
       "      <td>Airport</td>\n",
       "      <td>1.0</td>\n",
       "      <td>Trip Completed</td>\n",
       "      <td>11/7/2016 11:51</td>\n",
       "      <td>11/7/2016 13:00</td>\n",
       "    </tr>\n",
       "    <tr>\n",
       "      <th>1</th>\n",
       "      <td>867</td>\n",
       "      <td>Airport</td>\n",
       "      <td>1.0</td>\n",
       "      <td>Trip Completed</td>\n",
       "      <td>11/7/2016 17:57</td>\n",
       "      <td>11/7/2016 18:47</td>\n",
       "    </tr>\n",
       "    <tr>\n",
       "      <th>2</th>\n",
       "      <td>1807</td>\n",
       "      <td>City</td>\n",
       "      <td>1.0</td>\n",
       "      <td>Trip Completed</td>\n",
       "      <td>12/7/2016 9:17</td>\n",
       "      <td>12/7/2016 9:58</td>\n",
       "    </tr>\n",
       "    <tr>\n",
       "      <th>3</th>\n",
       "      <td>2532</td>\n",
       "      <td>Airport</td>\n",
       "      <td>1.0</td>\n",
       "      <td>Trip Completed</td>\n",
       "      <td>12/7/2016 21:08</td>\n",
       "      <td>12/7/2016 22:03</td>\n",
       "    </tr>\n",
       "    <tr>\n",
       "      <th>4</th>\n",
       "      <td>3112</td>\n",
       "      <td>City</td>\n",
       "      <td>1.0</td>\n",
       "      <td>Trip Completed</td>\n",
       "      <td>13-07-2016 08:33:16</td>\n",
       "      <td>13-07-2016 09:25:47</td>\n",
       "    </tr>\n",
       "  </tbody>\n",
       "</table>\n",
       "</div>"
      ],
      "text/plain": [
       "   Request id Pickup point  Driver id          Status    Request timestamp  \\\n",
       "0         619      Airport        1.0  Trip Completed      11/7/2016 11:51   \n",
       "1         867      Airport        1.0  Trip Completed      11/7/2016 17:57   \n",
       "2        1807         City        1.0  Trip Completed       12/7/2016 9:17   \n",
       "3        2532      Airport        1.0  Trip Completed      12/7/2016 21:08   \n",
       "4        3112         City        1.0  Trip Completed  13-07-2016 08:33:16   \n",
       "\n",
       "        Drop timestamp  \n",
       "0      11/7/2016 13:00  \n",
       "1      11/7/2016 18:47  \n",
       "2       12/7/2016 9:58  \n",
       "3      12/7/2016 22:03  \n",
       "4  13-07-2016 09:25:47  "
      ]
     },
     "execution_count": 2,
     "metadata": {},
     "output_type": "execute_result"
    }
   ],
   "source": [
    "df = pd.read_csv(\"./Uber Request Data.csv\")\n",
    "df.head()"
   ]
  },
  {
   "cell_type": "code",
   "execution_count": 3,
   "metadata": {},
   "outputs": [
    {
     "name": "stdout",
     "output_type": "stream",
     "text": [
      "6745\n"
     ]
    }
   ],
   "source": [
    "# total number of rows\n",
    "print(len(df.index))"
   ]
  },
  {
   "cell_type": "code",
   "execution_count": 4,
   "metadata": {},
   "outputs": [],
   "source": [
    "# fixing the column names to convert them into lowercase and use underscores instead of spaces.\n",
    "df.columns = df.columns.str.strip().str.lower().str.replace(' ', '_')"
   ]
  },
  {
   "cell_type": "code",
   "execution_count": 5,
   "metadata": {},
   "outputs": [
    {
     "data": {
      "text/plain": [
       "0"
      ]
     },
     "execution_count": 5,
     "metadata": {},
     "output_type": "execute_result"
    }
   ],
   "source": [
    "# checking the number of duplicate rows on the basis of request id\n",
    "len(df[df.duplicated(subset='request_id')].index)"
   ]
  },
  {
   "cell_type": "markdown",
   "metadata": {},
   "source": [
    "### There are not duplicate rows"
   ]
  },
  {
   "cell_type": "code",
   "execution_count": 6,
   "metadata": {},
   "outputs": [
    {
     "data": {
      "text/html": [
       "<div>\n",
       "<style scoped>\n",
       "    .dataframe tbody tr th:only-of-type {\n",
       "        vertical-align: middle;\n",
       "    }\n",
       "\n",
       "    .dataframe tbody tr th {\n",
       "        vertical-align: top;\n",
       "    }\n",
       "\n",
       "    .dataframe thead th {\n",
       "        text-align: right;\n",
       "    }\n",
       "</style>\n",
       "<table border=\"1\" class=\"dataframe\">\n",
       "  <thead>\n",
       "    <tr style=\"text-align: right;\">\n",
       "      <th></th>\n",
       "      <th>request_id</th>\n",
       "      <th>pickup_point</th>\n",
       "      <th>driver_id</th>\n",
       "      <th>status</th>\n",
       "      <th>request_timestamp</th>\n",
       "      <th>drop_timestamp</th>\n",
       "    </tr>\n",
       "  </thead>\n",
       "  <tbody>\n",
       "  </tbody>\n",
       "</table>\n",
       "</div>"
      ],
      "text/plain": [
       "Empty DataFrame\n",
       "Columns: [request_id, pickup_point, driver_id, status, request_timestamp, drop_timestamp]\n",
       "Index: []"
      ]
     },
     "execution_count": 6,
     "metadata": {},
     "output_type": "execute_result"
    }
   ],
   "source": [
    "# checking if the  value for request id, pickup point or request timestamp is NA for any rows\n",
    "df[df.request_id.isna() | df.pickup_point.isna() | df.status.isna() | df.request_timestamp.isna()]"
   ]
  },
  {
   "cell_type": "markdown",
   "metadata": {},
   "source": [
    "### There are no rows with missing values for Request id, Pickup point, Status or Request timestamp"
   ]
  },
  {
   "cell_type": "code",
   "execution_count": 7,
   "metadata": {},
   "outputs": [
    {
     "data": {
      "text/html": [
       "<div>\n",
       "<style scoped>\n",
       "    .dataframe tbody tr th:only-of-type {\n",
       "        vertical-align: middle;\n",
       "    }\n",
       "\n",
       "    .dataframe tbody tr th {\n",
       "        vertical-align: top;\n",
       "    }\n",
       "\n",
       "    .dataframe thead th {\n",
       "        text-align: right;\n",
       "    }\n",
       "</style>\n",
       "<table border=\"1\" class=\"dataframe\">\n",
       "  <thead>\n",
       "    <tr style=\"text-align: right;\">\n",
       "      <th></th>\n",
       "      <th>request_id</th>\n",
       "      <th>pickup_point</th>\n",
       "      <th>driver_id</th>\n",
       "      <th>status</th>\n",
       "      <th>request_timestamp</th>\n",
       "      <th>drop_timestamp</th>\n",
       "    </tr>\n",
       "  </thead>\n",
       "  <tbody>\n",
       "    <tr>\n",
       "      <th>0</th>\n",
       "      <td>619</td>\n",
       "      <td>Airport</td>\n",
       "      <td>1.0</td>\n",
       "      <td>Trip Completed</td>\n",
       "      <td>11-7-2016 11:51</td>\n",
       "      <td>11-7-2016 13:00</td>\n",
       "    </tr>\n",
       "    <tr>\n",
       "      <th>1</th>\n",
       "      <td>867</td>\n",
       "      <td>Airport</td>\n",
       "      <td>1.0</td>\n",
       "      <td>Trip Completed</td>\n",
       "      <td>11-7-2016 17:57</td>\n",
       "      <td>11-7-2016 18:47</td>\n",
       "    </tr>\n",
       "    <tr>\n",
       "      <th>2</th>\n",
       "      <td>1807</td>\n",
       "      <td>City</td>\n",
       "      <td>1.0</td>\n",
       "      <td>Trip Completed</td>\n",
       "      <td>12-7-2016 9:17</td>\n",
       "      <td>12-7-2016 9:58</td>\n",
       "    </tr>\n",
       "    <tr>\n",
       "      <th>3</th>\n",
       "      <td>2532</td>\n",
       "      <td>Airport</td>\n",
       "      <td>1.0</td>\n",
       "      <td>Trip Completed</td>\n",
       "      <td>12-7-2016 21:08</td>\n",
       "      <td>12-7-2016 22:03</td>\n",
       "    </tr>\n",
       "    <tr>\n",
       "      <th>4</th>\n",
       "      <td>3112</td>\n",
       "      <td>City</td>\n",
       "      <td>1.0</td>\n",
       "      <td>Trip Completed</td>\n",
       "      <td>13-07-2016 08:33:16</td>\n",
       "      <td>13-07-2016 09:25:47</td>\n",
       "    </tr>\n",
       "  </tbody>\n",
       "</table>\n",
       "</div>"
      ],
      "text/plain": [
       "   request_id pickup_point  driver_id          status    request_timestamp  \\\n",
       "0         619      Airport        1.0  Trip Completed      11-7-2016 11:51   \n",
       "1         867      Airport        1.0  Trip Completed      11-7-2016 17:57   \n",
       "2        1807         City        1.0  Trip Completed       12-7-2016 9:17   \n",
       "3        2532      Airport        1.0  Trip Completed      12-7-2016 21:08   \n",
       "4        3112         City        1.0  Trip Completed  13-07-2016 08:33:16   \n",
       "\n",
       "        drop_timestamp  \n",
       "0      11-7-2016 13:00  \n",
       "1      11-7-2016 18:47  \n",
       "2       12-7-2016 9:58  \n",
       "3      12-7-2016 22:03  \n",
       "4  13-07-2016 09:25:47  "
      ]
     },
     "execution_count": 7,
     "metadata": {},
     "output_type": "execute_result"
    }
   ],
   "source": [
    "# Making the time separator consistent\n",
    "df.request_timestamp = df.request_timestamp.str.replace(\"/\",\"-\")\n",
    "df.drop_timestamp = df.drop_timestamp.str.replace(\"/\",\"-\")\n",
    "df.head()"
   ]
  },
  {
   "cell_type": "code",
   "execution_count": 8,
   "metadata": {},
   "outputs": [
    {
     "data": {
      "text/html": [
       "<div>\n",
       "<style scoped>\n",
       "    .dataframe tbody tr th:only-of-type {\n",
       "        vertical-align: middle;\n",
       "    }\n",
       "\n",
       "    .dataframe tbody tr th {\n",
       "        vertical-align: top;\n",
       "    }\n",
       "\n",
       "    .dataframe thead th {\n",
       "        text-align: right;\n",
       "    }\n",
       "</style>\n",
       "<table border=\"1\" class=\"dataframe\">\n",
       "  <thead>\n",
       "    <tr style=\"text-align: right;\">\n",
       "      <th></th>\n",
       "      <th>request_id</th>\n",
       "      <th>pickup_point</th>\n",
       "      <th>driver_id</th>\n",
       "      <th>status</th>\n",
       "      <th>request_timestamp</th>\n",
       "      <th>drop_timestamp</th>\n",
       "    </tr>\n",
       "  </thead>\n",
       "  <tbody>\n",
       "    <tr>\n",
       "      <th>0</th>\n",
       "      <td>619</td>\n",
       "      <td>Airport</td>\n",
       "      <td>1.0</td>\n",
       "      <td>Trip Completed</td>\n",
       "      <td>2016-07-11 11:51:00</td>\n",
       "      <td>2016-07-11 13:00:00</td>\n",
       "    </tr>\n",
       "    <tr>\n",
       "      <th>1</th>\n",
       "      <td>867</td>\n",
       "      <td>Airport</td>\n",
       "      <td>1.0</td>\n",
       "      <td>Trip Completed</td>\n",
       "      <td>2016-07-11 17:57:00</td>\n",
       "      <td>2016-07-11 18:47:00</td>\n",
       "    </tr>\n",
       "    <tr>\n",
       "      <th>2</th>\n",
       "      <td>1807</td>\n",
       "      <td>City</td>\n",
       "      <td>1.0</td>\n",
       "      <td>Trip Completed</td>\n",
       "      <td>2016-07-12 09:17:00</td>\n",
       "      <td>2016-07-12 09:58:00</td>\n",
       "    </tr>\n",
       "    <tr>\n",
       "      <th>3</th>\n",
       "      <td>2532</td>\n",
       "      <td>Airport</td>\n",
       "      <td>1.0</td>\n",
       "      <td>Trip Completed</td>\n",
       "      <td>2016-07-12 21:08:00</td>\n",
       "      <td>2016-07-12 22:03:00</td>\n",
       "    </tr>\n",
       "    <tr>\n",
       "      <th>4</th>\n",
       "      <td>3112</td>\n",
       "      <td>City</td>\n",
       "      <td>1.0</td>\n",
       "      <td>Trip Completed</td>\n",
       "      <td>2016-07-13 08:33:16</td>\n",
       "      <td>2016-07-13 09:25:47</td>\n",
       "    </tr>\n",
       "  </tbody>\n",
       "</table>\n",
       "</div>"
      ],
      "text/plain": [
       "   request_id pickup_point  driver_id          status   request_timestamp  \\\n",
       "0         619      Airport        1.0  Trip Completed 2016-07-11 11:51:00   \n",
       "1         867      Airport        1.0  Trip Completed 2016-07-11 17:57:00   \n",
       "2        1807         City        1.0  Trip Completed 2016-07-12 09:17:00   \n",
       "3        2532      Airport        1.0  Trip Completed 2016-07-12 21:08:00   \n",
       "4        3112         City        1.0  Trip Completed 2016-07-13 08:33:16   \n",
       "\n",
       "       drop_timestamp  \n",
       "0 2016-07-11 13:00:00  \n",
       "1 2016-07-11 18:47:00  \n",
       "2 2016-07-12 09:58:00  \n",
       "3 2016-07-12 22:03:00  \n",
       "4 2016-07-13 09:25:47  "
      ]
     },
     "execution_count": 8,
     "metadata": {},
     "output_type": "execute_result"
    }
   ],
   "source": [
    "# Converting the timestamp columns to datatime data type so that they can be used for analysis\n",
    "df['request_timestamp'] = pd.to_datetime(df['request_timestamp'],dayfirst=True)\n",
    "df['drop_timestamp'] = pd.to_datetime(df['drop_timestamp'],dayfirst=True)\n",
    "df.head()"
   ]
  },
  {
   "cell_type": "code",
   "execution_count": 9,
   "metadata": {},
   "outputs": [
    {
     "data": {
      "text/html": [
       "<div>\n",
       "<style scoped>\n",
       "    .dataframe tbody tr th:only-of-type {\n",
       "        vertical-align: middle;\n",
       "    }\n",
       "\n",
       "    .dataframe tbody tr th {\n",
       "        vertical-align: top;\n",
       "    }\n",
       "\n",
       "    .dataframe thead th {\n",
       "        text-align: right;\n",
       "    }\n",
       "</style>\n",
       "<table border=\"1\" class=\"dataframe\">\n",
       "  <thead>\n",
       "    <tr style=\"text-align: right;\">\n",
       "      <th></th>\n",
       "      <th>request_id</th>\n",
       "      <th>pickup_point</th>\n",
       "      <th>driver_id</th>\n",
       "      <th>status</th>\n",
       "      <th>request_timestamp</th>\n",
       "      <th>drop_timestamp</th>\n",
       "      <th>request_date</th>\n",
       "      <th>request_day_of_the_week</th>\n",
       "      <th>request_hour</th>\n",
       "    </tr>\n",
       "  </thead>\n",
       "  <tbody>\n",
       "    <tr>\n",
       "      <th>0</th>\n",
       "      <td>619</td>\n",
       "      <td>Airport</td>\n",
       "      <td>1.0</td>\n",
       "      <td>Trip Completed</td>\n",
       "      <td>2016-07-11 11:51:00</td>\n",
       "      <td>2016-07-11 13:00:00</td>\n",
       "      <td>11</td>\n",
       "      <td>Monday</td>\n",
       "      <td>11</td>\n",
       "    </tr>\n",
       "    <tr>\n",
       "      <th>1</th>\n",
       "      <td>867</td>\n",
       "      <td>Airport</td>\n",
       "      <td>1.0</td>\n",
       "      <td>Trip Completed</td>\n",
       "      <td>2016-07-11 17:57:00</td>\n",
       "      <td>2016-07-11 18:47:00</td>\n",
       "      <td>11</td>\n",
       "      <td>Monday</td>\n",
       "      <td>17</td>\n",
       "    </tr>\n",
       "    <tr>\n",
       "      <th>2</th>\n",
       "      <td>1807</td>\n",
       "      <td>City</td>\n",
       "      <td>1.0</td>\n",
       "      <td>Trip Completed</td>\n",
       "      <td>2016-07-12 09:17:00</td>\n",
       "      <td>2016-07-12 09:58:00</td>\n",
       "      <td>12</td>\n",
       "      <td>Tuesday</td>\n",
       "      <td>9</td>\n",
       "    </tr>\n",
       "    <tr>\n",
       "      <th>3</th>\n",
       "      <td>2532</td>\n",
       "      <td>Airport</td>\n",
       "      <td>1.0</td>\n",
       "      <td>Trip Completed</td>\n",
       "      <td>2016-07-12 21:08:00</td>\n",
       "      <td>2016-07-12 22:03:00</td>\n",
       "      <td>12</td>\n",
       "      <td>Tuesday</td>\n",
       "      <td>21</td>\n",
       "    </tr>\n",
       "    <tr>\n",
       "      <th>4</th>\n",
       "      <td>3112</td>\n",
       "      <td>City</td>\n",
       "      <td>1.0</td>\n",
       "      <td>Trip Completed</td>\n",
       "      <td>2016-07-13 08:33:16</td>\n",
       "      <td>2016-07-13 09:25:47</td>\n",
       "      <td>13</td>\n",
       "      <td>Wednesday</td>\n",
       "      <td>8</td>\n",
       "    </tr>\n",
       "  </tbody>\n",
       "</table>\n",
       "</div>"
      ],
      "text/plain": [
       "   request_id pickup_point  driver_id          status   request_timestamp  \\\n",
       "0         619      Airport        1.0  Trip Completed 2016-07-11 11:51:00   \n",
       "1         867      Airport        1.0  Trip Completed 2016-07-11 17:57:00   \n",
       "2        1807         City        1.0  Trip Completed 2016-07-12 09:17:00   \n",
       "3        2532      Airport        1.0  Trip Completed 2016-07-12 21:08:00   \n",
       "4        3112         City        1.0  Trip Completed 2016-07-13 08:33:16   \n",
       "\n",
       "       drop_timestamp  request_date request_day_of_the_week  request_hour  \n",
       "0 2016-07-11 13:00:00            11                  Monday            11  \n",
       "1 2016-07-11 18:47:00            11                  Monday            17  \n",
       "2 2016-07-12 09:58:00            12                 Tuesday             9  \n",
       "3 2016-07-12 22:03:00            12                 Tuesday            21  \n",
       "4 2016-07-13 09:25:47            13               Wednesday             8  "
      ]
     },
     "execution_count": 9,
     "metadata": {},
     "output_type": "execute_result"
    }
   ],
   "source": [
    "# Extracting request_date, request_day_of_the_week and request_hour columns from the request_timestamp column\n",
    "df['request_date'] = df.request_timestamp.dt.day\n",
    "df['request_day_of_the_week'] = df.request_timestamp.apply(lambda x : calendar.day_name[x.weekday()])\n",
    "df['request_hour'] = df.request_timestamp.dt.hour\n",
    "df.head()"
   ]
  },
  {
   "cell_type": "markdown",
   "metadata": {},
   "source": [
    "## Results Expected - Part 1"
   ]
  },
  {
   "cell_type": "markdown",
   "metadata": {},
   "source": [
    "## Analysis by status"
   ]
  },
  {
   "cell_type": "markdown",
   "metadata": {},
   "source": [
    "### Creating 5 different dataframes for 5 days under observation and then grouping the data to create plots"
   ]
  },
  {
   "cell_type": "code",
   "execution_count": 10,
   "metadata": {},
   "outputs": [
    {
     "data": {
      "text/plain": [
       "Text(0, 0.5, 'No of Requests')"
      ]
     },
     "execution_count": 10,
     "metadata": {},
     "output_type": "execute_result"
    },
    {
     "data": {
      "image/png": "[encoded data removed]",
      "text/plain": [
       "<Figure size 864x288 with 1 Axes>"
      ]
     },
     "metadata": {
      "needs_background": "light"
     },
     "output_type": "display_data"
    },
    {
     "data": {
      "image/png": "[encoded data removed]",
      "text/plain": [
       "<Figure size 864x288 with 1 Axes>"
      ]
     },
     "metadata": {
      "needs_background": "light"
     },
     "output_type": "display_data"
    },
    {
     "data": {
      "image/png": "[encoded data removed]",
      "text/plain": [
       "<Figure size 864x288 with 1 Axes>"
      ]
     },
     "metadata": {
      "needs_background": "light"
     },
     "output_type": "display_data"
    },
    {
     "data": {
      "image/png": "[encoded data removed]",
      "text/plain": [
       "<Figure size 864x288 with 1 Axes>"
      ]
     },
     "metadata": {
      "needs_background": "light"
     },
     "output_type": "display_data"
    },
    {
     "data": {
      "image/png": "[encoded data removed]",
      "text/plain": [
       "<Figure size 864x288 with 1 Axes>"
      ]
     },
     "metadata": {
      "needs_background": "light"
     },
     "output_type": "display_data"
    }
   ],
   "source": [
    "# Creating a day-wise grouping for request_hour and status so that a plot can be created for number of requests\n",
    "# Day of the week Monday\n",
    "df_group_by_hour_status_mon = df[df.request_day_of_the_week == \"Monday\"].groupby(['request_hour','status'])['request_id'].count().unstack()\n",
    "# Day of the week Tuesday\n",
    "df_group_by_hour_status_tue = df[df.request_day_of_the_week == \"Tuesday\"].groupby(['request_hour','status'])['request_id'].count().unstack()\n",
    "# Day of the week Wednesday\n",
    "df_group_by_hour_status_wed = df[df.request_day_of_the_week == \"Wednesday\"].groupby(['request_hour','status'])['request_id'].count().unstack()\n",
    "# Day of the week Thursday\n",
    "df_group_by_hour_status_thu = df[df.request_day_of_the_week == \"Thursday\"].groupby(['request_hour','status'])['request_id'].count().unstack()\n",
    "# Day of the week Friday\n",
    "df_group_by_hour_status_fri = df[df.request_day_of_the_week == \"Friday\"].groupby(['request_hour','status'])['request_id'].count().unstack()\n",
    "\n",
    "mon_plot = df_group_by_hour_status_mon.plot(kind='bar',stacked=True,title=\"Requests by status on Monday\",figsize=(12,4))\n",
    "mon_plot.legend(title=\"Status\", bbox_to_anchor=(1, 1))\n",
    "mon_plot.title.set_size(15)\n",
    "mon_plot.set_xlabel(\"Request Hour\",fontsize=12,fontweight='bold')\n",
    "mon_plot.set_ylabel(\"No of Requests\",fontsize=12,fontweight='bold')\n",
    "\n",
    "tue_plot = df_group_by_hour_status_tue.plot(kind='bar',stacked=True,title=\"Requests by status on Tuesday\",figsize=(12,4))\n",
    "tue_plot.legend(title=\"Status\", bbox_to_anchor=(1, 1))\n",
    "tue_plot.title.set_size(15)\n",
    "tue_plot.set_xlabel(\"Request Hour\",fontsize=12,fontweight='bold')\n",
    "tue_plot.set_ylabel(\"No of Requests\",fontsize=12,fontweight='bold')\n",
    "\n",
    "wed_plot = df_group_by_hour_status_wed.plot(kind='bar',stacked=True,title=\"Requests by status on Wednesday\",figsize=(12,4))\n",
    "wed_plot.legend(title=\"Status\", bbox_to_anchor=(1, 1))\n",
    "wed_plot.title.set_size(15)\n",
    "wed_plot.set_xlabel(\"Request Hour\",fontsize=12,fontweight='bold')\n",
    "wed_plot.set_ylabel(\"No of Requests\",fontsize=12,fontweight='bold')\n",
    "\n",
    "thu_plot = df_group_by_hour_status_thu.plot(kind='bar',stacked=True,title=\"Requests by status on Thursday\",figsize=(12,4))\n",
    "thu_plot.legend(title=\"Status\", bbox_to_anchor=(1, 1))\n",
    "thu_plot.title.set_size(15)\n",
    "thu_plot.set_xlabel(\"Request Hour\",fontsize=12,fontweight='bold')\n",
    "thu_plot.set_ylabel(\"No of Requests\",fontsize=12,fontweight='bold')\n",
    "\n",
    "fri_plot = df_group_by_hour_status_fri.plot(kind='bar',stacked=True,title=\"Requests by status on Friday\",figsize=(12,4))\n",
    "fri_plot.legend(title=\"Status\", bbox_to_anchor=(1, 1))\n",
    "fri_plot.title.set_size(15)\n",
    "fri_plot.set_xlabel(\"Request Hour\",fontsize=12,fontweight='bold')\n",
    "fri_plot.set_ylabel(\"No of Requests\",fontsize=12,fontweight='bold')"
   ]
  },
  {
   "cell_type": "markdown",
   "metadata": {},
   "source": [
    "### It can be seen from the above plots that the most number of requests get cancelled during the morning hours (5 AM - 10 AM) and the most number of requests aren't fulfilled due to \"No cars available\" during evening hours (5 PM - 10 PM)"
   ]
  },
  {
   "cell_type": "code",
   "execution_count": 11,
   "metadata": {},
   "outputs": [
    {
     "data": {
      "text/plain": [
       "Text(0, 0.5, 'No of Requests')"
      ]
     },
     "execution_count": 11,
     "metadata": {},
     "output_type": "execute_result"
    },
    {
     "data": {
      "image/png": "[encoded data removed]",
      "text/plain": [
       "<Figure size 864x288 with 1 Axes>"
      ]
     },
     "metadata": {
      "needs_background": "light"
     },
     "output_type": "display_data"
    }
   ],
   "source": [
    "# Plotting a similar graph for the complete data-set\n",
    "df_group_by_hour_status = df.groupby(['request_hour','status'])['request_id'].count().unstack()\n",
    "total_plot =df_group_by_hour_status.plot(kind='bar',stacked=True,title=\"Requests by status on Friday\",figsize=(12,4))\n",
    "total_plot.legend(title=\"Status\", bbox_to_anchor=(1, 1))\n",
    "total_plot.title.set_size(15)\n",
    "total_plot.set_xlabel(\"Request Hour\",fontsize=12,fontweight='bold')\n",
    "total_plot.set_ylabel(\"No of Requests\",fontsize=12,fontweight='bold')"
   ]
  },
  {
   "cell_type": "markdown",
   "metadata": {},
   "source": [
    "### It can be seen that the overall trend is consistent with the day-wise trend with respect to the frequency of requests that get cancelled or show 'no cars available'."
   ]
  },
  {
   "cell_type": "markdown",
   "metadata": {},
   "source": [
    "## Analysis by Pick-up point"
   ]
  },
  {
   "cell_type": "markdown",
   "metadata": {},
   "source": [
    "### Creating day-wise plots for rides grouped by the request_hour and pickup_point"
   ]
  },
  {
   "cell_type": "code",
   "execution_count": 12,
   "metadata": {},
   "outputs": [
    {
     "data": {
      "text/plain": [
       "Text(0, 0.5, 'No of Requests')"
      ]
     },
     "execution_count": 12,
     "metadata": {},
     "output_type": "execute_result"
    },
    {
     "data": {
      "image/png": "[encoded data removed]",
      "text/plain": [
       "<Figure size 864x288 with 1 Axes>"
      ]
     },
     "metadata": {
      "needs_background": "light"
     },
     "output_type": "display_data"
    },
    {
     "data": {
      "image/png": "[encoded data removed]",
      "text/plain": [
       "<Figure size 864x288 with 1 Axes>"
      ]
     },
     "metadata": {
      "needs_background": "light"
     },
     "output_type": "display_data"
    },
    {
     "data": {
      "image/png": "[encoded data removed]",
      "text/plain": [
       "<Figure size 864x288 with 1 Axes>"
      ]
     },
     "metadata": {
      "needs_background": "light"
     },
     "output_type": "display_data"
    },
    {
     "data": {
      "image/png": "[encoded data removed]",
      "text/plain": [
       "<Figure size 864x288 with 1 Axes>"
      ]
     },
     "metadata": {
      "needs_background": "light"
     },
     "output_type": "display_data"
    },
    {
     "data": {
      "image/png": "[encoded data removed]",
      "text/plain": [
       "<Figure size 864x288 with 1 Axes>"
      ]
     },
     "metadata": {
      "needs_background": "light"
     },
     "output_type": "display_data"
    }
   ],
   "source": [
    "# Creating a day-wise grouping for  request_hour and pickup_point so that a plot can be created for number of requests\n",
    "# Day of the week Monday\n",
    "df_pickup_point_group_mon = df[df.request_day_of_the_week == \"Monday\"].groupby(['request_hour','pickup_point'])['request_id'].count().unstack()\n",
    "\n",
    "# Day of the week Tuesday\n",
    "df_pickup_point_group_tue = df[df.request_day_of_the_week == \"Tuesday\"].groupby(['request_hour','pickup_point'])['request_id'].count().unstack()\n",
    "\n",
    "# Day of the week Wednesday\n",
    "df_pickup_point_group_wed = df[df.request_day_of_the_week == \"Wednesday\"].groupby(['request_hour','pickup_point'])['request_id'].count().unstack()\n",
    "\n",
    "# Day of the week Thursday\n",
    "df_pickup_point_group_thu = df[df.request_day_of_the_week == \"Thursday\"].groupby(['request_hour','pickup_point'])['request_id'].count().unstack()\n",
    "\n",
    "# Day of the week Friday\n",
    "df_pickup_point_group_fri = df[df.request_day_of_the_week == \"Friday\"].groupby(['request_hour','pickup_point'])['request_id'].count().unstack()\n",
    "\n",
    "pickup_mon_plot = df_pickup_point_group_mon.plot(kind='bar',stacked=True,title=\"Requests by pickup point on Monday\",figsize=(12,4))\n",
    "pickup_mon_plot.legend(title=\"Pickup Point\", bbox_to_anchor=(1, 1))\n",
    "pickup_mon_plot.title.set_size(15)\n",
    "pickup_mon_plot.set_xlabel(\"Request Hour\",fontsize=12,fontweight='bold')\n",
    "pickup_mon_plot.set_ylabel(\"No of Requests\",fontsize=12,fontweight='bold')\n",
    "\n",
    "pickup_tue_plot = df_pickup_point_group_tue.plot(kind='bar',stacked=True,title=\"Requests by pickup point on Tuesday\",figsize=(12,4))\n",
    "pickup_tue_plot.legend(title=\"Pickup Point\", bbox_to_anchor=(1, 1))\n",
    "pickup_tue_plot.title.set_size(15)\n",
    "pickup_tue_plot.set_xlabel(\"Request Hour\",fontsize=12,fontweight='bold')\n",
    "pickup_tue_plot.set_ylabel(\"No of Requests\",fontsize=12,fontweight='bold')\n",
    "\n",
    "pickup_wed_plot = df_pickup_point_group_wed.plot(kind='bar',stacked=True,title=\"Requests by pickup point on Wednesday\",figsize=(12,4))\n",
    "pickup_wed_plot.legend(title=\"Pickup Point\", bbox_to_anchor=(1, 1))\n",
    "pickup_wed_plot.title.set_size(15)\n",
    "pickup_wed_plot.set_xlabel(\"Request Hour\",fontsize=12,fontweight='bold')\n",
    "pickup_wed_plot.set_ylabel(\"No of Requests\",fontsize=12,fontweight='bold')\n",
    "\n",
    "pickup_thu_plot = df_pickup_point_group_thu.plot(kind='bar',stacked=True,title=\"Requests by pickup point on Thursday\",figsize=(12,4))\n",
    "pickup_thu_plot.legend(title=\"Pickup Point\", bbox_to_anchor=(1, 1))\n",
    "pickup_thu_plot.title.set_size(15)\n",
    "pickup_thu_plot.set_xlabel(\"Request Hour\",fontsize=12,fontweight='bold')\n",
    "pickup_thu_plot.set_ylabel(\"No of Requests\",fontsize=12,fontweight='bold')\n",
    "\n",
    "pickup_fri_plot = df_pickup_point_group_fri.plot(kind='bar',stacked=True,title=\"Requests by pickup point on Friday\",figsize=(12,4))\n",
    "pickup_fri_plot.legend(title=\"Pickup Point\", bbox_to_anchor=(1, 1))\n",
    "pickup_fri_plot.title.set_size(15)\n",
    "pickup_fri_plot.set_xlabel(\"Request Hour\",fontsize=12,fontweight='bold')\n",
    "pickup_fri_plot.set_ylabel(\"No of Requests\",fontsize=12,fontweight='bold')"
   ]
  },
  {
   "cell_type": "markdown",
   "metadata": {},
   "source": [
    "### It can be seen from the above plots that the trend pattern is same for all the 5 days. During morning hours (5 AM - 10 AM) requests originate more from the city than from the airport. During evening hours (5 PM - 10 PM) requests originate more from the airport than from the city."
   ]
  },
  {
   "cell_type": "code",
   "execution_count": 13,
   "metadata": {},
   "outputs": [
    {
     "data": {
      "text/plain": [
       "Text(0,0.5,'No of Requests')"
      ]
     },
     "execution_count": 13,
     "metadata": {},
     "output_type": "execute_result"
    },
    {
     "data": {
      "image/png": "[encoded data removed]",
      "text/plain": [
       "<Figure size 864x288 with 1 Axes>"
      ]
     },
     "metadata": {
      "needs_background": "light"
     },
     "output_type": "display_data"
    }
   ],
   "source": [
    "# Plotting similar graph for the complete data set\n",
    "df_pickup_point_group = df.groupby(['request_hour','pickup_point'])['request_id'].count().unstack()\n",
    "\n",
    "pickup_plot = df_pickup_point_group.plot(kind='bar',stacked=True,title=\"Requests by pickup point on Friday\",figsize=(12,4))\n",
    "pickup_plot.legend(title=\"Pickup Point\", bbox_to_anchor=(1, 1))\n",
    "pickup_plot.title.set_size(15)\n",
    "pickup_plot.set_xlabel(\"Request Hour\",fontsize=12,fontweight='bold')\n",
    "pickup_plot.set_ylabel(\"No of Requests\",fontsize=12,fontweight='bold')"
   ]
  },
  {
   "cell_type": "markdown",
   "metadata": {},
   "source": [
    "### It can be seen from the above graph that the overall trend is consistent with the day-wise trend for the analysis based on the pick up point."
   ]
  },
  {
   "cell_type": "markdown",
   "metadata": {},
   "source": [
    "## Analysis by pickup point and status both"
   ]
  },
  {
   "cell_type": "markdown",
   "metadata": {},
   "source": [
    "### Plotting graph for the requests for each pickup point grouped by status to identify problematic requests"
   ]
  },
  {
   "cell_type": "code",
   "execution_count": 14,
   "metadata": {},
   "outputs": [
    {
     "data": {
      "text/plain": [
       "Text(0,0.5,'No of Requests')"
      ]
     },
     "execution_count": 14,
     "metadata": {},
     "output_type": "execute_result"
    },
    {
     "data": {
      "image/png": "[encoded data removed]",
      "text/plain": [
       "<Figure size 864x288 with 1 Axes>"
      ]
     },
     "metadata": {
      "needs_background": "light"
     },
     "output_type": "display_data"
    }
   ],
   "source": [
    "# Plotting for city to airport requests\n",
    "df_city_status_group = df[df.pickup_point==\"City\"].groupby(['request_hour','status'])['request_id'].count().unstack()\n",
    "\n",
    "city_status_plot = df_city_status_group.plot(kind='bar',stacked=True,title=\"City to Airport Requests\",figsize=(12,4))\n",
    "city_status_plot.legend(title=\"Status\", bbox_to_anchor=(1, 1))\n",
    "city_status_plot.title.set_size(15)\n",
    "city_status_plot.set_xlabel(\"Request Hour\",fontsize=12,fontweight='bold')\n",
    "city_status_plot.set_ylabel(\"No of Requests\",fontsize=12,fontweight='bold')"
   ]
  },
  {
   "cell_type": "markdown",
   "metadata": {},
   "source": [
    "### The above plot shows that during morning hours (5 AM - 10 AM), a lot of requests originating from City get cancelled."
   ]
  },
  {
   "cell_type": "code",
   "execution_count": 15,
   "metadata": {},
   "outputs": [
    {
     "data": {
      "text/plain": [
       "Text(0,0.5,'No of Requests')"
      ]
     },
     "execution_count": 15,
     "metadata": {},
     "output_type": "execute_result"
    },
    {
     "data": {
      "image/png": "[encoded data removed]",
      "text/plain": [
       "<Figure size 864x288 with 1 Axes>"
      ]
     },
     "metadata": {
      "needs_background": "light"
     },
     "output_type": "display_data"
    }
   ],
   "source": [
    "# Plotting for airport to city requests\n",
    "df_city_status_group = df[df.pickup_point==\"Airport\"].groupby(['request_hour','status'])['request_id'].count().unstack()\n",
    "\n",
    "city_status_plot = df_city_status_group.plot(kind='bar',stacked=True,title=\"Airport to City Requests\",figsize=(12,4))\n",
    "city_status_plot.legend(title=\"Status\", bbox_to_anchor=(1, 1))\n",
    "city_status_plot.title.set_size(15)\n",
    "city_status_plot.set_xlabel(\"Request Hour\",fontsize=12,fontweight='bold')\n",
    "city_status_plot.set_ylabel(\"No of Requests\",fontsize=12,fontweight='bold')"
   ]
  },
  {
   "cell_type": "markdown",
   "metadata": {},
   "source": [
    "### The above plot shows that during evening hours (5PM - 10PM), a lot of requests originating from Airport aren't fulfilled due to \"No Cars Available\""
   ]
  },
  {
   "cell_type": "markdown",
   "metadata": {},
   "source": [
    "### The two above plots lead to a conclusion that two pressing problems are \"Cancellations\" for \"City to Airport\" rides during Morning hours and \"No Cars Available\" for \"Airport to City\" rides during evening hours."
   ]
  },
  {
   "cell_type": "markdown",
   "metadata": {},
   "source": [
    "## Analysis by time-slots"
   ]
  },
  {
   "cell_type": "code",
   "execution_count": 16,
   "metadata": {},
   "outputs": [
    {
     "data": {
      "text/html": [
       "<div>\n",
       "<style scoped>\n",
       "    .dataframe tbody tr th:only-of-type {\n",
       "        vertical-align: middle;\n",
       "    }\n",
       "\n",
       "    .dataframe tbody tr th {\n",
       "        vertical-align: top;\n",
       "    }\n",
       "\n",
       "    .dataframe thead th {\n",
       "        text-align: right;\n",
       "    }\n",
       "</style>\n",
       "<table border=\"1\" class=\"dataframe\">\n",
       "  <thead>\n",
       "    <tr style=\"text-align: right;\">\n",
       "      <th></th>\n",
       "      <th>request_id</th>\n",
       "      <th>pickup_point</th>\n",
       "      <th>driver_id</th>\n",
       "      <th>status</th>\n",
       "      <th>request_timestamp</th>\n",
       "      <th>drop_timestamp</th>\n",
       "      <th>request_date</th>\n",
       "      <th>request_day_of_the_week</th>\n",
       "      <th>request_hour</th>\n",
       "      <th>time_slot</th>\n",
       "    </tr>\n",
       "  </thead>\n",
       "  <tbody>\n",
       "    <tr>\n",
       "      <th>0</th>\n",
       "      <td>619</td>\n",
       "      <td>Airport</td>\n",
       "      <td>1.0</td>\n",
       "      <td>Trip Completed</td>\n",
       "      <td>2016-07-11 11:51:00</td>\n",
       "      <td>2016-07-11 13:00:00</td>\n",
       "      <td>11</td>\n",
       "      <td>Monday</td>\n",
       "      <td>11</td>\n",
       "      <td>Day-Time</td>\n",
       "    </tr>\n",
       "    <tr>\n",
       "      <th>1</th>\n",
       "      <td>867</td>\n",
       "      <td>Airport</td>\n",
       "      <td>1.0</td>\n",
       "      <td>Trip Completed</td>\n",
       "      <td>2016-07-11 17:57:00</td>\n",
       "      <td>2016-07-11 18:47:00</td>\n",
       "      <td>11</td>\n",
       "      <td>Monday</td>\n",
       "      <td>17</td>\n",
       "      <td>Evening-Rush</td>\n",
       "    </tr>\n",
       "    <tr>\n",
       "      <th>2</th>\n",
       "      <td>1807</td>\n",
       "      <td>City</td>\n",
       "      <td>1.0</td>\n",
       "      <td>Trip Completed</td>\n",
       "      <td>2016-07-12 09:17:00</td>\n",
       "      <td>2016-07-12 09:58:00</td>\n",
       "      <td>12</td>\n",
       "      <td>Tuesday</td>\n",
       "      <td>9</td>\n",
       "      <td>Morning-Rush</td>\n",
       "    </tr>\n",
       "    <tr>\n",
       "      <th>3</th>\n",
       "      <td>2532</td>\n",
       "      <td>Airport</td>\n",
       "      <td>1.0</td>\n",
       "      <td>Trip Completed</td>\n",
       "      <td>2016-07-12 21:08:00</td>\n",
       "      <td>2016-07-12 22:03:00</td>\n",
       "      <td>12</td>\n",
       "      <td>Tuesday</td>\n",
       "      <td>21</td>\n",
       "      <td>Evening-Rush</td>\n",
       "    </tr>\n",
       "    <tr>\n",
       "      <th>4</th>\n",
       "      <td>3112</td>\n",
       "      <td>City</td>\n",
       "      <td>1.0</td>\n",
       "      <td>Trip Completed</td>\n",
       "      <td>2016-07-13 08:33:16</td>\n",
       "      <td>2016-07-13 09:25:47</td>\n",
       "      <td>13</td>\n",
       "      <td>Wednesday</td>\n",
       "      <td>8</td>\n",
       "      <td>Morning-Rush</td>\n",
       "    </tr>\n",
       "    <tr>\n",
       "      <th>5</th>\n",
       "      <td>3879</td>\n",
       "      <td>Airport</td>\n",
       "      <td>1.0</td>\n",
       "      <td>Trip Completed</td>\n",
       "      <td>2016-07-13 21:57:28</td>\n",
       "      <td>2016-07-13 22:28:59</td>\n",
       "      <td>13</td>\n",
       "      <td>Wednesday</td>\n",
       "      <td>21</td>\n",
       "      <td>Evening-Rush</td>\n",
       "    </tr>\n",
       "    <tr>\n",
       "      <th>6</th>\n",
       "      <td>4270</td>\n",
       "      <td>Airport</td>\n",
       "      <td>1.0</td>\n",
       "      <td>Trip Completed</td>\n",
       "      <td>2016-07-14 06:15:32</td>\n",
       "      <td>2016-07-14 07:13:15</td>\n",
       "      <td>14</td>\n",
       "      <td>Thursday</td>\n",
       "      <td>6</td>\n",
       "      <td>Morning-Rush</td>\n",
       "    </tr>\n",
       "    <tr>\n",
       "      <th>7</th>\n",
       "      <td>5510</td>\n",
       "      <td>Airport</td>\n",
       "      <td>1.0</td>\n",
       "      <td>Trip Completed</td>\n",
       "      <td>2016-07-15 05:11:52</td>\n",
       "      <td>2016-07-15 06:07:52</td>\n",
       "      <td>15</td>\n",
       "      <td>Friday</td>\n",
       "      <td>5</td>\n",
       "      <td>Morning-Rush</td>\n",
       "    </tr>\n",
       "    <tr>\n",
       "      <th>8</th>\n",
       "      <td>6248</td>\n",
       "      <td>City</td>\n",
       "      <td>1.0</td>\n",
       "      <td>Trip Completed</td>\n",
       "      <td>2016-07-15 17:57:27</td>\n",
       "      <td>2016-07-15 18:50:51</td>\n",
       "      <td>15</td>\n",
       "      <td>Friday</td>\n",
       "      <td>17</td>\n",
       "      <td>Evening-Rush</td>\n",
       "    </tr>\n",
       "    <tr>\n",
       "      <th>9</th>\n",
       "      <td>267</td>\n",
       "      <td>City</td>\n",
       "      <td>2.0</td>\n",
       "      <td>Trip Completed</td>\n",
       "      <td>2016-07-11 06:46:00</td>\n",
       "      <td>2016-07-11 07:25:00</td>\n",
       "      <td>11</td>\n",
       "      <td>Monday</td>\n",
       "      <td>6</td>\n",
       "      <td>Morning-Rush</td>\n",
       "    </tr>\n",
       "    <tr>\n",
       "      <th>10</th>\n",
       "      <td>1467</td>\n",
       "      <td>Airport</td>\n",
       "      <td>2.0</td>\n",
       "      <td>Trip Completed</td>\n",
       "      <td>2016-07-12 05:08:00</td>\n",
       "      <td>2016-07-12 06:02:00</td>\n",
       "      <td>12</td>\n",
       "      <td>Tuesday</td>\n",
       "      <td>5</td>\n",
       "      <td>Morning-Rush</td>\n",
       "    </tr>\n",
       "    <tr>\n",
       "      <th>11</th>\n",
       "      <td>1983</td>\n",
       "      <td>City</td>\n",
       "      <td>2.0</td>\n",
       "      <td>Trip Completed</td>\n",
       "      <td>2016-07-12 12:30:00</td>\n",
       "      <td>2016-07-12 12:57:00</td>\n",
       "      <td>12</td>\n",
       "      <td>Tuesday</td>\n",
       "      <td>12</td>\n",
       "      <td>Day-Time</td>\n",
       "    </tr>\n",
       "    <tr>\n",
       "      <th>12</th>\n",
       "      <td>2784</td>\n",
       "      <td>Airport</td>\n",
       "      <td>2.0</td>\n",
       "      <td>Trip Completed</td>\n",
       "      <td>2016-07-13 04:49:20</td>\n",
       "      <td>2016-07-13 05:23:03</td>\n",
       "      <td>13</td>\n",
       "      <td>Wednesday</td>\n",
       "      <td>4</td>\n",
       "      <td>Pre-Morning</td>\n",
       "    </tr>\n",
       "    <tr>\n",
       "      <th>13</th>\n",
       "      <td>3075</td>\n",
       "      <td>City</td>\n",
       "      <td>2.0</td>\n",
       "      <td>Trip Completed</td>\n",
       "      <td>2016-07-13 08:02:53</td>\n",
       "      <td>2016-07-13 09:16:19</td>\n",
       "      <td>13</td>\n",
       "      <td>Wednesday</td>\n",
       "      <td>8</td>\n",
       "      <td>Morning-Rush</td>\n",
       "    </tr>\n",
       "    <tr>\n",
       "      <th>14</th>\n",
       "      <td>3379</td>\n",
       "      <td>City</td>\n",
       "      <td>2.0</td>\n",
       "      <td>Trip Completed</td>\n",
       "      <td>2016-07-13 14:23:02</td>\n",
       "      <td>2016-07-13 15:35:18</td>\n",
       "      <td>13</td>\n",
       "      <td>Wednesday</td>\n",
       "      <td>14</td>\n",
       "      <td>Day-Time</td>\n",
       "    </tr>\n",
       "    <tr>\n",
       "      <th>15</th>\n",
       "      <td>3482</td>\n",
       "      <td>Airport</td>\n",
       "      <td>2.0</td>\n",
       "      <td>Trip Completed</td>\n",
       "      <td>2016-07-13 17:23:18</td>\n",
       "      <td>2016-07-13 18:20:51</td>\n",
       "      <td>13</td>\n",
       "      <td>Wednesday</td>\n",
       "      <td>17</td>\n",
       "      <td>Evening-Rush</td>\n",
       "    </tr>\n",
       "    <tr>\n",
       "      <th>16</th>\n",
       "      <td>4652</td>\n",
       "      <td>City</td>\n",
       "      <td>2.0</td>\n",
       "      <td>Trip Completed</td>\n",
       "      <td>2016-07-14 12:01:02</td>\n",
       "      <td>2016-07-14 12:36:46</td>\n",
       "      <td>14</td>\n",
       "      <td>Thursday</td>\n",
       "      <td>12</td>\n",
       "      <td>Day-Time</td>\n",
       "    </tr>\n",
       "    <tr>\n",
       "      <th>17</th>\n",
       "      <td>5335</td>\n",
       "      <td>Airport</td>\n",
       "      <td>2.0</td>\n",
       "      <td>Trip Completed</td>\n",
       "      <td>2016-07-14 22:24:13</td>\n",
       "      <td>2016-07-14 23:18:52</td>\n",
       "      <td>14</td>\n",
       "      <td>Thursday</td>\n",
       "      <td>22</td>\n",
       "      <td>Late-Night</td>\n",
       "    </tr>\n",
       "    <tr>\n",
       "      <th>18</th>\n",
       "      <td>535</td>\n",
       "      <td>Airport</td>\n",
       "      <td>3.0</td>\n",
       "      <td>Trip Completed</td>\n",
       "      <td>2016-07-11 10:00:00</td>\n",
       "      <td>2016-07-11 10:31:00</td>\n",
       "      <td>11</td>\n",
       "      <td>Monday</td>\n",
       "      <td>10</td>\n",
       "      <td>Day-Time</td>\n",
       "    </tr>\n",
       "    <tr>\n",
       "      <th>19</th>\n",
       "      <td>960</td>\n",
       "      <td>Airport</td>\n",
       "      <td>3.0</td>\n",
       "      <td>Trip Completed</td>\n",
       "      <td>2016-07-11 18:45:00</td>\n",
       "      <td>2016-07-11 19:23:00</td>\n",
       "      <td>11</td>\n",
       "      <td>Monday</td>\n",
       "      <td>18</td>\n",
       "      <td>Evening-Rush</td>\n",
       "    </tr>\n",
       "    <tr>\n",
       "      <th>20</th>\n",
       "      <td>1934</td>\n",
       "      <td>Airport</td>\n",
       "      <td>3.0</td>\n",
       "      <td>Trip Completed</td>\n",
       "      <td>2016-07-12 11:17:00</td>\n",
       "      <td>2016-07-12 12:23:00</td>\n",
       "      <td>12</td>\n",
       "      <td>Tuesday</td>\n",
       "      <td>11</td>\n",
       "      <td>Day-Time</td>\n",
       "    </tr>\n",
       "    <tr>\n",
       "      <th>21</th>\n",
       "      <td>2083</td>\n",
       "      <td>Airport</td>\n",
       "      <td>3.0</td>\n",
       "      <td>Trip Completed</td>\n",
       "      <td>2016-07-12 15:46:00</td>\n",
       "      <td>2016-07-12 16:40:00</td>\n",
       "      <td>12</td>\n",
       "      <td>Tuesday</td>\n",
       "      <td>15</td>\n",
       "      <td>Day-Time</td>\n",
       "    </tr>\n",
       "    <tr>\n",
       "      <th>22</th>\n",
       "      <td>2211</td>\n",
       "      <td>Airport</td>\n",
       "      <td>3.0</td>\n",
       "      <td>Trip Completed</td>\n",
       "      <td>2016-07-12 18:00:00</td>\n",
       "      <td>2016-07-12 18:28:00</td>\n",
       "      <td>12</td>\n",
       "      <td>Tuesday</td>\n",
       "      <td>18</td>\n",
       "      <td>Evening-Rush</td>\n",
       "    </tr>\n",
       "    <tr>\n",
       "      <th>23</th>\n",
       "      <td>3096</td>\n",
       "      <td>Airport</td>\n",
       "      <td>3.0</td>\n",
       "      <td>Trip Completed</td>\n",
       "      <td>2016-07-13 08:17:29</td>\n",
       "      <td>2016-07-13 09:22:37</td>\n",
       "      <td>13</td>\n",
       "      <td>Wednesday</td>\n",
       "      <td>8</td>\n",
       "      <td>Morning-Rush</td>\n",
       "    </tr>\n",
       "    <tr>\n",
       "      <th>24</th>\n",
       "      <td>3881</td>\n",
       "      <td>Airport</td>\n",
       "      <td>3.0</td>\n",
       "      <td>Trip Completed</td>\n",
       "      <td>2016-07-13 21:54:18</td>\n",
       "      <td>2016-07-13 22:51:23</td>\n",
       "      <td>13</td>\n",
       "      <td>Wednesday</td>\n",
       "      <td>21</td>\n",
       "      <td>Evening-Rush</td>\n",
       "    </tr>\n",
       "    <tr>\n",
       "      <th>25</th>\n",
       "      <td>5254</td>\n",
       "      <td>City</td>\n",
       "      <td>3.0</td>\n",
       "      <td>Trip Completed</td>\n",
       "      <td>2016-07-14 21:23:03</td>\n",
       "      <td>2016-07-14 22:25:19</td>\n",
       "      <td>14</td>\n",
       "      <td>Thursday</td>\n",
       "      <td>21</td>\n",
       "      <td>Evening-Rush</td>\n",
       "    </tr>\n",
       "    <tr>\n",
       "      <th>26</th>\n",
       "      <td>5434</td>\n",
       "      <td>City</td>\n",
       "      <td>3.0</td>\n",
       "      <td>Trip Completed</td>\n",
       "      <td>2016-07-15 02:41:38</td>\n",
       "      <td>2016-07-15 03:24:43</td>\n",
       "      <td>15</td>\n",
       "      <td>Friday</td>\n",
       "      <td>2</td>\n",
       "      <td>Pre-Morning</td>\n",
       "    </tr>\n",
       "    <tr>\n",
       "      <th>27</th>\n",
       "      <td>5916</td>\n",
       "      <td>City</td>\n",
       "      <td>3.0</td>\n",
       "      <td>Trip Completed</td>\n",
       "      <td>2016-07-15 10:00:43</td>\n",
       "      <td>2016-07-15 10:53:06</td>\n",
       "      <td>15</td>\n",
       "      <td>Friday</td>\n",
       "      <td>10</td>\n",
       "      <td>Day-Time</td>\n",
       "    </tr>\n",
       "    <tr>\n",
       "      <th>28</th>\n",
       "      <td>669</td>\n",
       "      <td>City</td>\n",
       "      <td>4.0</td>\n",
       "      <td>Trip Completed</td>\n",
       "      <td>2016-07-11 13:08:00</td>\n",
       "      <td>2016-07-11 13:49:00</td>\n",
       "      <td>11</td>\n",
       "      <td>Monday</td>\n",
       "      <td>13</td>\n",
       "      <td>Day-Time</td>\n",
       "    </tr>\n",
       "    <tr>\n",
       "      <th>29</th>\n",
       "      <td>1567</td>\n",
       "      <td>Airport</td>\n",
       "      <td>4.0</td>\n",
       "      <td>Trip Completed</td>\n",
       "      <td>2016-07-12 06:21:00</td>\n",
       "      <td>2016-07-12 07:10:00</td>\n",
       "      <td>12</td>\n",
       "      <td>Tuesday</td>\n",
       "      <td>6</td>\n",
       "      <td>Morning-Rush</td>\n",
       "    </tr>\n",
       "    <tr>\n",
       "      <th>...</th>\n",
       "      <td>...</td>\n",
       "      <td>...</td>\n",
       "      <td>...</td>\n",
       "      <td>...</td>\n",
       "      <td>...</td>\n",
       "      <td>...</td>\n",
       "      <td>...</td>\n",
       "      <td>...</td>\n",
       "      <td>...</td>\n",
       "      <td>...</td>\n",
       "    </tr>\n",
       "    <tr>\n",
       "      <th>6715</th>\n",
       "      <td>6683</td>\n",
       "      <td>City</td>\n",
       "      <td>NaN</td>\n",
       "      <td>No Cars Available</td>\n",
       "      <td>2016-07-15 22:34:01</td>\n",
       "      <td>NaT</td>\n",
       "      <td>15</td>\n",
       "      <td>Friday</td>\n",
       "      <td>22</td>\n",
       "      <td>Late-Night</td>\n",
       "    </tr>\n",
       "    <tr>\n",
       "      <th>6716</th>\n",
       "      <td>6686</td>\n",
       "      <td>Airport</td>\n",
       "      <td>NaN</td>\n",
       "      <td>No Cars Available</td>\n",
       "      <td>2016-07-15 22:36:13</td>\n",
       "      <td>NaT</td>\n",
       "      <td>15</td>\n",
       "      <td>Friday</td>\n",
       "      <td>22</td>\n",
       "      <td>Late-Night</td>\n",
       "    </tr>\n",
       "    <tr>\n",
       "      <th>6717</th>\n",
       "      <td>6688</td>\n",
       "      <td>Airport</td>\n",
       "      <td>NaN</td>\n",
       "      <td>No Cars Available</td>\n",
       "      <td>2016-07-15 22:37:37</td>\n",
       "      <td>NaT</td>\n",
       "      <td>15</td>\n",
       "      <td>Friday</td>\n",
       "      <td>22</td>\n",
       "      <td>Late-Night</td>\n",
       "    </tr>\n",
       "    <tr>\n",
       "      <th>6718</th>\n",
       "      <td>6689</td>\n",
       "      <td>Airport</td>\n",
       "      <td>NaN</td>\n",
       "      <td>No Cars Available</td>\n",
       "      <td>2016-07-15 22:43:46</td>\n",
       "      <td>NaT</td>\n",
       "      <td>15</td>\n",
       "      <td>Friday</td>\n",
       "      <td>22</td>\n",
       "      <td>Late-Night</td>\n",
       "    </tr>\n",
       "    <tr>\n",
       "      <th>6719</th>\n",
       "      <td>6693</td>\n",
       "      <td>City</td>\n",
       "      <td>NaN</td>\n",
       "      <td>No Cars Available</td>\n",
       "      <td>2016-07-15 22:49:33</td>\n",
       "      <td>NaT</td>\n",
       "      <td>15</td>\n",
       "      <td>Friday</td>\n",
       "      <td>22</td>\n",
       "      <td>Late-Night</td>\n",
       "    </tr>\n",
       "    <tr>\n",
       "      <th>6720</th>\n",
       "      <td>6696</td>\n",
       "      <td>City</td>\n",
       "      <td>NaN</td>\n",
       "      <td>No Cars Available</td>\n",
       "      <td>2016-07-15 22:49:45</td>\n",
       "      <td>NaT</td>\n",
       "      <td>15</td>\n",
       "      <td>Friday</td>\n",
       "      <td>22</td>\n",
       "      <td>Late-Night</td>\n",
       "    </tr>\n",
       "    <tr>\n",
       "      <th>6721</th>\n",
       "      <td>6697</td>\n",
       "      <td>Airport</td>\n",
       "      <td>NaN</td>\n",
       "      <td>No Cars Available</td>\n",
       "      <td>2016-07-15 22:51:18</td>\n",
       "      <td>NaT</td>\n",
       "      <td>15</td>\n",
       "      <td>Friday</td>\n",
       "      <td>22</td>\n",
       "      <td>Late-Night</td>\n",
       "    </tr>\n",
       "    <tr>\n",
       "      <th>6722</th>\n",
       "      <td>6709</td>\n",
       "      <td>Airport</td>\n",
       "      <td>NaN</td>\n",
       "      <td>No Cars Available</td>\n",
       "      <td>2016-07-15 22:56:00</td>\n",
       "      <td>NaT</td>\n",
       "      <td>15</td>\n",
       "      <td>Friday</td>\n",
       "      <td>22</td>\n",
       "      <td>Late-Night</td>\n",
       "    </tr>\n",
       "    <tr>\n",
       "      <th>6723</th>\n",
       "      <td>6706</td>\n",
       "      <td>Airport</td>\n",
       "      <td>NaN</td>\n",
       "      <td>No Cars Available</td>\n",
       "      <td>2016-07-15 22:58:15</td>\n",
       "      <td>NaT</td>\n",
       "      <td>15</td>\n",
       "      <td>Friday</td>\n",
       "      <td>22</td>\n",
       "      <td>Late-Night</td>\n",
       "    </tr>\n",
       "    <tr>\n",
       "      <th>6724</th>\n",
       "      <td>6708</td>\n",
       "      <td>City</td>\n",
       "      <td>NaN</td>\n",
       "      <td>No Cars Available</td>\n",
       "      <td>2016-07-15 23:03:23</td>\n",
       "      <td>NaT</td>\n",
       "      <td>15</td>\n",
       "      <td>Friday</td>\n",
       "      <td>23</td>\n",
       "      <td>Late-Night</td>\n",
       "    </tr>\n",
       "    <tr>\n",
       "      <th>6725</th>\n",
       "      <td>6713</td>\n",
       "      <td>City</td>\n",
       "      <td>NaN</td>\n",
       "      <td>No Cars Available</td>\n",
       "      <td>2016-07-15 23:08:14</td>\n",
       "      <td>NaT</td>\n",
       "      <td>15</td>\n",
       "      <td>Friday</td>\n",
       "      <td>23</td>\n",
       "      <td>Late-Night</td>\n",
       "    </tr>\n",
       "    <tr>\n",
       "      <th>6726</th>\n",
       "      <td>6715</td>\n",
       "      <td>City</td>\n",
       "      <td>NaN</td>\n",
       "      <td>No Cars Available</td>\n",
       "      <td>2016-07-15 23:11:41</td>\n",
       "      <td>NaT</td>\n",
       "      <td>15</td>\n",
       "      <td>Friday</td>\n",
       "      <td>23</td>\n",
       "      <td>Late-Night</td>\n",
       "    </tr>\n",
       "    <tr>\n",
       "      <th>6727</th>\n",
       "      <td>6716</td>\n",
       "      <td>City</td>\n",
       "      <td>NaN</td>\n",
       "      <td>No Cars Available</td>\n",
       "      <td>2016-07-15 23:14:36</td>\n",
       "      <td>NaT</td>\n",
       "      <td>15</td>\n",
       "      <td>Friday</td>\n",
       "      <td>23</td>\n",
       "      <td>Late-Night</td>\n",
       "    </tr>\n",
       "    <tr>\n",
       "      <th>6728</th>\n",
       "      <td>6718</td>\n",
       "      <td>Airport</td>\n",
       "      <td>NaN</td>\n",
       "      <td>No Cars Available</td>\n",
       "      <td>2016-07-15 23:14:39</td>\n",
       "      <td>NaT</td>\n",
       "      <td>15</td>\n",
       "      <td>Friday</td>\n",
       "      <td>23</td>\n",
       "      <td>Late-Night</td>\n",
       "    </tr>\n",
       "    <tr>\n",
       "      <th>6729</th>\n",
       "      <td>6720</td>\n",
       "      <td>City</td>\n",
       "      <td>NaN</td>\n",
       "      <td>No Cars Available</td>\n",
       "      <td>2016-07-15 23:16:48</td>\n",
       "      <td>NaT</td>\n",
       "      <td>15</td>\n",
       "      <td>Friday</td>\n",
       "      <td>23</td>\n",
       "      <td>Late-Night</td>\n",
       "    </tr>\n",
       "    <tr>\n",
       "      <th>6730</th>\n",
       "      <td>6722</td>\n",
       "      <td>Airport</td>\n",
       "      <td>NaN</td>\n",
       "      <td>No Cars Available</td>\n",
       "      <td>2016-07-15 23:18:21</td>\n",
       "      <td>NaT</td>\n",
       "      <td>15</td>\n",
       "      <td>Friday</td>\n",
       "      <td>23</td>\n",
       "      <td>Late-Night</td>\n",
       "    </tr>\n",
       "    <tr>\n",
       "      <th>6731</th>\n",
       "      <td>6725</td>\n",
       "      <td>Airport</td>\n",
       "      <td>NaN</td>\n",
       "      <td>No Cars Available</td>\n",
       "      <td>2016-07-15 23:21:53</td>\n",
       "      <td>NaT</td>\n",
       "      <td>15</td>\n",
       "      <td>Friday</td>\n",
       "      <td>23</td>\n",
       "      <td>Late-Night</td>\n",
       "    </tr>\n",
       "    <tr>\n",
       "      <th>6732</th>\n",
       "      <td>6728</td>\n",
       "      <td>City</td>\n",
       "      <td>NaN</td>\n",
       "      <td>No Cars Available</td>\n",
       "      <td>2016-07-15 23:26:50</td>\n",
       "      <td>NaT</td>\n",
       "      <td>15</td>\n",
       "      <td>Friday</td>\n",
       "      <td>23</td>\n",
       "      <td>Late-Night</td>\n",
       "    </tr>\n",
       "    <tr>\n",
       "      <th>6733</th>\n",
       "      <td>6730</td>\n",
       "      <td>Airport</td>\n",
       "      <td>NaN</td>\n",
       "      <td>No Cars Available</td>\n",
       "      <td>2016-07-15 23:27:55</td>\n",
       "      <td>NaT</td>\n",
       "      <td>15</td>\n",
       "      <td>Friday</td>\n",
       "      <td>23</td>\n",
       "      <td>Late-Night</td>\n",
       "    </tr>\n",
       "    <tr>\n",
       "      <th>6734</th>\n",
       "      <td>6732</td>\n",
       "      <td>Airport</td>\n",
       "      <td>NaN</td>\n",
       "      <td>No Cars Available</td>\n",
       "      <td>2016-07-15 23:35:50</td>\n",
       "      <td>NaT</td>\n",
       "      <td>15</td>\n",
       "      <td>Friday</td>\n",
       "      <td>23</td>\n",
       "      <td>Late-Night</td>\n",
       "    </tr>\n",
       "    <tr>\n",
       "      <th>6735</th>\n",
       "      <td>6737</td>\n",
       "      <td>Airport</td>\n",
       "      <td>NaN</td>\n",
       "      <td>No Cars Available</td>\n",
       "      <td>2016-07-15 23:39:15</td>\n",
       "      <td>NaT</td>\n",
       "      <td>15</td>\n",
       "      <td>Friday</td>\n",
       "      <td>23</td>\n",
       "      <td>Late-Night</td>\n",
       "    </tr>\n",
       "    <tr>\n",
       "      <th>6736</th>\n",
       "      <td>6744</td>\n",
       "      <td>Airport</td>\n",
       "      <td>NaN</td>\n",
       "      <td>No Cars Available</td>\n",
       "      <td>2016-07-15 23:42:51</td>\n",
       "      <td>NaT</td>\n",
       "      <td>15</td>\n",
       "      <td>Friday</td>\n",
       "      <td>23</td>\n",
       "      <td>Late-Night</td>\n",
       "    </tr>\n",
       "    <tr>\n",
       "      <th>6737</th>\n",
       "      <td>6740</td>\n",
       "      <td>City</td>\n",
       "      <td>NaN</td>\n",
       "      <td>No Cars Available</td>\n",
       "      <td>2016-07-15 23:43:54</td>\n",
       "      <td>NaT</td>\n",
       "      <td>15</td>\n",
       "      <td>Friday</td>\n",
       "      <td>23</td>\n",
       "      <td>Late-Night</td>\n",
       "    </tr>\n",
       "    <tr>\n",
       "      <th>6738</th>\n",
       "      <td>6746</td>\n",
       "      <td>City</td>\n",
       "      <td>NaN</td>\n",
       "      <td>No Cars Available</td>\n",
       "      <td>2016-07-15 23:46:03</td>\n",
       "      <td>NaT</td>\n",
       "      <td>15</td>\n",
       "      <td>Friday</td>\n",
       "      <td>23</td>\n",
       "      <td>Late-Night</td>\n",
       "    </tr>\n",
       "    <tr>\n",
       "      <th>6739</th>\n",
       "      <td>6739</td>\n",
       "      <td>City</td>\n",
       "      <td>NaN</td>\n",
       "      <td>No Cars Available</td>\n",
       "      <td>2016-07-15 23:46:20</td>\n",
       "      <td>NaT</td>\n",
       "      <td>15</td>\n",
       "      <td>Friday</td>\n",
       "      <td>23</td>\n",
       "      <td>Late-Night</td>\n",
       "    </tr>\n",
       "    <tr>\n",
       "      <th>6740</th>\n",
       "      <td>6745</td>\n",
       "      <td>City</td>\n",
       "      <td>NaN</td>\n",
       "      <td>No Cars Available</td>\n",
       "      <td>2016-07-15 23:49:03</td>\n",
       "      <td>NaT</td>\n",
       "      <td>15</td>\n",
       "      <td>Friday</td>\n",
       "      <td>23</td>\n",
       "      <td>Late-Night</td>\n",
       "    </tr>\n",
       "    <tr>\n",
       "      <th>6741</th>\n",
       "      <td>6752</td>\n",
       "      <td>Airport</td>\n",
       "      <td>NaN</td>\n",
       "      <td>No Cars Available</td>\n",
       "      <td>2016-07-15 23:50:05</td>\n",
       "      <td>NaT</td>\n",
       "      <td>15</td>\n",
       "      <td>Friday</td>\n",
       "      <td>23</td>\n",
       "      <td>Late-Night</td>\n",
       "    </tr>\n",
       "    <tr>\n",
       "      <th>6742</th>\n",
       "      <td>6751</td>\n",
       "      <td>City</td>\n",
       "      <td>NaN</td>\n",
       "      <td>No Cars Available</td>\n",
       "      <td>2016-07-15 23:52:06</td>\n",
       "      <td>NaT</td>\n",
       "      <td>15</td>\n",
       "      <td>Friday</td>\n",
       "      <td>23</td>\n",
       "      <td>Late-Night</td>\n",
       "    </tr>\n",
       "    <tr>\n",
       "      <th>6743</th>\n",
       "      <td>6754</td>\n",
       "      <td>City</td>\n",
       "      <td>NaN</td>\n",
       "      <td>No Cars Available</td>\n",
       "      <td>2016-07-15 23:54:39</td>\n",
       "      <td>NaT</td>\n",
       "      <td>15</td>\n",
       "      <td>Friday</td>\n",
       "      <td>23</td>\n",
       "      <td>Late-Night</td>\n",
       "    </tr>\n",
       "    <tr>\n",
       "      <th>6744</th>\n",
       "      <td>6753</td>\n",
       "      <td>Airport</td>\n",
       "      <td>NaN</td>\n",
       "      <td>No Cars Available</td>\n",
       "      <td>2016-07-15 23:55:03</td>\n",
       "      <td>NaT</td>\n",
       "      <td>15</td>\n",
       "      <td>Friday</td>\n",
       "      <td>23</td>\n",
       "      <td>Late-Night</td>\n",
       "    </tr>\n",
       "  </tbody>\n",
       "</table>\n",
       "<p>6745 rows × 10 columns</p>\n",
       "</div>"
      ],
      "text/plain": [
       "      request_id pickup_point  driver_id             status  \\\n",
       "0            619      Airport        1.0     Trip Completed   \n",
       "1            867      Airport        1.0     Trip Completed   \n",
       "2           1807         City        1.0     Trip Completed   \n",
       "3           2532      Airport        1.0     Trip Completed   \n",
       "4           3112         City        1.0     Trip Completed   \n",
       "5           3879      Airport        1.0     Trip Completed   \n",
       "6           4270      Airport        1.0     Trip Completed   \n",
       "7           5510      Airport        1.0     Trip Completed   \n",
       "8           6248         City        1.0     Trip Completed   \n",
       "9            267         City        2.0     Trip Completed   \n",
       "10          1467      Airport        2.0     Trip Completed   \n",
       "11          1983         City        2.0     Trip Completed   \n",
       "12          2784      Airport        2.0     Trip Completed   \n",
       "13          3075         City        2.0     Trip Completed   \n",
       "14          3379         City        2.0     Trip Completed   \n",
       "15          3482      Airport        2.0     Trip Completed   \n",
       "16          4652         City        2.0     Trip Completed   \n",
       "17          5335      Airport        2.0     Trip Completed   \n",
       "18           535      Airport        3.0     Trip Completed   \n",
       "19           960      Airport        3.0     Trip Completed   \n",
       "20          1934      Airport        3.0     Trip Completed   \n",
       "21          2083      Airport        3.0     Trip Completed   \n",
       "22          2211      Airport        3.0     Trip Completed   \n",
       "23          3096      Airport        3.0     Trip Completed   \n",
       "24          3881      Airport        3.0     Trip Completed   \n",
       "25          5254         City        3.0     Trip Completed   \n",
       "26          5434         City        3.0     Trip Completed   \n",
       "27          5916         City        3.0     Trip Completed   \n",
       "28           669         City        4.0     Trip Completed   \n",
       "29          1567      Airport        4.0     Trip Completed   \n",
       "...          ...          ...        ...                ...   \n",
       "6715        6683         City        NaN  No Cars Available   \n",
       "6716        6686      Airport        NaN  No Cars Available   \n",
       "6717        6688      Airport        NaN  No Cars Available   \n",
       "6718        6689      Airport        NaN  No Cars Available   \n",
       "6719        6693         City        NaN  No Cars Available   \n",
       "6720        6696         City        NaN  No Cars Available   \n",
       "6721        6697      Airport        NaN  No Cars Available   \n",
       "6722        6709      Airport        NaN  No Cars Available   \n",
       "6723        6706      Airport        NaN  No Cars Available   \n",
       "6724        6708         City        NaN  No Cars Available   \n",
       "6725        6713         City        NaN  No Cars Available   \n",
       "6726        6715         City        NaN  No Cars Available   \n",
       "6727        6716         City        NaN  No Cars Available   \n",
       "6728        6718      Airport        NaN  No Cars Available   \n",
       "6729        6720         City        NaN  No Cars Available   \n",
       "6730        6722      Airport        NaN  No Cars Available   \n",
       "6731        6725      Airport        NaN  No Cars Available   \n",
       "6732        6728         City        NaN  No Cars Available   \n",
       "6733        6730      Airport        NaN  No Cars Available   \n",
       "6734        6732      Airport        NaN  No Cars Available   \n",
       "6735        6737      Airport        NaN  No Cars Available   \n",
       "6736        6744      Airport        NaN  No Cars Available   \n",
       "6737        6740         City        NaN  No Cars Available   \n",
       "6738        6746         City        NaN  No Cars Available   \n",
       "6739        6739         City        NaN  No Cars Available   \n",
       "6740        6745         City        NaN  No Cars Available   \n",
       "6741        6752      Airport        NaN  No Cars Available   \n",
       "6742        6751         City        NaN  No Cars Available   \n",
       "6743        6754         City        NaN  No Cars Available   \n",
       "6744        6753      Airport        NaN  No Cars Available   \n",
       "\n",
       "       request_timestamp      drop_timestamp  request_date  \\\n",
       "0    2016-07-11 11:51:00 2016-07-11 13:00:00            11   \n",
       "1    2016-07-11 17:57:00 2016-07-11 18:47:00            11   \n",
       "2    2016-07-12 09:17:00 2016-07-12 09:58:00            12   \n",
       "3    2016-07-12 21:08:00 2016-07-12 22:03:00            12   \n",
       "4    2016-07-13 08:33:16 2016-07-13 09:25:47            13   \n",
       "5    2016-07-13 21:57:28 2016-07-13 22:28:59            13   \n",
       "6    2016-07-14 06:15:32 2016-07-14 07:13:15            14   \n",
       "7    2016-07-15 05:11:52 2016-07-15 06:07:52            15   \n",
       "8    2016-07-15 17:57:27 2016-07-15 18:50:51            15   \n",
       "9    2016-07-11 06:46:00 2016-07-11 07:25:00            11   \n",
       "10   2016-07-12 05:08:00 2016-07-12 06:02:00            12   \n",
       "11   2016-07-12 12:30:00 2016-07-12 12:57:00            12   \n",
       "12   2016-07-13 04:49:20 2016-07-13 05:23:03            13   \n",
       "13   2016-07-13 08:02:53 2016-07-13 09:16:19            13   \n",
       "14   2016-07-13 14:23:02 2016-07-13 15:35:18            13   \n",
       "15   2016-07-13 17:23:18 2016-07-13 18:20:51            13   \n",
       "16   2016-07-14 12:01:02 2016-07-14 12:36:46            14   \n",
       "17   2016-07-14 22:24:13 2016-07-14 23:18:52            14   \n",
       "18   2016-07-11 10:00:00 2016-07-11 10:31:00            11   \n",
       "19   2016-07-11 18:45:00 2016-07-11 19:23:00            11   \n",
       "20   2016-07-12 11:17:00 2016-07-12 12:23:00            12   \n",
       "21   2016-07-12 15:46:00 2016-07-12 16:40:00            12   \n",
       "22   2016-07-12 18:00:00 2016-07-12 18:28:00            12   \n",
       "23   2016-07-13 08:17:29 2016-07-13 09:22:37            13   \n",
       "24   2016-07-13 21:54:18 2016-07-13 22:51:23            13   \n",
       "25   2016-07-14 21:23:03 2016-07-14 22:25:19            14   \n",
       "26   2016-07-15 02:41:38 2016-07-15 03:24:43            15   \n",
       "27   2016-07-15 10:00:43 2016-07-15 10:53:06            15   \n",
       "28   2016-07-11 13:08:00 2016-07-11 13:49:00            11   \n",
       "29   2016-07-12 06:21:00 2016-07-12 07:10:00            12   \n",
       "...                  ...                 ...           ...   \n",
       "6715 2016-07-15 22:34:01                 NaT            15   \n",
       "6716 2016-07-15 22:36:13                 NaT            15   \n",
       "6717 2016-07-15 22:37:37                 NaT            15   \n",
       "6718 2016-07-15 22:43:46                 NaT            15   \n",
       "6719 2016-07-15 22:49:33                 NaT            15   \n",
       "6720 2016-07-15 22:49:45                 NaT            15   \n",
       "6721 2016-07-15 22:51:18                 NaT            15   \n",
       "6722 2016-07-15 22:56:00                 NaT            15   \n",
       "6723 2016-07-15 22:58:15                 NaT            15   \n",
       "6724 2016-07-15 23:03:23                 NaT            15   \n",
       "6725 2016-07-15 23:08:14                 NaT            15   \n",
       "6726 2016-07-15 23:11:41                 NaT            15   \n",
       "6727 2016-07-15 23:14:36                 NaT            15   \n",
       "6728 2016-07-15 23:14:39                 NaT            15   \n",
       "6729 2016-07-15 23:16:48                 NaT            15   \n",
       "6730 2016-07-15 23:18:21                 NaT            15   \n",
       "6731 2016-07-15 23:21:53                 NaT            15   \n",
       "6732 2016-07-15 23:26:50                 NaT            15   \n",
       "6733 2016-07-15 23:27:55                 NaT            15   \n",
       "6734 2016-07-15 23:35:50                 NaT            15   \n",
       "6735 2016-07-15 23:39:15                 NaT            15   \n",
       "6736 2016-07-15 23:42:51                 NaT            15   \n",
       "6737 2016-07-15 23:43:54                 NaT            15   \n",
       "6738 2016-07-15 23:46:03                 NaT            15   \n",
       "6739 2016-07-15 23:46:20                 NaT            15   \n",
       "6740 2016-07-15 23:49:03                 NaT            15   \n",
       "6741 2016-07-15 23:50:05                 NaT            15   \n",
       "6742 2016-07-15 23:52:06                 NaT            15   \n",
       "6743 2016-07-15 23:54:39                 NaT            15   \n",
       "6744 2016-07-15 23:55:03                 NaT            15   \n",
       "\n",
       "     request_day_of_the_week  request_hour     time_slot  \n",
       "0                     Monday            11      Day-Time  \n",
       "1                     Monday            17  Evening-Rush  \n",
       "2                    Tuesday             9  Morning-Rush  \n",
       "3                    Tuesday            21  Evening-Rush  \n",
       "4                  Wednesday             8  Morning-Rush  \n",
       "5                  Wednesday            21  Evening-Rush  \n",
       "6                   Thursday             6  Morning-Rush  \n",
       "7                     Friday             5  Morning-Rush  \n",
       "8                     Friday            17  Evening-Rush  \n",
       "9                     Monday             6  Morning-Rush  \n",
       "10                   Tuesday             5  Morning-Rush  \n",
       "11                   Tuesday            12      Day-Time  \n",
       "12                 Wednesday             4   Pre-Morning  \n",
       "13                 Wednesday             8  Morning-Rush  \n",
       "14                 Wednesday            14      Day-Time  \n",
       "15                 Wednesday            17  Evening-Rush  \n",
       "16                  Thursday            12      Day-Time  \n",
       "17                  Thursday            22    Late-Night  \n",
       "18                    Monday            10      Day-Time  \n",
       "19                    Monday            18  Evening-Rush  \n",
       "20                   Tuesday            11      Day-Time  \n",
       "21                   Tuesday            15      Day-Time  \n",
       "22                   Tuesday            18  Evening-Rush  \n",
       "23                 Wednesday             8  Morning-Rush  \n",
       "24                 Wednesday            21  Evening-Rush  \n",
       "25                  Thursday            21  Evening-Rush  \n",
       "26                    Friday             2   Pre-Morning  \n",
       "27                    Friday            10      Day-Time  \n",
       "28                    Monday            13      Day-Time  \n",
       "29                   Tuesday             6  Morning-Rush  \n",
       "...                      ...           ...           ...  \n",
       "6715                  Friday            22    Late-Night  \n",
       "6716                  Friday            22    Late-Night  \n",
       "6717                  Friday            22    Late-Night  \n",
       "6718                  Friday            22    Late-Night  \n",
       "6719                  Friday            22    Late-Night  \n",
       "6720                  Friday            22    Late-Night  \n",
       "6721                  Friday            22    Late-Night  \n",
       "6722                  Friday            22    Late-Night  \n",
       "6723                  Friday            22    Late-Night  \n",
       "6724                  Friday            23    Late-Night  \n",
       "6725                  Friday            23    Late-Night  \n",
       "6726                  Friday            23    Late-Night  \n",
       "6727                  Friday            23    Late-Night  \n",
       "6728                  Friday            23    Late-Night  \n",
       "6729                  Friday            23    Late-Night  \n",
       "6730                  Friday            23    Late-Night  \n",
       "6731                  Friday            23    Late-Night  \n",
       "6732                  Friday            23    Late-Night  \n",
       "6733                  Friday            23    Late-Night  \n",
       "6734                  Friday            23    Late-Night  \n",
       "6735                  Friday            23    Late-Night  \n",
       "6736                  Friday            23    Late-Night  \n",
       "6737                  Friday            23    Late-Night  \n",
       "6738                  Friday            23    Late-Night  \n",
       "6739                  Friday            23    Late-Night  \n",
       "6740                  Friday            23    Late-Night  \n",
       "6741                  Friday            23    Late-Night  \n",
       "6742                  Friday            23    Late-Night  \n",
       "6743                  Friday            23    Late-Night  \n",
       "6744                  Friday            23    Late-Night  \n",
       "\n",
       "[6745 rows x 10 columns]"
      ]
     },
     "execution_count": 16,
     "metadata": {},
     "output_type": "execute_result"
    }
   ],
   "source": [
    "# Binning hours to create time slots as per following considerations\n",
    "\"\"\" 12 AM -  5 AM :- Pre-Morning\n",
    "     5 AM - 10 AM :- Morning-Rush\n",
    "    10 AM -  5 PM :- Day-Time\n",
    "     5 PM - 10 PM :- Evening-Rush\n",
    "    10 PM - 12 AM :- Late-Night \"\"\"\n",
    "\n",
    "df['time_slot'] = df.request_hour.apply(lambda x : \"Pre-Morning\" if 0 <= x < 5 else \"Morning-Rush\" if 5 <= x < 10 else \"Day-Time\" if 10 <= x < 17 else \"Evening-Rush\" if 17 <= x < 22 else \"Late-Night\")\n",
    "df"
   ]
  },
  {
   "cell_type": "code",
   "execution_count": 17,
   "metadata": {},
   "outputs": [
    {
     "data": {
      "text/plain": [
       "Text(0,0.5,'No of Requests')"
      ]
     },
     "execution_count": 17,
     "metadata": {},
     "output_type": "execute_result"
    },
    {
     "data": {
      "image/png": "[encoded data removed]",
      "text/plain": [
       "<Figure size 864x288 with 1 Axes>"
      ]
     },
     "metadata": {
      "needs_background": "light"
     },
     "output_type": "display_data"
    },
    {
     "data": {
      "image/png": "[encoded data removed]",
      "text/plain": [
       "<Figure size 864x288 with 1 Axes>"
      ]
     },
     "metadata": {
      "needs_background": "light"
     },
     "output_type": "display_data"
    }
   ],
   "source": [
    "# Grouping by time-slot\n",
    "\n",
    "df_time_slot_city_group = df[df.pickup_point==\"City\"].groupby(['time_slot','status'])['request_id'].count().unstack()\n",
    "\n",
    "time_slot_city_plot = df_time_slot_city_group.plot(kind='bar',stacked=True,title=\"City to Airport trips by Time-Slot\",figsize=(12,4),rot=0)\n",
    "time_slot_city_plot.title.set_size(15)\n",
    "time_slot_city_plot.legend(title=\"Status\", bbox_to_anchor=(1, 1))\n",
    "time_slot_city_plot.set_xlabel(\"Time Slot\",fontsize=12,fontweight='bold')\n",
    "time_slot_city_plot.set_ylabel(\"No of Requests\",fontsize=12,fontweight='bold')\n",
    "\n",
    "df_time_slot_airport_group = df[df.pickup_point==\"Airport\"].groupby(['time_slot','status'])['request_id'].count().unstack()\n",
    "\n",
    "time_slot_airport_plot = df_time_slot_airport_group.plot(kind='bar',stacked=True,title=\"Airport to City trips by Time-Slot\",figsize=(12,4),rot=0)\n",
    "time_slot_airport_plot.title.set_size(15)\n",
    "time_slot_airport_plot.legend(title=\"Status\", bbox_to_anchor=(1, 1))\n",
    "time_slot_airport_plot.set_xlabel(\"Time Slot\",fontsize=12,fontweight='bold')\n",
    "time_slot_airport_plot.set_ylabel(\"No of Requests\",fontsize=12,fontweight='bold')"
   ]
  },
  {
   "cell_type": "markdown",
   "metadata": {},
   "source": [
    "### The two above plots further strengthen the conclusion made above that the two pressing problems are \"Cancellations\" for \"City to Airport\" rides during Morning hours and \"No Cars Available\" for \"Airport to City\" rides during evening hours."
   ]
  },
  {
   "cell_type": "markdown",
   "metadata": {},
   "source": [
    "## Results Expected - Part 2"
   ]
  },
  {
   "cell_type": "markdown",
   "metadata": {},
   "source": [
    "## Demand - Supply Analysis"
   ]
  },
  {
   "cell_type": "markdown",
   "metadata": {},
   "source": [
    "#### Since every request needs to be fulfilled, demand at a particular time can be considered as the number of requests at that time. Supply is measured by the number of cars available (ready to accept a trip) at any particular time, which can be calculated by the number of request with status \"Trip Completed\"."
   ]
  },
  {
   "cell_type": "markdown",
   "metadata": {},
   "source": [
    "#### Approach taken for meauring demand and supply - Creating 2 new columns, Demand & Supply. Demand will be 1 for every request, Supply will be 1 for requests with status \"Trip Completed\""
   ]
  },
  {
   "cell_type": "code",
   "execution_count": 18,
   "metadata": {},
   "outputs": [],
   "source": [
    "df['demand'] = pd.Series([1 for x in range(len(df.index))])"
   ]
  },
  {
   "cell_type": "code",
   "execution_count": 19,
   "metadata": {},
   "outputs": [],
   "source": [
    "df['supply'] = df.status.apply(lambda x : 1 if x == \"Trip Completed\" else 0)"
   ]
  },
  {
   "cell_type": "markdown",
   "metadata": {},
   "source": [
    "### Demand-Supply analysis by time slot"
   ]
  },
  {
   "cell_type": "code",
   "execution_count": 20,
   "metadata": {},
   "outputs": [
    {
     "data": {
      "text/html": [
       "<div>\n",
       "<style scoped>\n",
       "    .dataframe tbody tr th:only-of-type {\n",
       "        vertical-align: middle;\n",
       "    }\n",
       "\n",
       "    .dataframe tbody tr th {\n",
       "        vertical-align: top;\n",
       "    }\n",
       "\n",
       "    .dataframe thead th {\n",
       "        text-align: right;\n",
       "    }\n",
       "</style>\n",
       "<table border=\"1\" class=\"dataframe\">\n",
       "  <thead>\n",
       "    <tr style=\"text-align: right;\">\n",
       "      <th></th>\n",
       "      <th>demand</th>\n",
       "      <th>supply</th>\n",
       "    </tr>\n",
       "    <tr>\n",
       "      <th>time_slot</th>\n",
       "      <th></th>\n",
       "      <th></th>\n",
       "    </tr>\n",
       "  </thead>\n",
       "  <tbody>\n",
       "    <tr>\n",
       "      <th>Day-Time</th>\n",
       "      <td>1224</td>\n",
       "      <td>722</td>\n",
       "    </tr>\n",
       "    <tr>\n",
       "      <th>Evening-Rush</th>\n",
       "      <td>2342</td>\n",
       "      <td>784</td>\n",
       "    </tr>\n",
       "    <tr>\n",
       "      <th>Late-Night</th>\n",
       "      <td>498</td>\n",
       "      <td>257</td>\n",
       "    </tr>\n",
       "    <tr>\n",
       "      <th>Morning-Rush</th>\n",
       "      <td>2103</td>\n",
       "      <td>854</td>\n",
       "    </tr>\n",
       "    <tr>\n",
       "      <th>Pre-Morning</th>\n",
       "      <td>578</td>\n",
       "      <td>214</td>\n",
       "    </tr>\n",
       "  </tbody>\n",
       "</table>\n",
       "</div>"
      ],
      "text/plain": [
       "              demand  supply\n",
       "time_slot                   \n",
       "Day-Time        1224     722\n",
       "Evening-Rush    2342     784\n",
       "Late-Night       498     257\n",
       "Morning-Rush    2103     854\n",
       "Pre-Morning      578     214"
      ]
     },
     "execution_count": 20,
     "metadata": {},
     "output_type": "execute_result"
    }
   ],
   "source": [
    "# Grouping as per time slots\n",
    "df_time_slot_group = df.groupby('time_slot')\n",
    "df_time_slot = pd.DataFrame(df_time_slot_group['demand','supply'].sum())\n",
    "df_time_slot"
   ]
  },
  {
   "cell_type": "code",
   "execution_count": 21,
   "metadata": {},
   "outputs": [
    {
     "data": {
      "text/plain": [
       "Text(0,0.5,'No of Requests')"
      ]
     },
     "execution_count": 21,
     "metadata": {},
     "output_type": "execute_result"
    },
    {
     "data": {
      "image/png": "[encoded data removed]",
      "text/plain": [
       "<Figure size 864x360 with 1 Axes>"
      ]
     },
     "metadata": {
      "needs_background": "light"
     },
     "output_type": "display_data"
    }
   ],
   "source": [
    "df_time_slot_plot = df_time_slot.plot(kind='bar',title=\"Demand-Supply by Time-Slot\",figsize=(12,5),rot=0)\n",
    "df_time_slot_plot.title.set_size(15)\n",
    "df_time_slot_plot.legend(['Demand','Supply'],bbox_to_anchor=(1.15, 1))\n",
    "df_time_slot_plot.set_xlabel(\"Time Slot\",fontsize=12,fontweight='bold')\n",
    "df_time_slot_plot.set_ylabel(\"No of Requests\",fontsize=12,fontweight='bold')"
   ]
  },
  {
   "cell_type": "markdown",
   "metadata": {},
   "source": [
    "### From the above plot, it can be seen that the highest gap between demand and supply exists in the time slots Morning-Rush (5AM - 10AM) and Evening-Rush (5PM - 10PM)"
   ]
  },
  {
   "cell_type": "markdown",
   "metadata": {},
   "source": [
    "### Demand-Supply analysis by Pickup Point"
   ]
  },
  {
   "cell_type": "code",
   "execution_count": 22,
   "metadata": {},
   "outputs": [
    {
     "data": {
      "text/html": [
       "<div>\n",
       "<style scoped>\n",
       "    .dataframe tbody tr th:only-of-type {\n",
       "        vertical-align: middle;\n",
       "    }\n",
       "\n",
       "    .dataframe tbody tr th {\n",
       "        vertical-align: top;\n",
       "    }\n",
       "\n",
       "    .dataframe thead th {\n",
       "        text-align: right;\n",
       "    }\n",
       "</style>\n",
       "<table border=\"1\" class=\"dataframe\">\n",
       "  <thead>\n",
       "    <tr style=\"text-align: right;\">\n",
       "      <th></th>\n",
       "      <th></th>\n",
       "      <th>demand</th>\n",
       "      <th>supply</th>\n",
       "    </tr>\n",
       "    <tr>\n",
       "      <th>pickup_point</th>\n",
       "      <th>time_slot</th>\n",
       "      <th></th>\n",
       "      <th></th>\n",
       "    </tr>\n",
       "  </thead>\n",
       "  <tbody>\n",
       "    <tr>\n",
       "      <th rowspan=\"2\" valign=\"top\">Airport</th>\n",
       "      <th>Evening-Rush</th>\n",
       "      <td>1800</td>\n",
       "      <td>373</td>\n",
       "    </tr>\n",
       "    <tr>\n",
       "      <th>Morning-Rush</th>\n",
       "      <td>426</td>\n",
       "      <td>382</td>\n",
       "    </tr>\n",
       "    <tr>\n",
       "      <th rowspan=\"2\" valign=\"top\">City</th>\n",
       "      <th>Evening-Rush</th>\n",
       "      <td>542</td>\n",
       "      <td>411</td>\n",
       "    </tr>\n",
       "    <tr>\n",
       "      <th>Morning-Rush</th>\n",
       "      <td>1677</td>\n",
       "      <td>472</td>\n",
       "    </tr>\n",
       "  </tbody>\n",
       "</table>\n",
       "</div>"
      ],
      "text/plain": [
       "                           demand  supply\n",
       "pickup_point time_slot                   \n",
       "Airport      Evening-Rush    1800     373\n",
       "             Morning-Rush     426     382\n",
       "City         Evening-Rush     542     411\n",
       "             Morning-Rush    1677     472"
      ]
     },
     "execution_count": 22,
     "metadata": {},
     "output_type": "execute_result"
    }
   ],
   "source": [
    "df_pickup_point_group = df[(df.time_slot == \"Evening-Rush\") | (df.time_slot == \"Morning-Rush\")].groupby(['pickup_point','time_slot'])\n",
    "df_pickup_point = pd.DataFrame(df_pickup_point_group['demand','supply'].sum())\n",
    "df_pickup_point"
   ]
  },
  {
   "cell_type": "code",
   "execution_count": 23,
   "metadata": {},
   "outputs": [
    {
     "data": {
      "text/plain": [
       "Text(0,0.5,'No of Requests')"
      ]
     },
     "execution_count": 23,
     "metadata": {},
     "output_type": "execute_result"
    },
    {
     "data": {
      "image/png": "[encoded data removed]",
      "text/plain": [
       "<Figure size 864x360 with 1 Axes>"
      ]
     },
     "metadata": {
      "needs_background": "light"
     },
     "output_type": "display_data"
    }
   ],
   "source": [
    "df_pickup_point_plot = df_pickup_point.plot(kind='bar',title=\"Demand-Supply by Pickup Point\",figsize=(12,5),rot=0)\n",
    "df_pickup_point_plot.title.set_size(15)\n",
    "df_pickup_point_plot.legend(['Demand','Supply'],bbox_to_anchor=(1.15, 1))\n",
    "df_pickup_point_plot.set_xlabel(\"Pickup Point - Time Slot\",fontsize=12,fontweight='bold')\n",
    "df_pickup_point_plot.set_ylabel(\"No of Requests\",fontsize=12,fontweight='bold')"
   ]
  },
  {
   "cell_type": "markdown",
   "metadata": {},
   "source": [
    "### From the above plot it can be seen that the Demand-Supply gap is severe for Airport to City requests during Evening-rush and for City to Airport during Morning-Rush"
   ]
  },
  {
   "cell_type": "markdown",
   "metadata": {},
   "source": [
    "## Reason for this issue for the supply-demand gap"
   ]
  },
  {
   "cell_type": "markdown",
   "metadata": {},
   "source": [
    "### Morning Hours: More cancellations could be happening due to drivers getting trips where the pick up point is far from their homes. More City to Airport rides are cancelled since the drivers might be getting less return trip requests as the demand for Airport to City is very less during the same time slot.\n",
    "\n",
    "### Evening Hours: Cars availability could be less due to after office rush and the drivers getting off their day shifts. Less cars are available for Airport to City requests since less cars make the city to airport trip during Day-Time slot."
   ]
  }
 ],
 "metadata": {
  "kernelspec": {
   "display_name": "Python 3",
   "language": "python",
   "name": "python3"
  },
  "language_info": {
   "codemirror_mode": {
    "name": "ipython",
    "version": 3
   },
   "file_extension": ".py",
   "mimetype": "text/x-python",
   "name": "python",
   "nbconvert_exporter": "python",
   "pygments_lexer": "ipython3",
   "version": "3.7.3"
  }
 },
 "nbformat": 4,
 "nbformat_minor": 2
}
