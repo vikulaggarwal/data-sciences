{
 "cells": [
  {
   "cell_type": "code",
   "execution_count": 2,
   "metadata": {},
   "outputs": [],
   "source": [
    "import warnings\n",
    "import numpy as np\n",
    "import pandas as pd\n",
    "import matplotlib.pyplot as plt\n",
    "import seaborn as sns\n",
    "from datetime import datetime\n",
    "import calendar"
   ]
  },
  {
   "cell_type": "code",
   "execution_count": 2,
   "metadata": {},
   "outputs": [],
   "source": [
    "#ignore warnings\n",
    "warnings.filterwarnings('ignore')\n",
    "# Set pretty printing format for floats\n",
    "pd.set_option('float_format', '{:.2f}'.format)\n",
    "# To view all columns\n",
    "pd.set_option('display.max_columns', 999)"
   ]
  },
  {
   "cell_type": "code",
   "execution_count": 3,
   "metadata": {},
   "outputs": [],
   "source": [
    "loan = pd.read_csv(\"loan.csv\")"
   ]
  },
  {
   "cell_type": "code",
   "execution_count": 4,
   "metadata": {
    "scrolled": true
   },
   "outputs": [
    {
     "data": {
      "text/html": [
       "<div>\n",
       "<style scoped>\n",
       "    .dataframe tbody tr th:only-of-type {\n",
       "        vertical-align: middle;\n",
       "    }\n",
       "\n",
       "    .dataframe tbody tr th {\n",
       "        vertical-align: top;\n",
       "    }\n",
       "\n",
       "    .dataframe thead th {\n",
       "        text-align: right;\n",
       "    }\n",
       "</style>\n",
       "<table border=\"1\" class=\"dataframe\">\n",
       "  <thead>\n",
       "    <tr style=\"text-align: right;\">\n",
       "      <th></th>\n",
       "      <th>id</th>\n",
       "      <th>member_id</th>\n",
       "      <th>loan_amnt</th>\n",
       "      <th>funded_amnt</th>\n",
       "      <th>funded_amnt_inv</th>\n",
       "      <th>term</th>\n",
       "      <th>int_rate</th>\n",
       "      <th>installment</th>\n",
       "      <th>grade</th>\n",
       "      <th>sub_grade</th>\n",
       "      <th>emp_title</th>\n",
       "      <th>emp_length</th>\n",
       "      <th>home_ownership</th>\n",
       "      <th>annual_inc</th>\n",
       "      <th>verification_status</th>\n",
       "      <th>issue_d</th>\n",
       "      <th>loan_status</th>\n",
       "      <th>pymnt_plan</th>\n",
       "      <th>url</th>\n",
       "      <th>desc</th>\n",
       "      <th>purpose</th>\n",
       "      <th>title</th>\n",
       "      <th>zip_code</th>\n",
       "      <th>addr_state</th>\n",
       "      <th>dti</th>\n",
       "      <th>delinq_2yrs</th>\n",
       "      <th>earliest_cr_line</th>\n",
       "      <th>inq_last_6mths</th>\n",
       "      <th>mths_since_last_delinq</th>\n",
       "      <th>mths_since_last_record</th>\n",
       "      <th>open_acc</th>\n",
       "      <th>pub_rec</th>\n",
       "      <th>revol_bal</th>\n",
       "      <th>revol_util</th>\n",
       "      <th>total_acc</th>\n",
       "      <th>initial_list_status</th>\n",
       "      <th>out_prncp</th>\n",
       "      <th>out_prncp_inv</th>\n",
       "      <th>total_pymnt</th>\n",
       "      <th>total_pymnt_inv</th>\n",
       "      <th>total_rec_prncp</th>\n",
       "      <th>total_rec_int</th>\n",
       "      <th>total_rec_late_fee</th>\n",
       "      <th>recoveries</th>\n",
       "      <th>collection_recovery_fee</th>\n",
       "      <th>last_pymnt_d</th>\n",
       "      <th>last_pymnt_amnt</th>\n",
       "      <th>next_pymnt_d</th>\n",
       "      <th>last_credit_pull_d</th>\n",
       "      <th>collections_12_mths_ex_med</th>\n",
       "      <th>mths_since_last_major_derog</th>\n",
       "      <th>policy_code</th>\n",
       "      <th>application_type</th>\n",
       "      <th>annual_inc_joint</th>\n",
       "      <th>dti_joint</th>\n",
       "      <th>verification_status_joint</th>\n",
       "      <th>acc_now_delinq</th>\n",
       "      <th>tot_coll_amt</th>\n",
       "      <th>tot_cur_bal</th>\n",
       "      <th>open_acc_6m</th>\n",
       "      <th>open_il_6m</th>\n",
       "      <th>open_il_12m</th>\n",
       "      <th>open_il_24m</th>\n",
       "      <th>mths_since_rcnt_il</th>\n",
       "      <th>total_bal_il</th>\n",
       "      <th>il_util</th>\n",
       "      <th>open_rv_12m</th>\n",
       "      <th>open_rv_24m</th>\n",
       "      <th>max_bal_bc</th>\n",
       "      <th>all_util</th>\n",
       "      <th>total_rev_hi_lim</th>\n",
       "      <th>inq_fi</th>\n",
       "      <th>total_cu_tl</th>\n",
       "      <th>inq_last_12m</th>\n",
       "      <th>acc_open_past_24mths</th>\n",
       "      <th>avg_cur_bal</th>\n",
       "      <th>bc_open_to_buy</th>\n",
       "      <th>bc_util</th>\n",
       "      <th>chargeoff_within_12_mths</th>\n",
       "      <th>delinq_amnt</th>\n",
       "      <th>mo_sin_old_il_acct</th>\n",
       "      <th>mo_sin_old_rev_tl_op</th>\n",
       "      <th>mo_sin_rcnt_rev_tl_op</th>\n",
       "      <th>mo_sin_rcnt_tl</th>\n",
       "      <th>mort_acc</th>\n",
       "      <th>mths_since_recent_bc</th>\n",
       "      <th>mths_since_recent_bc_dlq</th>\n",
       "      <th>mths_since_recent_inq</th>\n",
       "      <th>mths_since_recent_revol_delinq</th>\n",
       "      <th>num_accts_ever_120_pd</th>\n",
       "      <th>num_actv_bc_tl</th>\n",
       "      <th>num_actv_rev_tl</th>\n",
       "      <th>num_bc_sats</th>\n",
       "      <th>num_bc_tl</th>\n",
       "      <th>num_il_tl</th>\n",
       "      <th>num_op_rev_tl</th>\n",
       "      <th>num_rev_accts</th>\n",
       "      <th>num_rev_tl_bal_gt_0</th>\n",
       "      <th>num_sats</th>\n",
       "      <th>num_tl_120dpd_2m</th>\n",
       "      <th>num_tl_30dpd</th>\n",
       "      <th>num_tl_90g_dpd_24m</th>\n",
       "      <th>num_tl_op_past_12m</th>\n",
       "      <th>pct_tl_nvr_dlq</th>\n",
       "      <th>percent_bc_gt_75</th>\n",
       "      <th>pub_rec_bankruptcies</th>\n",
       "      <th>tax_liens</th>\n",
       "      <th>tot_hi_cred_lim</th>\n",
       "      <th>total_bal_ex_mort</th>\n",
       "      <th>total_bc_limit</th>\n",
       "      <th>total_il_high_credit_limit</th>\n",
       "    </tr>\n",
       "  </thead>\n",
       "  <tbody>\n",
       "    <tr>\n",
       "      <th>0</th>\n",
       "      <td>1077501</td>\n",
       "      <td>1296599</td>\n",
       "      <td>5000</td>\n",
       "      <td>5000</td>\n",
       "      <td>4975.00</td>\n",
       "      <td>36 months</td>\n",
       "      <td>10.65%</td>\n",
       "      <td>162.87</td>\n",
       "      <td>B</td>\n",
       "      <td>B2</td>\n",
       "      <td>NaN</td>\n",
       "      <td>10+ years</td>\n",
       "      <td>RENT</td>\n",
       "      <td>24000.00</td>\n",
       "      <td>Verified</td>\n",
       "      <td>Dec-11</td>\n",
       "      <td>Fully Paid</td>\n",
       "      <td>n</td>\n",
       "      <td>https://lendingclub.com/browse/loanDetail.acti...</td>\n",
       "      <td>Borrower added on 12/22/11 &gt; I need to upgra...</td>\n",
       "      <td>credit_card</td>\n",
       "      <td>Computer</td>\n",
       "      <td>860xx</td>\n",
       "      <td>AZ</td>\n",
       "      <td>27.65</td>\n",
       "      <td>0</td>\n",
       "      <td>Jan-85</td>\n",
       "      <td>1</td>\n",
       "      <td>nan</td>\n",
       "      <td>nan</td>\n",
       "      <td>3</td>\n",
       "      <td>0</td>\n",
       "      <td>13648</td>\n",
       "      <td>83.70%</td>\n",
       "      <td>9</td>\n",
       "      <td>f</td>\n",
       "      <td>0.00</td>\n",
       "      <td>0.00</td>\n",
       "      <td>5863.16</td>\n",
       "      <td>5833.84</td>\n",
       "      <td>5000.00</td>\n",
       "      <td>863.16</td>\n",
       "      <td>0.00</td>\n",
       "      <td>0.00</td>\n",
       "      <td>0.00</td>\n",
       "      <td>Jan-15</td>\n",
       "      <td>171.62</td>\n",
       "      <td>NaN</td>\n",
       "      <td>May-16</td>\n",
       "      <td>0.00</td>\n",
       "      <td>nan</td>\n",
       "      <td>1</td>\n",
       "      <td>INDIVIDUAL</td>\n",
       "      <td>nan</td>\n",
       "      <td>nan</td>\n",
       "      <td>nan</td>\n",
       "      <td>0</td>\n",
       "      <td>nan</td>\n",
       "      <td>nan</td>\n",
       "      <td>nan</td>\n",
       "      <td>nan</td>\n",
       "      <td>nan</td>\n",
       "      <td>nan</td>\n",
       "      <td>nan</td>\n",
       "      <td>nan</td>\n",
       "      <td>nan</td>\n",
       "      <td>nan</td>\n",
       "      <td>nan</td>\n",
       "      <td>nan</td>\n",
       "      <td>nan</td>\n",
       "      <td>nan</td>\n",
       "      <td>nan</td>\n",
       "      <td>nan</td>\n",
       "      <td>nan</td>\n",
       "      <td>nan</td>\n",
       "      <td>nan</td>\n",
       "      <td>nan</td>\n",
       "      <td>nan</td>\n",
       "      <td>0.00</td>\n",
       "      <td>0</td>\n",
       "      <td>nan</td>\n",
       "      <td>nan</td>\n",
       "      <td>nan</td>\n",
       "      <td>nan</td>\n",
       "      <td>nan</td>\n",
       "      <td>nan</td>\n",
       "      <td>nan</td>\n",
       "      <td>nan</td>\n",
       "      <td>nan</td>\n",
       "      <td>nan</td>\n",
       "      <td>nan</td>\n",
       "      <td>nan</td>\n",
       "      <td>nan</td>\n",
       "      <td>nan</td>\n",
       "      <td>nan</td>\n",
       "      <td>nan</td>\n",
       "      <td>nan</td>\n",
       "      <td>nan</td>\n",
       "      <td>nan</td>\n",
       "      <td>nan</td>\n",
       "      <td>nan</td>\n",
       "      <td>nan</td>\n",
       "      <td>nan</td>\n",
       "      <td>nan</td>\n",
       "      <td>nan</td>\n",
       "      <td>0.00</td>\n",
       "      <td>0.00</td>\n",
       "      <td>nan</td>\n",
       "      <td>nan</td>\n",
       "      <td>nan</td>\n",
       "      <td>nan</td>\n",
       "    </tr>\n",
       "    <tr>\n",
       "      <th>1</th>\n",
       "      <td>1077430</td>\n",
       "      <td>1314167</td>\n",
       "      <td>2500</td>\n",
       "      <td>2500</td>\n",
       "      <td>2500.00</td>\n",
       "      <td>60 months</td>\n",
       "      <td>15.27%</td>\n",
       "      <td>59.83</td>\n",
       "      <td>C</td>\n",
       "      <td>C4</td>\n",
       "      <td>Ryder</td>\n",
       "      <td>&lt; 1 year</td>\n",
       "      <td>RENT</td>\n",
       "      <td>30000.00</td>\n",
       "      <td>Source Verified</td>\n",
       "      <td>Dec-11</td>\n",
       "      <td>Charged Off</td>\n",
       "      <td>n</td>\n",
       "      <td>https://lendingclub.com/browse/loanDetail.acti...</td>\n",
       "      <td>Borrower added on 12/22/11 &gt; I plan to use t...</td>\n",
       "      <td>car</td>\n",
       "      <td>bike</td>\n",
       "      <td>309xx</td>\n",
       "      <td>GA</td>\n",
       "      <td>1.00</td>\n",
       "      <td>0</td>\n",
       "      <td>Apr-99</td>\n",
       "      <td>5</td>\n",
       "      <td>nan</td>\n",
       "      <td>nan</td>\n",
       "      <td>3</td>\n",
       "      <td>0</td>\n",
       "      <td>1687</td>\n",
       "      <td>9.40%</td>\n",
       "      <td>4</td>\n",
       "      <td>f</td>\n",
       "      <td>0.00</td>\n",
       "      <td>0.00</td>\n",
       "      <td>1008.71</td>\n",
       "      <td>1008.71</td>\n",
       "      <td>456.46</td>\n",
       "      <td>435.17</td>\n",
       "      <td>0.00</td>\n",
       "      <td>117.08</td>\n",
       "      <td>1.11</td>\n",
       "      <td>Apr-13</td>\n",
       "      <td>119.66</td>\n",
       "      <td>NaN</td>\n",
       "      <td>Sep-13</td>\n",
       "      <td>0.00</td>\n",
       "      <td>nan</td>\n",
       "      <td>1</td>\n",
       "      <td>INDIVIDUAL</td>\n",
       "      <td>nan</td>\n",
       "      <td>nan</td>\n",
       "      <td>nan</td>\n",
       "      <td>0</td>\n",
       "      <td>nan</td>\n",
       "      <td>nan</td>\n",
       "      <td>nan</td>\n",
       "      <td>nan</td>\n",
       "      <td>nan</td>\n",
       "      <td>nan</td>\n",
       "      <td>nan</td>\n",
       "      <td>nan</td>\n",
       "      <td>nan</td>\n",
       "      <td>nan</td>\n",
       "      <td>nan</td>\n",
       "      <td>nan</td>\n",
       "      <td>nan</td>\n",
       "      <td>nan</td>\n",
       "      <td>nan</td>\n",
       "      <td>nan</td>\n",
       "      <td>nan</td>\n",
       "      <td>nan</td>\n",
       "      <td>nan</td>\n",
       "      <td>nan</td>\n",
       "      <td>nan</td>\n",
       "      <td>0.00</td>\n",
       "      <td>0</td>\n",
       "      <td>nan</td>\n",
       "      <td>nan</td>\n",
       "      <td>nan</td>\n",
       "      <td>nan</td>\n",
       "      <td>nan</td>\n",
       "      <td>nan</td>\n",
       "      <td>nan</td>\n",
       "      <td>nan</td>\n",
       "      <td>nan</td>\n",
       "      <td>nan</td>\n",
       "      <td>nan</td>\n",
       "      <td>nan</td>\n",
       "      <td>nan</td>\n",
       "      <td>nan</td>\n",
       "      <td>nan</td>\n",
       "      <td>nan</td>\n",
       "      <td>nan</td>\n",
       "      <td>nan</td>\n",
       "      <td>nan</td>\n",
       "      <td>nan</td>\n",
       "      <td>nan</td>\n",
       "      <td>nan</td>\n",
       "      <td>nan</td>\n",
       "      <td>nan</td>\n",
       "      <td>nan</td>\n",
       "      <td>0.00</td>\n",
       "      <td>0.00</td>\n",
       "      <td>nan</td>\n",
       "      <td>nan</td>\n",
       "      <td>nan</td>\n",
       "      <td>nan</td>\n",
       "    </tr>\n",
       "    <tr>\n",
       "      <th>2</th>\n",
       "      <td>1077175</td>\n",
       "      <td>1313524</td>\n",
       "      <td>2400</td>\n",
       "      <td>2400</td>\n",
       "      <td>2400.00</td>\n",
       "      <td>36 months</td>\n",
       "      <td>15.96%</td>\n",
       "      <td>84.33</td>\n",
       "      <td>C</td>\n",
       "      <td>C5</td>\n",
       "      <td>NaN</td>\n",
       "      <td>10+ years</td>\n",
       "      <td>RENT</td>\n",
       "      <td>12252.00</td>\n",
       "      <td>Not Verified</td>\n",
       "      <td>Dec-11</td>\n",
       "      <td>Fully Paid</td>\n",
       "      <td>n</td>\n",
       "      <td>https://lendingclub.com/browse/loanDetail.acti...</td>\n",
       "      <td>NaN</td>\n",
       "      <td>small_business</td>\n",
       "      <td>real estate business</td>\n",
       "      <td>606xx</td>\n",
       "      <td>IL</td>\n",
       "      <td>8.72</td>\n",
       "      <td>0</td>\n",
       "      <td>Nov-01</td>\n",
       "      <td>2</td>\n",
       "      <td>nan</td>\n",
       "      <td>nan</td>\n",
       "      <td>2</td>\n",
       "      <td>0</td>\n",
       "      <td>2956</td>\n",
       "      <td>98.50%</td>\n",
       "      <td>10</td>\n",
       "      <td>f</td>\n",
       "      <td>0.00</td>\n",
       "      <td>0.00</td>\n",
       "      <td>3005.67</td>\n",
       "      <td>3005.67</td>\n",
       "      <td>2400.00</td>\n",
       "      <td>605.67</td>\n",
       "      <td>0.00</td>\n",
       "      <td>0.00</td>\n",
       "      <td>0.00</td>\n",
       "      <td>Jun-14</td>\n",
       "      <td>649.91</td>\n",
       "      <td>NaN</td>\n",
       "      <td>May-16</td>\n",
       "      <td>0.00</td>\n",
       "      <td>nan</td>\n",
       "      <td>1</td>\n",
       "      <td>INDIVIDUAL</td>\n",
       "      <td>nan</td>\n",
       "      <td>nan</td>\n",
       "      <td>nan</td>\n",
       "      <td>0</td>\n",
       "      <td>nan</td>\n",
       "      <td>nan</td>\n",
       "      <td>nan</td>\n",
       "      <td>nan</td>\n",
       "      <td>nan</td>\n",
       "      <td>nan</td>\n",
       "      <td>nan</td>\n",
       "      <td>nan</td>\n",
       "      <td>nan</td>\n",
       "      <td>nan</td>\n",
       "      <td>nan</td>\n",
       "      <td>nan</td>\n",
       "      <td>nan</td>\n",
       "      <td>nan</td>\n",
       "      <td>nan</td>\n",
       "      <td>nan</td>\n",
       "      <td>nan</td>\n",
       "      <td>nan</td>\n",
       "      <td>nan</td>\n",
       "      <td>nan</td>\n",
       "      <td>nan</td>\n",
       "      <td>0.00</td>\n",
       "      <td>0</td>\n",
       "      <td>nan</td>\n",
       "      <td>nan</td>\n",
       "      <td>nan</td>\n",
       "      <td>nan</td>\n",
       "      <td>nan</td>\n",
       "      <td>nan</td>\n",
       "      <td>nan</td>\n",
       "      <td>nan</td>\n",
       "      <td>nan</td>\n",
       "      <td>nan</td>\n",
       "      <td>nan</td>\n",
       "      <td>nan</td>\n",
       "      <td>nan</td>\n",
       "      <td>nan</td>\n",
       "      <td>nan</td>\n",
       "      <td>nan</td>\n",
       "      <td>nan</td>\n",
       "      <td>nan</td>\n",
       "      <td>nan</td>\n",
       "      <td>nan</td>\n",
       "      <td>nan</td>\n",
       "      <td>nan</td>\n",
       "      <td>nan</td>\n",
       "      <td>nan</td>\n",
       "      <td>nan</td>\n",
       "      <td>0.00</td>\n",
       "      <td>0.00</td>\n",
       "      <td>nan</td>\n",
       "      <td>nan</td>\n",
       "      <td>nan</td>\n",
       "      <td>nan</td>\n",
       "    </tr>\n",
       "    <tr>\n",
       "      <th>3</th>\n",
       "      <td>1076863</td>\n",
       "      <td>1277178</td>\n",
       "      <td>10000</td>\n",
       "      <td>10000</td>\n",
       "      <td>10000.00</td>\n",
       "      <td>36 months</td>\n",
       "      <td>13.49%</td>\n",
       "      <td>339.31</td>\n",
       "      <td>C</td>\n",
       "      <td>C1</td>\n",
       "      <td>AIR RESOURCES BOARD</td>\n",
       "      <td>10+ years</td>\n",
       "      <td>RENT</td>\n",
       "      <td>49200.00</td>\n",
       "      <td>Source Verified</td>\n",
       "      <td>Dec-11</td>\n",
       "      <td>Fully Paid</td>\n",
       "      <td>n</td>\n",
       "      <td>https://lendingclub.com/browse/loanDetail.acti...</td>\n",
       "      <td>Borrower added on 12/21/11 &gt; to pay for prop...</td>\n",
       "      <td>other</td>\n",
       "      <td>personel</td>\n",
       "      <td>917xx</td>\n",
       "      <td>CA</td>\n",
       "      <td>20.00</td>\n",
       "      <td>0</td>\n",
       "      <td>Feb-96</td>\n",
       "      <td>1</td>\n",
       "      <td>35.00</td>\n",
       "      <td>nan</td>\n",
       "      <td>10</td>\n",
       "      <td>0</td>\n",
       "      <td>5598</td>\n",
       "      <td>21%</td>\n",
       "      <td>37</td>\n",
       "      <td>f</td>\n",
       "      <td>0.00</td>\n",
       "      <td>0.00</td>\n",
       "      <td>12231.89</td>\n",
       "      <td>12231.89</td>\n",
       "      <td>10000.00</td>\n",
       "      <td>2214.92</td>\n",
       "      <td>16.97</td>\n",
       "      <td>0.00</td>\n",
       "      <td>0.00</td>\n",
       "      <td>Jan-15</td>\n",
       "      <td>357.48</td>\n",
       "      <td>NaN</td>\n",
       "      <td>Apr-16</td>\n",
       "      <td>0.00</td>\n",
       "      <td>nan</td>\n",
       "      <td>1</td>\n",
       "      <td>INDIVIDUAL</td>\n",
       "      <td>nan</td>\n",
       "      <td>nan</td>\n",
       "      <td>nan</td>\n",
       "      <td>0</td>\n",
       "      <td>nan</td>\n",
       "      <td>nan</td>\n",
       "      <td>nan</td>\n",
       "      <td>nan</td>\n",
       "      <td>nan</td>\n",
       "      <td>nan</td>\n",
       "      <td>nan</td>\n",
       "      <td>nan</td>\n",
       "      <td>nan</td>\n",
       "      <td>nan</td>\n",
       "      <td>nan</td>\n",
       "      <td>nan</td>\n",
       "      <td>nan</td>\n",
       "      <td>nan</td>\n",
       "      <td>nan</td>\n",
       "      <td>nan</td>\n",
       "      <td>nan</td>\n",
       "      <td>nan</td>\n",
       "      <td>nan</td>\n",
       "      <td>nan</td>\n",
       "      <td>nan</td>\n",
       "      <td>0.00</td>\n",
       "      <td>0</td>\n",
       "      <td>nan</td>\n",
       "      <td>nan</td>\n",
       "      <td>nan</td>\n",
       "      <td>nan</td>\n",
       "      <td>nan</td>\n",
       "      <td>nan</td>\n",
       "      <td>nan</td>\n",
       "      <td>nan</td>\n",
       "      <td>nan</td>\n",
       "      <td>nan</td>\n",
       "      <td>nan</td>\n",
       "      <td>nan</td>\n",
       "      <td>nan</td>\n",
       "      <td>nan</td>\n",
       "      <td>nan</td>\n",
       "      <td>nan</td>\n",
       "      <td>nan</td>\n",
       "      <td>nan</td>\n",
       "      <td>nan</td>\n",
       "      <td>nan</td>\n",
       "      <td>nan</td>\n",
       "      <td>nan</td>\n",
       "      <td>nan</td>\n",
       "      <td>nan</td>\n",
       "      <td>nan</td>\n",
       "      <td>0.00</td>\n",
       "      <td>0.00</td>\n",
       "      <td>nan</td>\n",
       "      <td>nan</td>\n",
       "      <td>nan</td>\n",
       "      <td>nan</td>\n",
       "    </tr>\n",
       "    <tr>\n",
       "      <th>4</th>\n",
       "      <td>1075358</td>\n",
       "      <td>1311748</td>\n",
       "      <td>3000</td>\n",
       "      <td>3000</td>\n",
       "      <td>3000.00</td>\n",
       "      <td>60 months</td>\n",
       "      <td>12.69%</td>\n",
       "      <td>67.79</td>\n",
       "      <td>B</td>\n",
       "      <td>B5</td>\n",
       "      <td>University Medical Group</td>\n",
       "      <td>1 year</td>\n",
       "      <td>RENT</td>\n",
       "      <td>80000.00</td>\n",
       "      <td>Source Verified</td>\n",
       "      <td>Dec-11</td>\n",
       "      <td>Current</td>\n",
       "      <td>n</td>\n",
       "      <td>https://lendingclub.com/browse/loanDetail.acti...</td>\n",
       "      <td>Borrower added on 12/21/11 &gt; I plan on combi...</td>\n",
       "      <td>other</td>\n",
       "      <td>Personal</td>\n",
       "      <td>972xx</td>\n",
       "      <td>OR</td>\n",
       "      <td>17.94</td>\n",
       "      <td>0</td>\n",
       "      <td>Jan-96</td>\n",
       "      <td>0</td>\n",
       "      <td>38.00</td>\n",
       "      <td>nan</td>\n",
       "      <td>15</td>\n",
       "      <td>0</td>\n",
       "      <td>27783</td>\n",
       "      <td>53.90%</td>\n",
       "      <td>38</td>\n",
       "      <td>f</td>\n",
       "      <td>524.06</td>\n",
       "      <td>524.06</td>\n",
       "      <td>3513.33</td>\n",
       "      <td>3513.33</td>\n",
       "      <td>2475.94</td>\n",
       "      <td>1037.39</td>\n",
       "      <td>0.00</td>\n",
       "      <td>0.00</td>\n",
       "      <td>0.00</td>\n",
       "      <td>May-16</td>\n",
       "      <td>67.79</td>\n",
       "      <td>Jun-16</td>\n",
       "      <td>May-16</td>\n",
       "      <td>0.00</td>\n",
       "      <td>nan</td>\n",
       "      <td>1</td>\n",
       "      <td>INDIVIDUAL</td>\n",
       "      <td>nan</td>\n",
       "      <td>nan</td>\n",
       "      <td>nan</td>\n",
       "      <td>0</td>\n",
       "      <td>nan</td>\n",
       "      <td>nan</td>\n",
       "      <td>nan</td>\n",
       "      <td>nan</td>\n",
       "      <td>nan</td>\n",
       "      <td>nan</td>\n",
       "      <td>nan</td>\n",
       "      <td>nan</td>\n",
       "      <td>nan</td>\n",
       "      <td>nan</td>\n",
       "      <td>nan</td>\n",
       "      <td>nan</td>\n",
       "      <td>nan</td>\n",
       "      <td>nan</td>\n",
       "      <td>nan</td>\n",
       "      <td>nan</td>\n",
       "      <td>nan</td>\n",
       "      <td>nan</td>\n",
       "      <td>nan</td>\n",
       "      <td>nan</td>\n",
       "      <td>nan</td>\n",
       "      <td>0.00</td>\n",
       "      <td>0</td>\n",
       "      <td>nan</td>\n",
       "      <td>nan</td>\n",
       "      <td>nan</td>\n",
       "      <td>nan</td>\n",
       "      <td>nan</td>\n",
       "      <td>nan</td>\n",
       "      <td>nan</td>\n",
       "      <td>nan</td>\n",
       "      <td>nan</td>\n",
       "      <td>nan</td>\n",
       "      <td>nan</td>\n",
       "      <td>nan</td>\n",
       "      <td>nan</td>\n",
       "      <td>nan</td>\n",
       "      <td>nan</td>\n",
       "      <td>nan</td>\n",
       "      <td>nan</td>\n",
       "      <td>nan</td>\n",
       "      <td>nan</td>\n",
       "      <td>nan</td>\n",
       "      <td>nan</td>\n",
       "      <td>nan</td>\n",
       "      <td>nan</td>\n",
       "      <td>nan</td>\n",
       "      <td>nan</td>\n",
       "      <td>0.00</td>\n",
       "      <td>0.00</td>\n",
       "      <td>nan</td>\n",
       "      <td>nan</td>\n",
       "      <td>nan</td>\n",
       "      <td>nan</td>\n",
       "    </tr>\n",
       "  </tbody>\n",
       "</table>\n",
       "</div>"
      ],
      "text/plain": [
       "        id  member_id  loan_amnt  funded_amnt  funded_amnt_inv        term  \\\n",
       "0  1077501    1296599       5000         5000          4975.00   36 months   \n",
       "1  1077430    1314167       2500         2500          2500.00   60 months   \n",
       "2  1077175    1313524       2400         2400          2400.00   36 months   \n",
       "3  1076863    1277178      10000        10000         10000.00   36 months   \n",
       "4  1075358    1311748       3000         3000          3000.00   60 months   \n",
       "\n",
       "  int_rate  installment grade sub_grade                 emp_title emp_length  \\\n",
       "0   10.65%       162.87     B        B2                       NaN  10+ years   \n",
       "1   15.27%        59.83     C        C4                     Ryder   < 1 year   \n",
       "2   15.96%        84.33     C        C5                       NaN  10+ years   \n",
       "3   13.49%       339.31     C        C1       AIR RESOURCES BOARD  10+ years   \n",
       "4   12.69%        67.79     B        B5  University Medical Group     1 year   \n",
       "\n",
       "  home_ownership  annual_inc verification_status issue_d  loan_status  \\\n",
       "0           RENT    24000.00            Verified  Dec-11   Fully Paid   \n",
       "1           RENT    30000.00     Source Verified  Dec-11  Charged Off   \n",
       "2           RENT    12252.00        Not Verified  Dec-11   Fully Paid   \n",
       "3           RENT    49200.00     Source Verified  Dec-11   Fully Paid   \n",
       "4           RENT    80000.00     Source Verified  Dec-11      Current   \n",
       "\n",
       "  pymnt_plan                                                url  \\\n",
       "0          n  https://lendingclub.com/browse/loanDetail.acti...   \n",
       "1          n  https://lendingclub.com/browse/loanDetail.acti...   \n",
       "2          n  https://lendingclub.com/browse/loanDetail.acti...   \n",
       "3          n  https://lendingclub.com/browse/loanDetail.acti...   \n",
       "4          n  https://lendingclub.com/browse/loanDetail.acti...   \n",
       "\n",
       "                                                desc         purpose  \\\n",
       "0    Borrower added on 12/22/11 > I need to upgra...     credit_card   \n",
       "1    Borrower added on 12/22/11 > I plan to use t...             car   \n",
       "2                                                NaN  small_business   \n",
       "3    Borrower added on 12/21/11 > to pay for prop...           other   \n",
       "4    Borrower added on 12/21/11 > I plan on combi...           other   \n",
       "\n",
       "                  title zip_code addr_state   dti  delinq_2yrs  \\\n",
       "0              Computer    860xx         AZ 27.65            0   \n",
       "1                  bike    309xx         GA  1.00            0   \n",
       "2  real estate business    606xx         IL  8.72            0   \n",
       "3              personel    917xx         CA 20.00            0   \n",
       "4              Personal    972xx         OR 17.94            0   \n",
       "\n",
       "  earliest_cr_line  inq_last_6mths  mths_since_last_delinq  \\\n",
       "0           Jan-85               1                     nan   \n",
       "1           Apr-99               5                     nan   \n",
       "2           Nov-01               2                     nan   \n",
       "3           Feb-96               1                   35.00   \n",
       "4           Jan-96               0                   38.00   \n",
       "\n",
       "   mths_since_last_record  open_acc  pub_rec  revol_bal revol_util  total_acc  \\\n",
       "0                     nan         3        0      13648     83.70%          9   \n",
       "1                     nan         3        0       1687      9.40%          4   \n",
       "2                     nan         2        0       2956     98.50%         10   \n",
       "3                     nan        10        0       5598        21%         37   \n",
       "4                     nan        15        0      27783     53.90%         38   \n",
       "\n",
       "  initial_list_status  out_prncp  out_prncp_inv  total_pymnt  total_pymnt_inv  \\\n",
       "0                   f       0.00           0.00      5863.16          5833.84   \n",
       "1                   f       0.00           0.00      1008.71          1008.71   \n",
       "2                   f       0.00           0.00      3005.67          3005.67   \n",
       "3                   f       0.00           0.00     12231.89         12231.89   \n",
       "4                   f     524.06         524.06      3513.33          3513.33   \n",
       "\n",
       "   total_rec_prncp  total_rec_int  total_rec_late_fee  recoveries  \\\n",
       "0          5000.00         863.16                0.00        0.00   \n",
       "1           456.46         435.17                0.00      117.08   \n",
       "2          2400.00         605.67                0.00        0.00   \n",
       "3         10000.00        2214.92               16.97        0.00   \n",
       "4          2475.94        1037.39                0.00        0.00   \n",
       "\n",
       "   collection_recovery_fee last_pymnt_d  last_pymnt_amnt next_pymnt_d  \\\n",
       "0                     0.00       Jan-15           171.62          NaN   \n",
       "1                     1.11       Apr-13           119.66          NaN   \n",
       "2                     0.00       Jun-14           649.91          NaN   \n",
       "3                     0.00       Jan-15           357.48          NaN   \n",
       "4                     0.00       May-16            67.79       Jun-16   \n",
       "\n",
       "  last_credit_pull_d  collections_12_mths_ex_med  mths_since_last_major_derog  \\\n",
       "0             May-16                        0.00                          nan   \n",
       "1             Sep-13                        0.00                          nan   \n",
       "2             May-16                        0.00                          nan   \n",
       "3             Apr-16                        0.00                          nan   \n",
       "4             May-16                        0.00                          nan   \n",
       "\n",
       "   policy_code application_type  annual_inc_joint  dti_joint  \\\n",
       "0            1       INDIVIDUAL               nan        nan   \n",
       "1            1       INDIVIDUAL               nan        nan   \n",
       "2            1       INDIVIDUAL               nan        nan   \n",
       "3            1       INDIVIDUAL               nan        nan   \n",
       "4            1       INDIVIDUAL               nan        nan   \n",
       "\n",
       "   verification_status_joint  acc_now_delinq  tot_coll_amt  tot_cur_bal  \\\n",
       "0                        nan               0           nan          nan   \n",
       "1                        nan               0           nan          nan   \n",
       "2                        nan               0           nan          nan   \n",
       "3                        nan               0           nan          nan   \n",
       "4                        nan               0           nan          nan   \n",
       "\n",
       "   open_acc_6m  open_il_6m  open_il_12m  open_il_24m  mths_since_rcnt_il  \\\n",
       "0          nan         nan          nan          nan                 nan   \n",
       "1          nan         nan          nan          nan                 nan   \n",
       "2          nan         nan          nan          nan                 nan   \n",
       "3          nan         nan          nan          nan                 nan   \n",
       "4          nan         nan          nan          nan                 nan   \n",
       "\n",
       "   total_bal_il  il_util  open_rv_12m  open_rv_24m  max_bal_bc  all_util  \\\n",
       "0           nan      nan          nan          nan         nan       nan   \n",
       "1           nan      nan          nan          nan         nan       nan   \n",
       "2           nan      nan          nan          nan         nan       nan   \n",
       "3           nan      nan          nan          nan         nan       nan   \n",
       "4           nan      nan          nan          nan         nan       nan   \n",
       "\n",
       "   total_rev_hi_lim  inq_fi  total_cu_tl  inq_last_12m  acc_open_past_24mths  \\\n",
       "0               nan     nan          nan           nan                   nan   \n",
       "1               nan     nan          nan           nan                   nan   \n",
       "2               nan     nan          nan           nan                   nan   \n",
       "3               nan     nan          nan           nan                   nan   \n",
       "4               nan     nan          nan           nan                   nan   \n",
       "\n",
       "   avg_cur_bal  bc_open_to_buy  bc_util  chargeoff_within_12_mths  \\\n",
       "0          nan             nan      nan                      0.00   \n",
       "1          nan             nan      nan                      0.00   \n",
       "2          nan             nan      nan                      0.00   \n",
       "3          nan             nan      nan                      0.00   \n",
       "4          nan             nan      nan                      0.00   \n",
       "\n",
       "   delinq_amnt  mo_sin_old_il_acct  mo_sin_old_rev_tl_op  \\\n",
       "0            0                 nan                   nan   \n",
       "1            0                 nan                   nan   \n",
       "2            0                 nan                   nan   \n",
       "3            0                 nan                   nan   \n",
       "4            0                 nan                   nan   \n",
       "\n",
       "   mo_sin_rcnt_rev_tl_op  mo_sin_rcnt_tl  mort_acc  mths_since_recent_bc  \\\n",
       "0                    nan             nan       nan                   nan   \n",
       "1                    nan             nan       nan                   nan   \n",
       "2                    nan             nan       nan                   nan   \n",
       "3                    nan             nan       nan                   nan   \n",
       "4                    nan             nan       nan                   nan   \n",
       "\n",
       "   mths_since_recent_bc_dlq  mths_since_recent_inq  \\\n",
       "0                       nan                    nan   \n",
       "1                       nan                    nan   \n",
       "2                       nan                    nan   \n",
       "3                       nan                    nan   \n",
       "4                       nan                    nan   \n",
       "\n",
       "   mths_since_recent_revol_delinq  num_accts_ever_120_pd  num_actv_bc_tl  \\\n",
       "0                             nan                    nan             nan   \n",
       "1                             nan                    nan             nan   \n",
       "2                             nan                    nan             nan   \n",
       "3                             nan                    nan             nan   \n",
       "4                             nan                    nan             nan   \n",
       "\n",
       "   num_actv_rev_tl  num_bc_sats  num_bc_tl  num_il_tl  num_op_rev_tl  \\\n",
       "0              nan          nan        nan        nan            nan   \n",
       "1              nan          nan        nan        nan            nan   \n",
       "2              nan          nan        nan        nan            nan   \n",
       "3              nan          nan        nan        nan            nan   \n",
       "4              nan          nan        nan        nan            nan   \n",
       "\n",
       "   num_rev_accts  num_rev_tl_bal_gt_0  num_sats  num_tl_120dpd_2m  \\\n",
       "0            nan                  nan       nan               nan   \n",
       "1            nan                  nan       nan               nan   \n",
       "2            nan                  nan       nan               nan   \n",
       "3            nan                  nan       nan               nan   \n",
       "4            nan                  nan       nan               nan   \n",
       "\n",
       "   num_tl_30dpd  num_tl_90g_dpd_24m  num_tl_op_past_12m  pct_tl_nvr_dlq  \\\n",
       "0           nan                 nan                 nan             nan   \n",
       "1           nan                 nan                 nan             nan   \n",
       "2           nan                 nan                 nan             nan   \n",
       "3           nan                 nan                 nan             nan   \n",
       "4           nan                 nan                 nan             nan   \n",
       "\n",
       "   percent_bc_gt_75  pub_rec_bankruptcies  tax_liens  tot_hi_cred_lim  \\\n",
       "0               nan                  0.00       0.00              nan   \n",
       "1               nan                  0.00       0.00              nan   \n",
       "2               nan                  0.00       0.00              nan   \n",
       "3               nan                  0.00       0.00              nan   \n",
       "4               nan                  0.00       0.00              nan   \n",
       "\n",
       "   total_bal_ex_mort  total_bc_limit  total_il_high_credit_limit  \n",
       "0                nan             nan                         nan  \n",
       "1                nan             nan                         nan  \n",
       "2                nan             nan                         nan  \n",
       "3                nan             nan                         nan  \n",
       "4                nan             nan                         nan  "
      ]
     },
     "execution_count": 4,
     "metadata": {},
     "output_type": "execute_result"
    }
   ],
   "source": [
    "loan.head()"
   ]
  },
  {
   "cell_type": "code",
   "execution_count": 5,
   "metadata": {},
   "outputs": [
    {
     "data": {
      "text/plain": [
       "(39717, 111)"
      ]
     },
     "execution_count": 5,
     "metadata": {},
     "output_type": "execute_result"
    }
   ],
   "source": [
    "#loan.info(verbose=True,null_counts=True)\n",
    "loan.shape"
   ]
  },
  {
   "cell_type": "markdown",
   "metadata": {},
   "source": [
    " ### Data Understanding: \n",
    "\n",
    " If we glance through the meta data, we can see that there are three types of variables: \n",
    " 1. variables related to customer's demographics \n",
    " 2. variables related to the loan characteristics\n",
    " 3. variables related to the customer's behavioural characteristic (after they were granted a loan).\n",
    "\n",
    " Customer's Demographic and application variables: \n",
    "\n",
    " emp_title, emp_length, home_ownership, annual_inc, verification_status, addr_state, zip_code, title, purpose, desc, url \n",
    " \n",
    " Loan related information & characteristics\n",
    "\n",
    " loan amount, funded amount, funded amount invested, interest rate, loan status, loan grade, loan sub-grade, dti, loan issue date, loan term, installment\n",
    "\n",
    " Credit information/ Customer Behaviour variables \n",
    "\n",
    "  delinq_2yrs, earliest_cr_line, inq_last_6mths, open_acc, pub_rec, revol_bal, revol_util, total_acc, out_prncp, out_prncp_inv,   total_pymnt, total_pymnt_inv, total_rec_prncp, total_rec_int, total_rec_late_fee, recoveries, collection_recovery_fee, last_pymnt_d, last_pymnt_amnt, next_pymnt_d, last_credit_pull_d, application_type"
   ]
  },
  {
   "cell_type": "markdown",
   "metadata": {},
   "source": [
    "### Data Clean-up\n",
    "\n",
    "### Dropping columns which aren't useful for analysis"
   ]
  },
  {
   "cell_type": "markdown",
   "metadata": {},
   "source": [
    "#### The objective of this analysis is to predict the risk at the application stage. There are some columns where values will not be available at the time of application, and hence cannot be used for analysis. These columns can be dropped."
   ]
  },
  {
   "cell_type": "code",
   "execution_count": 6,
   "metadata": {},
   "outputs": [
    {
     "data": {
      "text/plain": [
       "(39717, 89)"
      ]
     },
     "execution_count": 6,
     "metadata": {},
     "output_type": "execute_result"
    }
   ],
   "source": [
    "cols_to_drop = [\"collection_recovery_fee\",\"delinq_2yrs\",\"earliest_cr_line\",\"inq_last_6mths\",\"last_credit_pull_d\",\n",
    "                   \"last_pymnt_amnt\",\"last_pymnt_d\",\"mths_since_last_delinq\",\"next_pymnt_d\",\"open_acc\",\"out_prncp\",\"out_prncp_inv\",\"pub_rec\",\n",
    "                        \"recoveries\", \"revol_bal\", \"revol_util\", \"total_acc\", \"total_pymnt\", \"total_pymnt_inv\", \"total_rec_int\",\n",
    "                           \"total_rec_late_fee\", \"total_rec_prncp\"]\n",
    "                                        \n",
    "loan = loan.drop(cols_to_drop,axis=1)\n",
    "loan.shape"
   ]
  },
  {
   "cell_type": "markdown",
   "metadata": {},
   "source": [
    "#### Also, nominal columns and columns which can't be used for analysis can be dropped."
   ]
  },
  {
   "cell_type": "code",
   "execution_count": 7,
   "metadata": {},
   "outputs": [
    {
     "data": {
      "text/plain": [
       "(39717, 83)"
      ]
     },
     "execution_count": 7,
     "metadata": {},
     "output_type": "execute_result"
    }
   ],
   "source": [
    "cols_to_drop = [\"id\",\"member_id\",\"emp_title\",\"url\",\"title\",\"zip_code\"]\n",
    "loan = loan.drop(cols_to_drop,axis=1)\n",
    "loan.shape"
   ]
  },
  {
   "cell_type": "markdown",
   "metadata": {},
   "source": [
    "#### Columns which have a lot of zeroes as values"
   ]
  },
  {
   "cell_type": "code",
   "execution_count": 8,
   "metadata": {},
   "outputs": [
    {
     "name": "stdout",
     "output_type": "stream",
     "text": [
      "100.0\n",
      "99.86\n",
      "100.0\n",
      "94.01\n",
      "99.86\n",
      "99.9\n"
     ]
    }
   ],
   "source": [
    "# Following columns are observed to have a lot of values as 0.\n",
    "# %age of rows where acc_now_delinq = 0\n",
    "print(round(len(loan[loan.acc_now_delinq == 0].index)*100/len(loan.index),2))\n",
    "# %age of rows where chargeoff_within_12_mths = 0\n",
    "print(round(len(loan[loan.chargeoff_within_12_mths == 0].index)*100/len(loan.index),2))\n",
    "# %age of rows where delinq_amnt = 0\n",
    "print(round(len(loan[loan.delinq_amnt == 0].index)*100/len(loan.index),2))\n",
    "# %age of rows where pub_rec_bankruptcies = 0\n",
    "print(round(len(loan[loan.pub_rec_bankruptcies == 0].index)*100/len(loan.index),2))\n",
    "# %age of rows where collections_12_mths_ex_med = 0\n",
    "print(round(len(loan[loan.collections_12_mths_ex_med == 0].index)*100/len(loan.index),2))\n",
    "# %age of rows where tax_liens = 0\n",
    "print(round(len(loan[loan.tax_liens == 0].index)*100/len(loan.index),2))"
   ]
  },
  {
   "cell_type": "markdown",
   "metadata": {},
   "source": [
    "#### Columns with same value for all the rows"
   ]
  },
  {
   "cell_type": "code",
   "execution_count": 9,
   "metadata": {},
   "outputs": [
    {
     "name": "stdout",
     "output_type": "stream",
     "text": [
      "[1]\n",
      "['f']\n",
      "['n']\n"
     ]
    }
   ],
   "source": [
    "print(loan.policy_code.unique())\n",
    "print(loan.initial_list_status.unique())\n",
    "print(loan.pymnt_plan.unique())"
   ]
  },
  {
   "cell_type": "markdown",
   "metadata": {},
   "source": [
    "#### Dropping the columns from above two analysis"
   ]
  },
  {
   "cell_type": "code",
   "execution_count": 10,
   "metadata": {},
   "outputs": [
    {
     "data": {
      "text/plain": [
       "(39717, 74)"
      ]
     },
     "execution_count": 10,
     "metadata": {},
     "output_type": "execute_result"
    }
   ],
   "source": [
    "cols_to_drop = [\"acc_now_delinq\",\"chargeoff_within_12_mths\",\"delinq_amnt\",\"pub_rec_bankruptcies\",\n",
    "                \"collections_12_mths_ex_med\",\"tax_liens\",\"policy_code\",\"initial_list_status\",\"pymnt_plan\"]\n",
    "loan = loan.drop(cols_to_drop,axis=1)\n",
    "loan.shape"
   ]
  },
  {
   "cell_type": "markdown",
   "metadata": {},
   "source": [
    "#### Column wise missing value analysis"
   ]
  },
  {
   "cell_type": "code",
   "execution_count": 11,
   "metadata": {
    "scrolled": true
   },
   "outputs": [
    {
     "data": {
      "text/plain": [
       "loan_amnt                          0.00\n",
       "funded_amnt                        0.00\n",
       "funded_amnt_inv                    0.00\n",
       "term                               0.00\n",
       "int_rate                           0.00\n",
       "installment                        0.00\n",
       "grade                              0.00\n",
       "sub_grade                          0.00\n",
       "emp_length                         3.00\n",
       "home_ownership                     0.00\n",
       "annual_inc                         0.00\n",
       "verification_status                0.00\n",
       "issue_d                            0.00\n",
       "loan_status                        0.00\n",
       "desc                              33.00\n",
       "purpose                            0.00\n",
       "addr_state                         0.00\n",
       "dti                                0.00\n",
       "mths_since_last_record            93.00\n",
       "mths_since_last_major_derog      100.00\n",
       "application_type                   0.00\n",
       "annual_inc_joint                 100.00\n",
       "dti_joint                        100.00\n",
       "verification_status_joint        100.00\n",
       "tot_coll_amt                     100.00\n",
       "tot_cur_bal                      100.00\n",
       "open_acc_6m                      100.00\n",
       "open_il_6m                       100.00\n",
       "open_il_12m                      100.00\n",
       "open_il_24m                      100.00\n",
       "                                  ...  \n",
       "bc_util                          100.00\n",
       "mo_sin_old_il_acct               100.00\n",
       "mo_sin_old_rev_tl_op             100.00\n",
       "mo_sin_rcnt_rev_tl_op            100.00\n",
       "mo_sin_rcnt_tl                   100.00\n",
       "mort_acc                         100.00\n",
       "mths_since_recent_bc             100.00\n",
       "mths_since_recent_bc_dlq         100.00\n",
       "mths_since_recent_inq            100.00\n",
       "mths_since_recent_revol_delinq   100.00\n",
       "num_accts_ever_120_pd            100.00\n",
       "num_actv_bc_tl                   100.00\n",
       "num_actv_rev_tl                  100.00\n",
       "num_bc_sats                      100.00\n",
       "num_bc_tl                        100.00\n",
       "num_il_tl                        100.00\n",
       "num_op_rev_tl                    100.00\n",
       "num_rev_accts                    100.00\n",
       "num_rev_tl_bal_gt_0              100.00\n",
       "num_sats                         100.00\n",
       "num_tl_120dpd_2m                 100.00\n",
       "num_tl_30dpd                     100.00\n",
       "num_tl_90g_dpd_24m               100.00\n",
       "num_tl_op_past_12m               100.00\n",
       "pct_tl_nvr_dlq                   100.00\n",
       "percent_bc_gt_75                 100.00\n",
       "tot_hi_cred_lim                  100.00\n",
       "total_bal_ex_mort                100.00\n",
       "total_bc_limit                   100.00\n",
       "total_il_high_credit_limit       100.00\n",
       "Length: 74, dtype: float64"
      ]
     },
     "execution_count": 11,
     "metadata": {},
     "output_type": "execute_result"
    }
   ],
   "source": [
    "# Percentage of missing values in each column\n",
    "round(loan.isnull().sum()/len(loan.index), 2)*100"
   ]
  },
  {
   "cell_type": "markdown",
   "metadata": {},
   "source": [
    "#### There are a lot of columns where all the cells have missing values. Dropping columns where missing value %age is more than 90."
   ]
  },
  {
   "cell_type": "code",
   "execution_count": 12,
   "metadata": {},
   "outputs": [
    {
     "data": {
      "text/plain": [
       "(39717, 19)"
      ]
     },
     "execution_count": 12,
     "metadata": {},
     "output_type": "execute_result"
    }
   ],
   "source": [
    "# Dropping the columns where \n",
    "loan = loan.drop(loan.columns[100*(loan.isnull().sum()/len(loan.index)) > 90], axis=1);\n",
    "loan.shape"
   ]
  },
  {
   "cell_type": "markdown",
   "metadata": {},
   "source": [
    "#### Row-wise missing value analysis"
   ]
  },
  {
   "cell_type": "code",
   "execution_count": 13,
   "metadata": {},
   "outputs": [
    {
     "data": {
      "text/plain": [
       "0"
      ]
     },
     "execution_count": 13,
     "metadata": {},
     "output_type": "execute_result"
    }
   ],
   "source": [
    "# Checking whether there are rows with more than 5 missing values\n",
    "len(loan[loan.isnull().sum(axis=1) > 5].index)"
   ]
  },
  {
   "cell_type": "markdown",
   "metadata": {},
   "source": [
    "#### There are now rows where more than 5 cells have missing values.\n",
    "#### The data can be considered clean for analysis now."
   ]
  },
  {
   "cell_type": "code",
   "execution_count": 14,
   "metadata": {},
   "outputs": [],
   "source": [
    "# beautifying the values in the column purpose\n",
    "di = {'credit_card': 'Credit Card', 'car': 'Car', 'small_business': 'Small Business', 'other': 'Other', 'wedding': 'Wedding',\n",
    "       'debt_consolidation': 'Debt Consolidation', 'home_improvement': 'Home Improv', 'major_purchase': 'Major Purchase',\n",
    "       'medical': 'Medical', 'moving': 'Moving', 'vacation': 'Vacation', 'house': 'House', 'renewable_energy': 'Renewable Energy',\n",
    "       'educational': 'Educational'}\n",
    "loan.replace({\"purpose\": di}, inplace=True)"
   ]
  },
  {
   "cell_type": "code",
   "execution_count": 15,
   "metadata": {},
   "outputs": [
    {
     "data": {
      "text/html": [
       "<div>\n",
       "<style scoped>\n",
       "    .dataframe tbody tr th:only-of-type {\n",
       "        vertical-align: middle;\n",
       "    }\n",
       "\n",
       "    .dataframe tbody tr th {\n",
       "        vertical-align: top;\n",
       "    }\n",
       "\n",
       "    .dataframe thead th {\n",
       "        text-align: right;\n",
       "    }\n",
       "</style>\n",
       "<table border=\"1\" class=\"dataframe\">\n",
       "  <thead>\n",
       "    <tr style=\"text-align: right;\">\n",
       "      <th></th>\n",
       "      <th>loan_amnt</th>\n",
       "      <th>funded_amnt</th>\n",
       "      <th>funded_amnt_inv</th>\n",
       "      <th>term</th>\n",
       "      <th>int_rate</th>\n",
       "      <th>installment</th>\n",
       "      <th>grade</th>\n",
       "      <th>sub_grade</th>\n",
       "      <th>emp_length</th>\n",
       "      <th>home_ownership</th>\n",
       "      <th>annual_inc</th>\n",
       "      <th>verification_status</th>\n",
       "      <th>issue_d</th>\n",
       "      <th>loan_status</th>\n",
       "      <th>desc</th>\n",
       "      <th>purpose</th>\n",
       "      <th>addr_state</th>\n",
       "      <th>dti</th>\n",
       "      <th>application_type</th>\n",
       "    </tr>\n",
       "  </thead>\n",
       "  <tbody>\n",
       "    <tr>\n",
       "      <th>0</th>\n",
       "      <td>5000</td>\n",
       "      <td>5000</td>\n",
       "      <td>4975.00</td>\n",
       "      <td>36 months</td>\n",
       "      <td>10.65%</td>\n",
       "      <td>162.87</td>\n",
       "      <td>B</td>\n",
       "      <td>B2</td>\n",
       "      <td>10+ years</td>\n",
       "      <td>RENT</td>\n",
       "      <td>24000.00</td>\n",
       "      <td>Verified</td>\n",
       "      <td>Dec-11</td>\n",
       "      <td>Fully Paid</td>\n",
       "      <td>Borrower added on 12/22/11 &gt; I need to upgra...</td>\n",
       "      <td>Credit Card</td>\n",
       "      <td>AZ</td>\n",
       "      <td>27.65</td>\n",
       "      <td>INDIVIDUAL</td>\n",
       "    </tr>\n",
       "    <tr>\n",
       "      <th>1</th>\n",
       "      <td>2500</td>\n",
       "      <td>2500</td>\n",
       "      <td>2500.00</td>\n",
       "      <td>60 months</td>\n",
       "      <td>15.27%</td>\n",
       "      <td>59.83</td>\n",
       "      <td>C</td>\n",
       "      <td>C4</td>\n",
       "      <td>&lt; 1 year</td>\n",
       "      <td>RENT</td>\n",
       "      <td>30000.00</td>\n",
       "      <td>Source Verified</td>\n",
       "      <td>Dec-11</td>\n",
       "      <td>Charged Off</td>\n",
       "      <td>Borrower added on 12/22/11 &gt; I plan to use t...</td>\n",
       "      <td>Car</td>\n",
       "      <td>GA</td>\n",
       "      <td>1.00</td>\n",
       "      <td>INDIVIDUAL</td>\n",
       "    </tr>\n",
       "    <tr>\n",
       "      <th>2</th>\n",
       "      <td>2400</td>\n",
       "      <td>2400</td>\n",
       "      <td>2400.00</td>\n",
       "      <td>36 months</td>\n",
       "      <td>15.96%</td>\n",
       "      <td>84.33</td>\n",
       "      <td>C</td>\n",
       "      <td>C5</td>\n",
       "      <td>10+ years</td>\n",
       "      <td>RENT</td>\n",
       "      <td>12252.00</td>\n",
       "      <td>Not Verified</td>\n",
       "      <td>Dec-11</td>\n",
       "      <td>Fully Paid</td>\n",
       "      <td>NaN</td>\n",
       "      <td>Small Business</td>\n",
       "      <td>IL</td>\n",
       "      <td>8.72</td>\n",
       "      <td>INDIVIDUAL</td>\n",
       "    </tr>\n",
       "    <tr>\n",
       "      <th>3</th>\n",
       "      <td>10000</td>\n",
       "      <td>10000</td>\n",
       "      <td>10000.00</td>\n",
       "      <td>36 months</td>\n",
       "      <td>13.49%</td>\n",
       "      <td>339.31</td>\n",
       "      <td>C</td>\n",
       "      <td>C1</td>\n",
       "      <td>10+ years</td>\n",
       "      <td>RENT</td>\n",
       "      <td>49200.00</td>\n",
       "      <td>Source Verified</td>\n",
       "      <td>Dec-11</td>\n",
       "      <td>Fully Paid</td>\n",
       "      <td>Borrower added on 12/21/11 &gt; to pay for prop...</td>\n",
       "      <td>Other</td>\n",
       "      <td>CA</td>\n",
       "      <td>20.00</td>\n",
       "      <td>INDIVIDUAL</td>\n",
       "    </tr>\n",
       "    <tr>\n",
       "      <th>4</th>\n",
       "      <td>3000</td>\n",
       "      <td>3000</td>\n",
       "      <td>3000.00</td>\n",
       "      <td>60 months</td>\n",
       "      <td>12.69%</td>\n",
       "      <td>67.79</td>\n",
       "      <td>B</td>\n",
       "      <td>B5</td>\n",
       "      <td>1 year</td>\n",
       "      <td>RENT</td>\n",
       "      <td>80000.00</td>\n",
       "      <td>Source Verified</td>\n",
       "      <td>Dec-11</td>\n",
       "      <td>Current</td>\n",
       "      <td>Borrower added on 12/21/11 &gt; I plan on combi...</td>\n",
       "      <td>Other</td>\n",
       "      <td>OR</td>\n",
       "      <td>17.94</td>\n",
       "      <td>INDIVIDUAL</td>\n",
       "    </tr>\n",
       "  </tbody>\n",
       "</table>\n",
       "</div>"
      ],
      "text/plain": [
       "   loan_amnt  funded_amnt  funded_amnt_inv        term int_rate  installment  \\\n",
       "0       5000         5000          4975.00   36 months   10.65%       162.87   \n",
       "1       2500         2500          2500.00   60 months   15.27%        59.83   \n",
       "2       2400         2400          2400.00   36 months   15.96%        84.33   \n",
       "3      10000        10000         10000.00   36 months   13.49%       339.31   \n",
       "4       3000         3000          3000.00   60 months   12.69%        67.79   \n",
       "\n",
       "  grade sub_grade emp_length home_ownership  annual_inc verification_status  \\\n",
       "0     B        B2  10+ years           RENT    24000.00            Verified   \n",
       "1     C        C4   < 1 year           RENT    30000.00     Source Verified   \n",
       "2     C        C5  10+ years           RENT    12252.00        Not Verified   \n",
       "3     C        C1  10+ years           RENT    49200.00     Source Verified   \n",
       "4     B        B5     1 year           RENT    80000.00     Source Verified   \n",
       "\n",
       "  issue_d  loan_status                                               desc  \\\n",
       "0  Dec-11   Fully Paid    Borrower added on 12/22/11 > I need to upgra...   \n",
       "1  Dec-11  Charged Off    Borrower added on 12/22/11 > I plan to use t...   \n",
       "2  Dec-11   Fully Paid                                                NaN   \n",
       "3  Dec-11   Fully Paid    Borrower added on 12/21/11 > to pay for prop...   \n",
       "4  Dec-11      Current    Borrower added on 12/21/11 > I plan on combi...   \n",
       "\n",
       "          purpose addr_state   dti application_type  \n",
       "0     Credit Card         AZ 27.65       INDIVIDUAL  \n",
       "1             Car         GA  1.00       INDIVIDUAL  \n",
       "2  Small Business         IL  8.72       INDIVIDUAL  \n",
       "3           Other         CA 20.00       INDIVIDUAL  \n",
       "4           Other         OR 17.94       INDIVIDUAL  "
      ]
     },
     "execution_count": 15,
     "metadata": {},
     "output_type": "execute_result"
    }
   ],
   "source": [
    "loan.head()"
   ]
  },
  {
   "cell_type": "markdown",
   "metadata": {},
   "source": [
    "## Data Analysis"
   ]
  },
  {
   "cell_type": "markdown",
   "metadata": {},
   "source": [
    "### Overall default rate"
   ]
  },
  {
   "cell_type": "code",
   "execution_count": 16,
   "metadata": {},
   "outputs": [],
   "source": [
    "# There are three values for loan_status: 'Fully Paid', 'Charged Off', 'Current'\n",
    "# Since rows with loan_status as 'Current' aren't useful for analysis, we can drop these rows.\n",
    "loan = loan[loan.loan_status != 'Current']"
   ]
  },
  {
   "cell_type": "code",
   "execution_count": 17,
   "metadata": {},
   "outputs": [],
   "source": [
    "# Creating a new colum status_flag which will have 0 for a paid off loan and 1 for a charged off loan\n",
    "loan['status_flag'] = loan.loan_status.apply(lambda x: 0 if x=='Fully Paid' else 1)"
   ]
  },
  {
   "cell_type": "code",
   "execution_count": 18,
   "metadata": {},
   "outputs": [
    {
     "data": {
      "text/plain": [
       "14.59"
      ]
     },
     "execution_count": 18,
     "metadata": {},
     "output_type": "execute_result"
    }
   ],
   "source": [
    "# We can find the overall default rate by using the status_flag column\n",
    "round(np.mean(loan['status_flag'])*100, 2)"
   ]
  },
  {
   "cell_type": "markdown",
   "metadata": {},
   "source": [
    "#### The overall default rate is about 14.59%"
   ]
  },
  {
   "cell_type": "markdown",
   "metadata": {},
   "source": [
    "### Yearly and Monthly Application Distribution"
   ]
  },
  {
   "cell_type": "code",
   "execution_count": 19,
   "metadata": {},
   "outputs": [],
   "source": [
    "# We first have to exract year and month information from column 'issue_d'\n",
    "loan['issue_d'] = loan.issue_d.apply(lambda x: datetime.strptime(x, '%b-%y'))\n",
    "loan['issue_m'] = loan.issue_d.apply(lambda x: x.month)\n",
    "loan['issue_y'] = loan.issue_d.apply(lambda x: x.year)"
   ]
  },
  {
   "cell_type": "code",
   "execution_count": 289,
   "metadata": {},
   "outputs": [
    {
     "data": {
      "image/png": "[encoded data removed]",
      "text/plain": [
       "<Figure size 360x288 with 1 Axes>"
      ]
     },
     "metadata": {
      "needs_background": "light"
     },
     "output_type": "display_data"
    }
   ],
   "source": [
    "# The number of loans granted across years\n",
    "loan_by_year = loan.groupby('issue_y').issue_y.count()\n",
    "loan_by_year_plot = loan_by_year.plot(kind='bar', title=\"Loan distribution across years\",figsize=(5,4), rot=0)\n",
    "_ = loan_by_year_plot.title.set_size(15)\n",
    "_ = loan_by_year_plot.set_xlabel(\"Year\",fontsize=12,fontweight='bold')\n",
    "_ = loan_by_year_plot.set_ylabel(\"No of Loan Applications\",fontsize=12,fontweight='bold')"
   ]
  },
  {
   "cell_type": "markdown",
   "metadata": {},
   "source": [
    "#### We see that the number of loans applied has increased gradually over the years"
   ]
  },
  {
   "cell_type": "code",
   "execution_count": 290,
   "metadata": {},
   "outputs": [
    {
     "data": {
      "image/png": "[encoded data removed]",
      "text/plain": [
       "<Figure size 432x288 with 1 Axes>"
      ]
     },
     "metadata": {
      "needs_background": "light"
     },
     "output_type": "display_data"
    }
   ],
   "source": [
    "# Default rate across years\n",
    "g = sns.barplot(x='issue_y', y='status_flag', data=loan, ci=None)\n",
    "_ = g.set_xlabel(\"Year\",fontsize=12,fontweight='bold')\n",
    "_ = g.set_ylabel(\"Default Rate\",fontsize=12,fontweight='bold')\n",
    "plt.show()"
   ]
  },
  {
   "cell_type": "markdown",
   "metadata": {},
   "source": [
    "#### The default rate reduced from 2007 to 2010 but increased in 2011."
   ]
  },
  {
   "cell_type": "code",
   "execution_count": 291,
   "metadata": {},
   "outputs": [
    {
     "data": {
      "image/png": "[encoded data removed]",
      "text/plain": [
       "<Figure size 648x288 with 1 Axes>"
      ]
     },
     "metadata": {
      "needs_background": "light"
     },
     "output_type": "display_data"
    }
   ],
   "source": [
    "# Number of loans across months\n",
    "loan_by_mon = loan.groupby('issue_m').issue_m.count()\n",
    "loan_by_mon_plot = loan_by_mon.plot(kind='bar', title=\"Loan distribution across months\",figsize=(9,4), rot=0)\n",
    "_ = loan_by_mon_plot.set_xticklabels(['Jan','Feb','Mar','Apr','May','Jun','Jul','Aug','Sep','Oct','Nov','Dec'])\n",
    "_ = loan_by_mon_plot.title.set_size(15)\n",
    "_ = loan_by_mon_plot.set_xlabel(\"Month\",fontsize=12,fontweight='bold')\n",
    "_ = loan_by_mon_plot.set_ylabel(\"No of Loan Applications\",fontsize=12,fontweight='bold')"
   ]
  },
  {
   "cell_type": "markdown",
   "metadata": {},
   "source": [
    "#### We see more loans are applied in second half of the year."
   ]
  },
  {
   "cell_type": "code",
   "execution_count": 292,
   "metadata": {},
   "outputs": [
    {
     "data": {
      "image/png": "[encoded data removed]",
      "text/plain": [
       "<Figure size 648x288 with 1 Axes>"
      ]
     },
     "metadata": {
      "needs_background": "light"
     },
     "output_type": "display_data"
    }
   ],
   "source": [
    "# Default rate across months\n",
    "plt.figure(figsize=(9,4))\n",
    "g = sns.barplot(x='issue_m', y='status_flag', data=loan, ci=None)\n",
    "_ = g.set_xlabel(\"Month\",fontsize=12,fontweight='bold')\n",
    "_ = g.set_xticklabels(['Jan','Feb','Mar','Apr','May','Jun','Jul','Aug','Sep','Oct','Nov','Dec'])\n",
    "_ = g.set_ylabel(\"Default Rate\",fontsize=12,fontweight='bold')\n",
    "plt.show()"
   ]
  },
  {
   "cell_type": "markdown",
   "metadata": {},
   "source": [
    "#### We can see that there is not much variation in default rate across months"
   ]
  },
  {
   "cell_type": "markdown",
   "metadata": {},
   "source": [
    "### Loan Distribution by Purpose"
   ]
  },
  {
   "cell_type": "code",
   "execution_count": 293,
   "metadata": {},
   "outputs": [
    {
     "data": {
      "text/html": [
       "<div>\n",
       "<style scoped>\n",
       "    .dataframe tbody tr th:only-of-type {\n",
       "        vertical-align: middle;\n",
       "    }\n",
       "\n",
       "    .dataframe tbody tr th {\n",
       "        vertical-align: top;\n",
       "    }\n",
       "\n",
       "    .dataframe thead th {\n",
       "        text-align: right;\n",
       "    }\n",
       "</style>\n",
       "<table border=\"1\" class=\"dataframe\">\n",
       "  <thead>\n",
       "    <tr style=\"text-align: right;\">\n",
       "      <th></th>\n",
       "      <th>funded_amnt</th>\n",
       "    </tr>\n",
       "    <tr>\n",
       "      <th>purpose</th>\n",
       "      <th></th>\n",
       "    </tr>\n",
       "  </thead>\n",
       "  <tbody>\n",
       "    <tr>\n",
       "      <th>Debt Consolidation</th>\n",
       "      <td>52.98</td>\n",
       "    </tr>\n",
       "    <tr>\n",
       "      <th>Credit Card</th>\n",
       "      <td>13.66</td>\n",
       "    </tr>\n",
       "    <tr>\n",
       "      <th>Home Improv</th>\n",
       "      <td>7.60</td>\n",
       "    </tr>\n",
       "    <tr>\n",
       "      <th>Other</th>\n",
       "      <td>7.21</td>\n",
       "    </tr>\n",
       "    <tr>\n",
       "      <th>Small Business</th>\n",
       "      <td>5.42</td>\n",
       "    </tr>\n",
       "    <tr>\n",
       "      <th>Major Purchase</th>\n",
       "      <td>4.08</td>\n",
       "    </tr>\n",
       "    <tr>\n",
       "      <th>Car</th>\n",
       "      <td>2.41</td>\n",
       "    </tr>\n",
       "    <tr>\n",
       "      <th>Wedding</th>\n",
       "      <td>2.14</td>\n",
       "    </tr>\n",
       "    <tr>\n",
       "      <th>Medical</th>\n",
       "      <td>1.31</td>\n",
       "    </tr>\n",
       "    <tr>\n",
       "      <th>House</th>\n",
       "      <td>1.09</td>\n",
       "    </tr>\n",
       "    <tr>\n",
       "      <th>Moving</th>\n",
       "      <td>0.89</td>\n",
       "    </tr>\n",
       "    <tr>\n",
       "      <th>Educational</th>\n",
       "      <td>0.52</td>\n",
       "    </tr>\n",
       "    <tr>\n",
       "      <th>Vacation</th>\n",
       "      <td>0.48</td>\n",
       "    </tr>\n",
       "    <tr>\n",
       "      <th>Renewable Energy</th>\n",
       "      <td>0.20</td>\n",
       "    </tr>\n",
       "  </tbody>\n",
       "</table>\n",
       "</div>"
      ],
      "text/plain": [
       "                    funded_amnt\n",
       "purpose                        \n",
       "Debt Consolidation        52.98\n",
       "Credit Card               13.66\n",
       "Home Improv                7.60\n",
       "Other                      7.21\n",
       "Small Business             5.42\n",
       "Major Purchase             4.08\n",
       "Car                        2.41\n",
       "Wedding                    2.14\n",
       "Medical                    1.31\n",
       "House                      1.09\n",
       "Moving                     0.89\n",
       "Educational                0.52\n",
       "Vacation                   0.48\n",
       "Renewable Energy           0.20"
      ]
     },
     "execution_count": 293,
     "metadata": {},
     "output_type": "execute_result"
    }
   ],
   "source": [
    "loan_by_purpose_pct = pd.DataFrame(loan.groupby('purpose').funded_amnt.sum().sort_values(ascending=False))\n",
    "loan_by_purpose_pct = pd.DataFrame(loan_by_purpose_pct.funded_amnt*100/loan_by_purpose_pct.funded_amnt.sum())\n",
    "loan_by_purpose_pct"
   ]
  },
  {
   "cell_type": "code",
   "execution_count": 294,
   "metadata": {},
   "outputs": [
    {
     "data": {
      "image/png": "[encoded data removed]",
      "text/plain": [
       "<Figure size 1512x288 with 1 Axes>"
      ]
     },
     "metadata": {
      "needs_background": "light"
     },
     "output_type": "display_data"
    }
   ],
   "source": [
    "# Plotting the number of loans by purpose as a %age of total loan\n",
    "loan_by_purpose_pct_plot = loan_by_purpose_pct.plot(kind='bar', title=\"Loan distribution %age by Purpose\",figsize=(21,4), rot=75, legend=False)\n",
    "_ = loan_by_purpose_pct_plot.set_xlabel(\"Purpose\",fontsize=12,fontweight='bold')\n",
    "_ = loan_by_purpose_pct_plot.set_ylabel(\"%age of Total No. of Loans\",fontsize=12,fontweight='bold')"
   ]
  },
  {
   "cell_type": "markdown",
   "metadata": {},
   "source": [
    "#### We can see that debt consolidation, credit card, other, home improvement, major purchase and small businesses are the top contributors (combined ~90%) of business. "
   ]
  },
  {
   "cell_type": "markdown",
   "metadata": {},
   "source": [
    "### Next we can check the default rate across purposes"
   ]
  },
  {
   "cell_type": "code",
   "execution_count": 295,
   "metadata": {},
   "outputs": [
    {
     "data": {
      "text/html": [
       "<div>\n",
       "<style scoped>\n",
       "    .dataframe tbody tr th:only-of-type {\n",
       "        vertical-align: middle;\n",
       "    }\n",
       "\n",
       "    .dataframe tbody tr th {\n",
       "        vertical-align: top;\n",
       "    }\n",
       "\n",
       "    .dataframe thead th {\n",
       "        text-align: right;\n",
       "    }\n",
       "</style>\n",
       "<table border=\"1\" class=\"dataframe\">\n",
       "  <thead>\n",
       "    <tr style=\"text-align: right;\">\n",
       "      <th></th>\n",
       "      <th></th>\n",
       "      <th>loan_status</th>\n",
       "    </tr>\n",
       "    <tr>\n",
       "      <th>purpose</th>\n",
       "      <th>loan_status</th>\n",
       "      <th></th>\n",
       "    </tr>\n",
       "  </thead>\n",
       "  <tbody>\n",
       "    <tr>\n",
       "      <th rowspan=\"2\" valign=\"top\">Car</th>\n",
       "      <th>Charged Off</th>\n",
       "      <td>10.67</td>\n",
       "    </tr>\n",
       "    <tr>\n",
       "      <th>Fully Paid</th>\n",
       "      <td>89.33</td>\n",
       "    </tr>\n",
       "    <tr>\n",
       "      <th rowspan=\"2\" valign=\"top\">Credit Card</th>\n",
       "      <th>Charged Off</th>\n",
       "      <td>10.78</td>\n",
       "    </tr>\n",
       "    <tr>\n",
       "      <th>Fully Paid</th>\n",
       "      <td>89.22</td>\n",
       "    </tr>\n",
       "    <tr>\n",
       "      <th rowspan=\"2\" valign=\"top\">Debt Consolidation</th>\n",
       "      <th>Charged Off</th>\n",
       "      <td>15.33</td>\n",
       "    </tr>\n",
       "    <tr>\n",
       "      <th>Fully Paid</th>\n",
       "      <td>84.67</td>\n",
       "    </tr>\n",
       "    <tr>\n",
       "      <th rowspan=\"2\" valign=\"top\">Educational</th>\n",
       "      <th>Charged Off</th>\n",
       "      <td>17.23</td>\n",
       "    </tr>\n",
       "    <tr>\n",
       "      <th>Fully Paid</th>\n",
       "      <td>82.77</td>\n",
       "    </tr>\n",
       "    <tr>\n",
       "      <th rowspan=\"2\" valign=\"top\">Home Improv</th>\n",
       "      <th>Charged Off</th>\n",
       "      <td>12.07</td>\n",
       "    </tr>\n",
       "    <tr>\n",
       "      <th>Fully Paid</th>\n",
       "      <td>87.93</td>\n",
       "    </tr>\n",
       "    <tr>\n",
       "      <th rowspan=\"2\" valign=\"top\">House</th>\n",
       "      <th>Charged Off</th>\n",
       "      <td>16.08</td>\n",
       "    </tr>\n",
       "    <tr>\n",
       "      <th>Fully Paid</th>\n",
       "      <td>83.92</td>\n",
       "    </tr>\n",
       "    <tr>\n",
       "      <th rowspan=\"2\" valign=\"top\">Major Purchase</th>\n",
       "      <th>Charged Off</th>\n",
       "      <td>10.33</td>\n",
       "    </tr>\n",
       "    <tr>\n",
       "      <th>Fully Paid</th>\n",
       "      <td>89.67</td>\n",
       "    </tr>\n",
       "    <tr>\n",
       "      <th rowspan=\"2\" valign=\"top\">Medical</th>\n",
       "      <th>Charged Off</th>\n",
       "      <td>15.57</td>\n",
       "    </tr>\n",
       "    <tr>\n",
       "      <th>Fully Paid</th>\n",
       "      <td>84.43</td>\n",
       "    </tr>\n",
       "    <tr>\n",
       "      <th rowspan=\"2\" valign=\"top\">Moving</th>\n",
       "      <th>Charged Off</th>\n",
       "      <td>15.97</td>\n",
       "    </tr>\n",
       "    <tr>\n",
       "      <th>Fully Paid</th>\n",
       "      <td>84.03</td>\n",
       "    </tr>\n",
       "    <tr>\n",
       "      <th rowspan=\"2\" valign=\"top\">Other</th>\n",
       "      <th>Charged Off</th>\n",
       "      <td>16.38</td>\n",
       "    </tr>\n",
       "    <tr>\n",
       "      <th>Fully Paid</th>\n",
       "      <td>83.62</td>\n",
       "    </tr>\n",
       "    <tr>\n",
       "      <th rowspan=\"2\" valign=\"top\">Renewable Energy</th>\n",
       "      <th>Charged Off</th>\n",
       "      <td>18.63</td>\n",
       "    </tr>\n",
       "    <tr>\n",
       "      <th>Fully Paid</th>\n",
       "      <td>81.37</td>\n",
       "    </tr>\n",
       "    <tr>\n",
       "      <th rowspan=\"2\" valign=\"top\">Small Business</th>\n",
       "      <th>Charged Off</th>\n",
       "      <td>27.08</td>\n",
       "    </tr>\n",
       "    <tr>\n",
       "      <th>Fully Paid</th>\n",
       "      <td>72.92</td>\n",
       "    </tr>\n",
       "    <tr>\n",
       "      <th rowspan=\"2\" valign=\"top\">Vacation</th>\n",
       "      <th>Charged Off</th>\n",
       "      <td>14.13</td>\n",
       "    </tr>\n",
       "    <tr>\n",
       "      <th>Fully Paid</th>\n",
       "      <td>85.87</td>\n",
       "    </tr>\n",
       "    <tr>\n",
       "      <th rowspan=\"2\" valign=\"top\">Wedding</th>\n",
       "      <th>Charged Off</th>\n",
       "      <td>10.37</td>\n",
       "    </tr>\n",
       "    <tr>\n",
       "      <th>Fully Paid</th>\n",
       "      <td>89.63</td>\n",
       "    </tr>\n",
       "  </tbody>\n",
       "</table>\n",
       "</div>"
      ],
      "text/plain": [
       "                                loan_status\n",
       "purpose            loan_status             \n",
       "Car                Charged Off        10.67\n",
       "                   Fully Paid         89.33\n",
       "Credit Card        Charged Off        10.78\n",
       "                   Fully Paid         89.22\n",
       "Debt Consolidation Charged Off        15.33\n",
       "                   Fully Paid         84.67\n",
       "Educational        Charged Off        17.23\n",
       "                   Fully Paid         82.77\n",
       "Home Improv        Charged Off        12.07\n",
       "                   Fully Paid         87.93\n",
       "House              Charged Off        16.08\n",
       "                   Fully Paid         83.92\n",
       "Major Purchase     Charged Off        10.33\n",
       "                   Fully Paid         89.67\n",
       "Medical            Charged Off        15.57\n",
       "                   Fully Paid         84.43\n",
       "Moving             Charged Off        15.97\n",
       "                   Fully Paid         84.03\n",
       "Other              Charged Off        16.38\n",
       "                   Fully Paid         83.62\n",
       "Renewable Energy   Charged Off        18.63\n",
       "                   Fully Paid         81.37\n",
       "Small Business     Charged Off        27.08\n",
       "                   Fully Paid         72.92\n",
       "Vacation           Charged Off        14.13\n",
       "                   Fully Paid         85.87\n",
       "Wedding            Charged Off        10.37\n",
       "                   Fully Paid         89.63"
      ]
     },
     "execution_count": 295,
     "metadata": {},
     "output_type": "execute_result"
    }
   ],
   "source": [
    "loan_default_by_purpose = pd.DataFrame(loan.groupby(['purpose','loan_status'])['loan_status'].count())\n",
    "loan_default_by_purpose = pd.DataFrame(loan_default_by_purpose.groupby(level=0).apply(lambda x: 100 * x / float(x.sum())))\n",
    "loan_default_by_purpose"
   ]
  },
  {
   "cell_type": "markdown",
   "metadata": {},
   "source": [
    "#### It can be seen that the default rate for the 6 top revenue contributors is as follows:\n",
    "##### Small Business 27%, Other 16%, Debt Consolidation 15%, Home Improvement 12%, Credit Cards 11%, Small Business 27%"
   ]
  },
  {
   "cell_type": "code",
   "execution_count": 296,
   "metadata": {},
   "outputs": [
    {
     "data": {
      "image/png": "[encoded data removed]",
      "text/plain": [
       "<Figure size 1512x576 with 1 Axes>"
      ]
     },
     "metadata": {
      "needs_background": "light"
     },
     "output_type": "display_data"
    }
   ],
   "source": [
    "# Plotting the dostribution of loans that default\n",
    "loan_default_by_purpose = pd.DataFrame(loan[loan.loan_status=='Charged Off'].groupby(['purpose'])['loan_status'].count().sort_values(ascending=False))\n",
    "loan_default_by_purpose_pct_plot = loan_default_by_purpose.plot(kind='bar', title=\"Loan distribution for Charged Off Loans\",figsize=(21,8), rot=75, legend=False)\n",
    "_ = loan_default_by_purpose_pct_plot.set_xlabel(\"Purpose\",fontsize=12,fontweight='bold')\n",
    "_ = loan_default_by_purpose_pct_plot.set_ylabel(\"No. of Loans\",fontsize=12,fontweight='bold')"
   ]
  },
  {
   "cell_type": "markdown",
   "metadata": {},
   "source": [
    "#### The above plot ascertains that the number of loans that default is high for the top 6 revenue contributors. Since we do not know the purpose of 'Other' types of loans, we can restrict our further analysis to the top 5 except 'Other'."
   ]
  },
  {
   "cell_type": "code",
   "execution_count": 297,
   "metadata": {},
   "outputs": [
    {
     "data": {
      "text/html": [
       "<div>\n",
       "<style scoped>\n",
       "    .dataframe tbody tr th:only-of-type {\n",
       "        vertical-align: middle;\n",
       "    }\n",
       "\n",
       "    .dataframe tbody tr th {\n",
       "        vertical-align: top;\n",
       "    }\n",
       "\n",
       "    .dataframe thead th {\n",
       "        text-align: right;\n",
       "    }\n",
       "</style>\n",
       "<table border=\"1\" class=\"dataframe\">\n",
       "  <thead>\n",
       "    <tr style=\"text-align: right;\">\n",
       "      <th></th>\n",
       "      <th>loan_amnt</th>\n",
       "      <th>funded_amnt</th>\n",
       "      <th>funded_amnt_inv</th>\n",
       "      <th>term</th>\n",
       "      <th>int_rate</th>\n",
       "      <th>installment</th>\n",
       "      <th>grade</th>\n",
       "      <th>sub_grade</th>\n",
       "      <th>emp_length</th>\n",
       "      <th>home_ownership</th>\n",
       "      <th>annual_inc</th>\n",
       "      <th>verification_status</th>\n",
       "      <th>issue_d</th>\n",
       "      <th>loan_status</th>\n",
       "      <th>desc</th>\n",
       "      <th>purpose</th>\n",
       "      <th>addr_state</th>\n",
       "      <th>dti</th>\n",
       "      <th>application_type</th>\n",
       "      <th>status_flag</th>\n",
       "      <th>issue_m</th>\n",
       "      <th>issue_y</th>\n",
       "    </tr>\n",
       "  </thead>\n",
       "  <tbody>\n",
       "    <tr>\n",
       "      <th>0</th>\n",
       "      <td>5000</td>\n",
       "      <td>5000</td>\n",
       "      <td>4975.00</td>\n",
       "      <td>36 months</td>\n",
       "      <td>10.65%</td>\n",
       "      <td>162.87</td>\n",
       "      <td>B</td>\n",
       "      <td>B2</td>\n",
       "      <td>10+ years</td>\n",
       "      <td>RENT</td>\n",
       "      <td>24000.00</td>\n",
       "      <td>Verified</td>\n",
       "      <td>2011-12-01</td>\n",
       "      <td>Fully Paid</td>\n",
       "      <td>Borrower added on 12/22/11 &gt; I need to upgra...</td>\n",
       "      <td>Credit Card</td>\n",
       "      <td>AZ</td>\n",
       "      <td>27.65</td>\n",
       "      <td>INDIVIDUAL</td>\n",
       "      <td>0</td>\n",
       "      <td>12</td>\n",
       "      <td>2011</td>\n",
       "    </tr>\n",
       "    <tr>\n",
       "      <th>2</th>\n",
       "      <td>2400</td>\n",
       "      <td>2400</td>\n",
       "      <td>2400.00</td>\n",
       "      <td>36 months</td>\n",
       "      <td>15.96%</td>\n",
       "      <td>84.33</td>\n",
       "      <td>C</td>\n",
       "      <td>C5</td>\n",
       "      <td>10+ years</td>\n",
       "      <td>RENT</td>\n",
       "      <td>12252.00</td>\n",
       "      <td>Not Verified</td>\n",
       "      <td>2011-12-01</td>\n",
       "      <td>Fully Paid</td>\n",
       "      <td>NaN</td>\n",
       "      <td>Small Business</td>\n",
       "      <td>IL</td>\n",
       "      <td>8.72</td>\n",
       "      <td>INDIVIDUAL</td>\n",
       "      <td>0</td>\n",
       "      <td>12</td>\n",
       "      <td>2011</td>\n",
       "    </tr>\n",
       "    <tr>\n",
       "      <th>6</th>\n",
       "      <td>7000</td>\n",
       "      <td>7000</td>\n",
       "      <td>7000.00</td>\n",
       "      <td>60 months</td>\n",
       "      <td>15.96%</td>\n",
       "      <td>170.08</td>\n",
       "      <td>C</td>\n",
       "      <td>C5</td>\n",
       "      <td>8 years</td>\n",
       "      <td>RENT</td>\n",
       "      <td>47004.00</td>\n",
       "      <td>Not Verified</td>\n",
       "      <td>2011-12-01</td>\n",
       "      <td>Fully Paid</td>\n",
       "      <td>Borrower added on 12/18/11 &gt; I am planning o...</td>\n",
       "      <td>Debt Consolidation</td>\n",
       "      <td>NC</td>\n",
       "      <td>23.51</td>\n",
       "      <td>INDIVIDUAL</td>\n",
       "      <td>0</td>\n",
       "      <td>12</td>\n",
       "      <td>2011</td>\n",
       "    </tr>\n",
       "    <tr>\n",
       "      <th>8</th>\n",
       "      <td>5600</td>\n",
       "      <td>5600</td>\n",
       "      <td>5600.00</td>\n",
       "      <td>60 months</td>\n",
       "      <td>21.28%</td>\n",
       "      <td>152.39</td>\n",
       "      <td>F</td>\n",
       "      <td>F2</td>\n",
       "      <td>4 years</td>\n",
       "      <td>OWN</td>\n",
       "      <td>40000.00</td>\n",
       "      <td>Source Verified</td>\n",
       "      <td>2011-12-01</td>\n",
       "      <td>Charged Off</td>\n",
       "      <td>Borrower added on 12/21/11 &gt; I own a small h...</td>\n",
       "      <td>Small Business</td>\n",
       "      <td>CA</td>\n",
       "      <td>5.55</td>\n",
       "      <td>INDIVIDUAL</td>\n",
       "      <td>1</td>\n",
       "      <td>12</td>\n",
       "      <td>2011</td>\n",
       "    </tr>\n",
       "    <tr>\n",
       "      <th>10</th>\n",
       "      <td>6500</td>\n",
       "      <td>6500</td>\n",
       "      <td>6500.00</td>\n",
       "      <td>60 months</td>\n",
       "      <td>14.65%</td>\n",
       "      <td>153.45</td>\n",
       "      <td>C</td>\n",
       "      <td>C3</td>\n",
       "      <td>5 years</td>\n",
       "      <td>OWN</td>\n",
       "      <td>72000.00</td>\n",
       "      <td>Not Verified</td>\n",
       "      <td>2011-12-01</td>\n",
       "      <td>Fully Paid</td>\n",
       "      <td>Borrower added on 12/15/11 &gt; I had recived a...</td>\n",
       "      <td>Debt Consolidation</td>\n",
       "      <td>AZ</td>\n",
       "      <td>16.12</td>\n",
       "      <td>INDIVIDUAL</td>\n",
       "      <td>0</td>\n",
       "      <td>12</td>\n",
       "      <td>2011</td>\n",
       "    </tr>\n",
       "  </tbody>\n",
       "</table>\n",
       "</div>"
      ],
      "text/plain": [
       "    loan_amnt  funded_amnt  funded_amnt_inv        term int_rate  installment  \\\n",
       "0        5000         5000          4975.00   36 months   10.65%       162.87   \n",
       "2        2400         2400          2400.00   36 months   15.96%        84.33   \n",
       "6        7000         7000          7000.00   60 months   15.96%       170.08   \n",
       "8        5600         5600          5600.00   60 months   21.28%       152.39   \n",
       "10       6500         6500          6500.00   60 months   14.65%       153.45   \n",
       "\n",
       "   grade sub_grade emp_length home_ownership  annual_inc verification_status  \\\n",
       "0      B        B2  10+ years           RENT    24000.00            Verified   \n",
       "2      C        C5  10+ years           RENT    12252.00        Not Verified   \n",
       "6      C        C5    8 years           RENT    47004.00        Not Verified   \n",
       "8      F        F2    4 years            OWN    40000.00     Source Verified   \n",
       "10     C        C3    5 years            OWN    72000.00        Not Verified   \n",
       "\n",
       "      issue_d  loan_status                                               desc  \\\n",
       "0  2011-12-01   Fully Paid    Borrower added on 12/22/11 > I need to upgra...   \n",
       "2  2011-12-01   Fully Paid                                                NaN   \n",
       "6  2011-12-01   Fully Paid    Borrower added on 12/18/11 > I am planning o...   \n",
       "8  2011-12-01  Charged Off    Borrower added on 12/21/11 > I own a small h...   \n",
       "10 2011-12-01   Fully Paid    Borrower added on 12/15/11 > I had recived a...   \n",
       "\n",
       "               purpose addr_state   dti application_type  status_flag  \\\n",
       "0          Credit Card         AZ 27.65       INDIVIDUAL            0   \n",
       "2       Small Business         IL  8.72       INDIVIDUAL            0   \n",
       "6   Debt Consolidation         NC 23.51       INDIVIDUAL            0   \n",
       "8       Small Business         CA  5.55       INDIVIDUAL            1   \n",
       "10  Debt Consolidation         AZ 16.12       INDIVIDUAL            0   \n",
       "\n",
       "    issue_m  issue_y  \n",
       "0        12     2011  \n",
       "2        12     2011  \n",
       "6        12     2011  \n",
       "8        12     2011  \n",
       "10       12     2011  "
      ]
     },
     "execution_count": 297,
     "metadata": {},
     "output_type": "execute_result"
    }
   ],
   "source": [
    "loan = loan[loan.purpose.isin(['Credit Card','Debt Consolidation','Home Improv','Major Purchase','Small Business'])]\n",
    "loan.head()"
   ]
  },
  {
   "cell_type": "markdown",
   "metadata": {},
   "source": [
    "### Analysis across Customer Demographic variables - income, employment length, home ownership status etc."
   ]
  },
  {
   "cell_type": "code",
   "execution_count": 298,
   "metadata": {},
   "outputs": [
    {
     "data": {
      "text/plain": [
       "array(['RENT', 'OWN', 'MORTGAGE', 'OTHER', 'NONE'], dtype=object)"
      ]
     },
     "execution_count": 298,
     "metadata": {},
     "output_type": "execute_result"
    }
   ],
   "source": [
    "# Analysis for home ownership\n",
    "# Let us first check the unique values for this column\n",
    "loan.home_ownership.unique()"
   ]
  },
  {
   "cell_type": "code",
   "execution_count": 299,
   "metadata": {},
   "outputs": [
    {
     "data": {
      "text/html": [
       "<div>\n",
       "<style scoped>\n",
       "    .dataframe tbody tr th:only-of-type {\n",
       "        vertical-align: middle;\n",
       "    }\n",
       "\n",
       "    .dataframe tbody tr th {\n",
       "        vertical-align: top;\n",
       "    }\n",
       "\n",
       "    .dataframe thead th {\n",
       "        text-align: right;\n",
       "    }\n",
       "</style>\n",
       "<table border=\"1\" class=\"dataframe\">\n",
       "  <thead>\n",
       "    <tr style=\"text-align: right;\">\n",
       "      <th></th>\n",
       "      <th>loan_amnt</th>\n",
       "      <th>funded_amnt</th>\n",
       "      <th>funded_amnt_inv</th>\n",
       "      <th>term</th>\n",
       "      <th>int_rate</th>\n",
       "      <th>installment</th>\n",
       "      <th>grade</th>\n",
       "      <th>sub_grade</th>\n",
       "      <th>emp_length</th>\n",
       "      <th>home_ownership</th>\n",
       "      <th>annual_inc</th>\n",
       "      <th>verification_status</th>\n",
       "      <th>issue_d</th>\n",
       "      <th>loan_status</th>\n",
       "      <th>desc</th>\n",
       "      <th>purpose</th>\n",
       "      <th>addr_state</th>\n",
       "      <th>dti</th>\n",
       "      <th>application_type</th>\n",
       "      <th>status_flag</th>\n",
       "      <th>issue_m</th>\n",
       "      <th>issue_y</th>\n",
       "    </tr>\n",
       "  </thead>\n",
       "  <tbody>\n",
       "    <tr>\n",
       "      <th>39318</th>\n",
       "      <td>10000</td>\n",
       "      <td>10000</td>\n",
       "      <td>1228.06</td>\n",
       "      <td>36 months</td>\n",
       "      <td>7.75%</td>\n",
       "      <td>312.22</td>\n",
       "      <td>A</td>\n",
       "      <td>A3</td>\n",
       "      <td>5 years</td>\n",
       "      <td>NONE</td>\n",
       "      <td>22200.00</td>\n",
       "      <td>Not Verified</td>\n",
       "      <td>2008-01-01</td>\n",
       "      <td>Fully Paid</td>\n",
       "      <td>I plan to pay off my credit cards, leaving me ...</td>\n",
       "      <td>Debt Consolidation</td>\n",
       "      <td>VA</td>\n",
       "      <td>5.24</td>\n",
       "      <td>INDIVIDUAL</td>\n",
       "      <td>0</td>\n",
       "      <td>1</td>\n",
       "      <td>2008</td>\n",
       "    </tr>\n",
       "  </tbody>\n",
       "</table>\n",
       "</div>"
      ],
      "text/plain": [
       "       loan_amnt  funded_amnt  funded_amnt_inv        term int_rate  \\\n",
       "39318      10000        10000          1228.06   36 months    7.75%   \n",
       "\n",
       "       installment grade sub_grade emp_length home_ownership  annual_inc  \\\n",
       "39318       312.22     A        A3    5 years           NONE    22200.00   \n",
       "\n",
       "      verification_status    issue_d loan_status  \\\n",
       "39318        Not Verified 2008-01-01  Fully Paid   \n",
       "\n",
       "                                                    desc             purpose  \\\n",
       "39318  I plan to pay off my credit cards, leaving me ...  Debt Consolidation   \n",
       "\n",
       "      addr_state  dti application_type  status_flag  issue_m  issue_y  \n",
       "39318         VA 5.24       INDIVIDUAL            0        1     2008  "
      ]
     },
     "execution_count": 299,
     "metadata": {},
     "output_type": "execute_result"
    }
   ],
   "source": [
    "# Checking the data where home ownership is None\n",
    "loan[~loan.home_ownership.isin(['RENT', 'OWN', 'MORTGAGE', 'OTHER'])]"
   ]
  },
  {
   "cell_type": "code",
   "execution_count": 300,
   "metadata": {},
   "outputs": [],
   "source": [
    "# We can see that there is only 1 row where the loan has been paid off, We can ignore this row\n",
    "loan = loan[loan.home_ownership != 'NONE']"
   ]
  },
  {
   "cell_type": "code",
   "execution_count": 301,
   "metadata": {},
   "outputs": [
    {
     "data": {
      "text/plain": [
       "home_ownership  purpose           \n",
       "MORTGAGE        Credit Card           2209\n",
       "                Debt Consolidation    7467\n",
       "                Home Improv           2289\n",
       "                Major Purchase         920\n",
       "                Small Business         898\n",
       "OTHER           Credit Card             11\n",
       "                Debt Consolidation      40\n",
       "                Home Improv              5\n",
       "                Major Purchase           7\n",
       "                Small Business          10\n",
       "OWN             Credit Card            288\n",
       "                Debt Consolidation    1274\n",
       "                Home Improv            322\n",
       "                Major Purchase         232\n",
       "                Small Business         104\n",
       "RENT            Credit Card           2519\n",
       "                Debt Consolidation    9273\n",
       "                Home Improv            259\n",
       "                Major Purchase         991\n",
       "                Small Business         742\n",
       "Name: purpose, dtype: int64"
      ]
     },
     "execution_count": 301,
     "metadata": {},
     "output_type": "execute_result"
    }
   ],
   "source": [
    "loan_by_house_ownership = loan.groupby(['home_ownership','purpose'])['purpose'].count()\n",
    "loan_by_house_ownership"
   ]
  },
  {
   "cell_type": "markdown",
   "metadata": {},
   "source": [
    "#### We can see here that Debt Consolidation is the most popular loan across house ownership categories. Credit Card and Home Improvement are other top contributors."
   ]
  },
  {
   "cell_type": "code",
   "execution_count": 302,
   "metadata": {},
   "outputs": [
    {
     "data": {
      "image/png": "[encoded data removed]",
      "text/plain": [
       "<Figure size 720x432 with 1 Axes>"
      ]
     },
     "metadata": {
      "needs_background": "light"
     },
     "output_type": "display_data"
    }
   ],
   "source": [
    "# Checking the loan default rate across home ownership status\n",
    "plt.figure(figsize=(10, 6))\n",
    "g = sns.barplot(x='home_ownership', y=\"status_flag\", hue='purpose', data=loan, ci=None)\n",
    "_ = g.legend(title='Loan Purpose',bbox_to_anchor=(1, 1))\n",
    "_ = g.set_xlabel(\"Home Ownership\",fontsize=12,fontweight='bold')\n",
    "_ = g.set_ylabel(\"Default Rate\",fontsize=12,fontweight='bold')"
   ]
  },
  {
   "cell_type": "markdown",
   "metadata": {},
   "source": [
    "#### Small Business loans default the most, followed by Debt Consolidation in most of the home ownership segments"
   ]
  },
  {
   "cell_type": "code",
   "execution_count": 303,
   "metadata": {},
   "outputs": [
    {
     "data": {
      "text/plain": [
       "array(['10+ years', '8 years', '4 years', '5 years', '< 1 year',\n",
       "       '3 years', '6 years', '1 year', '2 years', '9 years', '7 years',\n",
       "       nan], dtype=object)"
      ]
     },
     "execution_count": 303,
     "metadata": {},
     "output_type": "execute_result"
    }
   ],
   "source": [
    "# Checking the values that emp_length has\n",
    "loan.emp_length.unique()"
   ]
  },
  {
   "cell_type": "code",
   "execution_count": 304,
   "metadata": {},
   "outputs": [],
   "source": [
    "# We can create buckets of emp_length as follows:\n",
    "# employment length unknown -  \"Unknown\"\n",
    "#  employment <=1 year can be considered as \"Freshers\"\n",
    "#  1 - 3 years of experience can be considered as \"Juniors\"\n",
    "#  4 - 7 years of experience can be considered as \"Seniors\"\n",
    "#  more than 7 years of experience can be considered as \"Experts\"\n",
    "loan['emp_length_category'] = loan.emp_length.apply(lambda x : \"Unknown\" if pd.isna(x) else \"Freshers\" if x in ['< 1 year','1 year'] else \"Juniors\" if x in ['2 years','3 years'] else \"Seniors\" if x in ['4 years','5 years','6 years','7 years'] else \"Experts\")"
   ]
  },
  {
   "cell_type": "code",
   "execution_count": 305,
   "metadata": {},
   "outputs": [
    {
     "data": {
      "text/plain": [
       "emp_length_category  purpose           \n",
       "Experts              Credit Card           1433\n",
       "                     Debt Consolidation    5354\n",
       "                     Home Improv           1110\n",
       "                     Major Purchase         555\n",
       "                     Small Business         448\n",
       "Freshers             Credit Card           1061\n",
       "                     Debt Consolidation    3424\n",
       "                     Home Improv            371\n",
       "                     Major Purchase         449\n",
       "                     Small Business         399\n",
       "Juniors              Credit Card           1060\n",
       "                     Debt Consolidation    3890\n",
       "                     Home Improv            555\n",
       "                     Major Purchase         487\n",
       "                     Small Business         405\n",
       "Seniors              Credit Card           1345\n",
       "                     Debt Consolidation    5006\n",
       "                     Home Improv            749\n",
       "                     Major Purchase         589\n",
       "                     Small Business         458\n",
       "Unknown              Credit Card            128\n",
       "                     Debt Consolidation     380\n",
       "                     Home Improv             90\n",
       "                     Major Purchase          70\n",
       "                     Small Business          44\n",
       "Name: purpose, dtype: int64"
      ]
     },
     "execution_count": 305,
     "metadata": {},
     "output_type": "execute_result"
    }
   ],
   "source": [
    "loan_by_emp_len = loan.groupby(['emp_length_category','purpose'])['purpose'].count()\n",
    "loan_by_emp_len"
   ]
  },
  {
   "cell_type": "markdown",
   "metadata": {},
   "source": [
    "#### We can see that Debt Consolidation is the most popular loan purpose, followed by credit card among all categories."
   ]
  },
  {
   "cell_type": "code",
   "execution_count": 306,
   "metadata": {},
   "outputs": [
    {
     "data": {
      "image/png": "[encoded data removed]",
      "text/plain": [
       "<Figure size 720x432 with 1 Axes>"
      ]
     },
     "metadata": {
      "needs_background": "light"
     },
     "output_type": "display_data"
    }
   ],
   "source": [
    "# Plotting the default rate by purpose across categories of employment length\n",
    "plt.figure(figsize=(10, 6))\n",
    "g = sns.barplot(x='emp_length_category', y=\"status_flag\", hue='purpose', data=loan, ci=None)\n",
    "_ = g.legend(title='Loan Purpose',bbox_to_anchor=(1, 1))\n",
    "_ = g.set_xlabel(\"Employment Length\",fontsize=12,fontweight='bold')\n",
    "_ = g.set_ylabel(\"Default Rate\",fontsize=12,fontweight='bold')"
   ]
  },
  {
   "cell_type": "markdown",
   "metadata": {},
   "source": [
    "#### We can see here that Small Business loans have the most default rate followed by Debt Consolidation except freshers, where Home Improvment loans have the second most default rate"
   ]
  },
  {
   "cell_type": "code",
   "execution_count": 307,
   "metadata": {},
   "outputs": [
    {
     "data": {
      "text/plain": [
       "count     29860.00\n",
       "mean      70223.06\n",
       "std       67784.48\n",
       "min        4080.00\n",
       "5%        25000.00\n",
       "25%       42000.00\n",
       "50%       60000.00\n",
       "75%       84000.00\n",
       "95%      144000.00\n",
       "max     6000000.00\n",
       "Name: annual_inc, dtype: float64"
      ]
     },
     "execution_count": 307,
     "metadata": {},
     "output_type": "execute_result"
    }
   ],
   "source": [
    "# For annual income, checking the distribution that the values have\n",
    "loan.annual_inc.describe(percentiles=[.05, .25, .5, .75, .95])"
   ]
  },
  {
   "cell_type": "code",
   "execution_count": 308,
   "metadata": {},
   "outputs": [],
   "source": [
    "# For annual income analysis, we can create bins of income ranges\n",
    "loan['income_category'] = loan.annual_inc.apply(lambda x : \"< 25K\" if (0 <= x < 25000) else \"25K - 50K\" if (25000 <= x < 50000) else \"50K - 75K\" if (50000 <= x < 75000) else \"75K - 100K\" if (75000 <= x < 100000) else \"> 100K\")\n",
    "income_order = ['< 25K', '25K - 50K', '50K - 75K', '75K - 100K', '> 100K']\n",
    "loan['income_category'] = pd.Categorical(loan['income_category'],categories=income_order, ordered=True)"
   ]
  },
  {
   "cell_type": "code",
   "execution_count": 309,
   "metadata": {},
   "outputs": [
    {
     "data": {
      "text/plain": [
       "income_category  purpose           \n",
       "< 25K            Credit Card            204\n",
       "                 Debt Consolidation     888\n",
       "                 Home Improv             89\n",
       "                 Major Purchase         193\n",
       "                 Small Business          86\n",
       "25K - 50K        Credit Card           1475\n",
       "                 Debt Consolidation    5822\n",
       "                 Home Improv            626\n",
       "                 Major Purchase         727\n",
       "                 Small Business         456\n",
       "50K - 75K        Credit Card           1598\n",
       "                 Debt Consolidation    5845\n",
       "                 Home Improv            798\n",
       "                 Major Purchase         616\n",
       "                 Small Business         542\n",
       "75K - 100K       Credit Card            878\n",
       "                 Debt Consolidation    2988\n",
       "                 Home Improv            575\n",
       "                 Major Purchase         308\n",
       "                 Small Business         316\n",
       "> 100K           Credit Card            872\n",
       "                 Debt Consolidation    2511\n",
       "                 Home Improv            787\n",
       "                 Major Purchase         306\n",
       "                 Small Business         354\n",
       "Name: purpose, dtype: int64"
      ]
     },
     "execution_count": 309,
     "metadata": {},
     "output_type": "execute_result"
    }
   ],
   "source": [
    "# Checking loan distribution across income categories\n",
    "loan_by_inc = loan.groupby(['income_category','purpose'])['purpose'].count()\n",
    "loan_by_inc"
   ]
  },
  {
   "cell_type": "markdown",
   "metadata": {},
   "source": [
    "#### We can see that Debt Consolidation is the most popular loan purpose, followed by credit card among all income groups."
   ]
  },
  {
   "cell_type": "code",
   "execution_count": 310,
   "metadata": {},
   "outputs": [
    {
     "data": {
      "image/png": "[encoded data removed]",
      "text/plain": [
       "<Figure size 720x432 with 1 Axes>"
      ]
     },
     "metadata": {
      "needs_background": "light"
     },
     "output_type": "display_data"
    }
   ],
   "source": [
    "# Plotting the default rate by purpose across categories of income\n",
    "plt.figure(figsize=(10, 6))\n",
    "g = sns.barplot(x='income_category', y=\"status_flag\", hue='purpose', data=loan, ci=None)\n",
    "_ = g.legend(title='Loan Purpose',bbox_to_anchor=(1.25, 1))\n",
    "_ = g.set_xlabel(\"Income Category\",fontsize=12,fontweight='bold')\n",
    "_ = g.set_ylabel(\"Default Rate\",fontsize=12,fontweight='bold')"
   ]
  },
  {
   "cell_type": "markdown",
   "metadata": {},
   "source": [
    "#### We can see that that Small Business has the highest default rate followed by Debt Consolidation in all income categories."
   ]
  },
  {
   "cell_type": "markdown",
   "metadata": {},
   "source": [
    "### It can be seen that the trend is similar for all customer demographics. Debt Consolidaiton and Credit Card are the most popular loans. Small Business and Debt Consolidation have the highest default rate."
   ]
  },
  {
   "cell_type": "markdown",
   "metadata": {},
   "source": [
    "### Analysis for Loan Charecteristics - Interest Rate, Loan Amount, Term, Installment, Verification Status & Grade"
   ]
  },
  {
   "cell_type": "code",
   "execution_count": 311,
   "metadata": {},
   "outputs": [],
   "source": [
    "# For interest rate analysis, we'll first strip out the '%' character and change it to numeric\n",
    "loan['int_rate'] = loan['int_rate'].str[:-1]\n",
    "loan['int_rate'] = pd.to_numeric(loan['int_rate'])"
   ]
  },
  {
   "cell_type": "code",
   "execution_count": 312,
   "metadata": {},
   "outputs": [
    {
     "data": {
      "text/plain": [
       "count   29860.00\n",
       "mean       12.07\n",
       "std         3.72\n",
       "min         5.42\n",
       "5%          6.17\n",
       "25%         9.32\n",
       "50%        11.86\n",
       "75%        14.65\n",
       "95%        18.62\n",
       "max        24.11\n",
       "Name: int_rate, dtype: float64"
      ]
     },
     "execution_count": 312,
     "metadata": {},
     "output_type": "execute_result"
    }
   ],
   "source": [
    "# Let us first see the variation that interest rate shows:\n",
    "loan.int_rate.describe(percentiles=[.05, .25, .5, .75, .95])"
   ]
  },
  {
   "cell_type": "code",
   "execution_count": 313,
   "metadata": {},
   "outputs": [
    {
     "data": {
      "image/png": "[encoded data removed]",
      "text/plain": [
       "<Figure size 216x288 with 1 Axes>"
      ]
     },
     "metadata": {
      "needs_background": "light"
     },
     "output_type": "display_data"
    }
   ],
   "source": [
    "# We can show the same as a box plot\n",
    "g = sns.catplot(y=\"int_rate\", kind=\"box\", data=loan, height=4, aspect=.75)\n",
    "_ = g.set_axis_labels(\"\", \"Interest Rate\")\n",
    "plt.show()"
   ]
  },
  {
   "cell_type": "markdown",
   "metadata": {},
   "source": [
    "#### As we can see, the median interest rate is roughly 12% with majority of the values between 6-18%. Other values above 18% can be clearly considered as outliers."
   ]
  },
  {
   "cell_type": "code",
   "execution_count": 314,
   "metadata": {},
   "outputs": [
    {
     "data": {
      "image/png": "[encoded data removed]",
      "text/plain": [
       "<Figure size 432x288 with 2 Axes>"
      ]
     },
     "metadata": {
      "needs_background": "light"
     },
     "output_type": "display_data"
    }
   ],
   "source": [
    "# Comparing the distribution of interest rate values for Fully Paid and Charged off loans\n",
    "g = sns.catplot(y=\"int_rate\", col='loan_status', kind=\"box\", data=loan, height=4, aspect=.75)\n",
    "_ = g.set_axis_labels(\"\", \"Interest Rate\").set_titles(\"Loan Status - {col_name}\")\n",
    "plt.show()"
   ]
  },
  {
   "cell_type": "markdown",
   "metadata": {},
   "source": [
    "#### It can be seen that loans which default tend who have higher interest rate than loans that don't."
   ]
  },
  {
   "cell_type": "code",
   "execution_count": 315,
   "metadata": {},
   "outputs": [
    {
     "data": {
      "image/png": "[encoded data removed]",
      "text/plain": [
       "<Figure size 720x360 with 1 Axes>"
      ]
     },
     "metadata": {
      "needs_background": "light"
     },
     "output_type": "display_data"
    }
   ],
   "source": [
    "# Plotting interest rates for both types of loans across purposes\n",
    "plt.figure(figsize=(10, 5))\n",
    "g = sns.boxplot(y=\"int_rate\", x='purpose', hue = 'loan_status', data=loan)\n",
    "_ = g.legend(title='Loan Status',bbox_to_anchor=(1, 1))\n",
    "_ = g.set_xlabel(\"Loan Purpose\",fontsize=12,fontweight='bold')\n",
    "_ = g.set_ylabel(\"Interest Rate\",fontsize=12,fontweight='bold')\n",
    "plt.show()"
   ]
  },
  {
   "cell_type": "markdown",
   "metadata": {},
   "source": [
    "#### We can see that above observation holds true across purposes, that loans that default tend to have higher interest rates than those that don't. \n",
    "#### Interest rate must be relevent when predicting the likelihood of a borrower defaulting on the loan."
   ]
  },
  {
   "cell_type": "code",
   "execution_count": 316,
   "metadata": {},
   "outputs": [
    {
     "data": {
      "text/plain": [
       "count   29860.00\n",
       "mean    11963.11\n",
       "std      7441.29\n",
       "min       500.00\n",
       "5%       2850.00\n",
       "25%      6000.00\n",
       "50%     10000.00\n",
       "75%     16000.00\n",
       "95%     25000.00\n",
       "max     35000.00\n",
       "Name: loan_amnt, dtype: float64"
      ]
     },
     "execution_count": 316,
     "metadata": {},
     "output_type": "execute_result"
    }
   ],
   "source": [
    "# For Loan Amount Analysis, let us first see the variation that the loan amount shows:\n",
    "loan.loan_amnt.describe(percentiles=[.05, .25, .5, .75, .95])"
   ]
  },
  {
   "cell_type": "code",
   "execution_count": 317,
   "metadata": {
    "scrolled": true
   },
   "outputs": [
    {
     "data": {
      "image/png": "[encoded data removed]",
      "text/plain": [
       "<Figure size 216x288 with 1 Axes>"
      ]
     },
     "metadata": {
      "needs_background": "light"
     },
     "output_type": "display_data"
    }
   ],
   "source": [
    "# # We can show the same as a box plot\n",
    "g = sns.catplot(y=\"loan_amnt\", kind=\"box\", data=loan, height=4, aspect=.75)\n",
    "_ = g.set_axis_labels(\"\", \"Loan Amount\")\n",
    "plt.show()"
   ]
  },
  {
   "cell_type": "markdown",
   "metadata": {},
   "source": [
    "#### Above, we're studying the distribution of loan amount. We also note the level above which we observe outliers in the data."
   ]
  },
  {
   "cell_type": "code",
   "execution_count": 318,
   "metadata": {},
   "outputs": [
    {
     "data": {
      "image/png": "[encoded data removed]",
      "text/plain": [
       "<Figure size 432x288 with 2 Axes>"
      ]
     },
     "metadata": {
      "needs_background": "light"
     },
     "output_type": "display_data"
    }
   ],
   "source": [
    "# comparing the distribution of loan amount values for Fully Paid loans and Defaulted loans\n",
    "g = sns.catplot(y=\"loan_amnt\", col='loan_status', kind=\"box\", data=loan, height=4, aspect=.75)\n",
    "_ = g.set_axis_labels(\"\", \"Loan Amount\").set_titles(\"Loan Status - {col_name}\")\n",
    "plt.show()"
   ]
  },
  {
   "cell_type": "code",
   "execution_count": 319,
   "metadata": {},
   "outputs": [
    {
     "data": {
      "image/png": "[encoded data removed]",
      "text/plain": [
       "<Figure size 720x360 with 1 Axes>"
      ]
     },
     "metadata": {
      "needs_background": "light"
     },
     "output_type": "display_data"
    }
   ],
   "source": [
    "# Plotting loan amount distribution for both types of loans across purposes\n",
    "plt.figure(figsize=(10, 5))\n",
    "g = sns.boxplot(y=\"loan_amnt\", x='purpose', hue = 'loan_status', data=loan)\n",
    "_ = g.legend(title='Loan Status',bbox_to_anchor=(1, 1))\n",
    "_ = g.set_xlabel(\"Loan Purpose\",fontsize=12,fontweight='bold')\n",
    "_ = g.set_ylabel(\"Loan Amount\",fontsize=12,fontweight='bold')\n",
    "plt.show()"
   ]
  },
  {
   "cell_type": "markdown",
   "metadata": {},
   "source": [
    "#### Here we can see that for the purposes which have a higher default rate (Small business, debt consolidation and credit card), the median borrowed amount is higher in case of the defaulted loans. "
   ]
  },
  {
   "cell_type": "code",
   "execution_count": 320,
   "metadata": {
    "scrolled": true
   },
   "outputs": [
    {
     "data": {
      "image/png": "[encoded data removed]",
      "text/plain": [
       "<Figure size 288x288 with 1 Axes>"
      ]
     },
     "metadata": {
      "needs_background": "light"
     },
     "output_type": "display_data"
    }
   ],
   "source": [
    "# Plotting the count of loans by term period categorized by loan status\n",
    "g = sns.catplot(x=\"term\", hue='loan_status', kind=\"count\", data=loan, height=4, legend=False)\n",
    "_ = g.set_axis_labels(\"Loan Term\", \"No. of loans\")\n",
    "plt.legend(title='Loan Status',loc='upper right')\n",
    "plt.show()"
   ]
  },
  {
   "cell_type": "markdown",
   "metadata": {},
   "source": [
    "#### We can see that the number of defaulters is almost the same for both the term periods. However there's a noticeable difference when it comes to fully paid loans. \n",
    "#### This indicates a higher likelyhood of default on loans with the longer term period of 60 months."
   ]
  },
  {
   "cell_type": "code",
   "execution_count": 321,
   "metadata": {
    "scrolled": true
   },
   "outputs": [
    {
     "data": {
      "image/png": "[encoded data removed]",
      "text/plain": [
       "<Figure size 576x288 with 1 Axes>"
      ]
     },
     "metadata": {
      "needs_background": "light"
     },
     "output_type": "display_data"
    }
   ],
   "source": [
    "# Plotting the default rate across purposes categorised by term\n",
    "plt.figure(figsize=(8, 4))\n",
    "g = sns.barplot(x='term', y=\"status_flag\", hue='purpose', data=loan, ci=None)\n",
    "_ = g.legend(title='Loan Purpose',bbox_to_anchor=(1, 1))\n",
    "_ = g.set_xlabel(\"Term\",fontsize=12,fontweight='bold')\n",
    "_ = g.set_ylabel(\"Default Rate\",fontsize=12,fontweight='bold')"
   ]
  },
  {
   "cell_type": "markdown",
   "metadata": {},
   "source": [
    "#### The observation made able is consistent across purposes, the default rate is high for loans with a higher term."
   ]
  },
  {
   "cell_type": "code",
   "execution_count": 322,
   "metadata": {},
   "outputs": [
    {
     "data": {
      "text/plain": [
       "count   29860.00\n",
       "mean      348.63\n",
       "std       210.94\n",
       "min        16.25\n",
       "5%         87.02\n",
       "25%       189.95\n",
       "50%       310.10\n",
       "75%       463.30\n",
       "95%       790.86\n",
       "max      1305.19\n",
       "Name: installment, dtype: float64"
      ]
     },
     "execution_count": 322,
     "metadata": {},
     "output_type": "execute_result"
    }
   ],
   "source": [
    "# For installment Analysis, let us first see the variation that the loan amount shows:\n",
    "loan.installment.describe(percentiles=[.05, .25, .5, .75, .95])"
   ]
  },
  {
   "cell_type": "code",
   "execution_count": 323,
   "metadata": {},
   "outputs": [
    {
     "data": {
      "image/png": "[encoded data removed]",
      "text/plain": [
       "<Figure size 216x288 with 1 Axes>"
      ]
     },
     "metadata": {
      "needs_background": "light"
     },
     "output_type": "display_data"
    }
   ],
   "source": [
    "# we can also show it as a box plot\n",
    "g = sns.catplot(y=\"installment\", kind=\"box\", data=loan, height=4, aspect=.75)\n",
    "_ = g.set_axis_labels(\"\", \"Loan Amount\")\n",
    "plt.show()"
   ]
  },
  {
   "cell_type": "markdown",
   "metadata": {},
   "source": [
    "#### We can see here that most of the loan installments are from 100-800. There are quite a few outliers as well."
   ]
  },
  {
   "cell_type": "code",
   "execution_count": 324,
   "metadata": {},
   "outputs": [
    {
     "data": {
      "image/png": "[encoded data removed]",
      "text/plain": [
       "<Figure size 432x288 with 2 Axes>"
      ]
     },
     "metadata": {
      "needs_background": "light"
     },
     "output_type": "display_data"
    }
   ],
   "source": [
    "# Comparing the distribution of installment values for Fully Paid and Charged off laons\n",
    "g = sns.catplot(y=\"installment\", col='loan_status', kind=\"box\", data=loan, height=4, aspect=.75)\n",
    "_ = g.set_axis_labels(\"\", \"Installment\").set_titles(\"Loan Status - {col_name}\")\n",
    "plt.show()"
   ]
  },
  {
   "cell_type": "markdown",
   "metadata": {},
   "source": [
    "#### We can see in the  above plot that installment value doesn't have much significance in a loan being defaulted."
   ]
  },
  {
   "cell_type": "code",
   "execution_count": 325,
   "metadata": {},
   "outputs": [
    {
     "data": {
      "image/png": "[encoded data removed]",
      "text/plain": [
       "<Figure size 360x288 with 1 Axes>"
      ]
     },
     "metadata": {
      "needs_background": "light"
     },
     "output_type": "display_data"
    }
   ],
   "source": [
    "# Plotting the default rate across verification status\n",
    "plt.figure(figsize=(5, 4))\n",
    "g = sns.barplot(x='verification_status', y=\"status_flag\", data=loan, ci=None)\n",
    "_ = g.set_xlabel(\"Verification Status\",fontsize=12,fontweight='bold')\n",
    "_ = g.set_ylabel(\"Default Rate\",fontsize=12,fontweight='bold')"
   ]
  },
  {
   "cell_type": "markdown",
   "metadata": {},
   "source": [
    "#### We can see a strange observation here that verified loans have a higher default rate than others."
   ]
  },
  {
   "cell_type": "code",
   "execution_count": 326,
   "metadata": {},
   "outputs": [
    {
     "data": {
      "image/png": "[encoded data removed]",
      "text/plain": [
       "<Figure size 720x432 with 1 Axes>"
      ]
     },
     "metadata": {
      "needs_background": "light"
     },
     "output_type": "display_data"
    }
   ],
   "source": [
    "# Plotting the default rate by verification status across categories of purpose\n",
    "plt.figure(figsize=(10, 6))\n",
    "g = sns.barplot(x='verification_status', y=\"status_flag\", hue='purpose', data=loan, ci=None)\n",
    "_ = g.legend(title='Loan Purpose',bbox_to_anchor=(1.25, 1))\n",
    "_ = g.set_xlabel(\"Verification Status\",fontsize=12,fontweight='bold')\n",
    "_ = g.set_ylabel(\"Default Rate\",fontsize=12,fontweight='bold')"
   ]
  },
  {
   "cell_type": "markdown",
   "metadata": {},
   "source": [
    "#### We can see that except Home Improvement, for all other purpose categories verified loans have a higher default rate."
   ]
  },
  {
   "cell_type": "code",
   "execution_count": 327,
   "metadata": {},
   "outputs": [
    {
     "data": {
      "image/png": "[encoded data removed]",
      "text/plain": [
       "<Figure size 720x432 with 1 Axes>"
      ]
     },
     "metadata": {
      "needs_background": "light"
     },
     "output_type": "display_data"
    }
   ],
   "source": [
    "# Plotting the default rate by verification status across categories of income\n",
    "plt.figure(figsize=(10, 6))\n",
    "g = sns.barplot(x='verification_status', y=\"status_flag\", hue='income_category', data=loan, ci=None)\n",
    "_ = g.legend(title='Income Class',bbox_to_anchor=(1.25, 1))\n",
    "_ = g.set_xlabel(\"Verification Status\",fontsize=12,fontweight='bold')\n",
    "_ = g.set_ylabel(\"Default Rate\",fontsize=12,fontweight='bold')"
   ]
  },
  {
   "cell_type": "markdown",
   "metadata": {},
   "source": [
    "#### This is a striking observation that for all verification statuses, lower income groups have a higher default rate than higher income groups.\n",
    "#### Also, borrowers who're not verified have a larger contribution to the business and maintain a lower default rate as compared to verified and source-verified customers."
   ]
  },
  {
   "cell_type": "code",
   "execution_count": 328,
   "metadata": {},
   "outputs": [
    {
     "data": {
      "text/html": [
       "<div>\n",
       "<style scoped>\n",
       "    .dataframe tbody tr th:only-of-type {\n",
       "        vertical-align: middle;\n",
       "    }\n",
       "\n",
       "    .dataframe tbody tr th {\n",
       "        vertical-align: top;\n",
       "    }\n",
       "\n",
       "    .dataframe thead th {\n",
       "        text-align: right;\n",
       "    }\n",
       "</style>\n",
       "<table border=\"1\" class=\"dataframe\">\n",
       "  <thead>\n",
       "    <tr style=\"text-align: right;\">\n",
       "      <th></th>\n",
       "      <th>funded_amnt</th>\n",
       "    </tr>\n",
       "    <tr>\n",
       "      <th>grade</th>\n",
       "      <th></th>\n",
       "    </tr>\n",
       "  </thead>\n",
       "  <tbody>\n",
       "    <tr>\n",
       "      <th>B</th>\n",
       "      <td>29.79</td>\n",
       "    </tr>\n",
       "    <tr>\n",
       "      <th>C</th>\n",
       "      <td>20.06</td>\n",
       "    </tr>\n",
       "    <tr>\n",
       "      <th>A</th>\n",
       "      <td>19.06</td>\n",
       "    </tr>\n",
       "    <tr>\n",
       "      <th>D</th>\n",
       "      <td>15.03</td>\n",
       "    </tr>\n",
       "    <tr>\n",
       "      <th>E</th>\n",
       "      <td>10.22</td>\n",
       "    </tr>\n",
       "    <tr>\n",
       "      <th>F</th>\n",
       "      <td>4.33</td>\n",
       "    </tr>\n",
       "    <tr>\n",
       "      <th>G</th>\n",
       "      <td>1.50</td>\n",
       "    </tr>\n",
       "  </tbody>\n",
       "</table>\n",
       "</div>"
      ],
      "text/plain": [
       "       funded_amnt\n",
       "grade             \n",
       "B            29.79\n",
       "C            20.06\n",
       "A            19.06\n",
       "D            15.03\n",
       "E            10.22\n",
       "F             4.33\n",
       "G             1.50"
      ]
     },
     "execution_count": 328,
     "metadata": {},
     "output_type": "execute_result"
    }
   ],
   "source": [
    "# %age of business brought by grade\n",
    "loan_by_grade = pd.DataFrame(loan.groupby('grade').funded_amnt.sum().sort_values(ascending=False))\n",
    "loan_by_grade_pct = pd.DataFrame(loan_by_grade.funded_amnt*100/loan_by_grade.funded_amnt.sum())\n",
    "loan_by_grade_pct"
   ]
  },
  {
   "cell_type": "markdown",
   "metadata": {},
   "source": [
    "#### We can see that most of the business (> 80%) is in the 4 grades A, B, C and D"
   ]
  },
  {
   "cell_type": "code",
   "execution_count": 329,
   "metadata": {},
   "outputs": [
    {
     "data": {
      "image/png": "[encoded data removed]",
      "text/plain": [
       "<Figure size 720x432 with 1 Axes>"
      ]
     },
     "metadata": {
      "needs_background": "light"
     },
     "output_type": "display_data"
    }
   ],
   "source": [
    "# Plotting the default rate across grade\n",
    "plt.figure(figsize=(10, 6))\n",
    "grade_order = [\"A\", \"B\", \"C\", \"D\",\"E\",\"F\",\"G\"]\n",
    "loan['grade'] = pd.Categorical(loan['grade'],categories=grade_order, ordered=True)\n",
    "g = sns.barplot(x='grade', y=\"status_flag\", data=loan, ci=None)\n",
    "_ = g.set_xlabel(\"Grade\",fontsize=12,fontweight='bold')\n",
    "_ = g.set_ylabel(\"Default Rate\",fontsize=12,fontweight='bold')"
   ]
  },
  {
   "cell_type": "markdown",
   "metadata": {},
   "source": [
    "#### We can see here that the although the default rate for grade A is low (less than 5%), default rate for B(~12%), C(~17%) and D(~21%) is high. We will now analyse the sub grades for grades A, B, C and \n",
    "#### Grades E, F and G have higher default rates, but combined they bring only 15% of revenue. A small improvement in grades A, B, C and D w.r.t. default rate can significantly decrease the credit loss."
   ]
  },
  {
   "cell_type": "code",
   "execution_count": 330,
   "metadata": {},
   "outputs": [
    {
     "data": {
      "image/png": "[encoded data removed]",
      "text/plain": [
       "<Figure size 720x432 with 1 Axes>"
      ]
     },
     "metadata": {
      "needs_background": "light"
     },
     "output_type": "display_data"
    }
   ],
   "source": [
    "# Plotting the default rate across sub-grades\n",
    "plt.figure(figsize=(10, 6))\n",
    "g = sns.barplot(x='sub_grade', y=\"status_flag\", data=loan[loan.grade.isin(['A','B','C','D'])].sort_values(by='grade'), ci=None)\n",
    "_ = g.set_xlabel(\"Sub-Grade\",fontsize=12,fontweight='bold')\n",
    "_ = g.set_ylabel(\"Default Rate\",fontsize=12,fontweight='bold')"
   ]
  },
  {
   "cell_type": "markdown",
   "metadata": {},
   "source": [
    "#### We can see here that the default rates for the sub-grades are in line with order of the default rate for the grades."
   ]
  },
  {
   "cell_type": "markdown",
   "metadata": {},
   "source": [
    "### Correlation Study"
   ]
  },
  {
   "cell_type": "code",
   "execution_count": 331,
   "metadata": {},
   "outputs": [],
   "source": [
    "loan['term_month'] = loan['term'].apply(lambda x: x[:2])\n",
    "loan['term_month'] = pd.to_numeric(loan['term_month'])\n",
    "loan['emp_length'] = loan['emp_length'].apply(lambda x: str(x).replace('<',''))\n",
    "loan['emp_length'] = loan['emp_length'].apply(lambda x: str(x).replace(' years',''))\n",
    "loan['emp_length'] = loan['emp_length'].apply(lambda x: str(x).replace(' year',''))\n",
    "loan['emp_length'] = loan['emp_length'].apply(lambda x: str(x).replace('+',''))\n",
    "loan['emp_length'] = loan['emp_length'].apply(lambda x: str(x).replace('nan','0'))\n",
    "loan['emp_length'] = pd.to_numeric(loan['emp_length'])\n",
    "#adding derived metric for correlating as a numeric value\n",
    "\n",
    "corr_loans = loan"
   ]
  },
  {
   "cell_type": "markdown",
   "metadata": {},
   "source": [
    "We create a copy of our dataset for the correlation study. \n",
    "Below, we remove the outlier values in Interest rate, loan amount, annual income and installments. \n",
    "\n",
    "Since these columns have few values that are very large when compared to their medians, we mark them as outliers and remove them from this part of the analysis"
   ]
  },
  {
   "cell_type": "code",
   "execution_count": 332,
   "metadata": {},
   "outputs": [],
   "source": [
    "# To remove outliers, as a standard, we are using 95 percentile as the max value.\n",
    "# The 95 %ile values have been shown in the respective analysis done above.\n",
    "corr_loans = corr_loans[corr_loans['int_rate']<=18.62]\n",
    "corr_loans = corr_loans[corr_loans['loan_amnt']<=25000]\n",
    "corr_loans = corr_loans[corr_loans['annual_inc']<=144000]\n",
    "corr_loans = corr_loans[corr_loans['installment']<=790.86]"
   ]
  },
  {
   "cell_type": "markdown",
   "metadata": {},
   "source": [
    "."
   ]
  },
  {
   "cell_type": "code",
   "execution_count": 333,
   "metadata": {},
   "outputs": [
    {
     "data": {
      "text/html": [
       "<div>\n",
       "<style scoped>\n",
       "    .dataframe tbody tr th:only-of-type {\n",
       "        vertical-align: middle;\n",
       "    }\n",
       "\n",
       "    .dataframe tbody tr th {\n",
       "        vertical-align: top;\n",
       "    }\n",
       "\n",
       "    .dataframe thead th {\n",
       "        text-align: right;\n",
       "    }\n",
       "</style>\n",
       "<table border=\"1\" class=\"dataframe\">\n",
       "  <thead>\n",
       "    <tr style=\"text-align: right;\">\n",
       "      <th></th>\n",
       "      <th>Status Flag</th>\n",
       "      <th>Loan Amount</th>\n",
       "      <th>Term</th>\n",
       "      <th>Installment</th>\n",
       "      <th>Employment Length</th>\n",
       "      <th>Interest Rate</th>\n",
       "      <th>DTI</th>\n",
       "      <th>Annual Income</th>\n",
       "    </tr>\n",
       "  </thead>\n",
       "  <tbody>\n",
       "    <tr>\n",
       "      <th>0</th>\n",
       "      <td>0</td>\n",
       "      <td>5000</td>\n",
       "      <td>3</td>\n",
       "      <td>162.87</td>\n",
       "      <td>10</td>\n",
       "      <td>10.65</td>\n",
       "      <td>27.65</td>\n",
       "      <td>24000.00</td>\n",
       "    </tr>\n",
       "    <tr>\n",
       "      <th>2</th>\n",
       "      <td>0</td>\n",
       "      <td>2400</td>\n",
       "      <td>3</td>\n",
       "      <td>84.33</td>\n",
       "      <td>10</td>\n",
       "      <td>15.96</td>\n",
       "      <td>8.72</td>\n",
       "      <td>12252.00</td>\n",
       "    </tr>\n",
       "    <tr>\n",
       "      <th>6</th>\n",
       "      <td>0</td>\n",
       "      <td>7000</td>\n",
       "      <td>6</td>\n",
       "      <td>170.08</td>\n",
       "      <td>8</td>\n",
       "      <td>15.96</td>\n",
       "      <td>23.51</td>\n",
       "      <td>47004.00</td>\n",
       "    </tr>\n",
       "    <tr>\n",
       "      <th>10</th>\n",
       "      <td>0</td>\n",
       "      <td>6500</td>\n",
       "      <td>6</td>\n",
       "      <td>153.45</td>\n",
       "      <td>5</td>\n",
       "      <td>14.65</td>\n",
       "      <td>16.12</td>\n",
       "      <td>72000.00</td>\n",
       "    </tr>\n",
       "    <tr>\n",
       "      <th>11</th>\n",
       "      <td>0</td>\n",
       "      <td>12000</td>\n",
       "      <td>3</td>\n",
       "      <td>402.54</td>\n",
       "      <td>10</td>\n",
       "      <td>12.69</td>\n",
       "      <td>10.78</td>\n",
       "      <td>75000.00</td>\n",
       "    </tr>\n",
       "  </tbody>\n",
       "</table>\n",
       "</div>"
      ],
      "text/plain": [
       "    Status Flag  Loan Amount  Term  Installment  Employment Length  \\\n",
       "0             0         5000     3       162.87                 10   \n",
       "2             0         2400     3        84.33                 10   \n",
       "6             0         7000     6       170.08                  8   \n",
       "10            0         6500     6       153.45                  5   \n",
       "11            0        12000     3       402.54                 10   \n",
       "\n",
       "    Interest Rate   DTI  Annual Income  \n",
       "0           10.65 27.65       24000.00  \n",
       "2           15.96  8.72       12252.00  \n",
       "6           15.96 23.51       47004.00  \n",
       "10          14.65 16.12       72000.00  \n",
       "11          12.69 10.78       75000.00  "
      ]
     },
     "execution_count": 333,
     "metadata": {},
     "output_type": "execute_result"
    }
   ],
   "source": [
    "#create new dataframe for the correlation matrix\n",
    "corr = pd.DataFrame()\n",
    "corr['status_flag'] = corr_loans['status_flag']\n",
    "corr['loan_amnt'] = corr_loans['loan_amnt']\n",
    "corr['term_month'] = corr_loans['term_month']\n",
    "corr['term_month'] = corr['term_month']\n",
    "corr['installment'] = corr_loans['installment']\n",
    "corr['emp_length'] = corr_loans['emp_length']\n",
    "corr['int_rate'] = corr_loans['int_rate']\n",
    "corr['dti'] = corr_loans['dti']\n",
    "corr['annual_inc'] = corr_loans['annual_inc']\n",
    "corr.columns = ['Status Flag', 'Loan Amount', 'Term', 'Installment', 'Employment Length', 'Interest Rate', 'DTI', 'Annual Income']\n",
    "corr.head()"
   ]
  },
  {
   "cell_type": "code",
   "execution_count": 334,
   "metadata": {
    "scrolled": true
   },
   "outputs": [
    {
     "data": {
      "image/png": "[encoded data removed]",
      "text/plain": [
       "<Figure size 432x288 with 2 Axes>"
      ]
     },
     "metadata": {
      "needs_background": "light"
     },
     "output_type": "display_data"
    }
   ],
   "source": [
    "_ = sns.heatmap(corr.corr(), annot=True)"
   ]
  },
  {
   "cell_type": "markdown",
   "metadata": {},
   "source": [
    "The correlation heat-map tells the following about defaulters:\n",
    "1. Longer term period most likely comes with a higher interest rate. It also suggests higher loan amount and installment.\n",
    "    1.1 These factors show a higher likelihood of defaulting.\n",
    "\n",
    "2. Income is negatively correlated, although the value is small. This is in-line with lower default rates observed in high income groups and vice versa. \n",
    "\n",
    "3. Larger installment is not very strongly correlated with defaulting. However when coupled with high interest rate and loan amount it becomes significant. \n",
    "\n",
    "4. It also shows that high income borrowers taking small low interest loans are less likely to default.\n",
    "    "
   ]
  }
 ],
 "metadata": {
  "kernelspec": {
   "display_name": "Python 3",
   "language": "python",
   "name": "python3"
  },
  "language_info": {
   "codemirror_mode": {
    "name": "ipython",
    "version": 3
   },
   "file_extension": ".py",
   "mimetype": "text/x-python",
   "name": "python",
   "nbconvert_exporter": "python",
   "pygments_lexer": "ipython3",
   "version": "3.7.3"
  }
 },
 "nbformat": 4,
 "nbformat_minor": 2
}
